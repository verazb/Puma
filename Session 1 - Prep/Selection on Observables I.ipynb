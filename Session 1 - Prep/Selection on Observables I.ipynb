{
 "cells": [
  {
   "cell_type": "markdown",
   "metadata": {},
   "source": [
    "**Applied Empirical Analysis (HS 2020)**\n",
    "\n",
    "**Conny Wunsch, Ulrike Unterhofer and Véra Zabrodina** -- University of Basel\n",
    "\n",
    "***\n",
    "\n",
    "# Lab Session 1 - Selection on Observables\n",
    "\n",
    "***\n"
   ]
  },
  {
   "cell_type": "markdown",
   "metadata": {},
   "source": [
    "## Application: What Did All the Money Do? On the General Ineffectiveness of Recent West German Labour Market Programmes\n",
    "**Conny Wunsch and Michael Lechner, Kyklos 2008**\n"
   ]
  },
  {
   "cell_type": "markdown",
   "metadata": {},
   "source": [
    "***\n",
    "## 1. Introduction"
   ]
  },
  {
   "cell_type": "markdown",
   "metadata": {},
   "source": [
    "\n",
    "* What is the research question?\n",
    "\n",
    "* Why is this question of interest?\n",
    "\n",
    "* What are the treatments and the outcomes? \n",
    "\n",
    "* Why can you not just regress the outcome on the treatment, i.e. what is the endogeneity problem? \n"
   ]
  },
  {
   "cell_type": "markdown",
   "metadata": {},
   "source": [
    "We use a simulated data set and similar setting to evaluate a training program for unemployed workers."
   ]
  },
  {
   "cell_type": "markdown",
   "metadata": {},
   "source": [
    "***\n",
    "\n",
    "## 2. Setup and Data\n",
    "\n",
    "* Evaluate the effect of an **online application coaching program for unemployed workers** on their employment outcomes\n",
    "* This full-time course can only be started within the first month of unemployment, and lasts for **1 month**.\n",
    "* Any worker can voluntarily participate, in agreement with their randomly-assigned caseworker. \n",
    "* Participation is however mandatory for all workers older than 60.\n",
    "* Caseworkers are instructed to encourage older workers, as well as women with lower education to participate. \n",
    "* The program's capacity is limited each month.\n",
    "\n",
    "* We have representative data on unemployment spells that started in 20XX, with a rich set of observable individual characteristics."
   ]
  },
  {
   "cell_type": "markdown",
   "metadata": {},
   "source": [
    "***\n",
    "\n",
    "## 3. Identification strategy and assumptions"
   ]
  },
  {
   "cell_type": "markdown",
   "metadata": {},
   "source": [
    "## Today we stay in the parametric world"
   ]
  },
  {
   "cell_type": "markdown",
   "metadata": {},
   "source": [
    "### Notation\n",
    "\n",
    "\n",
    "* $Y^*_{0i}$ ... potential outcome under no participation\n",
    "* $Y^*_{1i}$ ... potential outcome under participation\n",
    "* $Y_{0i}$, $Y_{1i}$  ... observed outcomes\n",
    "\n",
    "Effects of interest:\n",
    "\n",
    "* ATE = ${\\rm E} [Y^*_{1} - Y^*_{0}]$\n",
    "\n",
    "* ATET = ${\\rm E} [Y^*_{1} - Y^*_{0}|D=1]$\n",
    "\n",
    "* ATENT = ${\\rm E} [Y^*_{1} - Y^*_{0}|D=0]$\n",
    " "
   ]
  },
  {
   "cell_type": "markdown",
   "metadata": {},
   "source": [
    "\n",
    "\n",
    "We estimate the effect of participating in the training program $(D=1)$ by:\n",
    "\n",
    "$Y_i=\\alpha+\\delta D_i+\\sum_{k=1}^K\\beta_kX_{i,k}+U_i$\n",
    "\n",
    "What does $\\delta$ claim to measure?\n",
    "\n"
   ]
  },
  {
   "cell_type": "markdown",
   "metadata": {},
   "source": [
    "### Discussion of assumptions\n",
    "\n",
    "What do these assumptions mean in words?\n",
    "\n",
    "*\tWhat could invalidate them? Think of concrete examples or mechanisms.\n",
    "\n",
    "*\tWhich arguments or evidence can you provide to support that they hold?\n",
    "\n",
    "\n",
    "**A1 Stable unit treatment value assumption (SUTVA):**\n",
    "\n",
    "$Y_i=D_iY^*_{1,i}+(1-D_i)Y^*_{0,i}$\n",
    "\n",
    "\n",
    "**A2 Zero conditional mean error:**\n",
    "\n",
    "$E[U_i|D=D_i,X=X_i]=0$ \n",
    "\n",
    "implies that there are no unobserved variables $U_i$ that are correlated with the treatment conditional on $X$.\n",
    "\n",
    "\n",
    "**A3 Linearity:**\n",
    "\n",
    "$E[Y_i|D=D_i,X=X_i]=\\alpha+\\delta D_i+\\sum_{k=1}^K\\beta_kX_{i,k}$\n",
    "\n",
    "\n",
    "**A4 Effect homogeneity:**\n",
    "\n",
    "$E[Y^*_{1,i}-Y^*_{0,i}]=\\delta\\quad\\forall\\ i$"
   ]
  },
  {
   "cell_type": "markdown",
   "metadata": {},
   "source": [
    "This implies $\\delta = ATE = ATET = ATENT$."
   ]
  },
  {
   "cell_type": "markdown",
   "metadata": {},
   "source": [
    "***\n",
    "## 4. Empirical Analysis"
   ]
  },
  {
   "cell_type": "markdown",
   "metadata": {},
   "source": [
    "### Load Packages and set directory"
   ]
  },
  {
   "cell_type": "code",
   "execution_count": 1,
   "metadata": {
    "scrolled": false
   },
   "outputs": [
    {
     "name": "stderr",
     "output_type": "stream",
     "text": [
      "Loading required package: tidyverse\n",
      "\n",
      "Warning message:\n",
      "\"package 'tidyverse' was built under R version 3.6.3\"\n",
      "Error: package or namespace load failed for 'tidyverse' in loadNamespace(j <- i[[1L]], c(lib.loc, .libPaths()), versionCheck = vI[[j]]):\n",
      " namespace 'tibble' 2.1.3 is already loaded, but >= 3.0.0 is required\n",
      "\n",
      "Loading required package: Hmisc\n",
      "\n",
      "Warning message:\n",
      "\"package 'Hmisc' was built under R version 3.6.3\"\n",
      "Loading required package: lattice\n",
      "\n",
      "Loading required package: survival\n",
      "\n",
      "Warning message:\n",
      "\"package 'survival' was built under R version 3.6.3\"\n",
      "Loading required package: Formula\n",
      "\n",
      "Loading required package: ggplot2\n",
      "\n",
      "Warning message:\n",
      "\"package 'ggplot2' was built under R version 3.6.3\"\n",
      "\n",
      "Attaching package: 'Hmisc'\n",
      "\n",
      "\n",
      "The following objects are masked from 'package:base':\n",
      "\n",
      "    format.pval, units\n",
      "\n",
      "\n",
      "Loading required package: dplyr\n",
      "\n",
      "Warning message:\n",
      "\"package 'dplyr' was built under R version 3.6.3\"\n",
      "\n",
      "Attaching package: 'dplyr'\n",
      "\n",
      "\n",
      "The following objects are masked from 'package:Hmisc':\n",
      "\n",
      "    src, summarize\n",
      "\n",
      "\n",
      "The following objects are masked from 'package:stats':\n",
      "\n",
      "    filter, lag\n",
      "\n",
      "\n",
      "The following objects are masked from 'package:base':\n",
      "\n",
      "    intersect, setdiff, setequal, union\n",
      "\n",
      "\n",
      "Loading required package: fastDummies\n",
      "\n",
      "Warning message:\n",
      "\"package 'fastDummies' was built under R version 3.6.3\"\n",
      "Loading required package: tidyr\n",
      "\n",
      "Warning message:\n",
      "\"package 'tidyr' was built under R version 3.6.3\"\n",
      "Loading required package: knitr\n",
      "\n",
      "Warning message:\n",
      "\"package 'knitr' was built under R version 3.6.3\"\n",
      "Loading required package: xtable\n",
      "\n",
      "Warning message:\n",
      "\"package 'xtable' was built under R version 3.6.3\"\n",
      "\n",
      "Attaching package: 'xtable'\n",
      "\n",
      "\n",
      "The following objects are masked from 'package:Hmisc':\n",
      "\n",
      "    label, label<-\n",
      "\n",
      "\n",
      "Loading required package: lubridate\n",
      "\n",
      "Warning message:\n",
      "\"package 'lubridate' was built under R version 3.6.3\"\n",
      "\n",
      "Attaching package: 'lubridate'\n",
      "\n",
      "\n",
      "The following objects are masked from 'package:base':\n",
      "\n",
      "    date, intersect, setdiff, union\n",
      "\n",
      "\n",
      "Loading required package: data.table\n",
      "\n",
      "Warning message:\n",
      "\"package 'data.table' was built under R version 3.6.3\"\n",
      "\n",
      "Attaching package: 'data.table'\n",
      "\n",
      "\n",
      "The following objects are masked from 'package:lubridate':\n",
      "\n",
      "    hour, isoweek, mday, minute, month, quarter, second, wday, week,\n",
      "    yday, year\n",
      "\n",
      "\n",
      "The following objects are masked from 'package:dplyr':\n",
      "\n",
      "    between, first, last\n",
      "\n",
      "\n",
      "Loading required package: stargazer\n",
      "\n",
      "\n",
      "Please cite as: \n",
      "\n",
      "\n",
      " Hlavac, Marek (2018). stargazer: Well-Formatted Regression and Summary Statistics Tables.\n",
      "\n",
      " R package version 5.2.2. https://CRAN.R-project.org/package=stargazer \n",
      "\n",
      "\n",
      "Loading required package: mfx\n",
      "\n",
      "Warning message:\n",
      "\"package 'mfx' was built under R version 3.6.3\"\n",
      "Loading required package: sandwich\n",
      "\n",
      "Warning message:\n",
      "\"package 'sandwich' was built under R version 3.6.3\"\n",
      "Loading required package: lmtest\n",
      "\n",
      "Warning message:\n",
      "\"package 'lmtest' was built under R version 3.6.3\"\n",
      "Loading required package: zoo\n",
      "\n",
      "Warning message:\n",
      "\"package 'zoo' was built under R version 3.6.3\"\n",
      "\n",
      "Attaching package: 'zoo'\n",
      "\n",
      "\n",
      "The following objects are masked from 'package:base':\n",
      "\n",
      "    as.Date, as.Date.numeric\n",
      "\n",
      "\n",
      "Loading required package: MASS\n",
      "\n",
      "\n",
      "Attaching package: 'MASS'\n",
      "\n",
      "\n",
      "The following object is masked from 'package:dplyr':\n",
      "\n",
      "    select\n",
      "\n",
      "\n",
      "Loading required package: betareg\n",
      "\n",
      "Warning message:\n",
      "\"package 'betareg' was built under R version 3.6.3\"\n",
      "Loading required package: jtools\n",
      "\n",
      "Warning message:\n",
      "\"package 'jtools' was built under R version 3.6.3\"\n",
      "\n",
      "Attaching package: 'jtools'\n",
      "\n",
      "\n",
      "The following object is masked from 'package:Hmisc':\n",
      "\n",
      "    %nin%\n",
      "\n",
      "\n"
     ]
    },
    {
     "data": {
      "text/html": [
       "<ol>\n",
       "\t<li>FALSE</li>\n",
       "\t<li>TRUE</li>\n",
       "\t<li>TRUE</li>\n",
       "\t<li>TRUE</li>\n",
       "\t<li>TRUE</li>\n",
       "\t<li>TRUE</li>\n",
       "\t<li>TRUE</li>\n",
       "\t<li>TRUE</li>\n",
       "\t<li>TRUE</li>\n",
       "\t<li>TRUE</li>\n",
       "\t<li>TRUE</li>\n",
       "\t<li>TRUE</li>\n",
       "</ol>\n"
      ],
      "text/latex": [
       "\\begin{enumerate}\n",
       "\\item FALSE\n",
       "\\item TRUE\n",
       "\\item TRUE\n",
       "\\item TRUE\n",
       "\\item TRUE\n",
       "\\item TRUE\n",
       "\\item TRUE\n",
       "\\item TRUE\n",
       "\\item TRUE\n",
       "\\item TRUE\n",
       "\\item TRUE\n",
       "\\item TRUE\n",
       "\\end{enumerate}\n"
      ],
      "text/markdown": [
       "1. FALSE\n",
       "2. TRUE\n",
       "3. TRUE\n",
       "4. TRUE\n",
       "5. TRUE\n",
       "6. TRUE\n",
       "7. TRUE\n",
       "8. TRUE\n",
       "9. TRUE\n",
       "10. TRUE\n",
       "11. TRUE\n",
       "12. TRUE\n",
       "\n",
       "\n"
      ],
      "text/plain": [
       "[[1]]\n",
       "[1] FALSE\n",
       "\n",
       "[[2]]\n",
       "[1] TRUE\n",
       "\n",
       "[[3]]\n",
       "[1] TRUE\n",
       "\n",
       "[[4]]\n",
       "[1] TRUE\n",
       "\n",
       "[[5]]\n",
       "[1] TRUE\n",
       "\n",
       "[[6]]\n",
       "[1] TRUE\n",
       "\n",
       "[[7]]\n",
       "[1] TRUE\n",
       "\n",
       "[[8]]\n",
       "[1] TRUE\n",
       "\n",
       "[[9]]\n",
       "[1] TRUE\n",
       "\n",
       "[[10]]\n",
       "[1] TRUE\n",
       "\n",
       "[[11]]\n",
       "[1] TRUE\n",
       "\n",
       "[[12]]\n",
       "[1] TRUE\n"
      ]
     },
     "metadata": {},
     "output_type": "display_data"
    }
   ],
   "source": [
    "# remove old objects from R working space\n",
    "rm(list=ls())\n",
    "\n",
    "#Load Packages\n",
    "packages_vector <- c(\"tidyverse\", \"Hmisc\", \"dplyr\", \"fastDummies\",\n",
    "                     \"tidyr\", \"knitr\", \"xtable\", \"lubridate\" ,\n",
    "                     \"data.table\", \"stargazer\", \"mfx\", \"jtools\")\n",
    "\n",
    "lapply(packages_vector, require, character.only = TRUE) \n",
    "\n",
    "\n",
    "# Function for table display\n",
    "repr_html.xtable <- function(obj, ...){\n",
    "    paste(capture.output(print(obj, type = 'html')), collapse=\"\", sep=\"\")\n",
    "}\n"
   ]
  },
  {
   "cell_type": "markdown",
   "metadata": {},
   "source": [
    "### Load the data"
   ]
  },
  {
   "cell_type": "code",
   "execution_count": 2,
   "metadata": {},
   "outputs": [
    {
     "name": "stderr",
     "output_type": "stream",
     "text": [
      "The following objects are masked from data_desc:\n",
      "\n",
      "    agegr_2, agegr_3, agegr_4, contr_5y, duration, educ_0, educ_2,\n",
      "    educ_3, educ_99, employed1y, full_time_0, insured_earn,\n",
      "    lastj_fct_0, lastj_fct_1, lastj_fct_3, lastj_fct_99, lastj_occpt_1,\n",
      "    lastj_occpt_10, lastj_occpt_11, lastj_occpt_12, lastj_occpt_14,\n",
      "    lastj_occpt_15, lastj_occpt_16, lastj_occpt_17, lastj_occpt_18,\n",
      "    lastj_occpt_19, lastj_occpt_2, lastj_occpt_20, lastj_occpt_21,\n",
      "    lastj_occpt_22, lastj_occpt_23, lastj_occpt_3, lastj_occpt_4,\n",
      "    lastj_occpt_5, lastj_occpt_6, lastj_occpt_7, lastj_occpt_8,\n",
      "    lastj_occpt_9, marits_1, region_1, region_2, region_3, region_4,\n",
      "    region_5, region_7, sex_1, swiss_0, treat, unempl_r\n",
      "\n",
      "\n"
     ]
    }
   ],
   "source": [
    "# Data for descriptives\n",
    "load(\"data_desc.RData\")\n",
    "attach(data_desc)\n",
    "\n",
    "# Data for regression\n",
    "load(\"data_reg.RData\")\n",
    "attach(data_reg)"
   ]
  },
  {
   "cell_type": "markdown",
   "metadata": {},
   "source": [
    "### Application specific cleaning"
   ]
  },
  {
   "cell_type": "code",
   "execution_count": 3,
   "metadata": {},
   "outputs": [
    {
     "name": "stderr",
     "output_type": "stream",
     "text": [
      "Note: Using an external vector in selections is ambiguous.\n",
      "\u001b[34mi\u001b[39m Use `all_of(xcat_names_reg)` instead of `xcat_names_reg` to silence this message.\n",
      "\u001b[34mi\u001b[39m See <https://tidyselect.r-lib.org/reference/faq-external-vector.html>.\n",
      "\u001b[90mThis message is displayed once per session.\u001b[39m\n",
      "\n",
      "Note: Using an external vector in selections is ambiguous.\n",
      "\u001b[34mi\u001b[39m Use `all_of(xcont_names)` instead of `xcont_names` to silence this message.\n",
      "\u001b[34mi\u001b[39m See <https://tidyselect.r-lib.org/reference/faq-external-vector.html>.\n",
      "\u001b[90mThis message is displayed once per session.\u001b[39m\n",
      "\n"
     ]
    },
    {
     "name": "stdout",
     "output_type": "stream",
     "text": [
      "[1] \"Dimensions of outcome and input vectors\"\n"
     ]
    },
    {
     "data": {
      "text/html": [
       "<style>\n",
       ".list-inline {list-style: none; margin:0; padding: 0}\n",
       ".list-inline>li {display: inline-block}\n",
       ".list-inline>li:not(:last-child)::after {content: \"\\00b7\"; padding: 0 .5ex}\n",
       "</style>\n",
       "<ol class=list-inline><li>19084</li><li>1</li></ol>\n"
      ],
      "text/latex": [
       "\\begin{enumerate*}\n",
       "\\item 19084\n",
       "\\item 1\n",
       "\\end{enumerate*}\n"
      ],
      "text/markdown": [
       "1. 19084\n",
       "2. 1\n",
       "\n",
       "\n"
      ],
      "text/plain": [
       "[1] 19084     1"
      ]
     },
     "metadata": {},
     "output_type": "display_data"
    },
    {
     "data": {
      "text/html": [
       "<style>\n",
       ".list-inline {list-style: none; margin:0; padding: 0}\n",
       ".list-inline>li {display: inline-block}\n",
       ".list-inline>li:not(:last-child)::after {content: \"\\00b7\"; padding: 0 .5ex}\n",
       "</style>\n",
       "<ol class=list-inline><li>19084</li><li>1</li></ol>\n"
      ],
      "text/latex": [
       "\\begin{enumerate*}\n",
       "\\item 19084\n",
       "\\item 1\n",
       "\\end{enumerate*}\n"
      ],
      "text/markdown": [
       "1. 19084\n",
       "2. 1\n",
       "\n",
       "\n"
      ],
      "text/plain": [
       "[1] 19084     1"
      ]
     },
     "metadata": {},
     "output_type": "display_data"
    },
    {
     "data": {
      "text/html": [
       "<style>\n",
       ".list-inline {list-style: none; margin:0; padding: 0}\n",
       ".list-inline>li {display: inline-block}\n",
       ".list-inline>li:not(:last-child)::after {content: \"\\00b7\"; padding: 0 .5ex}\n",
       "</style>\n",
       "<ol class=list-inline><li>19084</li><li>49</li></ol>\n"
      ],
      "text/latex": [
       "\\begin{enumerate*}\n",
       "\\item 19084\n",
       "\\item 49\n",
       "\\end{enumerate*}\n"
      ],
      "text/markdown": [
       "1. 19084\n",
       "2. 49\n",
       "\n",
       "\n"
      ],
      "text/plain": [
       "[1] 19084    49"
      ]
     },
     "metadata": {},
     "output_type": "display_data"
    }
   ],
   "source": [
    "# Create application-specific variables that might be needed\n",
    "\n",
    "# Quarter of entry into unemployment \n",
    "data_reg$quarter <- as.numeric(quarter(data_reg$date_start))\n",
    "\n",
    "data_reg<-dummy_cols(data_reg, select_columns = c(\"quarter\"), \n",
    "                     remove_most_frequent_dummy = TRUE)\n",
    "\n",
    "# save final data set\n",
    "save(data_reg, xcat_names_reg, xcont_names, file=\"data_reg_final.RData\")\n",
    "\n",
    "# Group variables, adding newly created ones - need matrix!\n",
    "\n",
    "y1 <- as.matrix(data_reg$duration)\n",
    "\n",
    "y2 <- as.matrix(data_reg$employed1y)\n",
    "\n",
    "treat <- as.matrix(data_reg$treat)\n",
    "\n",
    "x1 <- as.matrix(dplyr::select(data_reg, \n",
    "                              xcat_names_reg, \n",
    "                              xcont_names, \n",
    "                              starts_with(\"quarter_\")))\n",
    "\n",
    "print(\"Dimensions of outcome and input vectors\")\n",
    "dim(y1)\n",
    "dim(y2)\n",
    "dim(x1)"
   ]
  },
  {
   "cell_type": "markdown",
   "metadata": {},
   "source": [
    "### Descriptive Statistics"
   ]
  },
  {
   "cell_type": "markdown",
   "metadata": {},
   "source": [
    "#### Differences in characteristics and outcomes by treatment"
   ]
  },
  {
   "cell_type": "code",
   "execution_count": 4,
   "metadata": {},
   "outputs": [
    {
     "ename": "ERROR",
     "evalue": "Error: Can't combine `..1` <haven_labelled> and `..2` <double>.\n",
     "output_type": "error",
     "traceback": [
      "Error: Can't combine `..1` <haven_labelled> and `..2` <double>.\nTraceback:\n",
      "1. apply(x_desc, 2, balance_check.model)",
      "2. FUN(newX[, i], ...)",
      "3. mean(x[data_desc$treat == 0])   # at line 16 of file <text>",
      "4. `==.vctrs_vctr`(data_desc$treat, 0)   # at line 16 of file <text>",
      "5. vec_equal(e1, e2)",
      "6. vec_cast_common_params(!!!args, .to = .ptype, .df_fallback = DF_FALLBACK_QUIET)",
      "7. vec_default_ptype2(x = x, y = y, x_arg = x_arg, y_arg = y_arg, \n .     `vctrs:::from_dispatch` = `vctrs:::from_dispatch`, `vctrs:::df_fallback` = `vctrs:::df_fallback`)",
      "8. stop_incompatible_type(x, y, x_arg = x_arg, y_arg = y_arg, `vctrs:::from_dispatch` = internal$from_dispatch)",
      "9. stop_incompatible(x, y, x_arg = x_arg, y_arg = y_arg, details = details, \n .     ..., message = message, class = c(class, \"vctrs_error_incompatible_type\"))",
      "10. stop_vctrs(message, class = c(class, \"vctrs_error_incompatible\"), \n  .     x = x, y = y, details = details, ...)",
      "11. abort(message, class = c(class, \"vctrs_error\"), ...)",
      "12. signal_abort(cnd)"
     ]
    }
   ],
   "source": [
    "# all\n",
    "x_desc<- dplyr::select(data_desc, -treat, -employed1y, -duration) \n",
    "\n",
    "# a selection\n",
    "x_desc<- cbind(insured_earn, contr_5y, unempl_r, sex_1, \n",
    "               marits_1, swiss_1, agegr_1, \n",
    "               agegr_2, agegr_3, agegr_4, \n",
    "               educ_0, educ_1, educ_2, \n",
    "               educ_3, full_time_1)\n",
    "x_desc_names<- colnames(x_desc)\n",
    "\n",
    "# Define a function estimating the differences in variables across D\n",
    "balance_check.model <- function(x){\n",
    "    \n",
    "    # Conditional means\n",
    "    mean_d0 <- mean(x[data_desc$treat==0])\n",
    "    mean_d1 <- mean(x[data_desc$treat==1])\n",
    "    \n",
    "    # Difference in means\n",
    "    diff_d <- lm(x ~ data_desc$treat)\n",
    "    cov <- vcovHC(diff_d, type = \"HC\")\n",
    "    robust.se <- sqrt(diag(cov))\n",
    "    \n",
    "    list(mean_d0 = mean_d0, mean_d1 = mean_d1,\n",
    "        coeff = diff_d$coefficients[2], \n",
    "        robust.se = robust.se[2], \n",
    "        pval = 2*pnorm(-abs(diff_d$coefficients[2]/robust.se[2])) )             \n",
    "}\n",
    "\n",
    "diff_output <- apply(x_desc, 2, balance_check.model)\n",
    "\n",
    "# convert list to table\n",
    "diff_output<-rbindlist(diff_output)\n",
    "rownames(diff_output)<- x_desc_names\n",
    "colnames(diff_output)<- c(\"E(X|D=0)\", \"E(X|D=1)\", \"Difference\", \"s.e.\", \"p-value\")\n",
    "\n",
    "# plot table\n",
    "print(\"Difference in means by treatment status\")\n",
    "xtable(diff_output, digits=3)"
   ]
  },
  {
   "cell_type": "markdown",
   "metadata": {},
   "source": [
    "### Regression Analysis\n",
    "\n",
    "We estimate the effect of program participation on the *unemployment duration* and *individual employment one year after program start* using OLS and probit.\n",
    "\n",
    "**Effect of program participation on the unemployment duration**"
   ]
  },
  {
   "cell_type": "code",
   "execution_count": null,
   "metadata": {},
   "outputs": [],
   "source": [
    "# Linear model (OLS)\n",
    "lm.model.y1 <- lm(y1 ~ treat + x1)\n",
    "\n",
    "# summ command in the jtools package directly calculates robust SEs\n",
    "lm.model.out.y1 <-summ(lm.model.y1, robust = \"HC1\")\n",
    "lm.model.out.y1\n",
    "\n",
    "# store standard error\n",
    "robust.se.y1 <- lm.model.out.y1$coeftable[,2]\n"
   ]
  },
  {
   "cell_type": "markdown",
   "metadata": {},
   "source": [
    "**Effect of program participation on individual employment one year after program start**"
   ]
  },
  {
   "cell_type": "code",
   "execution_count": null,
   "metadata": {
    "scrolled": true
   },
   "outputs": [],
   "source": [
    "# Linear model - effect on employment in year 1\n",
    "lm.model.y2 <- lm(y2 ~ treat + x1)\n",
    "\n",
    "lm.model.out.y2 <-summ(lm.model.y2, , robust = \"HC1\")\n",
    "robust.se.y2 <- lm.model.out.y2$coeftable[,2]\n",
    "\n",
    "# Probit model - effect on employment in year 1\n",
    "probit.model <- glm(y2 ~ treat + x1, \n",
    "                    family = binomial(link = \"probit\") )\n",
    "\n",
    "probit.model.out <-summ(probit.model, , robust = \"HC1\")\n",
    "robust.se.probit <- probit.model.out$coeftable[,2]\n",
    "\n",
    "# Marginal effect\n",
    "probit.model.2 <- probitmfx(y2 ~ treat + x1, data=data_reg, \n",
    "                            atmean = TRUE, robust = TRUE)\n"
   ]
  },
  {
   "cell_type": "markdown",
   "metadata": {},
   "source": [
    "#### Estimated Coefficients"
   ]
  },
  {
   "cell_type": "code",
   "execution_count": null,
   "metadata": {},
   "outputs": [],
   "source": [
    "stargazer(lm.model.y1,lm.model.y2,probit.model, \n",
    "            se=list(robust.se.y1, robust.se.y2, robust.se.probit), \n",
    "            keep=c(\"treat\"), \n",
    "            keep.stat = c(\"n\", \"rsq\"), \n",
    "            type =\"text\", \n",
    "            column.labels=c(\"Duration\",\"Emply1\", \"Emply1\"), \n",
    "            align=TRUE, \n",
    "            dep.var.labels.include = FALSE)\n"
   ]
  },
  {
   "cell_type": "markdown",
   "metadata": {},
   "source": [
    "#### Marginal Effects"
   ]
  },
  {
   "cell_type": "code",
   "execution_count": null,
   "metadata": {},
   "outputs": [],
   "source": [
    "stargazer(lm.model.y1, lm.model.y2, probit.model.2$fit, \n",
    "          coef = list(NULL, NULL, probit.model.2$mfxest[,1]), \n",
    "          se=list(robust.se.y1, robust.se.y2 , probit.model.2$mfxest[,2]), \n",
    "          keep=c(\"treat\"), \n",
    "          keep.stat = c(\"n\", \"rsq\"), \n",
    "          type =\"text\", \n",
    "          \n",
    "          column.labels=c(\"Duration\",\"Emply1\", \"Emply1\"), \n",
    "          align=TRUE, \n",
    "          dep.var.labels.include = FALSE)"
   ]
  },
  {
   "cell_type": "code",
   "execution_count": null,
   "metadata": {},
   "outputs": [],
   "source": []
  }
 ],
 "metadata": {
  "kernelspec": {
   "display_name": "R",
   "language": "R",
   "name": "ir"
  },
  "language_info": {
   "codemirror_mode": "r",
   "file_extension": ".r",
   "mimetype": "text/x-r-source",
   "name": "R",
   "pygments_lexer": "r",
   "version": "3.6.1"
  }
 },
 "nbformat": 4,
 "nbformat_minor": 2
}
