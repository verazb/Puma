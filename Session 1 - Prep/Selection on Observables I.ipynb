{
 "cells": [
  {
   "cell_type": "markdown",
   "metadata": {},
   "source": [
    "**Applied Empirical Analysis (HS 2020)**\n",
    "\n",
    "**Conny Wunsch, Ulrike Unterhofer and Véra Zabrodina** -- University of Basel\n",
    "\n",
    "***\n",
    "\n",
    "# Lab Session 1 - Selection on Observables\n",
    "\n",
    "***\n"
   ]
  },
  {
   "cell_type": "markdown",
   "metadata": {},
   "source": [
    "## Application: What Did All the Money Do? On the General Ineffectiveness of Recent West German Labour Market Programmes\n",
    "**Conny Wunsch and Michael Lechner, Kyklos 2008**\n"
   ]
  },
  {
   "cell_type": "markdown",
   "metadata": {},
   "source": [
    "***\n",
    "## 1. Introduction"
   ]
  },
  {
   "cell_type": "markdown",
   "metadata": {},
   "source": [
    "\n",
    "* What is the research question?\n",
    "\n",
    "* Why is this question of interest?\n",
    "\n",
    "* What are the treatments and the outcomes? \n",
    "\n",
    "* Why can you not just regress the outcome on the treatment, i.e. what is the endogeneity problem? \n"
   ]
  },
  {
   "cell_type": "markdown",
   "metadata": {},
   "source": [
    "We use a simulated data set and similar setting to evaluate a training program for unemployed workers."
   ]
  },
  {
   "cell_type": "markdown",
   "metadata": {},
   "source": [
    "***\n",
    "\n",
    "## 2. Setup and Data\n",
    "\n",
    "* Evaluate the effect of an **online application coaching program for unemployed workers** on their employment outcomes\n",
    "* This full-time course can only be started within the first month of unemployment, and lasts for **1 month**.\n",
    "* Any worker can voluntarily participate, in agreement with their randomly-assigned caseworker. \n",
    "* Participation is however mandatory for all workers older than 60.\n",
    "* Caseworkers are instructed to encourage older workers, as well as women with lower education to participate. \n",
    "* The program's capacity is limited each month.\n",
    "\n",
    "* We have representative data on unemployment spells that started in 20XX, with a rich set of observable individual characteristics."
   ]
  },
  {
   "cell_type": "markdown",
   "metadata": {},
   "source": [
    "***\n",
    "\n",
    "## 3. Identification strategy and assumptions"
   ]
  },
  {
   "cell_type": "markdown",
   "metadata": {},
   "source": [
    "## Today we stay in the parametric world"
   ]
  },
  {
   "cell_type": "markdown",
   "metadata": {},
   "source": [
    "### Notation\n",
    "\n",
    "\n",
    "* $Y^*_{0i}$ ... potential outcome under no participation\n",
    "* $Y^*_{1i}$ ... potential outcome under participation\n",
    "* $Y_{0i}$, $Y_{1i}$  ... observed outcomes\n",
    "\n",
    "Effects of interest:\n",
    "\n",
    "* ATE = ${\\rm E} [Y^*_{1} - Y^*_{0}]$\n",
    "\n",
    "* ATET = ${\\rm E} [Y^*_{1} - Y^*_{0}|D=1]$\n",
    "\n",
    "* ATENT = ${\\rm E} [Y^*_{1} - Y^*_{0}|D=0]$\n",
    " "
   ]
  },
  {
   "cell_type": "markdown",
   "metadata": {},
   "source": [
    "\n",
    "\n",
    "We estimate the effect of participating in the training program $(D=1)$ by:\n",
    "\n",
    "$Y_i=\\alpha+\\delta D_i+\\sum_{k=1}^K\\beta_kX_{i,k}+U_i$\n",
    "\n",
    "What does $\\delta$ claim to measure?\n",
    "\n"
   ]
  },
  {
   "cell_type": "markdown",
   "metadata": {},
   "source": [
    "### Discussion of assumptions\n",
    "\n",
    "What do these assumptions mean in words?\n",
    "\n",
    "*\tWhat could invalidate them? Think of concrete examples or mechanisms.\n",
    "\n",
    "*\tWhich arguments or evidence can you provide to support that they hold?\n",
    "\n",
    "\n",
    "**A1 Stable unit treatment value assumption (SUTVA):**\n",
    "\n",
    "$Y_i=D_iY^*_{1,i}+(1-D_i)Y^*_{0,i}$\n",
    "\n",
    "\n",
    "**A2 Zero conditional mean error:**\n",
    "\n",
    "$E[U_i|D=D_i,X=X_i]=0$ \n",
    "\n",
    "implies that there are no unobserved variables $U_i$ that are correlated with the treatment conditional on $X$.\n",
    "\n",
    "\n",
    "**A3 Linearity:**\n",
    "\n",
    "$E[Y_i|D=D_i,X=X_i]=\\alpha+\\delta D_i+\\sum_{k=1}^K\\beta_kX_{i,k}$\n",
    "\n",
    "\n",
    "**A4 Effect homogeneity:**\n",
    "\n",
    "$E[Y^*_{1,i}-Y^*_{0,i}]=\\delta\\quad\\forall\\ i$"
   ]
  },
  {
   "cell_type": "markdown",
   "metadata": {},
   "source": [
    "This implies $\\delta = ATE = ATET = ATENT$."
   ]
  },
  {
   "cell_type": "markdown",
   "metadata": {},
   "source": [
    "***\n",
    "## 4. Empirical Analysis"
   ]
  },
  {
   "cell_type": "markdown",
   "metadata": {},
   "source": [
    "### Load Packages and set directory"
   ]
  },
  {
   "cell_type": "code",
   "execution_count": 3,
   "metadata": {
    "scrolled": false
   },
   "outputs": [
    {
     "name": "stderr",
     "output_type": "stream",
     "text": [
      "Loading required package: tidyverse\n",
      "\n",
      "Error: package or namespace load failed for 'tidyverse' in loadNamespace(j <- i[[1L]], c(lib.loc, .libPaths()), versionCheck = vI[[j]]):\n",
      " namespace 'tibble' 2.1.3 is already loaded, but >= 3.0.0 is required\n",
      "\n"
     ]
    },
    {
     "data": {
      "text/html": [
       "<ol>\n",
       "\t<li>FALSE</li>\n",
       "\t<li>TRUE</li>\n",
       "\t<li>TRUE</li>\n",
       "\t<li>TRUE</li>\n",
       "\t<li>TRUE</li>\n",
       "\t<li>TRUE</li>\n",
       "\t<li>TRUE</li>\n",
       "\t<li>TRUE</li>\n",
       "\t<li>TRUE</li>\n",
       "\t<li>TRUE</li>\n",
       "\t<li>TRUE</li>\n",
       "\t<li>TRUE</li>\n",
       "</ol>\n"
      ],
      "text/latex": [
       "\\begin{enumerate}\n",
       "\\item FALSE\n",
       "\\item TRUE\n",
       "\\item TRUE\n",
       "\\item TRUE\n",
       "\\item TRUE\n",
       "\\item TRUE\n",
       "\\item TRUE\n",
       "\\item TRUE\n",
       "\\item TRUE\n",
       "\\item TRUE\n",
       "\\item TRUE\n",
       "\\item TRUE\n",
       "\\end{enumerate}\n"
      ],
      "text/markdown": [
       "1. FALSE\n",
       "2. TRUE\n",
       "3. TRUE\n",
       "4. TRUE\n",
       "5. TRUE\n",
       "6. TRUE\n",
       "7. TRUE\n",
       "8. TRUE\n",
       "9. TRUE\n",
       "10. TRUE\n",
       "11. TRUE\n",
       "12. TRUE\n",
       "\n",
       "\n"
      ],
      "text/plain": [
       "[[1]]\n",
       "[1] FALSE\n",
       "\n",
       "[[2]]\n",
       "[1] TRUE\n",
       "\n",
       "[[3]]\n",
       "[1] TRUE\n",
       "\n",
       "[[4]]\n",
       "[1] TRUE\n",
       "\n",
       "[[5]]\n",
       "[1] TRUE\n",
       "\n",
       "[[6]]\n",
       "[1] TRUE\n",
       "\n",
       "[[7]]\n",
       "[1] TRUE\n",
       "\n",
       "[[8]]\n",
       "[1] TRUE\n",
       "\n",
       "[[9]]\n",
       "[1] TRUE\n",
       "\n",
       "[[10]]\n",
       "[1] TRUE\n",
       "\n",
       "[[11]]\n",
       "[1] TRUE\n",
       "\n",
       "[[12]]\n",
       "[1] TRUE\n"
      ]
     },
     "metadata": {},
     "output_type": "display_data"
    }
   ],
   "source": [
    "# remove old objects from R working space\n",
    "rm(list=ls())\n",
    "\n",
    "#Load Packages\n",
    "packages_vector <- c(\"tidyverse\", \"Hmisc\", \"dplyr\", \"fastDummies\",\n",
    "                     \"tidyr\", \"knitr\", \"xtable\", \"lubridate\" ,\n",
    "                     \"data.table\", \"stargazer\", \"mfx\", \"jtools\")\n",
    "\n",
    "lapply(packages_vector, require, character.only = TRUE) \n",
    "\n",
    "\n",
    "# Function for table display\n",
    "repr_html.xtable <- function(obj, ...){\n",
    "    paste(capture.output(print(obj, type = 'html')), collapse=\"\", sep=\"\")\n",
    "}\n"
   ]
  },
  {
   "cell_type": "markdown",
   "metadata": {},
   "source": [
    "### Load the data"
   ]
  },
  {
   "cell_type": "code",
   "execution_count": 4,
   "metadata": {},
   "outputs": [
    {
     "name": "stderr",
     "output_type": "stream",
     "text": [
      "The following objects are masked from data_desc:\n",
      "\n",
      "    agegr_2, agegr_3, agegr_4, contr_5y, duration, educ_0, educ_2,\n",
      "    educ_3, educ_99, employed1y, full_time_0, insured_earn,\n",
      "    lastj_fct_0, lastj_fct_1, lastj_fct_3, lastj_fct_99, lastj_occpt_1,\n",
      "    lastj_occpt_10, lastj_occpt_11, lastj_occpt_12, lastj_occpt_14,\n",
      "    lastj_occpt_15, lastj_occpt_16, lastj_occpt_17, lastj_occpt_18,\n",
      "    lastj_occpt_19, lastj_occpt_2, lastj_occpt_20, lastj_occpt_21,\n",
      "    lastj_occpt_22, lastj_occpt_23, lastj_occpt_3, lastj_occpt_4,\n",
      "    lastj_occpt_5, lastj_occpt_6, lastj_occpt_7, lastj_occpt_8,\n",
      "    lastj_occpt_9, marits_1, region_1, region_2, region_3, region_4,\n",
      "    region_5, region_7, sex_1, swiss_0, treat, unempl_r\n",
      "\n",
      "\n"
     ]
    }
   ],
   "source": [
    "# Data for descriptives\n",
    "load(\"data_desc.RData\")\n",
    "attach(data_desc)\n",
    "\n",
    "# Data for regression\n",
    "load(\"data_reg.RData\")\n",
    "attach(data_reg)\n",
    "\n",
    "options(warn=-1)"
   ]
  },
  {
   "cell_type": "markdown",
   "metadata": {},
   "source": [
    "### Application specific cleaning"
   ]
  },
  {
   "cell_type": "code",
   "execution_count": 5,
   "metadata": {},
   "outputs": [
    {
     "name": "stderr",
     "output_type": "stream",
     "text": [
      "Note: Using an external vector in selections is ambiguous.\n",
      "\u001b[34mi\u001b[39m Use `all_of(xcat_names_reg)` instead of `xcat_names_reg` to silence this message.\n",
      "\u001b[34mi\u001b[39m See <https://tidyselect.r-lib.org/reference/faq-external-vector.html>.\n",
      "\u001b[90mThis message is displayed once per session.\u001b[39m\n",
      "\n",
      "Note: Using an external vector in selections is ambiguous.\n",
      "\u001b[34mi\u001b[39m Use `all_of(xcont_names)` instead of `xcont_names` to silence this message.\n",
      "\u001b[34mi\u001b[39m See <https://tidyselect.r-lib.org/reference/faq-external-vector.html>.\n",
      "\u001b[90mThis message is displayed once per session.\u001b[39m\n",
      "\n"
     ]
    },
    {
     "name": "stdout",
     "output_type": "stream",
     "text": [
      "[1] \"Dimensions of outcome and input vectors\"\n"
     ]
    },
    {
     "data": {
      "text/html": [
       "<style>\n",
       ".list-inline {list-style: none; margin:0; padding: 0}\n",
       ".list-inline>li {display: inline-block}\n",
       ".list-inline>li:not(:last-child)::after {content: \"\\00b7\"; padding: 0 .5ex}\n",
       "</style>\n",
       "<ol class=list-inline><li>19084</li><li>1</li></ol>\n"
      ],
      "text/latex": [
       "\\begin{enumerate*}\n",
       "\\item 19084\n",
       "\\item 1\n",
       "\\end{enumerate*}\n"
      ],
      "text/markdown": [
       "1. 19084\n",
       "2. 1\n",
       "\n",
       "\n"
      ],
      "text/plain": [
       "[1] 19084     1"
      ]
     },
     "metadata": {},
     "output_type": "display_data"
    },
    {
     "data": {
      "text/html": [
       "<style>\n",
       ".list-inline {list-style: none; margin:0; padding: 0}\n",
       ".list-inline>li {display: inline-block}\n",
       ".list-inline>li:not(:last-child)::after {content: \"\\00b7\"; padding: 0 .5ex}\n",
       "</style>\n",
       "<ol class=list-inline><li>19084</li><li>1</li></ol>\n"
      ],
      "text/latex": [
       "\\begin{enumerate*}\n",
       "\\item 19084\n",
       "\\item 1\n",
       "\\end{enumerate*}\n"
      ],
      "text/markdown": [
       "1. 19084\n",
       "2. 1\n",
       "\n",
       "\n"
      ],
      "text/plain": [
       "[1] 19084     1"
      ]
     },
     "metadata": {},
     "output_type": "display_data"
    },
    {
     "data": {
      "text/html": [
       "<style>\n",
       ".list-inline {list-style: none; margin:0; padding: 0}\n",
       ".list-inline>li {display: inline-block}\n",
       ".list-inline>li:not(:last-child)::after {content: \"\\00b7\"; padding: 0 .5ex}\n",
       "</style>\n",
       "<ol class=list-inline><li>19084</li><li>49</li></ol>\n"
      ],
      "text/latex": [
       "\\begin{enumerate*}\n",
       "\\item 19084\n",
       "\\item 49\n",
       "\\end{enumerate*}\n"
      ],
      "text/markdown": [
       "1. 19084\n",
       "2. 49\n",
       "\n",
       "\n"
      ],
      "text/plain": [
       "[1] 19084    49"
      ]
     },
     "metadata": {},
     "output_type": "display_data"
    }
   ],
   "source": [
    "# Create application-specific variables that might be needed\n",
    "\n",
    "# Quarter of entry into unemployment \n",
    "data_reg$quarter <- as.numeric(quarter(data_reg$date_start))\n",
    "\n",
    "data_reg<-dummy_cols(data_reg, select_columns = c(\"quarter\"), \n",
    "                     remove_most_frequent_dummy = TRUE)\n",
    "\n",
    "# save final data set\n",
    "save(data_reg, xcat_names_reg, xcont_names, file=\"data_reg_final.RData\")\n",
    "\n",
    "# Group variables, adding newly created ones - need matrix!\n",
    "\n",
    "y1 <- as.matrix(data_reg$duration)\n",
    "\n",
    "y2 <- as.matrix(data_reg$employed1y)\n",
    "\n",
    "treat <- as.matrix(data_reg$treat)\n",
    "\n",
    "x1 <- as.matrix(dplyr::select(data_reg, \n",
    "                              xcat_names_reg, \n",
    "                              xcont_names, \n",
    "                              starts_with(\"quarter_\")))\n",
    "\n",
    "print(\"Dimensions of outcome and input vectors\")\n",
    "dim(y1)\n",
    "dim(y2)\n",
    "dim(x1)"
   ]
  },
  {
   "cell_type": "markdown",
   "metadata": {},
   "source": [
    "### Descriptive Statistics"
   ]
  },
  {
   "cell_type": "markdown",
   "metadata": {},
   "source": [
    "#### Differences in characteristics and outcomes by treatment"
   ]
  },
  {
   "cell_type": "code",
   "execution_count": 6,
   "metadata": {},
   "outputs": [
    {
     "name": "stdout",
     "output_type": "stream",
     "text": [
      "[1] \"Difference in means by treatment status\"\n"
     ]
    },
    {
     "data": {
      "text/html": [
       "<!-- html table generated in R 3.6.1 by xtable 1.8-4 package --><!-- Sat Sep 19 16:17:55 2020 --><table border=1><tr> <th>  </th> <th> E(X|D=0) </th> <th> E(X|D=1) </th> <th> Difference </th> <th> s.e. </th> <th> p-value </th>  </tr>  <tr> <td align=\"right\"> insured_earn </td> <td align=\"right\"> 4937.040 </td> <td align=\"right\"> 4724.427 </td> <td align=\"right\"> -212.613 </td> <td align=\"right\"> 31.414 </td> <td align=\"right\"> 0.000 </td> </tr>  <tr> <td align=\"right\"> contr_5y </td> <td align=\"right\"> 38.536 </td> <td align=\"right\"> 30.088 </td> <td align=\"right\"> -8.449 </td> <td align=\"right\"> 0.292 </td> <td align=\"right\"> 0.000 </td> </tr>  <tr> <td align=\"right\"> unempl_r </td> <td align=\"right\"> 2.723 </td> <td align=\"right\"> 2.757 </td> <td align=\"right\"> 0.034 </td> <td align=\"right\"> 0.018 </td> <td align=\"right\"> 0.060 </td> </tr>  <tr> <td align=\"right\"> sex_1 </td> <td align=\"right\"> 0.401 </td> <td align=\"right\"> 0.474 </td> <td align=\"right\"> 0.073 </td> <td align=\"right\"> 0.007 </td> <td align=\"right\"> 0.000 </td> </tr>  <tr> <td align=\"right\"> marits_1 </td> <td align=\"right\"> 0.451 </td> <td align=\"right\"> 0.352 </td> <td align=\"right\"> -0.099 </td> <td align=\"right\"> 0.007 </td> <td align=\"right\"> 0.000 </td> </tr>  <tr> <td align=\"right\"> swiss_1 </td> <td align=\"right\"> 0.571 </td> <td align=\"right\"> 0.571 </td> <td align=\"right\"> 0.000 </td> <td align=\"right\"> 0.007 </td> <td align=\"right\"> 0.975 </td> </tr>  <tr> <td align=\"right\"> agegr_1 </td> <td align=\"right\"> 0.320 </td> <td align=\"right\"> 0.338 </td> <td align=\"right\"> 0.018 </td> <td align=\"right\"> 0.007 </td> <td align=\"right\"> 0.009 </td> </tr>  <tr> <td align=\"right\"> agegr_2 </td> <td align=\"right\"> 0.296 </td> <td align=\"right\"> 0.291 </td> <td align=\"right\"> -0.005 </td> <td align=\"right\"> 0.007 </td> <td align=\"right\"> 0.431 </td> </tr>  <tr> <td align=\"right\"> agegr_3 </td> <td align=\"right\"> 0.238 </td> <td align=\"right\"> 0.225 </td> <td align=\"right\"> -0.012 </td> <td align=\"right\"> 0.006 </td> <td align=\"right\"> 0.041 </td> </tr>  <tr> <td align=\"right\"> agegr_4 </td> <td align=\"right\"> 0.145 </td> <td align=\"right\"> 0.145 </td> <td align=\"right\"> -0.000 </td> <td align=\"right\"> 0.005 </td> <td align=\"right\"> 0.981 </td> </tr>  <tr> <td align=\"right\"> educ_0 </td> <td align=\"right\"> 0.212 </td> <td align=\"right\"> 0.226 </td> <td align=\"right\"> 0.013 </td> <td align=\"right\"> 0.006 </td> <td align=\"right\"> 0.027 </td> </tr>  <tr> <td align=\"right\"> educ_1 </td> <td align=\"right\"> 0.599 </td> <td align=\"right\"> 0.551 </td> <td align=\"right\"> -0.048 </td> <td align=\"right\"> 0.007 </td> <td align=\"right\"> 0.000 </td> </tr>  <tr> <td align=\"right\"> educ_2 </td> <td align=\"right\"> 0.039 </td> <td align=\"right\"> 0.047 </td> <td align=\"right\"> 0.008 </td> <td align=\"right\"> 0.003 </td> <td align=\"right\"> 0.008 </td> </tr>  <tr> <td align=\"right\"> educ_3 </td> <td align=\"right\"> 0.149 </td> <td align=\"right\"> 0.175 </td> <td align=\"right\"> 0.027 </td> <td align=\"right\"> 0.005 </td> <td align=\"right\"> 0.000 </td> </tr>  <tr> <td align=\"right\"> full_time_1 </td> <td align=\"right\"> 0.765 </td> <td align=\"right\"> 0.688 </td> <td align=\"right\"> -0.077 </td> <td align=\"right\"> 0.006 </td> <td align=\"right\"> 0.000 </td> </tr>   </table>"
      ],
      "text/latex": [
       "A xtable: 15 × 5\n",
       "\\begin{tabular}{r|lllll}\n",
       "  & E(X\\textbar{}D=0) & E(X\\textbar{}D=1) & Difference & s.e. & p-value\\\\\n",
       "  & <dbl> & <dbl> & <dbl> & <dbl> & <dbl>\\\\\n",
       "\\hline\n",
       "\tinsured\\_earn & 4.937040e+03 & 4.724427e+03 & -2.126127e+02 & 31.414136903 &  1.305213e-11\\\\\n",
       "\tcontr\\_5y & 3.853628e+01 & 3.008768e+01 & -8.448604e+00 &  0.292102217 & 6.055999e-184\\\\\n",
       "\tunempl\\_r & 2.722903e+00 & 2.757045e+00 &  3.414268e-02 &  0.018186399 &  6.046683e-02\\\\\n",
       "\tsex\\_1 & 4.014125e-01 & 4.741655e-01 &  7.275298e-02 &  0.007193651 &  4.813392e-24\\\\\n",
       "\tmarits\\_1 & 4.505611e-01 & 3.515089e-01 & -9.905223e-02 &  0.007071652 &  1.413593e-44\\\\\n",
       "\tswiss\\_1 & 5.705302e-01 & 5.707590e-01 &  2.288449e-04 &  0.007191081 &  9.746129e-01\\\\\n",
       "\tagegr\\_1 & 3.204334e-01 & 3.382487e-01 &  1.781531e-02 &  0.006830437 &  9.101357e-03\\\\\n",
       "\tagegr\\_2 & 2.962461e-01 & 2.910380e-01 & -5.208178e-03 &  0.006614924 &  4.310843e-01\\\\\n",
       "\tagegr\\_3 & 2.379063e-01 & 2.254230e-01 & -1.248339e-02 &  0.006123806 &  4.149973e-02\\\\\n",
       "\tagegr\\_4 & 1.454141e-01 & 1.452904e-01 & -1.237346e-04 &  0.005120379 &  9.807209e-01\\\\\n",
       "\teduc\\_0 & 2.124613e-01 & 2.257659e-01 &  1.330459e-02 &  0.006014103 &  2.695067e-02\\\\\n",
       "\teduc\\_1 & 5.991680e-01 & 5.510974e-01 & -4.807056e-02 &  0.007177419 &  2.120560e-11\\\\\n",
       "\teduc\\_2 & 3.879644e-02 & 4.663923e-02 &  7.842792e-03 &  0.002947993 &  7.805180e-03\\\\\n",
       "\teduc\\_3 & 1.485101e-01 & 1.752401e-01 &  2.672999e-02 &  0.005362463 &  6.207455e-07\\\\\n",
       "\tfull\\_time\\_1 & 7.646091e-01 & 6.880430e-01 & -7.656615e-02 &  0.006476804 &  3.019012e-32\\\\\n",
       "\\end{tabular}\n"
      ],
      "text/markdown": [
       "\n",
       "A xtable: 15 × 5\n",
       "\n",
       "| <!--/--> | E(X|D=0) &lt;dbl&gt; | E(X|D=1) &lt;dbl&gt; | Difference &lt;dbl&gt; | s.e. &lt;dbl&gt; | p-value &lt;dbl&gt; |\n",
       "|---|---|---|---|---|---|\n",
       "| insured_earn | 4.937040e+03 | 4.724427e+03 | -2.126127e+02 | 31.414136903 |  1.305213e-11 |\n",
       "| contr_5y | 3.853628e+01 | 3.008768e+01 | -8.448604e+00 |  0.292102217 | 6.055999e-184 |\n",
       "| unempl_r | 2.722903e+00 | 2.757045e+00 |  3.414268e-02 |  0.018186399 |  6.046683e-02 |\n",
       "| sex_1 | 4.014125e-01 | 4.741655e-01 |  7.275298e-02 |  0.007193651 |  4.813392e-24 |\n",
       "| marits_1 | 4.505611e-01 | 3.515089e-01 | -9.905223e-02 |  0.007071652 |  1.413593e-44 |\n",
       "| swiss_1 | 5.705302e-01 | 5.707590e-01 |  2.288449e-04 |  0.007191081 |  9.746129e-01 |\n",
       "| agegr_1 | 3.204334e-01 | 3.382487e-01 |  1.781531e-02 |  0.006830437 |  9.101357e-03 |\n",
       "| agegr_2 | 2.962461e-01 | 2.910380e-01 | -5.208178e-03 |  0.006614924 |  4.310843e-01 |\n",
       "| agegr_3 | 2.379063e-01 | 2.254230e-01 | -1.248339e-02 |  0.006123806 |  4.149973e-02 |\n",
       "| agegr_4 | 1.454141e-01 | 1.452904e-01 | -1.237346e-04 |  0.005120379 |  9.807209e-01 |\n",
       "| educ_0 | 2.124613e-01 | 2.257659e-01 |  1.330459e-02 |  0.006014103 |  2.695067e-02 |\n",
       "| educ_1 | 5.991680e-01 | 5.510974e-01 | -4.807056e-02 |  0.007177419 |  2.120560e-11 |\n",
       "| educ_2 | 3.879644e-02 | 4.663923e-02 |  7.842792e-03 |  0.002947993 |  7.805180e-03 |\n",
       "| educ_3 | 1.485101e-01 | 1.752401e-01 |  2.672999e-02 |  0.005362463 |  6.207455e-07 |\n",
       "| full_time_1 | 7.646091e-01 | 6.880430e-01 | -7.656615e-02 |  0.006476804 |  3.019012e-32 |\n",
       "\n"
      ],
      "text/plain": [
       "             E(X|D=0)     E(X|D=1)     Difference    s.e.         p-value      \n",
       "insured_earn 4.937040e+03 4.724427e+03 -2.126127e+02 31.414136903  1.305213e-11\n",
       "contr_5y     3.853628e+01 3.008768e+01 -8.448604e+00  0.292102217 6.055999e-184\n",
       "unempl_r     2.722903e+00 2.757045e+00  3.414268e-02  0.018186399  6.046683e-02\n",
       "sex_1        4.014125e-01 4.741655e-01  7.275298e-02  0.007193651  4.813392e-24\n",
       "marits_1     4.505611e-01 3.515089e-01 -9.905223e-02  0.007071652  1.413593e-44\n",
       "swiss_1      5.705302e-01 5.707590e-01  2.288449e-04  0.007191081  9.746129e-01\n",
       "agegr_1      3.204334e-01 3.382487e-01  1.781531e-02  0.006830437  9.101357e-03\n",
       "agegr_2      2.962461e-01 2.910380e-01 -5.208178e-03  0.006614924  4.310843e-01\n",
       "agegr_3      2.379063e-01 2.254230e-01 -1.248339e-02  0.006123806  4.149973e-02\n",
       "agegr_4      1.454141e-01 1.452904e-01 -1.237346e-04  0.005120379  9.807209e-01\n",
       "educ_0       2.124613e-01 2.257659e-01  1.330459e-02  0.006014103  2.695067e-02\n",
       "educ_1       5.991680e-01 5.510974e-01 -4.807056e-02  0.007177419  2.120560e-11\n",
       "educ_2       3.879644e-02 4.663923e-02  7.842792e-03  0.002947993  7.805180e-03\n",
       "educ_3       1.485101e-01 1.752401e-01  2.672999e-02  0.005362463  6.207455e-07\n",
       "full_time_1  7.646091e-01 6.880430e-01 -7.656615e-02  0.006476804  3.019012e-32"
      ]
     },
     "metadata": {},
     "output_type": "display_data"
    }
   ],
   "source": [
    "# all\n",
    "# x_desc<- dplyr::select(data_desc, -treat, -employed1y, -duration) \n",
    "# a selection\n",
    "x_desc<- cbind(insured_earn, contr_5y, unempl_r, sex_1, marits_1, swiss_1, agegr_1, \n",
    "               agegr_2, agegr_3, agegr_4, educ_0, educ_1, educ_2, educ_3, full_time_1)\n",
    "x_desc_names<- colnames(x_desc)\n",
    "\n",
    "# Define a function estimating the differences in variables across D\n",
    "balance_check.model <- function(x){\n",
    "    \n",
    "    # Conditional means\n",
    "    mean_d0 <- mean(x[treat==0])\n",
    "    mean_d1 <- mean(x[treat==1])\n",
    "    \n",
    "    # Difference in means\n",
    "    diff_d <- lm(x ~ treat)\n",
    "    cov <- vcovHC(diff_d, type = \"HC\")\n",
    "    robust.se <- sqrt(diag(cov))\n",
    "    \n",
    "    list(mean_d0 = mean_d0, mean_d1 = mean_d1,\n",
    "        coeff = diff_d$coefficients[2], \n",
    "        robust.se = robust.se[2], \n",
    "        pval = 2*pnorm(-abs(diff_d$coefficients[2]/robust.se[2])) )             \n",
    "}\n",
    "\n",
    "diff_output <- apply(x_desc, 2, balance_check.model)\n",
    "\n",
    "# convert list to table\n",
    "diff_output<-rbindlist(diff_output)\n",
    "rownames(diff_output)<- x_desc_names\n",
    "colnames(diff_output)<- c(\"E(X|D=0)\", \"E(X|D=1)\", \"Difference\", \"s.e.\", \"p-value\")\n",
    "\n",
    "# plot table\n",
    "print(\"Difference in means by treatment status\")\n",
    "xtable(diff_output, digits=3)"
   ]
  },
  {
   "cell_type": "markdown",
   "metadata": {},
   "source": [
    "### Regression Analysis\n",
    "\n",
    "We estimate the effect of program participation on the *unemployment duration* and *individual employment one year after program start* using OLS and probit.\n",
    "\n",
    "**Effect of program participation on the unemployment duration**"
   ]
  },
  {
   "cell_type": "code",
   "execution_count": 7,
   "metadata": {},
   "outputs": [
    {
     "data": {
      "text/plain": [
       "\u001b[4mMODEL INFO:\u001b[24m\n",
       "\u001b[3mObservations:\u001b[23m 19084\n",
       "\u001b[3mDependent Variable:\u001b[23m y1\n",
       "\u001b[3mType:\u001b[23m OLS linear regression \n",
       "\n",
       "\u001b[4mMODEL FIT:\u001b[24m\n",
       "\u001b[3mF\u001b[23m(50,19033) = 80.61, \u001b[3mp\u001b[23m = 0.00\n",
       "\u001b[3mR² = \u001b[23m0.17\n",
       "\u001b[3mAdj. R² = \u001b[23m0.17 \n",
       "\n",
       "\u001b[3mStandard errors:\u001b[23m Robust, \u001b[3mtype = \u001b[23mHC1\n",
       "--------------------------------------------------------\n",
       "                            Est.    S.E.   t val.      p\n",
       "---------------------- --------- ------- -------- ------\n",
       "(Intercept)               121.79    6.14    19.84   0.00\n",
       "treat                    -103.28    1.95   -52.92   0.00\n",
       "x1sex_1                    -2.18    2.58    -0.84   0.40\n",
       "x1marits_1                 14.11    2.51     5.63   0.00\n",
       "x1region_1                -13.76    6.04    -2.28   0.02\n",
       "x1region_2                -13.12    3.39    -3.87   0.00\n",
       "x1region_3                -14.66    4.10    -3.58   0.00\n",
       "x1region_4                -25.49    4.73    -5.39   0.00\n",
       "x1region_5                 -7.92    3.60    -2.20   0.03\n",
       "x1region_7                  5.57   10.01     0.56   0.58\n",
       "x1swiss_0                  16.12    2.50     6.46   0.00\n",
       "x1educ_0                   -0.84    3.28    -0.26   0.80\n",
       "x1educ_2                  -12.84    4.81    -2.67   0.01\n",
       "x1educ_3                   -3.24    3.56    -0.91   0.36\n",
       "x1educ_99                  36.31   28.21     1.29   0.20\n",
       "x1full_time_0               1.23    2.55     0.48   0.63\n",
       "x1lastj_occpt_1            -5.46    6.10    -0.89   0.37\n",
       "x1lastj_occpt_10           13.98    4.16     3.36   0.00\n",
       "x1lastj_occpt_11           24.89    6.88     3.62   0.00\n",
       "x1lastj_occpt_12           23.63    6.41     3.69   0.00\n",
       "x1lastj_occpt_14           26.22    6.70     3.92   0.00\n",
       "x1lastj_occpt_15           14.98    6.04     2.48   0.01\n",
       "x1lastj_occpt_16           26.63    4.79     5.56   0.00\n",
       "x1lastj_occpt_17           10.70    9.21     1.16   0.25\n",
       "x1lastj_occpt_18           32.15    8.81     3.65   0.00\n",
       "x1lastj_occpt_19            6.99    7.48     0.93   0.35\n",
       "x1lastj_occpt_2             1.55   10.65     0.15   0.88\n",
       "x1lastj_occpt_20           41.91   10.24     4.09   0.00\n",
       "x1lastj_occpt_21           32.24    9.67     3.33   0.00\n",
       "x1lastj_occpt_22           -0.95    5.50    -0.17   0.86\n",
       "x1lastj_occpt_23           33.45    5.92     5.65   0.00\n",
       "x1lastj_occpt_3            19.99    4.56     4.39   0.00\n",
       "x1lastj_occpt_4             7.76   11.25     0.69   0.49\n",
       "x1lastj_occpt_5            34.51   19.46     1.77   0.08\n",
       "x1lastj_occpt_6            18.02   16.55     1.09   0.28\n",
       "x1lastj_occpt_7           -15.62   14.95    -1.04   0.30\n",
       "x1lastj_occpt_8             7.90    6.06     1.30   0.19\n",
       "x1lastj_occpt_9            -9.58    4.23    -2.26   0.02\n",
       "x1lastj_fct_0              -7.94   28.80    -0.28   0.78\n",
       "x1lastj_fct_1              -6.57    5.39    -1.22   0.22\n",
       "x1lastj_fct_3               0.63    5.76     0.11   0.91\n",
       "x1lastj_fct_99             11.12    2.89     3.84   0.00\n",
       "x1agegr_2                  21.22    2.78     7.63   0.00\n",
       "x1agegr_3                  34.95    3.22    10.84   0.00\n",
       "x1agegr_4                  48.24    3.89    12.40   0.00\n",
       "x1insured_earn             -0.00    0.00    -2.42   0.02\n",
       "x1contr_5y                  0.85    0.05    17.40   0.00\n",
       "x1unempl_r                  8.42    1.76     4.79   0.00\n",
       "x1quarter_1                 6.62    2.79     2.38   0.02\n",
       "x1quarter_2                10.25    2.99     3.43   0.00\n",
       "x1quarter_3                16.22    2.93     5.53   0.00\n",
       "--------------------------------------------------------"
      ]
     },
     "metadata": {},
     "output_type": "display_data"
    }
   ],
   "source": [
    "# Linear model (OLS)\n",
    "lm.model.y1 <- lm(y1 ~ treat + x1)\n",
    "\n",
    "# summ command in the jtools package directly calculates robust SEs\n",
    "lm.model.out.y1 <-summ(lm.model.y1, robust = \"HC1\")\n",
    "lm.model.out.y1\n",
    "\n",
    "# store standard error\n",
    "robust.se.y1 <- lm.model.out.y1$coeftable[,2]\n"
   ]
  },
  {
   "cell_type": "markdown",
   "metadata": {},
   "source": [
    "**Effect of program participation on individual employment one year after program start**"
   ]
  },
  {
   "cell_type": "code",
   "execution_count": 8,
   "metadata": {
    "scrolled": true
   },
   "outputs": [],
   "source": [
    "# Linear model - effect on employment in year 1\n",
    "lm.model.y2 <- lm(y2 ~ treat + x1)\n",
    "\n",
    "lm.model.out.y2 <-summ(lm.model.y2, , robust = \"HC1\")\n",
    "robust.se.y2 <- lm.model.out.y2$coeftable[,2]\n",
    "\n",
    "# Probit model - effect on employment in year 1\n",
    "probit.model <- glm(y2 ~ treat + x1, \n",
    "                    family = binomial(link = \"probit\") )\n",
    "\n",
    "probit.model.out <-summ(probit.model, , robust = \"HC1\")\n",
    "robust.se.probit <- probit.model.out$coeftable[,2]\n",
    "\n",
    "# Marginal effect\n",
    "probit.model.2 <- probitmfx(y2 ~ treat + x1, data=data_reg, \n",
    "                            atmean = TRUE, robust = TRUE)\n"
   ]
  },
  {
   "cell_type": "markdown",
   "metadata": {},
   "source": [
    "#### Estimated Coefficients"
   ]
  },
  {
   "cell_type": "code",
   "execution_count": 9,
   "metadata": {},
   "outputs": [
    {
     "name": "stdout",
     "output_type": "stream",
     "text": [
      "\n",
      "==========================================\n",
      "                  Dependent variable:     \n",
      "             -----------------------------\n",
      "                 OLS       OLS     probit \n",
      "              Duration    Emply1   Emply1 \n",
      "                 (1)       (2)      (3)   \n",
      "------------------------------------------\n",
      "treat        -103.276*** 0.163*** 1.384***\n",
      "               (1.951)   (0.004)  (0.045) \n",
      "                                          \n",
      "------------------------------------------\n",
      "Observations   19,084     19,084   19,084 \n",
      "R2              0.175     0.114           \n",
      "==========================================\n",
      "Note:          *p<0.1; **p<0.05; ***p<0.01\n"
     ]
    }
   ],
   "source": [
    "stargazer(lm.model.y1,lm.model.y2,probit.model, \n",
    "            se=list(robust.se.y1, robust.se.y2, robust.se.probit), \n",
    "            keep=c(\"treat\"), \n",
    "            keep.stat = c(\"n\", \"rsq\"), \n",
    "            type =\"text\", \n",
    "            column.labels=c(\"Duration\",\"Emply1\", \"Emply1\"), \n",
    "            align=TRUE, \n",
    "            dep.var.labels.include = FALSE)\n"
   ]
  },
  {
   "cell_type": "markdown",
   "metadata": {},
   "source": [
    "#### Marginal Effects"
   ]
  },
  {
   "cell_type": "code",
   "execution_count": 10,
   "metadata": {},
   "outputs": [
    {
     "name": "stdout",
     "output_type": "stream",
     "text": [
      "\n",
      "==========================================\n",
      "                  Dependent variable:     \n",
      "             -----------------------------\n",
      "                 OLS       OLS     probit \n",
      "              Duration    Emply1   Emply1 \n",
      "                 (1)       (2)      (3)   \n",
      "------------------------------------------\n",
      "treat        -103.276*** 0.163*** 0.151***\n",
      "               (1.951)   (0.004)  (0.004) \n",
      "                                          \n",
      "------------------------------------------\n",
      "Observations   19,084     19,084   19,084 \n",
      "R2              0.175     0.114           \n",
      "==========================================\n",
      "Note:          *p<0.1; **p<0.05; ***p<0.01\n"
     ]
    }
   ],
   "source": [
    "stargazer(lm.model.y1, lm.model.y2, probit.model.2$fit, \n",
    "          coef = list(NULL, NULL, probit.model.2$mfxest[,1]), \n",
    "          se=list(robust.se.y1, robust.se.y2 , probit.model.2$mfxest[,2]), \n",
    "          keep=c(\"treat\"), \n",
    "          keep.stat = c(\"n\", \"rsq\"), \n",
    "          type =\"text\", \n",
    "          \n",
    "          column.labels=c(\"Duration\",\"Emply1\", \"Emply1\"), \n",
    "          align=TRUE, \n",
    "          dep.var.labels.include = FALSE)"
   ]
  },
  {
   "cell_type": "code",
   "execution_count": null,
   "metadata": {},
   "outputs": [],
   "source": []
  }
 ],
 "metadata": {
  "kernelspec": {
   "display_name": "R",
   "language": "R",
   "name": "ir"
  },
  "language_info": {
   "codemirror_mode": "r",
   "file_extension": ".r",
   "mimetype": "text/x-r-source",
   "name": "R",
   "pygments_lexer": "r",
   "version": "3.6.1"
  }
 },
 "nbformat": 4,
 "nbformat_minor": 2
}
