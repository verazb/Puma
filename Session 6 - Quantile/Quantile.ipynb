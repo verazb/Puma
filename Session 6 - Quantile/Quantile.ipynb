{
 "cells": [
  {
   "cell_type": "markdown",
   "metadata": {},
   "source": [
    "**Applied Empirical Analysis (HS 2020)**\n",
    "\n",
    "**Conny Wunsch, Ulrike Unterhofer and Véra Zabrodina** -- University of Basel\n",
    "\n",
    "***\n",
    "\n",
    "# Lab Session 6 - Quantile Treatment Effects (QTE)\n",
    "\n",
    "***\n",
    "\n",
    "Key goal: look at treatment effects beyond the mean, i.e. different parts of the outcome distribution respond to the treatment. \n",
    "\n",
    "Example of QTE vs. ATE \n",
    "\n",
    "<img src=\"Quantile.JPG\" alt=\"Drawing\" style=\"width: 800px;\"/>\n",
    "\n",
    "\n",
    "Source: adapted from Markus Jochmann (2006), Three Essays on Bayesian Nonparametric Modeling in Microeconometrics."
   ]
  },
  {
   "cell_type": "markdown",
   "metadata": {},
   "source": [
    "## Application: Public-private sector wage differentials in Germany: Evidence from quantile regression\n",
    "\n",
    "**Blaise Melly (Empirical Economics, 2005)**\n",
    "\n",
    "For the author's website, with Stata and R codes and packages for quantile and distribution regression, see \n",
    "\n",
    "\n",
    "https://sites.google.com/site/blaisemelly/home/computer-programs"
   ]
  },
  {
   "cell_type": "markdown",
   "metadata": {},
   "source": [
    "## 1. Introduction\n",
    "\n",
    "* What is the research question, and why is it interesting? \n",
    "* Across which groups are the wage distributions compared (i.e. how are the treated and control groups defined)? \n",
    "* How do you expect the wage distributions to differ across these groups, and why? \n"
   ]
  },
  {
   "cell_type": "markdown",
   "metadata": {},
   "source": [
    "***\n",
    "\n",
    "## 2. Notation and effects of interest\n",
    "\n",
    "\n",
    "### Notation\n",
    "\n",
    "**Outcome variable** $Y$:  Log wages (to have a normally distributed outcome)\n",
    "\n",
    "\n",
    "**Binary treatment variable** $D\\in\\{0,1\\}$: Public ($D=1$) versus private sector employment ($D=0$)\n",
    "\n",
    "\n",
    "**Potential Outcomes:** $Y^*_0$, $Y^*_1$\n",
    "\n",
    "\n",
    "\n",
    "### Cumulative distribution function (CDF)\n",
    "\n",
    "$$F_Y(y)=Pr(Y\\le y)=E[\\underline{1}(Y\\le y)]$$\n",
    "\n",
    "CDF of the outcome variable $Y$ evaluated at $y$ is the share of observations lying below a given value $y$.\n",
    "\n",
    "CDF of the log(wage) for the whole sample: \n",
    "\n",
    "<img src=\"CDF.JPG\" alt=\"Drawing\" style=\"width: 400px;\"/>\n",
    "\n",
    "\n",
    "\n",
    "### Quantile function\n",
    "\n",
    "$$Q_Y(\\tau)=F^{-1}_Y(\\tau)=\\inf\\{y|F_Y(y)\\ge\\tau\\}$$\n",
    "\n",
    "Evaluated at $0<\\tau<1$, the quantile function gives the value of $Y$ that splits the sample into shares defined by $\\tau$.\n",
    "\n",
    "E.g. $Q_Y(0.5)$ corresponds to the value of $Y$ at the median (50th percentile).\n",
    "\n",
    "Quantile function of the log(wage) for the whole sample: \n",
    "\n",
    "<img src=\"QF.JPG\" alt=\"Drawing\" style=\"width: 400px;\"/>\n",
    "\n",
    "\n",
    "### Effects \n",
    "\n",
    "#### Average Treatement Effect (ATE)\n",
    "\n",
    "So far we have analysed the effect of a treatment on the average outcome by looking at the \n",
    "\n",
    "$$ATE=E[Y^*_1-Y^*_0]$$\n",
    "\n",
    "Now, we aim at estimating effects of a treatment on the distribution of the outcome variable. \n",
    "\n",
    "\n",
    "#### Distributional Treatment Effect (DTE)\n",
    "\n",
    "$$DTE(y)=F_{Y^*_1}(y)-F_{Y^*_0}(y)$$\n",
    "\n",
    "* Difference between the potential CDFs of the treatment and control group at a given value of $Y$.\n",
    "\n",
    "* In other (loose) words, difference in the shares of observations in the treatment and control samples that fall below a given value $y$. \n",
    "\n",
    "\n",
    "#### Quantile Treatment Effect (QTE)\n",
    "\n",
    "$$QTE(\\tau)=Q_{Y^*_1}(\\tau)-Q_{Y^*_0}(\\tau)$$\n",
    "\n",
    "* Difference between the potential quantile functions of the treatment and control group at a given quantile $\\tau$.\n",
    "\n",
    "* In other (loose) words, difference in the value of $Y$ that splits the treatment and control samples into shares defined by $\\tau$.\n",
    "\n",
    "* Note that $ATE=E[Y^*_1-Y^*_0]=E_{\\tau}[QTE(\\tau)]$ (that's why usually display OLS estimate for comparison). \n",
    "\n",
    "\n",
    "\n",
    "\n",
    "\n",
    "### Identification strategy and assumptions\n",
    "\n",
    "\n",
    "* Quantile treatment effects can be obtained based on different identification strategies (e.g. selection on observables, IV, RDD, see readings list), which may call for various estimators (as with ATE). \n",
    "\n",
    "\n",
    "* If $D$ is randomly assigned, ATE, DTE and QTE directly identified.  \n",
    "\n",
    "\n",
    "* With a classical **selection on observables** approach, standard identifying assumptions (SUTVA, CIA, common support). \n",
    "\n",
    "\n",
    "* Here, focus on explaining the wage gap (price differential) between public and private sector, and which part is due to differences in observable characteristics, rather recover a true causal effect.\n",
    "\n",
    "\n",
    "* However, estimation approaches follow those based on selection on observables. \n",
    "\n",
    "\n",
    "* First, estimate QTE (with quantile regression).\n",
    "* Second, use counterfactual distributions to estimate unconditional QTE and decompose into structure and composition. "
   ]
  },
  {
   "cell_type": "markdown",
   "metadata": {},
   "source": [
    "***\n",
    "\n",
    "## 3. Data\n",
    "\n",
    "Data on the wages and characteristics of a representative sample of 70k workers in Switzerland in 2014.\n",
    "\n",
    "Limited set of variables for simplicity.\n",
    "\n",
    "\n",
    "|variable name |   description |\n",
    "|----:|----:|\n",
    "| lnwage          |  log wage |\n",
    "| public          |  Public sector |\n",
    "| alter           |  Age |\n",
    "| befristet       |  Fixed-term contract |\n",
    "| teilzeit        |  Part-time work |\n",
    "| frau            |  Female |\n",
    "| nonswiss           | Non-Swiss |\n",
    "| married         |  Married |\n",
    "| case            |  ID |\n",
    "| dienstjahre     |  Years of service |"
   ]
  },
  {
   "cell_type": "markdown",
   "metadata": {},
   "source": [
    "***\n",
    "## 4. Empirical Analysis\n",
    "\n",
    "### Load packages\n",
    "\n",
    "Specific packages, see documentation (both very extensive, can stick to options used here):\n",
    "* `quantreg`: https://rdrr.io/cran/quantreg/man/rq.html\n",
    "* `Counterfactual`: https://arxiv.org/pdf/1610.07894.pdf"
   ]
  },
  {
   "cell_type": "code",
   "execution_count": 1,
   "metadata": {},
   "outputs": [
    {
     "name": "stderr",
     "output_type": "stream",
     "text": [
      "Loading required package: haven\n",
      "\n",
      "Warning message:\n",
      "\"package 'haven' was built under R version 3.6.3\"\n",
      "Loading required package: dplyr\n",
      "\n",
      "Warning message:\n",
      "\"package 'dplyr' was built under R version 3.6.3\"\n",
      "\n",
      "Attaching package: 'dplyr'\n",
      "\n",
      "\n",
      "The following objects are masked from 'package:stats':\n",
      "\n",
      "    filter, lag\n",
      "\n",
      "\n",
      "The following objects are masked from 'package:base':\n",
      "\n",
      "    intersect, setdiff, setequal, union\n",
      "\n",
      "\n",
      "Loading required package: tidyr\n",
      "\n",
      "Warning message:\n",
      "\"package 'tidyr' was built under R version 3.6.3\"\n",
      "Loading required package: sandwich\n",
      "\n",
      "Warning message:\n",
      "\"package 'sandwich' was built under R version 3.6.3\"\n",
      "Loading required package: expss\n",
      "\n",
      "Warning message:\n",
      "\"package 'expss' was built under R version 3.6.3\"\n",
      "\n",
      "Attaching package: 'expss'\n",
      "\n",
      "\n",
      "The following objects are masked from 'package:tidyr':\n",
      "\n",
      "    contains, nest\n",
      "\n",
      "\n",
      "The following objects are masked from 'package:dplyr':\n",
      "\n",
      "    between, compute, contains, first, last, na_if, recode, vars\n",
      "\n",
      "\n",
      "The following objects are masked from 'package:haven':\n",
      "\n",
      "    is.labelled, read_spss\n",
      "\n",
      "\n",
      "Loading required package: fBasics\n",
      "\n",
      "Warning message:\n",
      "\"package 'fBasics' was built under R version 3.6.3\"\n",
      "Loading required package: timeDate\n",
      "\n",
      "Warning message:\n",
      "\"package 'timeDate' was built under R version 3.6.3\"\n",
      "Loading required package: timeSeries\n",
      "\n",
      "Warning message:\n",
      "\"package 'timeSeries' was built under R version 3.6.3\"\n",
      "Loading required package: xtable\n",
      "\n",
      "Warning message:\n",
      "\"package 'xtable' was built under R version 3.6.3\"\n",
      "\n",
      "Attaching package: 'xtable'\n",
      "\n",
      "\n",
      "The following object is masked from 'package:timeSeries':\n",
      "\n",
      "    align\n",
      "\n",
      "\n",
      "The following object is masked from 'package:timeDate':\n",
      "\n",
      "    align\n",
      "\n",
      "\n",
      "Loading required package: data.table\n",
      "\n",
      "Warning message:\n",
      "\"package 'data.table' was built under R version 3.6.3\"\n",
      "\n",
      "Attaching package: 'data.table'\n",
      "\n",
      "\n",
      "The following objects are masked from 'package:expss':\n",
      "\n",
      "    copy, like\n",
      "\n",
      "\n",
      "The following objects are masked from 'package:dplyr':\n",
      "\n",
      "    between, first, last\n",
      "\n",
      "\n",
      "Loading required package: stargazer\n",
      "\n",
      "\n",
      "Please cite as: \n",
      "\n",
      "\n",
      " Hlavac, Marek (2018). stargazer: Well-Formatted Regression and Summary Statistics Tables.\n",
      "\n",
      " R package version 5.2.2. https://CRAN.R-project.org/package=stargazer \n",
      "\n",
      "\n",
      "Loading required package: mfx\n",
      "\n",
      "Warning message:\n",
      "\"package 'mfx' was built under R version 3.6.3\"\n",
      "Loading required package: lmtest\n",
      "\n",
      "Warning message:\n",
      "\"package 'lmtest' was built under R version 3.6.3\"\n",
      "Loading required package: zoo\n",
      "\n",
      "Warning message:\n",
      "\"package 'zoo' was built under R version 3.6.3\"\n",
      "\n",
      "Attaching package: 'zoo'\n",
      "\n",
      "\n",
      "The following object is masked from 'package:timeSeries':\n",
      "\n",
      "    time<-\n",
      "\n",
      "\n",
      "The following objects are masked from 'package:base':\n",
      "\n",
      "    as.Date, as.Date.numeric\n",
      "\n",
      "\n",
      "Loading required package: MASS\n",
      "\n",
      "\n",
      "Attaching package: 'MASS'\n",
      "\n",
      "\n",
      "The following object is masked from 'package:dplyr':\n",
      "\n",
      "    select\n",
      "\n",
      "\n",
      "Loading required package: betareg\n",
      "\n",
      "Warning message:\n",
      "\"package 'betareg' was built under R version 3.6.3\"\n",
      "Loading required package: jtools\n",
      "\n",
      "Warning message:\n",
      "\"package 'jtools' was built under R version 3.6.3\"\n",
      "Loading required package: ggplot2\n",
      "\n",
      "Warning message:\n",
      "\"package 'ggplot2' was built under R version 3.6.3\"\n",
      "\n",
      "Attaching package: 'ggplot2'\n",
      "\n",
      "\n",
      "The following object is masked from 'package:expss':\n",
      "\n",
      "    vars\n",
      "\n",
      "\n"
     ]
    },
    {
     "data": {
      "text/html": [
       "<ol>\n",
       "\t<li>TRUE</li>\n",
       "\t<li>TRUE</li>\n",
       "\t<li>TRUE</li>\n",
       "\t<li>TRUE</li>\n",
       "\t<li>TRUE</li>\n",
       "\t<li>TRUE</li>\n",
       "\t<li>TRUE</li>\n",
       "\t<li>TRUE</li>\n",
       "\t<li>TRUE</li>\n",
       "\t<li>TRUE</li>\n",
       "\t<li>TRUE</li>\n",
       "\t<li>TRUE</li>\n",
       "</ol>\n"
      ],
      "text/latex": [
       "\\begin{enumerate}\n",
       "\\item TRUE\n",
       "\\item TRUE\n",
       "\\item TRUE\n",
       "\\item TRUE\n",
       "\\item TRUE\n",
       "\\item TRUE\n",
       "\\item TRUE\n",
       "\\item TRUE\n",
       "\\item TRUE\n",
       "\\item TRUE\n",
       "\\item TRUE\n",
       "\\item TRUE\n",
       "\\end{enumerate}\n"
      ],
      "text/markdown": [
       "1. TRUE\n",
       "2. TRUE\n",
       "3. TRUE\n",
       "4. TRUE\n",
       "5. TRUE\n",
       "6. TRUE\n",
       "7. TRUE\n",
       "8. TRUE\n",
       "9. TRUE\n",
       "10. TRUE\n",
       "11. TRUE\n",
       "12. TRUE\n",
       "\n",
       "\n"
      ],
      "text/plain": [
       "[[1]]\n",
       "[1] TRUE\n",
       "\n",
       "[[2]]\n",
       "[1] TRUE\n",
       "\n",
       "[[3]]\n",
       "[1] TRUE\n",
       "\n",
       "[[4]]\n",
       "[1] TRUE\n",
       "\n",
       "[[5]]\n",
       "[1] TRUE\n",
       "\n",
       "[[6]]\n",
       "[1] TRUE\n",
       "\n",
       "[[7]]\n",
       "[1] TRUE\n",
       "\n",
       "[[8]]\n",
       "[1] TRUE\n",
       "\n",
       "[[9]]\n",
       "[1] TRUE\n",
       "\n",
       "[[10]]\n",
       "[1] TRUE\n",
       "\n",
       "[[11]]\n",
       "[1] TRUE\n",
       "\n",
       "[[12]]\n",
       "[1] TRUE\n"
      ]
     },
     "metadata": {},
     "output_type": "display_data"
    },
    {
     "name": "stderr",
     "output_type": "stream",
     "text": [
      "Loading required package: quantreg\n",
      "\n",
      "Warning message:\n",
      "\"package 'quantreg' was built under R version 3.6.3\"\n",
      "Loading required package: SparseM\n",
      "\n",
      "Warning message:\n",
      "\"package 'SparseM' was built under R version 3.6.2\"\n",
      "\n",
      "Attaching package: 'SparseM'\n",
      "\n",
      "\n",
      "The following object is masked from 'package:base':\n",
      "\n",
      "    backsolve\n",
      "\n",
      "\n",
      "Loading required package: Counterfactual\n",
      "\n",
      "Warning message:\n",
      "\"package 'Counterfactual' was built under R version 3.6.3\"\n",
      "Registered S3 methods overwritten by 'Hmisc':\n",
      "  method                 from \n",
      "  [.labelled             expss\n",
      "  print.labelled         expss\n",
      "  as.data.frame.labelled expss\n",
      "\n"
     ]
    },
    {
     "data": {
      "text/html": [
       "<ol>\n",
       "\t<li>TRUE</li>\n",
       "\t<li>TRUE</li>\n",
       "</ol>\n"
      ],
      "text/latex": [
       "\\begin{enumerate}\n",
       "\\item TRUE\n",
       "\\item TRUE\n",
       "\\end{enumerate}\n"
      ],
      "text/markdown": [
       "1. TRUE\n",
       "2. TRUE\n",
       "\n",
       "\n"
      ],
      "text/plain": [
       "[[1]]\n",
       "[1] TRUE\n",
       "\n",
       "[[2]]\n",
       "[1] TRUE\n"
      ]
     },
     "metadata": {},
     "output_type": "display_data"
    },
    {
     "data": {
      "text/html": [
       "<style>\n",
       ".list-inline {list-style: none; margin:0; padding: 0}\n",
       ".list-inline>li {display: inline-block}\n",
       ".list-inline>li:not(:last-child)::after {content: \"\\00b7\"; padding: 0 .5ex}\n",
       "</style>\n",
       "<ol class=list-inline><li>'Counterfactual'</li><li>'quantreg'</li><li>'SparseM'</li><li>'ggplot2'</li><li>'jtools'</li><li>'mfx'</li><li>'betareg'</li><li>'MASS'</li><li>'lmtest'</li><li>'zoo'</li><li>'stargazer'</li><li>'data.table'</li><li>'xtable'</li><li>'fBasics'</li><li>'timeSeries'</li><li>'timeDate'</li><li>'expss'</li><li>'sandwich'</li><li>'tidyr'</li><li>'dplyr'</li><li>'haven'</li><li>'stats'</li><li>'graphics'</li><li>'grDevices'</li><li>'utils'</li><li>'datasets'</li><li>'methods'</li><li>'base'</li></ol>\n"
      ],
      "text/latex": [
       "\\begin{enumerate*}\n",
       "\\item 'Counterfactual'\n",
       "\\item 'quantreg'\n",
       "\\item 'SparseM'\n",
       "\\item 'ggplot2'\n",
       "\\item 'jtools'\n",
       "\\item 'mfx'\n",
       "\\item 'betareg'\n",
       "\\item 'MASS'\n",
       "\\item 'lmtest'\n",
       "\\item 'zoo'\n",
       "\\item 'stargazer'\n",
       "\\item 'data.table'\n",
       "\\item 'xtable'\n",
       "\\item 'fBasics'\n",
       "\\item 'timeSeries'\n",
       "\\item 'timeDate'\n",
       "\\item 'expss'\n",
       "\\item 'sandwich'\n",
       "\\item 'tidyr'\n",
       "\\item 'dplyr'\n",
       "\\item 'haven'\n",
       "\\item 'stats'\n",
       "\\item 'graphics'\n",
       "\\item 'grDevices'\n",
       "\\item 'utils'\n",
       "\\item 'datasets'\n",
       "\\item 'methods'\n",
       "\\item 'base'\n",
       "\\end{enumerate*}\n"
      ],
      "text/markdown": [
       "1. 'Counterfactual'\n",
       "2. 'quantreg'\n",
       "3. 'SparseM'\n",
       "4. 'ggplot2'\n",
       "5. 'jtools'\n",
       "6. 'mfx'\n",
       "7. 'betareg'\n",
       "8. 'MASS'\n",
       "9. 'lmtest'\n",
       "10. 'zoo'\n",
       "11. 'stargazer'\n",
       "12. 'data.table'\n",
       "13. 'xtable'\n",
       "14. 'fBasics'\n",
       "15. 'timeSeries'\n",
       "16. 'timeDate'\n",
       "17. 'expss'\n",
       "18. 'sandwich'\n",
       "19. 'tidyr'\n",
       "20. 'dplyr'\n",
       "21. 'haven'\n",
       "22. 'stats'\n",
       "23. 'graphics'\n",
       "24. 'grDevices'\n",
       "25. 'utils'\n",
       "26. 'datasets'\n",
       "27. 'methods'\n",
       "28. 'base'\n",
       "\n",
       "\n"
      ],
      "text/plain": [
       " [1] \"Counterfactual\" \"quantreg\"       \"SparseM\"        \"ggplot2\"       \n",
       " [5] \"jtools\"         \"mfx\"            \"betareg\"        \"MASS\"          \n",
       " [9] \"lmtest\"         \"zoo\"            \"stargazer\"      \"data.table\"    \n",
       "[13] \"xtable\"         \"fBasics\"        \"timeSeries\"     \"timeDate\"      \n",
       "[17] \"expss\"          \"sandwich\"       \"tidyr\"          \"dplyr\"         \n",
       "[21] \"haven\"          \"stats\"          \"graphics\"       \"grDevices\"     \n",
       "[25] \"utils\"          \"datasets\"       \"methods\"        \"base\"          "
      ]
     },
     "metadata": {},
     "output_type": "display_data"
    },
    {
     "name": "stdout",
     "output_type": "stream",
     "text": [
      "[1] \"All packages successfully installed and loaded.\"\n"
     ]
    }
   ],
   "source": [
    "rm(list=ls())\n",
    "\n",
    "\n",
    "packages_vector <- c(\"haven\", \"dplyr\", \"tidyr\", \"sandwich\", \"expss\",\n",
    "                        \"fBasics\", \"xtable\", \"data.table\", \"stargazer\", \"mfx\", \n",
    "                        \"jtools\", \"ggplot2\")\n",
    "#install.packages(packages_vector)\n",
    "lapply(packages_vector, require, character.only = TRUE) \n",
    "\n",
    "\n",
    "# Quantile-specific packages \n",
    "packaged_vector_rdd <- c(\"quantreg\", \"Counterfactual\")\n",
    "# install.packages(packages_vector)\n",
    "lapply(packaged_vector_rdd, require, character.only = TRUE) \n",
    "\n",
    "\n",
    "# List loaded packages \n",
    "(.packages())\n",
    "\n",
    "print('All packages successfully installed and loaded.')"
   ]
  },
  {
   "cell_type": "markdown",
   "metadata": {},
   "source": [
    "### Load data "
   ]
  },
  {
   "cell_type": "code",
   "execution_count": 2,
   "metadata": {},
   "outputs": [
    {
     "data": {
      "text/html": [
       "<table>\n",
       "<caption>A data.frame: 6 × 10</caption>\n",
       "<thead>\n",
       "\t<tr><th></th><th scope=col>alter</th><th scope=col>lnwage</th><th scope=col>befristet</th><th scope=col>teilzeit</th><th scope=col>frau</th><th scope=col>public</th><th scope=col>married</th><th scope=col>case</th><th scope=col>dienstjahre</th><th scope=col>nonswiss</th></tr>\n",
       "\t<tr><th></th><th scope=col>&lt;dbl&gt;</th><th scope=col>&lt;dbl&gt;</th><th scope=col>&lt;dbl&gt;</th><th scope=col>&lt;dbl&gt;</th><th scope=col>&lt;dbl&gt;</th><th scope=col>&lt;dbl&gt;</th><th scope=col>&lt;dbl&gt;</th><th scope=col>&lt;dbl&gt;</th><th scope=col>&lt;dbl&gt;</th><th scope=col>&lt;dbl&gt;</th></tr>\n",
       "</thead>\n",
       "<tbody>\n",
       "\t<tr><th scope=row>1</th><td>40</td><td>8.690810</td><td>0</td><td>1</td><td>0</td><td>0</td><td>1</td><td> 1</td><td> 4</td><td>0</td></tr>\n",
       "\t<tr><th scope=row>2</th><td>55</td><td>9.320091</td><td>0</td><td>0</td><td>0</td><td>0</td><td>0</td><td> 7</td><td>15</td><td>0</td></tr>\n",
       "\t<tr><th scope=row>3</th><td>42</td><td>8.246172</td><td>0</td><td>1</td><td>1</td><td>0</td><td>0</td><td> 9</td><td> 2</td><td>0</td></tr>\n",
       "\t<tr><th scope=row>4</th><td>25</td><td>8.828934</td><td>0</td><td>0</td><td>0</td><td>0</td><td>0</td><td>22</td><td> 7</td><td>0</td></tr>\n",
       "\t<tr><th scope=row>5</th><td>53</td><td>8.422882</td><td>0</td><td>1</td><td>1</td><td>0</td><td>0</td><td>23</td><td> 2</td><td>0</td></tr>\n",
       "\t<tr><th scope=row>6</th><td>22</td><td>8.603371</td><td>0</td><td>0</td><td>1</td><td>0</td><td>0</td><td>25</td><td> 0</td><td>1</td></tr>\n",
       "</tbody>\n",
       "</table>\n"
      ],
      "text/latex": [
       "A data.frame: 6 × 10\n",
       "\\begin{tabular}{r|llllllllll}\n",
       "  & alter & lnwage & befristet & teilzeit & frau & public & married & case & dienstjahre & nonswiss\\\\\n",
       "  & <dbl> & <dbl> & <dbl> & <dbl> & <dbl> & <dbl> & <dbl> & <dbl> & <dbl> & <dbl>\\\\\n",
       "\\hline\n",
       "\t1 & 40 & 8.690810 & 0 & 1 & 0 & 0 & 1 &  1 &  4 & 0\\\\\n",
       "\t2 & 55 & 9.320091 & 0 & 0 & 0 & 0 & 0 &  7 & 15 & 0\\\\\n",
       "\t3 & 42 & 8.246172 & 0 & 1 & 1 & 0 & 0 &  9 &  2 & 0\\\\\n",
       "\t4 & 25 & 8.828934 & 0 & 0 & 0 & 0 & 0 & 22 &  7 & 0\\\\\n",
       "\t5 & 53 & 8.422882 & 0 & 1 & 1 & 0 & 0 & 23 &  2 & 0\\\\\n",
       "\t6 & 22 & 8.603371 & 0 & 0 & 1 & 0 & 0 & 25 &  0 & 1\\\\\n",
       "\\end{tabular}\n"
      ],
      "text/markdown": [
       "\n",
       "A data.frame: 6 × 10\n",
       "\n",
       "| <!--/--> | alter &lt;dbl&gt; | lnwage &lt;dbl&gt; | befristet &lt;dbl&gt; | teilzeit &lt;dbl&gt; | frau &lt;dbl&gt; | public &lt;dbl&gt; | married &lt;dbl&gt; | case &lt;dbl&gt; | dienstjahre &lt;dbl&gt; | nonswiss &lt;dbl&gt; |\n",
       "|---|---|---|---|---|---|---|---|---|---|---|\n",
       "| 1 | 40 | 8.690810 | 0 | 1 | 0 | 0 | 1 |  1 |  4 | 0 |\n",
       "| 2 | 55 | 9.320091 | 0 | 0 | 0 | 0 | 0 |  7 | 15 | 0 |\n",
       "| 3 | 42 | 8.246172 | 0 | 1 | 1 | 0 | 0 |  9 |  2 | 0 |\n",
       "| 4 | 25 | 8.828934 | 0 | 0 | 0 | 0 | 0 | 22 |  7 | 0 |\n",
       "| 5 | 53 | 8.422882 | 0 | 1 | 1 | 0 | 0 | 23 |  2 | 0 |\n",
       "| 6 | 22 | 8.603371 | 0 | 0 | 1 | 0 | 0 | 25 |  0 | 1 |\n",
       "\n"
      ],
      "text/plain": [
       "  alter lnwage   befristet teilzeit frau public married case dienstjahre\n",
       "1 40    8.690810 0         1        0    0      1        1    4         \n",
       "2 55    9.320091 0         0        0    0      0        7   15         \n",
       "3 42    8.246172 0         1        1    0      0        9    2         \n",
       "4 25    8.828934 0         0        0    0      0       22    7         \n",
       "5 53    8.422882 0         1        1    0      0       23    2         \n",
       "6 22    8.603371 0         0        1    0      0       25    0         \n",
       "  nonswiss\n",
       "1 0       \n",
       "2 0       \n",
       "3 0       \n",
       "4 0       \n",
       "5 0       \n",
       "6 1       "
      ]
     },
     "metadata": {},
     "output_type": "display_data"
    }
   ],
   "source": [
    "data <-as.data.frame(read_dta(\"data_simple.dta\"))\n",
    "attach(data)\n",
    "\n",
    "head(data)"
   ]
  },
  {
   "cell_type": "markdown",
   "metadata": {},
   "source": [
    "***\n",
    "\n",
    "## Descriptive statistics "
   ]
  },
  {
   "cell_type": "markdown",
   "metadata": {},
   "source": [
    "### Number of public and private sector employees"
   ]
  },
  {
   "cell_type": "code",
   "execution_count": 3,
   "metadata": {
    "scrolled": false
   },
   "outputs": [
    {
     "data": {
      "text/html": [
       "<table class='gmisc_table' style='border-collapse: collapse; margin-top: 1em; margin-bottom: 1em;' >\n",
       "<thead>\n",
       "<tr>\n",
       "<th style='font-weight: 900; border-bottom: 1px solid grey; border-top: 2px solid grey; text-align: center;'></th>\n",
       "<th style='border-bottom: 1px solid grey; border-top: 2px solid grey; text-align: center;'></th>\n",
       "<th style='border-bottom: 1px solid grey; border-top: 2px solid grey; text-align: center;'>&nbsp;#Total&nbsp;</th>\n",
       "</tr>\n",
       "</thead>\n",
       "<tbody>\n",
       "<tr>\n",
       "<td style='text-align: left;'>&nbsp;Public sector&nbsp;</td>\n",
       "<td style='text-align: left;'>&nbsp;0&nbsp;</td>\n",
       "<td style='text-align: right;'>53149</td>\n",
       "</tr>\n",
       "<tr>\n",
       "<td style='text-align: left;'></td>\n",
       "<td style='text-align: left;'>&nbsp;1&nbsp;</td>\n",
       "<td style='text-align: right;'>18124</td>\n",
       "</tr>\n",
       "<tr>\n",
       "<td style='border-bottom: 2px solid grey; text-align: left;'></td>\n",
       "<td style='border-bottom: 2px solid grey; text-align: left;'>&nbsp;#Total cases&nbsp;</td>\n",
       "<td style='border-bottom: 2px solid grey; text-align: right;'>71273</td>\n",
       "</tr>\n",
       "</tbody>\n",
       "</table>"
      ],
      "text/latex": [
       "A etable: 3 × 2\n",
       "\\begin{tabular}{ll}\n",
       " row\\_labels & \\#Total\\\\\n",
       " <chr> & <dbl>\\\\\n",
       "\\hline\n",
       "\t Public sector\\textbar{}0            & 53149\\\\\n",
       "\t Public sector\\textbar{}1            & 18124\\\\\n",
       "\t Public sector\\textbar{}\\#Total cases & 71273\\\\\n",
       "\\end{tabular}\n"
      ],
      "text/markdown": [
       "\n",
       "A etable: 3 × 2\n",
       "\n",
       "| row_labels &lt;chr&gt; | #Total &lt;dbl&gt; |\n",
       "|---|---|\n",
       "| Public sector|0            | 53149 |\n",
       "| Public sector|1            | 18124 |\n",
       "| Public sector|#Total cases | 71273 |\n",
       "\n"
      ],
      "text/plain": [
       "                                          \n",
       " |               |              | #Total |\n",
       " | ------------- | ------------ | ------ |\n",
       " | Public sector |            0 |  53149 |\n",
       " |               |            1 |  18124 |\n",
       " |               | #Total cases |  71273 |"
      ]
     },
     "metadata": {},
     "output_type": "display_data"
    }
   ],
   "source": [
    "cro(public)"
   ]
  },
  {
   "cell_type": "markdown",
   "metadata": {},
   "source": [
    "### Differences in average characteristics between individuals in the treatment and control group"
   ]
  },
  {
   "cell_type": "code",
   "execution_count": 4,
   "metadata": {},
   "outputs": [
    {
     "name": "stdout",
     "output_type": "stream",
     "text": [
      "[1] \"Difference in means by treatment status\"\n"
     ]
    },
    {
     "data": {
      "text/html": [
       "<!-- html table generated in R 3.6.1 by xtable 1.8-4 package --><!-- Thu Dec 03 15:56:05 2020 --><table border=1><tr> <th>  </th> <th> E(X|D=0) </th> <th> E(X|D=1) </th> <th> Difference </th> <th> s.e. </th> <th> p-value </th>  </tr>  <tr> <td align=\"right\"> lnwage </td> <td align=\"right\"> 8.826 </td> <td align=\"right\"> 8.985 </td> <td align=\"right\"> 0.159 </td> <td align=\"right\"> 0.003 </td> <td align=\"right\"> 0.000 </td> </tr>  <tr> <td align=\"right\"> alter </td> <td align=\"right\"> 38.341 </td> <td align=\"right\"> 39.667 </td> <td align=\"right\"> 1.326 </td> <td align=\"right\"> 0.089 </td> <td align=\"right\"> 0.000 </td> </tr>  <tr> <td align=\"right\"> frau </td> <td align=\"right\"> 0.426 </td> <td align=\"right\"> 0.542 </td> <td align=\"right\"> 0.117 </td> <td align=\"right\"> 0.004 </td> <td align=\"right\"> 0.000 </td> </tr>  <tr> <td align=\"right\"> teilzeit </td> <td align=\"right\"> 0.286 </td> <td align=\"right\"> 0.501 </td> <td align=\"right\"> 0.216 </td> <td align=\"right\"> 0.004 </td> <td align=\"right\"> 0.000 </td> </tr>  <tr> <td align=\"right\"> befristet </td> <td align=\"right\"> 0.031 </td> <td align=\"right\"> 0.135 </td> <td align=\"right\"> 0.105 </td> <td align=\"right\"> 0.003 </td> <td align=\"right\"> 0.000 </td> </tr>  <tr> <td align=\"right\"> nonswiss </td> <td align=\"right\"> 0.341 </td> <td align=\"right\"> 0.180 </td> <td align=\"right\"> -0.161 </td> <td align=\"right\"> 0.004 </td> <td align=\"right\"> 0.000 </td> </tr>  <tr> <td align=\"right\"> married </td> <td align=\"right\"> 0.516 </td> <td align=\"right\"> 0.517 </td> <td align=\"right\"> 0.001 </td> <td align=\"right\"> 0.004 </td> <td align=\"right\"> 0.847 </td> </tr>  <tr> <td align=\"right\"> dienstjahre </td> <td align=\"right\"> 8.031 </td> <td align=\"right\"> 8.872 </td> <td align=\"right\"> 0.841 </td> <td align=\"right\"> 0.073 </td> <td align=\"right\"> 0.000 </td> </tr>   </table>"
      ],
      "text/latex": [
       "A xtable: 8 × 5\n",
       "\\begin{tabular}{r|lllll}\n",
       "  & E(X\\textbar{}D=0) & E(X\\textbar{}D=1) & Difference & s.e. & p-value\\\\\n",
       "  & <dbl> & <dbl> & <dbl> & <dbl> & <dbl>\\\\\n",
       "\\hline\n",
       "\tlnwage &  8.82613831 &  8.9851595 &  0.1590212056 & 0.003217250 &  0.000000e+00\\\\\n",
       "\talter & 38.34075900 & 39.6666299 &  1.3258708847 & 0.089056013 &  3.940633e-50\\\\\n",
       "\tfrau &  0.42574649 &  0.5422644 &  0.1165179145 & 0.004277303 & 2.125837e-163\\\\\n",
       "\tteilzeit &  0.28557452 &  0.5013242 &  0.2157496941 & 0.004199100 &  0.000000e+00\\\\\n",
       "\tbefristet &  0.03061205 &  0.1353454 &  0.1047333455 & 0.002648651 &  0.000000e+00\\\\\n",
       "\tnonswiss &  0.34117293 &  0.1804789 & -0.1606940060 & 0.003519933 &  0.000000e+00\\\\\n",
       "\tmarried &  0.51588929 &  0.5167182 &  0.0008288714 & 0.004298540 &  8.470951e-01\\\\\n",
       "\tdienstjahre &  8.03117650 &  8.8721033 &  0.8409267847 & 0.073479031 &  2.507015e-30\\\\\n",
       "\\end{tabular}\n"
      ],
      "text/markdown": [
       "\n",
       "A xtable: 8 × 5\n",
       "\n",
       "| <!--/--> | E(X|D=0) &lt;dbl&gt; | E(X|D=1) &lt;dbl&gt; | Difference &lt;dbl&gt; | s.e. &lt;dbl&gt; | p-value &lt;dbl&gt; |\n",
       "|---|---|---|---|---|---|\n",
       "| lnwage |  8.82613831 |  8.9851595 |  0.1590212056 | 0.003217250 |  0.000000e+00 |\n",
       "| alter | 38.34075900 | 39.6666299 |  1.3258708847 | 0.089056013 |  3.940633e-50 |\n",
       "| frau |  0.42574649 |  0.5422644 |  0.1165179145 | 0.004277303 | 2.125837e-163 |\n",
       "| teilzeit |  0.28557452 |  0.5013242 |  0.2157496941 | 0.004199100 |  0.000000e+00 |\n",
       "| befristet |  0.03061205 |  0.1353454 |  0.1047333455 | 0.002648651 |  0.000000e+00 |\n",
       "| nonswiss |  0.34117293 |  0.1804789 | -0.1606940060 | 0.003519933 |  0.000000e+00 |\n",
       "| married |  0.51588929 |  0.5167182 |  0.0008288714 | 0.004298540 |  8.470951e-01 |\n",
       "| dienstjahre |  8.03117650 |  8.8721033 |  0.8409267847 | 0.073479031 |  2.507015e-30 |\n",
       "\n"
      ],
      "text/plain": [
       "            E(X|D=0)    E(X|D=1)   Difference    s.e.        p-value      \n",
       "lnwage       8.82613831  8.9851595  0.1590212056 0.003217250  0.000000e+00\n",
       "alter       38.34075900 39.6666299  1.3258708847 0.089056013  3.940633e-50\n",
       "frau         0.42574649  0.5422644  0.1165179145 0.004277303 2.125837e-163\n",
       "teilzeit     0.28557452  0.5013242  0.2157496941 0.004199100  0.000000e+00\n",
       "befristet    0.03061205  0.1353454  0.1047333455 0.002648651  0.000000e+00\n",
       "nonswiss     0.34117293  0.1804789 -0.1606940060 0.003519933  0.000000e+00\n",
       "married      0.51588929  0.5167182  0.0008288714 0.004298540  8.470951e-01\n",
       "dienstjahre  8.03117650  8.8721033  0.8409267847 0.073479031  2.507015e-30"
      ]
     },
     "metadata": {},
     "output_type": "display_data"
    }
   ],
   "source": [
    "# Variables for table\n",
    "descriptives <- dplyr::select(data, lnwage, alter, frau, teilzeit, befristet, nonswiss, married, dienstjahre) \n",
    "descriptives_names  <- colnames(descriptives)\n",
    "\n",
    "\n",
    "# Function for table display\n",
    "repr_html.xtable <- function(obj, ...){\n",
    "    paste(capture.output(print(obj, type = 'html')), collapse=\"\", sep=\"\")\n",
    "}\n",
    "\n",
    "# Define a function estimating the differences in variables across D\n",
    "balance_check <- function(x){\n",
    "    \n",
    " \n",
    "    # Conditional means\n",
    "    mean_private <- mean(x[data$public==0], na.rm=TRUE)\n",
    "    mean_public <- mean(x[data$public==1], na.rm=TRUE)\n",
    "    \n",
    "    # Difference in means\n",
    "    diff <- lm(x ~ data$public)\n",
    "    cov <- vcovHC(diff, type = \"HC\")\n",
    "    robust.se <- sqrt(diag(cov))\n",
    "    \n",
    "    list(mean_private = mean_private, \n",
    "         mean_public = mean_public,\n",
    "         coeff = diff$coefficients[2], \n",
    "         robust.se = robust.se[2], \n",
    "         pval = 2*pnorm(-abs(diff$coefficients[2]/robust.se[2]))\n",
    "        )             \n",
    "}\n",
    "\n",
    "diff_output <- apply(descriptives, 2, balance_check)\n",
    "\n",
    "# convert list to table\n",
    "diff_output<-rbindlist(diff_output)\n",
    "rownames(diff_output)<- descriptives_names\n",
    "colnames(diff_output)<- c(\"E(X|D=0)\", \"E(X|D=1)\", \n",
    "                          \"Difference\", \"s.e.\", \n",
    "                          \"p-value\")\n",
    "\n",
    "# plot table\n",
    "print(\"Difference in means by treatment status\")\n",
    "xtable(diff_output, digits=3)"
   ]
  },
  {
   "cell_type": "markdown",
   "metadata": {},
   "source": [
    "### Wage distributions across groups\n",
    "#### 1. Density Plot"
   ]
  },
  {
   "cell_type": "code",
   "execution_count": 5,
   "metadata": {},
   "outputs": [
    {
     "data": {
      "image/png": "[encoded data removed]",
      "text/plain": [
       "plot without title"
      ]
     },
     "metadata": {
      "image/png": {
       "height": 300,
       "width": 525
      }
     },
     "output_type": "display_data"
    }
   ],
   "source": [
    "options(repr.plot.width=7, repr.plot.height=4, repr.plot.res = 150)\n",
    "\n",
    "# Factor public variable for plot labelling \n",
    "data$public_factor <- factor(data$public, \n",
    "levels = c(0,1), label = c(\"Private\", \"Public\")) \n",
    "\n",
    "\n",
    "density_public_private <- ggplot(data, \n",
    "    aes(x=lnwage, \n",
    "    group=public_factor, \n",
    "    color=public_factor, \n",
    "    fill=public_factor)) +\n",
    "    geom_density(alpha=0.2) + # define to be density plot \n",
    "    scale_color_manual(values=c(\"red\", \"blue\")) +\n",
    "    scale_fill_manual(values=c(\"red\", \"blue\")) +\n",
    "    theme_bw(base_size = 20) \n",
    "density_public_private"
   ]
  },
  {
   "cell_type": "markdown",
   "metadata": {},
   "source": [
    "**2. Cumulative Distribution**\n",
    "\n",
    "The green line denotes the median."
   ]
  },
  {
   "cell_type": "code",
   "execution_count": 6,
   "metadata": {},
   "outputs": [
    {
     "data": {
      "image/png": "[encoded data removed]",
      "text/plain": [
       "plot without title"
      ]
     },
     "metadata": {
      "image/png": {
       "height": 300,
       "width": 525
      }
     },
     "output_type": "display_data"
    }
   ],
   "source": [
    "cdf_public_private <- ggplot(data, aes(lnwage, colour = public_factor)) + \n",
    "                        stat_ecdf() + # define CDF plot type \n",
    "                        ylab(\"Cumulative probability\") +\n",
    "                        xlab(\"Log(wage)\") +\n",
    "                        geom_hline(yintercept=0.5, color = \"green\") +\n",
    "                        scale_color_manual(values=c(\"red\", \"blue\")) +\n",
    "                        scale_fill_manual(values=c(\"red\", \"blue\")) +\n",
    "                        theme_bw(base_size = 20) \n",
    "\n",
    "cdf_public_private"
   ]
  },
  {
   "cell_type": "markdown",
   "metadata": {},
   "source": [
    "**3. Quantiles of wages**"
   ]
  },
  {
   "cell_type": "code",
   "execution_count": 7,
   "metadata": {
    "scrolled": false
   },
   "outputs": [
    {
     "name": "stdout",
     "output_type": "stream",
     "text": [
      "[1] \"Quantiles of log wage all\"\n"
     ]
    },
    {
     "data": {
      "text/html": [
       "<table>\n",
       "<caption>A matrix: 1 × 5 of type dbl</caption>\n",
       "<thead>\n",
       "\t<tr><th scope=col>10%</th><th scope=col>30%</th><th scope=col>50%</th><th scope=col>70%</th><th scope=col>90%</th></tr>\n",
       "</thead>\n",
       "<tbody>\n",
       "\t<tr><td>8.396</td><td>8.642</td><td>8.831</td><td>9.041</td><td>9.387</td></tr>\n",
       "</tbody>\n",
       "</table>\n"
      ],
      "text/latex": [
       "A matrix: 1 × 5 of type dbl\n",
       "\\begin{tabular}{lllll}\n",
       " 10\\% & 30\\% & 50\\% & 70\\% & 90\\%\\\\\n",
       "\\hline\n",
       "\t 8.396 & 8.642 & 8.831 & 9.041 & 9.387\\\\\n",
       "\\end{tabular}\n"
      ],
      "text/markdown": [
       "\n",
       "A matrix: 1 × 5 of type dbl\n",
       "\n",
       "| 10% | 30% | 50% | 70% | 90% |\n",
       "|---|---|---|---|---|\n",
       "| 8.396 | 8.642 | 8.831 | 9.041 | 9.387 |\n",
       "\n"
      ],
      "text/plain": [
       "     10%   30%   50%   70%   90%  \n",
       "[1,] 8.396 8.642 8.831 9.041 9.387"
      ]
     },
     "metadata": {},
     "output_type": "display_data"
    },
    {
     "name": "stdout",
     "output_type": "stream",
     "text": [
      "[1] \"Quantiles of log wage public sector\"\n"
     ]
    },
    {
     "data": {
      "text/html": [
       "<table>\n",
       "<caption>A matrix: 1 × 5 of type dbl</caption>\n",
       "<thead>\n",
       "\t<tr><th scope=col>10%</th><th scope=col>30%</th><th scope=col>50%</th><th scope=col>70%</th><th scope=col>90%</th></tr>\n",
       "</thead>\n",
       "<tbody>\n",
       "\t<tr><td>8.579</td><td>8.812</td><td>8.968</td><td>9.142</td><td>9.412</td></tr>\n",
       "</tbody>\n",
       "</table>\n"
      ],
      "text/latex": [
       "A matrix: 1 × 5 of type dbl\n",
       "\\begin{tabular}{lllll}\n",
       " 10\\% & 30\\% & 50\\% & 70\\% & 90\\%\\\\\n",
       "\\hline\n",
       "\t 8.579 & 8.812 & 8.968 & 9.142 & 9.412\\\\\n",
       "\\end{tabular}\n"
      ],
      "text/markdown": [
       "\n",
       "A matrix: 1 × 5 of type dbl\n",
       "\n",
       "| 10% | 30% | 50% | 70% | 90% |\n",
       "|---|---|---|---|---|\n",
       "| 8.579 | 8.812 | 8.968 | 9.142 | 9.412 |\n",
       "\n"
      ],
      "text/plain": [
       "     10%   30%   50%   70%   90%  \n",
       "[1,] 8.579 8.812 8.968 9.142 9.412"
      ]
     },
     "metadata": {},
     "output_type": "display_data"
    },
    {
     "name": "stdout",
     "output_type": "stream",
     "text": [
      "[1] \"Quantiles of log wage private sector\"\n"
     ]
    },
    {
     "data": {
      "text/html": [
       "<table>\n",
       "<caption>A matrix: 1 × 5 of type dbl</caption>\n",
       "<thead>\n",
       "\t<tr><th scope=col>10%</th><th scope=col>30%</th><th scope=col>50%</th><th scope=col>70%</th><th scope=col>90%</th></tr>\n",
       "</thead>\n",
       "<tbody>\n",
       "\t<tr><td>8.364</td><td>8.587</td><td>8.773</td><td>8.987</td><td>9.372</td></tr>\n",
       "</tbody>\n",
       "</table>\n"
      ],
      "text/latex": [
       "A matrix: 1 × 5 of type dbl\n",
       "\\begin{tabular}{lllll}\n",
       " 10\\% & 30\\% & 50\\% & 70\\% & 90\\%\\\\\n",
       "\\hline\n",
       "\t 8.364 & 8.587 & 8.773 & 8.987 & 9.372\\\\\n",
       "\\end{tabular}\n"
      ],
      "text/markdown": [
       "\n",
       "A matrix: 1 × 5 of type dbl\n",
       "\n",
       "| 10% | 30% | 50% | 70% | 90% |\n",
       "|---|---|---|---|---|\n",
       "| 8.364 | 8.587 | 8.773 | 8.987 | 9.372 |\n",
       "\n"
      ],
      "text/plain": [
       "     10%   30%   50%   70%   90%  \n",
       "[1,] 8.364 8.587 8.773 8.987 9.372"
      ]
     },
     "metadata": {},
     "output_type": "display_data"
    }
   ],
   "source": [
    "q <- seq(0.1, 0.9, 0.2)\n",
    "\n",
    "quantiles_all <- quantile(lnwage, \n",
    "                          probs = q, \n",
    "                          na.rm = FALSE,\n",
    "                          names = TRUE,\n",
    "                          type = 7)\n",
    "\n",
    "quantiles_public <- quantile(lnwage[public==1], \n",
    "                             probs = q, \n",
    "                             na.rm = FALSE,\n",
    "                             names = TRUE,\n",
    "                             type = 7)\n",
    "\n",
    "quantiles_private <- quantile(lnwage[public==0], \n",
    "                              probs = q, \n",
    "                              na.rm = FALSE,\n",
    "                              names = TRUE, \n",
    "                              type = 7)\n",
    "\n",
    "print(\"Quantiles of log wage all\")\n",
    "round(t(quantiles_all), 3)\n",
    "\n",
    "print(\"Quantiles of log wage public sector\")\n",
    "round(t(quantiles_public), 3)\n",
    "\n",
    "print(\"Quantiles of log wage private sector\")\n",
    "round(t(quantiles_private), 3)"
   ]
  },
  {
   "cell_type": "markdown",
   "metadata": {},
   "source": [
    "**4. Quantile Function**"
   ]
  },
  {
   "cell_type": "code",
   "execution_count": 8,
   "metadata": {
    "scrolled": true
   },
   "outputs": [],
   "source": [
    "# Public\n",
    "\n",
    "# Sort observation by increasing logwage, and create identifier\n",
    "lnwage_sorted <- sort(lnwage[public==1]) \n",
    "length <- length(lnwage_sorted)\n",
    "i <- 1:length\n",
    "\n",
    "# Compute the percentile of an observation\n",
    "perc <- (i - 1)/(length - 1) \n",
    "data_plot_public <- data.frame(lnwage_sorted, perc)\n",
    "data_plot_public$public <- 1"
   ]
  },
  {
   "cell_type": "code",
   "execution_count": 9,
   "metadata": {},
   "outputs": [],
   "source": [
    "# same for Private\n",
    "lnwage_sorted <- sort(lnwage[public==0]) \n",
    "length <- length(lnwage_sorted)\n",
    "i <- 1:length\n",
    "\n",
    "perc <- (i - 1)/(length - 1) # same as option type = 7 in quantile() command\n",
    "data_plot_private <- data.frame(lnwage_sorted, perc)\n",
    "data_plot_private$public <- 0"
   ]
  },
  {
   "cell_type": "code",
   "execution_count": 10,
   "metadata": {},
   "outputs": [
    {
     "data": {
      "text/html": [
       "<table>\n",
       "<caption>A data.frame: 6 × 4</caption>\n",
       "<thead>\n",
       "\t<tr><th></th><th scope=col>lnwage_sorted</th><th scope=col>perc</th><th scope=col>public</th><th scope=col>public_factor</th></tr>\n",
       "\t<tr><th></th><th scope=col>&lt;dbl&gt;</th><th scope=col>&lt;dbl&gt;</th><th scope=col>&lt;dbl&gt;</th><th scope=col>&lt;fct&gt;</th></tr>\n",
       "</thead>\n",
       "<tbody>\n",
       "\t<tr><th scope=row>1</th><td>5.777652</td><td>0.0000000000</td><td>1</td><td>Public</td></tr>\n",
       "\t<tr><th scope=row>2</th><td>5.849325</td><td>0.0000551785</td><td>1</td><td>Public</td></tr>\n",
       "\t<tr><th scope=row>3</th><td>6.347389</td><td>0.0001103570</td><td>1</td><td>Public</td></tr>\n",
       "\t<tr><th scope=row>4</th><td>6.361302</td><td>0.0001655355</td><td>1</td><td>Public</td></tr>\n",
       "\t<tr><th scope=row>5</th><td>6.492240</td><td>0.0002207140</td><td>1</td><td>Public</td></tr>\n",
       "\t<tr><th scope=row>6</th><td>6.536692</td><td>0.0002758925</td><td>1</td><td>Public</td></tr>\n",
       "</tbody>\n",
       "</table>\n"
      ],
      "text/latex": [
       "A data.frame: 6 × 4\n",
       "\\begin{tabular}{r|llll}\n",
       "  & lnwage\\_sorted & perc & public & public\\_factor\\\\\n",
       "  & <dbl> & <dbl> & <dbl> & <fct>\\\\\n",
       "\\hline\n",
       "\t1 & 5.777652 & 0.0000000000 & 1 & Public\\\\\n",
       "\t2 & 5.849325 & 0.0000551785 & 1 & Public\\\\\n",
       "\t3 & 6.347389 & 0.0001103570 & 1 & Public\\\\\n",
       "\t4 & 6.361302 & 0.0001655355 & 1 & Public\\\\\n",
       "\t5 & 6.492240 & 0.0002207140 & 1 & Public\\\\\n",
       "\t6 & 6.536692 & 0.0002758925 & 1 & Public\\\\\n",
       "\\end{tabular}\n"
      ],
      "text/markdown": [
       "\n",
       "A data.frame: 6 × 4\n",
       "\n",
       "| <!--/--> | lnwage_sorted &lt;dbl&gt; | perc &lt;dbl&gt; | public &lt;dbl&gt; | public_factor &lt;fct&gt; |\n",
       "|---|---|---|---|---|\n",
       "| 1 | 5.777652 | 0.0000000000 | 1 | Public |\n",
       "| 2 | 5.849325 | 0.0000551785 | 1 | Public |\n",
       "| 3 | 6.347389 | 0.0001103570 | 1 | Public |\n",
       "| 4 | 6.361302 | 0.0001655355 | 1 | Public |\n",
       "| 5 | 6.492240 | 0.0002207140 | 1 | Public |\n",
       "| 6 | 6.536692 | 0.0002758925 | 1 | Public |\n",
       "\n"
      ],
      "text/plain": [
       "  lnwage_sorted perc         public public_factor\n",
       "1 5.777652      0.0000000000 1      Public       \n",
       "2 5.849325      0.0000551785 1      Public       \n",
       "3 6.347389      0.0001103570 1      Public       \n",
       "4 6.361302      0.0001655355 1      Public       \n",
       "5 6.492240      0.0002207140 1      Public       \n",
       "6 6.536692      0.0002758925 1      Public       "
      ]
     },
     "metadata": {},
     "output_type": "display_data"
    }
   ],
   "source": [
    "# Bind data and create factor variable\n",
    "data_plot <- rbind(data_plot_public, data_plot_private)\n",
    "data_plot$public_factor <- factor(data_plot$public, \n",
    "                        levels = c(0,1), label = c(\"Private\", \"Public\")) \n",
    "head(data_plot)"
   ]
  },
  {
   "cell_type": "code",
   "execution_count": 11,
   "metadata": {},
   "outputs": [
    {
     "data": {
      "image/png": "[encoded data removed]",
      "text/plain": [
       "plot without title"
      ]
     },
     "metadata": {
      "image/png": {
       "height": 300,
       "width": 525
      }
     },
     "output_type": "display_data"
    }
   ],
   "source": [
    "qplot_public_private <- ggplot(data_plot, aes(x = perc, y = lnwage_sorted, \n",
    "                        group=public_factor, color=public_factor)) +\n",
    "                        geom_line() + \n",
    "                        geom_vline(xintercept=0.5, color = \"green\") +\n",
    "                        ylab(\"Log(wage)\") +\n",
    "                        xlab(\"Quantile\") +\n",
    "                        scale_color_manual(values=c(\"red\", \"blue\")) + \n",
    "                        theme_bw(base_size = 20) \n",
    "\n",
    "qplot_public_private"
   ]
  },
  {
   "cell_type": "markdown",
   "metadata": {},
   "source": [
    "***\n",
    "\n",
    "## Estimation\n",
    "\n",
    "\n",
    "### Unconditional Mean\n",
    "We estimate sample means in the subsample of public and private sector employees.\n",
    "\n",
    "\n",
    "The unconditional mean solves:\n",
    "$$\\mu=\\arg\\min_m E[(Y-m)^2]$$\n",
    "\n",
    "\n",
    "* The coefficient on the treatment variable in an OLS regression model with only a constant and a treatment indicator is numerically identical to the difference in unconditional means across subsamples of treated and control observations (ATE)."
   ]
  },
  {
   "cell_type": "code",
   "execution_count": 12,
   "metadata": {},
   "outputs": [
    {
     "data": {
      "text/plain": [
       "\u001b[4mMODEL INFO:\u001b[24m\n",
       "\u001b[3mObservations:\u001b[23m 71273\n",
       "\u001b[3mDependent Variable:\u001b[23m lnwage\n",
       "\u001b[3mType:\u001b[23m OLS linear regression \n",
       "\n",
       "\u001b[4mMODEL FIT:\u001b[24m\n",
       "\u001b[3mF\u001b[23m(1,71271) = 2041.94, \u001b[3mp\u001b[23m = 0.00\n",
       "\u001b[3mR² = \u001b[23m0.03\n",
       "\u001b[3mAdj. R² = \u001b[23m0.03 \n",
       "\n",
       "\u001b[3mStandard errors:\u001b[23m Robust, \u001b[3mtype = \u001b[23mHC1\n",
       "------------------------------------------------\n",
       "                    Est.   S.E.    t val.      p\n",
       "----------------- ------ ------ --------- ------\n",
       "(Intercept)         8.83   0.00   4774.93   0.00\n",
       "public              0.16   0.00     49.43   0.00\n",
       "------------------------------------------------"
      ]
     },
     "metadata": {},
     "output_type": "display_data"
    }
   ],
   "source": [
    "ols1 <- lm(lnwage ~ public)\n",
    "out.ols1 <-summ(ols1, robust = \"HC1\")\n",
    "out.ols1"
   ]
  },
  {
   "cell_type": "markdown",
   "metadata": {},
   "source": [
    "* How do you interpret the coefficient of interest?\n",
    "\n",
    "### Conditional OLS\n",
    "\n",
    "* In addition to the treatment variable we include control variables to control for selection into the sectors.\n",
    "\n",
    "* We center the continuous covariates at the mean to be able to interpret intercepts for a representative case.\n"
   ]
  },
  {
   "cell_type": "code",
   "execution_count": 17,
   "metadata": {},
   "outputs": [
    {
     "name": "stdout",
     "output_type": "stream",
     "text": [
      "[1] \"Mean age\"\n"
     ]
    },
    {
     "data": {
      "text/html": [
       "38.6779144977762"
      ],
      "text/latex": [
       "38.6779144977762"
      ],
      "text/markdown": [
       "38.6779144977762"
      ],
      "text/plain": [
       "[1] 38.67791"
      ]
     },
     "metadata": {},
     "output_type": "display_data"
    },
    {
     "data": {
      "text/plain": [
       "    Min.  1st Qu.   Median     Mean  3rd Qu.     Max. \n",
       "-20.6779  -8.6779   0.3221   0.0000   8.3221  18.3221 "
      ]
     },
     "metadata": {},
     "output_type": "display_data"
    }
   ],
   "source": [
    "# Selected covariates\n",
    "covariates_bin <- dplyr::select(data, frau, teilzeit, befristet, nonswiss, married) \n",
    "covariates_cont <- dplyr::select(data, alter) \n",
    "\n",
    "# display mean\n",
    "print(\"Mean age\")\n",
    "mean(covariates_cont$alter)\n",
    "\n",
    "# center continuous covariates at the mean\n",
    "covariates_cont$alter <- covariates_cont$alter - mean(covariates_cont$alter)\n",
    "summary(covariates_cont$alter)"
   ]
  },
  {
   "cell_type": "code",
   "execution_count": 18,
   "metadata": {},
   "outputs": [
    {
     "data": {
      "text/html": [
       "<table>\n",
       "<caption>A matrix: 6 × 6 of type dbl</caption>\n",
       "<thead>\n",
       "\t<tr><th scope=col>frau</th><th scope=col>teilzeit</th><th scope=col>befristet</th><th scope=col>nonswiss</th><th scope=col>married</th><th scope=col>alter</th></tr>\n",
       "</thead>\n",
       "<tbody>\n",
       "\t<tr><td>0</td><td>1</td><td>0</td><td>0</td><td>1</td><td>  1.322086</td></tr>\n",
       "\t<tr><td>0</td><td>0</td><td>0</td><td>0</td><td>0</td><td> 16.322086</td></tr>\n",
       "\t<tr><td>1</td><td>1</td><td>0</td><td>0</td><td>0</td><td>  3.322086</td></tr>\n",
       "\t<tr><td>0</td><td>0</td><td>0</td><td>0</td><td>0</td><td>-13.677914</td></tr>\n",
       "\t<tr><td>1</td><td>1</td><td>0</td><td>0</td><td>0</td><td> 14.322086</td></tr>\n",
       "\t<tr><td>1</td><td>0</td><td>0</td><td>1</td><td>0</td><td>-16.677914</td></tr>\n",
       "</tbody>\n",
       "</table>\n"
      ],
      "text/latex": [
       "A matrix: 6 × 6 of type dbl\n",
       "\\begin{tabular}{llllll}\n",
       " frau & teilzeit & befristet & nonswiss & married & alter\\\\\n",
       "\\hline\n",
       "\t 0 & 1 & 0 & 0 & 1 &   1.322086\\\\\n",
       "\t 0 & 0 & 0 & 0 & 0 &  16.322086\\\\\n",
       "\t 1 & 1 & 0 & 0 & 0 &   3.322086\\\\\n",
       "\t 0 & 0 & 0 & 0 & 0 & -13.677914\\\\\n",
       "\t 1 & 1 & 0 & 0 & 0 &  14.322086\\\\\n",
       "\t 1 & 0 & 0 & 1 & 0 & -16.677914\\\\\n",
       "\\end{tabular}\n"
      ],
      "text/markdown": [
       "\n",
       "A matrix: 6 × 6 of type dbl\n",
       "\n",
       "| frau | teilzeit | befristet | nonswiss | married | alter |\n",
       "|---|---|---|---|---|---|\n",
       "| 0 | 1 | 0 | 0 | 1 |   1.322086 |\n",
       "| 0 | 0 | 0 | 0 | 0 |  16.322086 |\n",
       "| 1 | 1 | 0 | 0 | 0 |   3.322086 |\n",
       "| 0 | 0 | 0 | 0 | 0 | -13.677914 |\n",
       "| 1 | 1 | 0 | 0 | 0 |  14.322086 |\n",
       "| 1 | 0 | 0 | 1 | 0 | -16.677914 |\n",
       "\n"
      ],
      "text/plain": [
       "     frau teilzeit befristet nonswiss married alter     \n",
       "[1,] 0    1        0         0        1         1.322086\n",
       "[2,] 0    0        0         0        0        16.322086\n",
       "[3,] 1    1        0         0        0         3.322086\n",
       "[4,] 0    0        0         0        0       -13.677914\n",
       "[5,] 1    1        0         0        0        14.322086\n",
       "[6,] 1    0        0         1        0       -16.677914"
      ]
     },
     "metadata": {},
     "output_type": "display_data"
    }
   ],
   "source": [
    "covariates <- cbind(covariates_bin, covariates_cont)\n",
    "covariates_names  <- colnames(covariates)\n",
    "covariates <- as.matrix(covariates) # make sure covariates are a matrix \n",
    "          \n",
    "head(covariates)"
   ]
  },
  {
   "cell_type": "markdown",
   "metadata": {},
   "source": [
    "Conditional OLS solves:\n",
    "$$\\beta=\\arg\\min_b E[(Y-X'b)^2]$$"
   ]
  },
  {
   "cell_type": "code",
   "execution_count": 64,
   "metadata": {},
   "outputs": [
    {
     "data": {
      "text/plain": [
       "\u001b[4mMODEL INFO:\u001b[24m\n",
       "\u001b[3mObservations:\u001b[23m 71273\n",
       "\u001b[3mDependent Variable:\u001b[23m lnwage\n",
       "\u001b[3mType:\u001b[23m OLS linear regression \n",
       "\n",
       "\u001b[4mMODEL FIT:\u001b[24m\n",
       "\u001b[3mF\u001b[23m(6,71266) = 2623.26, \u001b[3mp\u001b[23m = 0.00\n",
       "\u001b[3mR² = \u001b[23m0.18\n",
       "\u001b[3mAdj. R² = \u001b[23m0.18 \n",
       "\n",
       "\u001b[3mStandard errors:\u001b[23m Robust, \u001b[3mtype = \u001b[23mHC1\n",
       "--------------------------------------------------------\n",
       "                            Est.   S.E.    t val.      p\n",
       "------------------------ ------- ------ --------- ------\n",
       "(Intercept)                 8.92   0.00   3264.40   0.00\n",
       "public                      0.16   0.00     54.79   0.00\n",
       "covariatesfrau             -0.15   0.00    -46.20   0.00\n",
       "covariatesteilzeit         -0.07   0.00    -19.30   0.00\n",
       "covariatesnonswiss         -0.08   0.00    -23.75   0.00\n",
       "covariatesmarried           0.04   0.00     14.52   0.00\n",
       "covariatesalter             0.01   0.00     78.93   0.00\n",
       "--------------------------------------------------------"
      ]
     },
     "metadata": {},
     "output_type": "display_data"
    }
   ],
   "source": [
    "ols2 <- lm(lnwage ~ public + covariates)\n",
    "out.ols2 <-summ(ols2, robust = \"HC1\")\n",
    "out.ols2"
   ]
  },
  {
   "cell_type": "markdown",
   "metadata": {},
   "source": [
    "* How do you interpret the coefficient of interest?\n",
    "\n",
    "\n",
    "### Unconditional median regression\n",
    "\n",
    "Estimate unconditional quantile functions in the subsample of public and private sector employees.\n",
    "\n",
    "The $\\tau$ unconditional quantile solves:\n",
    "$$Q_Y(\\tau)=\\arg\\min_q E[\\rho_{\\tau}(Y-q)]$$\n",
    "\n",
    "at the median\n",
    "\n",
    "$$Q_Y(0.5)=\\arg\\min_q E[\\rho_{0.5}(Y-q)]$$\n",
    "\n",
    "where $\\rho_{\\tau}$ replaces the absolute values:\n",
    "$$\\rho_{\\tau}(Y-q)=\\{\\tau-\\underline{1}[(Y-q)\\le 0]\\}\\cdot (Y-q)$$\n",
    "\n",
    "The coefficient on the treatment variable in a quantile regression model with only a constant and a treatment indicator is numerically identical to the difference in unconditional quantile functions across subsamples of treated and control observations (QTE)."
   ]
  },
  {
   "cell_type": "code",
   "execution_count": 65,
   "metadata": {
    "scrolled": false
   },
   "outputs": [
    {
     "name": "stderr",
     "output_type": "stream",
     "text": [
      "Warning message in rq.fit.br(x, y, tau = tau, ...):\n",
      "\"Solution may be nonunique\"\n"
     ]
    },
    {
     "data": {
      "text/plain": [
       "\n",
       "Call: rq(formula = lnwage ~ public, tau = 0.5, data = data, method = \"br\", \n",
       "    model = TRUE)\n",
       "\n",
       "tau: [1] 0.5\n",
       "\n",
       "Coefficients:\n",
       "            Value      Std. Error t value    Pr(>|t|)  \n",
       "(Intercept)    8.77292    0.00206 4262.71116    0.00000\n",
       "public         0.19458    0.00356   54.73319    0.00000"
      ]
     },
     "metadata": {},
     "output_type": "display_data"
    },
    {
     "name": "stdout",
     "output_type": "stream",
     "text": [
      "[1] \"Median public sector\"\n"
     ]
    },
    {
     "data": {
      "text/html": [
       "<strong>50%:</strong> 8.96750450134277"
      ],
      "text/latex": [
       "\\textbf{50\\textbackslash{}\\%:} 8.96750450134277"
      ],
      "text/markdown": [
       "**50%:** 8.96750450134277"
      ],
      "text/plain": [
       "     50% \n",
       "8.967505 "
      ]
     },
     "metadata": {},
     "output_type": "display_data"
    },
    {
     "name": "stdout",
     "output_type": "stream",
     "text": [
      "[1] \"Median private sector\"\n"
     ]
    },
    {
     "data": {
      "text/html": [
       "<strong>50%:</strong> 8.77291965484619"
      ],
      "text/latex": [
       "\\textbf{50\\textbackslash{}\\%:} 8.77291965484619"
      ],
      "text/markdown": [
       "**50%:** 8.77291965484619"
      ],
      "text/plain": [
       "    50% \n",
       "8.77292 "
      ]
     },
     "metadata": {},
     "output_type": "display_data"
    }
   ],
   "source": [
    "rq1 <- rq(lnwage ~ public, \n",
    "          tau=.5, \n",
    "          data=data, \n",
    "          method=\"br\", \n",
    "          model = TRUE) \n",
    "out.rq1 <- summary(rq1)\n",
    "out.rq1\n",
    "\n",
    "median_public <- quantile(lnwage[public==1], .5)\n",
    "print(\"Median public sector\")\n",
    "median_public\n",
    "\n",
    "median_private <- quantile(lnwage[public==0], .5)\n",
    "print(\"Median private sector\")\n",
    "median_private"
   ]
  },
  {
   "cell_type": "markdown",
   "metadata": {},
   "source": [
    "* How do you interpret the coefficient of interest?\n",
    "\n",
    "\n",
    "### Conditional quantile regression\n",
    "\n",
    "The $\\tau$ conditional quantile regression solves:\n",
    "$$\\beta(\\tau)=\\arg\\min_b E[\\rho_{\\tau}(Y-X'b)]$$\n"
   ]
  },
  {
   "cell_type": "code",
   "execution_count": 66,
   "metadata": {
    "scrolled": true
   },
   "outputs": [
    {
     "name": "stderr",
     "output_type": "stream",
     "text": [
      "Warning message in rq.fit.br(x, y, tau = tau, ...):\n",
      "\"Solution may be nonunique\"\n"
     ]
    },
    {
     "data": {
      "text/plain": [
       "\n",
       "Call: rq(formula = lnwage ~ public + covariates, tau = 0.5, data = data, \n",
       "    method = \"br\", model = TRUE)\n",
       "\n",
       "tau: [1] 0.5\n",
       "\n",
       "Coefficients:\n",
       "                   Value      Std. Error t value    Pr(>|t|)  \n",
       "(Intercept)           8.86847    0.00307 2888.42223    0.00000\n",
       "public                0.20277    0.00335   60.57854    0.00000\n",
       "covariatesfrau       -0.13452    0.00333  -40.37478    0.00000\n",
       "covariatesteilzeit   -0.04100    0.00348  -11.77744    0.00000\n",
       "covariatesnonswiss   -0.10783    0.00371  -29.08435    0.00000\n",
       "covariatesmarried     0.03188    0.00336    9.49657    0.00000\n",
       "covariatesalter       0.01076    0.00016   68.02780    0.00000"
      ]
     },
     "metadata": {},
     "output_type": "display_data"
    }
   ],
   "source": [
    "# Conditional quantile for the median\n",
    "\n",
    "rq2 <- rq(lnwage ~ public + covariates, \n",
    "            tau=.5, \n",
    "            data=data, \n",
    "            method=\"br\", \n",
    "            model = TRUE) \n",
    "out.rq2 <- summary(rq2)\n",
    "out.rq2"
   ]
  },
  {
   "cell_type": "markdown",
   "metadata": {},
   "source": [
    "* How do you interpret the coefficient of interest?"
   ]
  },
  {
   "cell_type": "code",
   "execution_count": 67,
   "metadata": {
    "scrolled": true
   },
   "outputs": [
    {
     "name": "stderr",
     "output_type": "stream",
     "text": [
      "Warning message in rq.fit.br(x, y, tau = tau, ...):\n",
      "\"Solution may be nonunique\"\n",
      "Warning message in rq.fit.br(x, y, tau = tau, ...):\n",
      "\"Solution may be nonunique\"\n"
     ]
    },
    {
     "data": {
      "text/plain": [
       "\n",
       "Call: rq(formula = lnwage ~ public + covariates, tau = quants, data = data, \n",
       "    method = \"br\", model = TRUE)\n",
       "\n",
       "tau: [1] 0.1\n",
       "\n",
       "Coefficients:\n",
       "                   Value      Std. Error t value    Pr(>|t|)  \n",
       "(Intercept)           8.52485    0.00327 2606.45691    0.00000\n",
       "public                0.20503    0.00399   51.32606    0.00000\n",
       "covariatesfrau       -0.14714    0.00375  -39.27082    0.00000\n",
       "covariatesteilzeit   -0.05414    0.00406  -13.33042    0.00000\n",
       "covariatesnonswiss   -0.13991    0.00422  -33.17474    0.00000\n",
       "covariatesmarried     0.02270    0.00363    6.25587    0.00000\n",
       "covariatesalter       0.00657    0.00017   38.37695    0.00000\n",
       "\n",
       "Call: rq(formula = lnwage ~ public + covariates, tau = quants, data = data, \n",
       "    method = \"br\", model = TRUE)\n",
       "\n",
       "tau: [1] 0.3\n",
       "\n",
       "Coefficients:\n",
       "                   Value      Std. Error t value    Pr(>|t|)  \n",
       "(Intercept)           8.71619    0.00264 3299.93302    0.00000\n",
       "public                0.21748    0.00324   67.12738    0.00000\n",
       "covariatesfrau       -0.14197    0.00303  -46.86903    0.00000\n",
       "covariatesteilzeit   -0.04090    0.00325  -12.57999    0.00000\n",
       "covariatesnonswiss   -0.12083    0.00305  -39.61698    0.00000\n",
       "covariatesmarried     0.01863    0.00298    6.24421    0.00000\n",
       "covariatesalter       0.00864    0.00014   61.49894    0.00000\n",
       "\n",
       "Call: rq(formula = lnwage ~ public + covariates, tau = quants, data = data, \n",
       "    method = \"br\", model = TRUE)\n",
       "\n",
       "tau: [1] 0.5\n",
       "\n",
       "Coefficients:\n",
       "                   Value      Std. Error t value    Pr(>|t|)  \n",
       "(Intercept)           8.86847    0.00307 2888.42223    0.00000\n",
       "public                0.20277    0.00335   60.57854    0.00000\n",
       "covariatesfrau       -0.13452    0.00333  -40.37478    0.00000\n",
       "covariatesteilzeit   -0.04100    0.00348  -11.77744    0.00000\n",
       "covariatesnonswiss   -0.10783    0.00371  -29.08435    0.00000\n",
       "covariatesmarried     0.03188    0.00336    9.49657    0.00000\n",
       "covariatesalter       0.01076    0.00016   68.02780    0.00000\n",
       "\n",
       "Call: rq(formula = lnwage ~ public + covariates, tau = quants, data = data, \n",
       "    method = \"br\", model = TRUE)\n",
       "\n",
       "tau: [1] 0.7\n",
       "\n",
       "Coefficients:\n",
       "                   Value      Std. Error t value    Pr(>|t|)  \n",
       "(Intercept)           9.04945    0.00359 2519.51745    0.00000\n",
       "public                0.15065    0.00342   44.07595    0.00000\n",
       "covariatesfrau       -0.13449    0.00368  -36.53724    0.00000\n",
       "covariatesteilzeit   -0.05707    0.00374  -15.25819    0.00000\n",
       "covariatesnonswiss   -0.04829    0.00471  -10.25112    0.00000\n",
       "covariatesmarried     0.05147    0.00383   13.44092    0.00000\n",
       "covariatesalter       0.01397    0.00018   79.22822    0.00000\n",
       "\n",
       "Call: rq(formula = lnwage ~ public + covariates, tau = quants, data = data, \n",
       "    method = \"br\", model = TRUE)\n",
       "\n",
       "tau: [1] 0.9\n",
       "\n",
       "Coefficients:\n",
       "                   Value      Std. Error t value    Pr(>|t|)  \n",
       "(Intercept)           9.34367    0.00507 1841.71321    0.00000\n",
       "public                0.05446    0.00501   10.86837    0.00000\n",
       "covariatesfrau       -0.12940    0.00527  -24.56126    0.00000\n",
       "covariatesteilzeit   -0.09409    0.00559  -16.83954    0.00000\n",
       "covariatesnonswiss    0.02961    0.00599    4.93981    0.00000\n",
       "covariatesmarried     0.09458    0.00563   16.79597    0.00000\n",
       "covariatesalter       0.01876    0.00026   72.03914    0.00000"
      ]
     },
     "metadata": {},
     "output_type": "display_data"
    }
   ],
   "source": [
    "# Conditional quantile regression, across different quantiles\n",
    "\n",
    "# Vector of quantiles to be estimated has to be strictly within (0,1) interval \n",
    "quants <- as.matrix(seq(0.1, 0.9, by=0.2)) \n",
    "\n",
    "rq3 <- rq(formula = lnwage ~ public + covariates, \n",
    "            tau=quants, \n",
    "            data=data, \n",
    "            method=\"br\", \n",
    "            model = TRUE) \n",
    "out.rq3 <- summary(rq3)\n",
    "out.rq3"
   ]
  },
  {
   "cell_type": "markdown",
   "metadata": {},
   "source": [
    "### Presenting QR results\n",
    "\n",
    "**Recipe:**\n",
    "\n",
    "* Plot graphs of the coefficient estimates with confidence bounds: y-axis:  covariate effects $β(\\tau)$; x-axis: quantile of $Y$.\n",
    "\n",
    "\n",
    "* Show the corresponding OLS coefficient (ATE) estimate and confidence intervals.\n",
    "\n",
    "\n",
    "* Interpret the meaning of the effects:\n",
    "    * Intercept: Condiitonal distribution of individual with baseline characteristics\n",
    "    * Other coefficients: impact of a on unit change of the covariate/treatment on the $\\tau$th conditional quantile of the log wage holding the other covariates fixed (*ceteris paribus*).\n",
    "    * In this context: rates of return to various characteristics at the specified quantile of the conditional distribution.\n",
    "\n",
    "\n",
    "* Interpret the meaning of the pattern (location, location/scale shift argumentation)\n",
    "    * The impact of $X$ is the same across quantiles and is non-zero on average (ATE): location shift of the distribution of $Y$\n",
    "    * The impact of $X$ differs across quantiles but is zero on average: scale shift of the distribution of $Y$\n",
    "    * The impact of $X$ differs across quantiles and is non-zero on average: location and scale shift of the distribution of $Y$\n",
    "\n",
    "\n"
   ]
  },
  {
   "cell_type": "markdown",
   "metadata": {},
   "source": [
    "### Plot conditional quantile effects"
   ]
  },
  {
   "cell_type": "code",
   "execution_count": 68,
   "metadata": {
    "scrolled": false
   },
   "outputs": [
    {
     "data": {
      "image/png": "[encoded data removed]",
      "text/plain": [
       "Plot with title \"covariatesalter\""
      ]
     },
     "metadata": {
      "image/png": {
       "height": 750,
       "width": 750
      }
     },
     "output_type": "display_data"
    }
   ],
   "source": [
    "# Plot quantile effects\n",
    "options(repr.plot.width=10, repr.plot.height=10, repr.plot.res = 150)\n",
    "plot(out.rq3, cex.lab=3, cex.axis=1.5)"
   ]
  },
  {
   "cell_type": "markdown",
   "metadata": {},
   "source": [
    "Conditional QTE are not always straightforward to interpret (only for a representative case).\n",
    "\n",
    "Now we want to derive unconditional QTE."
   ]
  },
  {
   "cell_type": "markdown",
   "metadata": {},
   "source": [
    "***\n",
    "\n",
    "## Counterfactual distributions for decompositions\n",
    "\n",
    "### Quantile decomposition for the public-private wage gap\n",
    "\n",
    "From the lecture, \n",
    "\n",
    "* $F_{X_d}(x)$ is worker composition in $d\\in\\{0,1\\}$.\n",
    "* $F_{Y_d}(y|x)$ is the conditional on $x$ wage structure in $d\\in\\{0,1\\}$.\n",
    "* Define for $d, d' \\in \\{0,1\\}$:\n",
    "$$F_{Y(d,d')}(y)\\equiv\\int F_{Y_d}(y|x)dF_{X_{d'}}(x)$$\n",
    "\n",
    "* $F_{Y(d,d)}(y)$ is the observed wage distribution of workers with $D=d$.\n",
    "* $F_{Y(d,1-d)}(y)$ is the counterfactual wage distribution of workers with $D=d$ had they had the composition of characteristics of those with $D=1-d$.\n",
    "* For the quantiles:\n",
    "$$Q_{Y(d,1-d)}(\\tau)=\\inf\\{y:F_{Y(d,1-d)}(y)\\ge\\tau\\},\\quad 0<\\tau<1$$\n",
    "\n",
    "\n",
    "We can then write\n",
    "\n",
    "$Q_{Y(d,d)}(\\tau)-Q_{Y(1-d,1-d)}(\\tau)$\n",
    "\n",
    "\n",
    "$$\\quad =[\\underbrace{Q_{Y(d,d)}(\\tau)-Q_{Y(1-d,d)}(\\tau)}_{structure}]+[\\underbrace{Q_{Y(1-d,d)}(\\tau)-Q_{Y(1-d,1-d)}(\\tau)}_{composition}]$$\n",
    "$$\\quad =[\\underbrace{Q_{Y(d,d)}(\\tau)-Q_{Y(d,1-d)}(\\tau)}_{composition}]+[\\underbrace{Q_{Y(d,1-d)}(\\tau)-Q_{Y(1-d,1-d)}(\\tau)}_{structure}]$$\n",
    "\n",
    "\n",
    "**Main steps**\n",
    "\n",
    "Implement estimation and inference methods for counterfactual distributions described in Chernozhukov, Fernandez-Val and Melly (2013)\n",
    "\n",
    "1. Quantile regression for $J$ equally spaced quantiles (e.g. 99) separately in private and public sector:\n",
    "\n",
    "\n",
    "$$Q_{Y_d}(u|X)=X_i'\\beta_d(u),\\quad u|X\\sim U(0,1)$$\n",
    "\n",
    "\n",
    "2. Predict $X_i'\\hat{\\beta}_d(u)$ for all quantiles $u$ and all $i$ (private and public).\n",
    "\n",
    "\n",
    "3. Estimation of the unconditional quantiles using the entire sample:\n",
    "\n",
    "\n",
    "$$\\hat{Q}_{Y_d}(\\tau)=\\inf\\left\\{y:\\frac{1}{N}\\sum_{i=1}^N\\Big[\\frac{1}{J}\\sum_{j=1}^J\\underline{1}(X_{i}'\\hat{\\beta}_d(u_j)\\le y)\\Big]\\ge\\tau\\right\\}$$\n",
    "\n",
    "\n",
    "4. Estimation of the unexplained wage gap (QTEs of working in public sector):\n",
    "$$\\hat{QTE}_Y(\\tau)=\\hat{Q}_{Y_1}(\\tau)-\\hat{Q}_{Y_0}(\\tau)$$\n",
    "\n",
    "\n",
    "Easy: use the `Counterfactual` package (see introduction https://arxiv.org/pdf/1610.07894.pdf). "
   ]
  },
  {
   "cell_type": "code",
   "execution_count": 69,
   "metadata": {},
   "outputs": [
    {
     "name": "stderr",
     "output_type": "stream",
     "text": [
      "Warning message in rq.fit.br(wx, wy, tau = tau, ...):\n",
      "\"Solution may be nonunique\"\n",
      "Warning message in rq.fit.br(wx, wy, tau = tau, ...):\n",
      "\"Solution may be nonunique\"\n",
      "Warning message in rq.fit.br(wx, wy, tau = tau, ...):\n",
      "\"Solution may be nonunique\"\n"
     ]
    },
    {
     "name": "stdout",
     "output_type": "stream",
     "text": [
      "cores used= 2 \n",
      "                                  \n",
      "Conditional Model:                      linear quantile regression\n",
      "Number of regressions estimated:         100 \n",
      "\n",
      "The variance has been estimated by bootstraping the results 49 times.\n",
      "\n",
      "No. of obs. in the reference group:      744 \n",
      "No. of obs. in the counterfactual group: 256 \n",
      "\n",
      "\n",
      "                    Quantile Effects -- Structure                      \n",
      "---------------------------------------------------------------------- \n",
      "                     Pointwise      Pointwise           Functional     \n",
      " Quantile     Est.    Std.Err   95% Conf.Interval   95% Conf.Interval  \n",
      "    0.01     0.255    0.0568     0.143     0.366     0.105     0.404\n",
      "    0.02     0.254    0.0493     0.157      0.35     0.124     0.383\n",
      "    0.03     0.253    0.0425     0.169     0.336     0.141     0.364\n",
      "    0.04     0.252     0.037     0.179     0.324     0.154     0.349\n",
      "    0.05      0.25    0.0353     0.181     0.319     0.157     0.343\n",
      "    0.06     0.249    0.0341     0.182     0.316     0.159     0.339\n",
      "    0.07     0.247    0.0331     0.183     0.312      0.16     0.335\n",
      "    0.08     0.246    0.0324     0.183      0.31     0.161     0.331\n",
      "    0.09     0.245    0.0311     0.184     0.305     0.163     0.326\n",
      "     0.1     0.243    0.0297     0.185     0.301     0.165     0.321\n",
      "    0.11     0.241    0.0284     0.186     0.297     0.167     0.316\n",
      "    0.12      0.24    0.0273     0.186     0.293     0.168     0.312\n",
      "    0.13     0.238    0.0265     0.186      0.29     0.168     0.308\n",
      "    0.14     0.237    0.0259     0.186     0.287     0.168     0.305\n",
      "    0.15     0.235    0.0254     0.185     0.285     0.168     0.302\n",
      "    0.16     0.233    0.0251     0.184     0.283     0.167     0.299\n",
      "    0.17     0.231    0.0251     0.182      0.28     0.165     0.297\n",
      "    0.18     0.228    0.0252     0.179     0.278     0.162     0.295\n",
      "    0.19     0.226    0.0255     0.176     0.276     0.159     0.293\n",
      "     0.2     0.223    0.0258     0.173     0.274     0.155     0.291\n",
      "    0.21     0.221     0.026      0.17     0.272     0.152     0.289\n",
      "    0.22     0.219    0.0262     0.167      0.27      0.15     0.288\n",
      "    0.23     0.217    0.0265     0.165     0.269     0.147     0.286\n",
      "    0.24     0.214    0.0269     0.162     0.267     0.144     0.285\n",
      "    0.25     0.213    0.0272     0.159     0.266     0.141     0.284\n",
      "    0.26     0.211    0.0275     0.157     0.265     0.139     0.283\n",
      "    0.27     0.209    0.0278     0.155     0.264     0.136     0.283\n",
      "    0.28     0.208    0.0282     0.153     0.263     0.134     0.282\n",
      "    0.29     0.207    0.0283     0.151     0.262     0.132     0.281\n",
      "     0.3     0.206    0.0282      0.15     0.261     0.131      0.28\n",
      "    0.31     0.205    0.0282      0.15      0.26     0.131     0.279\n",
      "    0.32     0.204    0.0283     0.149     0.259      0.13     0.278\n",
      "    0.33     0.203    0.0282     0.148     0.258     0.129     0.277\n",
      "    0.34     0.202    0.0279     0.148     0.257     0.129     0.276\n",
      "    0.35     0.201    0.0277     0.147     0.256     0.128     0.274\n",
      "    0.36     0.201    0.0276     0.146     0.255     0.128     0.273\n",
      "    0.37       0.2    0.0275     0.146     0.253     0.127     0.272\n",
      "    0.38     0.198    0.0273     0.145     0.252     0.127      0.27\n",
      "    0.39     0.197    0.0271     0.144     0.251     0.126     0.269\n",
      "     0.4     0.196     0.027     0.143     0.249     0.125     0.267\n",
      "    0.41     0.195    0.0269     0.143     0.248     0.125     0.266\n",
      "    0.42     0.195    0.0268     0.143     0.248     0.125     0.266\n",
      "    0.43     0.195    0.0268     0.142     0.247     0.124     0.265\n",
      "    0.44     0.195    0.0268     0.142     0.247     0.124     0.265\n",
      "    0.45     0.195    0.0268     0.142     0.247     0.124     0.265\n",
      "    0.46     0.195    0.0267     0.143     0.247     0.125     0.265\n",
      "    0.47     0.196    0.0266     0.143     0.248     0.125     0.266\n",
      "    0.48     0.196    0.0267     0.144     0.248     0.126     0.266\n",
      "    0.49     0.196    0.0266     0.144     0.249     0.126     0.267\n",
      "     0.5     0.196    0.0264     0.145     0.248     0.127     0.266\n",
      "    0.51     0.196    0.0261     0.145     0.247     0.127     0.265\n",
      "    0.52     0.196    0.0259     0.145     0.246     0.128     0.264\n",
      "    0.53     0.196    0.0258     0.145     0.246     0.128     0.263\n",
      "    0.54     0.196    0.0257     0.145     0.246     0.128     0.263\n",
      "    0.55     0.196    0.0257     0.146     0.246     0.128     0.264\n",
      "    0.56     0.196    0.0258     0.146     0.247     0.128     0.264\n",
      "    0.57     0.196    0.0259     0.146     0.247     0.128     0.264\n",
      "    0.58     0.196    0.0256     0.146     0.246     0.129     0.264\n",
      "    0.59     0.196    0.0254     0.146     0.246     0.129     0.263\n",
      "     0.6     0.196    0.0253     0.146     0.245     0.129     0.262\n",
      "    0.61     0.195    0.0252     0.146     0.245     0.129     0.262\n",
      "    0.62     0.196    0.0252     0.146     0.245     0.129     0.262\n",
      "    0.63     0.196    0.0253     0.146     0.246     0.129     0.263\n",
      "    0.64     0.196    0.0255     0.146     0.246     0.129     0.264\n",
      "    0.65     0.197    0.0258     0.146     0.247     0.129     0.265\n",
      "    0.66     0.195     0.026     0.144     0.246     0.126     0.263\n",
      "    0.67     0.193    0.0264     0.141     0.245     0.124     0.262\n",
      "    0.68     0.191    0.0268     0.139     0.244     0.121     0.262\n",
      "    0.69     0.189    0.0273     0.136     0.243     0.117     0.261\n",
      "     0.7     0.186    0.0273     0.133      0.24     0.115     0.258\n",
      "    0.71     0.183    0.0272      0.13     0.237     0.112     0.255\n",
      "    0.72     0.181    0.0273     0.127     0.234     0.109     0.252\n",
      "    0.73     0.178    0.0274     0.124     0.231     0.106      0.25\n",
      "    0.74     0.176    0.0276     0.122      0.23     0.103     0.248\n",
      "    0.75     0.174    0.0279     0.119     0.229       0.1     0.247\n",
      "    0.76     0.172    0.0285     0.116     0.228    0.0971     0.247\n",
      "    0.77      0.17    0.0292     0.113     0.227    0.0934     0.247\n",
      "    0.78     0.167    0.0298     0.109     0.226    0.0886     0.246\n",
      "    0.79     0.164    0.0306     0.104     0.224    0.0831     0.244\n",
      "     0.8      0.16    0.0315    0.0984     0.222    0.0772     0.243\n",
      "    0.81     0.157    0.0326    0.0929     0.221    0.0709     0.243\n",
      "    0.82     0.153    0.0345     0.085      0.22    0.0619     0.243\n",
      "    0.83     0.148    0.0368    0.0758      0.22    0.0511     0.245\n",
      "    0.84     0.144    0.0395    0.0662     0.221    0.0397     0.247\n",
      "    0.85     0.139    0.0423    0.0561     0.222    0.0277      0.25\n",
      "    0.86     0.133     0.045    0.0449     0.221    0.0146     0.251\n",
      "    0.87     0.126     0.048    0.0323      0.22  0.000112     0.253\n",
      "    0.88      0.12    0.0513     0.019      0.22   -0.0154     0.255\n",
      "    0.89     0.113     0.055   0.00512     0.221   -0.0318     0.258\n",
      "     0.9     0.105    0.0598   -0.0122     0.222   -0.0524     0.262\n",
      "    0.91    0.0962    0.0658   -0.0328     0.225   -0.0771     0.269\n",
      "    0.92    0.0874    0.0724   -0.0544     0.229    -0.103     0.278\n",
      "    0.93    0.0786    0.0793   -0.0768     0.234     -0.13     0.287\n",
      "    0.94    0.0638    0.0909    -0.114     0.242    -0.175     0.303\n",
      "    0.95    0.0432     0.111    -0.175     0.261     -0.25     0.336\n",
      "    0.96    0.0225     0.135    -0.243     0.288    -0.334     0.379\n",
      "    0.97   0.00181     0.161    -0.314     0.318    -0.423     0.426\n",
      "    0.98   0.00823     0.182    -0.348     0.365     -0.47     0.487\n",
      "    0.99    0.0493     0.223    -0.388     0.487    -0.538     0.637\n",
      "\n",
      "\n",
      "      Bootstrap inference on the counterfactual quantile process       \n",
      "---------------------------------------------------------------------- \n",
      "\t\t\t\t\t\t    P-values\t\n",
      "\t\t\t\t\t        ====================== \n",
      "NULL-hypthoesis                        \t KS-statistic CMS-statistic \n",
      "====================================================================== \n",
      "Correct specification of the parametric model       0.02          0 \n",
      "No effect: QE(tau)=0 for all taus                      0          0 \n",
      "Constant effect: QE(tau)=QE(0.5) for all taus       0.65       0.51 \n",
      "Stochastic dominance: QE(tau)>0 for all taus        0.88       0.88 \n",
      "Stochastic dominance: QE(tau)<0 for all taus           0          0 \n",
      "\n",
      "\n",
      "                   Quantile Effects -- Composition                     \n",
      "---------------------------------------------------------------------- \n",
      "                     Pointwise      Pointwise           Functional     \n",
      " Quantile     Est.    Std.Err   95% Conf.Interval   95% Conf.Interval  \n",
      "    0.01    0.0977    0.0198     0.059     0.136    0.0499     0.146\n",
      "    0.02    0.0718    0.0184    0.0358     0.108    0.0274     0.116\n",
      "    0.03    0.0582    0.0186    0.0217    0.0947    0.0131     0.103\n",
      "    0.04    0.0537    0.0188     0.017    0.0905   0.00835    0.0991\n",
      "    0.05    0.0442    0.0185   0.00791    0.0806 -0.000625    0.0891\n",
      "    0.06    0.0377    0.0184   0.00166    0.0737  -0.00679    0.0821\n",
      "    0.07    0.0341    0.0182  -0.00151    0.0697  -0.00988    0.0781\n",
      "    0.08    0.0323     0.018  -0.00297    0.0676   -0.0113    0.0758\n",
      "    0.09    0.0291    0.0178  -0.00586     0.064   -0.0141    0.0722\n",
      "     0.1     0.027    0.0177  -0.00765    0.0617   -0.0158    0.0699\n",
      "    0.11    0.0265    0.0176  -0.00797     0.061   -0.0161    0.0691\n",
      "    0.12     0.026    0.0174  -0.00807    0.0602   -0.0161    0.0682\n",
      "    0.13    0.0241    0.0171  -0.00945    0.0577   -0.0173    0.0655\n",
      "    0.14    0.0223    0.0169   -0.0108    0.0553   -0.0185    0.0631\n",
      "    0.15    0.0212    0.0166   -0.0114    0.0538    -0.019    0.0615\n",
      "    0.16    0.0205    0.0164   -0.0116    0.0526   -0.0192    0.0601\n",
      "    0.17    0.0197    0.0163   -0.0123    0.0517   -0.0198    0.0592\n",
      "    0.18    0.0191    0.0164    -0.013    0.0512   -0.0206    0.0587\n",
      "    0.19    0.0187    0.0165   -0.0136    0.0509   -0.0212    0.0585\n",
      "     0.2    0.0188    0.0163   -0.0132    0.0508   -0.0207    0.0584\n",
      "    0.21    0.0182    0.0162   -0.0135      0.05    -0.021    0.0574\n",
      "    0.22    0.0173    0.0161   -0.0143    0.0489   -0.0217    0.0563\n",
      "    0.23    0.0171    0.0161   -0.0143    0.0486   -0.0217     0.056\n",
      "    0.24    0.0172     0.016   -0.0143    0.0486   -0.0216     0.056\n",
      "    0.25    0.0174    0.0159   -0.0138    0.0487   -0.0212     0.056\n",
      "    0.26    0.0179    0.0158   -0.0131    0.0489   -0.0204    0.0562\n",
      "    0.27    0.0181    0.0158   -0.0129    0.0491   -0.0201    0.0563\n",
      "    0.28    0.0184    0.0158   -0.0125    0.0493   -0.0197    0.0566\n",
      "    0.29    0.0184    0.0156   -0.0122    0.0491   -0.0194    0.0563\n",
      "     0.3    0.0184    0.0154   -0.0118    0.0487   -0.0189    0.0558\n",
      "    0.31    0.0177    0.0154   -0.0124    0.0479   -0.0194    0.0549\n",
      "    0.32    0.0177    0.0153   -0.0123    0.0477   -0.0194    0.0547\n",
      "    0.33    0.0179    0.0152   -0.0119    0.0477   -0.0188    0.0547\n",
      "    0.34    0.0182     0.015   -0.0111    0.0476    -0.018    0.0545\n",
      "    0.35    0.0179    0.0148   -0.0111    0.0468   -0.0179    0.0536\n",
      "    0.36    0.0176    0.0147   -0.0111    0.0464   -0.0179    0.0532\n",
      "    0.37    0.0177    0.0146    -0.011    0.0464   -0.0177    0.0532\n",
      "    0.38    0.0183    0.0145   -0.0101    0.0467   -0.0168    0.0534\n",
      "    0.39    0.0182    0.0144   -0.0101    0.0466   -0.0167    0.0532\n",
      "     0.4    0.0184    0.0144  -0.00984    0.0467   -0.0165    0.0533\n",
      "    0.41    0.0188    0.0144  -0.00945    0.0471   -0.0161    0.0537\n",
      "    0.42    0.0185    0.0145     -0.01    0.0469   -0.0167    0.0536\n",
      "    0.43    0.0182    0.0146   -0.0103    0.0468    -0.017    0.0535\n",
      "    0.44    0.0182    0.0146   -0.0105    0.0469   -0.0172    0.0536\n",
      "    0.45    0.0183    0.0147   -0.0106    0.0471   -0.0173    0.0539\n",
      "    0.46    0.0178    0.0145   -0.0107    0.0462   -0.0173    0.0529\n",
      "    0.47    0.0175    0.0143   -0.0105    0.0455   -0.0171    0.0521\n",
      "    0.48    0.0173    0.0141   -0.0103    0.0449   -0.0168    0.0514\n",
      "    0.49     0.017    0.0138     -0.01     0.044   -0.0164    0.0504\n",
      "     0.5    0.0165    0.0136   -0.0101    0.0431   -0.0163    0.0493\n",
      "    0.51    0.0158    0.0133   -0.0104    0.0419   -0.0165    0.0481\n",
      "    0.52    0.0149    0.0131   -0.0108    0.0407   -0.0169    0.0467\n",
      "    0.53    0.0142     0.013   -0.0112    0.0397   -0.0172    0.0457\n",
      "    0.54    0.0142     0.013   -0.0111    0.0396   -0.0171    0.0456\n",
      "    0.55    0.0139    0.0129   -0.0114    0.0392   -0.0174    0.0452\n",
      "    0.56    0.0131    0.0129   -0.0122    0.0385   -0.0182    0.0445\n",
      "    0.57    0.0121    0.0131   -0.0136    0.0378   -0.0196    0.0439\n",
      "    0.58    0.0117    0.0132   -0.0142    0.0376   -0.0203    0.0437\n",
      "    0.59    0.0112    0.0134    -0.015    0.0375   -0.0212    0.0436\n",
      "     0.6    0.0106    0.0136   -0.0162    0.0373   -0.0224    0.0436\n",
      "    0.61   0.00896    0.0137   -0.0179    0.0358   -0.0242    0.0422\n",
      "    0.62   0.00769    0.0141   -0.0199    0.0353   -0.0264    0.0418\n",
      "    0.63   0.00632    0.0145   -0.0221    0.0347   -0.0288    0.0414\n",
      "    0.64    0.0046    0.0148   -0.0245    0.0337   -0.0313    0.0405\n",
      "    0.65   0.00289     0.015   -0.0265    0.0323   -0.0334    0.0392\n",
      "    0.66   0.00308    0.0154    -0.027    0.0332   -0.0341    0.0403\n",
      "    0.67   0.00271    0.0158   -0.0283    0.0338   -0.0356    0.0411\n",
      "    0.68    0.0022    0.0164   -0.0299    0.0343   -0.0375    0.0419\n",
      "    0.69   0.00221    0.0169   -0.0309    0.0353   -0.0387    0.0431\n",
      "     0.7   0.00267     0.017   -0.0307     0.036   -0.0385    0.0439\n",
      "    0.71   0.00244    0.0171   -0.0311     0.036    -0.039    0.0439\n",
      "    0.72   0.00191    0.0176   -0.0325    0.0363   -0.0406    0.0444\n",
      "    0.73   0.00194    0.0178    -0.033    0.0369   -0.0412    0.0451\n",
      "    0.74   0.00219    0.0181   -0.0334    0.0377   -0.0417    0.0461\n",
      "    0.75   0.00176    0.0184   -0.0344    0.0379   -0.0429    0.0464\n",
      "    0.76  0.000301     0.019    -0.037    0.0376   -0.0457    0.0463\n",
      "    0.77  -0.00225    0.0194   -0.0403    0.0358   -0.0493    0.0448\n",
      "    0.78  -0.00321    0.0196   -0.0415    0.0351   -0.0505    0.0441\n",
      "    0.79  -0.00329    0.0196   -0.0417    0.0352   -0.0508    0.0442\n",
      "     0.8  -0.00482    0.0195   -0.0431    0.0335   -0.0521    0.0425\n",
      "    0.81  -0.00756    0.0194   -0.0457    0.0306   -0.0546    0.0395\n",
      "    0.82  -0.00734    0.0199   -0.0463    0.0316   -0.0554    0.0407\n",
      "    0.83  -0.00638    0.0207   -0.0469    0.0341   -0.0564    0.0437\n",
      "    0.84  -0.00632    0.0213    -0.048    0.0353   -0.0578    0.0451\n",
      "    0.85  -0.00761    0.0218   -0.0503    0.0351   -0.0603    0.0451\n",
      "    0.86  -0.00651     0.022   -0.0496    0.0366   -0.0597    0.0467\n",
      "    0.87  -0.00551    0.0225   -0.0495    0.0385   -0.0599    0.0488\n",
      "    0.88  -0.00619    0.0228    -0.051    0.0386   -0.0615    0.0491\n",
      "    0.89  -0.00779    0.0232   -0.0532    0.0376   -0.0639    0.0483\n",
      "     0.9  -0.00416    0.0234     -0.05    0.0417   -0.0608    0.0524\n",
      "    0.91  0.000324    0.0238   -0.0463    0.0469   -0.0572    0.0579\n",
      "    0.92  0.000882    0.0239    -0.046    0.0478   -0.0571    0.0588\n",
      "    0.93  -0.00331    0.0242   -0.0508    0.0442   -0.0619    0.0553\n",
      "    0.94    0.0117    0.0254   -0.0381    0.0615   -0.0498    0.0732\n",
      "    0.95    0.0359    0.0272   -0.0174    0.0892     -0.03     0.102\n",
      "    0.96    0.0388    0.0292   -0.0184     0.096   -0.0318     0.109\n",
      "    0.97    0.0142    0.0325   -0.0496     0.078   -0.0646     0.093\n",
      "    0.98    0.0461     0.039   -0.0304     0.123   -0.0484     0.141\n",
      "    0.99    0.0211    0.0685    -0.113     0.155    -0.145     0.187\n",
      "\n",
      "\n",
      "      Bootstrap inference on the counterfactual quantile process       \n",
      "---------------------------------------------------------------------- \n",
      "\t\t\t\t\t\t    P-values\t\n",
      "\t\t\t\t\t        ====================== \n",
      "NULL-hypthoesis                        \t KS-statistic CMS-statistic \n",
      "====================================================================== \n",
      "Correct specification of the parametric model       0.18       0.02 \n",
      "No effect: QE(tau)=0 for all taus                   0.31       0.33 \n",
      "Constant effect: QE(tau)=QE(0.5) for all taus        0.2       0.18 \n",
      "Stochastic dominance: QE(tau)>0 for all taus        0.57       0.57 \n",
      "Stochastic dominance: QE(tau)<0 for all taus        0.18       0.18 \n",
      "\n",
      "\n",
      "                      Quantile Effects -- Total                        \n",
      "---------------------------------------------------------------------- \n",
      "                     Pointwise      Pointwise           Functional     \n",
      " Quantile     Est.    Std.Err   95% Conf.Interval   95% Conf.Interval  \n",
      "    0.01     0.352    0.0584     0.238     0.467     0.199     0.505\n",
      "    0.02     0.325     0.051     0.225     0.425     0.192     0.459\n",
      "    0.03     0.311    0.0443     0.224     0.398     0.195     0.427\n",
      "    0.04     0.305    0.0388     0.229     0.381     0.204     0.407\n",
      "    0.05     0.294    0.0377     0.221     0.368     0.196     0.393\n",
      "    0.06     0.287    0.0368     0.214     0.359      0.19     0.383\n",
      "    0.07     0.282    0.0359     0.211     0.352     0.188     0.376\n",
      "    0.08     0.278    0.0353     0.209     0.348     0.186     0.371\n",
      "    0.09     0.274    0.0336     0.208      0.34     0.185     0.362\n",
      "     0.1      0.27    0.0321     0.207     0.333     0.186     0.354\n",
      "    0.11     0.268    0.0309     0.207     0.329     0.187     0.349\n",
      "    0.12     0.266    0.0298     0.207     0.324     0.188     0.344\n",
      "    0.13     0.262    0.0289     0.206     0.319     0.186     0.338\n",
      "    0.14     0.259    0.0282     0.204     0.314     0.185     0.333\n",
      "    0.15     0.256    0.0275     0.202      0.31     0.184     0.328\n",
      "    0.16     0.254    0.0268     0.201     0.306     0.183     0.324\n",
      "    0.17     0.251    0.0263     0.199     0.302     0.182      0.32\n",
      "    0.18     0.247    0.0259     0.197     0.298     0.179     0.315\n",
      "    0.19     0.244    0.0256     0.194     0.295     0.177     0.312\n",
      "     0.2     0.242    0.0254     0.192     0.292     0.175     0.309\n",
      "    0.21     0.239    0.0251      0.19     0.288     0.173     0.305\n",
      "    0.22     0.236    0.0249     0.187     0.285     0.171     0.301\n",
      "    0.23     0.234    0.0246     0.185     0.282     0.169     0.298\n",
      "    0.24     0.232    0.0245     0.183      0.28     0.167     0.296\n",
      "    0.25      0.23    0.0245     0.182     0.278     0.166     0.294\n",
      "    0.26     0.229    0.0245     0.181     0.277     0.165     0.293\n",
      "    0.27     0.227    0.0247     0.179     0.276     0.163     0.292\n",
      "    0.28     0.226     0.025     0.177     0.275     0.161     0.292\n",
      "    0.29     0.225    0.0251     0.176     0.274     0.159     0.291\n",
      "     0.3     0.224     0.025     0.175     0.273     0.159      0.29\n",
      "    0.31     0.223     0.025     0.174     0.272     0.157     0.288\n",
      "    0.32     0.222     0.025     0.173     0.271     0.156     0.287\n",
      "    0.33     0.221    0.0247     0.173      0.27     0.156     0.286\n",
      "    0.34     0.221    0.0242     0.173     0.268     0.157     0.284\n",
      "    0.35     0.219    0.0239     0.172     0.266     0.157     0.282\n",
      "    0.36     0.218    0.0237     0.172     0.265     0.156      0.28\n",
      "    0.37     0.217    0.0235     0.171     0.263     0.156     0.279\n",
      "    0.38     0.217    0.0232     0.171     0.262     0.156     0.278\n",
      "    0.39     0.216    0.0231      0.17     0.261     0.155     0.276\n",
      "     0.4     0.215    0.0231     0.169      0.26     0.154     0.275\n",
      "    0.41     0.214     0.023     0.169     0.259     0.154     0.275\n",
      "    0.42     0.214    0.0229     0.169     0.259     0.154     0.274\n",
      "    0.43     0.213    0.0229     0.168     0.258     0.153     0.273\n",
      "    0.44     0.213    0.0229     0.168     0.258     0.153     0.273\n",
      "    0.45     0.213    0.0231     0.168     0.258     0.152     0.273\n",
      "    0.46     0.213    0.0233     0.167     0.258     0.152     0.274\n",
      "    0.47     0.213    0.0235     0.167     0.259     0.152     0.275\n",
      "    0.48     0.213    0.0237     0.167      0.26     0.151     0.275\n",
      "    0.49     0.213    0.0238     0.167      0.26     0.151     0.276\n",
      "     0.5     0.213    0.0238     0.166     0.259      0.15     0.275\n",
      "    0.51     0.212    0.0239     0.165     0.259     0.149     0.274\n",
      "    0.52     0.211     0.024     0.164     0.258     0.148     0.274\n",
      "    0.53      0.21    0.0241     0.163     0.257     0.147     0.273\n",
      "    0.54      0.21    0.0243     0.162     0.258     0.146     0.274\n",
      "    0.55      0.21    0.0245     0.162     0.258     0.146     0.274\n",
      "    0.56     0.209    0.0247     0.161     0.258     0.145     0.274\n",
      "    0.57     0.209     0.025      0.16     0.258     0.143     0.274\n",
      "    0.58     0.208    0.0251     0.159     0.257     0.142     0.274\n",
      "    0.59     0.207    0.0252     0.158     0.257     0.141     0.273\n",
      "     0.6     0.206    0.0254     0.156     0.256      0.14     0.273\n",
      "    0.61     0.204    0.0255     0.154     0.254     0.138     0.271\n",
      "    0.62     0.203    0.0256     0.153     0.254     0.136      0.27\n",
      "    0.63     0.202    0.0258     0.152     0.253     0.135      0.27\n",
      "    0.64     0.201    0.0263      0.15     0.253     0.132      0.27\n",
      "    0.65       0.2    0.0266     0.147     0.252      0.13     0.269\n",
      "    0.66     0.198    0.0269     0.145     0.251     0.128     0.268\n",
      "    0.67     0.196    0.0272     0.142     0.249     0.125     0.267\n",
      "    0.68     0.193    0.0276     0.139     0.247     0.121     0.265\n",
      "    0.69     0.191     0.028     0.136     0.246     0.118     0.265\n",
      "     0.7     0.189    0.0282     0.134     0.244     0.115     0.263\n",
      "    0.71     0.186    0.0283     0.131     0.241     0.112      0.26\n",
      "    0.72     0.182    0.0285     0.127     0.238     0.108     0.257\n",
      "    0.73      0.18    0.0286     0.124     0.236     0.105     0.255\n",
      "    0.74     0.178    0.0289     0.121     0.235     0.102     0.254\n",
      "    0.75     0.176    0.0294     0.118     0.233    0.0984     0.253\n",
      "    0.76     0.172    0.0302     0.113     0.232    0.0931     0.251\n",
      "    0.77     0.168     0.031     0.107     0.229    0.0866     0.249\n",
      "    0.78     0.164    0.0316     0.102     0.226     0.081     0.247\n",
      "    0.79      0.16    0.0322    0.0973     0.224     0.076     0.245\n",
      "     0.8     0.155     0.033    0.0908      0.22     0.069     0.242\n",
      "    0.81     0.149    0.0339    0.0828     0.216    0.0604     0.238\n",
      "    0.82     0.145    0.0353     0.076     0.214    0.0527     0.238\n",
      "    0.83     0.142    0.0371     0.069     0.214    0.0446     0.239\n",
      "    0.84     0.137    0.0391    0.0606     0.214    0.0348      0.24\n",
      "    0.85     0.131    0.0414    0.0501     0.213    0.0227      0.24\n",
      "    0.86     0.127     0.044    0.0402     0.213    0.0111     0.242\n",
      "    0.87     0.121    0.0467    0.0293     0.212  -0.00153     0.243\n",
      "    0.88     0.113    0.0497    0.0161     0.211   -0.0167     0.244\n",
      "    0.89     0.105    0.0529   0.00133     0.209   -0.0336     0.244\n",
      "     0.9     0.101    0.0574   -0.0117     0.213   -0.0496     0.251\n",
      "    0.91    0.0965    0.0637   -0.0282     0.221   -0.0703     0.263\n",
      "    0.92    0.0883    0.0703   -0.0496     0.226    -0.096     0.273\n",
      "    0.93    0.0753    0.0778   -0.0772     0.228    -0.129     0.279\n",
      "    0.94    0.0755    0.0894   -0.0996     0.251    -0.159      0.31\n",
      "    0.95    0.0791      0.11    -0.136     0.294    -0.208     0.366\n",
      "    0.96    0.0613     0.133      -0.2     0.322    -0.288      0.41\n",
      "    0.97     0.016     0.159    -0.295     0.327    -0.399     0.431\n",
      "    0.98    0.0543     0.184    -0.307     0.416    -0.429     0.537\n",
      "    0.99    0.0704     0.241    -0.402     0.543    -0.561     0.702\n",
      "\n",
      "\n",
      "      Bootstrap inference on the counterfactual quantile process       \n",
      "---------------------------------------------------------------------- \n",
      "\t\t\t\t\t\t    P-values\t\n",
      "\t\t\t\t\t        ====================== \n",
      "NULL-hypthoesis                        \t KS-statistic CMS-statistic \n",
      "====================================================================== \n",
      "Correct specification of the parametric model          0          0 \n",
      "No effect: QE(tau)=0 for all taus                      0          0 \n",
      "Constant effect: QE(tau)=QE(0.5) for all taus       0.43        0.2 \n",
      "Stochastic dominance: QE(tau)>0 for all taus        0.88       0.88 \n",
      "Stochastic dominance: QE(tau)<0 for all taus           0          0 \n"
     ]
    }
   ],
   "source": [
    "# Draw a small random sample (since the estimation takes long)\n",
    "index <- sample(x=1:nrow(data), size=1000)\n",
    "sample_cf <- data[index,]\n",
    "covariates <-covariates[index,]\n",
    "\n",
    "# Define the quantiles and the range\n",
    "taus <- c(1:99)/100\n",
    "first <- sum(as.double(taus <= .10))\n",
    "last <- sum(as.double(taus <= .90))\n",
    "rang <- c(first:last)\n",
    "# tails of the distribution should not be used because standard asymptotic does not apply to these parts.\n",
    "\n",
    "# Estimation\n",
    "set.seed(123456) # don't forget \n",
    "rq.4 <-  counterfactual(lnwage ~ covariates, # regression formula \n",
    "                        data=sample_cf, # sample  \n",
    "                        group=public, # treated and control populations \n",
    "                        quantiles=taus, # quantiles\n",
    "                        treatment = TRUE, # computes structure effect\n",
    "                        decomposition = TRUE, # also computes composition and total effect (only useful when treatment = TRUE)\n",
    "                        method=\"qr\", # quantile regression estimation method, the default\n",
    "                        reps = 49, # bootstrap replications  \n",
    "                        sepcore = TRUE, ncore=2 # use multiple cores to speed up computation \n",
    "                        ) "
   ]
  },
  {
   "cell_type": "markdown",
   "metadata": {},
   "source": [
    "#### Plot the estimated effects"
   ]
  },
  {
   "cell_type": "code",
   "execution_count": 70,
   "metadata": {},
   "outputs": [
    {
     "data": {
      "image/png": "[encoded data removed]",
      "text/plain": [
       "plot without title"
      ]
     },
     "metadata": {
      "image/png": {
       "height": 450,
       "width": 450
      }
     },
     "output_type": "display_data"
    },
    {
     "data": {
      "image/png": "[encoded data removed]",
      "text/plain": [
       "plot without title"
      ]
     },
     "metadata": {
      "image/png": {
       "height": 450,
       "width": 450
      }
     },
     "output_type": "display_data"
    },
    {
     "data": {
      "image/png": "[encoded data removed]",
      "text/plain": [
       "plot without title"
      ]
     },
     "metadata": {
      "image/png": {
       "height": 450,
       "width": 450
      }
     },
     "output_type": "display_data"
    }
   ],
   "source": [
    "# Collect estimates and SE\n",
    "\n",
    "# Structure\n",
    "duqf_SE <- (rq.4$resSE)[,1]\n",
    "l.duqf_SE <- (rq.4$resSE)[,3]\n",
    "u.duqf_SE <- (rq.4$resSE)[,4]\n",
    "\n",
    "# Composition\n",
    "duqf_CE <- (rq.4$resCE)[,1]\n",
    "l.duqf_CE <- (rq.4$resCE)[,3]\n",
    "u.duqf_CE <- (rq.4$resCE)[,4]\n",
    "\n",
    "# Total\n",
    "duqf_TE <- (rq.4$resTE)[,1]\n",
    "l.duqf_TE <- (rq.4$resTE)[,3]\n",
    "u.duqf_TE <- (rq.4$resTE)[,4]\n",
    "\n",
    "# create one data set for all estimates\n",
    "rq.4_se <- cbind(duqf_SE,l.duqf_SE,u.duqf_SE)\n",
    "rq.4_ce <- cbind(duqf_CE,l.duqf_CE,u.duqf_CE)\n",
    "rq.4_te <- cbind(duqf_TE,l.duqf_TE,u.duqf_TE)\n",
    "rq.4_all <- as.data.frame(cbind(taus, rq.4_se, rq.4_ce, rq.4_te))\n",
    "rq.4_all <- rq.4_all[rang,]\n",
    "\n",
    "# Define a range for y\n",
    "min_y <- min(c(min(l.duqf_SE[rang]), min(l.duqf_CE[rang]),min(l.duqf_TE[rang])))\n",
    "max_y <- max(c(max(u.duqf_SE[rang]), max(u.duqf_CE[rang]),max(u.duqf_TE[rang])))\n",
    "\n",
    "# Plot with ggplot\n",
    "\n",
    "options(repr.plot.width=6, repr.plot.height=6, repr.plot.res = 150)\n",
    "\n",
    "p.te<-ggplot()+\n",
    "      geom_line(data = rq.4_all, aes(x = taus, y = duqf_TE)) +\n",
    "      geom_ribbon(data=rq.4_all, aes(ymin=l.duqf_SE,ymax=u.duqf_TE,  x=taus, fill = \"band\" ),alpha=0.3)+\n",
    "      theme_bw(base_size = 20) +\n",
    "      theme(axis.title = element_text(face = \"bold\"),\n",
    "            axis.title.x = element_blank()) +\n",
    "      ylab(\"Difference in Wages\") +\n",
    "      xlab(\"Quantiles\") +\n",
    "      ylim(min_y, max_y) +\n",
    "      xlim(0, 1) +\n",
    "      geom_hline(yintercept = 0) +\n",
    "      theme(legend.position = \"none\") +\n",
    "      ggtitle(\"Total\") +\n",
    "      theme(plot.title = element_text(hjust = 0.5))\n",
    "\n",
    "p.se<-ggplot()+\n",
    "      geom_line(data = rq.4_all, aes(x = taus, y = duqf_SE)) +\n",
    "      geom_ribbon(data=rq.4_all, aes(ymin=l.duqf_SE,ymax=u.duqf_SE,  x=taus, fill = \"band\" ),alpha=0.3)+\n",
    "       theme_bw(base_size = 20) +\n",
    "      theme(axis.title = element_text(face = \"bold\"),\n",
    "            axis.title.x = element_blank()) +\n",
    "      ylab(\"Difference in Wages\") +\n",
    "      xlab(\"Quantiles\") +\n",
    "      ylim(min_y, max_y) +\n",
    "      xlim(0, 1) +\n",
    "      geom_hline(yintercept = 0) +\n",
    "      theme(legend.position = \"none\") +\n",
    "      ggtitle(\"Structure\")  +\n",
    "      theme(plot.title = element_text(hjust = 0.5))\n",
    "\n",
    "p.ce<-ggplot()+\n",
    "      geom_line(data = rq.4_all, aes(x = taus, y = duqf_CE)) +\n",
    "      geom_ribbon(data=rq.4_all, aes(ymin=l.duqf_CE,ymax=u.duqf_CE,  x=taus, fill = \"band\" ),alpha=0.3)+\n",
    "       theme_bw(base_size = 20) +\n",
    "      theme(axis.title = element_text(face = \"bold\"),\n",
    "            axis.title.x = element_blank()) +\n",
    "      ylab(\"Difference in Wages\") +\n",
    "      xlab(\"Quantiles\") +\n",
    "      ylim(min_y, max_y) +\n",
    "      xlim(0, 1) +\n",
    "      geom_hline(yintercept = 0) +\n",
    "      theme(legend.position = \"none\") +\n",
    "      ggtitle(\"Composition\")  +\n",
    "      theme(plot.title = element_text(hjust = 0.5))\n",
    "\n",
    "p.te\n",
    "p.se\n",
    "p.ce"
   ]
  },
  {
   "cell_type": "markdown",
   "metadata": {},
   "source": [
    "Interpretation\n",
    "* Location shift + scale shift. \n",
    "* Here, mostly unexplained differences that depend on the sector itself (i.e. unexplained wage gap, price differential, structure difference), and cannot be explained by differences in observable characteristics.  \n",
    "* Very few covariates included! Far from a credible decomposition (and even more from a true causal effect). \n",
    "\n",
    "### Thank you for your attention and participation!"
   ]
  }
 ],
 "metadata": {
  "kernelspec": {
   "display_name": "R",
   "language": "R",
   "name": "ir"
  },
  "language_info": {
   "codemirror_mode": "r",
   "file_extension": ".r",
   "mimetype": "text/x-r-source",
   "name": "R",
   "pygments_lexer": "r",
   "version": "3.6.1"
  }
 },
 "nbformat": 4,
 "nbformat_minor": 2
}
