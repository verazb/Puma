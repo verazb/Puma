{
 "cells": [
  {
   "cell_type": "markdown",
   "metadata": {},
   "source": [
    "**Applied Empirical Analysis (HS 2020)**\n",
    "\n",
    "**Conny Wunsch, Ulrike Unterhofer and Véra Zabrodina** -- University of Basel\n",
    "\n",
    "***\n",
    "\n",
    "# Lab Session 6 - Quantile Treatment Effects (QTE)\n",
    "\n",
    "***\n",
    "\n",
    "Key motivation is to look at treatment effects beyond the mean, and look at how different parts of the outcome distribution respond to the treatment. \n",
    "\n",
    "Example of QTE vs. ATE \n",
    "\n",
    "<img src=\"Quantile.JPG\" alt=\"Drawing\" style=\"width: 800px;\"/>\n",
    "\n",
    "Source: adapted from Markus Jochmann (2006), Three Essays on Bayesian Nonparametric Modeling in Microeconometrics."
   ]
  },
  {
   "cell_type": "markdown",
   "metadata": {},
   "source": [
    "## Application: Public-private sector wage differentials in Germany: Evidence from quantile regression\n",
    "\n",
    "**Blaise Melly (Empirical Economics, 2005)**\n",
    "\n",
    "For the author's website, with Stata and R codes and packages for quantile and distribution regression, see \n",
    "\n",
    "\n",
    "https://sites.google.com/site/blaisemelly/home/computer-programs"
   ]
  },
  {
   "cell_type": "markdown",
   "metadata": {},
   "source": [
    "## 1. Introduction\n",
    "\n",
    "* Across which groups are the wage distributions compared (i.e. how are the treated and control groups defined)? \n",
    "* How do you expect the wage distributions to differ across these groups, and why? \n"
   ]
  },
  {
   "cell_type": "markdown",
   "metadata": {},
   "source": [
    "***\n",
    "\n",
    "## 2. Identification strategy and assumptions\n",
    "\n",
    "\n",
    "\n",
    "### Setup and notation\n",
    "\n",
    "* **Outcome variable:** $Y$ -  Log wages\n",
    "\n",
    "\n",
    "* **Binary treatment variable:** $D\\in\\{0,1\\}$ - Public ($D=1$) versus private sector employment ($D=0$)\n",
    "\n",
    "\n",
    "* **Potential Outcomes:** $Y_0$, $Y_1$\n",
    "\n",
    "\n",
    "\n",
    "* **Cumulative distribution function of the outcome variable $Y$ evaluated at $y$:** \n",
    "\n",
    "$$F_Y(y)=Pr(Y\\le y)=E[\\underline{1}(Y\\le y)]$$\n",
    "\n",
    "\n",
    "* **Quantile function evaluated at $0<\\tau<1$:**\n",
    "\n",
    "$$Q_Y(\\tau)=F^{-1}_Y(\\tau)=\\inf\\{y|F_Y(y)\\ge\\tau\\}$$\n",
    "\n",
    "e.g. $Q_Y(0.5)$ corresponding to the value of $Y$ at the median.\n",
    "\n",
    "*Put graph here*\n",
    "\n",
    "\n",
    "\n",
    "### What are the effects we are interested in?\n",
    "\n",
    "So far we have analysed the effect of a treatment on the average outcome by looking at the **Average Treatement Effect (ATE)**:\n",
    "\n",
    "$$ATE=E[Y_1-Y_0]$$\n",
    "\n",
    "Now, we aim at estimating effects of a treatment on the distribution of the outcome variable. \n",
    "\n",
    "We consider two effect types:\n",
    "\n",
    "**1. Distributional Treatment Effect (DTE):**\n",
    "\n",
    "$$DTE(y)=F_{Y_1}(y)-F_{Y_0}(y)$$\n",
    "\n",
    "Difference between the CDFs of the treatment and control group at a given value of $Y$.\n",
    "\n",
    "\n",
    "\n",
    "**2. Quantile Treatment Effect (QTE):**\n",
    "\n",
    "$$QTE(\\tau)=Q_{Y_1}(\\tau)-Q_{Y_0}(\\tau)$$\n",
    "\n",
    "Difference between the CDFs of the treatment and control group at a given quantile $\\tau$.\n",
    "\n",
    "\n",
    "Consider that $ATE=E[Y_1-Y_0]=E_{\\tau}[QTE(\\tau)]$\n",
    "\n",
    "\n",
    "\n",
    "\n",
    "\n",
    "### Discussion of assumptions\n",
    "\n",
    "**A1 Stable unit treatment value assumption (SUTVA):**\n",
    "\n",
    "$Y=(1-D)Y_0+DY_1$\n",
    "\n",
    "**A2 Random treatment assignment**\n",
    "\n",
    "$Y_{d}\\perp \\!\\!\\! \\perp D \\text{  } \\forall d \\in{\\{0,1\\}} $\n",
    "\n",
    "Later we relax this assumption to a **conditional independence assumption**:\n",
    "\n",
    "$Y_{d}\\perp \\!\\!\\! \\perp D | X \\text{  } \\forall d \\in{\\{0,1\\}}, x\\in\\mathcal{X}$\n",
    "\n",
    "\n",
    "\n",
    "\n",
    "Under assumptions **A1** and **A2** $F_{Y_0}(y)$ and $F_{Y_1}(y)$ are identified as:\n",
    "\n",
    "$$F_{Y_0}(y)=E[\\underline{1}(Y_0\\le y)]=E[\\underline{1}(Y\\le y)|D=0]$$\n",
    "\n",
    "$$F_{Y_1}(y)=E[\\underline{1}(Y_1\\le y)]=E[\\underline{1}(Y\\le y)|D=1]$$\n",
    "\n"
   ]
  },
  {
   "cell_type": "markdown",
   "metadata": {},
   "source": [
    "***\n",
    "\n",
    "## 3. Data\n",
    "\n",
    "Data on the wages and characteristics of a representative sample of workers in Switzerland in 2014.\n",
    "\n",
    "Log(wages), to have a normally distributed outcome. \n",
    "\n",
    "\n",
    "|variable name |   description |\n",
    "|----:|----:|\n",
    "| lnwage          |  log wage |\n",
    "| public          |  Öffentlicher Sektor |\n",
    "| alter           |  Lebensalter |\n",
    "| befristet       |  Befristetes Anstellungsverhältnis |\n",
    "| teilzeit        |  Teilzeit |\n",
    "| frau            |  Frau |\n",
    "| ausbild_cat1    |  Universitäre Hochschule (UNI, ETH) |\n",
    "| ausbild_cat2    |  Fachhochschule (FH), Pädagogische Hochschule (PH) oder glw. Ausbildung |\n",
    "| ausbild_cat3    |  Höhere Berufsausbildung mit eidg. Fachausweis, Diplom, höherer Fachprüfung/Meist |\n",
    "| ausbild_cat4    |  Lehrerpatent auf verschiedenen Stufen: Primarlehrerseminar oder gleichwertige Au |\n",
    "| ausbild_cat5    |  Gymnasiale Maturität, Berufsmaturität, Fachmaturität oder gleichwertige Ausbildu |\n",
    "| ausbild_cat6    |  Abgeschl. Berufsausbildung, Vollzeit-Berufsschule, Diplom- oder Fachmittelschule |\n",
    "| ausbild_cat7    |  Ausschliesslich unternehmensinterne, durch das BBT nicht anerkannte Berufsausbil |\n",
    "| ausbild_cat8    |  Obligatorische Schule, ohne abgeschlossene Berufsausbildung |\n",
    "| ausbild_cat9    |  Fehlende Werte der Ausbildung |\n",
    "| berufst_cat1    |  Oberes Kader: Leitung oder Mitwirkung in der Geschäftsleitung |\n",
    "| berufst_cat2    |  Mittleres Kader: Bereichsleitung, hohe Stabsfunktionen |\n",
    "| berufst_cat3    |  Unteres Kader: Ausführungsorientierte Leitung eines Teilbereichs, qualifizierte |\n",
    "| berufst_cat4    |  Unterstes Kader: Überwachung von Arbeiten gemäss genauer Anleitung |\n",
    "| berufst_cat5    |  Ohne Kaderfunktion |\n",
    "| berufst_cat6    |  Fehlende Werte der beruflichen Stellung |\n",
    "| swiss           |  Schweizer/innen |\n",
    "| married         |  Verheiratet |\n",
    "| case            |  ID |\n",
    "| dienstjahre     |  Dienstjahre |"
   ]
  },
  {
   "cell_type": "markdown",
   "metadata": {},
   "source": [
    "***\n",
    "## 4. Empirical Analysis\n",
    "\n",
    "### Load packages\n",
    "\n",
    "Special packages, see documentation (both very extensive):\n",
    "* `quantreg`: https://rdrr.io/cran/quantreg/man/rq.html\n",
    "* `Counterfactual`: https://arxiv.org/pdf/1610.07894.pdf"
   ]
  },
  {
   "cell_type": "code",
   "execution_count": 18,
   "metadata": {},
   "outputs": [
    {
     "name": "stderr",
     "output_type": "stream",
     "text": [
      "Loading required package: ggpubr\n",
      "\n",
      "Registered S3 methods overwritten by 'broom':\n",
      "  method            from  \n",
      "  tidy.glht         jtools\n",
      "  tidy.summary.glht jtools\n",
      "\n",
      "\n",
      "Attaching package: 'ggpubr'\n",
      "\n",
      "\n",
      "The following object is masked from 'package:expss':\n",
      "\n",
      "    compare_means\n",
      "\n",
      "\n"
     ]
    },
    {
     "data": {
      "text/html": [
       "<ol>\n",
       "\t<li>TRUE</li>\n",
       "\t<li>TRUE</li>\n",
       "\t<li>TRUE</li>\n",
       "\t<li>TRUE</li>\n",
       "\t<li>TRUE</li>\n",
       "\t<li>TRUE</li>\n",
       "\t<li>TRUE</li>\n",
       "\t<li>TRUE</li>\n",
       "\t<li>TRUE</li>\n",
       "\t<li>TRUE</li>\n",
       "\t<li>TRUE</li>\n",
       "\t<li>TRUE</li>\n",
       "\t<li>TRUE</li>\n",
       "</ol>\n"
      ],
      "text/latex": [
       "\\begin{enumerate}\n",
       "\\item TRUE\n",
       "\\item TRUE\n",
       "\\item TRUE\n",
       "\\item TRUE\n",
       "\\item TRUE\n",
       "\\item TRUE\n",
       "\\item TRUE\n",
       "\\item TRUE\n",
       "\\item TRUE\n",
       "\\item TRUE\n",
       "\\item TRUE\n",
       "\\item TRUE\n",
       "\\item TRUE\n",
       "\\end{enumerate}\n"
      ],
      "text/markdown": [
       "1. TRUE\n",
       "2. TRUE\n",
       "3. TRUE\n",
       "4. TRUE\n",
       "5. TRUE\n",
       "6. TRUE\n",
       "7. TRUE\n",
       "8. TRUE\n",
       "9. TRUE\n",
       "10. TRUE\n",
       "11. TRUE\n",
       "12. TRUE\n",
       "13. TRUE\n",
       "\n",
       "\n"
      ],
      "text/plain": [
       "[[1]]\n",
       "[1] TRUE\n",
       "\n",
       "[[2]]\n",
       "[1] TRUE\n",
       "\n",
       "[[3]]\n",
       "[1] TRUE\n",
       "\n",
       "[[4]]\n",
       "[1] TRUE\n",
       "\n",
       "[[5]]\n",
       "[1] TRUE\n",
       "\n",
       "[[6]]\n",
       "[1] TRUE\n",
       "\n",
       "[[7]]\n",
       "[1] TRUE\n",
       "\n",
       "[[8]]\n",
       "[1] TRUE\n",
       "\n",
       "[[9]]\n",
       "[1] TRUE\n",
       "\n",
       "[[10]]\n",
       "[1] TRUE\n",
       "\n",
       "[[11]]\n",
       "[1] TRUE\n",
       "\n",
       "[[12]]\n",
       "[1] TRUE\n",
       "\n",
       "[[13]]\n",
       "[1] TRUE\n"
      ]
     },
     "metadata": {},
     "output_type": "display_data"
    },
    {
     "data": {
      "text/html": [
       "<ol>\n",
       "\t<li>TRUE</li>\n",
       "\t<li>TRUE</li>\n",
       "</ol>\n"
      ],
      "text/latex": [
       "\\begin{enumerate}\n",
       "\\item TRUE\n",
       "\\item TRUE\n",
       "\\end{enumerate}\n"
      ],
      "text/markdown": [
       "1. TRUE\n",
       "2. TRUE\n",
       "\n",
       "\n"
      ],
      "text/plain": [
       "[[1]]\n",
       "[1] TRUE\n",
       "\n",
       "[[2]]\n",
       "[1] TRUE\n"
      ]
     },
     "metadata": {},
     "output_type": "display_data"
    },
    {
     "data": {
      "text/html": [
       "<style>\n",
       ".list-inline {list-style: none; margin:0; padding: 0}\n",
       ".list-inline>li {display: inline-block}\n",
       ".list-inline>li:not(:last-child)::after {content: \"\\00b7\"; padding: 0 .5ex}\n",
       "</style>\n",
       "<ol class=list-inline><li>'ggpubr'</li><li>'Counterfactual'</li><li>'quantreg'</li><li>'SparseM'</li><li>'ggplot2'</li><li>'jtools'</li><li>'mfx'</li><li>'betareg'</li><li>'MASS'</li><li>'lmtest'</li><li>'zoo'</li><li>'stargazer'</li><li>'data.table'</li><li>'xtable'</li><li>'fBasics'</li><li>'timeSeries'</li><li>'timeDate'</li><li>'expss'</li><li>'sandwich'</li><li>'tidyr'</li><li>'dplyr'</li><li>'haven'</li><li>'stats'</li><li>'graphics'</li><li>'grDevices'</li><li>'utils'</li><li>'datasets'</li><li>'methods'</li><li>'base'</li></ol>\n"
      ],
      "text/latex": [
       "\\begin{enumerate*}\n",
       "\\item 'ggpubr'\n",
       "\\item 'Counterfactual'\n",
       "\\item 'quantreg'\n",
       "\\item 'SparseM'\n",
       "\\item 'ggplot2'\n",
       "\\item 'jtools'\n",
       "\\item 'mfx'\n",
       "\\item 'betareg'\n",
       "\\item 'MASS'\n",
       "\\item 'lmtest'\n",
       "\\item 'zoo'\n",
       "\\item 'stargazer'\n",
       "\\item 'data.table'\n",
       "\\item 'xtable'\n",
       "\\item 'fBasics'\n",
       "\\item 'timeSeries'\n",
       "\\item 'timeDate'\n",
       "\\item 'expss'\n",
       "\\item 'sandwich'\n",
       "\\item 'tidyr'\n",
       "\\item 'dplyr'\n",
       "\\item 'haven'\n",
       "\\item 'stats'\n",
       "\\item 'graphics'\n",
       "\\item 'grDevices'\n",
       "\\item 'utils'\n",
       "\\item 'datasets'\n",
       "\\item 'methods'\n",
       "\\item 'base'\n",
       "\\end{enumerate*}\n"
      ],
      "text/markdown": [
       "1. 'ggpubr'\n",
       "2. 'Counterfactual'\n",
       "3. 'quantreg'\n",
       "4. 'SparseM'\n",
       "5. 'ggplot2'\n",
       "6. 'jtools'\n",
       "7. 'mfx'\n",
       "8. 'betareg'\n",
       "9. 'MASS'\n",
       "10. 'lmtest'\n",
       "11. 'zoo'\n",
       "12. 'stargazer'\n",
       "13. 'data.table'\n",
       "14. 'xtable'\n",
       "15. 'fBasics'\n",
       "16. 'timeSeries'\n",
       "17. 'timeDate'\n",
       "18. 'expss'\n",
       "19. 'sandwich'\n",
       "20. 'tidyr'\n",
       "21. 'dplyr'\n",
       "22. 'haven'\n",
       "23. 'stats'\n",
       "24. 'graphics'\n",
       "25. 'grDevices'\n",
       "26. 'utils'\n",
       "27. 'datasets'\n",
       "28. 'methods'\n",
       "29. 'base'\n",
       "\n",
       "\n"
      ],
      "text/plain": [
       " [1] \"ggpubr\"         \"Counterfactual\" \"quantreg\"       \"SparseM\"       \n",
       " [5] \"ggplot2\"        \"jtools\"         \"mfx\"            \"betareg\"       \n",
       " [9] \"MASS\"           \"lmtest\"         \"zoo\"            \"stargazer\"     \n",
       "[13] \"data.table\"     \"xtable\"         \"fBasics\"        \"timeSeries\"    \n",
       "[17] \"timeDate\"       \"expss\"          \"sandwich\"       \"tidyr\"         \n",
       "[21] \"dplyr\"          \"haven\"          \"stats\"          \"graphics\"      \n",
       "[25] \"grDevices\"      \"utils\"          \"datasets\"       \"methods\"       \n",
       "[29] \"base\"          "
      ]
     },
     "metadata": {},
     "output_type": "display_data"
    },
    {
     "name": "stdout",
     "output_type": "stream",
     "text": [
      "[1] \"All packages successfully installed and loaded.\"\n"
     ]
    }
   ],
   "source": [
    "rm(list=ls())\n",
    "\n",
    "\n",
    "packages_vector <- c(\"haven\", \"dplyr\", \"tidyr\", \"sandwich\", \"expss\",\n",
    "    \t\t\t\t\"fBasics\", \"xtable\", \"data.table\", \"stargazer\", \"mfx\", \n",
    "    \t\t\t\t\"jtools\", \"ggplot2\")\n",
    "#install.packages(packages_vector)\n",
    "lapply(packages_vector, require, character.only = TRUE) \n",
    "\n",
    "\n",
    "# Quantile-specific packages \n",
    "packaged_vector_rdd <- c(\"quantreg\", \"Counterfactual\")\n",
    "# install.packages(packages_vector)\n",
    "lapply(packaged_vector_rdd, require, character.only = TRUE) \n",
    "\n",
    "\n",
    "# List loaded packages \n",
    "(.packages())\n",
    "\n",
    "print('All packages successfully installed and loaded.')"
   ]
  },
  {
   "cell_type": "markdown",
   "metadata": {},
   "source": [
    "### Load data "
   ]
  },
  {
   "cell_type": "code",
   "execution_count": 19,
   "metadata": {},
   "outputs": [
    {
     "name": "stderr",
     "output_type": "stream",
     "text": [
      "The following objects are masked from data (pos = 4):\n",
      "\n",
      "    alter, ausbild_cat1, ausbild_cat2, ausbild_cat3, ausbild_cat4,\n",
      "    ausbild_cat5, ausbild_cat6, ausbild_cat7, ausbild_cat8,\n",
      "    ausbild_cat9, befristet, berufst_cat1, berufst_cat2, berufst_cat3,\n",
      "    berufst_cat4, berufst_cat5, berufst_cat6, case, dienstjahre, frau,\n",
      "    lnwage, married, public, swiss, teilzeit\n",
      "\n",
      "\n",
      "The following object is masked from package:datasets:\n",
      "\n",
      "    swiss\n",
      "\n",
      "\n"
     ]
    },
    {
     "data": {
      "text/html": [
       "<table>\n",
       "<caption>A data.frame: 6 × 25</caption>\n",
       "<thead>\n",
       "\t<tr><th></th><th scope=col>alter</th><th scope=col>lnwage</th><th scope=col>befristet</th><th scope=col>teilzeit</th><th scope=col>frau</th><th scope=col>public</th><th scope=col>ausbild_cat1</th><th scope=col>ausbild_cat2</th><th scope=col>ausbild_cat3</th><th scope=col>ausbild_cat4</th><th scope=col>...</th><th scope=col>berufst_cat1</th><th scope=col>berufst_cat2</th><th scope=col>berufst_cat3</th><th scope=col>berufst_cat4</th><th scope=col>berufst_cat5</th><th scope=col>berufst_cat6</th><th scope=col>swiss</th><th scope=col>married</th><th scope=col>case</th><th scope=col>dienstjahre</th></tr>\n",
       "\t<tr><th></th><th scope=col>&lt;dbl&gt;</th><th scope=col>&lt;dbl&gt;</th><th scope=col>&lt;dbl&gt;</th><th scope=col>&lt;dbl&gt;</th><th scope=col>&lt;dbl&gt;</th><th scope=col>&lt;dbl&gt;</th><th scope=col>&lt;dbl&gt;</th><th scope=col>&lt;dbl&gt;</th><th scope=col>&lt;dbl&gt;</th><th scope=col>&lt;dbl&gt;</th><th scope=col>...</th><th scope=col>&lt;dbl&gt;</th><th scope=col>&lt;dbl&gt;</th><th scope=col>&lt;dbl&gt;</th><th scope=col>&lt;dbl&gt;</th><th scope=col>&lt;dbl&gt;</th><th scope=col>&lt;dbl&gt;</th><th scope=col>&lt;dbl&gt;</th><th scope=col>&lt;dbl&gt;</th><th scope=col>&lt;dbl&gt;</th><th scope=col>&lt;dbl&gt;</th></tr>\n",
       "</thead>\n",
       "<tbody>\n",
       "\t<tr><th scope=row>1</th><td>22</td><td>8.690810</td><td>0</td><td>1</td><td>0</td><td>0</td><td>0</td><td>0</td><td>0</td><td>0</td><td>...</td><td>0</td><td>0</td><td>0</td><td>0</td><td>1</td><td>0</td><td>1</td><td>1</td><td> 1</td><td> 4</td></tr>\n",
       "\t<tr><th scope=row>2</th><td>16</td><td>8.059592</td><td>0</td><td>0</td><td>0</td><td>0</td><td>0</td><td>0</td><td>0</td><td>0</td><td>...</td><td>0</td><td>0</td><td>0</td><td>0</td><td>1</td><td>0</td><td>0</td><td>0</td><td> 6</td><td> 1</td></tr>\n",
       "\t<tr><th scope=row>3</th><td>37</td><td>9.320091</td><td>0</td><td>0</td><td>0</td><td>0</td><td>0</td><td>0</td><td>0</td><td>0</td><td>...</td><td>0</td><td>0</td><td>0</td><td>0</td><td>1</td><td>0</td><td>1</td><td>0</td><td> 7</td><td>15</td></tr>\n",
       "\t<tr><th scope=row>4</th><td>24</td><td>8.246172</td><td>0</td><td>1</td><td>1</td><td>0</td><td>0</td><td>0</td><td>0</td><td>0</td><td>...</td><td>0</td><td>0</td><td>0</td><td>0</td><td>1</td><td>0</td><td>1</td><td>0</td><td> 9</td><td> 2</td></tr>\n",
       "\t<tr><th scope=row>5</th><td> 4</td><td>8.564267</td><td>1</td><td>0</td><td>0</td><td>0</td><td>0</td><td>0</td><td>0</td><td>0</td><td>...</td><td>0</td><td>0</td><td>0</td><td>0</td><td>1</td><td>0</td><td>1</td><td>0</td><td>15</td><td> 3</td></tr>\n",
       "\t<tr><th scope=row>6</th><td> 7</td><td>8.828934</td><td>0</td><td>0</td><td>0</td><td>0</td><td>0</td><td>0</td><td>1</td><td>0</td><td>...</td><td>0</td><td>0</td><td>0</td><td>1</td><td>0</td><td>0</td><td>1</td><td>0</td><td>22</td><td> 7</td></tr>\n",
       "</tbody>\n",
       "</table>\n"
      ],
      "text/latex": [
       "A data.frame: 6 × 25\n",
       "\\begin{tabular}{r|lllllllllllllllllllll}\n",
       "  & alter & lnwage & befristet & teilzeit & frau & public & ausbild\\_cat1 & ausbild\\_cat2 & ausbild\\_cat3 & ausbild\\_cat4 & ... & berufst\\_cat1 & berufst\\_cat2 & berufst\\_cat3 & berufst\\_cat4 & berufst\\_cat5 & berufst\\_cat6 & swiss & married & case & dienstjahre\\\\\n",
       "  & <dbl> & <dbl> & <dbl> & <dbl> & <dbl> & <dbl> & <dbl> & <dbl> & <dbl> & <dbl> & ... & <dbl> & <dbl> & <dbl> & <dbl> & <dbl> & <dbl> & <dbl> & <dbl> & <dbl> & <dbl>\\\\\n",
       "\\hline\n",
       "\t1 & 22 & 8.690810 & 0 & 1 & 0 & 0 & 0 & 0 & 0 & 0 & ... & 0 & 0 & 0 & 0 & 1 & 0 & 1 & 1 &  1 &  4\\\\\n",
       "\t2 & 16 & 8.059592 & 0 & 0 & 0 & 0 & 0 & 0 & 0 & 0 & ... & 0 & 0 & 0 & 0 & 1 & 0 & 0 & 0 &  6 &  1\\\\\n",
       "\t3 & 37 & 9.320091 & 0 & 0 & 0 & 0 & 0 & 0 & 0 & 0 & ... & 0 & 0 & 0 & 0 & 1 & 0 & 1 & 0 &  7 & 15\\\\\n",
       "\t4 & 24 & 8.246172 & 0 & 1 & 1 & 0 & 0 & 0 & 0 & 0 & ... & 0 & 0 & 0 & 0 & 1 & 0 & 1 & 0 &  9 &  2\\\\\n",
       "\t5 &  4 & 8.564267 & 1 & 0 & 0 & 0 & 0 & 0 & 0 & 0 & ... & 0 & 0 & 0 & 0 & 1 & 0 & 1 & 0 & 15 &  3\\\\\n",
       "\t6 &  7 & 8.828934 & 0 & 0 & 0 & 0 & 0 & 0 & 1 & 0 & ... & 0 & 0 & 0 & 1 & 0 & 0 & 1 & 0 & 22 &  7\\\\\n",
       "\\end{tabular}\n"
      ],
      "text/markdown": [
       "\n",
       "A data.frame: 6 × 25\n",
       "\n",
       "| <!--/--> | alter &lt;dbl&gt; | lnwage &lt;dbl&gt; | befristet &lt;dbl&gt; | teilzeit &lt;dbl&gt; | frau &lt;dbl&gt; | public &lt;dbl&gt; | ausbild_cat1 &lt;dbl&gt; | ausbild_cat2 &lt;dbl&gt; | ausbild_cat3 &lt;dbl&gt; | ausbild_cat4 &lt;dbl&gt; | ... ... | berufst_cat1 &lt;dbl&gt; | berufst_cat2 &lt;dbl&gt; | berufst_cat3 &lt;dbl&gt; | berufst_cat4 &lt;dbl&gt; | berufst_cat5 &lt;dbl&gt; | berufst_cat6 &lt;dbl&gt; | swiss &lt;dbl&gt; | married &lt;dbl&gt; | case &lt;dbl&gt; | dienstjahre &lt;dbl&gt; |\n",
       "|---|---|---|---|---|---|---|---|---|---|---|---|---|---|---|---|---|---|---|---|---|---|\n",
       "| 1 | 22 | 8.690810 | 0 | 1 | 0 | 0 | 0 | 0 | 0 | 0 | ... | 0 | 0 | 0 | 0 | 1 | 0 | 1 | 1 |  1 |  4 |\n",
       "| 2 | 16 | 8.059592 | 0 | 0 | 0 | 0 | 0 | 0 | 0 | 0 | ... | 0 | 0 | 0 | 0 | 1 | 0 | 0 | 0 |  6 |  1 |\n",
       "| 3 | 37 | 9.320091 | 0 | 0 | 0 | 0 | 0 | 0 | 0 | 0 | ... | 0 | 0 | 0 | 0 | 1 | 0 | 1 | 0 |  7 | 15 |\n",
       "| 4 | 24 | 8.246172 | 0 | 1 | 1 | 0 | 0 | 0 | 0 | 0 | ... | 0 | 0 | 0 | 0 | 1 | 0 | 1 | 0 |  9 |  2 |\n",
       "| 5 |  4 | 8.564267 | 1 | 0 | 0 | 0 | 0 | 0 | 0 | 0 | ... | 0 | 0 | 0 | 0 | 1 | 0 | 1 | 0 | 15 |  3 |\n",
       "| 6 |  7 | 8.828934 | 0 | 0 | 0 | 0 | 0 | 0 | 1 | 0 | ... | 0 | 0 | 0 | 1 | 0 | 0 | 1 | 0 | 22 |  7 |\n",
       "\n"
      ],
      "text/plain": [
       "  alter lnwage   befristet teilzeit frau public ausbild_cat1 ausbild_cat2\n",
       "1 22    8.690810 0         1        0    0      0            0           \n",
       "2 16    8.059592 0         0        0    0      0            0           \n",
       "3 37    9.320091 0         0        0    0      0            0           \n",
       "4 24    8.246172 0         1        1    0      0            0           \n",
       "5  4    8.564267 1         0        0    0      0            0           \n",
       "6  7    8.828934 0         0        0    0      0            0           \n",
       "  ausbild_cat3 ausbild_cat4 ... berufst_cat1 berufst_cat2 berufst_cat3\n",
       "1 0            0            ... 0            0            0           \n",
       "2 0            0            ... 0            0            0           \n",
       "3 0            0            ... 0            0            0           \n",
       "4 0            0            ... 0            0            0           \n",
       "5 0            0            ... 0            0            0           \n",
       "6 1            0            ... 0            0            0           \n",
       "  berufst_cat4 berufst_cat5 berufst_cat6 swiss married case dienstjahre\n",
       "1 0            1            0            1     1        1    4         \n",
       "2 0            1            0            0     0        6    1         \n",
       "3 0            1            0            1     0        7   15         \n",
       "4 0            1            0            1     0        9    2         \n",
       "5 0            1            0            1     0       15    3         \n",
       "6 1            0            0            1     0       22    7         "
      ]
     },
     "metadata": {},
     "output_type": "display_data"
    }
   ],
   "source": [
    "data <-as.data.frame(read_dta(\"data_simple.dta\"))\n",
    "attach(data)\n",
    "\n",
    "head(data)"
   ]
  },
  {
   "cell_type": "markdown",
   "metadata": {},
   "source": [
    "***\n",
    "\n",
    "## Descriptive statistics "
   ]
  },
  {
   "cell_type": "markdown",
   "metadata": {},
   "source": [
    "### Number of public and private sector employees"
   ]
  },
  {
   "cell_type": "code",
   "execution_count": 3,
   "metadata": {
    "scrolled": false
   },
   "outputs": [
    {
     "data": {
      "text/html": [
       "<table class='gmisc_table' style='border-collapse: collapse; margin-top: 1em; margin-bottom: 1em;' >\n",
       "<thead>\n",
       "<tr>\n",
       "<th style='border-bottom: 1px solid grey; font-weight: 900; border-top: 2px solid grey; text-align: center;'></th>\n",
       "<th style='font-weight: 900; border-bottom: 1px solid grey; border-top: 2px solid grey; text-align: left;'></th>\n",
       "<th style='font-weight: 900; border-bottom: 1px solid grey; border-top: 2px solid grey; text-align: right;'>&nbsp;#Total&nbsp;</th>\n",
       "</tr>\n",
       "</thead>\n",
       "<tbody>\n",
       "<tr>\n",
       "<td style='text-align: left;'>&nbsp;Öffentlicher Sektor&nbsp;</td>\n",
       "<td style='text-align: left;'>&nbsp;0&nbsp;</td>\n",
       "<td style='text-align: right;'>106059</td>\n",
       "</tr>\n",
       "<tr>\n",
       "<td style='text-align: left;'></td>\n",
       "<td style='text-align: left;'>&nbsp;1&nbsp;</td>\n",
       "<td style='text-align: right;'>35916</td>\n",
       "</tr>\n",
       "<tr>\n",
       "<td style='border-bottom: 2px solid grey; text-align: left;'></td>\n",
       "<td style='border-bottom: 2px solid grey; text-align: left;'>&nbsp;#Total cases&nbsp;</td>\n",
       "<td style='border-bottom: 2px solid grey; text-align: right;'>141975</td>\n",
       "</tr>\n",
       "</tbody>\n",
       "</table>"
      ],
      "text/latex": [
       "A etable: 3 × 2\n",
       "\\begin{tabular}{ll}\n",
       " row\\_labels & \\#Total\\\\\n",
       " <chr> & <dbl>\\\\\n",
       "\\hline\n",
       "\t Öffentlicher Sektor\\textbar{}0            & 106059\\\\\n",
       "\t Öffentlicher Sektor\\textbar{}1            &  35916\\\\\n",
       "\t Öffentlicher Sektor\\textbar{}\\#Total cases & 141975\\\\\n",
       "\\end{tabular}\n"
      ],
      "text/markdown": [
       "\n",
       "A etable: 3 × 2\n",
       "\n",
       "| row_labels &lt;chr&gt; | #Total &lt;dbl&gt; |\n",
       "|---|---|\n",
       "| Öffentlicher Sektor|0            | 106059 |\n",
       "| Öffentlicher Sektor|1            |  35916 |\n",
       "| Öffentlicher Sektor|#Total cases | 141975 |\n",
       "\n"
      ],
      "text/plain": [
       "                                                \n",
       " |                     |              | #Total |\n",
       " | ------------------- | ------------ | ------ |\n",
       " | Öffentlicher Sektor |            0 | 106059 |\n",
       " |                     |            1 |  35916 |\n",
       " |                     | #Total cases | 141975 |"
      ]
     },
     "metadata": {},
     "output_type": "display_data"
    }
   ],
   "source": [
    "cro(public)"
   ]
  },
  {
   "cell_type": "markdown",
   "metadata": {},
   "source": [
    "### Differences in average characteristics between individuals in the treatment and control group"
   ]
  },
  {
   "cell_type": "code",
   "execution_count": 4,
   "metadata": {},
   "outputs": [
    {
     "name": "stdout",
     "output_type": "stream",
     "text": [
      "[1] \"Difference in means by treatment status\"\n"
     ]
    },
    {
     "data": {
      "text/html": [
       "<!-- html table generated in R 4.0.2 by xtable 1.8-4 package --><!-- Fri Nov 27 13:11:35 2020 --><table border=1><tr> <th>  </th> <th> E(X|D=0) </th> <th> E(X|D=1) </th> <th> Difference </th> <th> s.e. </th> <th> p-value </th>  </tr>  <tr> <td align=\"right\"> lnwage </td> <td align=\"right\"> 8.828 </td> <td align=\"right\"> 8.986 </td> <td align=\"right\"> 0.158 </td> <td align=\"right\"> 0.002 </td> <td align=\"right\"> 0.000 </td> </tr>  <tr> <td align=\"right\"> alter </td> <td align=\"right\"> 20.378 </td> <td align=\"right\"> 21.680 </td> <td align=\"right\"> 1.301 </td> <td align=\"right\"> 0.063 </td> <td align=\"right\"> 0.000 </td> </tr>  <tr> <td align=\"right\"> frau </td> <td align=\"right\"> 0.427 </td> <td align=\"right\"> 0.544 </td> <td align=\"right\"> 0.118 </td> <td align=\"right\"> 0.003 </td> <td align=\"right\"> 0.000 </td> </tr>  <tr> <td align=\"right\"> teilzeit </td> <td align=\"right\"> 0.287 </td> <td align=\"right\"> 0.502 </td> <td align=\"right\"> 0.215 </td> <td align=\"right\"> 0.003 </td> <td align=\"right\"> 0.000 </td> </tr>  <tr> <td align=\"right\"> befristet </td> <td align=\"right\"> 0.031 </td> <td align=\"right\"> 0.137 </td> <td align=\"right\"> 0.106 </td> <td align=\"right\"> 0.002 </td> <td align=\"right\"> 0.000 </td> </tr>  <tr> <td align=\"right\"> swiss </td> <td align=\"right\"> 0.659 </td> <td align=\"right\"> 0.819 </td> <td align=\"right\"> 0.160 </td> <td align=\"right\"> 0.002 </td> <td align=\"right\"> 0.000 </td> </tr>  <tr> <td align=\"right\"> married </td> <td align=\"right\"> 0.519 </td> <td align=\"right\"> 0.518 </td> <td align=\"right\"> -0.001 </td> <td align=\"right\"> 0.003 </td> <td align=\"right\"> 0.796 </td> </tr>  <tr> <td align=\"right\"> dienstjahre </td> <td align=\"right\"> 8.071 </td> <td align=\"right\"> 8.844 </td> <td align=\"right\"> 0.773 </td> <td align=\"right\"> 0.052 </td> <td align=\"right\"> 0.000 </td> </tr>   </table>"
      ],
      "text/latex": [
       "A xtable: 8 × 5\n",
       "\\begin{tabular}{r|lllll}\n",
       "  & E(X\\textbar{}D=0) & E(X\\textbar{}D=1) & Difference & s.e. & p-value\\\\\n",
       "  & <dbl> & <dbl> & <dbl> & <dbl> & <dbl>\\\\\n",
       "\\hline\n",
       "\tlnwage &  8.82776776 &  8.9861826 &  0.1584148029 & 0.002284601 & 0.000000e+00\\\\\n",
       "\talter & 20.37832716 & 21.6797249 &  1.3013977562 & 0.063313521 & 6.969444e-94\\\\\n",
       "\tfrau &  0.42660217 &  0.5441029 &  0.1175007325 & 0.003035278 & 0.000000e+00\\\\\n",
       "\tteilzeit &  0.28651034 &  0.5019768 &  0.2154664963 & 0.002981277 & 0.000000e+00\\\\\n",
       "\tbefristet &  0.03062446 &  0.1370698 &  0.1064453659 & 0.001890289 & 0.000000e+00\\\\\n",
       "\tswiss &  0.65873712 &  0.8190778 &  0.1603407303 & 0.002499119 & 0.000000e+00\\\\\n",
       "\tmarried &  0.51869243 &  0.5179029 & -0.0007895414 & 0.003050516 & 7.957724e-01\\\\\n",
       "\tdienstjahre &  8.07130937 &  8.8438579 &  0.7725485251 & 0.052166578 & 1.276338e-49\\\\\n",
       "\\end{tabular}\n"
      ],
      "text/markdown": [
       "\n",
       "A xtable: 8 × 5\n",
       "\n",
       "| <!--/--> | E(X|D=0) &lt;dbl&gt; | E(X|D=1) &lt;dbl&gt; | Difference &lt;dbl&gt; | s.e. &lt;dbl&gt; | p-value &lt;dbl&gt; |\n",
       "|---|---|---|---|---|---|\n",
       "| lnwage |  8.82776776 |  8.9861826 |  0.1584148029 | 0.002284601 | 0.000000e+00 |\n",
       "| alter | 20.37832716 | 21.6797249 |  1.3013977562 | 0.063313521 | 6.969444e-94 |\n",
       "| frau |  0.42660217 |  0.5441029 |  0.1175007325 | 0.003035278 | 0.000000e+00 |\n",
       "| teilzeit |  0.28651034 |  0.5019768 |  0.2154664963 | 0.002981277 | 0.000000e+00 |\n",
       "| befristet |  0.03062446 |  0.1370698 |  0.1064453659 | 0.001890289 | 0.000000e+00 |\n",
       "| swiss |  0.65873712 |  0.8190778 |  0.1603407303 | 0.002499119 | 0.000000e+00 |\n",
       "| married |  0.51869243 |  0.5179029 | -0.0007895414 | 0.003050516 | 7.957724e-01 |\n",
       "| dienstjahre |  8.07130937 |  8.8438579 |  0.7725485251 | 0.052166578 | 1.276338e-49 |\n",
       "\n"
      ],
      "text/plain": [
       "            E(X|D=0)    E(X|D=1)   Difference    s.e.        p-value     \n",
       "lnwage       8.82776776  8.9861826  0.1584148029 0.002284601 0.000000e+00\n",
       "alter       20.37832716 21.6797249  1.3013977562 0.063313521 6.969444e-94\n",
       "frau         0.42660217  0.5441029  0.1175007325 0.003035278 0.000000e+00\n",
       "teilzeit     0.28651034  0.5019768  0.2154664963 0.002981277 0.000000e+00\n",
       "befristet    0.03062446  0.1370698  0.1064453659 0.001890289 0.000000e+00\n",
       "swiss        0.65873712  0.8190778  0.1603407303 0.002499119 0.000000e+00\n",
       "married      0.51869243  0.5179029 -0.0007895414 0.003050516 7.957724e-01\n",
       "dienstjahre  8.07130937  8.8438579  0.7725485251 0.052166578 1.276338e-49"
      ]
     },
     "metadata": {},
     "output_type": "display_data"
    }
   ],
   "source": [
    "# Variables for table\n",
    "descriptives <- dplyr::select(data, lnwage, alter, frau, teilzeit, befristet, swiss, married, dienstjahre) \n",
    "descriptives_names  <- colnames(descriptives)\n",
    "\n",
    "\n",
    "# Function for table display\n",
    "repr_html.xtable <- function(obj, ...){\n",
    "    paste(capture.output(print(obj, type = 'html')), collapse=\"\", sep=\"\")\n",
    "}\n",
    "\n",
    "# Define a function estimating the differences in variables across D\n",
    "balance_check <- function(x){\n",
    "    \n",
    " \n",
    "    # Conditional means\n",
    "    mean_private <- mean(x[data$public==0], na.rm=TRUE)\n",
    "    mean_public <- mean(x[data$public==1], na.rm=TRUE)\n",
    "    \n",
    "    # Difference in means\n",
    "    diff <- lm(x ~ data$public)\n",
    "    cov <- vcovHC(diff, type = \"HC\")\n",
    "    robust.se <- sqrt(diag(cov))\n",
    "    \n",
    "    list(mean_private = mean_private, \n",
    "         mean_public = mean_public,\n",
    "         coeff = diff$coefficients[2], \n",
    "         robust.se = robust.se[2], \n",
    "         pval = 2*pnorm(-abs(diff$coefficients[2]/robust.se[2]))\n",
    "        )             \n",
    "}\n",
    "\n",
    "diff_output <- apply(descriptives, 2, balance_check)\n",
    "\n",
    "# convert list to table\n",
    "diff_output<-rbindlist(diff_output)\n",
    "rownames(diff_output)<- descriptives_names\n",
    "colnames(diff_output)<- c(\"E(X|D=0)\", \"E(X|D=1)\", \n",
    "                          \"Difference\", \"s.e.\", \n",
    "                          \"p-value\")\n",
    "\n",
    "# plot table\n",
    "print(\"Difference in means by treatment status\")\n",
    "xtable(diff_output, digits=3)"
   ]
  },
  {
   "cell_type": "markdown",
   "metadata": {},
   "source": [
    "### Distribution of wages across groups\n",
    "**1. Density Plot**"
   ]
  },
  {
   "cell_type": "code",
   "execution_count": 5,
   "metadata": {},
   "outputs": [
    {
     "data": {
      "image/png": "[encoded data removed]",
      "text/plain": [
       "plot without title"
      ]
     },
     "metadata": {
      "image/png": {
       "height": 420,
       "width": 420
      }
     },
     "output_type": "display_data"
    }
   ],
   "source": [
    "# Factor public variable for plots\n",
    "data$public_factor <- factor(data$public, \n",
    "levels = c(0,1), label = c(\"Private\", \"Public\")) \n",
    "\n",
    "\n",
    "density_public_private <- ggplot(data, \n",
    "    aes(x=lnwage, \n",
    "    group=public_factor, \n",
    "    color=public_factor, \n",
    "    fill=public_factor)) +\n",
    "    geom_density(alpha=0.2) +\n",
    "    scale_color_manual(values=c(\"red\", \"blue\")) +\n",
    "    scale_fill_manual(values=c(\"red\", \"blue\")) +\n",
    "    theme_bw(base_size = 20) \n",
    "density_public_private"
   ]
  },
  {
   "cell_type": "markdown",
   "metadata": {},
   "source": [
    "**2. Cumulative Distribution**"
   ]
  },
  {
   "cell_type": "code",
   "execution_count": 6,
   "metadata": {},
   "outputs": [
    {
     "data": {
      "image/png": "[encoded data removed]",
      "text/plain": [
       "plot without title"
      ]
     },
     "metadata": {
      "image/png": {
       "height": 420,
       "width": 420
      }
     },
     "output_type": "display_data"
    }
   ],
   "source": [
    "cdf_public_private <- ggplot(data, aes(lnwage, colour = public_factor)) + \n",
    "                        stat_ecdf() + \n",
    "                        ylab(\"Cumulative probability\") +\n",
    "                        xlab(\"Log(wage)\") +\n",
    "                        geom_hline(yintercept=0.5, color = \"green\") +\n",
    "                        scale_color_manual(values=c(\"red\", \"blue\")) +\n",
    "                        scale_fill_manual(values=c(\"red\", \"blue\")) +\n",
    "                        theme_bw(base_size = 20) \n",
    "\n",
    "cdf_public_private"
   ]
  },
  {
   "cell_type": "markdown",
   "metadata": {},
   "source": [
    "**3. Quantiles of wages**"
   ]
  },
  {
   "cell_type": "code",
   "execution_count": 7,
   "metadata": {
    "scrolled": true
   },
   "outputs": [
    {
     "name": "stdout",
     "output_type": "stream",
     "text": [
      "[1] \"Quantiles of log wage all\"\n"
     ]
    },
    {
     "data": {
      "text/html": [
       "<style>\n",
       ".dl-inline {width: auto; margin:0; padding: 0}\n",
       ".dl-inline>dt, .dl-inline>dd {float: none; width: auto; display: inline-block}\n",
       ".dl-inline>dt::after {content: \":\\0020\"; padding-right: .5ex}\n",
       ".dl-inline>dt:not(:first-of-type) {padding-left: .5ex}\n",
       "</style><dl class=dl-inline><dt>0%</dt><dd>5.70711040496826</dd><dt>20%</dt><dd>8.52690563201904</dd><dt>40%</dt><dd>8.73953628540039</dd><dt>60%</dt><dd>8.92797756195068</dd><dt>80%</dt><dd>9.18420124053955</dd><dt>100%</dt><dd>13.8139095306396</dd></dl>\n"
      ],
      "text/latex": [
       "\\begin{description*}\n",
       "\\item[0\\textbackslash{}\\%] 5.70711040496826\n",
       "\\item[20\\textbackslash{}\\%] 8.52690563201904\n",
       "\\item[40\\textbackslash{}\\%] 8.73953628540039\n",
       "\\item[60\\textbackslash{}\\%] 8.92797756195068\n",
       "\\item[80\\textbackslash{}\\%] 9.18420124053955\n",
       "\\item[100\\textbackslash{}\\%] 13.8139095306396\n",
       "\\end{description*}\n"
      ],
      "text/markdown": [
       "0%\n",
       ":   5.7071104049682620%\n",
       ":   8.5269056320190440%\n",
       ":   8.7395362854003960%\n",
       ":   8.9279775619506880%\n",
       ":   9.18420124053955100%\n",
       ":   13.8139095306396\n",
       "\n"
      ],
      "text/plain": [
       "       0%       20%       40%       60%       80%      100% \n",
       " 5.707110  8.526906  8.739536  8.927978  9.184201 13.813910 "
      ]
     },
     "metadata": {},
     "output_type": "display_data"
    },
    {
     "name": "stdout",
     "output_type": "stream",
     "text": [
      "[1] \"Quantiles of log wage public sector\"\n"
     ]
    },
    {
     "data": {
      "text/html": [
       "<style>\n",
       ".dl-inline {width: auto; margin:0; padding: 0}\n",
       ".dl-inline>dt, .dl-inline>dd {float: none; width: auto; display: inline-block}\n",
       ".dl-inline>dt::after {content: \":\\0020\"; padding-right: .5ex}\n",
       ".dl-inline>dt:not(:first-of-type) {padding-left: .5ex}\n",
       "</style><dl class=dl-inline><dt>0%</dt><dd>5.77765226364136</dd><dt>20%</dt><dd>8.7229061126709</dd><dt>40%</dt><dd>8.89425849914551</dd><dt>60%</dt><dd>9.05157947540283</dd><dt>80%</dt><dd>9.26350212097168</dd><dt>100%</dt><dd>11.8918209075928</dd></dl>\n"
      ],
      "text/latex": [
       "\\begin{description*}\n",
       "\\item[0\\textbackslash{}\\%] 5.77765226364136\n",
       "\\item[20\\textbackslash{}\\%] 8.7229061126709\n",
       "\\item[40\\textbackslash{}\\%] 8.89425849914551\n",
       "\\item[60\\textbackslash{}\\%] 9.05157947540283\n",
       "\\item[80\\textbackslash{}\\%] 9.26350212097168\n",
       "\\item[100\\textbackslash{}\\%] 11.8918209075928\n",
       "\\end{description*}\n"
      ],
      "text/markdown": [
       "0%\n",
       ":   5.7776522636413620%\n",
       ":   8.722906112670940%\n",
       ":   8.8942584991455160%\n",
       ":   9.0515794754028380%\n",
       ":   9.26350212097168100%\n",
       ":   11.8918209075928\n",
       "\n"
      ],
      "text/plain": [
       "       0%       20%       40%       60%       80%      100% \n",
       " 5.777652  8.722906  8.894258  9.051579  9.263502 11.891821 "
      ]
     },
     "metadata": {},
     "output_type": "display_data"
    },
    {
     "name": "stdout",
     "output_type": "stream",
     "text": [
      "[1] \"Quantiles of log wage private sector\"\n"
     ]
    },
    {
     "data": {
      "text/html": [
       "<style>\n",
       ".dl-inline {width: auto; margin:0; padding: 0}\n",
       ".dl-inline>dt, .dl-inline>dd {float: none; width: auto; display: inline-block}\n",
       ".dl-inline>dt::after {content: \":\\0020\"; padding-right: .5ex}\n",
       ".dl-inline>dt:not(:first-of-type) {padding-left: .5ex}\n",
       "</style><dl class=dl-inline><dt>0%</dt><dd>5.70711040496826</dd><dt>20%</dt><dd>8.48342990875244</dd><dt>40%</dt><dd>8.68423175811768</dd><dt>60%</dt><dd>8.8716459274292</dd><dt>80%</dt><dd>9.14114017486572</dd><dt>100%</dt><dd>13.8139095306396</dd></dl>\n"
      ],
      "text/latex": [
       "\\begin{description*}\n",
       "\\item[0\\textbackslash{}\\%] 5.70711040496826\n",
       "\\item[20\\textbackslash{}\\%] 8.48342990875244\n",
       "\\item[40\\textbackslash{}\\%] 8.68423175811768\n",
       "\\item[60\\textbackslash{}\\%] 8.8716459274292\n",
       "\\item[80\\textbackslash{}\\%] 9.14114017486572\n",
       "\\item[100\\textbackslash{}\\%] 13.8139095306396\n",
       "\\end{description*}\n"
      ],
      "text/markdown": [
       "0%\n",
       ":   5.7071104049682620%\n",
       ":   8.4834299087524440%\n",
       ":   8.6842317581176860%\n",
       ":   8.871645927429280%\n",
       ":   9.14114017486572100%\n",
       ":   13.8139095306396\n",
       "\n"
      ],
      "text/plain": [
       "       0%       20%       40%       60%       80%      100% \n",
       " 5.707110  8.483430  8.684232  8.871646  9.141140 13.813910 "
      ]
     },
     "metadata": {},
     "output_type": "display_data"
    }
   ],
   "source": [
    "quantiles_all <- quantile(lnwage, \n",
    "                          probs = seq(0, 1, 0.2), \n",
    "                          na.rm = FALSE,\n",
    "                          names = TRUE,\n",
    "                          type = 7)\n",
    "\n",
    "quantiles_public <- quantile(lnwage[public==1], \n",
    "                             probs = seq(0, 1, 0.2), \n",
    "                             na.rm = FALSE,\n",
    "                             names = TRUE,\n",
    "                             type = 7)\n",
    "\n",
    "quantiles_private <- quantile(lnwage[public==0], \n",
    "                              probs = seq(0, 1, 0.2), \n",
    "                              na.rm = FALSE,\n",
    "                              names = TRUE, \n",
    "                              type = 7)\n",
    "\n",
    "print(\"Quantiles of log wage all\")\n",
    "quantiles_all\n",
    "\n",
    "print(\"Quantiles of log wage public sector\")\n",
    "quantiles_public\n",
    "\n",
    "print(\"Quantiles of log wage private sector\")\n",
    "quantiles_private"
   ]
  },
  {
   "cell_type": "markdown",
   "metadata": {},
   "source": [
    "**4. Quantile Functions**"
   ]
  },
  {
   "cell_type": "code",
   "execution_count": 8,
   "metadata": {
    "scrolled": true
   },
   "outputs": [
    {
     "data": {
      "image/png": "[encoded data removed]",
      "text/plain": [
       "plot without title"
      ]
     },
     "metadata": {
      "image/png": {
       "height": 420,
       "width": 420
      }
     },
     "output_type": "display_data"
    }
   ],
   "source": [
    "# Public\n",
    "lnwage_sorted <- sort(lnwage[public==1]) \n",
    "length <- length(lnwage_sorted)\n",
    "i <- 1:length\n",
    "perc <- (i - 1)/(length - 1) # Formula to compute the percentile of an observation\n",
    "data_plot_public <- data.frame(lnwage_sorted, perc)\n",
    "data_plot_public$public <- 1\n",
    "\n",
    "# Private\n",
    "lnwage_sorted <- sort(lnwage[public==0]) \n",
    "length <- length(lnwage_sorted)\n",
    "i <- 1:length\n",
    "perc <- (i - 1)/(length - 1) \n",
    "data_plot_private <- data.frame(lnwage_sorted, perc)\n",
    "data_plot_private$public <- 0\n",
    "\n",
    "\n",
    "data_plot <- rbind(data_plot_public, data_plot_private)\n",
    "data_plot$public_factor <- factor(data_plot$public, \n",
    "                        levels = c(0,1), label = c(\"Private\", \"Public\")) \n",
    "\n",
    "# Plot\n",
    "qplot_public_private <- ggplot(data_plot, aes(x = perc, y = lnwage_sorted, \n",
    "                        group=public_factor, color=public_factor)) +\n",
    "                        geom_line() + \n",
    "                        geom_vline(xintercept=0.5, color = \"green\") +\n",
    "                        ylab(\"Sample quantile of ln(wage)\") +\n",
    "                        xlab(\"Sample fraction\") +\n",
    "                        scale_color_manual(values=c(\"red\", \"blue\")) + \n",
    "                        theme_bw(base_size = 20) \n",
    "\n",
    "qplot_public_private"
   ]
  },
  {
   "cell_type": "markdown",
   "metadata": {},
   "source": [
    "***\n",
    "\n",
    "## Estimation\n",
    "\n",
    "We estimate the effects of public sector employment on wages first via OLS, then using quantile regressions. \n",
    "\n",
    "We start by showing unconditional estimations for illustrative purpuses of the method even though there is no reason to believe that public sector employment is random in this context.\n",
    "\n",
    "Thus, in a second step, we additionally include control variables and estimate conditional ATE and QTE.\n",
    "\n",
    "### Unconditional OLS\n",
    "\n",
    "The unconditional mean solves:\n",
    "$$\\mu=\\arg\\min_m E[(Y-m)^2]$$"
   ]
  },
  {
   "cell_type": "code",
   "execution_count": 9,
   "metadata": {},
   "outputs": [
    {
     "data": {
      "text/plain": [
       "\u001b[4mMODEL INFO:\u001b[24m\n",
       "\u001b[3mObservations:\u001b[23m 141975\n",
       "\u001b[3mDependent Variable:\u001b[23m lnwage\n",
       "\u001b[3mType:\u001b[23m OLS linear regression \n",
       "\n",
       "\u001b[4mMODEL FIT:\u001b[24m\n",
       "\u001b[3mF\u001b[23m(1,141973) = 3988.87, \u001b[3mp\u001b[23m = 0.00\n",
       "\u001b[3mR² = \u001b[23m0.03\n",
       "\u001b[3mAdj. R² = \u001b[23m0.03 \n",
       "\n",
       "\u001b[3mStandard errors:\u001b[23m Robust, \u001b[3mtype = \u001b[23mHC1\n",
       "------------------------------------------------\n",
       "                    Est.   S.E.    t val.      p\n",
       "----------------- ------ ------ --------- ------\n",
       "(Intercept)         8.83   0.00   6710.89   0.00\n",
       "public              0.16   0.00     69.34   0.00\n",
       "------------------------------------------------"
      ]
     },
     "metadata": {},
     "output_type": "display_data"
    }
   ],
   "source": [
    "ols1 <- lm(lnwage ~ public)\n",
    "out.ols1 <-summ(ols1, , robust = \"HC1\")\n",
    "out.ols1"
   ]
  },
  {
   "cell_type": "markdown",
   "metadata": {},
   "source": [
    "\n",
    "### Conditional OLS\n",
    "\n",
    "Conditional OLS solves:\n",
    "$$\\beta=\\arg\\min_b E[(Y-X'b)^2]$$"
   ]
  },
  {
   "cell_type": "code",
   "execution_count": 21,
   "metadata": {},
   "outputs": [
    {
     "data": {
      "text/plain": [
       "\u001b[4mMODEL INFO:\u001b[24m\n",
       "\u001b[3mObservations:\u001b[23m 141975\n",
       "\u001b[3mDependent Variable:\u001b[23m lnwage\n",
       "\u001b[3mType:\u001b[23m OLS linear regression \n",
       "\n",
       "\u001b[4mMODEL FIT:\u001b[24m\n",
       "\u001b[3mF\u001b[23m(7,141967) = 4480.18, \u001b[3mp\u001b[23m = 0.00\n",
       "\u001b[3mR² = \u001b[23m0.18\n",
       "\u001b[3mAdj. R² = \u001b[23m0.18 \n",
       "\n",
       "\u001b[3mStandard errors:\u001b[23m Robust, \u001b[3mtype = \u001b[23mHC1\n",
       "-----------------------------------------------------------\n",
       "                               Est.   S.E.    t val.      p\n",
       "--------------------------- ------- ------ --------- ------\n",
       "(Intercept)                    8.62   0.00   3226.13   0.00\n",
       "public                         0.16   0.00     77.65   0.00\n",
       "covariatesalter                0.01   0.00     86.29   0.00\n",
       "covariatesfrau                -0.15   0.00    -65.87   0.00\n",
       "covariatesteilzeit            -0.06   0.00    -26.27   0.00\n",
       "covariatesswiss                0.07   0.00     29.29   0.00\n",
       "covariatesmarried              0.04   0.00     19.93   0.00\n",
       "covariatesdienstjahre          0.00   0.00     14.85   0.00\n",
       "-----------------------------------------------------------"
      ]
     },
     "metadata": {},
     "output_type": "display_data"
    }
   ],
   "source": [
    "# Selected covariates\n",
    "covariates <- dplyr::select(data, alter, frau, teilzeit, swiss, married, dienstjahre) \n",
    "covariates_names  <- colnames(covariates)\n",
    "covariates <- as.matrix(covariates) # make sure covariates are a matrix \n",
    "\n",
    "\n",
    "ols2 <- lm(lnwage ~ public + covariates)\n",
    "out.ols2 <-summ(ols2, , robust = \"HC1\")\n",
    "out.ols2"
   ]
  },
  {
   "cell_type": "markdown",
   "metadata": {},
   "source": [
    "### Unconditional median regression\n",
    "\n",
    "The $\\tau$ unconditional quantile solves:\n",
    "$$Q_Y(\\tau)=\\arg\\min_q E[\\rho_{\\tau}(Y-q)]$$\n",
    "\n",
    "at the median\n",
    "\n",
    "$$Q_Y(0.5)=\\arg\\min_q E[\\rho_{0.5}(Y-q)]$$"
   ]
  },
  {
   "cell_type": "code",
   "execution_count": 11,
   "metadata": {
    "scrolled": false
   },
   "outputs": [
    {
     "name": "stderr",
     "output_type": "stream",
     "text": [
      "Warning message in rq.fit.br(x, y, tau = tau, ...):\n",
      "\"Solution may be nonunique\"\n"
     ]
    },
    {
     "data": {
      "text/plain": [
       "\n",
       "Call: rq(formula = lnwage ~ public, tau = 0.5, data = data, method = \"br\", \n",
       "    model = TRUE)\n",
       "\n",
       "tau: [1] 0.5\n",
       "\n",
       "Coefficients:\n",
       "            Value      Std. Error t value    Pr(>|t|)  \n",
       "(Intercept)    8.77509    0.00147 5984.36902    0.00000\n",
       "public         0.19382    0.00252   76.96003    0.00000"
      ]
     },
     "metadata": {},
     "output_type": "display_data"
    },
    {
     "name": "stdout",
     "output_type": "stream",
     "text": [
      "[1] \"Median public sector\"\n"
     ]
    },
    {
     "data": {
      "text/html": [
       "<strong>50%:</strong> 8.96890544891357"
      ],
      "text/latex": [
       "\\textbf{50\\textbackslash{}\\%:} 8.96890544891357"
      ],
      "text/markdown": [
       "**50%:** 8.96890544891357"
      ],
      "text/plain": [
       "     50% \n",
       "8.968905 "
      ]
     },
     "metadata": {},
     "output_type": "display_data"
    },
    {
     "name": "stdout",
     "output_type": "stream",
     "text": [
      "[1] \"Median private sector\"\n"
     ]
    },
    {
     "data": {
      "text/html": [
       "<strong>50%:</strong> 8.77508640289307"
      ],
      "text/latex": [
       "\\textbf{50\\textbackslash{}\\%:} 8.77508640289307"
      ],
      "text/markdown": [
       "**50%:** 8.77508640289307"
      ],
      "text/plain": [
       "     50% \n",
       "8.775086 "
      ]
     },
     "metadata": {},
     "output_type": "display_data"
    }
   ],
   "source": [
    "rq1 <- rq(lnwage ~ public, \n",
    "          tau=.5, \n",
    "          data=data, \n",
    "          method=\"br\", \n",
    "          model = TRUE) \n",
    "out.rq1 <- summary(rq1)\n",
    "out.rq1\n",
    "\n",
    "median_public <- quantile(lnwage[public==1], .5)\n",
    "print(\"Median public sector\")\n",
    "median_public\n",
    "median_private <- quantile(lnwage[public==0], .5)\n",
    "print(\"Median private sector\")\n",
    "median_private"
   ]
  },
  {
   "cell_type": "markdown",
   "metadata": {},
   "source": [
    "### Conditional quantile regression\n",
    "\n",
    "The $\\tau$ quantile regression solves:\n",
    "$$\\beta(\\tau)=\\arg\\min_b E[\\rho_{\\tau}(Y-X'b)]$$\n",
    "where\n",
    "$$\\rho_{\\tau}(Y-X'b)=\\{\\tau-\\underline{1}[(Y-X'b)\\le 0]\\}\\cdot (Y-X'b)$$"
   ]
  },
  {
   "cell_type": "code",
   "execution_count": 12,
   "metadata": {},
   "outputs": [
    {
     "data": {
      "text/plain": [
       "\n",
       "Call: rq(formula = lnwage ~ public + covariates, tau = 0.5, data = data, \n",
       "    method = \"br\", model = TRUE)\n",
       "\n",
       "tau: [1] 0.5\n",
       "\n",
       "Coefficients:\n",
       "                      Value      Std. Error t value    Pr(>|t|)  \n",
       "(Intercept)              8.54608    0.00304 2814.35915    0.00000\n",
       "public                   0.20336    0.00220   92.23498    0.00000\n",
       "covariatesalter          0.00990    0.00013   74.45242    0.00000\n",
       "covariatesfrau          -0.13619    0.00228  -59.61933    0.00000\n",
       "covariatesteilzeit      -0.03583    0.00238  -15.07396    0.00000\n",
       "covariatesswiss          0.09821    0.00269   36.56745    0.00000\n",
       "covariatesmarried        0.02798    0.00232   12.06784    0.00000\n",
       "covariatesdienstjahre    0.00210    0.00015   13.57275    0.00000"
      ]
     },
     "metadata": {},
     "output_type": "display_data"
    }
   ],
   "source": [
    "# Conditional quantile for the median\n",
    "# ----------------------------------------------------\n",
    "\n",
    "rq2 <- rq(lnwage ~ public + covariates, \n",
    "            tau=.5, \n",
    "            data=data, \n",
    "            method=\"br\", \n",
    "            model = TRUE) \n",
    "out.rq2 <- summary(rq2)\n",
    "out.rq2"
   ]
  },
  {
   "cell_type": "code",
   "execution_count": 13,
   "metadata": {
    "scrolled": true
   },
   "outputs": [
    {
     "data": {
      "text/plain": [
       "\n",
       "Call: rq(formula = lnwage ~ public + covariates, tau = quants, data = data, \n",
       "    method = \"br\", model = TRUE)\n",
       "\n",
       "tau: [1] 0.1\n",
       "\n",
       "Coefficients:\n",
       "                      Value      Std. Error t value    Pr(>|t|)  \n",
       "(Intercept)              8.26314    0.00314 2634.45015    0.00000\n",
       "public                   0.19927    0.00265   75.16281    0.00000\n",
       "covariatesalter          0.00402    0.00013   30.49633    0.00000\n",
       "covariatesfrau          -0.14300    0.00245  -58.40122    0.00000\n",
       "covariatesteilzeit      -0.03628    0.00265  -13.70097    0.00000\n",
       "covariatesswiss          0.12223    0.00260   47.05544    0.00000\n",
       "covariatesmarried        0.01922    0.00236    8.12764    0.00000\n",
       "covariatesdienstjahre    0.00592    0.00015   39.50371    0.00000\n",
       "\n",
       "Call: rq(formula = lnwage ~ public + covariates, tau = quants, data = data, \n",
       "    method = \"br\", model = TRUE)\n",
       "\n",
       "tau: [1] 0.3\n",
       "\n",
       "Coefficients:\n",
       "                      Value      Std. Error t value    Pr(>|t|)  \n",
       "(Intercept)              8.42630    0.00260 3235.82669    0.00000\n",
       "public                   0.21757    0.00224   97.03323    0.00000\n",
       "covariatesalter          0.00684    0.00012   56.56744    0.00000\n",
       "covariatesfrau          -0.14129    0.00220  -64.15949    0.00000\n",
       "covariatesteilzeit      -0.03089    0.00235  -13.12579    0.00000\n",
       "covariatesswiss          0.10717    0.00223   48.07432    0.00000\n",
       "covariatesmarried        0.01522    0.00214    7.10275    0.00000\n",
       "covariatesdienstjahre    0.00421    0.00014   29.51161    0.00000\n",
       "\n",
       "Call: rq(formula = lnwage ~ public + covariates, tau = quants, data = data, \n",
       "    method = \"br\", model = TRUE)\n",
       "\n",
       "tau: [1] 0.5\n",
       "\n",
       "Coefficients:\n",
       "                      Value      Std. Error t value    Pr(>|t|)  \n",
       "(Intercept)              8.54608    0.00304 2814.35915    0.00000\n",
       "public                   0.20336    0.00220   92.23498    0.00000\n",
       "covariatesalter          0.00990    0.00013   74.45242    0.00000\n",
       "covariatesfrau          -0.13619    0.00228  -59.61933    0.00000\n",
       "covariatesteilzeit      -0.03583    0.00238  -15.07396    0.00000\n",
       "covariatesswiss          0.09821    0.00269   36.56745    0.00000\n",
       "covariatesmarried        0.02798    0.00232   12.06784    0.00000\n",
       "covariatesdienstjahre    0.00210    0.00015   13.57275    0.00000\n",
       "\n",
       "Call: rq(formula = lnwage ~ public + covariates, tau = quants, data = data, \n",
       "    method = \"br\", model = TRUE)\n",
       "\n",
       "tau: [1] 0.7\n",
       "\n",
       "Coefficients:\n",
       "                      Value      Std. Error t value    Pr(>|t|)  \n",
       "(Intercept)              8.71773    0.00364 2397.93852    0.00000\n",
       "public                   0.15354    0.00239   64.24744    0.00000\n",
       "covariatesalter          0.01415    0.00015   94.24286    0.00000\n",
       "covariatesfrau          -0.13801    0.00256  -53.85191    0.00000\n",
       "covariatesteilzeit      -0.05763    0.00262  -21.99616    0.00000\n",
       "covariatesswiss          0.04638    0.00326   14.23033    0.00000\n",
       "covariatesmarried        0.05212    0.00269   19.38705    0.00000\n",
       "covariatesdienstjahre   -0.00062    0.00018   -3.40315    0.00067\n",
       "\n",
       "Call: rq(formula = lnwage ~ public + covariates, tau = quants, data = data, \n",
       "    method = \"br\", model = TRUE)\n",
       "\n",
       "tau: [1] 0.9\n",
       "\n",
       "Coefficients:\n",
       "                      Value      Std. Error t value    Pr(>|t|)  \n",
       "(Intercept)              8.98580    0.00529 1699.86758    0.00000\n",
       "public                   0.06179    0.00360   17.16253    0.00000\n",
       "covariatesalter          0.02005    0.00022   90.67093    0.00000\n",
       "covariatesfrau          -0.12798    0.00382  -33.50776    0.00000\n",
       "covariatesteilzeit      -0.10140    0.00394  -25.71692    0.00000\n",
       "covariatesswiss         -0.02916    0.00477   -6.11739    0.00000\n",
       "covariatesmarried        0.09090    0.00403   22.53555    0.00000\n",
       "covariatesdienstjahre   -0.00276    0.00029   -9.40029    0.00000"
      ]
     },
     "metadata": {},
     "output_type": "display_data"
    }
   ],
   "source": [
    "# Conditional quantile regression, across different quantiles\n",
    "\n",
    "# Vector of quantiles to be estimated has to be strictly within (0,1) interval \n",
    "quants <- as.matrix(seq(0.1, 0.9, by=0.2)) \n",
    "\n",
    "rq3 <- rq(lnwage ~ public + covariates, \n",
    "            tau=quants, \n",
    "            data=data, \n",
    "            method=\"br\", \n",
    "            model = TRUE) \n",
    "out.rq3 <- summary(rq3)\n",
    "out.rq3"
   ]
  },
  {
   "cell_type": "markdown",
   "metadata": {},
   "source": [
    "### Presenting QR results\n",
    "\n",
    "**Recipe:**\n",
    "\n",
    "* Plot graphs of the coefficient estimates with confidence bounds: y-axis:  covariate effects $β(τ)$; x-axis: quantile of $Y$.\n",
    "\n",
    "\n",
    "* Show the corresponding OLS coefficient (ATE) estimate and confidence intervals on the graph.\n",
    "\n",
    "\n",
    "* Interpret the meaning of the effects:\n",
    "    * Impact of a on unit change of the covariate/treatment on wages (in percent) holding the other covariates fixed.\n",
    "\n",
    "\n",
    "* Interpret the meaning of the pattern (location, location/scale argumentation)\n",
    "    * The impact of $X$ is the same across quantiles and is non-zero on average (ATE): location shift of the distribution of $Y$\n",
    "    * The impact of $X$ differs across quantiles but is zero on average: scale shift of the distribution of $Y$\n",
    "    * The impact of $X$ differs across quantiles and is non-zero on average: location and scale shift of the distribution of $Y$\n",
    "\n",
    "\n",
    "* Intercepts vs. centercepts - center covariates to interpret intercepts for a representative case\n"
   ]
  },
  {
   "cell_type": "markdown",
   "metadata": {},
   "source": [
    "### Plot conditional quantile effects"
   ]
  },
  {
   "cell_type": "code",
   "execution_count": 14,
   "metadata": {},
   "outputs": [
    {
     "data": {
      "image/png": "[encoded data removed]",
      "text/plain": [
       "Plot with title \"covariatesdienstjahre\""
      ]
     },
     "metadata": {
      "image/png": {
       "height": 420,
       "width": 420
      }
     },
     "output_type": "display_data"
    }
   ],
   "source": [
    "# Plot quantile effects\n",
    "plot(out.rq3)"
   ]
  },
  {
   "cell_type": "markdown",
   "metadata": {},
   "source": [
    "## Unconditional QTE \n",
    "\n",
    "\n",
    "* Estimate the unconditional QTE based on the estimation and inference methods for counterfactual analysis described in Chernozhukov, Fernandez-Val and Melly (2013)\n",
    "\n",
    "* apply the `Counterfactual` package"
   ]
  },
  {
   "cell_type": "code",
   "execution_count": 22,
   "metadata": {},
   "outputs": [
    {
     "name": "stderr",
     "output_type": "stream",
     "text": [
      "Warning message in rq.fit.br(wx, wy, tau = tau, ...):\n",
      "\"Solution may be nonunique\"\n",
      "Warning message in rq.fit.br(wx, wy, tau = tau, ...):\n",
      "\"Solution may be nonunique\"\n",
      "Warning message in rq.fit.br(wx, wy, tau = tau, ...):\n",
      "\"Solution may be nonunique\"\n",
      "Warning message in rq.fit.br(wx, wy, tau = tau, ...):\n",
      "\"Solution may be nonunique\"\n",
      "Warning message in rq.fit.br(wx, wy, tau = tau, ...):\n",
      "\"Solution may be nonunique\"\n",
      "Warning message in rq.fit.br(wx, wy, tau = tau, ...):\n",
      "\"Solution may be nonunique\"\n",
      "Warning message in rq.fit.br(wx, wy, tau = tau, ...):\n",
      "\"Solution may be nonunique\"\n",
      "Warning message in rq.fit.br(wx, wy, tau = tau, ...):\n",
      "\"Solution may be nonunique\"\n",
      "Warning message in rq.fit.br(wx, wy, tau = tau, ...):\n",
      "\"Solution may be nonunique\"\n",
      "Warning message in rq.fit.br(wx, wy, tau = tau, ...):\n",
      "\"Solution may be nonunique\"\n",
      "Warning message in rq.fit.br(wx, wy, tau = tau, ...):\n",
      "\"Solution may be nonunique\"\n",
      "Warning message in rq.fit.br(wx, wy, tau = tau, ...):\n",
      "\"Solution may be nonunique\"\n",
      "Warning message in rq.fit.br(wx, wy, tau = tau, ...):\n",
      "\"Solution may be nonunique\"\n"
     ]
    },
    {
     "name": "stdout",
     "output_type": "stream",
     "text": [
      "cores used= 2 \n",
      "                                  \n",
      "Conditional Model:                      linear quantile regression\n",
      "Number of regressions estimated:         100 \n",
      "\n",
      "The variance has been estimated by bootstraping the results 49 times.\n",
      "\n",
      "No. of obs. in the reference group:      748 \n",
      "No. of obs. in the counterfactual group: 252 \n",
      "\n",
      "\n",
      "                    Quantile Effects -- Structure                      \n",
      "---------------------------------------------------------------------- \n",
      "                     Pointwise      Pointwise           Functional     \n",
      " Quantile     Est.    Std.Err   95% Conf.Interval   95% Conf.Interval  \n",
      "    0.01     0.193    0.0379     0.119     0.267     0.102     0.285\n",
      "    0.02     0.193    0.0353     0.124     0.263     0.108     0.279\n",
      "    0.03     0.194    0.0332     0.128     0.259     0.113     0.274\n",
      "    0.04     0.194    0.0319     0.131     0.256     0.117     0.271\n",
      "    0.05     0.195    0.0317     0.133     0.258     0.119     0.272\n",
      "    0.06     0.197    0.0317     0.135      0.26     0.121     0.274\n",
      "    0.07     0.199    0.0319     0.137     0.262     0.122     0.276\n",
      "    0.08     0.201    0.0322     0.138     0.264     0.123     0.279\n",
      "    0.09     0.203     0.032      0.14     0.266     0.126      0.28\n",
      "     0.1     0.205    0.0317     0.142     0.267     0.128     0.281\n",
      "    0.11     0.206    0.0315     0.144     0.268      0.13     0.282\n",
      "    0.12     0.208    0.0314     0.146      0.27     0.132     0.284\n",
      "    0.13      0.21     0.031     0.149      0.27     0.135     0.284\n",
      "    0.14     0.211    0.0305     0.151     0.271     0.138     0.285\n",
      "    0.15     0.213    0.0301     0.154     0.272      0.14     0.285\n",
      "    0.16     0.215    0.0297     0.156     0.273     0.143     0.286\n",
      "    0.17     0.215    0.0293     0.158     0.273     0.144     0.286\n",
      "    0.18     0.215    0.0289     0.158     0.271     0.145     0.284\n",
      "    0.19     0.214    0.0285     0.158      0.27     0.145     0.283\n",
      "     0.2     0.213    0.0281     0.158     0.268     0.145     0.281\n",
      "    0.21     0.212    0.0277     0.158     0.267     0.145     0.279\n",
      "    0.22      0.21    0.0272     0.157     0.264     0.145     0.276\n",
      "    0.23     0.209    0.0266     0.156     0.261     0.144     0.273\n",
      "    0.24     0.207    0.0262     0.155     0.258     0.144      0.27\n",
      "    0.25     0.205    0.0258     0.154     0.255     0.143     0.267\n",
      "    0.26     0.204    0.0256     0.154     0.254     0.142     0.266\n",
      "    0.27     0.203    0.0255     0.153     0.253     0.141     0.264\n",
      "    0.28     0.202    0.0254     0.152     0.251      0.14     0.263\n",
      "    0.29       0.2    0.0253     0.151      0.25     0.139     0.262\n",
      "     0.3     0.199     0.025      0.15     0.248     0.138     0.259\n",
      "    0.31     0.197    0.0248     0.148     0.245     0.137     0.257\n",
      "    0.32     0.195    0.0245     0.147     0.243     0.136     0.254\n",
      "    0.33     0.193    0.0244     0.146     0.241     0.135     0.252\n",
      "    0.34     0.191    0.0241     0.143     0.238     0.133     0.249\n",
      "    0.35     0.188    0.0238     0.141     0.234      0.13     0.245\n",
      "    0.36     0.185    0.0236     0.139     0.231     0.128     0.242\n",
      "    0.37     0.182    0.0234     0.136     0.228     0.126     0.239\n",
      "    0.38      0.18    0.0234     0.134     0.226     0.124     0.237\n",
      "    0.39     0.179    0.0234     0.133     0.225     0.122     0.235\n",
      "     0.4     0.177    0.0235     0.131     0.223      0.12     0.234\n",
      "    0.41     0.175    0.0237     0.129     0.222     0.118     0.233\n",
      "    0.42     0.173    0.0238     0.127      0.22     0.116     0.231\n",
      "    0.43     0.171    0.0241     0.124     0.218     0.113     0.229\n",
      "    0.44     0.169    0.0243     0.121     0.217      0.11     0.228\n",
      "    0.45     0.167    0.0246     0.119     0.215     0.107     0.226\n",
      "    0.46     0.165    0.0247     0.116     0.213     0.105     0.224\n",
      "    0.47     0.163    0.0246     0.115     0.211     0.104     0.222\n",
      "    0.48     0.161    0.0245     0.113     0.209     0.102      0.22\n",
      "    0.49     0.159    0.0244     0.111     0.207       0.1     0.218\n",
      "     0.5     0.157    0.0244     0.109     0.205     0.098     0.216\n",
      "    0.51     0.154    0.0245     0.106     0.203    0.0953     0.214\n",
      "    0.52     0.152    0.0247     0.104       0.2    0.0924     0.211\n",
      "    0.53     0.149    0.0249     0.101     0.198    0.0894     0.209\n",
      "    0.54     0.147     0.025    0.0977     0.196    0.0864     0.207\n",
      "    0.55     0.144     0.025    0.0949     0.193    0.0835     0.204\n",
      "    0.56     0.141    0.0251    0.0919      0.19    0.0805     0.202\n",
      "    0.57     0.138    0.0253    0.0888     0.188    0.0774     0.199\n",
      "    0.58     0.135    0.0254    0.0856     0.185    0.0741     0.197\n",
      "    0.59     0.132    0.0254    0.0827     0.182    0.0712     0.194\n",
      "     0.6     0.129    0.0254    0.0796     0.179    0.0681     0.191\n",
      "    0.61     0.126    0.0255    0.0763     0.176    0.0648     0.188\n",
      "    0.62     0.123    0.0256     0.073     0.174    0.0614     0.185\n",
      "    0.63     0.121     0.026    0.0701     0.172    0.0584     0.184\n",
      "    0.64     0.119    0.0264    0.0672     0.171    0.0552     0.183\n",
      "    0.65     0.117    0.0269    0.0641      0.17    0.0519     0.182\n",
      "    0.66     0.115    0.0274    0.0609     0.168    0.0485     0.181\n",
      "    0.67     0.112    0.0279    0.0575     0.167    0.0449      0.18\n",
      "    0.68      0.11    0.0284     0.054     0.165    0.0411     0.178\n",
      "    0.69     0.107     0.029    0.0503     0.164    0.0372     0.177\n",
      "     0.7     0.105    0.0296    0.0465     0.163    0.0331     0.176\n",
      "    0.71     0.103      0.03    0.0441     0.162    0.0306     0.176\n",
      "    0.72     0.102    0.0305    0.0421     0.162    0.0283     0.175\n",
      "    0.73     0.101     0.031    0.0399     0.161    0.0258     0.175\n",
      "    0.74    0.0994    0.0316    0.0374     0.161    0.0231     0.176\n",
      "    0.75    0.0972     0.032    0.0346      0.16    0.0202     0.174\n",
      "    0.76    0.0944    0.0322    0.0314     0.157    0.0168     0.172\n",
      "    0.77    0.0916    0.0325    0.0278     0.155    0.0131      0.17\n",
      "    0.78    0.0888    0.0331    0.0239     0.154   0.00888     0.169\n",
      "    0.79    0.0852    0.0338     0.019     0.151   0.00371     0.167\n",
      "     0.8     0.081    0.0346    0.0131     0.149  -0.00256     0.165\n",
      "    0.81    0.0767    0.0357   0.00686     0.147  -0.00927     0.163\n",
      "    0.82    0.0725    0.0368  0.000273     0.145   -0.0164     0.161\n",
      "    0.83    0.0677    0.0379  -0.00648     0.142   -0.0236     0.159\n",
      "    0.84     0.062    0.0385   -0.0134     0.137   -0.0308     0.155\n",
      "    0.85    0.0562    0.0393   -0.0208     0.133   -0.0386     0.151\n",
      "    0.86    0.0505    0.0403   -0.0286      0.13   -0.0468     0.148\n",
      "    0.87    0.0442    0.0416   -0.0373     0.126   -0.0561     0.144\n",
      "    0.88    0.0358    0.0431   -0.0487      0.12   -0.0682      0.14\n",
      "    0.89    0.0275    0.0451   -0.0608     0.116   -0.0812     0.136\n",
      "     0.9    0.0191    0.0473   -0.0736     0.112    -0.095     0.133\n",
      "    0.91   0.00972    0.0499   -0.0881     0.108    -0.111      0.13\n",
      "    0.92   -0.0104    0.0538    -0.116     0.095     -0.14     0.119\n",
      "    0.93   -0.0306    0.0584    -0.145    0.0839    -0.172      0.11\n",
      "    0.94   -0.0508    0.0637    -0.176    0.0741    -0.205     0.103\n",
      "    0.95    -0.071    0.0695    -0.207    0.0652    -0.239    0.0966\n",
      "    0.96    -0.169    0.0837    -0.333  -0.00472    -0.371    0.0331\n",
      "    0.97     -0.27     0.106    -0.478    -0.062    -0.526    -0.014\n",
      "    0.98    -0.371     0.132     -0.63    -0.111     -0.69   -0.0514\n",
      "    0.99    -0.472     0.161    -0.787    -0.157     -0.86   -0.0838\n",
      "\n",
      "\n",
      "      Bootstrap inference on the counterfactual quantile process       \n",
      "---------------------------------------------------------------------- \n",
      "\t\t\t\t\t\t    P-values\t\n",
      "\t\t\t\t\t        ====================== \n",
      "NULL-hypthoesis                        \t KS-statistic CMS-statistic \n",
      "====================================================================== \n",
      "Correct specification of the parametric model      0.061      0.041 \n",
      "No effect: QE(tau)=0 for all taus                      0          0 \n",
      "Constant effect: QE(tau)=QE(0.5) for all taus      0.041          0 \n",
      "Stochastic dominance: QE(tau)>0 for all taus        0.88       0.88 \n",
      "Stochastic dominance: QE(tau)<0 for all taus           0          0 \n",
      "\n",
      "\n",
      "                   Quantile Effects -- Composition                     \n",
      "---------------------------------------------------------------------- \n",
      "                     Pointwise      Pointwise           Functional     \n",
      " Quantile     Est.    Std.Err   95% Conf.Interval   95% Conf.Interval  \n",
      "    0.01     0.141    0.0288    0.0844     0.197     0.074     0.208\n",
      "    0.02     0.104    0.0228    0.0592     0.148     0.051     0.157\n",
      "    0.03    0.0866    0.0211    0.0453     0.128    0.0378     0.135\n",
      "    0.04    0.0759    0.0196    0.0375     0.114    0.0304     0.121\n",
      "    0.05    0.0664    0.0175    0.0321     0.101    0.0258     0.107\n",
      "    0.06    0.0577    0.0158    0.0267    0.0887     0.021    0.0944\n",
      "    0.07    0.0511    0.0147    0.0223    0.0799     0.017    0.0852\n",
      "    0.08    0.0484    0.0142    0.0206    0.0762    0.0155    0.0813\n",
      "    0.09    0.0448    0.0143    0.0167    0.0729    0.0115    0.0781\n",
      "     0.1    0.0411    0.0145    0.0127    0.0696   0.00744    0.0748\n",
      "    0.11    0.0382    0.0147   0.00935     0.067   0.00405    0.0723\n",
      "    0.12     0.036     0.015    0.0066    0.0654    0.0012    0.0708\n",
      "    0.13    0.0334    0.0149   0.00416    0.0626  -0.00121     0.068\n",
      "    0.14    0.0308    0.0146    0.0021    0.0595  -0.00318    0.0648\n",
      "    0.15    0.0288    0.0144  0.000456    0.0571  -0.00474    0.0623\n",
      "    0.16    0.0268    0.0142  -0.00103    0.0546  -0.00615    0.0597\n",
      "    0.17    0.0249    0.0141  -0.00279    0.0526  -0.00787    0.0577\n",
      "    0.18    0.0232    0.0141  -0.00435    0.0508  -0.00941    0.0558\n",
      "    0.19    0.0222     0.014  -0.00521    0.0495   -0.0102    0.0546\n",
      "     0.2    0.0212    0.0138  -0.00581    0.0483   -0.0108    0.0532\n",
      "    0.21    0.0203    0.0137  -0.00661    0.0471   -0.0115    0.0521\n",
      "    0.22    0.0189    0.0136  -0.00771    0.0455   -0.0126    0.0504\n",
      "    0.23    0.0176    0.0134  -0.00868    0.0439   -0.0135    0.0488\n",
      "    0.24    0.0166    0.0133  -0.00955    0.0427   -0.0143    0.0475\n",
      "    0.25    0.0157    0.0132   -0.0101    0.0416   -0.0149    0.0463\n",
      "    0.26    0.0149    0.0131   -0.0107    0.0405   -0.0154    0.0452\n",
      "    0.27    0.0143     0.013   -0.0111    0.0397   -0.0158    0.0444\n",
      "    0.28    0.0136     0.013   -0.0119    0.0391   -0.0165    0.0438\n",
      "    0.29    0.0129     0.013   -0.0126    0.0384   -0.0173    0.0431\n",
      "     0.3    0.0121    0.0129   -0.0132    0.0374   -0.0179     0.042\n",
      "    0.31    0.0117    0.0128   -0.0134    0.0369    -0.018    0.0415\n",
      "    0.32    0.0112    0.0129    -0.014    0.0365   -0.0186    0.0411\n",
      "    0.33    0.0108    0.0129   -0.0145    0.0361   -0.0191    0.0407\n",
      "    0.34    0.0107    0.0128   -0.0145    0.0358   -0.0191    0.0405\n",
      "    0.35    0.0102    0.0129    -0.015    0.0355   -0.0197    0.0401\n",
      "    0.36   0.00978    0.0129   -0.0155    0.0351   -0.0202    0.0397\n",
      "    0.37   0.00944    0.0129   -0.0159    0.0348   -0.0205    0.0394\n",
      "    0.38   0.00901    0.0131   -0.0166    0.0346   -0.0213    0.0393\n",
      "    0.39   0.00843    0.0133   -0.0176    0.0345   -0.0224    0.0392\n",
      "     0.4   0.00776    0.0135   -0.0188    0.0343   -0.0236    0.0392\n",
      "    0.41   0.00704    0.0138     -0.02    0.0341    -0.025    0.0391\n",
      "    0.42    0.0068    0.0141   -0.0208    0.0344   -0.0258    0.0394\n",
      "    0.43   0.00639    0.0144   -0.0217    0.0345   -0.0269    0.0397\n",
      "    0.44   0.00573    0.0146    -0.023    0.0344   -0.0282    0.0397\n",
      "    0.45    0.0049    0.0149   -0.0243    0.0341   -0.0296    0.0394\n",
      "    0.46   0.00419    0.0149   -0.0251    0.0335   -0.0304    0.0388\n",
      "    0.47   0.00392     0.015   -0.0255    0.0333   -0.0309    0.0387\n",
      "    0.48   0.00329    0.0151   -0.0263    0.0329   -0.0318    0.0384\n",
      "    0.49   0.00239    0.0152   -0.0274    0.0322   -0.0329    0.0377\n",
      "     0.5   0.00177    0.0153   -0.0281    0.0317   -0.0336    0.0372\n",
      "    0.51   0.00162    0.0154   -0.0285    0.0317    -0.034    0.0373\n",
      "    0.52    0.0018    0.0155   -0.0285    0.0321   -0.0341    0.0377\n",
      "    0.53   0.00205    0.0156   -0.0286    0.0327   -0.0342    0.0383\n",
      "    0.54   0.00126    0.0159   -0.0299    0.0324   -0.0356    0.0381\n",
      "    0.55   0.00163    0.0161     -0.03    0.0333   -0.0358    0.0391\n",
      "    0.56    0.0017    0.0164   -0.0305    0.0339   -0.0364    0.0398\n",
      "    0.57   0.00116    0.0167   -0.0315    0.0339   -0.0375    0.0399\n",
      "    0.58  0.000218    0.0169   -0.0329    0.0333   -0.0389    0.0394\n",
      "    0.59 -0.000224    0.0169   -0.0334     0.033   -0.0395    0.0391\n",
      "     0.6 -0.000401     0.017   -0.0337    0.0329   -0.0398     0.039\n",
      "    0.61 -0.000496     0.017   -0.0339    0.0329     -0.04     0.039\n",
      "    0.62  -0.00103    0.0171   -0.0345    0.0324   -0.0406    0.0386\n",
      "    0.63  -0.00137    0.0172   -0.0352    0.0324   -0.0414    0.0386\n",
      "    0.64   -0.0021    0.0175   -0.0363    0.0321   -0.0426    0.0384\n",
      "    0.65  -0.00293    0.0176   -0.0374    0.0315   -0.0437    0.0379\n",
      "    0.66  -0.00342    0.0179   -0.0385    0.0317    -0.045    0.0381\n",
      "    0.67  -0.00339    0.0183   -0.0392    0.0324   -0.0458     0.039\n",
      "    0.68  -0.00352    0.0186     -0.04    0.0329   -0.0467    0.0396\n",
      "    0.69  -0.00404    0.0188    -0.041    0.0329   -0.0478    0.0397\n",
      "     0.7  -0.00474    0.0192   -0.0423    0.0328   -0.0492    0.0397\n",
      "    0.71   -0.0052    0.0195   -0.0434     0.033   -0.0505    0.0401\n",
      "    0.72  -0.00576    0.0199   -0.0448    0.0332   -0.0519    0.0404\n",
      "    0.73  -0.00607    0.0202   -0.0456    0.0334   -0.0528    0.0407\n",
      "    0.74    -0.007    0.0205   -0.0471    0.0332   -0.0545    0.0405\n",
      "    0.75   -0.0074    0.0206   -0.0478     0.033   -0.0552    0.0404\n",
      "    0.76  -0.00759    0.0206   -0.0479    0.0327   -0.0553    0.0402\n",
      "    0.77  -0.00772    0.0207   -0.0484    0.0329   -0.0558    0.0404\n",
      "    0.78  -0.00862    0.0208   -0.0494    0.0322   -0.0569    0.0397\n",
      "    0.79  -0.00886    0.0209   -0.0498    0.0321   -0.0574    0.0396\n",
      "     0.8  -0.00843     0.021   -0.0495    0.0327   -0.0571    0.0402\n",
      "    0.81  -0.00809    0.0208   -0.0489    0.0328   -0.0564    0.0403\n",
      "    0.82  -0.00777    0.0209   -0.0487    0.0332   -0.0563    0.0407\n",
      "    0.83  -0.00726    0.0208   -0.0481    0.0336   -0.0556    0.0411\n",
      "    0.84   -0.0065    0.0205   -0.0466    0.0336    -0.054     0.041\n",
      "    0.85  -0.00499    0.0203   -0.0448    0.0348   -0.0521    0.0421\n",
      "    0.86  -0.00525      0.02   -0.0444    0.0339   -0.0516    0.0411\n",
      "    0.87  -0.00573    0.0199   -0.0447    0.0333   -0.0519    0.0404\n",
      "    0.88  -0.00287    0.0208   -0.0436    0.0379   -0.0511    0.0454\n",
      "    0.89  -0.00245    0.0218   -0.0451    0.0402   -0.0529     0.048\n",
      "     0.9    -0.005    0.0229   -0.0499    0.0399   -0.0581    0.0481\n",
      "    0.91  -0.00892    0.0244   -0.0568     0.039   -0.0656    0.0477\n",
      "    0.92    0.0025    0.0272   -0.0508    0.0558   -0.0606    0.0656\n",
      "    0.93   0.00463    0.0312   -0.0565    0.0657   -0.0677     0.077\n",
      "    0.94  -0.00263    0.0351   -0.0715    0.0662   -0.0842    0.0789\n",
      "    0.95   -0.0211     0.039   -0.0975    0.0553    -0.112    0.0693\n",
      "    0.96    0.0615    0.0469   -0.0303     0.153   -0.0472      0.17\n",
      "    0.97     0.103    0.0581   -0.0109     0.217   -0.0318     0.238\n",
      "    0.98    0.0827    0.0636   -0.0421     0.207    -0.065      0.23\n",
      "    0.99   -0.0128    0.0675    -0.145      0.12    -0.169     0.144\n",
      "\n",
      "\n",
      "      Bootstrap inference on the counterfactual quantile process       \n",
      "---------------------------------------------------------------------- \n",
      "\t\t\t\t\t\t    P-values\t\n",
      "\t\t\t\t\t        ====================== \n",
      "NULL-hypthoesis                        \t KS-statistic CMS-statistic \n",
      "====================================================================== \n",
      "Correct specification of the parametric model       0.12          0 \n",
      "No effect: QE(tau)=0 for all taus                      0       0.39 \n",
      "Constant effect: QE(tau)=QE(0.5) for all taus       0.02      0.061 \n",
      "Stochastic dominance: QE(tau)>0 for all taus        0.63       0.59 \n",
      "Stochastic dominance: QE(tau)<0 for all taus           0       0.29 \n",
      "\n",
      "\n",
      "                      Quantile Effects -- Total                        \n",
      "---------------------------------------------------------------------- \n",
      "                     Pointwise      Pointwise           Functional     \n",
      " Quantile     Est.    Std.Err   95% Conf.Interval   95% Conf.Interval  \n",
      "    0.01     0.334    0.0459     0.244     0.424     0.215     0.454\n",
      "    0.02     0.297    0.0376     0.223     0.371     0.199     0.395\n",
      "    0.03      0.28    0.0345     0.213     0.348      0.19      0.37\n",
      "    0.04      0.27    0.0322     0.207     0.333     0.186     0.353\n",
      "    0.05     0.262    0.0305     0.202     0.322     0.182     0.341\n",
      "    0.06     0.255    0.0295     0.197     0.313     0.178     0.332\n",
      "    0.07      0.25    0.0291     0.193     0.307     0.175     0.326\n",
      "    0.08      0.25    0.0292     0.192     0.307     0.173     0.326\n",
      "    0.09     0.248    0.0291     0.191     0.305     0.172     0.323\n",
      "     0.1     0.246    0.0287     0.189     0.302     0.171      0.32\n",
      "    0.11     0.244    0.0283     0.189       0.3     0.171     0.318\n",
      "    0.12     0.244    0.0281     0.189     0.299     0.171     0.317\n",
      "    0.13     0.243    0.0278     0.189     0.297     0.171     0.315\n",
      "    0.14     0.242    0.0274     0.188     0.296     0.171     0.313\n",
      "    0.15     0.242    0.0271     0.188     0.295     0.171     0.312\n",
      "    0.16     0.241    0.0268     0.189     0.294     0.172     0.311\n",
      "    0.17      0.24    0.0264     0.188     0.292     0.171     0.309\n",
      "    0.18     0.238    0.0261     0.187     0.289      0.17     0.306\n",
      "    0.19     0.236    0.0259     0.185     0.287     0.169     0.303\n",
      "     0.2     0.235    0.0257     0.184     0.285     0.168     0.301\n",
      "    0.21     0.233    0.0255     0.182     0.283     0.166     0.299\n",
      "    0.22     0.229    0.0252      0.18     0.279     0.164     0.295\n",
      "    0.23     0.226    0.0248     0.178     0.275     0.162     0.291\n",
      "    0.24     0.223    0.0245     0.175     0.271      0.16     0.287\n",
      "    0.25     0.221    0.0242     0.173     0.268     0.158     0.284\n",
      "    0.26     0.219     0.024     0.172     0.266     0.156     0.281\n",
      "    0.27     0.217    0.0241      0.17     0.264     0.154      0.28\n",
      "    0.28     0.215    0.0241     0.168     0.263     0.152     0.278\n",
      "    0.29     0.213    0.0243     0.166     0.261      0.15     0.277\n",
      "     0.3     0.211    0.0244     0.163     0.258     0.147     0.274\n",
      "    0.31     0.209    0.0243     0.161     0.256     0.145     0.272\n",
      "    0.32     0.206    0.0243     0.159     0.254     0.143      0.27\n",
      "    0.33     0.204    0.0243     0.156     0.252     0.141     0.267\n",
      "    0.34     0.201    0.0242     0.154     0.249     0.138     0.264\n",
      "    0.35     0.198    0.0241     0.151     0.245     0.135     0.261\n",
      "    0.36     0.195    0.0241     0.147     0.242     0.132     0.257\n",
      "    0.37     0.192    0.0242     0.144     0.239     0.129     0.254\n",
      "    0.38     0.189    0.0243     0.142     0.237     0.126     0.253\n",
      "    0.39     0.187    0.0246     0.139     0.235     0.123     0.251\n",
      "     0.4     0.185    0.0249     0.136     0.234      0.12      0.25\n",
      "    0.41     0.183    0.0252     0.133     0.232     0.117     0.248\n",
      "    0.42      0.18    0.0257      0.13     0.231     0.113     0.247\n",
      "    0.43     0.178    0.0261     0.127     0.229      0.11     0.245\n",
      "    0.44     0.175    0.0265     0.123     0.227     0.106     0.244\n",
      "    0.45     0.172    0.0269     0.119     0.224     0.102     0.242\n",
      "    0.46     0.169     0.027     0.116     0.222    0.0986     0.239\n",
      "    0.47     0.167    0.0271     0.114      0.22    0.0962     0.237\n",
      "    0.48     0.164    0.0273     0.111     0.218    0.0933     0.235\n",
      "    0.49     0.162    0.0274     0.108     0.215    0.0902     0.233\n",
      "     0.5     0.159    0.0274     0.105     0.213    0.0873      0.23\n",
      "    0.51     0.156    0.0273     0.103      0.21     0.085     0.227\n",
      "    0.52     0.154    0.0272       0.1     0.207     0.083     0.224\n",
      "    0.53     0.151    0.0272    0.0982     0.205    0.0807     0.222\n",
      "    0.54     0.148    0.0274    0.0944     0.202    0.0768     0.219\n",
      "    0.55     0.146    0.0276    0.0914       0.2    0.0737     0.217\n",
      "    0.56     0.143    0.0278    0.0883     0.197    0.0704     0.215\n",
      "    0.57     0.139    0.0279    0.0847     0.194    0.0667     0.212\n",
      "    0.58     0.136    0.0281    0.0805     0.191    0.0624     0.209\n",
      "    0.59     0.132    0.0281    0.0772     0.187    0.0591     0.205\n",
      "     0.6     0.129     0.028    0.0741     0.184     0.056     0.202\n",
      "    0.61     0.126    0.0279    0.0711      0.18    0.0532     0.198\n",
      "    0.62     0.122    0.0277    0.0679     0.177    0.0501     0.194\n",
      "    0.63      0.12    0.0281    0.0648     0.175    0.0467     0.193\n",
      "    0.64     0.117    0.0285    0.0611     0.173    0.0428     0.191\n",
      "    0.65     0.114    0.0288    0.0576      0.17    0.0391     0.189\n",
      "    0.66     0.111     0.029    0.0544     0.168    0.0357     0.187\n",
      "    0.67     0.109    0.0293    0.0513     0.166    0.0324     0.185\n",
      "    0.68     0.106    0.0297    0.0479     0.164    0.0287     0.184\n",
      "    0.69     0.103    0.0301    0.0441     0.162    0.0247     0.181\n",
      "     0.7    0.0998    0.0305      0.04      0.16    0.0203     0.179\n",
      "    0.71    0.0978    0.0308    0.0375     0.158    0.0177     0.178\n",
      "    0.72    0.0961     0.031    0.0353     0.157    0.0153     0.177\n",
      "    0.73    0.0946    0.0313    0.0332     0.156     0.013     0.176\n",
      "    0.74    0.0924    0.0315    0.0306     0.154    0.0103     0.175\n",
      "    0.75    0.0898    0.0316    0.0278     0.152   0.00747     0.172\n",
      "    0.76    0.0868    0.0317    0.0246     0.149   0.00424     0.169\n",
      "    0.77    0.0839     0.032    0.0212     0.146  0.000667     0.167\n",
      "    0.78    0.0801    0.0323    0.0168     0.143  -0.00394     0.164\n",
      "    0.79    0.0764    0.0325    0.0126      0.14   -0.0083     0.161\n",
      "     0.8    0.0726    0.0327   0.00856     0.137   -0.0125     0.158\n",
      "    0.81    0.0686    0.0332   0.00365     0.134   -0.0177     0.155\n",
      "    0.82    0.0647    0.0339  -0.00169     0.131   -0.0235     0.153\n",
      "    0.83    0.0604    0.0346  -0.00743     0.128   -0.0297     0.151\n",
      "    0.84    0.0555    0.0353   -0.0137     0.125   -0.0364     0.147\n",
      "    0.85    0.0512     0.036   -0.0194     0.122   -0.0425     0.145\n",
      "    0.86    0.0452     0.037   -0.0273     0.118   -0.0511     0.142\n",
      "    0.87    0.0384    0.0382   -0.0364     0.113    -0.061     0.138\n",
      "    0.88    0.0329    0.0394   -0.0443      0.11   -0.0697     0.136\n",
      "    0.89     0.025    0.0413   -0.0559     0.106   -0.0825     0.133\n",
      "     0.9    0.0141    0.0439   -0.0719       0.1      -0.1     0.128\n",
      "    0.91  0.000808    0.0471   -0.0915    0.0931    -0.122     0.123\n",
      "    0.92  -0.00795      0.05    -0.106    0.0901    -0.138     0.122\n",
      "    0.93    -0.026    0.0541    -0.132      0.08    -0.167     0.115\n",
      "    0.94   -0.0534    0.0584    -0.168    0.0611    -0.206    0.0987\n",
      "    0.95   -0.0921    0.0631    -0.216    0.0317    -0.256    0.0723\n",
      "    0.96    -0.107    0.0717    -0.248    0.0334    -0.294    0.0795\n",
      "    0.97    -0.167    0.0846    -0.333  -0.00095    -0.387    0.0535\n",
      "    0.98    -0.288     0.102    -0.489   -0.0873    -0.555   -0.0214\n",
      "    0.99    -0.485     0.135     -0.75    -0.219    -0.837    -0.132\n",
      "\n",
      "\n",
      "      Bootstrap inference on the counterfactual quantile process       \n",
      "---------------------------------------------------------------------- \n",
      "\t\t\t\t\t\t    P-values\t\n",
      "\t\t\t\t\t        ====================== \n",
      "NULL-hypthoesis                        \t KS-statistic CMS-statistic \n",
      "====================================================================== \n",
      "Correct specification of the parametric model          0          0 \n",
      "No effect: QE(tau)=0 for all taus                      0          0 \n",
      "Constant effect: QE(tau)=QE(0.5) for all taus          0          0 \n",
      "Stochastic dominance: QE(tau)>0 for all taus        0.86       0.86 \n",
      "Stochastic dominance: QE(tau)<0 for all taus           0          0 \n"
     ]
    }
   ],
   "source": [
    "# Draw a small random sample (since the estimation takes long)\n",
    "index <- sample(x=1:nrow(data), size=1000)\n",
    "sample_cf <- data[index,]\n",
    "covariates <-covariates[index,]\n",
    "\n",
    "#efine the quantiles and the range\n",
    "taus <- c(1:99)/100\n",
    "first <- sum(as.double(taus <= .10))\n",
    "last <- sum(as.double(taus <= .90))\n",
    "rang <- c(first:last)\n",
    "# tails of the distribution should not be used because standard asymptotic does not apply to these parts.\n",
    "\n",
    "# Estimation\n",
    "rq.4 <-  counterfactual(lnwage ~ covariates, \n",
    "                        data=sample_cf, group=public, \n",
    "                        quantiles=taus,\n",
    "                        treatment = TRUE, \n",
    "                        decomposition = TRUE,  \n",
    "                        reps = 49,  \n",
    "                        sepcore = TRUE, \n",
    "                        ncore=2) "
   ]
  },
  {
   "cell_type": "markdown",
   "metadata": {},
   "source": [
    "#### Plot the estimated effects"
   ]
  },
  {
   "cell_type": "code",
   "execution_count": 28,
   "metadata": {},
   "outputs": [
    {
     "data": {
      "image/png": "[encoded data removed]",
      "text/plain": [
       "plot without title"
      ]
     },
     "metadata": {
      "image/png": {
       "height": 420,
       "width": 420
      }
     },
     "output_type": "display_data"
    },
    {
     "data": {
      "image/png": "[encoded data removed]",
      "text/plain": [
       "plot without title"
      ]
     },
     "metadata": {
      "image/png": {
       "height": 420,
       "width": 420
      }
     },
     "output_type": "display_data"
    },
    {
     "data": {
      "image/png": "[encoded data removed]",
      "text/plain": [
       "plot without title"
      ]
     },
     "metadata": {
      "image/png": {
       "height": 420,
       "width": 420
      }
     },
     "output_type": "display_data"
    }
   ],
   "source": [
    "# Collect estimates and SE\n",
    "\n",
    "# Structure\n",
    "duqf_SE <- (rq.4$resSE)[,1]\n",
    "l.duqf_SE <- (rq.4$resSE)[,3]\n",
    "u.duqf_SE <- (rq.4$resSE)[,4]\n",
    "\n",
    "# Composition\n",
    "duqf_CE <- (rq.4$resCE)[,1]\n",
    "l.duqf_CE <- (rq.4$resCE)[,3]\n",
    "u.duqf_CE <- (rq.4$resCE)[,4]\n",
    "\n",
    "# Total\n",
    "duqf_TE <- (rq.4$resTE)[,1]\n",
    "l.duqf_TE <- (rq.4$resTE)[,3]\n",
    "u.duqf_TE <- (rq.4$resTE)[,4]\n",
    "\n",
    "# create one data set for all estimates\n",
    "rq.4_se <- cbind(duqf_SE,l.duqf_SE,u.duqf_SE)\n",
    "rq.4_ce <- cbind(duqf_CE,l.duqf_CE,u.duqf_CE)\n",
    "rq.4_te <- cbind(duqf_TE,l.duqf_TE,u.duqf_TE)\n",
    "rq.4_all <- as.data.frame(cbind(taus, rq.4_se, rq.4_ce, rq.4_te))\n",
    "rq.4_all <- rq.4_all[rang,]\n",
    "\n",
    "# Define a range for y\n",
    "min_y <- min(c(min(l.duqf_SE[rang]), min(l.duqf_CE[rang]),min(l.duqf_TE[rang])))\n",
    "max_y <- max(c(max(u.duqf_SE[rang]), max(u.duqf_CE[rang]),max(u.duqf_TE[rang])))\n",
    "\n",
    "# Plot with ggplot\n",
    "p.te<-ggplot()+\n",
    "      geom_line(data = rq.4_all, aes(x = taus, y = duqf_TE)) +\n",
    "      geom_ribbon(data=rq.4_all, aes(ymin=l.duqf_SE,ymax=u.duqf_TE,  x=taus, fill = \"band\" ),alpha=0.3)+\n",
    "      theme_bw(base_size = 20) +\n",
    "      theme(axis.title = element_text(face = \"bold\"),\n",
    "            axis.title.x = element_blank()) +\n",
    "      ylab(\"Difference in Wages\") +\n",
    "      xlab(\"Quantiles\") +\n",
    "      ylim(min_y, max_y) +\n",
    "      xlim(0, 1) +\n",
    "      geom_hline(yintercept = 0) +\n",
    "      theme(legend.position = \"none\") +\n",
    "      ggtitle(\"Total\") +\n",
    "      theme(plot.title = element_text(hjust = 0.5))\n",
    "\n",
    "p.se<-ggplot()+\n",
    "      geom_line(data = rq.4_all, aes(x = taus, y = duqf_SE)) +\n",
    "      geom_ribbon(data=rq.4_all, aes(ymin=l.duqf_SE,ymax=u.duqf_SE,  x=taus, fill = \"band\" ),alpha=0.3)+\n",
    "       theme_bw(base_size = 20) +\n",
    "      theme(axis.title = element_text(face = \"bold\"),\n",
    "            axis.title.x = element_blank()) +\n",
    "      ylab(\"Difference in Wages\") +\n",
    "      xlab(\"Quantiles\") +\n",
    "      ylim(min_y, max_y) +\n",
    "      xlim(0, 1) +\n",
    "      geom_hline(yintercept = 0) +\n",
    "      theme(legend.position = \"none\") +\n",
    "      ggtitle(\"Structure\")  +\n",
    "      theme(plot.title = element_text(hjust = 0.5))\n",
    "\n",
    "p.ce<-ggplot()+\n",
    "      geom_line(data = rq.4_all, aes(x = taus, y = duqf_CE)) +\n",
    "      geom_ribbon(data=rq.4_all, aes(ymin=l.duqf_CE,ymax=u.duqf_CE,  x=taus, fill = \"band\" ),alpha=0.3)+\n",
    "       theme_bw(base_size = 20) +\n",
    "      theme(axis.title = element_text(face = \"bold\"),\n",
    "            axis.title.x = element_blank()) +\n",
    "      ylab(\"Difference in Wages\") +\n",
    "      xlab(\"Quantiles\") +\n",
    "      ylim(min_y, max_y) +\n",
    "      xlim(0, 1) +\n",
    "      geom_hline(yintercept = 0) +\n",
    "      theme(legend.position = \"none\") +\n",
    "      ggtitle(\"Composition\")  +\n",
    "      theme(plot.title = element_text(hjust = 0.5))\n",
    "\n",
    "p.te\n",
    "p.se\n",
    "p.ce"
   ]
  }
 ],
 "metadata": {
  "kernelspec": {
   "display_name": "R",
   "language": "R",
   "name": "ir"
  },
  "language_info": {
   "codemirror_mode": "r",
   "file_extension": ".r",
   "mimetype": "text/x-r-source",
   "name": "R",
   "pygments_lexer": "r",
   "version": "3.6.1"
  }
 },
 "nbformat": 4,
 "nbformat_minor": 2
}
