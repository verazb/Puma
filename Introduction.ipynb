{
 "cells": [
  {
   "cell_type": "markdown",
   "metadata": {},
   "source": [
    "**Applied Empirical Analysis (HS 2020)**\n",
    "\n",
    "**Conny Wunsch, Ulrike Unterhofer and Véra Zabrodina** -- University of Basel\n",
    "\n",
    "***\n",
    "\n",
    "# Lab sessions - Introduction\n",
    "\n",
    "***"
   ]
  },
  {
   "cell_type": "markdown",
   "metadata": {},
   "source": [
    "## Objectives\n",
    "\n",
    "* Go from theory to practice in implementing causal empirical research methods.\n",
    "* Understand the key steps and practical challenges of a thorough empirical analysis. \n",
    "\n",
    "Specifically, you will learn how to... \n",
    "* Validate data\n",
    "* Select the estimation sample\n",
    "* Prepare the data for analysis\n",
    "* Produce and interpret relevant descriptive statistics\n",
    "* Conduct the empirical analysis\n",
    "* Present and interpret the results\n",
    "* Provide supporting evidence for the validity of the chosen methodology\n",
    "\n",
    "Keep in mind\n",
    "* Ask questions, and try to answer ours.\n",
    "* Here, in the assignments, and in real-life empirical research, “justify and discuss” is always implied. \n",
    "\n",
    "***\n",
    "\n",
    "## Content and organisation\n",
    "\n",
    "* In every lab session, we will replicate and discuss step-by-step the main findings of a (good) published paper that uses a method taught in the lectures.\n",
    "* Students are required to read the paper beforehand.\n",
    "\n",
    "*** \n",
    "\n",
    "## Lab assignments \n",
    "\n",
    "* Small, bi-weekly assignments consist of coding, open and reading questions. \n",
    "* Posted shortly after every lab session on ADAM. \n",
    "* You have to submit assigments in groups of ... \n",
    "* The written answers including outputs such as tables and graphs should be saved as a PDF file, and are limited to a maximum of 2 pages.\n",
    "* Solutions are discussed in the next lab session.\n",
    "* These will serve as preparation for the bigger final assignment and further research (e.g. empirical Master’s thesis)\n",
    "\n",
    "\n",
    "See the lab session syllabus for further details.\n",
    "\n",
    "*** \n",
    "\n",
    "## Software and prerequisites\n",
    "\n",
    "* Implementation in `R` -- basic knowledge of programming and `R` syntax is assumed (or to be learned autonomously). \n",
    "* `R` is free, open source, and a useful asset on the market.\n",
    "* See the syllabus for some useful links on how to get started with `R`. \n",
    "* There are many ways of coding the same thing.\n",
    "* First lab session on data preparation shown in RStudio. \n",
    "* The rest in Jupyter notebooks. \n",
    "\n",
    "\n",
    "![](./R_machine.jpg)\n"
   ]
  },
  {
   "cell_type": "markdown",
   "metadata": {},
   "source": [
    "***\n",
    "\n",
    "# Technical setup\n",
    "\n",
    "## Jupyter notebooks\n",
    "\n",
    "* This page is a so-called *Jupyter notebook*. \n",
    "* Some *cells* contain text notes and formulas.\n",
    "* Others cells contain bits of `R` code that you can run one after the other, with any *output* appearing below. \n",
    "* Everything is integrated in one webpage which can be opened in a standard browser (e.g. Chrome, Firefox).\n",
    "\n",
    "## Basic steps to run R code in Jupyter\n",
    "\n",
    "1. Open the Jupyter notebook.\n",
    "2. In the menu above, go to `Cell > All Output > Clear` to erase all code output on the page.\n",
    "3. Run each cell by clicking into it, and pressing `Run` (or `Ctrl + Enter`).\n",
    "4. To run all cells at once, go to `Cell > Run All`.\n",
    "5. If there is an error, you can re-run everything up to a given point by going to `Cell > Run All Above`.\n",
    "\n",
    "\n",
    "Here is a simple example, try it out."
   ]
  },
  {
   "cell_type": "code",
   "execution_count": 1,
   "metadata": {},
   "outputs": [],
   "source": [
    "x <- c(1:10)"
   ]
  },
  {
   "cell_type": "markdown",
   "metadata": {},
   "source": [
    "As usual in `R`, this will not show any output. \n",
    "\n",
    "If you actually want to see the vector as an output, you have to call it."
   ]
  },
  {
   "cell_type": "code",
   "execution_count": 2,
   "metadata": {},
   "outputs": [
    {
     "data": {
      "text/html": [
       "<style>\n",
       ".list-inline {list-style: none; margin:0; padding: 0}\n",
       ".list-inline>li {display: inline-block}\n",
       ".list-inline>li:not(:last-child)::after {content: \"\\00b7\"; padding: 0 .5ex}\n",
       "</style>\n",
       "<ol class=list-inline><li>1</li><li>2</li><li>3</li><li>4</li><li>5</li><li>6</li><li>7</li><li>8</li><li>9</li><li>10</li></ol>\n"
      ],
      "text/latex": [
       "\\begin{enumerate*}\n",
       "\\item 1\n",
       "\\item 2\n",
       "\\item 3\n",
       "\\item 4\n",
       "\\item 5\n",
       "\\item 6\n",
       "\\item 7\n",
       "\\item 8\n",
       "\\item 9\n",
       "\\item 10\n",
       "\\end{enumerate*}\n"
      ],
      "text/markdown": [
       "1. 1\n",
       "2. 2\n",
       "3. 3\n",
       "4. 4\n",
       "5. 5\n",
       "6. 6\n",
       "7. 7\n",
       "8. 8\n",
       "9. 9\n",
       "10. 10\n",
       "\n",
       "\n"
      ],
      "text/plain": [
       " [1]  1  2  3  4  5  6  7  8  9 10"
      ]
     },
     "metadata": {},
     "output_type": "display_data"
    }
   ],
   "source": [
    "x"
   ]
  },
  {
   "cell_type": "code",
   "execution_count": 27,
   "metadata": {},
   "outputs": [
    {
     "data": {
      "text/html": [
       "<style>\n",
       ".list-inline {list-style: none; margin:0; padding: 0}\n",
       ".list-inline>li {display: inline-block}\n",
       ".list-inline>li:not(:last-child)::after {content: \"\\00b7\"; padding: 0 .5ex}\n",
       "</style>\n",
       "<ol class=list-inline><li>1.74849105490231</li><li>0.271691878667688</li><li>1.39754694944239</li><li>3.92127403500438</li><li>2.53809350314118</li><li>5.11152013835706</li><li>6.13734609786929</li><li>7.90952643679549</li><li>7.37127506641519</li><li>8.46267790998499</li></ol>\n"
      ],
      "text/latex": [
       "\\begin{enumerate*}\n",
       "\\item 1.74849105490231\n",
       "\\item 0.271691878667688\n",
       "\\item 1.39754694944239\n",
       "\\item 3.92127403500438\n",
       "\\item 2.53809350314118\n",
       "\\item 5.11152013835706\n",
       "\\item 6.13734609786929\n",
       "\\item 7.90952643679549\n",
       "\\item 7.37127506641519\n",
       "\\item 8.46267790998499\n",
       "\\end{enumerate*}\n"
      ],
      "text/markdown": [
       "1. 1.74849105490231\n",
       "2. 0.271691878667688\n",
       "3. 1.39754694944239\n",
       "4. 3.92127403500438\n",
       "5. 2.53809350314118\n",
       "6. 5.11152013835706\n",
       "7. 6.13734609786929\n",
       "8. 7.90952643679549\n",
       "9. 7.37127506641519\n",
       "10. 8.46267790998499\n",
       "\n",
       "\n"
      ],
      "text/plain": [
       " [1] 1.7484911 0.2716919 1.3975469 3.9212740 2.5380935 5.1115201 6.1373461\n",
       " [8] 7.9095264 7.3712751 8.4626779"
      ]
     },
     "metadata": {},
     "output_type": "display_data"
    }
   ],
   "source": [
    "e <- rnorm(10)\n",
    "y <- 0.8*x + e\n",
    "y"
   ]
  },
  {
   "cell_type": "code",
   "execution_count": 28,
   "metadata": {},
   "outputs": [
    {
     "data": {
      "image/png": "[encoded data removed]",
      "text/plain": [
       "plot without title"
      ]
     },
     "metadata": {
      "image/png": {
       "height": 420,
       "width": 420
      }
     },
     "output_type": "display_data"
    }
   ],
   "source": [
    "library(ggplot2)\n",
    "data <- as.data.frame(cbind(x,y))\n",
    "ggplot(data, aes(x=x, y=y)) + geom_point() + theme_bw(base_size = 20)"
   ]
  },
  {
   "cell_type": "markdown",
   "metadata": {},
   "source": [
    "***\n",
    "\n",
    "## Jupyter notebooks in Binder\n",
    "\n",
    "* The Binder is an online server, which stores the Jupyter notebooks and the data for each session. \n",
    "* The link posted on ADAM connects you to this server directly. \n",
    "\n",
    "[Link here]\n",
    "\n",
    "* Binder allows you to run the whole notebook in your browser without ever installing anything on your computer (i.e. you do not even need `R`). \n",
    "\n",
    "### Important remarks\n",
    "* Jupyter and Binder are only teaching tools for the lab sessions. You will still need a computer with `R` to do the assignments. \n",
    "* New lab materials will be uploaded on Binder shortly before each session. \n",
    "* Changes to the notebooks are **not saved**, so **take notes elsewhere**. \n",
    "* After 10 minutes of inactivity, the notebook has to be reloaded. Reloading it will revert it to its original state.\n",
    "* To export the notebook as a PDF with notes and code: `File > Download As > PDF via LaTeX`. The PDF is also available on ADAM. \n",
    "\n",
    "\n",
    "If you have any question about the lab sessions, drop us an email at `ulrike.unterhofer[at]unibas.ch` or `vera.zabrodina[at]unibas.ch`."
   ]
  }
 ],
 "metadata": {
  "kernelspec": {
   "display_name": "R",
   "language": "R",
   "name": "ir"
  },
  "language_info": {
   "codemirror_mode": "r",
   "file_extension": ".r",
   "mimetype": "text/x-r-source",
   "name": "R",
   "pygments_lexer": "r",
   "version": "3.6.1"
  }
 },
 "nbformat": 4,
 "nbformat_minor": 2
}
