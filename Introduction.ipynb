{
 "cells": [
  {
   "cell_type": "markdown",
   "metadata": {},
   "source": [
    "**Applied Empirical Analysis (HS 2020)**\n",
    "\n",
    "**Conny Wunsch, Ulrike Unterhofer and Véra Zabrodina** -- University of Basel\n",
    "\n",
    "***\n",
    "\n",
    "# Lab sessions - Introduction\n",
    "\n",
    "***\n",
    "\n",
    "![](./Corona.JPG)"
   ]
  },
  {
   "cell_type": "markdown",
   "metadata": {},
   "source": [
    "***\n",
    "\n",
    "## Objectives\n",
    "\n",
    "* Go from theory to practice in implementing causal empirical research methods.\n",
    "* Understand the key steps and practical challenges of a thorough empirical analysis. \n",
    "\n",
    "In the lab, you will learn how to... \n",
    "\n",
    "1. Identify a research method and the key variables of interest \n",
    "\n",
    "2. Discuss the identifying assumptions and provide supporting evidence for their validity\n",
    "\n",
    "3. Validate data and prepare them for analysis\n",
    "\n",
    "4. Produce and interpret relevant descriptive statistics\n",
    "\n",
    "5. Conduct the empirical analysis to estimate causal effects of interest \n",
    "\n",
    "6. Present and interpret the results meaningfully \n",
    "\n",
    "\n",
    "***\n",
    "\n",
    "## Content and organisation\n",
    "\n",
    "* In every lab session, we will replicate and discuss step-by-step the main findings of a (good) published paper that uses a method taught in the lectures.\n",
    "\n",
    "* Students are required to read the paper beforehand.\n",
    "\n",
    "* Ask questions, and try to answer ours.\n",
    "\n",
    "* Here, in the assignments, and in real-life empirical research, “justify and discuss” is always implied. \n",
    "\n",
    "*** \n",
    "\n",
    "## Lab assignments \n",
    "\n",
    "* Small, bi-weekly assignments consist of coding, open and reading questions. \n",
    "\n",
    "* Posted shortly after every lab session on ADAM. \n",
    "\n",
    "* You have to submit assignments as groups (assigned by us based on the questionnaire)\n",
    "\n",
    "* The written answers including outputs such as tables and graphs should be saved as a PDF file, and are limited to a maximum of 2 pages.\n",
    "\n",
    "* Solutions are discussed in the next lab session.\n",
    "\n",
    "* These will serve as preparation for the bigger final assignment and further research (e.g. empirical Master’s thesis)\n",
    "\n",
    "\n",
    "See the lab session syllabus for further details.\n",
    "\n",
    "*** \n",
    "\n",
    "## Software and prerequisites\n",
    "\n",
    "* Implementation in `R` -- basic knowledge of programming and `R` syntax is assumed (or to be learned autonomously). \n",
    "\n",
    "* `R` is free, open source, and a useful asset on the market.\n",
    "\n",
    "* See the syllabus for some useful links on how to get started with `R`. \n",
    "\n",
    "* There are many ways of coding the same thing.\n",
    "\n",
    "* First lab session on data preparation shown in RStudio. \n",
    "\n",
    "* The rest in Jupyter notebooks. \n",
    "\n",
    "\n",
    "![](./R_machine.jpg)\n"
   ]
  },
  {
   "cell_type": "markdown",
   "metadata": {},
   "source": [
    "***\n",
    "\n",
    "# Technical setup\n",
    "\n",
    "## Jupyter notebooks\n",
    "\n",
    "* This page is a so-called *Jupyter notebook*. \n",
    "* Some *cells* contain text notes and formulas.\n",
    "* Others cells contain bits of `R` code that you can run one after the other, with any *output* appearing below. \n",
    "* Everything is integrated in one webpage which can be opened in a standard browser (e.g. Chrome, Firefox).\n",
    "\n",
    "## Basic steps to run R code in Jupyter\n",
    "\n",
    "1. Open the Jupyter notebook.\n",
    "2. In the menu above, go to `Cell > All Output > Clear` to erase all code output on the page.\n",
    "3. Run each cell by clicking into it, and pressing `Run` (or `Ctrl + Enter`).\n",
    "4. To run all cells at once, go to `Cell > Run All`.\n",
    "5. If there is an error, you can re-run everything up to a given point by going to `Cell > Run All Above`.\n",
    "\n",
    "\n",
    "Here is a simple example, try it out."
   ]
  },
  {
   "cell_type": "code",
   "execution_count": 1,
   "metadata": {},
   "outputs": [],
   "source": [
    "x <- c(1:10)"
   ]
  },
  {
   "cell_type": "markdown",
   "metadata": {},
   "source": [
    "As usual in `R`, this will not show any output. \n",
    "\n",
    "If you actually want to see the vector as an output, you have to call it."
   ]
  },
  {
   "cell_type": "code",
   "execution_count": 2,
   "metadata": {},
   "outputs": [
    {
     "data": {
      "text/html": [
       "<style>\n",
       ".list-inline {list-style: none; margin:0; padding: 0}\n",
       ".list-inline>li {display: inline-block}\n",
       ".list-inline>li:not(:last-child)::after {content: \"\\00b7\"; padding: 0 .5ex}\n",
       "</style>\n",
       "<ol class=list-inline><li>1</li><li>2</li><li>3</li><li>4</li><li>5</li><li>6</li><li>7</li><li>8</li><li>9</li><li>10</li></ol>\n"
      ],
      "text/latex": [
       "\\begin{enumerate*}\n",
       "\\item 1\n",
       "\\item 2\n",
       "\\item 3\n",
       "\\item 4\n",
       "\\item 5\n",
       "\\item 6\n",
       "\\item 7\n",
       "\\item 8\n",
       "\\item 9\n",
       "\\item 10\n",
       "\\end{enumerate*}\n"
      ],
      "text/markdown": [
       "1. 1\n",
       "2. 2\n",
       "3. 3\n",
       "4. 4\n",
       "5. 5\n",
       "6. 6\n",
       "7. 7\n",
       "8. 8\n",
       "9. 9\n",
       "10. 10\n",
       "\n",
       "\n"
      ],
      "text/plain": [
       " [1]  1  2  3  4  5  6  7  8  9 10"
      ]
     },
     "metadata": {},
     "output_type": "display_data"
    }
   ],
   "source": [
    "x"
   ]
  },
  {
   "cell_type": "code",
   "execution_count": 3,
   "metadata": {},
   "outputs": [
    {
     "data": {
      "text/html": [
       "<style>\n",
       ".list-inline {list-style: none; margin:0; padding: 0}\n",
       ".list-inline>li {display: inline-block}\n",
       ".list-inline>li:not(:last-child)::after {content: \"\\00b7\"; padding: 0 .5ex}\n",
       "</style>\n",
       "<ol class=list-inline><li>1.03377891237828</li><li>2.28285085175457</li><li>-0.569076573719622</li><li>3.81553354386921</li><li>5.55098851831103</li><li>4.06763902281315</li><li>6.05799833113567</li><li>6.7488089691212</li><li>7.93463468055974</li><li>7.98016822829453</li></ol>\n"
      ],
      "text/latex": [
       "\\begin{enumerate*}\n",
       "\\item 1.03377891237828\n",
       "\\item 2.28285085175457\n",
       "\\item -0.569076573719622\n",
       "\\item 3.81553354386921\n",
       "\\item 5.55098851831103\n",
       "\\item 4.06763902281315\n",
       "\\item 6.05799833113567\n",
       "\\item 6.7488089691212\n",
       "\\item 7.93463468055974\n",
       "\\item 7.98016822829453\n",
       "\\end{enumerate*}\n"
      ],
      "text/markdown": [
       "1. 1.03377891237828\n",
       "2. 2.28285085175457\n",
       "3. -0.569076573719622\n",
       "4. 3.81553354386921\n",
       "5. 5.55098851831103\n",
       "6. 4.06763902281315\n",
       "7. 6.05799833113567\n",
       "8. 6.7488089691212\n",
       "9. 7.93463468055974\n",
       "10. 7.98016822829453\n",
       "\n",
       "\n"
      ],
      "text/plain": [
       " [1]  1.0337789  2.2828509 -0.5690766  3.8155335  5.5509885  4.0676390\n",
       " [7]  6.0579983  6.7488090  7.9346347  7.9801682"
      ]
     },
     "metadata": {},
     "output_type": "display_data"
    }
   ],
   "source": [
    "e <- rnorm(10)\n",
    "y <- 0.8*x + e\n",
    "y"
   ]
  },
  {
   "cell_type": "code",
   "execution_count": 4,
   "metadata": {},
   "outputs": [
    {
     "name": "stderr",
     "output_type": "stream",
     "text": [
      "Warning message:\n",
      "\"package 'ggplot2' was built under R version 3.6.3\"\n"
     ]
    },
    {
     "data": {
      "image/png": "[encoded data removed]",
      "text/plain": [
       "plot without title"
      ]
     },
     "metadata": {
      "image/png": {
       "height": 300,
       "width": 480
      }
     },
     "output_type": "display_data"
    }
   ],
   "source": [
    "library(ggplot2)\n",
    "data <- as.data.frame(cbind(x,y))\n",
    "options(repr.plot.width=8, repr.plot.height=5)\n",
    "ggplot(data, aes(x=x, y=y)) + geom_point() + theme_bw(base_size = 20)"
   ]
  },
  {
   "cell_type": "markdown",
   "metadata": {},
   "source": [
    "***\n",
    "\n",
    "## Jupyter notebooks in Binder\n",
    "\n",
    "* The Binder is an online server, which stores the Jupyter notebooks and the data for each session. \n",
    "* The link posted on ADAM connects you to this server directly. \n",
    "\n",
    "https://mybinder.org/v2/gh/verazb/Puma/master/\n",
    "\n",
    "* Binder allows you to run the whole notebook in your browser without ever installing anything on your computer (i.e. you do not even need `R`). \n",
    "\n",
    "### Important remarks\n",
    "* Jupyter and Binder are only teaching tools for the lab sessions, and all relevant materials are posted on ADAM (`R` code, output, etc.). \n",
    "* You will still need a computer with `R` to do the assignments. \n",
    "* New lab materials will be uploaded on Binder shortly before each session. \n",
    "* Changes to the notebooks are **not saved**, so **take notes elsewhere**. \n",
    "* After 10 minutes of inactivity, the notebook has to be reloaded. Reloading it will revert it to its original state.\n",
    "* PDF exports of the notebook are available on ADAM. \n",
    "* Remember that the PCs in S18 dont allow you to permanently store things. Copy all relevant files to an external drive/cloud.\n",
    "\n",
    "\n",
    "If you have any question about the lab sessions, write us an email at `ulrike.unterhofer[at]unibas.ch` or `vera.zabrodina[at]unibas.ch`."
   ]
  },
  {
   "cell_type": "code",
   "execution_count": null,
   "metadata": {},
   "outputs": [],
   "source": []
  }
 ],
 "metadata": {
  "kernelspec": {
   "display_name": "R",
   "language": "R",
   "name": "ir"
  },
  "language_info": {
   "codemirror_mode": "r",
   "file_extension": ".r",
   "mimetype": "text/x-r-source",
   "name": "R",
   "pygments_lexer": "r",
   "version": "3.6.1"
  }
 },
 "nbformat": 4,
 "nbformat_minor": 2
}
