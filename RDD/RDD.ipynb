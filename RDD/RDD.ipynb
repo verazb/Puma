{
 "cells": [
  {
   "cell_type": "markdown",
   "metadata": {},
   "source": [
    "**Applied Empirical Analysis (HS 2020)**\n",
    "\n",
    "**Ulrike Unterhofer and Véra Zabrodina**\n",
    "\n",
    "***\n",
    "\n",
    "# Lab Session 4 - Regression Discontinuity Design (RDD)\n",
    "\n",
    "***\n",
    "\n",
    "Key ingredients for a sharp RDD\n",
    "* Institutional rules imply that treatment probability jumps at cut-off value $\\bar{x}$ of some quasi-continuous covariate $x$.\n",
    "* $x$ is called the assignment, running or forcing variable (or score).\n",
    "* Cut-off is strictly enforced and everyone at one side of the cut-off is subject to the intervention and everyone on the other side is not.\n",
    "\n",
    "$D_i=D(X_i)=\\underline{1}(X_i\\ge\\bar{x})$\n",
    "\n",
    "$Pr(D_i=1|X_i<\\bar{x})=0$ and $Pr(D_i=1|X_i\\ge\\bar{x})=1$\n",
    "\n",
    "* Units around the cut-off are comparable. \n",
    "\n",
    "\n",
    "Note: no overlap in $X_i$ (no common support) between treated and\n",
    "nontreated.\n"
   ]
  },
  {
   "cell_type": "markdown",
   "metadata": {},
   "source": [
    "## Application: Islamic Rule and the Empowerment of the Poor and Pious \n",
    "\n",
    "**Meyersson E. (Econometrica, 2014)**\n",
    "\n",
    "This paper is also discussed and replicated by Cattaneo, Idrobo and Titiunik (2019) (henceforth CIT). See for further details. "
   ]
  },
  {
   "cell_type": "markdown",
   "metadata": {},
   "source": [
    "## 1. Introduction\n",
    "\n",
    "* What is the research question?\n",
    "* Why is it interesting?\n",
    "* What is the treatment? The outcome(s) of interest? \n",
    "* What is the main endogeneity problem?\n",
    "* How does the author solve it? \n"
   ]
  },
  {
   "cell_type": "markdown",
   "metadata": {},
   "source": [
    "***\n",
    "\n",
    "## 2. Identification strategy and assumptions\n",
    "\n",
    "\n",
    "\n",
    "### Setup and notation\n",
    "\n",
    "Plurality system in municipal elections: the party with the highest share of votes wins. \n",
    "\n",
    "Exploit win margin of the Islamic party as a running variable, with 0 as the cutoff. \n",
    "\n",
    "Compare municipalities just above vs. just below the cut-off. \n",
    "\n",
    "\n",
    "* $Y_i$ outcome: high school completion rates among women\n",
    "* $X_i$ running variable (not covariates!): win margin \n",
    "* $D_i$ treatment : Islamic rule \n",
    "    * Treated group ($D_i = 1$): municipalities where the Islamic party ruled.\n",
    "    * Control group ($D_i = 0$): municipalities where another secular party ruled. \n",
    "\n",
    "\n",
    "\n",
    "### Discussion of assumptions\n",
    "\n",
    "* What do these assumptions mean in words?\n",
    "* What could invalidate them? Think of concrete examples or mechanisms.\n",
    "* Which arguments or empirical evidence can you provide to support that they hold?\n",
    "\n",
    "\n",
    "**A1: Stable unit treatment value assumption (SUTVA)**\n",
    "\n",
    "$Y_{i}=D_{i}Y^*_{1,i}+(1-D_{i})Y^*_{0,i}$\n",
    "\n",
    "**A2: Local continuity**\n",
    "\n",
    "$E[Y^*_{0,i}|X_i=x]$ and $E[Y^*_{1,i}|X_i=x]$ are continuous in $x$ at $\\bar{x}$\n",
    "\n",
    "No manupulation???\n",
    "\n",
    "\n"
   ]
  },
  {
   "cell_type": "markdown",
   "metadata": {},
   "source": [
    "***\n",
    "\n",
    "## 3. Data\n",
    "\n",
    "* What is the unit of observation? -- Aggregate data on municipalities.  \n",
    "\n",
    "* What is the time unit? -- In some years.\n",
    "\n",
    "* Is the running variable precisely measured? -- Yes. \n",
    "\n",
    "\n",
    "\n",
    "|variable name |   description |\n",
    "|----:|----:|\n",
    "| X              | Islamic Margin of Victory |\n",
    "| Y              | Female High School percentage |\n",
    "| D              | Islamic rule |\n",
    "| ageshr19       | Percentage of population below 19 in 2000 |\n",
    "| ageshr60       | Percentage of population above 60 in 2000 |\n",
    "| buyuk          | Metro center |\n",
    "| hischshr1520m  | Percentage of men aged 15-20 with high school education |\n",
    "| i89            | Islamic Mayor in 1989 |\n",
    "| lpop1994       | Log population in 1994 |\n",
    "| merkezi        | District center |\n",
    "| merkezp        | Province center |\n",
    "| partycount     | Number of parties receiving votes 1994 |\n",
    "| prov_num       | Province number    |\n",
    "| sexr           | Gender ratio in 2000 |\n",
    "| shhs           | Household size in 2000 |\n",
    "| subbuyuk       | Sub-metro center |\n",
    "| vshr_islam1994 | Islamic percentage of votes in 1994 |"
   ]
  },
  {
   "cell_type": "markdown",
   "metadata": {},
   "source": [
    "***\n",
    "\n",
    "## Load packages"
   ]
  },
  {
   "cell_type": "code",
   "execution_count": 38,
   "metadata": {},
   "outputs": [
    {
     "name": "stderr",
     "output_type": "stream",
     "text": [
      "Loading required package: tidyverse\n",
      "\n",
      "Warning message:\n",
      "\"package 'tidyverse' was built under R version 3.6.3\"\n",
      "Error: package or namespace load failed for 'tidyverse' in loadNamespace(j <- i[[1L]], c(lib.loc, .libPaths()), versionCheck = vI[[j]]):\n",
      " namespace 'tibble' 2.1.3 is already loaded, but >= 3.0.0 is required\n",
      "\n"
     ]
    },
    {
     "data": {
      "text/html": [
       "<ol>\n",
       "\t<li>FALSE</li>\n",
       "\t<li>TRUE</li>\n",
       "\t<li>TRUE</li>\n",
       "\t<li>TRUE</li>\n",
       "\t<li>TRUE</li>\n",
       "\t<li>TRUE</li>\n",
       "\t<li>TRUE</li>\n",
       "\t<li>TRUE</li>\n",
       "\t<li>TRUE</li>\n",
       "\t<li>TRUE</li>\n",
       "\t<li>TRUE</li>\n",
       "\t<li>TRUE</li>\n",
       "\t<li>TRUE</li>\n",
       "\t<li>TRUE</li>\n",
       "\t<li>TRUE</li>\n",
       "\t<li>TRUE</li>\n",
       "\t<li>TRUE</li>\n",
       "\t<li>TRUE</li>\n",
       "\t<li>TRUE</li>\n",
       "\t<li>TRUE</li>\n",
       "\t<li>TRUE</li>\n",
       "\t<li>TRUE</li>\n",
       "\t<li>TRUE</li>\n",
       "</ol>\n"
      ],
      "text/latex": [
       "\\begin{enumerate}\n",
       "\\item FALSE\n",
       "\\item TRUE\n",
       "\\item TRUE\n",
       "\\item TRUE\n",
       "\\item TRUE\n",
       "\\item TRUE\n",
       "\\item TRUE\n",
       "\\item TRUE\n",
       "\\item TRUE\n",
       "\\item TRUE\n",
       "\\item TRUE\n",
       "\\item TRUE\n",
       "\\item TRUE\n",
       "\\item TRUE\n",
       "\\item TRUE\n",
       "\\item TRUE\n",
       "\\item TRUE\n",
       "\\item TRUE\n",
       "\\item TRUE\n",
       "\\item TRUE\n",
       "\\item TRUE\n",
       "\\item TRUE\n",
       "\\item TRUE\n",
       "\\end{enumerate}\n"
      ],
      "text/markdown": [
       "1. FALSE\n",
       "2. TRUE\n",
       "3. TRUE\n",
       "4. TRUE\n",
       "5. TRUE\n",
       "6. TRUE\n",
       "7. TRUE\n",
       "8. TRUE\n",
       "9. TRUE\n",
       "10. TRUE\n",
       "11. TRUE\n",
       "12. TRUE\n",
       "13. TRUE\n",
       "14. TRUE\n",
       "15. TRUE\n",
       "16. TRUE\n",
       "17. TRUE\n",
       "18. TRUE\n",
       "19. TRUE\n",
       "20. TRUE\n",
       "21. TRUE\n",
       "22. TRUE\n",
       "23. TRUE\n",
       "\n",
       "\n"
      ],
      "text/plain": [
       "[[1]]\n",
       "[1] FALSE\n",
       "\n",
       "[[2]]\n",
       "[1] TRUE\n",
       "\n",
       "[[3]]\n",
       "[1] TRUE\n",
       "\n",
       "[[4]]\n",
       "[1] TRUE\n",
       "\n",
       "[[5]]\n",
       "[1] TRUE\n",
       "\n",
       "[[6]]\n",
       "[1] TRUE\n",
       "\n",
       "[[7]]\n",
       "[1] TRUE\n",
       "\n",
       "[[8]]\n",
       "[1] TRUE\n",
       "\n",
       "[[9]]\n",
       "[1] TRUE\n",
       "\n",
       "[[10]]\n",
       "[1] TRUE\n",
       "\n",
       "[[11]]\n",
       "[1] TRUE\n",
       "\n",
       "[[12]]\n",
       "[1] TRUE\n",
       "\n",
       "[[13]]\n",
       "[1] TRUE\n",
       "\n",
       "[[14]]\n",
       "[1] TRUE\n",
       "\n",
       "[[15]]\n",
       "[1] TRUE\n",
       "\n",
       "[[16]]\n",
       "[1] TRUE\n",
       "\n",
       "[[17]]\n",
       "[1] TRUE\n",
       "\n",
       "[[18]]\n",
       "[1] TRUE\n",
       "\n",
       "[[19]]\n",
       "[1] TRUE\n",
       "\n",
       "[[20]]\n",
       "[1] TRUE\n",
       "\n",
       "[[21]]\n",
       "[1] TRUE\n",
       "\n",
       "[[22]]\n",
       "[1] TRUE\n",
       "\n",
       "[[23]]\n",
       "[1] TRUE\n"
      ]
     },
     "metadata": {},
     "output_type": "display_data"
    },
    {
     "data": {
      "text/html": [
       "<ol>\n",
       "\t<li>TRUE</li>\n",
       "\t<li>TRUE</li>\n",
       "\t<li>TRUE</li>\n",
       "\t<li>TRUE</li>\n",
       "\t<li>TRUE</li>\n",
       "\t<li>TRUE</li>\n",
       "\t<li>TRUE</li>\n",
       "\t<li>TRUE</li>\n",
       "</ol>\n"
      ],
      "text/latex": [
       "\\begin{enumerate}\n",
       "\\item TRUE\n",
       "\\item TRUE\n",
       "\\item TRUE\n",
       "\\item TRUE\n",
       "\\item TRUE\n",
       "\\item TRUE\n",
       "\\item TRUE\n",
       "\\item TRUE\n",
       "\\end{enumerate}\n"
      ],
      "text/markdown": [
       "1. TRUE\n",
       "2. TRUE\n",
       "3. TRUE\n",
       "4. TRUE\n",
       "5. TRUE\n",
       "6. TRUE\n",
       "7. TRUE\n",
       "8. TRUE\n",
       "\n",
       "\n"
      ],
      "text/plain": [
       "[[1]]\n",
       "[1] TRUE\n",
       "\n",
       "[[2]]\n",
       "[1] TRUE\n",
       "\n",
       "[[3]]\n",
       "[1] TRUE\n",
       "\n",
       "[[4]]\n",
       "[1] TRUE\n",
       "\n",
       "[[5]]\n",
       "[1] TRUE\n",
       "\n",
       "[[6]]\n",
       "[1] TRUE\n",
       "\n",
       "[[7]]\n",
       "[1] TRUE\n",
       "\n",
       "[[8]]\n",
       "[1] TRUE\n"
      ]
     },
     "metadata": {},
     "output_type": "display_data"
    },
    {
     "data": {
      "text/html": [
       "<style>\n",
       ".list-inline {list-style: none; margin:0; padding: 0}\n",
       ".list-inline>li {display: inline-block}\n",
       ".list-inline>li:not(:last-child)::after {content: \"\\00b7\"; padding: 0 .5ex}\n",
       "</style>\n",
       "<ol class=list-inline><li>'TeachingDemos'</li><li>'rdrobust'</li><li>'rdlocrand'</li><li>'rddensity'</li><li>'lpdensity'</li><li>'grid'</li><li>'jtools'</li><li>'mfx'</li><li>'betareg'</li><li>'MASS'</li><li>'stargazer'</li><li>'arsenal'</li><li>'lubridate'</li><li>'data.table'</li><li>'sjlabelled'</li><li>'xtable'</li><li>'knitr'</li><li>'fBasics'</li><li>'timeSeries'</li><li>'timeDate'</li><li>'psych'</li><li>'fastDummies'</li><li>'expss'</li><li>'lmtest'</li><li>'zoo'</li><li>'sandwich'</li><li>'dummies'</li><li>'stringr'</li><li>'tidyr'</li><li>'dplyr'</li><li>'Hmisc'</li><li>'ggplot2'</li><li>'Formula'</li><li>'survival'</li><li>'lattice'</li><li>'haven'</li><li>'foreign'</li><li>'stats'</li><li>'graphics'</li><li>'grDevices'</li><li>'utils'</li><li>'datasets'</li><li>'methods'</li><li>'base'</li></ol>\n"
      ],
      "text/latex": [
       "\\begin{enumerate*}\n",
       "\\item 'TeachingDemos'\n",
       "\\item 'rdrobust'\n",
       "\\item 'rdlocrand'\n",
       "\\item 'rddensity'\n",
       "\\item 'lpdensity'\n",
       "\\item 'grid'\n",
       "\\item 'jtools'\n",
       "\\item 'mfx'\n",
       "\\item 'betareg'\n",
       "\\item 'MASS'\n",
       "\\item 'stargazer'\n",
       "\\item 'arsenal'\n",
       "\\item 'lubridate'\n",
       "\\item 'data.table'\n",
       "\\item 'sjlabelled'\n",
       "\\item 'xtable'\n",
       "\\item 'knitr'\n",
       "\\item 'fBasics'\n",
       "\\item 'timeSeries'\n",
       "\\item 'timeDate'\n",
       "\\item 'psych'\n",
       "\\item 'fastDummies'\n",
       "\\item 'expss'\n",
       "\\item 'lmtest'\n",
       "\\item 'zoo'\n",
       "\\item 'sandwich'\n",
       "\\item 'dummies'\n",
       "\\item 'stringr'\n",
       "\\item 'tidyr'\n",
       "\\item 'dplyr'\n",
       "\\item 'Hmisc'\n",
       "\\item 'ggplot2'\n",
       "\\item 'Formula'\n",
       "\\item 'survival'\n",
       "\\item 'lattice'\n",
       "\\item 'haven'\n",
       "\\item 'foreign'\n",
       "\\item 'stats'\n",
       "\\item 'graphics'\n",
       "\\item 'grDevices'\n",
       "\\item 'utils'\n",
       "\\item 'datasets'\n",
       "\\item 'methods'\n",
       "\\item 'base'\n",
       "\\end{enumerate*}\n"
      ],
      "text/markdown": [
       "1. 'TeachingDemos'\n",
       "2. 'rdrobust'\n",
       "3. 'rdlocrand'\n",
       "4. 'rddensity'\n",
       "5. 'lpdensity'\n",
       "6. 'grid'\n",
       "7. 'jtools'\n",
       "8. 'mfx'\n",
       "9. 'betareg'\n",
       "10. 'MASS'\n",
       "11. 'stargazer'\n",
       "12. 'arsenal'\n",
       "13. 'lubridate'\n",
       "14. 'data.table'\n",
       "15. 'sjlabelled'\n",
       "16. 'xtable'\n",
       "17. 'knitr'\n",
       "18. 'fBasics'\n",
       "19. 'timeSeries'\n",
       "20. 'timeDate'\n",
       "21. 'psych'\n",
       "22. 'fastDummies'\n",
       "23. 'expss'\n",
       "24. 'lmtest'\n",
       "25. 'zoo'\n",
       "26. 'sandwich'\n",
       "27. 'dummies'\n",
       "28. 'stringr'\n",
       "29. 'tidyr'\n",
       "30. 'dplyr'\n",
       "31. 'Hmisc'\n",
       "32. 'ggplot2'\n",
       "33. 'Formula'\n",
       "34. 'survival'\n",
       "35. 'lattice'\n",
       "36. 'haven'\n",
       "37. 'foreign'\n",
       "38. 'stats'\n",
       "39. 'graphics'\n",
       "40. 'grDevices'\n",
       "41. 'utils'\n",
       "42. 'datasets'\n",
       "43. 'methods'\n",
       "44. 'base'\n",
       "\n",
       "\n"
      ],
      "text/plain": [
       " [1] \"TeachingDemos\" \"rdrobust\"      \"rdlocrand\"     \"rddensity\"    \n",
       " [5] \"lpdensity\"     \"grid\"          \"jtools\"        \"mfx\"          \n",
       " [9] \"betareg\"       \"MASS\"          \"stargazer\"     \"arsenal\"      \n",
       "[13] \"lubridate\"     \"data.table\"    \"sjlabelled\"    \"xtable\"       \n",
       "[17] \"knitr\"         \"fBasics\"       \"timeSeries\"    \"timeDate\"     \n",
       "[21] \"psych\"         \"fastDummies\"   \"expss\"         \"lmtest\"       \n",
       "[25] \"zoo\"           \"sandwich\"      \"dummies\"       \"stringr\"      \n",
       "[29] \"tidyr\"         \"dplyr\"         \"Hmisc\"         \"ggplot2\"      \n",
       "[33] \"Formula\"       \"survival\"      \"lattice\"       \"haven\"        \n",
       "[37] \"foreign\"       \"stats\"         \"graphics\"      \"grDevices\"    \n",
       "[41] \"utils\"         \"datasets\"      \"methods\"       \"base\"         "
      ]
     },
     "metadata": {},
     "output_type": "display_data"
    },
    {
     "name": "stdout",
     "output_type": "stream",
     "text": [
      "[1] \"All packages successfully installed and loaded.\"\n"
     ]
    }
   ],
   "source": [
    "########################  Load Packages  ########################\n",
    "\n",
    "# List of required packages\n",
    "packages_vector <- c(\"tidyverse\", \"foreign\", \"haven\", \"Hmisc\", \"dplyr\", \"tidyr\", \"stringr\", \"dummies\", \"sandwich\", \"lmtest\",\n",
    "     \"expss\", \"fastDummies\", \"psych\", \"fBasics\", \"knitr\", \"xtable\", \"sjlabelled\", \"data.table\", \"lubridate\", \"arsenal\", \"stargazer\", \"mfx\", \"jtools\")\n",
    "lapply(packages_vector, require, character.only = TRUE) \n",
    "\n",
    "# RDD-specific packages \n",
    "packaged_vector_rdd <- c(\"foreign\", \"ggplot2\", \"grid\", \"lpdensity\", \"rddensity\", \"rdlocrand\", \"rdrobust\", \"TeachingDemos\")\n",
    "lapply(packaged_vector_rdd, require, character.only = TRUE) \n",
    "\n",
    "# List loaded packages \n",
    "(.packages())\n",
    "\n",
    "print('All packages successfully installed and loaded.')"
   ]
  },
  {
   "cell_type": "markdown",
   "metadata": {},
   "source": [
    "## Load data "
   ]
  },
  {
   "cell_type": "code",
   "execution_count": 39,
   "metadata": {},
   "outputs": [
    {
     "data": {
      "text/html": [
       "<table>\n",
       "<caption>A data.frame: 6 × 17</caption>\n",
       "<thead>\n",
       "\t<tr><th></th><th scope=col>X</th><th scope=col>Y</th><th scope=col>D</th><th scope=col>ageshr19</th><th scope=col>ageshr60</th><th scope=col>buyuk</th><th scope=col>hischshr1520m</th><th scope=col>i89</th><th scope=col>lpop1994</th><th scope=col>merkezi</th><th scope=col>merkezp</th><th scope=col>partycount</th><th scope=col>prov_num</th><th scope=col>sexr</th><th scope=col>shhs</th><th scope=col>subbuyuk</th><th scope=col>vshr_islam1994</th></tr>\n",
       "\t<tr><th></th><th scope=col>&lt;dbl&gt;</th><th scope=col>&lt;dbl&gt;</th><th scope=col>&lt;dbl&gt;</th><th scope=col>&lt;dbl&gt;</th><th scope=col>&lt;dbl&gt;</th><th scope=col>&lt;dbl&gt;</th><th scope=col>&lt;dbl&gt;</th><th scope=col>&lt;dbl&gt;</th><th scope=col>&lt;dbl&gt;</th><th scope=col>&lt;dbl&gt;</th><th scope=col>&lt;dbl&gt;</th><th scope=col>&lt;dbl&gt;</th><th scope=col>&lt;dbl+lbl&gt;</th><th scope=col>&lt;dbl&gt;</th><th scope=col>&lt;dbl&gt;</th><th scope=col>&lt;dbl&gt;</th><th scope=col>&lt;dbl&gt;</th></tr>\n",
       "</thead>\n",
       "<tbody>\n",
       "\t<tr><th scope=row>1</th><td>-35.60663</td><td>22.96296</td><td>0</td><td>42.20857</td><td>7.506742</td><td>0</td><td>37.93103</td><td> 0</td><td> 7.996990</td><td>1</td><td>0</td><td> 6</td><td>1</td><td> 97.74815</td><td>4.670399</td><td>0</td><td> 1.5448381</td></tr>\n",
       "\t<tr><th scope=row>2</th><td>-54.34782</td><td>25.43860</td><td>0</td><td>44.09879</td><td>6.340537</td><td>0</td><td>30.89005</td><td> 0</td><td> 7.362645</td><td>0</td><td>0</td><td> 4</td><td>1</td><td>112.03424</td><td>6.813916</td><td>0</td><td> 2.5135870</td></tr>\n",
       "\t<tr><th scope=row>3</th><td>-20.40923</td><td>22.68273</td><td>0</td><td>43.54768</td><td>5.539970</td><td>1</td><td>22.62840</td><td> 0</td><td>13.175261</td><td>1</td><td>0</td><td>14</td><td>1</td><td> 97.46254</td><td>4.389300</td><td>0</td><td>11.1114979</td></tr>\n",
       "\t<tr><th scope=row>4</th><td>-44.97206</td><td>15.85366</td><td>0</td><td>43.86755</td><td>6.649007</td><td>0</td><td>17.11712</td><td> 0</td><td> 7.623153</td><td>0</td><td>0</td><td> 6</td><td>1</td><td>102.52145</td><td>5.510949</td><td>0</td><td> 5.5865922</td></tr>\n",
       "\t<tr><th scope=row>5</th><td>-20.11494</td><td>18.23899</td><td>0</td><td>41.81067</td><td>5.447032</td><td>0</td><td>17.31343</td><td> 0</td><td> 7.647786</td><td>0</td><td>0</td><td> 7</td><td>1</td><td>118.10733</td><td>6.234192</td><td>0</td><td>10.1880875</td></tr>\n",
       "\t<tr><th scope=row>6</th><td>-50.58997</td><td>25.00000</td><td>0</td><td>40.53058</td><td>6.963891</td><td>0</td><td>26.56250</td><td>NA</td><td> 7.312553</td><td>0</td><td>0</td><td> 5</td><td>1</td><td>101.78439</td><td>6.004425</td><td>0</td><td> 0.5899705</td></tr>\n",
       "</tbody>\n",
       "</table>\n"
      ],
      "text/latex": [
       "A data.frame: 6 × 17\n",
       "\\begin{tabular}{r|lllllllllllllllll}\n",
       "  & X & Y & D & ageshr19 & ageshr60 & buyuk & hischshr1520m & i89 & lpop1994 & merkezi & merkezp & partycount & prov\\_num & sexr & shhs & subbuyuk & vshr\\_islam1994\\\\\n",
       "  & <dbl> & <dbl> & <dbl> & <dbl> & <dbl> & <dbl> & <dbl> & <dbl> & <dbl> & <dbl> & <dbl> & <dbl> & <dbl+lbl> & <dbl> & <dbl> & <dbl> & <dbl>\\\\\n",
       "\\hline\n",
       "\t1 & -35.60663 & 22.96296 & 0 & 42.20857 & 7.506742 & 0 & 37.93103 &  0 &  7.996990 & 1 & 0 &  6 & 1 &  97.74815 & 4.670399 & 0 &  1.5448381\\\\\n",
       "\t2 & -54.34782 & 25.43860 & 0 & 44.09879 & 6.340537 & 0 & 30.89005 &  0 &  7.362645 & 0 & 0 &  4 & 1 & 112.03424 & 6.813916 & 0 &  2.5135870\\\\\n",
       "\t3 & -20.40923 & 22.68273 & 0 & 43.54768 & 5.539970 & 1 & 22.62840 &  0 & 13.175261 & 1 & 0 & 14 & 1 &  97.46254 & 4.389300 & 0 & 11.1114979\\\\\n",
       "\t4 & -44.97206 & 15.85366 & 0 & 43.86755 & 6.649007 & 0 & 17.11712 &  0 &  7.623153 & 0 & 0 &  6 & 1 & 102.52145 & 5.510949 & 0 &  5.5865922\\\\\n",
       "\t5 & -20.11494 & 18.23899 & 0 & 41.81067 & 5.447032 & 0 & 17.31343 &  0 &  7.647786 & 0 & 0 &  7 & 1 & 118.10733 & 6.234192 & 0 & 10.1880875\\\\\n",
       "\t6 & -50.58997 & 25.00000 & 0 & 40.53058 & 6.963891 & 0 & 26.56250 & NA &  7.312553 & 0 & 0 &  5 & 1 & 101.78439 & 6.004425 & 0 &  0.5899705\\\\\n",
       "\\end{tabular}\n"
      ],
      "text/markdown": [
       "\n",
       "A data.frame: 6 × 17\n",
       "\n",
       "| <!--/--> | X &lt;dbl&gt; | Y &lt;dbl&gt; | D &lt;dbl&gt; | ageshr19 &lt;dbl&gt; | ageshr60 &lt;dbl&gt; | buyuk &lt;dbl&gt; | hischshr1520m &lt;dbl&gt; | i89 &lt;dbl&gt; | lpop1994 &lt;dbl&gt; | merkezi &lt;dbl&gt; | merkezp &lt;dbl&gt; | partycount &lt;dbl&gt; | prov_num &lt;dbl+lbl&gt; | sexr &lt;dbl&gt; | shhs &lt;dbl&gt; | subbuyuk &lt;dbl&gt; | vshr_islam1994 &lt;dbl&gt; |\n",
       "|---|---|---|---|---|---|---|---|---|---|---|---|---|---|---|---|---|---|\n",
       "| 1 | -35.60663 | 22.96296 | 0 | 42.20857 | 7.506742 | 0 | 37.93103 |  0 |  7.996990 | 1 | 0 |  6 | 1 |  97.74815 | 4.670399 | 0 |  1.5448381 |\n",
       "| 2 | -54.34782 | 25.43860 | 0 | 44.09879 | 6.340537 | 0 | 30.89005 |  0 |  7.362645 | 0 | 0 |  4 | 1 | 112.03424 | 6.813916 | 0 |  2.5135870 |\n",
       "| 3 | -20.40923 | 22.68273 | 0 | 43.54768 | 5.539970 | 1 | 22.62840 |  0 | 13.175261 | 1 | 0 | 14 | 1 |  97.46254 | 4.389300 | 0 | 11.1114979 |\n",
       "| 4 | -44.97206 | 15.85366 | 0 | 43.86755 | 6.649007 | 0 | 17.11712 |  0 |  7.623153 | 0 | 0 |  6 | 1 | 102.52145 | 5.510949 | 0 |  5.5865922 |\n",
       "| 5 | -20.11494 | 18.23899 | 0 | 41.81067 | 5.447032 | 0 | 17.31343 |  0 |  7.647786 | 0 | 0 |  7 | 1 | 118.10733 | 6.234192 | 0 | 10.1880875 |\n",
       "| 6 | -50.58997 | 25.00000 | 0 | 40.53058 | 6.963891 | 0 | 26.56250 | NA |  7.312553 | 0 | 0 |  5 | 1 | 101.78439 | 6.004425 | 0 |  0.5899705 |\n",
       "\n"
      ],
      "text/plain": [
       "  X         Y        D ageshr19 ageshr60 buyuk hischshr1520m i89 lpop1994 \n",
       "1 -35.60663 22.96296 0 42.20857 7.506742 0     37.93103       0   7.996990\n",
       "2 -54.34782 25.43860 0 44.09879 6.340537 0     30.89005       0   7.362645\n",
       "3 -20.40923 22.68273 0 43.54768 5.539970 1     22.62840       0  13.175261\n",
       "4 -44.97206 15.85366 0 43.86755 6.649007 0     17.11712       0   7.623153\n",
       "5 -20.11494 18.23899 0 41.81067 5.447032 0     17.31343       0   7.647786\n",
       "6 -50.58997 25.00000 0 40.53058 6.963891 0     26.56250      NA   7.312553\n",
       "  merkezi merkezp partycount prov_num sexr      shhs     subbuyuk\n",
       "1 1       0        6         1         97.74815 4.670399 0       \n",
       "2 0       0        4         1        112.03424 6.813916 0       \n",
       "3 1       0       14         1         97.46254 4.389300 0       \n",
       "4 0       0        6         1        102.52145 5.510949 0       \n",
       "5 0       0        7         1        118.10733 6.234192 0       \n",
       "6 0       0        5         1        101.78439 6.004425 0       \n",
       "  vshr_islam1994\n",
       "1  1.5448381    \n",
       "2  2.5135870    \n",
       "3 11.1114979    \n",
       "4  5.5865922    \n",
       "5 10.1880875    \n",
       "6  0.5899705    "
      ]
     },
     "metadata": {},
     "output_type": "display_data"
    },
    {
     "name": "stderr",
     "output_type": "stream",
     "text": [
      "The following objects are masked from data (pos = 3):\n",
      "\n",
      "    ageshr19, ageshr60, buyuk, D, hischshr1520m, i89, lpop1994,\n",
      "    merkezi, merkezp, partycount, prov_num, sexr, shhs, subbuyuk,\n",
      "    vshr_islam1994, X, Y\n",
      "\n",
      "\n",
      "The following objects are masked from data (pos = 4):\n",
      "\n",
      "    ageshr19, ageshr60, buyuk, D, hischshr1520m, i89, lpop1994,\n",
      "    merkezi, merkezp, partycount, prov_num, sexr, shhs, subbuyuk,\n",
      "    vshr_islam1994, X, Y\n",
      "\n",
      "\n"
     ]
    }
   ],
   "source": [
    "# Load data frame\n",
    "data <-as.data.frame(read_dta(\"data_meyersson.dta\"))\n",
    "\n",
    "# Inspect data\n",
    "head(data)\n",
    "\n",
    "# Vector with all variable names\n",
    "varnames <- colnames(data)\n",
    "\n",
    "# Store each variable in own R object\n",
    "attach(data)\n",
    "\n",
    "# Options for RD plots\n",
    "# options(width=280)\n",
    "par(mar = rep(2, 4))\n",
    "xlabel <- \"Islamic Margin of Victory\"\n",
    "ylabel <- \"Female High School percentage\"\n",
    "dlabel <- \"Islamic rule\"\n",
    "\n",
    "options(repr.plot.width=4, repr.plot.height=3, repr.plot.res = 300)"
   ]
  },
  {
   "cell_type": "markdown",
   "metadata": {},
   "source": [
    "***\n",
    "\n",
    "## Descriptive statistics and validity checks"
   ]
  },
  {
   "cell_type": "markdown",
   "metadata": {},
   "source": [
    "### Summary statistics by treatment group"
   ]
  },
  {
   "cell_type": "code",
   "execution_count": 40,
   "metadata": {},
   "outputs": [
    {
     "data": {
      "text/html": [
       "<table class='gmisc_table' style='border-collapse: collapse; margin-top: 1em; margin-bottom: 1em;' >\n",
       "<thead>\n",
       "<tr>\n",
       "<th style='font-weight: 900; border-bottom: 1px solid grey; border-top: 2px solid grey; text-align: center;'></th>\n",
       "<th style='border-bottom: 1px solid grey; border-top: 2px solid grey; text-align: center;'></th>\n",
       "<th style='border-bottom: 1px solid grey; border-top: 2px solid grey; text-align: center;'>&nbsp;#Total&nbsp;</th>\n",
       "</tr>\n",
       "</thead>\n",
       "<tbody>\n",
       "<tr>\n",
       "<td style='text-align: left;'>&nbsp;Islamic rule&nbsp;</td>\n",
       "<td style='text-align: left;'>&nbsp;0&nbsp;</td>\n",
       "<td style='text-align: right;'>2314</td>\n",
       "</tr>\n",
       "<tr>\n",
       "<td style='text-align: left;'></td>\n",
       "<td style='text-align: left;'>&nbsp;1&nbsp;</td>\n",
       "<td style='text-align: right;'>315</td>\n",
       "</tr>\n",
       "<tr>\n",
       "<td style='border-bottom: 2px solid grey; text-align: left;'></td>\n",
       "<td style='border-bottom: 2px solid grey; text-align: left;'>&nbsp;#Total cases&nbsp;</td>\n",
       "<td style='border-bottom: 2px solid grey; text-align: right;'>2629</td>\n",
       "</tr>\n",
       "</tbody>\n",
       "</table>"
      ],
      "text/latex": [
       "A etable: 3 × 2\n",
       "\\begin{tabular}{ll}\n",
       " row\\_labels & \\#Total\\\\\n",
       " <chr> & <dbl>\\\\\n",
       "\\hline\n",
       "\t Islamic rule\\textbar{}0            & 2314\\\\\n",
       "\t Islamic rule\\textbar{}1            &  315\\\\\n",
       "\t Islamic rule\\textbar{}\\#Total cases & 2629\\\\\n",
       "\\end{tabular}\n"
      ],
      "text/markdown": [
       "\n",
       "A etable: 3 × 2\n",
       "\n",
       "| row_labels &lt;chr&gt; | #Total &lt;dbl&gt; |\n",
       "|---|---|\n",
       "| Islamic rule|0            | 2314 |\n",
       "| Islamic rule|1            |  315 |\n",
       "| Islamic rule|#Total cases | 2629 |\n",
       "\n"
      ],
      "text/plain": [
       "                                         \n",
       " |              |              | #Total |\n",
       " | ------------ | ------------ | ------ |\n",
       " | Islamic rule |            0 |   2314 |\n",
       " |              |            1 |    315 |\n",
       " |              | #Total cases |   2629 |"
      ]
     },
     "metadata": {},
     "output_type": "display_data"
    },
    {
     "name": "stdout",
     "output_type": "stream",
     "text": [
      "                 Mean Stdev Minimum Maximum nobs NAs\n",
      "X              -28.14 22.11 -100.00   99.05 2629   0\n",
      "Y               16.31  9.58    0.00   68.04 2629   0\n",
      "D                0.12  0.32    0.00    1.00 2629   0\n",
      "ageshr19        40.51  8.30    6.54   68.76 2629   0\n",
      "ageshr60         9.22  3.96    1.66   27.23 2629   0\n",
      "buyuk            0.01  0.08    0.00    1.00 2629   0\n",
      "hischshr1520m   19.24  7.74    0.00   68.31 2629   0\n",
      "i89              0.04  0.19    0.00    1.00 2629 721\n",
      "lpop1994         7.84  1.19    5.49   15.34 2629   0\n",
      "merkezi          0.34  0.48    0.00    1.00 2629   0\n",
      "merkezp          0.02  0.15    0.00    1.00 2629   0\n",
      "partycount       5.54  2.19    1.00   14.00 2629   0\n",
      "prov_num        41.18 22.90    1.00   81.00 2629   0\n",
      "sexr           107.32 25.29   74.99 1033.64 2629   0\n",
      "shhs             5.84  2.36    2.82   33.63 2629   0\n",
      "subbuyuk         0.02  0.15    0.00    1.00 2629   0\n",
      "vshr_islam1994  13.87 15.38    0.00   99.53 2629   0\n"
     ]
    }
   ],
   "source": [
    "# Number of treated and control\n",
    "cro(D)\n",
    "\n",
    "# Table 1 in Meyersson\n",
    "# Summary statistics - Pooled \n",
    "desc <- fBasics::basicStats(data) %>% t() %>% as.data.frame() %>% \n",
    "            dplyr::select(Mean, Stdev, Minimum, Maximum, nobs, NAs)\n",
    "print(round(desc, digits=2))"
   ]
  },
  {
   "cell_type": "code",
   "execution_count": 41,
   "metadata": {},
   "outputs": [
    {
     "name": "stdout",
     "output_type": "stream",
     "text": [
      "                 Mean Stdev Minimum Maximum nobs NAs\n",
      "X               10.27 10.73    0.05   99.05  315   0\n",
      "Y               14.04  9.02    0.00   48.09  315   0\n",
      "D                1.00  0.00    1.00    1.00  315   0\n",
      "ageshr19        44.53  7.54   27.24   67.85  315   0\n",
      "ageshr60         7.27  3.11    2.47   24.19  315   0\n",
      "buyuk            0.02  0.14    0.00    1.00  315   0\n",
      "hischshr1520m   19.61  7.64    2.22   40.82  315   0\n",
      "i89              0.15  0.36    0.00    1.00  315  90\n",
      "lpop1994         8.32  1.77    5.49   15.34  315   0\n",
      "merkezi          0.39  0.49    0.00    1.00  315   0\n",
      "merkezp          0.07  0.25    0.00    1.00  315   0\n",
      "partycount       5.89  3.02    2.00   14.00  315   0\n",
      "prov_num        42.70 21.34    1.00   80.00  315   0\n",
      "sexr           107.62 11.71   78.03  165.55  315   0\n",
      "shhs             6.44  2.15    3.37   14.36  315   0\n",
      "subbuyuk         0.08  0.27    0.00    1.00  315   0\n",
      "vshr_islam1994  41.45 11.43   18.97   99.53  315   0\n"
     ]
    }
   ],
   "source": [
    "# Summary statistics - Treated \n",
    "desc_treat <- dplyr::filter(data, D==1) %>% fBasics::basicStats() %>% t() %>% \n",
    "        as.data.frame() %>% dplyr::select(Mean, Stdev, Minimum, Maximum, nobs, NAs)\n",
    "print(round(desc_treat, digits=2))"
   ]
  },
  {
   "cell_type": "code",
   "execution_count": 42,
   "metadata": {},
   "outputs": [
    {
     "name": "stdout",
     "output_type": "stream",
     "text": [
      "                 Mean Stdev Minimum Maximum nobs NAs\n",
      "X              -33.37 17.65 -100.00   -0.10 2314   0\n",
      "Y               16.61  9.62    0.00   68.04 2314   0\n",
      "D                0.00  0.00    0.00    0.00 2314   0\n",
      "ageshr19        39.96  8.25    6.54   68.76 2314   0\n",
      "ageshr60         9.49  3.99    1.66   27.23 2314   0\n",
      "buyuk            0.00  0.06    0.00    1.00 2314   0\n",
      "hischshr1520m   19.19  7.75    0.00   68.31 2314   0\n",
      "i89              0.02  0.14    0.00    1.00 2314 631\n",
      "lpop1994         7.77  1.07    5.85   14.04 2314   0\n",
      "merkezi          0.34  0.47    0.00    1.00 2314   0\n",
      "merkezp          0.02  0.13    0.00    1.00 2314   0\n",
      "partycount       5.49  2.05    1.00   14.00 2314   0\n",
      "prov_num        40.97 23.11    1.00   81.00 2314   0\n",
      "sexr           107.28 26.61   74.99 1033.64 2314   0\n",
      "shhs             5.75  2.38    2.82   33.63 2314   0\n",
      "subbuyuk         0.01  0.12    0.00    1.00 2314   0\n",
      "vshr_islam1994  10.12 11.55    0.00   49.79 2314   0\n"
     ]
    }
   ],
   "source": [
    "# Summary statistics - Control \n",
    "desc_control <- dplyr::filter(data, D==0) %>% fBasics::basicStats() %>% t() %>% \n",
    "        as.data.frame() %>% dplyr::select(Mean, Stdev, Minimum, Maximum, nobs, NAs)\n",
    "print(round(desc_control, digits=2))"
   ]
  },
  {
   "cell_type": "markdown",
   "metadata": {},
   "source": [
    "### Existence of discontinuity: Plot D against X\n",
    "\n",
    "Should be a jump from 0 to 1 at the cut-off in a sharp RDD. "
   ]
  },
  {
   "cell_type": "code",
   "execution_count": 43,
   "metadata": {},
   "outputs": [
    {
     "data": {
      "image/png": "[encoded data removed]",
      "text/plain": [
       "plot without title"
      ]
     },
     "metadata": {
      "image/png": {
       "height": 450,
       "width": 600
      }
     },
     "output_type": "display_data"
    }
   ],
   "source": [
    "ggplot(data,                \n",
    "       aes(x = X, y = D)) +\n",
    " \t   geom_line() +\n",
    " \t   ylab(\"Effect on employment rate\") "
   ]
  },
  {
   "cell_type": "markdown",
   "metadata": {},
   "source": [
    "### Descriptive evidence of effect: plot Y against X"
   ]
  },
  {
   "cell_type": "code",
   "execution_count": 44,
   "metadata": {},
   "outputs": [
    {
     "data": {
      "image/png": "[encoded data removed]",
      "text/plain": [
       "plot without title"
      ]
     },
     "metadata": {
      "image/png": {
       "height": 450,
       "width": 600
      }
     },
     "output_type": "display_data"
    },
    {
     "data": {
      "image/png": "[encoded data removed]",
      "text/plain": [
       "plot without title"
      ]
     },
     "metadata": {
      "image/png": {
       "height": 450,
       "width": 600
      }
     },
     "output_type": "display_data"
    }
   ],
   "source": [
    "# Figure 3a in CIT\n",
    "# Raw comparison of means (no polynomial)\n",
    "rdplot(Y, X, nbins = c(2500, 500), p = 0, title = \"\", \n",
    "       x.label = xlabel, y.label = ylabel)\n",
    "\n",
    "# Figure 3b in CIT\n",
    "# Local comparison of means within 50 percentage points bandwidth\n",
    "    # but same number of bins\n",
    "rdplot(Y[abs(X) <= 50], X[abs(X) <= 50], \n",
    "       nbins = c(2500, 500), p = 4, title = \"\", \n",
    "       x.label = xlabel, y.label = ylabel)"
   ]
  },
  {
   "cell_type": "markdown",
   "metadata": {},
   "source": [
    "###  No sorting in X: plot histogram of X "
   ]
  },
  {
   "cell_type": "code",
   "execution_count": 45,
   "metadata": {},
   "outputs": [
    {
     "data": {
      "image/png": "[encoded data removed]",
      "text/plain": [
       "plot without title"
      ]
     },
     "metadata": {
      "image/png": {
       "height": 450,
       "width": 600
      }
     },
     "output_type": "display_data"
    }
   ],
   "source": [
    "# Histogram \n",
    "# Figure 19a in CIT 2019, Figure 2(a) in Meyersson 2014\n",
    "\n",
    "# Specify bandwidth manually \n",
    "# Useful to plot across the full range of possible values of the running variable \n",
    "bw <- as.numeric(100)\n",
    "\n",
    "plot1 = ggplot(data=data, aes(X)) + \n",
    "  geom_histogram(data = data, aes(x = X, y= ..count..), \n",
    "                 breaks = seq(-bw, 0, 2), fill = \"blue\", col = \"black\", alpha = 1) +\n",
    "  geom_histogram(data = data, aes(x = X, y= ..count..), \n",
    "                 breaks = seq(0, bw, 2), fill = \"red\", col = \"black\", alpha = 1) +\n",
    "  labs(x = xlabel, y = \"Number of Observations\") + \n",
    "  geom_vline(xintercept = 0, color = \"black\") \n",
    "plot1"
   ]
  },
  {
   "cell_type": "markdown",
   "metadata": {},
   "source": [
    "###  No sorting in X: plot density of X "
   ]
  },
  {
   "cell_type": "code",
   "execution_count": 46,
   "metadata": {},
   "outputs": [
    {
     "data": {
      "image/png": "[encoded data removed]",
      "text/plain": [
       "plot without title"
      ]
     },
     "metadata": {
      "image/png": {
       "height": 450,
       "width": 600
      }
     },
     "output_type": "display_data"
    }
   ],
   "source": [
    "# Estimated Density\n",
    "# Figure 19b in CIT, Figure 2(b) in Meyersson \n",
    "\n",
    "# Specify bandwidth manually, within a bandwidth that makes sense depending on histogram (i.e. where is mass)\n",
    "bw = as.numeric(30)\n",
    "\n",
    "\n",
    "est1 = lpdensity(data = X[X < 0 & X >= -bw], \n",
    "                 grid = seq(-bw, 0, 0.1), bwselect = \"IMSE\",\n",
    "                 scale = sum(X < 0 & X >= -bw) / length(X))\n",
    "est2 = lpdensity(data = X[X >= 0 & X <= bw], \n",
    "                 grid = seq(0, bw, 0.1), bwselect = \"IMSE\",\n",
    "                 scale = sum(X >= 0 & X <= bw) / length(X))\n",
    "\n",
    "plot2 = lpdensity.plot(est1, est2, CIshade = 0.2, \n",
    "                       lcol = c(4, 2), CIcol = c(4, 2), \n",
    "                       legendGroups = c(\"Control\", \"Treatment\")) +\n",
    "          labs(x = xlabel, y = \"Density\") + \n",
    "          geom_vline(xintercept = 0, color = \"black\") +\n",
    "          theme(legend.position = c(0.8, 0.85))\n",
    "plot2\n"
   ]
  },
  {
   "cell_type": "markdown",
   "metadata": {},
   "source": [
    "### No sorting in X: test for discontinuities in density \n",
    "\n",
    "RD Manipulation Test using local polynomial density estimation. For details, see Cattaneo, Jansson and Ma (JASA 2019), Simple Local Polynomial Density Estimators."
   ]
  },
  {
   "cell_type": "code",
   "execution_count": 47,
   "metadata": {},
   "outputs": [
    {
     "name": "stdout",
     "output_type": "stream",
     "text": [
      "\n",
      "RD Manipulation Test using local polynomial density estimation.\n",
      "\n",
      "Number of obs =       2629\n",
      "Model =               unrestricted\n",
      "Kernel =              triangular\n",
      "BW method =           comb\n",
      "VCE method =          jackknife\n",
      "\n",
      "Cutoff c = 0          Left of c           Right of c          \n",
      "Number of obs         2314                315                 \n",
      "Eff. Number of obs    965                 301                 \n",
      "Order est. (p)        2                   2                   \n",
      "Order bias (q)        3                   3                   \n",
      "BW est. (h)           30.54               28.285              \n",
      "\n",
      "Method                T                   P > |T|             \n",
      "Robust                -1.394              0.1633              \n",
      "\n"
     ]
    }
   ],
   "source": [
    "out = rddensity(X)\n",
    "summary(out)"
   ]
  },
  {
   "cell_type": "markdown",
   "metadata": {},
   "source": [
    "### No sorting in covariates: plot covariates against $X_i$\n",
    "\n",
    "Figure 16 in CIT, Figure 3 in Meyersson\n",
    "\n",
    "Just plots, do not serve as formal inference -- see RDD estimations below. "
   ]
  },
  {
   "cell_type": "code",
   "execution_count": 48,
   "metadata": {},
   "outputs": [
    {
     "data": {
      "image/png": "[encoded data removed]",
      "text/plain": [
       "plot without title"
      ]
     },
     "metadata": {
      "image/png": {
       "height": 450,
       "width": 600
      }
     },
     "output_type": "display_data"
    },
    {
     "data": {
      "image/png": "[encoded data removed]",
      "text/plain": [
       "plot without title"
      ]
     },
     "metadata": {
      "image/png": {
       "height": 450,
       "width": 600
      }
     },
     "output_type": "display_data"
    },
    {
     "data": {
      "image/png": "[encoded data removed]",
      "text/plain": [
       "plot without title"
      ]
     },
     "metadata": {
      "image/png": {
       "height": 450,
       "width": 600
      }
     },
     "output_type": "display_data"
    },
    {
     "data": {
      "image/png": "[encoded data removed]",
      "text/plain": [
       "plot without title"
      ]
     },
     "metadata": {
      "image/png": {
       "height": 450,
       "width": 600
      }
     },
     "output_type": "display_data"
    },
    {
     "data": {
      "image/png": "[encoded data removed]",
      "text/plain": [
       "plot without title"
      ]
     },
     "metadata": {
      "image/png": {
       "height": 450,
       "width": 600
      }
     },
     "output_type": "display_data"
    },
    {
     "data": {
      "image/png": "[encoded data removed]",
      "text/plain": [
       "plot without title"
      ]
     },
     "metadata": {
      "image/png": {
       "height": 450,
       "width": 600
      }
     },
     "output_type": "display_data"
    }
   ],
   "source": [
    "bw <- as.numeric(100)\n",
    "\n",
    "plot_covariate <-rdplot(vshr_islam1994, X, h = bw, \n",
    "                        x.label = xlabel, y.label = \"vshr_islam1994\", title = \"\")\n",
    "\n",
    "plot_ageshr60 <-rdplot(ageshr60, X, h = bw, \n",
    "                       x.label = xlabel, y.label = \"ageshr60\", title = \"\")\n",
    "\n",
    "plot_ageshr19 <-rdplot(ageshr19, X, h = bw, \n",
    "                       x.label = xlabel, y.label = \"ageshr19\", title = \"\")\n",
    "\n",
    "plot_lpop1994 <-rdplot(lpop1994, X, h = bw, \n",
    "                       x.label = xlabel, y.label = \"lpop1994\", title = \"\")\n",
    "\n",
    "plot_sexr <-rdplot(sexr, X, h = bw, \n",
    "                   x.label = xlabel, y.label = \"sexr\", title = \"\")\n",
    "\n",
    "plot_partycount <-rdplot(partycount, X, h = bw, \n",
    "                         x.label = xlabel, y.label = \"partycount\", title = \"\")"
   ]
  },
  {
   "cell_type": "markdown",
   "metadata": {},
   "source": [
    "***\n",
    "\n",
    "## RDD effect estimation and robustness checks\n",
    "\n",
    "Can (and should) run different combinations of these specifications. \n",
    "\n",
    "Here, we follow Table II Panel A (Women) in Meyersson, with the following differences \n",
    "* We estimate most variants nonparametrically (Meyersson uses parametric estimators).\n",
    "* Optimal bandwidth choice algorithm differs slightly (not important). \n"
   ]
  },
  {
   "cell_type": "code",
   "execution_count": 49,
   "metadata": {},
   "outputs": [],
   "source": [
    "# Create matrix to store effects\n",
    "effects <- matrix(, nrow = 5, ncol = 8)"
   ]
  },
  {
   "cell_type": "markdown",
   "metadata": {},
   "source": [
    "### (1) Parametric estimation \n",
    "\n",
    "Parametric difference in means using all observations below and above cut-off (i.e. global estimation with maximum bandwidth). No covariates. \n",
    "\n",
    "$Y_i=\\alpha+\\theta D_i+U_i$"
   ]
  },
  {
   "cell_type": "code",
   "execution_count": 50,
   "metadata": {},
   "outputs": [
    {
     "data": {
      "text/plain": [
       "\u001b[4mMODEL INFO:\u001b[24m\n",
       "\u001b[3mObservations:\u001b[23m 2629\n",
       "\u001b[3mDependent Variable:\u001b[23m Y\n",
       "\u001b[3mType:\u001b[23m OLS linear regression \n",
       "\n",
       "\u001b[4mMODEL FIT:\u001b[24m\n",
       "\u001b[3mF\u001b[23m(1,2627) = 20.20, \u001b[3mp\u001b[23m = 0.00\n",
       "\u001b[3mR² = \u001b[23m0.01\n",
       "\u001b[3mAdj. R² = \u001b[23m0.01 \n",
       "\n",
       "\u001b[3mStandard errors: OLS\u001b[23m\n",
       "------------------------------------------------\n",
       "                     Est.   S.E.   t val.      p\n",
       "----------------- ------- ------ -------- ------\n",
       "(Intercept)         16.61   0.20    83.70   0.00\n",
       "D                   -2.58   0.57    -4.49   0.00\n",
       "------------------------------------------------"
      ]
     },
     "metadata": {},
     "output_type": "display_data"
    }
   ],
   "source": [
    "# Column (1)\n",
    "out <- lm(Y ~ D)\n",
    "out <- summ(out)\n",
    "out\n",
    "effects[1,1] <- out$coeftable[2,1] \t\t# effect\n",
    "effects[2,1] <- out$coeftable[2,2] \t\t# se\n",
    "effects[3,1] <- 100 \t\t\t\t\t# bandwidth left \n",
    "effects[4,1] <- 100 \t\t\t\t\t# bandwidth right \n",
    "effects[5,1] <- nrow(out$model$model) \t# total number of observations"
   ]
  },
  {
   "cell_type": "markdown",
   "metadata": {},
   "source": [
    "### (2) Parametric estimation with covariates \n",
    "\n",
    "Using all observations.\n",
    "\n",
    "$Y_i=\\alpha+\\theta D_i+\\sum_{k=1} ^K\\beta_{2,k}\\tilde{X}_{k,i}+U_i$\n",
    "\n",
    "where $\\tilde{X}_{k,i}$ are covariates (Meyersson also includes province fixed effects).  "
   ]
  },
  {
   "cell_type": "code",
   "execution_count": 65,
   "metadata": {},
   "outputs": [
    {
     "data": {
      "text/plain": [
       "\u001b[4mMODEL INFO:\u001b[24m\n",
       "\u001b[3mObservations:\u001b[23m 2629\n",
       "\u001b[3mDependent Variable:\u001b[23m Y\n",
       "\u001b[3mType:\u001b[23m OLS linear regression \n",
       "\n",
       "\u001b[4mMODEL FIT:\u001b[24m\n",
       "\u001b[3mF\u001b[23m(92,2536) = 34.33, \u001b[3mp\u001b[23m = 0.00\n",
       "\u001b[3mR² = \u001b[23m0.55\n",
       "\u001b[3mAdj. R² = \u001b[23m0.54 \n",
       "\n",
       "\u001b[3mStandard errors: OLS\u001b[23m\n",
       "-------------------------------------------------------------\n",
       "                                  Est.   S.E.   t val.      p\n",
       "------------------------------ ------- ------ -------- ------\n",
       "(Intercept)                      47.95   3.03    15.82   0.00\n",
       "D                                 1.25   0.55     2.28   0.02\n",
       "covariateslpop1994                0.65   0.23     2.83   0.00\n",
       "covariatesvshr_islam1994         -0.10   0.01    -8.04   0.00\n",
       "covariatespartycount             -0.06   0.12    -0.54   0.59\n",
       "covariatesageshr60               -0.37   0.06    -5.84   0.00\n",
       "covariatesageshr19               -0.83   0.03   -24.63   0.00\n",
       "covariatessexr                   -0.03   0.01    -5.28   0.00\n",
       "covariatesshhs                    0.46   0.08     6.00   0.00\n",
       "covariatesmerkezi                 6.23   0.40    15.42   0.00\n",
       "covariatesmerkezp                 3.96   1.02     3.88   0.00\n",
       "covariatessubbuyuk                2.10   1.15     1.82   0.07\n",
       "covariatesbuyuk                   1.31   1.95     0.67   0.50\n",
       "prov_feprov_num_1                 5.24   1.12     4.69   0.00\n",
       "prov_feprov_num_10                3.42   1.97     1.74   0.08\n",
       "prov_feprov_num_11               -1.39   1.10    -1.27   0.20\n",
       "prov_feprov_num_12               -3.13   1.13    -2.77   0.01\n",
       "prov_feprov_num_13               -2.11   2.39    -0.88   0.38\n",
       "prov_feprov_num_14                0.90   2.16     0.42   0.68\n",
       "prov_feprov_num_15               -0.87   2.53    -0.34   0.73\n",
       "prov_feprov_num_16               -1.97   1.78    -1.11   0.27\n",
       "prov_feprov_num_17               -4.66   2.26    -2.06   0.04\n",
       "prov_feprov_num_18                3.19   1.87     1.71   0.09\n",
       "prov_feprov_num_19                3.61   1.90     1.90   0.06\n",
       "prov_feprov_num_2                 1.94   1.53     1.27   0.20\n",
       "prov_feprov_num_20               -0.87   1.47    -0.59   0.55\n",
       "prov_feprov_num_21               -5.05   1.10    -4.58   0.00\n",
       "prov_feprov_num_22               -0.95   1.31    -0.72   0.47\n",
       "prov_feprov_num_23                1.50   1.38     1.09   0.28\n",
       "prov_feprov_num_24               -2.85   1.31    -2.18   0.03\n",
       "prov_feprov_num_25               -1.74   0.96    -1.81   0.07\n",
       "prov_feprov_num_26                2.95   1.43     2.06   0.04\n",
       "prov_feprov_num_27                0.37   2.05     0.18   0.86\n",
       "prov_feprov_num_28               -5.53   1.54    -3.58   0.00\n",
       "prov_feprov_num_29                2.75   1.38     1.99   0.05\n",
       "prov_feprov_num_3                -2.34   0.87    -2.69   0.01\n",
       "prov_feprov_num_30                5.28   1.52     3.48   0.00\n",
       "prov_feprov_num_31                1.39   1.24     1.13   0.26\n",
       "prov_feprov_num_32                1.10   1.43     0.77   0.44\n",
       "prov_feprov_num_33                0.70   1.43     0.49   0.62\n",
       "prov_feprov_num_34                4.86   1.50     3.25   0.00\n",
       "prov_feprov_num_35                3.60   1.96     1.84   0.07\n",
       "prov_feprov_num_36               -4.91   3.02    -1.62   0.10\n",
       "prov_feprov_num_37                1.82   1.02     1.80   0.07\n",
       "prov_feprov_num_38                3.20   2.73     1.17   0.24\n",
       "prov_feprov_num_39                4.86   1.07     4.52   0.00\n",
       "prov_feprov_num_4                -1.31   2.27    -0.58   0.56\n",
       "prov_feprov_num_40               -0.30   1.12    -0.27   0.79\n",
       "prov_feprov_num_41               -3.47   0.98    -3.53   0.00\n",
       "prov_feprov_num_42                2.94   1.00     2.93   0.00\n",
       "prov_feprov_num_43               -0.07   2.72    -0.03   0.98\n",
       "prov_feprov_num_44                6.29   1.72     3.66   0.00\n",
       "prov_feprov_num_45                4.05   2.14     1.89   0.06\n",
       "prov_feprov_num_46               -5.23   1.56    -3.36   0.00\n",
       "prov_feprov_num_47                4.06   0.99     4.10   0.00\n",
       "prov_feprov_num_48               -3.07   4.64    -0.66   0.51\n",
       "prov_feprov_num_49                4.47   1.41     3.17   0.00\n",
       "prov_feprov_num_5                 0.17   1.22     0.14   0.89\n",
       "prov_feprov_num_50               -2.66   1.51    -1.76   0.08\n",
       "prov_feprov_num_51                1.92   1.39     1.39   0.17\n",
       "prov_feprov_num_52                1.43   1.30     1.10   0.27\n",
       "prov_feprov_num_54               -3.56   1.13    -3.16   0.00\n",
       "prov_feprov_num_55                7.41   1.12     6.63   0.00\n",
       "prov_feprov_num_56               -6.42   0.95    -6.76   0.00\n",
       "prov_feprov_num_57                2.09   1.44     1.46   0.15\n",
       "prov_feprov_num_58                6.39   1.05     6.09   0.00\n",
       "prov_feprov_num_59               -0.42   1.18    -0.35   0.72\n",
       "prov_feprov_num_6                 0.28   1.39     0.20   0.84\n",
       "prov_feprov_num_60                2.86   1.53     1.86   0.06\n",
       "prov_feprov_num_61               -0.58   1.16    -0.50   0.62\n",
       "prov_feprov_num_62                2.15   1.13     1.91   0.06\n",
       "prov_feprov_num_63                0.65   1.01     0.65   0.52\n",
       "prov_feprov_num_64                9.77   2.04     4.78   0.00\n",
       "prov_feprov_num_65                0.39   1.56     0.25   0.80\n",
       "prov_feprov_num_66               -1.73   1.36    -1.28   0.20\n",
       "prov_feprov_num_67                2.39   1.18     2.03   0.04\n",
       "prov_feprov_num_68                0.46   1.66     0.28   0.78\n",
       "prov_feprov_num_69               -1.33   1.93    -0.69   0.49\n",
       "prov_feprov_num_7                 4.73   1.03     4.58   0.00\n",
       "prov_feprov_num_70               -0.98   2.05    -0.48   0.63\n",
       "prov_feprov_num_71               -1.09   2.02    -0.54   0.59\n",
       "prov_feprov_num_72                5.24   1.20     4.38   0.00\n",
       "prov_feprov_num_73               -3.14   1.38    -2.28   0.02\n",
       "prov_feprov_num_74                0.31   1.03     0.30   0.76\n",
       "prov_feprov_num_75                6.83   1.04     6.59   0.00\n",
       "prov_feprov_num_76                5.90   2.40     2.46   0.01\n",
       "prov_feprov_num_77                0.15   1.60     0.09   0.92\n",
       "prov_feprov_num_78               -1.71   1.77    -0.97   0.33\n",
       "prov_feprov_num_79                5.58   1.98     2.81   0.00\n",
       "prov_feprov_num_8                -3.04   1.01    -3.02   0.00\n",
       "prov_feprov_num_80                5.18   1.10     4.72   0.00\n",
       "prov_feprov_num_81               -1.99   1.41    -1.40   0.16\n",
       "prov_feprov_num_9                 1.94   2.39     0.81   0.42\n",
       "-------------------------------------------------------------"
      ]
     },
     "metadata": {},
     "output_type": "display_data"
    }
   ],
   "source": [
    "# Group covariates\n",
    "covariates <- as.matrix(dplyr::select(data, lpop1994, \n",
    "            vshr_islam1994, partycount, ageshr60, ageshr19, \n",
    "            sexr, shhs, merkezi, merkezp, subbuyuk, buyuk))\n",
    "covariates <- cbind(covariates)\n",
    "covariates_names <- colnames(covariates)\n",
    "\n",
    "# Column (2)\n",
    "out <- lm(Y ~ D + covariates)\n",
    "out <- summ(out)\n",
    "out\n",
    "effects[1,2] <- out$coeftable[2,1]\n",
    "effects[2,2] <- out$coeftable[2,2] \n",
    "effects[3,2] <- 100\n",
    "effects[4,2] <- 100\n",
    "effects[5,2] <- nrow(out$model$model)"
   ]
  },
  {
   "cell_type": "markdown",
   "metadata": {},
   "source": [
    "Using all observations, covariates, and allowing for direct effect of running variable on $Y_i$ (not shown in Meyersson).\n",
    "\n",
    "$Y_i=\\alpha+\\theta D_i+\\beta_0(X_i-\\bar{x})+\\beta_1D_i(X_i-\\bar{x})+\\sum_{k=1} ^K\\beta_{2,k}\\tilde{X}_{k,i}+U_i$\n"
   ]
  },
  {
   "cell_type": "code",
   "execution_count": 52,
   "metadata": {},
   "outputs": [
    {
     "data": {
      "text/plain": [
       "\u001b[4mMODEL INFO:\u001b[24m\n",
       "\u001b[3mObservations:\u001b[23m 2629\n",
       "\u001b[3mDependent Variable:\u001b[23m Y\n",
       "\u001b[3mType:\u001b[23m OLS linear regression \n",
       "\n",
       "\u001b[4mMODEL FIT:\u001b[24m\n",
       "\u001b[3mF\u001b[23m(14,2614) = 151.32, \u001b[3mp\u001b[23m = 0.00\n",
       "\u001b[3mR² = \u001b[23m0.45\n",
       "\u001b[3mAdj. R² = \u001b[23m0.44 \n",
       "\n",
       "\u001b[3mStandard errors: OLS\u001b[23m\n",
       "-------------------------------------------------------------\n",
       "                                  Est.   S.E.   t val.      p\n",
       "------------------------------ ------- ------ -------- ------\n",
       "(Intercept)                      56.01   3.11    18.00   0.00\n",
       "D                                 1.36   0.66     2.06   0.04\n",
       "X                                 0.05   0.02     3.49   0.00\n",
       "D_X                              -0.05   0.04    -1.33   0.18\n",
       "covariateslpop1994                0.71   0.24     3.04   0.00\n",
       "covariatesvshr_islam1994         -0.15   0.02    -6.65   0.00\n",
       "covariatespartycount             -0.68   0.12    -5.76   0.00\n",
       "covariatesageshr60               -0.60   0.06    -9.70   0.00\n",
       "covariatesageshr19               -0.83   0.03   -28.10   0.00\n",
       "covariatessexr                   -0.04   0.01    -5.83   0.00\n",
       "covariatesshhs                    0.49   0.08     6.32   0.00\n",
       "covariatesmerkezi                 6.55   0.38    17.04   0.00\n",
       "covariatesmerkezp                 5.03   1.06     4.75   0.00\n",
       "covariatessubbuyuk                4.01   1.20     3.35   0.00\n",
       "covariatesbuyuk                   5.46   2.10     2.60   0.01\n",
       "-------------------------------------------------------------"
      ]
     },
     "metadata": {},
     "output_type": "display_data"
    }
   ],
   "source": [
    "D_X <- D * X\n",
    "out <- lm(Y ~ D + X + D_X + covariates)\n",
    "out <- summ(out)\n",
    "out"
   ]
  },
  {
   "cell_type": "markdown",
   "metadata": {},
   "source": [
    "### (3) Nonparametric estimation - Local linear regression \n",
    "\n",
    "$\\min\\sum_{i=1}^NK_h(X_i-\\bar{x})[Y_i-\\alpha-\\theta  D_i-\\beta_0(X_i-\\bar{x})-\\beta_1 D_i(X_i-\\bar{x})]^2 $\n",
    "\n",
    "where $K_h(\\cdot)$ is the triangular kernel (recommended). \n",
    "\n",
    "Estimate separately to the left and to the right of cut-off to reduce boundary problems.\n",
    "\n",
    "Using all observations (not shown in Meyersson)."
   ]
  },
  {
   "cell_type": "code",
   "execution_count": 53,
   "metadata": {},
   "outputs": [
    {
     "name": "stdout",
     "output_type": "stream",
     "text": [
      "Call: rdrobust\n",
      "\n",
      "Number of Obs.                 2629\n",
      "BW type                      Manual\n",
      "Kernel                   Triangular\n",
      "VCE method                       NN\n",
      "\n",
      "Number of Obs.                2314         315\n",
      "Eff. Number of Obs.           2313         315\n",
      "Order est. (p)                   1           1\n",
      "Order bias  (q)                  2           2\n",
      "BW est. (h)                100.000     100.000\n",
      "BW bias (b)                100.000     100.000\n",
      "rho (h/b)                    1.000       1.000\n",
      "Unique Obs.                   2311         315\n",
      "\n",
      "=============================================================================\n",
      "        Method     Coef. Std. Err.         z     P>|z|      [ 95% C.I. ]       \n",
      "=============================================================================\n",
      "  Conventional     0.549     0.897     0.612     0.541    [-1.209 , 2.307]     \n",
      "        Robust         -         -     2.794     0.005     [0.986 , 5.625]     \n",
      "=============================================================================\n"
     ]
    }
   ],
   "source": [
    "out <- rdrobust(Y, X, \n",
    "                kernel = \"triangular\", scaleregul = 1, p = 1, h = 100)\n",
    "summary(out)"
   ]
  },
  {
   "cell_type": "markdown",
   "metadata": {},
   "source": [
    "Same with optimal bandwidth selection, i.e. use only observations within $[\\underline{h},\\bar{h}]$ around the cut-off."
   ]
  },
  {
   "cell_type": "code",
   "execution_count": 54,
   "metadata": {},
   "outputs": [
    {
     "name": "stdout",
     "output_type": "stream",
     "text": [
      "Call: rdrobust\n",
      "\n",
      "Number of Obs.                 2629\n",
      "BW type                       mserd\n",
      "Kernel                   Triangular\n",
      "VCE method                       NN\n",
      "\n",
      "Number of Obs.                2314         315\n",
      "Eff. Number of Obs.            529         266\n",
      "Order est. (p)                   1           1\n",
      "Order bias  (q)                  2           2\n",
      "BW est. (h)                 17.240      17.240\n",
      "BW bias (b)                 28.576      28.576\n",
      "rho (h/b)                    0.603       0.603\n",
      "Unique Obs.                   2311         315\n",
      "\n",
      "=============================================================================\n",
      "        Method     Coef. Std. Err.         z     P>|z|      [ 95% C.I. ]       \n",
      "=============================================================================\n",
      "  Conventional     3.020     1.427     2.116     0.034     [0.223 , 5.816]     \n",
      "        Robust         -         -     1.776     0.076    [-0.309 , 6.276]     \n",
      "=============================================================================\n"
     ]
    }
   ],
   "source": [
    "# Column (3) \n",
    "out <- rdrobust(Y, X, \n",
    "                kernel = \"triangular\", scaleregul = 1, p = 1, bwselect = \"mserd\")\n",
    "\n",
    "summary(out)\n",
    "effects[1,3] <- out$Estimate[[1]]\n",
    "effects[2,3] <- out$Estimate[[3]]\n",
    "effects[3,3] <- out$bws[[1]]\n",
    "effects[4,3] <- out$bws[[2]]\n",
    "effects[5,3] <- out$N_h[[1]] + out$N_h[[2]]"
   ]
  },
  {
   "cell_type": "markdown",
   "metadata": {},
   "source": [
    "### (4) Nonparametric estimation - Local linear regression with covariates\n",
    "\n",
    "Same as above but adding covariates. "
   ]
  },
  {
   "cell_type": "code",
   "execution_count": 55,
   "metadata": {},
   "outputs": [
    {
     "name": "stdout",
     "output_type": "stream",
     "text": [
      "Call: rdrobust\n",
      "\n",
      "Number of Obs.                 2629\n",
      "BW type                       mserd\n",
      "Kernel                   Triangular\n",
      "VCE method                       NN\n",
      "\n",
      "Number of Obs.                2314         315\n",
      "Eff. Number of Obs.            421         237\n",
      "Order est. (p)                   1           1\n",
      "Order bias  (q)                  2           2\n",
      "BW est. (h)                 13.776      13.776\n",
      "BW bias (b)                 24.193      24.193\n",
      "rho (h/b)                    0.569       0.569\n",
      "Unique Obs.                   2311         315\n",
      "\n",
      "=============================================================================\n",
      "        Method     Coef. Std. Err.         z     P>|z|      [ 95% C.I. ]       \n",
      "=============================================================================\n",
      "  Conventional     3.006     1.043     2.883     0.004     [0.962 , 5.050]     \n",
      "        Robust         -         -     2.641     0.008     [0.827 , 5.583]     \n",
      "=============================================================================\n"
     ]
    }
   ],
   "source": [
    "# Col (4) with covariates\n",
    "out <- rdrobust(Y, X, covs = covariates, \n",
    "                kernel = \"triangular\", scaleregul = 1, p = 1, bwselect = \"mserd\")\n",
    "\n",
    "summary(out)\n",
    "effects[1,4] <- out$Estimate[[1]]\n",
    "effects[2,4] <- out$Estimate[[3]]\n",
    "effects[3,4] <- out$bws[[1]]\n",
    "effects[4,4] <- out$bws[[2]]\n",
    "effects[5,4] <- out$N_h[[1]] + out$N_h[[2]]"
   ]
  },
  {
   "cell_type": "markdown",
   "metadata": {},
   "source": [
    "### (5) & (6) Nonparametric estimation - Vary bandwidth around cutoff \n",
    "\n",
    "Take half and twice the optimal bandwidth, on the left and the right of the cutoff, respectively. "
   ]
  },
  {
   "cell_type": "code",
   "execution_count": 56,
   "metadata": {},
   "outputs": [
    {
     "name": "stdout",
     "output_type": "stream",
     "text": [
      "Call: rdrobust\n",
      "\n",
      "Number of Obs.                 2629\n",
      "BW type                      Manual\n",
      "Kernel                   Triangular\n",
      "VCE method                       NN\n",
      "\n",
      "Number of Obs.                2314         315\n",
      "Eff. Number of Obs.            207         222\n",
      "Order est. (p)                   1           1\n",
      "Order bias  (q)                  2           2\n",
      "BW est. (h)                  6.888      12.096\n",
      "BW bias (b)                  6.888      12.096\n",
      "rho (h/b)                    1.000       1.000\n",
      "Unique Obs.                   2311         315\n",
      "\n",
      "=============================================================================\n",
      "        Method     Coef. Std. Err.         z     P>|z|      [ 95% C.I. ]       \n",
      "=============================================================================\n",
      "  Conventional     2.171     1.923     1.129     0.259    [-1.599 , 5.941]     \n",
      "        Robust         -         -     0.950     0.342    [-2.889 , 8.319]     \n",
      "=============================================================================\n",
      "Call: rdrobust\n",
      "\n",
      "Number of Obs.                 2629\n",
      "BW type                      Manual\n",
      "Kernel                   Triangular\n",
      "VCE method                       NN\n",
      "\n",
      "Number of Obs.                2314         315\n",
      "Eff. Number of Obs.            844         310\n",
      "Order est. (p)                   1           1\n",
      "Order bias  (q)                  2           2\n",
      "BW est. (h)                 27.553      48.386\n",
      "BW bias (b)                 27.553      48.386\n",
      "rho (h/b)                    1.000       1.000\n",
      "Unique Obs.                   2311         315\n",
      "\n",
      "=============================================================================\n",
      "        Method     Coef. Std. Err.         z     P>|z|      [ 95% C.I. ]       \n",
      "=============================================================================\n",
      "  Conventional     2.999     1.116     2.688     0.007     [0.813 , 5.185]     \n",
      "        Robust         -         -     1.936     0.053    [-0.037 , 5.928]     \n",
      "=============================================================================\n"
     ]
    }
   ],
   "source": [
    "# Store h from previous estimation\n",
    "bw_left <- as.numeric(out$bws[[1]])\n",
    "bw_right <- as.numeric(out$bws[[2]])\n",
    "\n",
    "\n",
    "# Column (5) with h/2\n",
    "out = rdrobust(Y, X, h = c(bw_left/2, bw_right/2), kernel = \"triangular\", p = 1)\n",
    "\n",
    "summary(out)\n",
    "effects[1,5] <- out$Estimate[[1]]\n",
    "effects[2,5] <- out$Estimate[[3]]\n",
    "effects[3,5] <- out$bws[[1]]\n",
    "effects[4,5] <- out$bws[[2]]\n",
    "effects[5,5] <- out$N_h[[1]] + out$N_h[[2]]\n",
    "\n",
    "\n",
    "# Column (6) with 2h\n",
    "out = rdrobust(Y, X, h = c(bw_left*2, bw_right*2), kernel = \"triangular\", p = 1)\n",
    "\n",
    "summary(out)\n",
    "effects[1,6] <- out$Estimate[[1]] \n",
    "effects[2,6] <- out$Estimate[[3]] \n",
    "effects[3,6] <- out$bws[[1]] \n",
    "effects[4,6] <- out$bws[[2]] \n",
    "effects[5,6] <- out$N_h[[1]] + out$N_h[[2]]"
   ]
  },
  {
   "cell_type": "markdown",
   "metadata": {},
   "source": [
    "### (7) & (8) Nonparametric estimation - Higher order polynomials of $(X_i - x)$ \n",
    "\n",
    "Change the value of option `p`. "
   ]
  },
  {
   "cell_type": "code",
   "execution_count": 77,
   "metadata": {},
   "outputs": [
    {
     "name": "stdout",
     "output_type": "stream",
     "text": [
      "Call: rdrobust\n",
      "\n",
      "Number of Obs.                 2629\n",
      "BW type                       mserd\n",
      "Kernel                   Triangular\n",
      "VCE method                       NN\n",
      "\n",
      "Number of Obs.                2314         315\n",
      "Eff. Number of Obs.            440         239\n",
      "Order est. (p)                   2           2\n",
      "Order bias  (q)                  3           3\n",
      "BW est. (h)                 14.207      14.207\n",
      "BW bias (b)                 20.651      20.651\n",
      "rho (h/b)                    0.688       0.688\n",
      "Unique Obs.                   2311         315\n",
      "\n",
      "=============================================================================\n",
      "        Method     Coef. Std. Err.         z     P>|z|      [ 95% C.I. ]       \n",
      "=============================================================================\n",
      "  Conventional     3.193     1.454     2.196     0.028     [0.343 , 6.042]     \n",
      "        Robust         -         -     1.978     0.048     [0.030 , 6.386]     \n",
      "=============================================================================\n",
      "Call: rdrobust\n",
      "\n",
      "Number of Obs.                 2629\n",
      "BW type                       mserd\n",
      "Kernel                   Triangular\n",
      "VCE method                       NN\n",
      "\n",
      "Number of Obs.                2314         315\n",
      "Eff. Number of Obs.            518         262\n",
      "Order est. (p)                   3           3\n",
      "Order bias  (q)                  4           4\n",
      "BW est. (h)                 16.755      16.755\n",
      "BW bias (b)                 22.344      22.344\n",
      "rho (h/b)                    0.750       0.750\n",
      "Unique Obs.                   2311         315\n",
      "\n",
      "=============================================================================\n",
      "        Method     Coef. Std. Err.         z     P>|z|      [ 95% C.I. ]       \n",
      "=============================================================================\n",
      "  Conventional     3.608     1.757     2.054     0.040     [0.165 , 7.051]     \n",
      "        Robust         -         -     1.895     0.058    [-0.125 , 7.452]     \n",
      "=============================================================================\n"
     ]
    }
   ],
   "source": [
    "# Column (7), quadratic\n",
    "out = rdrobust(Y, X, covs = covariates, \n",
    "               kernel = \"triangular\", p = 2, bwselect = \"mserd\")\n",
    "\n",
    "summary(out)\n",
    "effects[1,7] <- out$Estimate[[1]]\n",
    "effects[2,7] <- out$Estimate[[3]]\n",
    "effects[3,7] <- out$bws[[1]]\n",
    "effects[4,7] <- out$bws[[2]]\n",
    "effects[5,7] <- out$N_h[[1]] + out$N_h[[2]]\n",
    "\n",
    "\n",
    "# Column (8), cubic\n",
    "out = rdrobust(Y, X, covs = covariates, \n",
    "               kernel = \"triangular\", p = 3, bwselect = \"mserd\")\n",
    "\n",
    "summary(out)\n",
    "effects[1,8] <- out$Estimate[[1]]\n",
    "effects[2,8] <- out$Estimate[[3]]\n",
    "effects[3,8] <- out$bws[[1]]\n",
    "effects[4,8] <- out$bws[[2]]\n",
    "effects[5,8] <- out$N_h[[1]] + out$N_h[[2]]"
   ]
  },
  {
   "cell_type": "markdown",
   "metadata": {},
   "source": [
    "### Compare estimates"
   ]
  },
  {
   "cell_type": "code",
   "execution_count": 78,
   "metadata": {},
   "outputs": [
    {
     "data": {
      "text/html": [
       "<table>\n",
       "<caption>A data.frame: 5 × 8</caption>\n",
       "<thead>\n",
       "\t<tr><th></th><th scope=col>(1)</th><th scope=col>(2)</th><th scope=col>(3)</th><th scope=col>(4)</th><th scope=col>(5)</th><th scope=col>(6)</th><th scope=col>(7)</th><th scope=col>(8)</th></tr>\n",
       "\t<tr><th></th><th scope=col>&lt;dbl&gt;</th><th scope=col>&lt;dbl&gt;</th><th scope=col>&lt;dbl&gt;</th><th scope=col>&lt;dbl&gt;</th><th scope=col>&lt;dbl&gt;</th><th scope=col>&lt;dbl&gt;</th><th scope=col>&lt;dbl&gt;</th><th scope=col>&lt;dbl&gt;</th></tr>\n",
       "</thead>\n",
       "<tbody>\n",
       "\t<tr><th scope=row>Effect</th><td>  -2.5774297</td><td>   1.2461344</td><td>   3.019526</td><td>   3.005951</td><td>   2.171177</td><td>   2.998960</td><td>  3.192624</td><td>  3.608284</td></tr>\n",
       "\t<tr><th scope=row>SE</th><td>   0.5734703</td><td>   0.5454121</td><td>   1.427053</td><td>   1.042737</td><td>   1.923408</td><td>   1.115533</td><td>  1.453827</td><td>  1.756564</td></tr>\n",
       "\t<tr><th scope=row>Bw left</th><td> 100.0000000</td><td> 100.0000000</td><td>  17.239937</td><td>  13.776378</td><td>   6.888189</td><td>  27.552756</td><td> 14.207157</td><td> 17.000000</td></tr>\n",
       "\t<tr><th scope=row>Bw right</th><td> 100.0000000</td><td> 100.0000000</td><td>  28.576155</td><td>  24.192981</td><td>   6.888189</td><td>  27.552756</td><td> 20.650717</td><td> 22.344429</td></tr>\n",
       "\t<tr><th scope=row>Total obs</th><td>2629.0000000</td><td>2629.0000000</td><td>2629.000000</td><td>2629.000000</td><td>2629.000000</td><td>2629.000000</td><td>679.000000</td><td>780.000000</td></tr>\n",
       "</tbody>\n",
       "</table>\n"
      ],
      "text/latex": [
       "A data.frame: 5 × 8\n",
       "\\begin{tabular}{r|llllllll}\n",
       "  & (1) & (2) & (3) & (4) & (5) & (6) & (7) & (8)\\\\\n",
       "  & <dbl> & <dbl> & <dbl> & <dbl> & <dbl> & <dbl> & <dbl> & <dbl>\\\\\n",
       "\\hline\n",
       "\tEffect &   -2.5774297 &    1.2461344 &    3.019526 &    3.005951 &    2.171177 &    2.998960 &   3.192624 &   3.608284\\\\\n",
       "\tSE &    0.5734703 &    0.5454121 &    1.427053 &    1.042737 &    1.923408 &    1.115533 &   1.453827 &   1.756564\\\\\n",
       "\tBw left &  100.0000000 &  100.0000000 &   17.239937 &   13.776378 &    6.888189 &   27.552756 &  14.207157 &  17.000000\\\\\n",
       "\tBw right &  100.0000000 &  100.0000000 &   28.576155 &   24.192981 &    6.888189 &   27.552756 &  20.650717 &  22.344429\\\\\n",
       "\tTotal obs & 2629.0000000 & 2629.0000000 & 2629.000000 & 2629.000000 & 2629.000000 & 2629.000000 & 679.000000 & 780.000000\\\\\n",
       "\\end{tabular}\n"
      ],
      "text/markdown": [
       "\n",
       "A data.frame: 5 × 8\n",
       "\n",
       "| <!--/--> | (1) &lt;dbl&gt; | (2) &lt;dbl&gt; | (3) &lt;dbl&gt; | (4) &lt;dbl&gt; | (5) &lt;dbl&gt; | (6) &lt;dbl&gt; | (7) &lt;dbl&gt; | (8) &lt;dbl&gt; |\n",
       "|---|---|---|---|---|---|---|---|---|\n",
       "| Effect |   -2.5774297 |    1.2461344 |    3.019526 |    3.005951 |    2.171177 |    2.998960 |   3.192624 |   3.608284 |\n",
       "| SE |    0.5734703 |    0.5454121 |    1.427053 |    1.042737 |    1.923408 |    1.115533 |   1.453827 |   1.756564 |\n",
       "| Bw left |  100.0000000 |  100.0000000 |   17.239937 |   13.776378 |    6.888189 |   27.552756 |  14.207157 |  17.000000 |\n",
       "| Bw right |  100.0000000 |  100.0000000 |   28.576155 |   24.192981 |    6.888189 |   27.552756 |  20.650717 |  22.344429 |\n",
       "| Total obs | 2629.0000000 | 2629.0000000 | 2629.000000 | 2629.000000 | 2629.000000 | 2629.000000 | 679.000000 | 780.000000 |\n",
       "\n"
      ],
      "text/plain": [
       "          (1)          (2)          (3)         (4)         (5)        \n",
       "Effect      -2.5774297    1.2461344    3.019526    3.005951    2.171177\n",
       "SE           0.5734703    0.5454121    1.427053    1.042737    1.923408\n",
       "Bw left    100.0000000  100.0000000   17.239937   13.776378    6.888189\n",
       "Bw right   100.0000000  100.0000000   28.576155   24.192981    6.888189\n",
       "Total obs 2629.0000000 2629.0000000 2629.000000 2629.000000 2629.000000\n",
       "          (6)         (7)        (8)       \n",
       "Effect       2.998960   3.192624   3.608284\n",
       "SE           1.115533   1.453827   1.756564\n",
       "Bw left     27.552756  14.207157  17.000000\n",
       "Bw right    27.552756  20.650717  22.344429\n",
       "Total obs 2629.000000 679.000000 780.000000"
      ]
     },
     "metadata": {},
     "output_type": "display_data"
    }
   ],
   "source": [
    "effects_table <- as.data.frame(effects)\n",
    "rownames(effects_table) <- c(\"Effect\", \"SE\", \"Bw left\", \"Bw right\", \"Total obs\")\n",
    "colnames(effects_table) <- c(\"(1)\", \"(2)\",\"(3)\",\"(4)\",\"(5)\",\"(6)\",\"(7)\",\"(8)\")\n",
    "effects_table"
   ]
  },
  {
   "cell_type": "markdown",
   "metadata": {},
   "source": [
    "### No sorting in covariates: covariates as outcome\n",
    "\n",
    "Run same RDD analysis but with covariates as outcomes. \n",
    "\n",
    "This part serves for formal inference regarding sorting on covariates. "
   ]
  },
  {
   "cell_type": "code",
   "execution_count": 59,
   "metadata": {},
   "outputs": [
    {
     "name": "stdout",
     "output_type": "stream",
     "text": [
      "Call: rdrobust\n",
      "\n",
      "Number of Obs.                 2629\n",
      "BW type                       mserd\n",
      "Kernel                   Triangular\n",
      "VCE method                       NN\n",
      "\n",
      "Number of Obs.                2314         315\n",
      "Eff. Number of Obs.            400         233\n",
      "Order est. (p)                   1           1\n",
      "Order bias  (q)                  2           2\n",
      "BW est. (h)                 13.320      13.320\n",
      "BW bias (b)                 21.368      21.368\n",
      "rho (h/b)                    0.623       0.623\n",
      "Unique Obs.                   2311         315\n",
      "\n",
      "=============================================================================\n",
      "        Method     Coef. Std. Err.         z     P>|z|      [ 95% C.I. ]       \n",
      "=============================================================================\n",
      "  Conventional     0.012     0.278     0.045     0.964    [-0.532 , 0.557]     \n",
      "        Robust         -         -     0.001     0.999    [-0.644 , 0.645]     \n",
      "=============================================================================\n",
      "Call: rdrobust\n",
      "\n",
      "Number of Obs.                 2629\n",
      "BW type                       mserd\n",
      "Kernel                   Triangular\n",
      "VCE method                       NN\n",
      "\n",
      "Number of Obs.                2314         315\n",
      "Eff. Number of Obs.            430         238\n",
      "Order est. (p)                   1           1\n",
      "Order bias  (q)                  2           2\n",
      "BW est. (h)                 13.940      13.940\n",
      "BW bias (b)                 22.475      22.475\n",
      "rho (h/b)                    0.620       0.620\n",
      "Unique Obs.                   2311         315\n",
      "\n",
      "=============================================================================\n",
      "        Method     Coef. Std. Err.         z     P>|z|      [ 95% C.I. ]       \n",
      "=============================================================================\n",
      "  Conventional     0.603     1.479     0.408     0.683    [-2.296 , 3.503]     \n",
      "        Robust         -         -     0.370     0.711    [-2.794 , 4.095]     \n",
      "=============================================================================\n",
      "Call: rdrobust\n",
      "\n",
      "Number of Obs.                 2629\n",
      "BW type                       mserd\n",
      "Kernel                   Triangular\n",
      "VCE method                       NN\n",
      "\n",
      "Number of Obs.                2314         315\n",
      "Eff. Number of Obs.            373         223\n",
      "Order est. (p)                   1           1\n",
      "Order bias  (q)                  2           2\n",
      "BW est. (h)                 12.166      12.166\n",
      "BW bias (b)                 20.064      20.064\n",
      "rho (h/b)                    0.606       0.606\n",
      "Unique Obs.                   2311         315\n",
      "\n",
      "=============================================================================\n",
      "        Method     Coef. Std. Err.         z     P>|z|      [ 95% C.I. ]       \n",
      "=============================================================================\n",
      "  Conventional    -0.168     0.478    -0.351     0.726    [-1.105 , 0.769]     \n",
      "        Robust         -         -    -0.429     0.668    [-1.357 , 0.869]     \n",
      "=============================================================================\n",
      "Call: rdrobust\n",
      "\n",
      "Number of Obs.                 2629\n",
      "BW type                       mserd\n",
      "Kernel                   Triangular\n",
      "VCE method                       NN\n",
      "\n",
      "Number of Obs.                2314         315\n",
      "Eff. Number of Obs.            445         240\n",
      "Order est. (p)                   1           1\n",
      "Order bias  (q)                  2           2\n",
      "BW est. (h)                 14.314      14.314\n",
      "BW bias (b)                 25.859      25.859\n",
      "rho (h/b)                    0.554       0.554\n",
      "Unique Obs.                   2311         315\n",
      "\n",
      "=============================================================================\n",
      "        Method     Coef. Std. Err.         z     P>|z|      [ 95% C.I. ]       \n",
      "=============================================================================\n",
      "  Conventional    -0.217     0.473    -0.458     0.647    [-1.144 , 0.710]     \n",
      "        Robust         -         -    -0.624     0.533    [-1.397 , 0.723]     \n",
      "=============================================================================\n",
      "Call: rdrobust\n",
      "\n",
      "Number of Obs.                 2629\n",
      "BW type                       mserd\n",
      "Kernel                   Triangular\n",
      "VCE method                       NN\n",
      "\n",
      "Number of Obs.                2314         315\n",
      "Eff. Number of Obs.            463         248\n",
      "Order est. (p)                   1           1\n",
      "Order bias  (q)                  2           2\n",
      "BW est. (h)                 15.106      15.106\n",
      "BW bias (b)                 27.751      27.751\n",
      "rho (h/b)                    0.544       0.544\n",
      "Unique Obs.                   2311         315\n",
      "\n",
      "=============================================================================\n",
      "        Method     Coef. Std. Err.         z     P>|z|      [ 95% C.I. ]       \n",
      "=============================================================================\n",
      "  Conventional     0.041     1.172     0.035     0.972    [-2.255 , 2.338]     \n",
      "        Robust         -         -     0.276     0.783    [-2.260 , 3.000]     \n",
      "=============================================================================\n",
      "Call: rdrobust\n",
      "\n",
      "Number of Obs.                 2629\n",
      "BW type                       mserd\n",
      "Kernel                   Triangular\n",
      "VCE method                       NN\n",
      "\n",
      "Number of Obs.                2314         315\n",
      "Eff. Number of Obs.            322         200\n",
      "Order est. (p)                   1           1\n",
      "Order bias  (q)                  2           2\n",
      "BW est. (h)                 10.480      10.480\n",
      "BW bias (b)                 19.152      19.152\n",
      "rho (h/b)                    0.547       0.547\n",
      "Unique Obs.                   2311         315\n",
      "\n",
      "=============================================================================\n",
      "        Method     Coef. Std. Err.         z     P>|z|      [ 95% C.I. ]       \n",
      "=============================================================================\n",
      "  Conventional     1.731     1.886     0.918     0.359    [-1.964 , 5.427]     \n",
      "        Robust         -         -     1.016     0.310    [-2.064 , 6.507]     \n",
      "=============================================================================\n",
      "Call: rdrobust\n",
      "\n",
      "Number of Obs.                 2629\n",
      "BW type                       mserd\n",
      "Kernel                   Triangular\n",
      "VCE method                       NN\n",
      "\n",
      "Number of Obs.                2314         315\n",
      "Eff. Number of Obs.            547         270\n",
      "Order est. (p)                   1           1\n",
      "Order bias  (q)                  2           2\n",
      "BW est. (h)                 17.972      17.972\n",
      "BW bias (b)                 29.775      29.775\n",
      "rho (h/b)                    0.604       0.604\n",
      "Unique Obs.                   2311         315\n",
      "\n",
      "=============================================================================\n",
      "        Method     Coef. Std. Err.         z     P>|z|      [ 95% C.I. ]       \n",
      "=============================================================================\n",
      "  Conventional    -0.001     0.364    -0.003     0.998    [-0.714 , 0.712]     \n",
      "        Robust         -         -     0.155     0.877    [-0.775 , 0.908]     \n",
      "=============================================================================\n",
      "Call: rdrobust\n",
      "\n",
      "Number of Obs.                 2629\n",
      "BW type                       mserd\n",
      "Kernel                   Triangular\n",
      "VCE method                       NN\n",
      "\n",
      "Number of Obs.                2314         315\n",
      "Eff. Number of Obs.            394         230\n",
      "Order est. (p)                   1           1\n",
      "Order bias  (q)                  2           2\n",
      "BW est. (h)                 13.033      13.033\n",
      "BW bias (b)                 20.764      20.764\n",
      "rho (h/b)                    0.628       0.628\n",
      "Unique Obs.                   2311         315\n",
      "\n",
      "=============================================================================\n",
      "        Method     Coef. Std. Err.         z     P>|z|      [ 95% C.I. ]       \n",
      "=============================================================================\n",
      "  Conventional    -0.067     0.089    -0.757     0.449    [-0.241 , 0.107]     \n",
      "        Robust         -         -    -0.735     0.462    [-0.285 , 0.130]     \n",
      "=============================================================================\n",
      "Call: rdrobust\n",
      "\n",
      "Number of Obs.                 2629\n",
      "BW type                       mserd\n",
      "Kernel                   Triangular\n",
      "VCE method                       NN\n",
      "\n",
      "Number of Obs.                2314         315\n",
      "Eff. Number of Obs.            358         216\n",
      "Order est. (p)                   1           1\n",
      "Order bias  (q)                  2           2\n",
      "BW est. (h)                 11.557      11.557\n",
      "BW bias (b)                 18.908      18.908\n",
      "rho (h/b)                    0.611       0.611\n",
      "Unique Obs.                   2311         315\n",
      "\n",
      "=============================================================================\n",
      "        Method     Coef. Std. Err.         z     P>|z|      [ 95% C.I. ]       \n",
      "=============================================================================\n",
      "  Conventional     0.029     0.037     0.788     0.431    [-0.044 , 0.103]     \n",
      "        Robust         -         -     0.511     0.609    [-0.064 , 0.109]     \n",
      "=============================================================================\n",
      "Call: rdrobust\n",
      "\n",
      "Number of Obs.                 2629\n",
      "BW type                       mserd\n",
      "Kernel                   Triangular\n",
      "VCE method                       NN\n",
      "\n",
      "Number of Obs.                2314         315\n",
      "Eff. Number of Obs.            317         196\n",
      "Order est. (p)                   1           1\n",
      "Order bias  (q)                  2           2\n",
      "BW est. (h)                 10.360      10.360\n",
      "BW bias (b)                 18.636      18.636\n",
      "rho (h/b)                    0.556       0.556\n",
      "Unique Obs.                   2311         315\n",
      "\n",
      "=============================================================================\n",
      "        Method     Coef. Std. Err.         z     P>|z|      [ 95% C.I. ]       \n",
      "=============================================================================\n",
      "  Conventional    -0.016     0.039    -0.410     0.682    [-0.092 , 0.060]     \n",
      "        Robust         -         -    -0.565     0.572    [-0.114 , 0.063]     \n",
      "=============================================================================\n",
      "Call: rdrobust\n",
      "\n",
      "Number of Obs.                 2629\n",
      "BW type                       mserd\n",
      "Kernel                   Triangular\n",
      "VCE method                       NN\n",
      "\n",
      "Number of Obs.                2314         315\n",
      "Eff. Number of Obs.            407         235\n",
      "Order est. (p)                   1           1\n",
      "Order bias  (q)                  2           2\n",
      "BW est. (h)                 13.622      13.622\n",
      "BW bias (b)                 21.939      21.939\n",
      "rho (h/b)                    0.621       0.621\n",
      "Unique Obs.                   2311         315\n",
      "\n",
      "=============================================================================\n",
      "        Method     Coef. Std. Err.         z     P>|z|      [ 95% C.I. ]       \n",
      "=============================================================================\n",
      "  Conventional     0.008     0.024     0.313     0.754    [-0.040 , 0.055]     \n",
      "        Robust         -         -     0.354     0.723    [-0.047 , 0.068]     \n",
      "=============================================================================\n"
     ]
    },
    {
     "data": {
      "text/html": [
       "<table>\n",
       "<caption>A data.table: 11 × 2</caption>\n",
       "<thead>\n",
       "\t<tr><th scope=col>effect</th><th scope=col>se</th></tr>\n",
       "\t<tr><th scope=col>&lt;dbl&gt;</th><th scope=col>&lt;dbl&gt;</th></tr>\n",
       "</thead>\n",
       "<tbody>\n",
       "\t<tr><td> 0.012451531</td><td>0.27769928</td></tr>\n",
       "\t<tr><td> 0.603307436</td><td>1.47948326</td></tr>\n",
       "\t<tr><td>-0.167746500</td><td>0.47802880</td></tr>\n",
       "\t<tr><td>-0.216727830</td><td>0.47303014</td></tr>\n",
       "\t<tr><td> 0.041458619</td><td>1.17151051</td></tr>\n",
       "\t<tr><td> 1.731203156</td><td>1.88558725</td></tr>\n",
       "\t<tr><td>-0.001117587</td><td>0.36378606</td></tr>\n",
       "\t<tr><td>-0.067259387</td><td>0.08881828</td></tr>\n",
       "\t<tr><td> 0.029469568</td><td>0.03738503</td></tr>\n",
       "\t<tr><td>-0.015970253</td><td>0.03892158</td></tr>\n",
       "\t<tr><td> 0.007637548</td><td>0.02437838</td></tr>\n",
       "</tbody>\n",
       "</table>\n"
      ],
      "text/latex": [
       "A data.table: 11 × 2\n",
       "\\begin{tabular}{ll}\n",
       " effect & se\\\\\n",
       " <dbl> & <dbl>\\\\\n",
       "\\hline\n",
       "\t  0.012451531 & 0.27769928\\\\\n",
       "\t  0.603307436 & 1.47948326\\\\\n",
       "\t -0.167746500 & 0.47802880\\\\\n",
       "\t -0.216727830 & 0.47303014\\\\\n",
       "\t  0.041458619 & 1.17151051\\\\\n",
       "\t  1.731203156 & 1.88558725\\\\\n",
       "\t -0.001117587 & 0.36378606\\\\\n",
       "\t -0.067259387 & 0.08881828\\\\\n",
       "\t  0.029469568 & 0.03738503\\\\\n",
       "\t -0.015970253 & 0.03892158\\\\\n",
       "\t  0.007637548 & 0.02437838\\\\\n",
       "\\end{tabular}\n"
      ],
      "text/markdown": [
       "\n",
       "A data.table: 11 × 2\n",
       "\n",
       "| effect &lt;dbl&gt; | se &lt;dbl&gt; |\n",
       "|---|---|\n",
       "|  0.012451531 | 0.27769928 |\n",
       "|  0.603307436 | 1.47948326 |\n",
       "| -0.167746500 | 0.47802880 |\n",
       "| -0.216727830 | 0.47303014 |\n",
       "|  0.041458619 | 1.17151051 |\n",
       "|  1.731203156 | 1.88558725 |\n",
       "| -0.001117587 | 0.36378606 |\n",
       "| -0.067259387 | 0.08881828 |\n",
       "|  0.029469568 | 0.03738503 |\n",
       "| -0.015970253 | 0.03892158 |\n",
       "|  0.007637548 | 0.02437838 |\n",
       "\n"
      ],
      "text/plain": [
       "   effect       se        \n",
       "1   0.012451531 0.27769928\n",
       "2   0.603307436 1.47948326\n",
       "3  -0.167746500 0.47802880\n",
       "4  -0.216727830 0.47303014\n",
       "5   0.041458619 1.17151051\n",
       "6   1.731203156 1.88558725\n",
       "7  -0.001117587 0.36378606\n",
       "8  -0.067259387 0.08881828\n",
       "9   0.029469568 0.03738503\n",
       "10 -0.015970253 0.03892158\n",
       "11  0.007637548 0.02437838"
      ]
     },
     "metadata": {},
     "output_type": "display_data"
    }
   ],
   "source": [
    "covariate_rd <- function(covariate) {\n",
    "\n",
    "\tout <- rdrobust(covariate, X)\n",
    "\tsummary(out)\n",
    "\tlist(effect=out$Estimate[[1]], se=out$Estimate[[3]])  \n",
    "\n",
    "}\n",
    "\n",
    "covariate_out <- apply(covariates, 2, covariate_rd)\n",
    "\n",
    "\n",
    "# convert list to table\n",
    "covariate_table <- rbindlist(covariate_out)\n",
    "covariate_table\n",
    "\n"
   ]
  },
  {
   "cell_type": "markdown",
   "metadata": {},
   "source": [
    "***\n",
    "\n",
    "## Extensions\n",
    "\n",
    "### Mechanisms and effect heterogeneity\n",
    "\n",
    "Table V Panel C, Meyersson "
   ]
  },
  {
   "cell_type": "code",
   "execution_count": 60,
   "metadata": {},
   "outputs": [
    {
     "data": {
      "text/html": [
       "26.0218887329102"
      ],
      "text/latex": [
       "26.0218887329102"
      ],
      "text/markdown": [
       "26.0218887329102"
      ],
      "text/plain": [
       "[1] 26.02189"
      ]
     },
     "metadata": {},
     "output_type": "display_data"
    },
    {
     "name": "stdout",
     "output_type": "stream",
     "text": [
      "Call: rdrobust\n",
      "\n",
      "Number of Obs.                  557\n",
      "BW type                      Manual\n",
      "Kernel                   Triangular\n",
      "VCE method                       NN\n",
      "\n",
      "Number of Obs.                 260         297\n",
      "Eff. Number of Obs.            249         276\n",
      "Order est. (p)                   1           1\n",
      "Order bias  (q)                  2           2\n",
      "BW est. (h)                 25.000      25.000\n",
      "BW bias (b)                 25.000      25.000\n",
      "rho (h/b)                    1.000       1.000\n",
      "Unique Obs.                    260         297\n",
      "\n",
      "=============================================================================\n",
      "        Method     Coef. Std. Err.         z     P>|z|      [ 95% C.I. ]       \n",
      "=============================================================================\n",
      "  Conventional     3.618     1.430     2.530     0.011     [0.815 , 6.420]     \n",
      "        Robust         -         -     1.620     0.105    [-0.695 , 7.304]     \n",
      "=============================================================================\n",
      "Call: rdrobust\n",
      "\n",
      "Number of Obs.                 2072\n",
      "BW type                      Manual\n",
      "Kernel                   Triangular\n",
      "VCE method                       NN\n",
      "\n",
      "Number of Obs.                2054          18\n",
      "Eff. Number of Obs.            506          18\n",
      "Order est. (p)                   1           1\n",
      "Order bias  (q)                  2           2\n",
      "BW est. (h)                 25.000      25.000\n",
      "BW bias (b)                 25.000      25.000\n",
      "rho (h/b)                    1.000       1.000\n",
      "Unique Obs.                   2052          18\n",
      "\n",
      "=============================================================================\n",
      "        Method     Coef. Std. Err.         z     P>|z|      [ 95% C.I. ]       \n",
      "=============================================================================\n",
      "  Conventional    -0.559     3.273    -0.171     0.864    [-6.974 , 5.856]     \n",
      "        Robust         -         -     0.155     0.877    [-8.984 , 10.526]    \n",
      "=============================================================================\n"
     ]
    }
   ],
   "source": [
    "# Restrict sample to bandwidth of 25\n",
    "# Only after, split at median of Islam vote share\n",
    "median <- as.numeric(median(vshr_islam1994[abs(X)<=25]))\n",
    "median\n",
    "\n",
    "# Column (1), above median \n",
    "out = rdrobust(Y[vshr_islam1994 >= median], X[vshr_islam1994 >= median], \n",
    "               kernel = \"triangular\", p = 1, h = 25)\n",
    "summary(out)\n",
    "\n",
    "# Column (2), below median \n",
    "out = rdrobust(Y[vshr_islam1994 < median], X[vshr_islam1994 < median], \n",
    "               kernel = \"triangular\", p = 1, h = 25)\n",
    "summary(out)\n"
   ]
  },
  {
   "cell_type": "markdown",
   "metadata": {},
   "source": [
    "### Donut hole approach \n",
    "\n",
    "Test for excluding different ranges of observations right next to the cutoff.\n",
    "\n",
    "Avoids potential biases from manipulation of running variable around the cut-off. "
   ]
  },
  {
   "cell_type": "code",
   "execution_count": 64,
   "metadata": {},
   "outputs": [
    {
     "data": {
      "text/html": [
       "<table>\n",
       "<caption>A data.table: 6 × 3</caption>\n",
       "<thead>\n",
       "\t<tr><th scope=col>donut</th><th scope=col>effect</th><th scope=col>se</th></tr>\n",
       "\t<tr><th scope=col>&lt;dbl&gt;</th><th scope=col>&lt;dbl&gt;</th><th scope=col>&lt;dbl&gt;</th></tr>\n",
       "</thead>\n",
       "<tbody>\n",
       "\t<tr><td>0.0</td><td>3.019526</td><td>1.427053</td></tr>\n",
       "\t<tr><td>0.1</td><td>3.080773</td><td>1.405735</td></tr>\n",
       "\t<tr><td>0.2</td><td>3.337186</td><td>1.469769</td></tr>\n",
       "\t<tr><td>0.3</td><td>3.414149</td><td>1.516897</td></tr>\n",
       "\t<tr><td>0.4</td><td>3.285757</td><td>1.436078</td></tr>\n",
       "\t<tr><td>0.5</td><td>3.745077</td><td>1.495280</td></tr>\n",
       "</tbody>\n",
       "</table>\n"
      ],
      "text/latex": [
       "A data.table: 6 × 3\n",
       "\\begin{tabular}{lll}\n",
       " donut & effect & se\\\\\n",
       " <dbl> & <dbl> & <dbl>\\\\\n",
       "\\hline\n",
       "\t 0.0 & 3.019526 & 1.427053\\\\\n",
       "\t 0.1 & 3.080773 & 1.405735\\\\\n",
       "\t 0.2 & 3.337186 & 1.469769\\\\\n",
       "\t 0.3 & 3.414149 & 1.516897\\\\\n",
       "\t 0.4 & 3.285757 & 1.436078\\\\\n",
       "\t 0.5 & 3.745077 & 1.495280\\\\\n",
       "\\end{tabular}\n"
      ],
      "text/markdown": [
       "\n",
       "A data.table: 6 × 3\n",
       "\n",
       "| donut &lt;dbl&gt; | effect &lt;dbl&gt; | se &lt;dbl&gt; |\n",
       "|---|---|---|\n",
       "| 0.0 | 3.019526 | 1.427053 |\n",
       "| 0.1 | 3.080773 | 1.405735 |\n",
       "| 0.2 | 3.337186 | 1.469769 |\n",
       "| 0.3 | 3.414149 | 1.516897 |\n",
       "| 0.4 | 3.285757 | 1.436078 |\n",
       "| 0.5 | 3.745077 | 1.495280 |\n",
       "\n"
      ],
      "text/plain": [
       "  donut effect   se      \n",
       "1 0.0   3.019526 1.427053\n",
       "2 0.1   3.080773 1.405735\n",
       "3 0.2   3.337186 1.469769\n",
       "4 0.3   3.414149 1.516897\n",
       "5 0.4   3.285757 1.436078\n",
       "6 0.5   3.745077 1.495280"
      ]
     },
     "metadata": {},
     "output_type": "display_data"
    }
   ],
   "source": [
    "donut_range <- as.matrix(c(0, 0.1, 0.2, 0.3, 0.4, 0.5))\n",
    "\n",
    "donut_tests <- function(donut) {          \n",
    "\t\n",
    "\tif (is.numeric(donut)) {\n",
    "\t\tout = rdrobust(Y[abs(X) >= donut], X[abs(X) >= donut], \n",
    "                       kernel = \"triangular\", p = 1)\n",
    "\t\tlist(donut=donut, effect=out$Estimate[[1]], se=out$Estimate[[3]])  \n",
    "\t} else {\n",
    "\t\tprint(\"ERROR - Donut range must be numeric\")\n",
    "\t}\n",
    "\n",
    "}\n",
    "\n",
    "donut_out <- apply(donut_range, 1, donut_tests)\n",
    "\n",
    "\n",
    "# convert list to table\n",
    "donut_table <- rbindlist(donut_out)\n",
    "donut_table"
   ]
  }
 ],
 "metadata": {
  "kernelspec": {
   "display_name": "R",
   "language": "R",
   "name": "ir"
  },
  "language_info": {
   "codemirror_mode": "r",
   "file_extension": ".r",
   "mimetype": "text/x-r-source",
   "name": "R",
   "pygments_lexer": "r",
   "version": "3.6.1"
  }
 },
 "nbformat": 4,
 "nbformat_minor": 2
}
