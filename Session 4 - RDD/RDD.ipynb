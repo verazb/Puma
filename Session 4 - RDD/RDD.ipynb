{
 "cells": [
  {
   "cell_type": "markdown",
   "metadata": {},
   "source": [
    "**Applied Empirical Analysis (HS 2020)**\n",
    "\n",
    "**Conny Wunsch, Ulrike Unterhofer and Véra Zabrodina** -- University of Basel\n",
    "\n",
    "***\n",
    "\n",
    "# Lab Session 4 - Regression Discontinuity Design (RDD)\n",
    "\n",
    "***\n",
    "\n",
    "Key ingredients for a sharp RDD\n",
    "* Institutional rules imply that treatment probability jumps at cut-off value $\\bar{x}$ of some quasi-continuous covariate $x$.\n",
    "* $x$ is called the assignment, running or forcing variable (or score).\n",
    "* Cut-off is strictly enforced and everyone at one side of the cut-off is subject to the intervention and everyone on the other side is not.\n",
    "\n",
    "$D_i=D(X_i)=\\underline{1}(X_i\\ge\\bar{x})$\n",
    "\n",
    "$Pr(D_i=1|X_i<\\bar{x})=0$ and $Pr(D_i=1|X_i\\ge\\bar{x})=1$\n",
    "\n",
    "* Units around the cut-off are comparable. \n",
    "\n",
    "\n",
    "Note: no overlap in $X_i$ (no common support) between treated and\n",
    "nontreated.\n"
   ]
  },
  {
   "cell_type": "markdown",
   "metadata": {},
   "source": [
    "## Application: Islamic Rule and the Empowerment of the Poor and Pious \n",
    "\n",
    "**Meyersson E. (Econometrica, 2014)**\n",
    "\n",
    "This paper is also discussed and replicated by Cattaneo, Idrobo and Titiunik (2019) (henceforth CIT). See for further details. "
   ]
  },
  {
   "cell_type": "markdown",
   "metadata": {},
   "source": [
    "## 1. Introduction\n",
    "\n",
    "* What is the research question?\n",
    "* Why is it interesting?\n",
    "* What is the treatment? The outcome(s) of interest? \n",
    "* What is the main endogeneity problem?\n",
    "* How does the author solve it? \n"
   ]
  },
  {
   "cell_type": "markdown",
   "metadata": {},
   "source": [
    "***\n",
    "\n",
    "## 2. Identification strategy and assumptions\n",
    "\n",
    "\n",
    "\n",
    "### Setup and notation\n",
    "\n",
    "Plurality system in municipal elections: the party with the highest share of votes wins. \n",
    "\n",
    "Exploit win margin of the Islamic party as a running variable, with 0 as the cutoff. \n",
    "\n",
    "Compare municipalities just above vs. just below the cut-off. \n",
    "\n",
    "\n",
    "* $Y_i$ outcome: high school completion rates among women\n",
    "* $X_i$ running variable (not covariates!): win margin \n",
    "* $D_i$ treatment : Islamic rule \n",
    "    * Treated group ($D_i = 1$): municipalities where the Islamic party ruled.\n",
    "    * Control group ($D_i = 0$): municipalities where another secular party ruled. \n",
    "\n",
    "\n",
    "\n",
    "### Discussion of assumptions\n",
    "\n",
    "* What do these assumptions mean in words?\n",
    "* What could invalidate them? Think of concrete examples or mechanisms.\n",
    "* Which arguments or empirical evidence can you provide to support that they hold?\n",
    "\n",
    "\n",
    "**A1: Stable unit treatment value assumption (SUTVA)**\n",
    "\n",
    "$Y_{i}=D_{i}Y^*_{1,i}+(1-D_{i})Y^*_{0,i}$\n",
    "\n",
    "**A2: Local continuity**\n",
    "\n",
    "$E[Y^*_{0,i}|X_i=x]$ and $E[Y^*_{1,i}|X_i=x]$ are continuous in $x$ at $\\bar{x}$\n",
    "\n",
    "No manupulation???\n",
    "\n",
    "\n"
   ]
  },
  {
   "cell_type": "markdown",
   "metadata": {},
   "source": [
    "***\n",
    "\n",
    "## 3. Data\n",
    "\n",
    "* What is the unit of observation? -- Aggregate data on municipalities.  \n",
    "\n",
    "* What is the time unit? -- In some years.\n",
    "\n",
    "* Is the running variable precisely measured? -- Yes. \n",
    "\n",
    "\n",
    "\n",
    "|variable name |   description |\n",
    "|----:|----:|\n",
    "| X              | Islamic Margin of Victory |\n",
    "| Y              | Female High School percentage |\n",
    "| D              | Islamic rule |\n",
    "| ageshr19       | Percentage of population below 19 in 2000 |\n",
    "| ageshr60       | Percentage of population above 60 in 2000 |\n",
    "| buyuk          | Metro center |\n",
    "| hischshr1520m  | Percentage of men aged 15-20 with high school education |\n",
    "| i89            | Islamic Mayor in 1989 |\n",
    "| lpop1994       | Log population in 1994 |\n",
    "| merkezi        | District center |\n",
    "| merkezp        | Province center |\n",
    "| partycount     | Number of parties receiving votes 1994 |\n",
    "| prov_num       | Province number    |\n",
    "| sexr           | Gender ratio in 2000 |\n",
    "| shhs           | Household size in 2000 |\n",
    "| subbuyuk       | Sub-metro center |\n",
    "| vshr_islam1994 | Islamic percentage of votes in 1994 |"
   ]
  },
  {
   "cell_type": "markdown",
   "metadata": {},
   "source": [
    "***\n",
    "\n",
    "## Load packages"
   ]
  },
  {
   "cell_type": "code",
   "execution_count": 1,
   "metadata": {},
   "outputs": [
    {
     "name": "stderr",
     "output_type": "stream",
     "text": [
      "Loading required package: haven\n",
      "\n",
      "Warning message:\n",
      "\"package 'haven' was built under R version 3.6.3\"\n",
      "Loading required package: dplyr\n",
      "\n",
      "Warning message:\n",
      "\"package 'dplyr' was built under R version 3.6.3\"\n",
      "\n",
      "Attaching package: 'dplyr'\n",
      "\n",
      "\n",
      "The following objects are masked from 'package:stats':\n",
      "\n",
      "    filter, lag\n",
      "\n",
      "\n",
      "The following objects are masked from 'package:base':\n",
      "\n",
      "    intersect, setdiff, setequal, union\n",
      "\n",
      "\n",
      "Loading required package: tidyr\n",
      "\n",
      "Warning message:\n",
      "\"package 'tidyr' was built under R version 3.6.3\"\n",
      "Loading required package: sandwich\n",
      "\n",
      "Warning message:\n",
      "\"package 'sandwich' was built under R version 3.6.3\"\n",
      "Loading required package: fBasics\n",
      "\n",
      "Warning message:\n",
      "\"package 'fBasics' was built under R version 3.6.3\"\n",
      "Loading required package: timeDate\n",
      "\n",
      "Warning message:\n",
      "\"package 'timeDate' was built under R version 3.6.3\"\n",
      "Loading required package: timeSeries\n",
      "\n",
      "Warning message:\n",
      "\"package 'timeSeries' was built under R version 3.6.3\"\n",
      "Loading required package: xtable\n",
      "\n",
      "Warning message:\n",
      "\"package 'xtable' was built under R version 3.6.3\"\n",
      "\n",
      "Attaching package: 'xtable'\n",
      "\n",
      "\n",
      "The following object is masked from 'package:timeSeries':\n",
      "\n",
      "    align\n",
      "\n",
      "\n",
      "The following object is masked from 'package:timeDate':\n",
      "\n",
      "    align\n",
      "\n",
      "\n",
      "Loading required package: data.table\n",
      "\n",
      "Warning message:\n",
      "\"package 'data.table' was built under R version 3.6.3\"\n",
      "\n",
      "Attaching package: 'data.table'\n",
      "\n",
      "\n",
      "The following objects are masked from 'package:dplyr':\n",
      "\n",
      "    between, first, last\n",
      "\n",
      "\n",
      "Loading required package: stargazer\n",
      "\n",
      "\n",
      "Please cite as: \n",
      "\n",
      "\n",
      " Hlavac, Marek (2018). stargazer: Well-Formatted Regression and Summary Statistics Tables.\n",
      "\n",
      " R package version 5.2.2. https://CRAN.R-project.org/package=stargazer \n",
      "\n",
      "\n",
      "Loading required package: mfx\n",
      "\n",
      "Warning message:\n",
      "\"package 'mfx' was built under R version 3.6.3\"\n",
      "Loading required package: lmtest\n",
      "\n",
      "Warning message:\n",
      "\"package 'lmtest' was built under R version 3.6.3\"\n",
      "Loading required package: zoo\n",
      "\n",
      "Warning message:\n",
      "\"package 'zoo' was built under R version 3.6.3\"\n",
      "\n",
      "Attaching package: 'zoo'\n",
      "\n",
      "\n",
      "The following object is masked from 'package:timeSeries':\n",
      "\n",
      "    time<-\n",
      "\n",
      "\n",
      "The following objects are masked from 'package:base':\n",
      "\n",
      "    as.Date, as.Date.numeric\n",
      "\n",
      "\n",
      "Loading required package: MASS\n",
      "\n",
      "\n",
      "Attaching package: 'MASS'\n",
      "\n",
      "\n",
      "The following object is masked from 'package:dplyr':\n",
      "\n",
      "    select\n",
      "\n",
      "\n",
      "Loading required package: betareg\n",
      "\n",
      "Warning message:\n",
      "\"package 'betareg' was built under R version 3.6.3\"\n",
      "Loading required package: jtools\n",
      "\n",
      "Warning message:\n",
      "\"package 'jtools' was built under R version 3.6.3\"\n",
      "Loading required package: ggplot2\n",
      "\n",
      "Warning message:\n",
      "\"package 'ggplot2' was built under R version 3.6.3\"\n"
     ]
    },
    {
     "data": {
      "text/html": [
       "<ol>\n",
       "\t<li>TRUE</li>\n",
       "\t<li>TRUE</li>\n",
       "\t<li>TRUE</li>\n",
       "\t<li>TRUE</li>\n",
       "\t<li>TRUE</li>\n",
       "\t<li>TRUE</li>\n",
       "\t<li>TRUE</li>\n",
       "\t<li>TRUE</li>\n",
       "\t<li>TRUE</li>\n",
       "\t<li>TRUE</li>\n",
       "\t<li>TRUE</li>\n",
       "</ol>\n"
      ],
      "text/latex": [
       "\\begin{enumerate}\n",
       "\\item TRUE\n",
       "\\item TRUE\n",
       "\\item TRUE\n",
       "\\item TRUE\n",
       "\\item TRUE\n",
       "\\item TRUE\n",
       "\\item TRUE\n",
       "\\item TRUE\n",
       "\\item TRUE\n",
       "\\item TRUE\n",
       "\\item TRUE\n",
       "\\end{enumerate}\n"
      ],
      "text/markdown": [
       "1. TRUE\n",
       "2. TRUE\n",
       "3. TRUE\n",
       "4. TRUE\n",
       "5. TRUE\n",
       "6. TRUE\n",
       "7. TRUE\n",
       "8. TRUE\n",
       "9. TRUE\n",
       "10. TRUE\n",
       "11. TRUE\n",
       "\n",
       "\n"
      ],
      "text/plain": [
       "[[1]]\n",
       "[1] TRUE\n",
       "\n",
       "[[2]]\n",
       "[1] TRUE\n",
       "\n",
       "[[3]]\n",
       "[1] TRUE\n",
       "\n",
       "[[4]]\n",
       "[1] TRUE\n",
       "\n",
       "[[5]]\n",
       "[1] TRUE\n",
       "\n",
       "[[6]]\n",
       "[1] TRUE\n",
       "\n",
       "[[7]]\n",
       "[1] TRUE\n",
       "\n",
       "[[8]]\n",
       "[1] TRUE\n",
       "\n",
       "[[9]]\n",
       "[1] TRUE\n",
       "\n",
       "[[10]]\n",
       "[1] TRUE\n",
       "\n",
       "[[11]]\n",
       "[1] TRUE\n"
      ]
     },
     "metadata": {},
     "output_type": "display_data"
    },
    {
     "name": "stderr",
     "output_type": "stream",
     "text": [
      "Loading required package: grid\n",
      "\n",
      "Loading required package: lpdensity\n",
      "\n",
      "Warning message:\n",
      "\"package 'lpdensity' was built under R version 3.6.3\"\n",
      "Loading required package: rddensity\n",
      "\n",
      "Warning message:\n",
      "\"package 'rddensity' was built under R version 3.6.3\"\n",
      "Loading required package: rdlocrand\n",
      "\n",
      "Warning message:\n",
      "\"package 'rdlocrand' was built under R version 3.6.3\"\n",
      "Loading required package: rdrobust\n",
      "\n",
      "Warning message:\n",
      "\"package 'rdrobust' was built under R version 3.6.3\"\n",
      "Loading required package: TeachingDemos\n",
      "\n",
      "Warning message:\n",
      "\"package 'TeachingDemos' was built under R version 3.6.3\"\n",
      "\n",
      "Attaching package: 'TeachingDemos'\n",
      "\n",
      "\n",
      "The following object is masked from 'package:xtable':\n",
      "\n",
      "    digits\n",
      "\n",
      "\n"
     ]
    },
    {
     "data": {
      "text/html": [
       "<ol>\n",
       "\t<li>TRUE</li>\n",
       "\t<li>TRUE</li>\n",
       "\t<li>TRUE</li>\n",
       "\t<li>TRUE</li>\n",
       "\t<li>TRUE</li>\n",
       "\t<li>TRUE</li>\n",
       "</ol>\n"
      ],
      "text/latex": [
       "\\begin{enumerate}\n",
       "\\item TRUE\n",
       "\\item TRUE\n",
       "\\item TRUE\n",
       "\\item TRUE\n",
       "\\item TRUE\n",
       "\\item TRUE\n",
       "\\end{enumerate}\n"
      ],
      "text/markdown": [
       "1. TRUE\n",
       "2. TRUE\n",
       "3. TRUE\n",
       "4. TRUE\n",
       "5. TRUE\n",
       "6. TRUE\n",
       "\n",
       "\n"
      ],
      "text/plain": [
       "[[1]]\n",
       "[1] TRUE\n",
       "\n",
       "[[2]]\n",
       "[1] TRUE\n",
       "\n",
       "[[3]]\n",
       "[1] TRUE\n",
       "\n",
       "[[4]]\n",
       "[1] TRUE\n",
       "\n",
       "[[5]]\n",
       "[1] TRUE\n",
       "\n",
       "[[6]]\n",
       "[1] TRUE\n"
      ]
     },
     "metadata": {},
     "output_type": "display_data"
    },
    {
     "data": {
      "text/html": [
       "<style>\n",
       ".list-inline {list-style: none; margin:0; padding: 0}\n",
       ".list-inline>li {display: inline-block}\n",
       ".list-inline>li:not(:last-child)::after {content: \"\\00b7\"; padding: 0 .5ex}\n",
       "</style>\n",
       "<ol class=list-inline><li>'TeachingDemos'</li><li>'rdrobust'</li><li>'rdlocrand'</li><li>'rddensity'</li><li>'lpdensity'</li><li>'grid'</li><li>'ggplot2'</li><li>'jtools'</li><li>'mfx'</li><li>'betareg'</li><li>'MASS'</li><li>'lmtest'</li><li>'zoo'</li><li>'stargazer'</li><li>'data.table'</li><li>'xtable'</li><li>'fBasics'</li><li>'timeSeries'</li><li>'timeDate'</li><li>'sandwich'</li><li>'tidyr'</li><li>'dplyr'</li><li>'haven'</li><li>'stats'</li><li>'graphics'</li><li>'grDevices'</li><li>'utils'</li><li>'datasets'</li><li>'methods'</li><li>'base'</li></ol>\n"
      ],
      "text/latex": [
       "\\begin{enumerate*}\n",
       "\\item 'TeachingDemos'\n",
       "\\item 'rdrobust'\n",
       "\\item 'rdlocrand'\n",
       "\\item 'rddensity'\n",
       "\\item 'lpdensity'\n",
       "\\item 'grid'\n",
       "\\item 'ggplot2'\n",
       "\\item 'jtools'\n",
       "\\item 'mfx'\n",
       "\\item 'betareg'\n",
       "\\item 'MASS'\n",
       "\\item 'lmtest'\n",
       "\\item 'zoo'\n",
       "\\item 'stargazer'\n",
       "\\item 'data.table'\n",
       "\\item 'xtable'\n",
       "\\item 'fBasics'\n",
       "\\item 'timeSeries'\n",
       "\\item 'timeDate'\n",
       "\\item 'sandwich'\n",
       "\\item 'tidyr'\n",
       "\\item 'dplyr'\n",
       "\\item 'haven'\n",
       "\\item 'stats'\n",
       "\\item 'graphics'\n",
       "\\item 'grDevices'\n",
       "\\item 'utils'\n",
       "\\item 'datasets'\n",
       "\\item 'methods'\n",
       "\\item 'base'\n",
       "\\end{enumerate*}\n"
      ],
      "text/markdown": [
       "1. 'TeachingDemos'\n",
       "2. 'rdrobust'\n",
       "3. 'rdlocrand'\n",
       "4. 'rddensity'\n",
       "5. 'lpdensity'\n",
       "6. 'grid'\n",
       "7. 'ggplot2'\n",
       "8. 'jtools'\n",
       "9. 'mfx'\n",
       "10. 'betareg'\n",
       "11. 'MASS'\n",
       "12. 'lmtest'\n",
       "13. 'zoo'\n",
       "14. 'stargazer'\n",
       "15. 'data.table'\n",
       "16. 'xtable'\n",
       "17. 'fBasics'\n",
       "18. 'timeSeries'\n",
       "19. 'timeDate'\n",
       "20. 'sandwich'\n",
       "21. 'tidyr'\n",
       "22. 'dplyr'\n",
       "23. 'haven'\n",
       "24. 'stats'\n",
       "25. 'graphics'\n",
       "26. 'grDevices'\n",
       "27. 'utils'\n",
       "28. 'datasets'\n",
       "29. 'methods'\n",
       "30. 'base'\n",
       "\n",
       "\n"
      ],
      "text/plain": [
       " [1] \"TeachingDemos\" \"rdrobust\"      \"rdlocrand\"     \"rddensity\"    \n",
       " [5] \"lpdensity\"     \"grid\"          \"ggplot2\"       \"jtools\"       \n",
       " [9] \"mfx\"           \"betareg\"       \"MASS\"          \"lmtest\"       \n",
       "[13] \"zoo\"           \"stargazer\"     \"data.table\"    \"xtable\"       \n",
       "[17] \"fBasics\"       \"timeSeries\"    \"timeDate\"      \"sandwich\"     \n",
       "[21] \"tidyr\"         \"dplyr\"         \"haven\"         \"stats\"        \n",
       "[25] \"graphics\"      \"grDevices\"     \"utils\"         \"datasets\"     \n",
       "[29] \"methods\"       \"base\"         "
      ]
     },
     "metadata": {},
     "output_type": "display_data"
    },
    {
     "name": "stdout",
     "output_type": "stream",
     "text": [
      "[1] \"All packages successfully installed and loaded.\"\n"
     ]
    }
   ],
   "source": [
    "packages_vector <- c(\"haven\", \"dplyr\", \"tidyr\", \"sandwich\", \"expss\",\n",
    "    \"fBasics\", \"xtable\", \"data.table\", \"stargazer\", \"mfx\", \"jtools\", \"ggplot2\")\n",
    "# install.packages(packages_vector)\n",
    "lapply(packages_vector, require, character.only = TRUE) \n",
    "\n",
    "\n",
    "# RDD-specific packages \n",
    "packaged_vector_rdd <- c(\"grid\", \"lpdensity\", \"rddensity\", \"rdlocrand\", \"rdrobust\", \"TeachingDemos\")\n",
    "# install.packages(packages_vector)\n",
    "lapply(packaged_vector_rdd, require, character.only = TRUE) \n",
    "\n",
    "# List loaded packages \n",
    "(.packages())\n",
    "\n",
    "print('All packages successfully installed and loaded.')"
   ]
  },
  {
   "cell_type": "markdown",
   "metadata": {},
   "source": [
    "## Load data "
   ]
  },
  {
   "cell_type": "code",
   "execution_count": 2,
   "metadata": {},
   "outputs": [
    {
     "data": {
      "text/html": [
       "<table>\n",
       "<caption>A data.frame: 6 × 17</caption>\n",
       "<thead>\n",
       "\t<tr><th></th><th scope=col>X</th><th scope=col>Y</th><th scope=col>D</th><th scope=col>ageshr19</th><th scope=col>ageshr60</th><th scope=col>buyuk</th><th scope=col>hischshr1520m</th><th scope=col>i89</th><th scope=col>lpop1994</th><th scope=col>merkezi</th><th scope=col>merkezp</th><th scope=col>partycount</th><th scope=col>prov_num</th><th scope=col>sexr</th><th scope=col>shhs</th><th scope=col>subbuyuk</th><th scope=col>vshr_islam1994</th></tr>\n",
       "\t<tr><th></th><th scope=col>&lt;dbl&gt;</th><th scope=col>&lt;dbl&gt;</th><th scope=col>&lt;dbl&gt;</th><th scope=col>&lt;dbl&gt;</th><th scope=col>&lt;dbl&gt;</th><th scope=col>&lt;dbl&gt;</th><th scope=col>&lt;dbl&gt;</th><th scope=col>&lt;dbl&gt;</th><th scope=col>&lt;dbl&gt;</th><th scope=col>&lt;dbl&gt;</th><th scope=col>&lt;dbl&gt;</th><th scope=col>&lt;dbl&gt;</th><th scope=col>&lt;dbl+lbl&gt;</th><th scope=col>&lt;dbl&gt;</th><th scope=col>&lt;dbl&gt;</th><th scope=col>&lt;dbl&gt;</th><th scope=col>&lt;dbl&gt;</th></tr>\n",
       "</thead>\n",
       "<tbody>\n",
       "\t<tr><th scope=row>1</th><td>-35.60663</td><td>22.96296</td><td>0</td><td>42.20857</td><td>7.506742</td><td>0</td><td>37.93103</td><td> 0</td><td> 7.996990</td><td>1</td><td>0</td><td> 6</td><td>1</td><td> 97.74815</td><td>4.670399</td><td>0</td><td> 1.5448381</td></tr>\n",
       "\t<tr><th scope=row>2</th><td>-54.34782</td><td>25.43860</td><td>0</td><td>44.09879</td><td>6.340537</td><td>0</td><td>30.89005</td><td> 0</td><td> 7.362645</td><td>0</td><td>0</td><td> 4</td><td>1</td><td>112.03424</td><td>6.813916</td><td>0</td><td> 2.5135870</td></tr>\n",
       "\t<tr><th scope=row>3</th><td>-20.40923</td><td>22.68273</td><td>0</td><td>43.54768</td><td>5.539970</td><td>1</td><td>22.62840</td><td> 0</td><td>13.175261</td><td>1</td><td>0</td><td>14</td><td>1</td><td> 97.46254</td><td>4.389300</td><td>0</td><td>11.1114979</td></tr>\n",
       "\t<tr><th scope=row>4</th><td>-44.97206</td><td>15.85366</td><td>0</td><td>43.86755</td><td>6.649007</td><td>0</td><td>17.11712</td><td> 0</td><td> 7.623153</td><td>0</td><td>0</td><td> 6</td><td>1</td><td>102.52145</td><td>5.510949</td><td>0</td><td> 5.5865922</td></tr>\n",
       "\t<tr><th scope=row>5</th><td>-20.11494</td><td>18.23899</td><td>0</td><td>41.81067</td><td>5.447032</td><td>0</td><td>17.31343</td><td> 0</td><td> 7.647786</td><td>0</td><td>0</td><td> 7</td><td>1</td><td>118.10733</td><td>6.234192</td><td>0</td><td>10.1880875</td></tr>\n",
       "\t<tr><th scope=row>6</th><td>-50.58997</td><td>25.00000</td><td>0</td><td>40.53058</td><td>6.963891</td><td>0</td><td>26.56250</td><td>NA</td><td> 7.312553</td><td>0</td><td>0</td><td> 5</td><td>1</td><td>101.78439</td><td>6.004425</td><td>0</td><td> 0.5899705</td></tr>\n",
       "</tbody>\n",
       "</table>\n"
      ],
      "text/latex": [
       "A data.frame: 6 × 17\n",
       "\\begin{tabular}{r|lllllllllllllllll}\n",
       "  & X & Y & D & ageshr19 & ageshr60 & buyuk & hischshr1520m & i89 & lpop1994 & merkezi & merkezp & partycount & prov\\_num & sexr & shhs & subbuyuk & vshr\\_islam1994\\\\\n",
       "  & <dbl> & <dbl> & <dbl> & <dbl> & <dbl> & <dbl> & <dbl> & <dbl> & <dbl> & <dbl> & <dbl> & <dbl> & <dbl+lbl> & <dbl> & <dbl> & <dbl> & <dbl>\\\\\n",
       "\\hline\n",
       "\t1 & -35.60663 & 22.96296 & 0 & 42.20857 & 7.506742 & 0 & 37.93103 &  0 &  7.996990 & 1 & 0 &  6 & 1 &  97.74815 & 4.670399 & 0 &  1.5448381\\\\\n",
       "\t2 & -54.34782 & 25.43860 & 0 & 44.09879 & 6.340537 & 0 & 30.89005 &  0 &  7.362645 & 0 & 0 &  4 & 1 & 112.03424 & 6.813916 & 0 &  2.5135870\\\\\n",
       "\t3 & -20.40923 & 22.68273 & 0 & 43.54768 & 5.539970 & 1 & 22.62840 &  0 & 13.175261 & 1 & 0 & 14 & 1 &  97.46254 & 4.389300 & 0 & 11.1114979\\\\\n",
       "\t4 & -44.97206 & 15.85366 & 0 & 43.86755 & 6.649007 & 0 & 17.11712 &  0 &  7.623153 & 0 & 0 &  6 & 1 & 102.52145 & 5.510949 & 0 &  5.5865922\\\\\n",
       "\t5 & -20.11494 & 18.23899 & 0 & 41.81067 & 5.447032 & 0 & 17.31343 &  0 &  7.647786 & 0 & 0 &  7 & 1 & 118.10733 & 6.234192 & 0 & 10.1880875\\\\\n",
       "\t6 & -50.58997 & 25.00000 & 0 & 40.53058 & 6.963891 & 0 & 26.56250 & NA &  7.312553 & 0 & 0 &  5 & 1 & 101.78439 & 6.004425 & 0 &  0.5899705\\\\\n",
       "\\end{tabular}\n"
      ],
      "text/markdown": [
       "\n",
       "A data.frame: 6 × 17\n",
       "\n",
       "| <!--/--> | X &lt;dbl&gt; | Y &lt;dbl&gt; | D &lt;dbl&gt; | ageshr19 &lt;dbl&gt; | ageshr60 &lt;dbl&gt; | buyuk &lt;dbl&gt; | hischshr1520m &lt;dbl&gt; | i89 &lt;dbl&gt; | lpop1994 &lt;dbl&gt; | merkezi &lt;dbl&gt; | merkezp &lt;dbl&gt; | partycount &lt;dbl&gt; | prov_num &lt;dbl+lbl&gt; | sexr &lt;dbl&gt; | shhs &lt;dbl&gt; | subbuyuk &lt;dbl&gt; | vshr_islam1994 &lt;dbl&gt; |\n",
       "|---|---|---|---|---|---|---|---|---|---|---|---|---|---|---|---|---|---|\n",
       "| 1 | -35.60663 | 22.96296 | 0 | 42.20857 | 7.506742 | 0 | 37.93103 |  0 |  7.996990 | 1 | 0 |  6 | 1 |  97.74815 | 4.670399 | 0 |  1.5448381 |\n",
       "| 2 | -54.34782 | 25.43860 | 0 | 44.09879 | 6.340537 | 0 | 30.89005 |  0 |  7.362645 | 0 | 0 |  4 | 1 | 112.03424 | 6.813916 | 0 |  2.5135870 |\n",
       "| 3 | -20.40923 | 22.68273 | 0 | 43.54768 | 5.539970 | 1 | 22.62840 |  0 | 13.175261 | 1 | 0 | 14 | 1 |  97.46254 | 4.389300 | 0 | 11.1114979 |\n",
       "| 4 | -44.97206 | 15.85366 | 0 | 43.86755 | 6.649007 | 0 | 17.11712 |  0 |  7.623153 | 0 | 0 |  6 | 1 | 102.52145 | 5.510949 | 0 |  5.5865922 |\n",
       "| 5 | -20.11494 | 18.23899 | 0 | 41.81067 | 5.447032 | 0 | 17.31343 |  0 |  7.647786 | 0 | 0 |  7 | 1 | 118.10733 | 6.234192 | 0 | 10.1880875 |\n",
       "| 6 | -50.58997 | 25.00000 | 0 | 40.53058 | 6.963891 | 0 | 26.56250 | NA |  7.312553 | 0 | 0 |  5 | 1 | 101.78439 | 6.004425 | 0 |  0.5899705 |\n",
       "\n"
      ],
      "text/plain": [
       "  X         Y        D ageshr19 ageshr60 buyuk hischshr1520m i89 lpop1994 \n",
       "1 -35.60663 22.96296 0 42.20857 7.506742 0     37.93103       0   7.996990\n",
       "2 -54.34782 25.43860 0 44.09879 6.340537 0     30.89005       0   7.362645\n",
       "3 -20.40923 22.68273 0 43.54768 5.539970 1     22.62840       0  13.175261\n",
       "4 -44.97206 15.85366 0 43.86755 6.649007 0     17.11712       0   7.623153\n",
       "5 -20.11494 18.23899 0 41.81067 5.447032 0     17.31343       0   7.647786\n",
       "6 -50.58997 25.00000 0 40.53058 6.963891 0     26.56250      NA   7.312553\n",
       "  merkezi merkezp partycount prov_num sexr      shhs     subbuyuk\n",
       "1 1       0        6         1         97.74815 4.670399 0       \n",
       "2 0       0        4         1        112.03424 6.813916 0       \n",
       "3 1       0       14         1         97.46254 4.389300 0       \n",
       "4 0       0        6         1        102.52145 5.510949 0       \n",
       "5 0       0        7         1        118.10733 6.234192 0       \n",
       "6 0       0        5         1        101.78439 6.004425 0       \n",
       "  vshr_islam1994\n",
       "1  1.5448381    \n",
       "2  2.5135870    \n",
       "3 11.1114979    \n",
       "4  5.5865922    \n",
       "5 10.1880875    \n",
       "6  0.5899705    "
      ]
     },
     "metadata": {},
     "output_type": "display_data"
    }
   ],
   "source": [
    "# Load data frame\n",
    "data <-as.data.frame(read_dta(\"data_meyersson.dta\"))\n",
    "\n",
    "# Inspect data\n",
    "head(data)\n",
    "\n",
    "# Vector with all variable names\n",
    "varnames <- colnames(data)\n",
    "\n",
    "# Store each variable in own R object\n",
    "attach(data)\n",
    "\n",
    "# Options for RD plots\n",
    "# options(width=280)\n",
    "par(mar = rep(2, 4))\n",
    "xlabel <- \"Islamic Margin of Victory\"\n",
    "ylabel <- \"Female High School percentage\"\n",
    "dlabel <- \"Islamic rule\"\n",
    "\n",
    "options(repr.plot.width=4, repr.plot.height=3, repr.plot.res = 300)"
   ]
  },
  {
   "cell_type": "markdown",
   "metadata": {},
   "source": [
    "***\n",
    "\n",
    "## Descriptive statistics and validity checks"
   ]
  },
  {
   "cell_type": "markdown",
   "metadata": {},
   "source": [
    "### Summary statistics by treatment group"
   ]
  },
  {
   "cell_type": "code",
   "execution_count": 3,
   "metadata": {},
   "outputs": [
    {
     "ename": "ERROR",
     "evalue": "Error in cro(D): could not find function \"cro\"\n",
     "output_type": "error",
     "traceback": [
      "Error in cro(D): could not find function \"cro\"\nTraceback:\n"
     ]
    }
   ],
   "source": [
    "# Number of treated and control\n",
    "cro(D)\n",
    "\n",
    "# Table 1 in Meyersson\n",
    "# Summary statistics - Pooled \n",
    "desc <- fBasics::basicStats(data) %>% t() %>% as.data.frame() %>% \n",
    "            dplyr::select(Mean, Stdev, Minimum, Maximum, nobs, NAs)\n",
    "print(round(desc, digits=2))"
   ]
  },
  {
   "cell_type": "code",
   "execution_count": null,
   "metadata": {},
   "outputs": [],
   "source": [
    "# Summary statistics - Treated \n",
    "desc_treat <- dplyr::filter(data, D==1) %>% fBasics::basicStats() %>% t() %>% \n",
    "        as.data.frame() %>% dplyr::select(Mean, Stdev, Minimum, Maximum, nobs, NAs)\n",
    "print(round(desc_treat, digits=2))"
   ]
  },
  {
   "cell_type": "code",
   "execution_count": null,
   "metadata": {},
   "outputs": [],
   "source": [
    "# Summary statistics - Control \n",
    "desc_control <- dplyr::filter(data, D==0) %>% fBasics::basicStats() %>% t() %>% \n",
    "        as.data.frame() %>% dplyr::select(Mean, Stdev, Minimum, Maximum, nobs, NAs)\n",
    "print(round(desc_control, digits=2))"
   ]
  },
  {
   "cell_type": "markdown",
   "metadata": {},
   "source": [
    "### Existence of discontinuity: Plot D against X\n",
    "\n",
    "Should be a jump from 0 to 1 at the cut-off in a sharp RDD. "
   ]
  },
  {
   "cell_type": "code",
   "execution_count": null,
   "metadata": {},
   "outputs": [],
   "source": [
    "ggplot(data,                \n",
    "       aes(x = X, y = D)) +\n",
    " \t   geom_line() +\n",
    " \t   ylab(\"Effect on employment rate\") "
   ]
  },
  {
   "cell_type": "markdown",
   "metadata": {},
   "source": [
    "### Descriptive evidence of effect: plot Y against X"
   ]
  },
  {
   "cell_type": "code",
   "execution_count": null,
   "metadata": {},
   "outputs": [],
   "source": [
    "# Figure 3a in CIT\n",
    "# Raw comparison of means (no polynomial)\n",
    "rdplot(Y, X, nbins = c(2500, 500), p = 0, title = \"\", \n",
    "       x.label = xlabel, y.label = ylabel)\n",
    "\n",
    "# Figure 3b in CIT\n",
    "# Local comparison of means within 50 percentage points bandwidth\n",
    "    # but same number of bins\n",
    "rdplot(Y[abs(X) <= 50], X[abs(X) <= 50], \n",
    "       nbins = c(2500, 500), p = 4, title = \"\", \n",
    "       x.label = xlabel, y.label = ylabel)"
   ]
  },
  {
   "cell_type": "markdown",
   "metadata": {},
   "source": [
    "###  No sorting in X: plot histogram of X "
   ]
  },
  {
   "cell_type": "code",
   "execution_count": null,
   "metadata": {},
   "outputs": [],
   "source": [
    "# Histogram \n",
    "# Figure 19a in CIT 2019, Figure 2(a) in Meyersson 2014\n",
    "\n",
    "# Specify bandwidth manually \n",
    "# Useful to plot across the full range of possible values of the running variable \n",
    "bw <- as.numeric(100)\n",
    "\n",
    "plot1 = ggplot(data=data, aes(X)) + \n",
    "  geom_histogram(data = data, aes(x = X, y= ..count..), \n",
    "                 breaks = seq(-bw, 0, 2), fill = \"blue\", col = \"black\", alpha = 1) +\n",
    "  geom_histogram(data = data, aes(x = X, y= ..count..), \n",
    "                 breaks = seq(0, bw, 2), fill = \"red\", col = \"black\", alpha = 1) +\n",
    "  labs(x = xlabel, y = \"Number of Observations\") + \n",
    "  geom_vline(xintercept = 0, color = \"black\") \n",
    "plot1"
   ]
  },
  {
   "cell_type": "markdown",
   "metadata": {},
   "source": [
    "###  No sorting in X: plot density of X "
   ]
  },
  {
   "cell_type": "code",
   "execution_count": null,
   "metadata": {},
   "outputs": [],
   "source": [
    "# Estimated Density\n",
    "# Figure 19b in CIT, Figure 2(b) in Meyersson \n",
    "\n",
    "# Specify bandwidth manually, within a bandwidth that makes sense depending on histogram (i.e. where is mass)\n",
    "bw = as.numeric(30)\n",
    "\n",
    "\n",
    "est1 = lpdensity(data = X[X < 0 & X >= -bw], \n",
    "                 grid = seq(-bw, 0, 0.1), bwselect = \"IMSE\",\n",
    "                 scale = sum(X < 0 & X >= -bw) / length(X))\n",
    "est2 = lpdensity(data = X[X >= 0 & X <= bw], \n",
    "                 grid = seq(0, bw, 0.1), bwselect = \"IMSE\",\n",
    "                 scale = sum(X >= 0 & X <= bw) / length(X))\n",
    "\n",
    "plot2 = lpdensity.plot(est1, est2, CIshade = 0.2, \n",
    "                       lcol = c(4, 2), CIcol = c(4, 2), \n",
    "                       legendGroups = c(\"Control\", \"Treatment\")) +\n",
    "          labs(x = xlabel, y = \"Density\") + \n",
    "          geom_vline(xintercept = 0, color = \"black\") +\n",
    "          theme(legend.position = c(0.8, 0.85))\n",
    "plot2\n"
   ]
  },
  {
   "cell_type": "markdown",
   "metadata": {},
   "source": [
    "### No sorting in X: test for discontinuities in density \n",
    "\n",
    "RD Manipulation Test using local polynomial density estimation. For details, see Cattaneo, Jansson and Ma (JASA 2019), Simple Local Polynomial Density Estimators."
   ]
  },
  {
   "cell_type": "code",
   "execution_count": null,
   "metadata": {},
   "outputs": [],
   "source": [
    "out = rddensity(X)\n",
    "summary(out)"
   ]
  },
  {
   "cell_type": "markdown",
   "metadata": {},
   "source": [
    "### No sorting in covariates: plot covariates against $X_i$\n",
    "\n",
    "Figure 16 in CIT, Figure 3 in Meyersson\n",
    "\n",
    "Just plots, do not serve as formal inference -- see RDD estimations below. "
   ]
  },
  {
   "cell_type": "code",
   "execution_count": null,
   "metadata": {},
   "outputs": [],
   "source": [
    "bw <- as.numeric(100)\n",
    "\n",
    "plot_covariate <-rdplot(vshr_islam1994, X, h = bw, \n",
    "                        x.label = xlabel, y.label = \"vshr_islam1994\", title = \"\")\n",
    "\n",
    "plot_ageshr60 <-rdplot(ageshr60, X, h = bw, \n",
    "                       x.label = xlabel, y.label = \"ageshr60\", title = \"\")\n",
    "\n",
    "plot_ageshr19 <-rdplot(ageshr19, X, h = bw, \n",
    "                       x.label = xlabel, y.label = \"ageshr19\", title = \"\")\n",
    "\n",
    "plot_lpop1994 <-rdplot(lpop1994, X, h = bw, \n",
    "                       x.label = xlabel, y.label = \"lpop1994\", title = \"\")\n",
    "\n",
    "plot_sexr <-rdplot(sexr, X, h = bw, \n",
    "                   x.label = xlabel, y.label = \"sexr\", title = \"\")\n",
    "\n",
    "plot_partycount <-rdplot(partycount, X, h = bw, \n",
    "                         x.label = xlabel, y.label = \"partycount\", title = \"\")"
   ]
  },
  {
   "cell_type": "markdown",
   "metadata": {},
   "source": [
    "***\n",
    "\n",
    "## RDD effect estimation and robustness checks\n",
    "\n",
    "Can (and should) run different combinations of these specifications. \n",
    "\n",
    "Here, we follow Table II Panel A (Women) in Meyersson, with the following differences \n",
    "* We estimate most variants nonparametrically (Meyersson uses parametric estimators).\n",
    "* Optimal bandwidth choice algorithm differs slightly (not important). \n"
   ]
  },
  {
   "cell_type": "code",
   "execution_count": null,
   "metadata": {},
   "outputs": [],
   "source": [
    "# Create matrix to store effects\n",
    "effects <- matrix(, nrow = 5, ncol = 8)"
   ]
  },
  {
   "cell_type": "markdown",
   "metadata": {},
   "source": [
    "### (1) Parametric estimation \n",
    "\n",
    "Parametric difference in means using all observations below and above cut-off (i.e. global estimation with maximum bandwidth). No covariates. \n",
    "\n",
    "$Y_i=\\alpha+\\theta D_i+U_i$"
   ]
  },
  {
   "cell_type": "code",
   "execution_count": null,
   "metadata": {},
   "outputs": [],
   "source": [
    "# Column (1)\n",
    "out <- lm(Y ~ D)\n",
    "out <- summ(out)\n",
    "out\n",
    "effects[1,1] <- out$coeftable[2,1] \t\t# effect\n",
    "effects[2,1] <- out$coeftable[2,2] \t\t# se\n",
    "effects[3,1] <- 100 \t\t\t\t\t# bandwidth left \n",
    "effects[4,1] <- 100 \t\t\t\t\t# bandwidth right \n",
    "effects[5,1] <- nrow(out$model$model) \t# total number of observations"
   ]
  },
  {
   "cell_type": "markdown",
   "metadata": {},
   "source": [
    "### (2) Parametric estimation with covariates \n",
    "\n",
    "Using all observations.\n",
    "\n",
    "$Y_i=\\alpha+\\theta D_i+\\sum_{k=1} ^K\\beta_{2,k}\\tilde{X}_{k,i}+U_i$\n",
    "\n",
    "where $\\tilde{X}_{k,i}$ are covariates (Meyersson also includes province fixed effects).  "
   ]
  },
  {
   "cell_type": "code",
   "execution_count": null,
   "metadata": {},
   "outputs": [],
   "source": [
    "# Group covariates\n",
    "covariates <- as.matrix(dplyr::select(data, lpop1994, \n",
    "            vshr_islam1994, partycount, ageshr60, ageshr19, \n",
    "            sexr, shhs, merkezi, merkezp, subbuyuk, buyuk))\n",
    "covariates <- cbind(covariates)\n",
    "covariates_names <- colnames(covariates)\n",
    "\n",
    "# Column (2)\n",
    "out <- lm(Y ~ D + covariates)\n",
    "out <- summ(out)\n",
    "out\n",
    "effects[1,2] <- out$coeftable[2,1]\n",
    "effects[2,2] <- out$coeftable[2,2] \n",
    "effects[3,2] <- 100\n",
    "effects[4,2] <- 100\n",
    "effects[5,2] <- nrow(out$model$model)"
   ]
  },
  {
   "cell_type": "markdown",
   "metadata": {},
   "source": [
    "Using all observations, covariates, and allowing for direct effect of running variable on $Y_i$ (not shown in Meyersson).\n",
    "\n",
    "$Y_i=\\alpha+\\theta D_i+\\beta_0(X_i-\\bar{x})+\\beta_1D_i(X_i-\\bar{x})+\\sum_{k=1} ^K\\beta_{2,k}\\tilde{X}_{k,i}+U_i$\n"
   ]
  },
  {
   "cell_type": "code",
   "execution_count": null,
   "metadata": {},
   "outputs": [],
   "source": [
    "D_X <- D * X\n",
    "out <- lm(Y ~ D + X + D_X + covariates)\n",
    "out <- summ(out)\n",
    "out"
   ]
  },
  {
   "cell_type": "markdown",
   "metadata": {},
   "source": [
    "### (3) Nonparametric estimation - Local linear regression \n",
    "\n",
    "$\\min\\sum_{i=1}^NK_h(X_i-\\bar{x})[Y_i-\\alpha-\\theta  D_i-\\beta_0(X_i-\\bar{x})-\\beta_1 D_i(X_i-\\bar{x})]^2 $\n",
    "\n",
    "where $K_h(\\cdot)$ is the triangular kernel (recommended). \n",
    "\n",
    "Estimate separately to the left and to the right of cut-off to reduce boundary problems.\n",
    "\n",
    "Using all observations (not shown in Meyersson)."
   ]
  },
  {
   "cell_type": "code",
   "execution_count": null,
   "metadata": {},
   "outputs": [],
   "source": [
    "out <- rdrobust(Y, X, \n",
    "                kernel = \"triangular\", scaleregul = 1, p = 1, h = 100)\n",
    "summary(out)"
   ]
  },
  {
   "cell_type": "markdown",
   "metadata": {},
   "source": [
    "Same with optimal bandwidth selection, i.e. use only observations within $[\\underline{h},\\bar{h}]$ around the cut-off."
   ]
  },
  {
   "cell_type": "code",
   "execution_count": null,
   "metadata": {},
   "outputs": [],
   "source": [
    "# Column (3) \n",
    "out <- rdrobust(Y, X, \n",
    "                kernel = \"triangular\", scaleregul = 1, p = 1, bwselect = \"mserd\")\n",
    "\n",
    "summary(out)\n",
    "effects[1,3] <- out$Estimate[[1]]\n",
    "effects[2,3] <- out$Estimate[[3]]\n",
    "effects[3,3] <- out$bws[[1]]\n",
    "effects[4,3] <- out$bws[[2]]\n",
    "effects[5,3] <- out$N_h[[1]] + out$N_h[[2]]"
   ]
  },
  {
   "cell_type": "markdown",
   "metadata": {},
   "source": [
    "### (4) Nonparametric estimation - Local linear regression with covariates\n",
    "\n",
    "Same as above but adding covariates. "
   ]
  },
  {
   "cell_type": "code",
   "execution_count": null,
   "metadata": {},
   "outputs": [],
   "source": [
    "# Col (4) with covariates\n",
    "out <- rdrobust(Y, X, covs = covariates, \n",
    "                kernel = \"triangular\", scaleregul = 1, p = 1, bwselect = \"mserd\")\n",
    "\n",
    "summary(out)\n",
    "effects[1,4] <- out$Estimate[[1]]\n",
    "effects[2,4] <- out$Estimate[[3]]\n",
    "effects[3,4] <- out$bws[[1]]\n",
    "effects[4,4] <- out$bws[[2]]\n",
    "effects[5,4] <- out$N_h[[1]] + out$N_h[[2]]"
   ]
  },
  {
   "cell_type": "markdown",
   "metadata": {},
   "source": [
    "### (5) & (6) Nonparametric estimation - Vary bandwidth around cutoff \n",
    "\n",
    "Take half and twice the optimal bandwidth, on the left and the right of the cutoff, respectively. "
   ]
  },
  {
   "cell_type": "code",
   "execution_count": null,
   "metadata": {},
   "outputs": [],
   "source": [
    "# Store h from previous estimation\n",
    "bw_left <- as.numeric(out$bws[[1]])\n",
    "bw_right <- as.numeric(out$bws[[2]])\n",
    "\n",
    "\n",
    "# Column (5) with h/2\n",
    "out = rdrobust(Y, X, h = c(bw_left/2, bw_right/2), kernel = \"triangular\", p = 1)\n",
    "\n",
    "summary(out)\n",
    "effects[1,5] <- out$Estimate[[1]]\n",
    "effects[2,5] <- out$Estimate[[3]]\n",
    "effects[3,5] <- out$bws[[1]]\n",
    "effects[4,5] <- out$bws[[2]]\n",
    "effects[5,5] <- out$N_h[[1]] + out$N_h[[2]]\n",
    "\n",
    "\n",
    "# Column (6) with 2h\n",
    "out = rdrobust(Y, X, h = c(bw_left*2, bw_right*2), kernel = \"triangular\", p = 1)\n",
    "\n",
    "summary(out)\n",
    "effects[1,6] <- out$Estimate[[1]] \n",
    "effects[2,6] <- out$Estimate[[3]] \n",
    "effects[3,6] <- out$bws[[1]] \n",
    "effects[4,6] <- out$bws[[2]] \n",
    "effects[5,6] <- out$N_h[[1]] + out$N_h[[2]]"
   ]
  },
  {
   "cell_type": "markdown",
   "metadata": {},
   "source": [
    "### (7) & (8) Nonparametric estimation - Higher order polynomials of $(X_i - x)$ \n",
    "\n",
    "Change the value of option `p`. "
   ]
  },
  {
   "cell_type": "code",
   "execution_count": null,
   "metadata": {},
   "outputs": [],
   "source": [
    "# Column (7), quadratic\n",
    "out = rdrobust(Y, X, covs = covariates, \n",
    "               kernel = \"triangular\", p = 2, bwselect = \"mserd\")\n",
    "\n",
    "summary(out)\n",
    "effects[1,7] <- out$Estimate[[1]]\n",
    "effects[2,7] <- out$Estimate[[3]]\n",
    "effects[3,7] <- out$bws[[1]]\n",
    "effects[4,7] <- out$bws[[2]]\n",
    "effects[5,7] <- out$N_h[[1]] + out$N_h[[2]]\n",
    "\n",
    "\n",
    "# Column (8), cubic\n",
    "out = rdrobust(Y, X, covs = covariates, \n",
    "               kernel = \"triangular\", p = 3, bwselect = \"mserd\")\n",
    "\n",
    "summary(out)\n",
    "effects[1,8] <- out$Estimate[[1]]\n",
    "effects[2,8] <- out$Estimate[[3]]\n",
    "effects[3,8] <- out$bws[[1]]\n",
    "effects[4,8] <- out$bws[[2]]\n",
    "effects[5,8] <- out$N_h[[1]] + out$N_h[[2]]"
   ]
  },
  {
   "cell_type": "markdown",
   "metadata": {},
   "source": [
    "### Compare estimates"
   ]
  },
  {
   "cell_type": "code",
   "execution_count": null,
   "metadata": {},
   "outputs": [],
   "source": [
    "effects_table <- as.data.frame(effects)\n",
    "rownames(effects_table) <- c(\"Effect\", \"SE\", \"Bw left\", \"Bw right\", \"Total obs\")\n",
    "colnames(effects_table) <- c(\"(1)\", \"(2)\",\"(3)\",\"(4)\",\"(5)\",\"(6)\",\"(7)\",\"(8)\")\n",
    "effects_table"
   ]
  },
  {
   "cell_type": "markdown",
   "metadata": {},
   "source": [
    "### No sorting in covariates: covariates as outcome\n",
    "\n",
    "Run same RDD analysis but with covariates as outcomes. \n",
    "\n",
    "This part serves for formal inference regarding sorting on covariates. "
   ]
  },
  {
   "cell_type": "code",
   "execution_count": null,
   "metadata": {},
   "outputs": [],
   "source": [
    "covariate_rd <- function(covariate) {\n",
    "\n",
    "\tout <- rdrobust(covariate, X)\n",
    "\tsummary(out)\n",
    "\tlist(effect=out$Estimate[[1]], se=out$Estimate[[3]])  \n",
    "\n",
    "}\n",
    "\n",
    "covariate_out <- apply(covariates, 2, covariate_rd)\n",
    "\n",
    "\n",
    "# convert list to table\n",
    "covariate_table <- rbindlist(covariate_out)\n",
    "covariate_table\n",
    "\n"
   ]
  },
  {
   "cell_type": "markdown",
   "metadata": {},
   "source": [
    "***\n",
    "\n",
    "## Extensions\n",
    "\n",
    "### Mechanisms and effect heterogeneity\n",
    "\n",
    "Table V Panel C, Meyersson "
   ]
  },
  {
   "cell_type": "code",
   "execution_count": null,
   "metadata": {},
   "outputs": [],
   "source": [
    "# Restrict sample to bandwidth of 25\n",
    "# Only after, split at median of Islam vote share\n",
    "median <- as.numeric(median(vshr_islam1994[abs(X)<=25]))\n",
    "median\n",
    "\n",
    "# Column (1), above median \n",
    "out = rdrobust(Y[vshr_islam1994 >= median], X[vshr_islam1994 >= median], \n",
    "               kernel = \"triangular\", p = 1, h = 25)\n",
    "summary(out)\n",
    "\n",
    "# Column (2), below median \n",
    "out = rdrobust(Y[vshr_islam1994 < median], X[vshr_islam1994 < median], \n",
    "               kernel = \"triangular\", p = 1, h = 25)\n",
    "summary(out)\n"
   ]
  },
  {
   "cell_type": "markdown",
   "metadata": {},
   "source": [
    "### Donut hole approach \n",
    "\n",
    "Test for excluding different ranges of observations right next to the cutoff.\n",
    "\n",
    "Avoids potential biases from manipulation of running variable around the cut-off. "
   ]
  },
  {
   "cell_type": "code",
   "execution_count": null,
   "metadata": {},
   "outputs": [],
   "source": [
    "donut_range <- as.matrix(c(0, 0.1, 0.2, 0.3, 0.4, 0.5))\n",
    "\n",
    "donut_tests <- function(donut) {          \n",
    "\t\n",
    "\tif (is.numeric(donut)) {\n",
    "\t\tout = rdrobust(Y[abs(X) >= donut], X[abs(X) >= donut], \n",
    "                       kernel = \"triangular\", p = 1)\n",
    "\t\tlist(donut=donut, effect=out$Estimate[[1]], se=out$Estimate[[3]])  \n",
    "\t} else {\n",
    "\t\tprint(\"ERROR - Donut range must be numeric\")\n",
    "\t}\n",
    "\n",
    "}\n",
    "\n",
    "donut_out <- apply(donut_range, 1, donut_tests)\n",
    "\n",
    "\n",
    "# convert list to table\n",
    "donut_table <- rbindlist(donut_out)\n",
    "donut_table"
   ]
  }
 ],
 "metadata": {
  "kernelspec": {
   "display_name": "R",
   "language": "R",
   "name": "ir"
  },
  "language_info": {
   "codemirror_mode": "r",
   "file_extension": ".r",
   "mimetype": "text/x-r-source",
   "name": "R",
   "pygments_lexer": "r",
   "version": "3.6.1"
  }
 },
 "nbformat": 4,
 "nbformat_minor": 2
}
