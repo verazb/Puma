{
 "cells": [
  {
   "cell_type": "markdown",
   "metadata": {},
   "source": [
    "**Applied Empirical Analysis (HS 2020)**\n",
    "\n",
    "**Conny Wunsch, Ulrike Unterhofer and Véra Zabrodina** -- University of Basel\n",
    "\n",
    "***\n",
    "\n",
    "# Lab Session 4 - Regression Discontinuity Design (RDD)\n",
    "\n",
    "***\n",
    "\n",
    "Key ingredients for a sharp RDD\n",
    "* Institutional rules imply that treatment probability jumps at cut-off value $\\bar{x}$ of some quasi-continuous covariate $X_i$.\n",
    "* $X_i$ is called the running variable (or also assignment variable, forcing variable, or score).\n",
    "* Cut-off is strictly enforced and everyone at one side of the cut-off is subject to the treatment ($D=1$, treated) and everyone on the other side is not ($D=0$, control).\n",
    "\n",
    "$$D_i=D(X_i)=\\underline{1}(X_i\\ge\\bar{x})$$\n",
    "\n",
    "$$Pr(D_i=1|X_i<\\bar{x})=0$$ \n",
    "\n",
    "$$Pr(D_i=1|X_i\\ge\\bar{x})=1$$\n",
    "\n",
    "* Units around the cut-off are comparable. \n",
    "* No overlap in $X_i$ (i.e. no common support) between treated and control by construction.\n",
    "\n",
    "\n",
    "![](./RDD1.JPG)\n",
    "\n"
   ]
  },
  {
   "cell_type": "markdown",
   "metadata": {},
   "source": [
    "## Application: Islamic Rule and the Empowerment of the Poor and Pious \n",
    "\n",
    "**Meyersson E. (Econometrica, 2014)**\n",
    "\n",
    "This paper is also discussed and replicated by Cattaneo, Idrobo and Titiunik (2019) (henceforth CIT). For further details and references for replication:\n",
    "\n",
    "https://github.com/rdpackages-replication/CIT_2019_CUP\n",
    "\n",
    "https://rdpackages.github.io/references/Cattaneo-Idrobo-Titiunik_2019_CUP.pdf"
   ]
  },
  {
   "cell_type": "markdown",
   "metadata": {},
   "source": [
    "## 1. Introduction\n",
    "\n",
    "* What is the research question?\n",
    "* Why is it interesting?\n",
    "* What is the treatment? The outcome(s) of interest? \n",
    "* Why can you not just regress the outcome on the treatment, i.e. what is the endogeneity problem? \n"
   ]
  },
  {
   "cell_type": "markdown",
   "metadata": {},
   "source": [
    "***\n",
    "\n",
    "## 2. Identification strategy and assumptions\n",
    "\n",
    "\n",
    "\n",
    "### Setup and notation\n",
    "\n",
    "Plurality system in municipal elections: the party with the highest share of votes wins. \n",
    "\n",
    "Sharp RDD where the running variable $X_i$ is the margin of victory of the Islamic party in the election of 1994.\n",
    "\n",
    "This margin is the difference between actual share of votes, and the largest secular party, and lies between -100 and 100 (in the paper, in percentage points between -1 and 1). \n",
    "\n",
    "Compare municipalities just above vs. just below  the win cut-off of 0. \n",
    "\n",
    "\n",
    "* $Y_i$ outcome: high school completion rates among women\n",
    "* $X_i$ running variable (not covariates!): win margin \n",
    "* $D_i$ treatment : Islamic rule \n",
    "    * Treated group ($D_i = 1$): municipalities where the Islamic party was elected, i.e. where $X_i \\geq 0$.\n",
    "    * Control group ($D_i = 0$): municipalities where another secular party was elected, i.e. where $X_i < 0$. \n",
    "\n",
    "\n",
    "\n",
    "### Discussion of assumptions\n",
    "\n",
    "* What do these assumptions mean in words?\n",
    "* What could invalidate them? Think of concrete examples or mechanisms.\n",
    "* Which arguments or empirical evidence can you provide to support that they hold?\n",
    "\n",
    "\n",
    "**A1: Stable unit treatment value assumption (SUTVA)**\n",
    "\n",
    "$Y_{i}=D_{i}Y^*_{1,i}+(1-D_{i})Y^*_{0,i}$\n",
    "\n",
    "\n",
    "**A2: Local continuity**\n",
    "\n",
    "$E[Y^*_{0,i}|X_i=x]$ and $E[Y^*_{1,i}|X_i=x]$ are continuous in $x$ at $\\bar{x}$\n",
    "\n",
    "![](./RDD2.JPG)\n",
    "\n",
    "where $\\tau_{SRD}$ is the **local** treatment effect.\n",
    "\n",
    "\n",
    "What does it imply for extrapolation?\n",
    "\n",
    "![](./RDD3.JPG)\n",
    "\n",
    "Note: $E[Y(0)|X]$ corresponds to $E[Y^*_{0,i}|X_i=x]$, and similarly for $E[Y(1)|X]$.\n"
   ]
  },
  {
   "cell_type": "markdown",
   "metadata": {},
   "source": [
    "***\n",
    "\n",
    "## 3. Data\n",
    "\n",
    "Aggregate data on municipalities in Turkey in 1994 and 2000. \n",
    "\n",
    "* What is the unit of observation? \n",
    "\n",
    "* What is the time unit? \n",
    "\n",
    "* Is the running variable precisely measured? \n",
    "\n",
    "In this replication, we will focus on women.\n",
    "\n",
    "|variable name |   description |\n",
    "|----:|----:|\n",
    "| X              | Islamic Margin of Victory |\n",
    "| Y              | Female High School percentage |\n",
    "| D              | Islamic rule |\n",
    "| ageshr19       | Percentage of population below 19 in 2000 |\n",
    "| ageshr60       | Percentage of population above 60 in 2000 |\n",
    "| buyuk          | Metro center |\n",
    "| hischshr1520m  | Percentage of men aged 15-20 with high school education |\n",
    "| i89            | Islamic Mayor in 1989 |\n",
    "| lpop1994       | Log population in 1994 |\n",
    "| merkezi        | District center |\n",
    "| merkezp        | Province center |\n",
    "| partycount     | Number of parties receiving votes 1994 |\n",
    "| prov_num       | Province number    |\n",
    "| sexr           | Gender ratio in 2000 |\n",
    "| shhs           | Household size in 2000 |\n",
    "| subbuyuk       | Sub-metro center |\n",
    "| vshr_islam1994 | Islamic percentage of votes in 1994 |"
   ]
  },
  {
   "cell_type": "markdown",
   "metadata": {},
   "source": [
    "***\n",
    "\n",
    "## Load packages\n",
    "\n",
    "Special packages: `rdrobust` and `rdd`. Dcumentation:\n",
    "https://rdpackages.github.io/rdrobust/"
   ]
  },
  {
   "cell_type": "code",
   "execution_count": 225,
   "metadata": {},
   "outputs": [
    {
     "data": {
      "text/html": [
       "<ol>\n",
       "\t<li>TRUE</li>\n",
       "\t<li>TRUE</li>\n",
       "\t<li>TRUE</li>\n",
       "\t<li>TRUE</li>\n",
       "\t<li>TRUE</li>\n",
       "\t<li>TRUE</li>\n",
       "\t<li>TRUE</li>\n",
       "\t<li>TRUE</li>\n",
       "\t<li>TRUE</li>\n",
       "\t<li>TRUE</li>\n",
       "\t<li>TRUE</li>\n",
       "\t<li>TRUE</li>\n",
       "</ol>\n"
      ],
      "text/latex": [
       "\\begin{enumerate}\n",
       "\\item TRUE\n",
       "\\item TRUE\n",
       "\\item TRUE\n",
       "\\item TRUE\n",
       "\\item TRUE\n",
       "\\item TRUE\n",
       "\\item TRUE\n",
       "\\item TRUE\n",
       "\\item TRUE\n",
       "\\item TRUE\n",
       "\\item TRUE\n",
       "\\item TRUE\n",
       "\\end{enumerate}\n"
      ],
      "text/markdown": [
       "1. TRUE\n",
       "2. TRUE\n",
       "3. TRUE\n",
       "4. TRUE\n",
       "5. TRUE\n",
       "6. TRUE\n",
       "7. TRUE\n",
       "8. TRUE\n",
       "9. TRUE\n",
       "10. TRUE\n",
       "11. TRUE\n",
       "12. TRUE\n",
       "\n",
       "\n"
      ],
      "text/plain": [
       "[[1]]\n",
       "[1] TRUE\n",
       "\n",
       "[[2]]\n",
       "[1] TRUE\n",
       "\n",
       "[[3]]\n",
       "[1] TRUE\n",
       "\n",
       "[[4]]\n",
       "[1] TRUE\n",
       "\n",
       "[[5]]\n",
       "[1] TRUE\n",
       "\n",
       "[[6]]\n",
       "[1] TRUE\n",
       "\n",
       "[[7]]\n",
       "[1] TRUE\n",
       "\n",
       "[[8]]\n",
       "[1] TRUE\n",
       "\n",
       "[[9]]\n",
       "[1] TRUE\n",
       "\n",
       "[[10]]\n",
       "[1] TRUE\n",
       "\n",
       "[[11]]\n",
       "[1] TRUE\n",
       "\n",
       "[[12]]\n",
       "[1] TRUE\n"
      ]
     },
     "metadata": {},
     "output_type": "display_data"
    },
    {
     "name": "stderr",
     "output_type": "stream",
     "text": [
      "Loading required package: rdd\n",
      "\n",
      "Warning message:\n",
      "\"package 'rdd' was built under R version 3.6.3\"\n",
      "Loading required package: AER\n",
      "\n",
      "Warning message:\n",
      "\"package 'AER' was built under R version 3.6.3\"\n",
      "Loading required package: car\n",
      "\n",
      "Warning message:\n",
      "\"package 'car' was built under R version 3.6.3\"\n",
      "Loading required package: carData\n",
      "\n",
      "\n",
      "Attaching package: 'car'\n",
      "\n",
      "\n",
      "The following object is masked from 'package:fBasics':\n",
      "\n",
      "    densityPlot\n",
      "\n",
      "\n",
      "The following object is masked from 'package:expss':\n",
      "\n",
      "    recode\n",
      "\n",
      "\n",
      "The following object is masked from 'package:dplyr':\n",
      "\n",
      "    recode\n",
      "\n",
      "\n",
      "Loading required package: survival\n",
      "\n",
      "Warning message:\n",
      "\"package 'survival' was built under R version 3.6.3\"\n",
      "Loading required package: Formula\n",
      "\n"
     ]
    },
    {
     "data": {
      "text/html": [
       "<ol>\n",
       "\t<li>TRUE</li>\n",
       "\t<li>TRUE</li>\n",
       "\t<li>TRUE</li>\n",
       "\t<li>TRUE</li>\n",
       "\t<li>TRUE</li>\n",
       "\t<li>TRUE</li>\n",
       "\t<li>TRUE</li>\n",
       "</ol>\n"
      ],
      "text/latex": [
       "\\begin{enumerate}\n",
       "\\item TRUE\n",
       "\\item TRUE\n",
       "\\item TRUE\n",
       "\\item TRUE\n",
       "\\item TRUE\n",
       "\\item TRUE\n",
       "\\item TRUE\n",
       "\\end{enumerate}\n"
      ],
      "text/markdown": [
       "1. TRUE\n",
       "2. TRUE\n",
       "3. TRUE\n",
       "4. TRUE\n",
       "5. TRUE\n",
       "6. TRUE\n",
       "7. TRUE\n",
       "\n",
       "\n"
      ],
      "text/plain": [
       "[[1]]\n",
       "[1] TRUE\n",
       "\n",
       "[[2]]\n",
       "[1] TRUE\n",
       "\n",
       "[[3]]\n",
       "[1] TRUE\n",
       "\n",
       "[[4]]\n",
       "[1] TRUE\n",
       "\n",
       "[[5]]\n",
       "[1] TRUE\n",
       "\n",
       "[[6]]\n",
       "[1] TRUE\n",
       "\n",
       "[[7]]\n",
       "[1] TRUE\n"
      ]
     },
     "metadata": {},
     "output_type": "display_data"
    },
    {
     "data": {
      "text/html": [
       "<style>\n",
       ".list-inline {list-style: none; margin:0; padding: 0}\n",
       ".list-inline>li {display: inline-block}\n",
       ".list-inline>li:not(:last-child)::after {content: \"\\00b7\"; padding: 0 .5ex}\n",
       "</style>\n",
       "<ol class=list-inline><li>'rdd'</li><li>'Formula'</li><li>'AER'</li><li>'survival'</li><li>'car'</li><li>'carData'</li><li>'TeachingDemos'</li><li>'rdrobust'</li><li>'rdlocrand'</li><li>'rddensity'</li><li>'lpdensity'</li><li>'grid'</li><li>'ggplot2'</li><li>'jtools'</li><li>'mfx'</li><li>'betareg'</li><li>'MASS'</li><li>'lmtest'</li><li>'zoo'</li><li>'stargazer'</li><li>'data.table'</li><li>'xtable'</li><li>'fBasics'</li><li>'timeSeries'</li><li>'timeDate'</li><li>'expss'</li><li>'sandwich'</li><li>'tidyr'</li><li>'dplyr'</li><li>'haven'</li><li>'stats'</li><li>'graphics'</li><li>'grDevices'</li><li>'utils'</li><li>'datasets'</li><li>'methods'</li><li>'base'</li></ol>\n"
      ],
      "text/latex": [
       "\\begin{enumerate*}\n",
       "\\item 'rdd'\n",
       "\\item 'Formula'\n",
       "\\item 'AER'\n",
       "\\item 'survival'\n",
       "\\item 'car'\n",
       "\\item 'carData'\n",
       "\\item 'TeachingDemos'\n",
       "\\item 'rdrobust'\n",
       "\\item 'rdlocrand'\n",
       "\\item 'rddensity'\n",
       "\\item 'lpdensity'\n",
       "\\item 'grid'\n",
       "\\item 'ggplot2'\n",
       "\\item 'jtools'\n",
       "\\item 'mfx'\n",
       "\\item 'betareg'\n",
       "\\item 'MASS'\n",
       "\\item 'lmtest'\n",
       "\\item 'zoo'\n",
       "\\item 'stargazer'\n",
       "\\item 'data.table'\n",
       "\\item 'xtable'\n",
       "\\item 'fBasics'\n",
       "\\item 'timeSeries'\n",
       "\\item 'timeDate'\n",
       "\\item 'expss'\n",
       "\\item 'sandwich'\n",
       "\\item 'tidyr'\n",
       "\\item 'dplyr'\n",
       "\\item 'haven'\n",
       "\\item 'stats'\n",
       "\\item 'graphics'\n",
       "\\item 'grDevices'\n",
       "\\item 'utils'\n",
       "\\item 'datasets'\n",
       "\\item 'methods'\n",
       "\\item 'base'\n",
       "\\end{enumerate*}\n"
      ],
      "text/markdown": [
       "1. 'rdd'\n",
       "2. 'Formula'\n",
       "3. 'AER'\n",
       "4. 'survival'\n",
       "5. 'car'\n",
       "6. 'carData'\n",
       "7. 'TeachingDemos'\n",
       "8. 'rdrobust'\n",
       "9. 'rdlocrand'\n",
       "10. 'rddensity'\n",
       "11. 'lpdensity'\n",
       "12. 'grid'\n",
       "13. 'ggplot2'\n",
       "14. 'jtools'\n",
       "15. 'mfx'\n",
       "16. 'betareg'\n",
       "17. 'MASS'\n",
       "18. 'lmtest'\n",
       "19. 'zoo'\n",
       "20. 'stargazer'\n",
       "21. 'data.table'\n",
       "22. 'xtable'\n",
       "23. 'fBasics'\n",
       "24. 'timeSeries'\n",
       "25. 'timeDate'\n",
       "26. 'expss'\n",
       "27. 'sandwich'\n",
       "28. 'tidyr'\n",
       "29. 'dplyr'\n",
       "30. 'haven'\n",
       "31. 'stats'\n",
       "32. 'graphics'\n",
       "33. 'grDevices'\n",
       "34. 'utils'\n",
       "35. 'datasets'\n",
       "36. 'methods'\n",
       "37. 'base'\n",
       "\n",
       "\n"
      ],
      "text/plain": [
       " [1] \"rdd\"           \"Formula\"       \"AER\"           \"survival\"     \n",
       " [5] \"car\"           \"carData\"       \"TeachingDemos\" \"rdrobust\"     \n",
       " [9] \"rdlocrand\"     \"rddensity\"     \"lpdensity\"     \"grid\"         \n",
       "[13] \"ggplot2\"       \"jtools\"        \"mfx\"           \"betareg\"      \n",
       "[17] \"MASS\"          \"lmtest\"        \"zoo\"           \"stargazer\"    \n",
       "[21] \"data.table\"    \"xtable\"        \"fBasics\"       \"timeSeries\"   \n",
       "[25] \"timeDate\"      \"expss\"         \"sandwich\"      \"tidyr\"        \n",
       "[29] \"dplyr\"         \"haven\"         \"stats\"         \"graphics\"     \n",
       "[33] \"grDevices\"     \"utils\"         \"datasets\"      \"methods\"      \n",
       "[37] \"base\"         "
      ]
     },
     "metadata": {},
     "output_type": "display_data"
    },
    {
     "name": "stdout",
     "output_type": "stream",
     "text": [
      "[1] \"All packages successfully installed and loaded.\"\n"
     ]
    }
   ],
   "source": [
    "packages_vector <- c(\"haven\", \"dplyr\", \"tidyr\", \"sandwich\", \n",
    "                     \"expss\", \"fBasics\", \"xtable\", \"data.table\", \n",
    "                     \"stargazer\", \"mfx\", \"jtools\", \"ggplot2\")\n",
    "# install.packages(packages_vector)\n",
    "lapply(packages_vector, require, character.only = TRUE) \n",
    "\n",
    "# RDD-specific packages \n",
    "packaged_vector_rdd <- c(\"grid\", \"lpdensity\", \"rddensity\", \n",
    "                         \"rdlocrand\", \"rdrobust\", \"TeachingDemos\", \"rdd\")\n",
    "# install.packages(packages_vector)\n",
    "lapply(packaged_vector_rdd, require, character.only = TRUE) \n",
    "\n",
    "# List loaded packages \n",
    "(.packages())\n",
    "\n",
    "print('All packages successfully installed and loaded.')"
   ]
  },
  {
   "cell_type": "markdown",
   "metadata": {},
   "source": [
    "## Load data "
   ]
  },
  {
   "cell_type": "code",
   "execution_count": 226,
   "metadata": {},
   "outputs": [
    {
     "data": {
      "text/html": [
       "<table>\n",
       "<caption>A data.frame: 6 × 17</caption>\n",
       "<thead>\n",
       "\t<tr><th></th><th scope=col>X</th><th scope=col>Y</th><th scope=col>D</th><th scope=col>ageshr19</th><th scope=col>ageshr60</th><th scope=col>buyuk</th><th scope=col>hischshr1520m</th><th scope=col>i89</th><th scope=col>lpop1994</th><th scope=col>merkezi</th><th scope=col>merkezp</th><th scope=col>partycount</th><th scope=col>prov_num</th><th scope=col>sexr</th><th scope=col>shhs</th><th scope=col>subbuyuk</th><th scope=col>vshr_islam1994</th></tr>\n",
       "\t<tr><th></th><th scope=col>&lt;dbl&gt;</th><th scope=col>&lt;dbl&gt;</th><th scope=col>&lt;dbl&gt;</th><th scope=col>&lt;dbl&gt;</th><th scope=col>&lt;dbl&gt;</th><th scope=col>&lt;dbl&gt;</th><th scope=col>&lt;dbl&gt;</th><th scope=col>&lt;dbl&gt;</th><th scope=col>&lt;dbl&gt;</th><th scope=col>&lt;dbl&gt;</th><th scope=col>&lt;dbl&gt;</th><th scope=col>&lt;dbl&gt;</th><th scope=col>&lt;dbl+lbl&gt;</th><th scope=col>&lt;dbl&gt;</th><th scope=col>&lt;dbl&gt;</th><th scope=col>&lt;dbl&gt;</th><th scope=col>&lt;dbl&gt;</th></tr>\n",
       "</thead>\n",
       "<tbody>\n",
       "\t<tr><th scope=row>1</th><td>-35.60663</td><td>22.96296</td><td>0</td><td>42.20857</td><td>7.506742</td><td>0</td><td>37.93103</td><td> 0</td><td> 7.996990</td><td>1</td><td>0</td><td> 6</td><td>1</td><td> 97.74815</td><td>4.670399</td><td>0</td><td> 1.5448381</td></tr>\n",
       "\t<tr><th scope=row>2</th><td>-54.34782</td><td>25.43860</td><td>0</td><td>44.09879</td><td>6.340537</td><td>0</td><td>30.89005</td><td> 0</td><td> 7.362645</td><td>0</td><td>0</td><td> 4</td><td>1</td><td>112.03424</td><td>6.813916</td><td>0</td><td> 2.5135870</td></tr>\n",
       "\t<tr><th scope=row>3</th><td>-20.40923</td><td>22.68273</td><td>0</td><td>43.54768</td><td>5.539970</td><td>1</td><td>22.62840</td><td> 0</td><td>13.175261</td><td>1</td><td>0</td><td>14</td><td>1</td><td> 97.46254</td><td>4.389300</td><td>0</td><td>11.1114979</td></tr>\n",
       "\t<tr><th scope=row>4</th><td>-44.97206</td><td>15.85366</td><td>0</td><td>43.86755</td><td>6.649007</td><td>0</td><td>17.11712</td><td> 0</td><td> 7.623153</td><td>0</td><td>0</td><td> 6</td><td>1</td><td>102.52145</td><td>5.510949</td><td>0</td><td> 5.5865922</td></tr>\n",
       "\t<tr><th scope=row>5</th><td>-20.11494</td><td>18.23899</td><td>0</td><td>41.81067</td><td>5.447032</td><td>0</td><td>17.31343</td><td> 0</td><td> 7.647786</td><td>0</td><td>0</td><td> 7</td><td>1</td><td>118.10733</td><td>6.234192</td><td>0</td><td>10.1880875</td></tr>\n",
       "\t<tr><th scope=row>6</th><td>-50.58997</td><td>25.00000</td><td>0</td><td>40.53058</td><td>6.963891</td><td>0</td><td>26.56250</td><td>NA</td><td> 7.312553</td><td>0</td><td>0</td><td> 5</td><td>1</td><td>101.78439</td><td>6.004425</td><td>0</td><td> 0.5899705</td></tr>\n",
       "</tbody>\n",
       "</table>\n"
      ],
      "text/latex": [
       "A data.frame: 6 × 17\n",
       "\\begin{tabular}{r|lllllllllllllllll}\n",
       "  & X & Y & D & ageshr19 & ageshr60 & buyuk & hischshr1520m & i89 & lpop1994 & merkezi & merkezp & partycount & prov\\_num & sexr & shhs & subbuyuk & vshr\\_islam1994\\\\\n",
       "  & <dbl> & <dbl> & <dbl> & <dbl> & <dbl> & <dbl> & <dbl> & <dbl> & <dbl> & <dbl> & <dbl> & <dbl> & <dbl+lbl> & <dbl> & <dbl> & <dbl> & <dbl>\\\\\n",
       "\\hline\n",
       "\t1 & -35.60663 & 22.96296 & 0 & 42.20857 & 7.506742 & 0 & 37.93103 &  0 &  7.996990 & 1 & 0 &  6 & 1 &  97.74815 & 4.670399 & 0 &  1.5448381\\\\\n",
       "\t2 & -54.34782 & 25.43860 & 0 & 44.09879 & 6.340537 & 0 & 30.89005 &  0 &  7.362645 & 0 & 0 &  4 & 1 & 112.03424 & 6.813916 & 0 &  2.5135870\\\\\n",
       "\t3 & -20.40923 & 22.68273 & 0 & 43.54768 & 5.539970 & 1 & 22.62840 &  0 & 13.175261 & 1 & 0 & 14 & 1 &  97.46254 & 4.389300 & 0 & 11.1114979\\\\\n",
       "\t4 & -44.97206 & 15.85366 & 0 & 43.86755 & 6.649007 & 0 & 17.11712 &  0 &  7.623153 & 0 & 0 &  6 & 1 & 102.52145 & 5.510949 & 0 &  5.5865922\\\\\n",
       "\t5 & -20.11494 & 18.23899 & 0 & 41.81067 & 5.447032 & 0 & 17.31343 &  0 &  7.647786 & 0 & 0 &  7 & 1 & 118.10733 & 6.234192 & 0 & 10.1880875\\\\\n",
       "\t6 & -50.58997 & 25.00000 & 0 & 40.53058 & 6.963891 & 0 & 26.56250 & NA &  7.312553 & 0 & 0 &  5 & 1 & 101.78439 & 6.004425 & 0 &  0.5899705\\\\\n",
       "\\end{tabular}\n"
      ],
      "text/markdown": [
       "\n",
       "A data.frame: 6 × 17\n",
       "\n",
       "| <!--/--> | X &lt;dbl&gt; | Y &lt;dbl&gt; | D &lt;dbl&gt; | ageshr19 &lt;dbl&gt; | ageshr60 &lt;dbl&gt; | buyuk &lt;dbl&gt; | hischshr1520m &lt;dbl&gt; | i89 &lt;dbl&gt; | lpop1994 &lt;dbl&gt; | merkezi &lt;dbl&gt; | merkezp &lt;dbl&gt; | partycount &lt;dbl&gt; | prov_num &lt;dbl+lbl&gt; | sexr &lt;dbl&gt; | shhs &lt;dbl&gt; | subbuyuk &lt;dbl&gt; | vshr_islam1994 &lt;dbl&gt; |\n",
       "|---|---|---|---|---|---|---|---|---|---|---|---|---|---|---|---|---|---|\n",
       "| 1 | -35.60663 | 22.96296 | 0 | 42.20857 | 7.506742 | 0 | 37.93103 |  0 |  7.996990 | 1 | 0 |  6 | 1 |  97.74815 | 4.670399 | 0 |  1.5448381 |\n",
       "| 2 | -54.34782 | 25.43860 | 0 | 44.09879 | 6.340537 | 0 | 30.89005 |  0 |  7.362645 | 0 | 0 |  4 | 1 | 112.03424 | 6.813916 | 0 |  2.5135870 |\n",
       "| 3 | -20.40923 | 22.68273 | 0 | 43.54768 | 5.539970 | 1 | 22.62840 |  0 | 13.175261 | 1 | 0 | 14 | 1 |  97.46254 | 4.389300 | 0 | 11.1114979 |\n",
       "| 4 | -44.97206 | 15.85366 | 0 | 43.86755 | 6.649007 | 0 | 17.11712 |  0 |  7.623153 | 0 | 0 |  6 | 1 | 102.52145 | 5.510949 | 0 |  5.5865922 |\n",
       "| 5 | -20.11494 | 18.23899 | 0 | 41.81067 | 5.447032 | 0 | 17.31343 |  0 |  7.647786 | 0 | 0 |  7 | 1 | 118.10733 | 6.234192 | 0 | 10.1880875 |\n",
       "| 6 | -50.58997 | 25.00000 | 0 | 40.53058 | 6.963891 | 0 | 26.56250 | NA |  7.312553 | 0 | 0 |  5 | 1 | 101.78439 | 6.004425 | 0 |  0.5899705 |\n",
       "\n"
      ],
      "text/plain": [
       "  X         Y        D ageshr19 ageshr60 buyuk hischshr1520m i89 lpop1994 \n",
       "1 -35.60663 22.96296 0 42.20857 7.506742 0     37.93103       0   7.996990\n",
       "2 -54.34782 25.43860 0 44.09879 6.340537 0     30.89005       0   7.362645\n",
       "3 -20.40923 22.68273 0 43.54768 5.539970 1     22.62840       0  13.175261\n",
       "4 -44.97206 15.85366 0 43.86755 6.649007 0     17.11712       0   7.623153\n",
       "5 -20.11494 18.23899 0 41.81067 5.447032 0     17.31343       0   7.647786\n",
       "6 -50.58997 25.00000 0 40.53058 6.963891 0     26.56250      NA   7.312553\n",
       "  merkezi merkezp partycount prov_num sexr      shhs     subbuyuk\n",
       "1 1       0        6         1         97.74815 4.670399 0       \n",
       "2 0       0        4         1        112.03424 6.813916 0       \n",
       "3 1       0       14         1         97.46254 4.389300 0       \n",
       "4 0       0        6         1        102.52145 5.510949 0       \n",
       "5 0       0        7         1        118.10733 6.234192 0       \n",
       "6 0       0        5         1        101.78439 6.004425 0       \n",
       "  vshr_islam1994\n",
       "1  1.5448381    \n",
       "2  2.5135870    \n",
       "3 11.1114979    \n",
       "4  5.5865922    \n",
       "5 10.1880875    \n",
       "6  0.5899705    "
      ]
     },
     "metadata": {},
     "output_type": "display_data"
    }
   ],
   "source": [
    "data <-as.data.frame(read_dta(\"data_meyersson.dta\"))\n",
    "\n",
    "head(data)"
   ]
  },
  {
   "cell_type": "code",
   "execution_count": 227,
   "metadata": {},
   "outputs": [
    {
     "name": "stderr",
     "output_type": "stream",
     "text": [
      "The following objects are masked from data (pos = 9):\n",
      "\n",
      "    ageshr19, ageshr60, buyuk, D, hischshr1520m, i89, lpop1994,\n",
      "    merkezi, merkezp, partycount, prov_num, sexr, shhs, subbuyuk,\n",
      "    vshr_islam1994, X, Y\n",
      "\n",
      "\n",
      "The following objects are masked from data (pos = 10):\n",
      "\n",
      "    ageshr19, ageshr60, buyuk, D, hischshr1520m, i89, lpop1994,\n",
      "    merkezi, merkezp, partycount, prov_num, sexr, shhs, subbuyuk,\n",
      "    vshr_islam1994, X, Y\n",
      "\n",
      "\n",
      "The following objects are masked from data (pos = 11):\n",
      "\n",
      "    ageshr19, ageshr60, buyuk, D, hischshr1520m, i89, lpop1994,\n",
      "    merkezi, merkezp, partycount, prov_num, sexr, shhs, subbuyuk,\n",
      "    vshr_islam1994, X, Y\n",
      "\n",
      "\n",
      "The following objects are masked from data (pos = 12):\n",
      "\n",
      "    ageshr19, ageshr60, buyuk, D, hischshr1520m, i89, lpop1994,\n",
      "    merkezi, merkezp, partycount, prov_num, sexr, shhs, subbuyuk,\n",
      "    vshr_islam1994, X, Y\n",
      "\n",
      "\n",
      "The following objects are masked from data (pos = 13):\n",
      "\n",
      "    ageshr19, ageshr60, buyuk, D, hischshr1520m, i89, lpop1994,\n",
      "    merkezi, merkezp, partycount, prov_num, sexr, shhs, subbuyuk,\n",
      "    vshr_islam1994, X, Y\n",
      "\n",
      "\n",
      "The following objects are masked from data (pos = 14):\n",
      "\n",
      "    ageshr19, ageshr60, buyuk, D, hischshr1520m, i89, lpop1994,\n",
      "    merkezi, merkezp, partycount, prov_num, sexr, shhs, subbuyuk,\n",
      "    vshr_islam1994, X, Y\n",
      "\n",
      "\n",
      "The following objects are masked from data (pos = 15):\n",
      "\n",
      "    ageshr19, ageshr60, buyuk, D, hischshr1520m, i89, lpop1994,\n",
      "    merkezi, merkezp, partycount, prov_num, sexr, shhs, subbuyuk,\n",
      "    vshr_islam1994, X, Y\n",
      "\n",
      "\n",
      "The following objects are masked from data (pos = 16):\n",
      "\n",
      "    ageshr19, ageshr60, buyuk, D, hischshr1520m, i89, lpop1994,\n",
      "    merkezi, merkezp, partycount, prov_num, sexr, shhs, subbuyuk,\n",
      "    vshr_islam1994, X, Y\n",
      "\n",
      "\n"
     ]
    }
   ],
   "source": [
    "# Vector with all variable names\n",
    "varnames <- colnames(data)\n",
    "\n",
    "# Store each variable in own R object\n",
    "attach(data)\n",
    "\n",
    "# Options for RD plots\n",
    "options(repr.plot.width=5, repr.plot.height=4, repr.plot.res = 230)\n",
    "par(mar = rep(2, 4))\n",
    "xlabel <- \"Islamic Margin of Victory\"\n",
    "ylabel <- \"Female High School percentage\"\n",
    "dlabel <- \"Islamic rule\""
   ]
  },
  {
   "cell_type": "markdown",
   "metadata": {},
   "source": [
    "***\n",
    "\n",
    "## Descriptive statistics and validity checks"
   ]
  },
  {
   "cell_type": "markdown",
   "metadata": {},
   "source": [
    "### Summary statistics by treatment group\n",
    "\n",
    "Number of treated and control"
   ]
  },
  {
   "cell_type": "code",
   "execution_count": 228,
   "metadata": {},
   "outputs": [
    {
     "data": {
      "text/html": [
       "<table class='gmisc_table' style='border-collapse: collapse; margin-top: 1em; margin-bottom: 1em;' >\n",
       "<thead>\n",
       "<tr>\n",
       "<th style='font-weight: 900; border-bottom: 1px solid grey; border-top: 2px solid grey; text-align: center;'></th>\n",
       "<th style='border-bottom: 1px solid grey; border-top: 2px solid grey; text-align: center;'></th>\n",
       "<th style='border-bottom: 1px solid grey; border-top: 2px solid grey; text-align: center;'>&nbsp;#Total&nbsp;</th>\n",
       "</tr>\n",
       "</thead>\n",
       "<tbody>\n",
       "<tr>\n",
       "<td style='text-align: left;'>&nbsp;Islamic rule&nbsp;</td>\n",
       "<td style='text-align: left;'>&nbsp;0&nbsp;</td>\n",
       "<td style='text-align: right;'>2314</td>\n",
       "</tr>\n",
       "<tr>\n",
       "<td style='text-align: left;'></td>\n",
       "<td style='text-align: left;'>&nbsp;1&nbsp;</td>\n",
       "<td style='text-align: right;'>315</td>\n",
       "</tr>\n",
       "<tr>\n",
       "<td style='border-bottom: 2px solid grey; text-align: left;'></td>\n",
       "<td style='border-bottom: 2px solid grey; text-align: left;'>&nbsp;#Total cases&nbsp;</td>\n",
       "<td style='border-bottom: 2px solid grey; text-align: right;'>2629</td>\n",
       "</tr>\n",
       "</tbody>\n",
       "</table>"
      ],
      "text/latex": [
       "A etable: 3 × 2\n",
       "\\begin{tabular}{ll}\n",
       " row\\_labels & \\#Total\\\\\n",
       " <chr> & <dbl>\\\\\n",
       "\\hline\n",
       "\t Islamic rule\\textbar{}0            & 2314\\\\\n",
       "\t Islamic rule\\textbar{}1            &  315\\\\\n",
       "\t Islamic rule\\textbar{}\\#Total cases & 2629\\\\\n",
       "\\end{tabular}\n"
      ],
      "text/markdown": [
       "\n",
       "A etable: 3 × 2\n",
       "\n",
       "| row_labels &lt;chr&gt; | #Total &lt;dbl&gt; |\n",
       "|---|---|\n",
       "| Islamic rule|0            | 2314 |\n",
       "| Islamic rule|1            |  315 |\n",
       "| Islamic rule|#Total cases | 2629 |\n",
       "\n"
      ],
      "text/plain": [
       "                                         \n",
       " |              |              | #Total |\n",
       " | ------------ | ------------ | ------ |\n",
       " | Islamic rule |            0 |   2314 |\n",
       " |              |            1 |    315 |\n",
       " |              | #Total cases |   2629 |"
      ]
     },
     "metadata": {},
     "output_type": "display_data"
    }
   ],
   "source": [
    "cro(D)"
   ]
  },
  {
   "cell_type": "markdown",
   "metadata": {},
   "source": [
    "Table 1 in Meyersson"
   ]
  },
  {
   "cell_type": "code",
   "execution_count": 229,
   "metadata": {},
   "outputs": [
    {
     "name": "stdout",
     "output_type": "stream",
     "text": [
      "[1] \"Difference in means by treatment status\"\n"
     ]
    },
    {
     "data": {
      "text/html": [
       "<!-- html table generated in R 3.6.1 by xtable 1.8-4 package --><!-- Thu Nov 05 15:58:01 2020 --><table border=1><tr> <th>  </th> <th> E(X|D=0) </th> <th> E(X|D=1) </th> <th> Difference </th> <th> s.e. </th> <th> p-value </th>  </tr>  <tr> <td align=\"right\"> X </td> <td align=\"right\"> -33.370 </td> <td align=\"right\"> 10.275 </td> <td align=\"right\"> 43.645 </td> <td align=\"right\"> 0.707 </td> <td align=\"right\"> 0.000 </td> </tr>  <tr> <td align=\"right\"> Y </td> <td align=\"right\"> 16.615 </td> <td align=\"right\"> 14.037 </td> <td align=\"right\"> -2.577 </td> <td align=\"right\"> 0.545 </td> <td align=\"right\"> 0.000 </td> </tr>  <tr> <td align=\"right\"> D </td> <td align=\"right\"> 0.000 </td> <td align=\"right\"> 1.000 </td> <td align=\"right\"> 1.000 </td> <td align=\"right\"> 0.000 </td> <td align=\"right\"> 0.000 </td> </tr>  <tr> <td align=\"right\"> ageshr19 </td> <td align=\"right\"> 39.964 </td> <td align=\"right\"> 44.528 </td> <td align=\"right\"> 4.564 </td> <td align=\"right\"> 0.457 </td> <td align=\"right\"> 0.000 </td> </tr>  <tr> <td align=\"right\"> ageshr60 </td> <td align=\"right\"> 9.487 </td> <td align=\"right\"> 7.270 </td> <td align=\"right\"> -2.218 </td> <td align=\"right\"> 0.194 </td> <td align=\"right\"> 0.000 </td> </tr>  <tr> <td align=\"right\"> buyuk </td> <td align=\"right\"> 0.004 </td> <td align=\"right\"> 0.019 </td> <td align=\"right\"> 0.015 </td> <td align=\"right\"> 0.008 </td> <td align=\"right\"> 0.052 </td> </tr>  <tr> <td align=\"right\"> hischshr1520m </td> <td align=\"right\"> 19.187 </td> <td align=\"right\"> 19.610 </td> <td align=\"right\"> 0.423 </td> <td align=\"right\"> 0.459 </td> <td align=\"right\"> 0.357 </td> </tr>  <tr> <td align=\"right\"> i89 </td> <td align=\"right\"> 0.021 </td> <td align=\"right\"> 0.151 </td> <td align=\"right\"> 0.130 </td> <td align=\"right\"> 0.024 </td> <td align=\"right\"> 0.000 </td> </tr>  <tr> <td align=\"right\"> lpop1994 </td> <td align=\"right\"> 7.775 </td> <td align=\"right\"> 8.315 </td> <td align=\"right\"> 0.540 </td> <td align=\"right\"> 0.102 </td> <td align=\"right\"> 0.000 </td> </tr>  <tr> <td align=\"right\"> merkezi </td> <td align=\"right\"> 0.338 </td> <td align=\"right\"> 0.394 </td> <td align=\"right\"> 0.056 </td> <td align=\"right\"> 0.029 </td> <td align=\"right\"> 0.057 </td> </tr>  <tr> <td align=\"right\"> merkezp </td> <td align=\"right\"> 0.017 </td> <td align=\"right\"> 0.067 </td> <td align=\"right\"> 0.050 </td> <td align=\"right\"> 0.014 </td> <td align=\"right\"> 0.000 </td> </tr>  <tr> <td align=\"right\"> partycount </td> <td align=\"right\"> 5.494 </td> <td align=\"right\"> 5.889 </td> <td align=\"right\"> 0.395 </td> <td align=\"right\"> 0.175 </td> <td align=\"right\"> 0.024 </td> </tr>  <tr> <td align=\"right\"> prov_num </td> <td align=\"right\"> 40.970 </td> <td align=\"right\"> 42.705 </td> <td align=\"right\"> 1.735 </td> <td align=\"right\"> 1.293 </td> <td align=\"right\"> 0.180 </td> </tr>  <tr> <td align=\"right\"> sexr </td> <td align=\"right\"> 107.285 </td> <td align=\"right\"> 107.619 </td> <td align=\"right\"> 0.334 </td> <td align=\"right\"> 0.860 </td> <td align=\"right\"> 0.698 </td> </tr>  <tr> <td align=\"right\"> shhs </td> <td align=\"right\"> 5.752 </td> <td align=\"right\"> 6.445 </td> <td align=\"right\"> 0.693 </td> <td align=\"right\"> 0.130 </td> <td align=\"right\"> 0.000 </td> </tr>  <tr> <td align=\"right\"> subbuyuk </td> <td align=\"right\"> 0.014 </td> <td align=\"right\"> 0.076 </td> <td align=\"right\"> 0.062 </td> <td align=\"right\"> 0.015 </td> <td align=\"right\"> 0.000 </td> </tr>  <tr> <td align=\"right\"> vshr_islam1994 </td> <td align=\"right\"> 10.117 </td> <td align=\"right\"> 41.453 </td> <td align=\"right\"> 31.337 </td> <td align=\"right\"> 0.686 </td> <td align=\"right\"> 0.000 </td> </tr>   </table>"
      ],
      "text/latex": [
       "A xtable: 17 × 5\n",
       "\\begin{tabular}{r|lllll}\n",
       "  & E(X\\textbar{}D=0) & E(X\\textbar{}D=1) & Difference & s.e. & p-value\\\\\n",
       "  & <dbl> & <dbl> & <dbl> & <dbl> & <dbl>\\\\\n",
       "\\hline\n",
       "\tX & -33.370053624 &  10.27462206 & 43.64467568 & 7.065495e-01 & 0.000000e+00\\\\\n",
       "\tY &  16.614733492 &  14.03730378 & -2.57742971 & 5.453523e-01 & 2.287901e-06\\\\\n",
       "\tD &   0.000000000 &   1.00000000 &  1.00000000 & 7.418075e-17 & 0.000000e+00\\\\\n",
       "\tageshr19 &  39.964289085 &  44.52841374 &  4.56412465 & 4.572563e-01 & 1.835826e-23\\\\\n",
       "\tageshr60 &   9.487267991 &   7.26956227 & -2.21770572 & 1.936021e-01 & 2.220400e-30\\\\\n",
       "\tbuyuk &   0.003889369 &   0.01904762 &  0.01515825 & 7.809681e-03 & 5.226356e-02\\\\\n",
       "\thischshr1520m &  19.187237464 &  19.61020787 &  0.42297041 & 4.587811e-01 & 3.565579e-01\\\\\n",
       "\ti89 &   0.021390374 &   0.15111111 &  0.12972074 & 2.413619e-02 & 7.678186e-08\\\\\n",
       "\tlpop1994 &   7.774977312 &   8.31542509 &  0.54044777 & 1.018801e-01 & 1.128307e-07\\\\\n",
       "\tmerkezi &   0.337942956 &   0.39365079 &  0.05570784 & 2.923071e-02 & 5.667635e-02\\\\\n",
       "\tmerkezp &   0.016853933 &   0.06666667 &  0.04981273 & 1.430705e-02 & 4.982557e-04\\\\\n",
       "\tpartycount &   5.493517718 &   5.88888889 &  0.39537117 & 1.750733e-01 & 2.392585e-02\\\\\n",
       "\tprov\\_num &  40.970181504 &  42.70476190 &  1.73458040 & 1.293167e+00 & 1.798093e-01\\\\\n",
       "\tsexr & 107.284763491 & 107.61875472 &  0.33399123 & 8.602969e-01 & 6.978474e-01\\\\\n",
       "\tshhs &   5.752243265 &   6.44489727 &  0.69265400 & 1.304596e-01 & 1.100238e-07\\\\\n",
       "\tsubbuyuk &   0.014261020 &   0.07619048 &  0.06192946 & 1.514995e-02 & 4.355472e-05\\\\\n",
       "\tvshr\\_islam1994 &  10.116942616 &  41.45347151 & 31.33652889 & 6.864177e-01 & 0.000000e+00\\\\\n",
       "\\end{tabular}\n"
      ],
      "text/markdown": [
       "\n",
       "A xtable: 17 × 5\n",
       "\n",
       "| <!--/--> | E(X|D=0) &lt;dbl&gt; | E(X|D=1) &lt;dbl&gt; | Difference &lt;dbl&gt; | s.e. &lt;dbl&gt; | p-value &lt;dbl&gt; |\n",
       "|---|---|---|---|---|---|\n",
       "| X | -33.370053624 |  10.27462206 | 43.64467568 | 7.065495e-01 | 0.000000e+00 |\n",
       "| Y |  16.614733492 |  14.03730378 | -2.57742971 | 5.453523e-01 | 2.287901e-06 |\n",
       "| D |   0.000000000 |   1.00000000 |  1.00000000 | 7.418075e-17 | 0.000000e+00 |\n",
       "| ageshr19 |  39.964289085 |  44.52841374 |  4.56412465 | 4.572563e-01 | 1.835826e-23 |\n",
       "| ageshr60 |   9.487267991 |   7.26956227 | -2.21770572 | 1.936021e-01 | 2.220400e-30 |\n",
       "| buyuk |   0.003889369 |   0.01904762 |  0.01515825 | 7.809681e-03 | 5.226356e-02 |\n",
       "| hischshr1520m |  19.187237464 |  19.61020787 |  0.42297041 | 4.587811e-01 | 3.565579e-01 |\n",
       "| i89 |   0.021390374 |   0.15111111 |  0.12972074 | 2.413619e-02 | 7.678186e-08 |\n",
       "| lpop1994 |   7.774977312 |   8.31542509 |  0.54044777 | 1.018801e-01 | 1.128307e-07 |\n",
       "| merkezi |   0.337942956 |   0.39365079 |  0.05570784 | 2.923071e-02 | 5.667635e-02 |\n",
       "| merkezp |   0.016853933 |   0.06666667 |  0.04981273 | 1.430705e-02 | 4.982557e-04 |\n",
       "| partycount |   5.493517718 |   5.88888889 |  0.39537117 | 1.750733e-01 | 2.392585e-02 |\n",
       "| prov_num |  40.970181504 |  42.70476190 |  1.73458040 | 1.293167e+00 | 1.798093e-01 |\n",
       "| sexr | 107.284763491 | 107.61875472 |  0.33399123 | 8.602969e-01 | 6.978474e-01 |\n",
       "| shhs |   5.752243265 |   6.44489727 |  0.69265400 | 1.304596e-01 | 1.100238e-07 |\n",
       "| subbuyuk |   0.014261020 |   0.07619048 |  0.06192946 | 1.514995e-02 | 4.355472e-05 |\n",
       "| vshr_islam1994 |  10.116942616 |  41.45347151 | 31.33652889 | 6.864177e-01 | 0.000000e+00 |\n",
       "\n"
      ],
      "text/plain": [
       "               E(X|D=0)      E(X|D=1)     Difference  s.e.         p-value     \n",
       "X              -33.370053624  10.27462206 43.64467568 7.065495e-01 0.000000e+00\n",
       "Y               16.614733492  14.03730378 -2.57742971 5.453523e-01 2.287901e-06\n",
       "D                0.000000000   1.00000000  1.00000000 7.418075e-17 0.000000e+00\n",
       "ageshr19        39.964289085  44.52841374  4.56412465 4.572563e-01 1.835826e-23\n",
       "ageshr60         9.487267991   7.26956227 -2.21770572 1.936021e-01 2.220400e-30\n",
       "buyuk            0.003889369   0.01904762  0.01515825 7.809681e-03 5.226356e-02\n",
       "hischshr1520m   19.187237464  19.61020787  0.42297041 4.587811e-01 3.565579e-01\n",
       "i89              0.021390374   0.15111111  0.12972074 2.413619e-02 7.678186e-08\n",
       "lpop1994         7.774977312   8.31542509  0.54044777 1.018801e-01 1.128307e-07\n",
       "merkezi          0.337942956   0.39365079  0.05570784 2.923071e-02 5.667635e-02\n",
       "merkezp          0.016853933   0.06666667  0.04981273 1.430705e-02 4.982557e-04\n",
       "partycount       5.493517718   5.88888889  0.39537117 1.750733e-01 2.392585e-02\n",
       "prov_num        40.970181504  42.70476190  1.73458040 1.293167e+00 1.798093e-01\n",
       "sexr           107.284763491 107.61875472  0.33399123 8.602969e-01 6.978474e-01\n",
       "shhs             5.752243265   6.44489727  0.69265400 1.304596e-01 1.100238e-07\n",
       "subbuyuk         0.014261020   0.07619048  0.06192946 1.514995e-02 4.355472e-05\n",
       "vshr_islam1994  10.116942616  41.45347151 31.33652889 6.864177e-01 0.000000e+00"
      ]
     },
     "metadata": {},
     "output_type": "display_data"
    }
   ],
   "source": [
    "# Function for table display\n",
    "repr_html.xtable <- function(obj, ...){\n",
    "    paste(capture.output(print(obj, type = 'html')), collapse=\"\", sep=\"\")\n",
    "}\n",
    "\n",
    "# Define a function estimating the differences in variables across D\n",
    "balance_check <- function(x){\n",
    "    \n",
    "    # Observations\n",
    "    nobs<-nrow(x)\n",
    "    \n",
    "    # Conditional means\n",
    "    mean_d0 <- mean(x[data$D==0], na.rm=TRUE)\n",
    "    mean_d1 <- mean(x[data$D==1], na.rm=TRUE)\n",
    "    \n",
    "    # Difference in means\n",
    "    diff_d <- lm(x ~ data$D)\n",
    "    cov <- vcovHC(diff_d, type = \"HC\")\n",
    "    robust.se <- sqrt(diag(cov))\n",
    "    \n",
    "    list(mean_d0 = mean_d0, \n",
    "         mean_d1 = mean_d1,\n",
    "         coeff = diff_d$coefficients[2], \n",
    "         robust.se = robust.se[2], \n",
    "         pval = 2*pnorm(-abs(diff_d$coefficients[2]/robust.se[2]))\n",
    "        )             \n",
    "}\n",
    "\n",
    "diff_output <- apply(data, 2, balance_check)\n",
    "\n",
    "# convert list to table\n",
    "diff_output<-rbindlist(diff_output)\n",
    "rownames(diff_output)<- varnames\n",
    "colnames(diff_output)<- c(\"E(X|D=0)\", \"E(X|D=1)\", \n",
    "                          \"Difference\", \"s.e.\", \n",
    "                          \"p-value\")\n",
    "\n",
    "# plot table\n",
    "print(\"Difference in means by treatment status\")\n",
    "xtable(diff_output, digits=3)"
   ]
  },
  {
   "cell_type": "markdown",
   "metadata": {},
   "source": [
    "### Existence of discontinuity: Plot D against X\n",
    "\n",
    "In a sharp RDD, treatment assignment should jump from 0 to 1 at the cut-off. "
   ]
  },
  {
   "cell_type": "code",
   "execution_count": 230,
   "metadata": {},
   "outputs": [
    {
     "data": {
      "image/png": "[encoded data removed]",
      "text/plain": [
       "plot without title"
      ]
     },
     "metadata": {
      "image/png": {
       "height": 460,
       "width": 575
      }
     },
     "output_type": "display_data"
    }
   ],
   "source": [
    "ggplot(data, aes(x = X, y = D)) +\n",
    "        geom_line() +\n",
    "        xlab(xlabel) +\n",
    "        ylab(dlabel) "
   ]
  },
  {
   "cell_type": "markdown",
   "metadata": {},
   "source": [
    "### Descriptive evidence of effect: plot Y against X\n",
    "\n",
    "Figure 3a in CIT - Raw comparison of means (no polynomial), across all observations \n",
    "\n",
    "Bins = number of observation groups. Here, each observation plotted on its own (number of bins set to be larger than actual number of observations). "
   ]
  },
  {
   "cell_type": "code",
   "execution_count": 231,
   "metadata": {},
   "outputs": [
    {
     "data": {
      "image/png": "[encoded data removed]",
      "text/plain": [
       "plot without title"
      ]
     },
     "metadata": {
      "image/png": {
       "height": 460,
       "width": 575
      }
     },
     "output_type": "display_data"
    }
   ],
   "source": [
    "rdplot(Y, X, nbins = c(2500,500), p = 0, \n",
    "       title = \"\", x.label = xlabel, y.label = ylabel)"
   ]
  },
  {
   "cell_type": "markdown",
   "metadata": {},
   "source": [
    "Try with fewer bins for illustration"
   ]
  },
  {
   "cell_type": "code",
   "execution_count": 232,
   "metadata": {},
   "outputs": [
    {
     "data": {
      "image/png": "[encoded data removed]",
      "text/plain": [
       "plot without title"
      ]
     },
     "metadata": {
      "image/png": {
       "height": 460,
       "width": 575
      }
     },
     "output_type": "display_data"
    }
   ],
   "source": [
    "rdplot(Y, X, nbins = c(100,100), p = 0, \n",
    "       title = \"\", x.label = xlabel, y.label = ylabel)"
   ]
  },
  {
   "cell_type": "markdown",
   "metadata": {},
   "source": [
    "Figure 3b in CIT - Within 50 percentage points bandwidth only, and a 4th degree polynomial fit."
   ]
  },
  {
   "cell_type": "code",
   "execution_count": 233,
   "metadata": {},
   "outputs": [
    {
     "data": {
      "image/png": "[encoded data removed]",
      "text/plain": [
       "plot without title"
      ]
     },
     "metadata": {
      "image/png": {
       "height": 460,
       "width": 575
      }
     },
     "output_type": "display_data"
    }
   ],
   "source": [
    "rdplot(Y[abs(X) <= 50], X[abs(X) <= 50], \n",
    "       nbins = c(2500, 500), p = 4, \n",
    "       title = \"\", x.label = xlabel, y.label = ylabel)"
   ]
  },
  {
   "cell_type": "markdown",
   "metadata": {},
   "source": [
    "Once you \"zoom in\", the effect looks different!"
   ]
  },
  {
   "cell_type": "markdown",
   "metadata": {},
   "source": [
    "###  No sorting in X: plot histogram of X \n",
    "\n",
    "Histogram - Figure 19a in CIT 2019, and Figure 2(a) in Meyersson 2014\n"
   ]
  },
  {
   "cell_type": "code",
   "execution_count": 234,
   "metadata": {},
   "outputs": [
    {
     "data": {
      "image/png": "[encoded data removed]",
      "text/plain": [
       "plot without title"
      ]
     },
     "metadata": {
      "image/png": {
       "height": 460,
       "width": 575
      }
     },
     "output_type": "display_data"
    }
   ],
   "source": [
    "# Specify bandwidth manually \n",
    "# Useful to plot across the full range of possible values of the running variable \n",
    "bw <- as.numeric(100)\n",
    "\n",
    "ggplot(data=data, aes(X)) + \n",
    "  geom_histogram(data = data, aes(x = X, y= ..count..), \n",
    "                 breaks = seq(-bw, 0, 2), fill = \"blue\", col = \"black\", alpha = 1) +\n",
    "  geom_histogram(data = data, aes(x = X, y= ..count..), \n",
    "                 breaks = seq(0, bw, 2), fill = \"red\", col = \"black\", alpha = 1) +\n",
    "  labs(x = xlabel, y = \"Number of Observations\") + \n",
    "  geom_vline(xintercept = 0, color = \"black\") "
   ]
  },
  {
   "cell_type": "markdown",
   "metadata": {},
   "source": [
    "What should you not see? \n",
    "\n",
    "What if you discover that the vote was rigged in some municipalities?"
   ]
  },
  {
   "cell_type": "markdown",
   "metadata": {},
   "source": [
    "###  No sorting in X: plot density of X and test for discontinuities in density \n",
    "\n",
    "Density - Figure 2(b) in Meyersson "
   ]
  },
  {
   "cell_type": "code",
   "execution_count": 235,
   "metadata": {},
   "outputs": [
    {
     "name": "stdout",
     "output_type": "stream",
     "text": [
      "Using calculated bin size:  0.863 \n",
      "Using calculated bandwidth:  16.490 \n",
      "Log difference in heights is  -0.093  with SE  0.149 \n",
      "  this gives a z-stat of  -0.626 \n",
      "  and a p value of  0.531 \n"
     ]
    },
    {
     "data": {
      "image/png": "[encoded data removed]",
      "text/plain": [
       "Plot with title \"NA\""
      ]
     },
     "metadata": {
      "image/png": {
       "height": 460,
       "width": 575
      }
     },
     "output_type": "display_data"
    }
   ],
   "source": [
    "out<- DCdensity(X, cutpoint=0, plot=TRUE, verbose=TRUE)"
   ]
  },
  {
   "cell_type": "markdown",
   "metadata": {},
   "source": [
    "Here, cannot reject the null hypothesis of no manipulation."
   ]
  },
  {
   "cell_type": "markdown",
   "metadata": {},
   "source": [
    "### No sorting in covariates: plot covariates against $X_i$\n",
    "\n",
    "Figure 16 in CIT, Figure 3 in Meyersson\n",
    "\n",
    "Just plots, do not serve as formal inference -- see RDD estimations below. \n",
    "\n",
    "Number of bins chosen automatically."
   ]
  },
  {
   "cell_type": "code",
   "execution_count": 203,
   "metadata": {
    "scrolled": false
   },
   "outputs": [
    {
     "data": {
      "image/png": "[encoded data removed]",
      "text/plain": [
       "plot without title"
      ]
     },
     "metadata": {
      "image/png": {
       "height": 460,
       "width": 575
      }
     },
     "output_type": "display_data"
    },
    {
     "data": {
      "image/png": "[encoded data removed]",
      "text/plain": [
       "plot without title"
      ]
     },
     "metadata": {
      "image/png": {
       "height": 460,
       "width": 575
      }
     },
     "output_type": "display_data"
    },
    {
     "data": {
      "image/png": "[encoded data removed]",
      "text/plain": [
       "plot without title"
      ]
     },
     "metadata": {
      "image/png": {
       "height": 460,
       "width": 575
      }
     },
     "output_type": "display_data"
    },
    {
     "data": {
      "image/png": "[encoded data removed]",
      "text/plain": [
       "plot without title"
      ]
     },
     "metadata": {
      "image/png": {
       "height": 460,
       "width": 575
      }
     },
     "output_type": "display_data"
    },
    {
     "data": {
      "image/png": "[encoded data removed]",
      "text/plain": [
       "plot without title"
      ]
     },
     "metadata": {
      "image/png": {
       "height": 460,
       "width": 575
      }
     },
     "output_type": "display_data"
    },
    {
     "data": {
      "image/png": "[encoded data removed]",
      "text/plain": [
       "plot without title"
      ]
     },
     "metadata": {
      "image/png": {
       "height": 460,
       "width": 575
      }
     },
     "output_type": "display_data"
    }
   ],
   "source": [
    "bw <- as.numeric(100)\n",
    "\n",
    "plot_covariate <-rdplot(vshr_islam1994, X, h = bw, \n",
    "                        x.label = xlabel, y.label = \"vshr_islam1994\", title = \"\")\n",
    "\n",
    "plot_ageshr60 <-rdplot(ageshr60, X, h = bw, \n",
    "                       x.label = xlabel, y.label = \"ageshr60\", title = \"\")\n",
    "\n",
    "plot_ageshr19 <-rdplot(ageshr19, X, h = bw, \n",
    "                       x.label = xlabel, y.label = \"ageshr19\", title = \"\")\n",
    "\n",
    "plot_lpop1994 <-rdplot(lpop1994, X, h = bw, \n",
    "                       x.label = xlabel, y.label = \"lpop1994\", title = \"\")\n",
    "\n",
    "plot_sexr <-rdplot(sexr, X, h = bw, \n",
    "                   x.label = xlabel, y.label = \"sexr\", title = \"\")\n",
    "\n",
    "plot_partycount <-rdplot(partycount, X, h = bw, \n",
    "                         x.label = xlabel, y.label = \"partycount\", title = \"\")"
   ]
  },
  {
   "cell_type": "markdown",
   "metadata": {},
   "source": [
    "***\n",
    "\n",
    "## RDD effect estimation and robustness checks\n",
    "\n",
    "Can (and should) run different combinations of these estimation. \n",
    "\n",
    "The point is to show that the effect is not (too) sensitive to changes in the estimation procedure.\n",
    "\n",
    "Here, we follow Table II Panel A (Women) in Meyersson, with some differences \n",
    "* We estimate most variants nonparametrically (Meyersson uses parametric estimators).\n",
    "* Optimal bandwidth choice algorithm differs slightly (not important). \n",
    "* Esimate additional variants for illustration.\n"
   ]
  },
  {
   "cell_type": "code",
   "execution_count": 206,
   "metadata": {},
   "outputs": [],
   "source": [
    "# Create matrix to store effects\n",
    "effects <- matrix(, nrow = 5, ncol = 8)"
   ]
  },
  {
   "cell_type": "markdown",
   "metadata": {},
   "source": [
    "### (1) Parametric estimation \n",
    "\n",
    "Parametric difference in means using all observations below and above cut-off (i.e. global estimation with maximum bandwidth). No covariates. \n",
    "\n",
    "$Y_i=\\alpha+\\theta D_i+U_i$"
   ]
  },
  {
   "cell_type": "code",
   "execution_count": 207,
   "metadata": {},
   "outputs": [
    {
     "data": {
      "text/plain": [
       "\u001b[4mMODEL INFO:\u001b[24m\n",
       "\u001b[3mObservations:\u001b[23m 2629\n",
       "\u001b[3mDependent Variable:\u001b[23m Y\n",
       "\u001b[3mType:\u001b[23m OLS linear regression \n",
       "\n",
       "\u001b[4mMODEL FIT:\u001b[24m\n",
       "\u001b[3mF\u001b[23m(1,2627) = 20.20, \u001b[3mp\u001b[23m = 0.00\n",
       "\u001b[3mR² = \u001b[23m0.01\n",
       "\u001b[3mAdj. R² = \u001b[23m0.01 \n",
       "\n",
       "\u001b[3mStandard errors: OLS\u001b[23m\n",
       "------------------------------------------------\n",
       "                     Est.   S.E.   t val.      p\n",
       "----------------- ------- ------ -------- ------\n",
       "(Intercept)         16.61   0.20    83.70   0.00\n",
       "D                   -2.58   0.57    -4.49   0.00\n",
       "------------------------------------------------"
      ]
     },
     "metadata": {},
     "output_type": "display_data"
    }
   ],
   "source": [
    "# Column (1)\n",
    "out <- lm(Y ~ D)\n",
    "out <- summ(out)\n",
    "out\n",
    "effects[1,1] <- out$coeftable[2,1]  # effect\n",
    "effects[2,1] <- out$coeftable[2,2]  # se\n",
    "effects[3,1] <- 2*pnorm(-abs(out$coeftable[2,1]/out$coeftable[2,2])) # pvalue \n",
    "effects[4,1] <- 100 # bandwidth left \n",
    "effects[5,1] <- 100 # bandwidth right "
   ]
  },
  {
   "cell_type": "markdown",
   "metadata": {},
   "source": [
    "This is the raw difference between treated and control that what we saw in Table 1."
   ]
  },
  {
   "cell_type": "markdown",
   "metadata": {},
   "source": [
    "### (2) Parametric estimation with covariates \n",
    "\n",
    "Using all observations.\n",
    "\n",
    "$Y_i=\\alpha+\\theta D_i+\\sum_{k=1} ^K\\beta_{2,k}\\tilde{X}_{k,i}+U_i$\n",
    "\n",
    "where $\\tilde{X}_{k,i}$ are covariates (Meyersson also includes province fixed effects).  \n",
    "\n",
    "This does not change underlying identifying assumptions, but controlling for covariates that are correlated with the potential outcomes may improve precision because residuals become smaller."
   ]
  },
  {
   "cell_type": "code",
   "execution_count": 209,
   "metadata": {},
   "outputs": [
    {
     "data": {
      "text/plain": [
       "\u001b[4mMODEL INFO:\u001b[24m\n",
       "\u001b[3mObservations:\u001b[23m 2629\n",
       "\u001b[3mDependent Variable:\u001b[23m Y\n",
       "\u001b[3mType:\u001b[23m OLS linear regression \n",
       "\n",
       "\u001b[4mMODEL FIT:\u001b[24m\n",
       "\u001b[3mF\u001b[23m(12,2616) = 174.70, \u001b[3mp\u001b[23m = 0.00\n",
       "\u001b[3mR² = \u001b[23m0.44\n",
       "\u001b[3mAdj. R² = \u001b[23m0.44 \n",
       "\n",
       "\u001b[3mStandard errors: OLS\u001b[23m\n",
       "-------------------------------------------------------------\n",
       "                                  Est.   S.E.   t val.      p\n",
       "------------------------------ ------- ------ -------- ------\n",
       "(Intercept)                      52.35   2.93    17.84   0.00\n",
       "D                                 1.28   0.58     2.20   0.03\n",
       "covariateslpop1994                0.73   0.24     3.10   0.00\n",
       "covariatesvshr_islam1994         -0.09   0.01    -6.97   0.00\n",
       "covariatespartycount             -0.50   0.11    -4.70   0.00\n",
       "covariatesageshr60               -0.59   0.06    -9.63   0.00\n",
       "covariatesageshr19               -0.83   0.03   -27.95   0.00\n",
       "covariatessexr                   -0.04   0.01    -5.83   0.00\n",
       "covariatesshhs                    0.48   0.08     6.15   0.00\n",
       "covariatesmerkezi                 6.61   0.39    17.17   0.00\n",
       "covariatesmerkezp                 4.70   1.06     4.45   0.00\n",
       "covariatessubbuyuk                3.35   1.19     2.83   0.00\n",
       "covariatesbuyuk                   4.36   2.08     2.09   0.04\n",
       "-------------------------------------------------------------"
      ]
     },
     "metadata": {},
     "output_type": "display_data"
    }
   ],
   "source": [
    "# Group covariates\n",
    "covariates <- as.matrix(dplyr::select(data, lpop1994, \n",
    "            vshr_islam1994, partycount, ageshr60, ageshr19, \n",
    "            sexr, shhs, merkezi, merkezp, subbuyuk, buyuk))\n",
    "covariates <- cbind(covariates)\n",
    "covariates_names <- colnames(covariates)\n",
    "\n",
    "# Column (2)\n",
    "out <- lm(Y ~ D + covariates)\n",
    "out <- summ(out)\n",
    "out\n",
    "effects[1,2] <- out$coeftable[2,1]\n",
    "effects[2,2] <- out$coeftable[2,2] \n",
    "effects[3,2] <- 2*pnorm(-abs(out$coeftable[2,1]/out$coeftable[2,2]))\n",
    "effects[4,2] <- 100\n",
    "effects[5,2] <- 100"
   ]
  },
  {
   "cell_type": "markdown",
   "metadata": {},
   "source": [
    "Using all observations, covariates, and allowing for direct effect of running variable on $Y_i$ (not shown in Meyersson).\n",
    "\n",
    "$Y_i=\\alpha+\\theta D_i+\\beta_0(X_i-\\bar{x})+\\beta_1D_i(X_i-\\bar{x})+\\sum_{k=1} ^K\\beta_{2,k}\\tilde{X}_{k,i}+U_i$\n"
   ]
  },
  {
   "cell_type": "code",
   "execution_count": 210,
   "metadata": {},
   "outputs": [
    {
     "data": {
      "text/plain": [
       "\u001b[4mMODEL INFO:\u001b[24m\n",
       "\u001b[3mObservations:\u001b[23m 2629\n",
       "\u001b[3mDependent Variable:\u001b[23m Y\n",
       "\u001b[3mType:\u001b[23m OLS linear regression \n",
       "\n",
       "\u001b[4mMODEL FIT:\u001b[24m\n",
       "\u001b[3mF\u001b[23m(14,2614) = 151.32, \u001b[3mp\u001b[23m = 0.00\n",
       "\u001b[3mR² = \u001b[23m0.45\n",
       "\u001b[3mAdj. R² = \u001b[23m0.44 \n",
       "\n",
       "\u001b[3mStandard errors: OLS\u001b[23m\n",
       "-------------------------------------------------------------\n",
       "                                  Est.   S.E.   t val.      p\n",
       "------------------------------ ------- ------ -------- ------\n",
       "(Intercept)                      56.01   3.11    18.00   0.00\n",
       "D                                 1.36   0.66     2.06   0.04\n",
       "X                                 0.05   0.02     3.49   0.00\n",
       "D_X                              -0.05   0.04    -1.33   0.18\n",
       "covariateslpop1994                0.71   0.24     3.04   0.00\n",
       "covariatesvshr_islam1994         -0.15   0.02    -6.65   0.00\n",
       "covariatespartycount             -0.68   0.12    -5.76   0.00\n",
       "covariatesageshr60               -0.60   0.06    -9.70   0.00\n",
       "covariatesageshr19               -0.83   0.03   -28.10   0.00\n",
       "covariatessexr                   -0.04   0.01    -5.83   0.00\n",
       "covariatesshhs                    0.49   0.08     6.32   0.00\n",
       "covariatesmerkezi                 6.55   0.38    17.04   0.00\n",
       "covariatesmerkezp                 5.03   1.06     4.75   0.00\n",
       "covariatessubbuyuk                4.01   1.20     3.35   0.00\n",
       "covariatesbuyuk                   5.46   2.10     2.60   0.01\n",
       "-------------------------------------------------------------"
      ]
     },
     "metadata": {},
     "output_type": "display_data"
    }
   ],
   "source": [
    "D_X <- D * X\n",
    "out <- lm(Y ~ D + X + D_X + covariates)\n",
    "out <- summ(out)\n",
    "out"
   ]
  },
  {
   "cell_type": "markdown",
   "metadata": {},
   "source": [
    "### (3) Nonparametric estimation - Local linear regression \n",
    "\n",
    "$\\min\\sum_{i=1}^NK_h(X_i-\\bar{x})[Y_i-\\alpha-\\theta  D_i-\\beta_0(X_i-\\bar{x})-\\beta_1 D_i(X_i-\\bar{x})]^2 $\n",
    "\n",
    "where $K_h(\\cdot)$ is the triangular kernel (recommended). \n",
    "\n",
    "Estimate separately to the left and to the right of cut-off to reduce boundary problems.\n",
    "\n",
    "Using all observations (not shown in Meyersson)."
   ]
  },
  {
   "cell_type": "code",
   "execution_count": 211,
   "metadata": {},
   "outputs": [
    {
     "name": "stdout",
     "output_type": "stream",
     "text": [
      "Call: rdrobust\n",
      "\n",
      "Number of Obs.                 2629\n",
      "BW type                      Manual\n",
      "Kernel                   Triangular\n",
      "VCE method                       NN\n",
      "\n",
      "Number of Obs.                2314         315\n",
      "Eff. Number of Obs.           2313         315\n",
      "Order est. (p)                   1           1\n",
      "Order bias  (q)                  2           2\n",
      "BW est. (h)                100.000     100.000\n",
      "BW bias (b)                100.000     100.000\n",
      "rho (h/b)                    1.000       1.000\n",
      "Unique Obs.                   2311         315\n",
      "\n",
      "=============================================================================\n",
      "        Method     Coef. Std. Err.         z     P>|z|      [ 95% C.I. ]       \n",
      "=============================================================================\n",
      "  Conventional     0.549     0.897     0.612     0.541    [-1.209 , 2.307]     \n",
      "        Robust         -         -     2.794     0.005     [0.986 , 5.625]     \n",
      "=============================================================================\n"
     ]
    }
   ],
   "source": [
    "out <- rdrobust(Y, X, \n",
    "                kernel = \"triangular\", scaleregul = 1, p = 1, h = 100)\n",
    "summary(out)"
   ]
  },
  {
   "cell_type": "markdown",
   "metadata": {},
   "source": [
    "Same with optimal bandwidth selection, i.e. use only observations within $[\\underline{h},\\bar{h}]$ around the cut-off.\n",
    "\n",
    "Remember: Choosing the bandwidth around the cutoff is a tradeoff between efficiency (using more observations to increase precision) and consistency (getting the functional form of the direct effect right)."
   ]
  },
  {
   "cell_type": "code",
   "execution_count": 212,
   "metadata": {},
   "outputs": [
    {
     "name": "stdout",
     "output_type": "stream",
     "text": [
      "Call: rdrobust\n",
      "\n",
      "Number of Obs.                 2629\n",
      "BW type                       mserd\n",
      "Kernel                   Triangular\n",
      "VCE method                       NN\n",
      "\n",
      "Number of Obs.                2314         315\n",
      "Eff. Number of Obs.            529         266\n",
      "Order est. (p)                   1           1\n",
      "Order bias  (q)                  2           2\n",
      "BW est. (h)                 17.240      17.240\n",
      "BW bias (b)                 28.576      28.576\n",
      "rho (h/b)                    0.603       0.603\n",
      "Unique Obs.                   2311         315\n",
      "\n",
      "=============================================================================\n",
      "        Method     Coef. Std. Err.         z     P>|z|      [ 95% C.I. ]       \n",
      "=============================================================================\n",
      "  Conventional     3.020     1.427     2.116     0.034     [0.223 , 5.816]     \n",
      "        Robust         -         -     1.776     0.076    [-0.309 , 6.276]     \n",
      "=============================================================================\n"
     ]
    }
   ],
   "source": [
    "# Column (3) \n",
    "out <- rdrobust(Y, X, \n",
    "                kernel = \"triangular\", scaleregul = 1, p = 1, \n",
    "                bwselect = \"mserd\")\n",
    "\n",
    "summary(out)\n",
    "effects[1,3] <- out$Estimate[[1]]\n",
    "effects[2,3] <- out$Estimate[[3]]\n",
    "effects[3,3] <- out$pv[[1]]\n",
    "effects[4,3] <- out$bws[[1]]\n",
    "effects[5,3] <- out$bws[[2]]"
   ]
  },
  {
   "cell_type": "markdown",
   "metadata": {},
   "source": [
    "### (4) Nonparametric estimation - Local linear regression with covariates\n",
    "\n",
    "Same as above but adding covariates. "
   ]
  },
  {
   "cell_type": "code",
   "execution_count": 213,
   "metadata": {},
   "outputs": [
    {
     "name": "stdout",
     "output_type": "stream",
     "text": [
      "Call: rdrobust\n",
      "\n",
      "Number of Obs.                 2629\n",
      "BW type                       mserd\n",
      "Kernel                   Triangular\n",
      "VCE method                       NN\n",
      "\n",
      "Number of Obs.                2314         315\n",
      "Eff. Number of Obs.            421         237\n",
      "Order est. (p)                   1           1\n",
      "Order bias  (q)                  2           2\n",
      "BW est. (h)                 13.776      13.776\n",
      "BW bias (b)                 24.193      24.193\n",
      "rho (h/b)                    0.569       0.569\n",
      "Unique Obs.                   2311         315\n",
      "\n",
      "=============================================================================\n",
      "        Method     Coef. Std. Err.         z     P>|z|      [ 95% C.I. ]       \n",
      "=============================================================================\n",
      "  Conventional     3.006     1.043     2.883     0.004     [0.962 , 5.050]     \n",
      "        Robust         -         -     2.641     0.008     [0.827 , 5.583]     \n",
      "=============================================================================\n"
     ]
    }
   ],
   "source": [
    "# Col (4) with covariates\n",
    "out <- rdrobust(Y, X, covs = covariates, kernel = \"triangular\", \n",
    "                scaleregul = 1, p = 1, bwselect = \"mserd\")\n",
    "\n",
    "summary(out)\n",
    "effects[1,4] <- out$Estimate[[1]]\n",
    "effects[2,4] <- out$Estimate[[3]]\n",
    "effects[3,4] <- out$pv[[1]]\n",
    "effects[4,4] <- out$bws[[1]]\n",
    "effects[5,4] <- out$bws[[2]]"
   ]
  },
  {
   "cell_type": "markdown",
   "metadata": {},
   "source": [
    "### (5) & (6) Nonparametric estimation - Vary bandwidth around cutoff \n",
    "\n",
    "Take half and twice the optimal bandwidth, on the left and the right of the cutoff, respectively. "
   ]
  },
  {
   "cell_type": "code",
   "execution_count": 214,
   "metadata": {},
   "outputs": [
    {
     "data": {
      "text/html": [
       "13.7763782042921"
      ],
      "text/latex": [
       "13.7763782042921"
      ],
      "text/markdown": [
       "13.7763782042921"
      ],
      "text/plain": [
       "[1] 13.77638"
      ]
     },
     "metadata": {},
     "output_type": "display_data"
    },
    {
     "data": {
      "text/html": [
       "24.192980678191"
      ],
      "text/latex": [
       "24.192980678191"
      ],
      "text/markdown": [
       "24.192980678191"
      ],
      "text/plain": [
       "[1] 24.19298"
      ]
     },
     "metadata": {},
     "output_type": "display_data"
    }
   ],
   "source": [
    "# Store h from previous estimation\n",
    "bw_left <- as.numeric(out$bws[[1]])\n",
    "bw_right <- as.numeric(out$bws[[2]])\n",
    "\n",
    "bw_left\n",
    "bw_right"
   ]
  },
  {
   "cell_type": "code",
   "execution_count": 215,
   "metadata": {},
   "outputs": [
    {
     "name": "stdout",
     "output_type": "stream",
     "text": [
      "Call: rdrobust\n",
      "\n",
      "Number of Obs.                 2629\n",
      "BW type                      Manual\n",
      "Kernel                   Triangular\n",
      "VCE method                       NN\n",
      "\n",
      "Number of Obs.                2314         315\n",
      "Eff. Number of Obs.            207         222\n",
      "Order est. (p)                   1           1\n",
      "Order bias  (q)                  2           2\n",
      "BW est. (h)                  6.888      12.096\n",
      "BW bias (b)                  6.888      12.096\n",
      "rho (h/b)                    1.000       1.000\n",
      "Unique Obs.                   2311         315\n",
      "\n",
      "=============================================================================\n",
      "        Method     Coef. Std. Err.         z     P>|z|      [ 95% C.I. ]       \n",
      "=============================================================================\n",
      "  Conventional     2.171     1.923     1.129     0.259    [-1.599 , 5.941]     \n",
      "        Robust         -         -     0.950     0.342    [-2.889 , 8.319]     \n",
      "=============================================================================\n"
     ]
    }
   ],
   "source": [
    "# Column (5) with h/2\n",
    "out = rdrobust(Y, X, h = c(bw_left/2, bw_right/2), \n",
    "               kernel = \"triangular\", p = 1)\n",
    "\n",
    "summary(out)\n",
    "effects[1,5] <- out$Estimate[[1]]\n",
    "effects[2,5] <- out$Estimate[[3]]\n",
    "effects[3,5] <- out$pv[[1]]\n",
    "effects[4,5] <- out$bws[[1]]\n",
    "effects[5,5] <- out$bws[[2]]"
   ]
  },
  {
   "cell_type": "code",
   "execution_count": 216,
   "metadata": {},
   "outputs": [
    {
     "name": "stdout",
     "output_type": "stream",
     "text": [
      "Call: rdrobust\n",
      "\n",
      "Number of Obs.                 2629\n",
      "BW type                      Manual\n",
      "Kernel                   Triangular\n",
      "VCE method                       NN\n",
      "\n",
      "Number of Obs.                2314         315\n",
      "Eff. Number of Obs.            844         310\n",
      "Order est. (p)                   1           1\n",
      "Order bias  (q)                  2           2\n",
      "BW est. (h)                 27.553      48.386\n",
      "BW bias (b)                 27.553      48.386\n",
      "rho (h/b)                    1.000       1.000\n",
      "Unique Obs.                   2311         315\n",
      "\n",
      "=============================================================================\n",
      "        Method     Coef. Std. Err.         z     P>|z|      [ 95% C.I. ]       \n",
      "=============================================================================\n",
      "  Conventional     2.999     1.116     2.688     0.007     [0.813 , 5.185]     \n",
      "        Robust         -         -     1.936     0.053    [-0.037 , 5.928]     \n",
      "=============================================================================\n"
     ]
    }
   ],
   "source": [
    "# Column (6) with 2h\n",
    "out = rdrobust(Y, X, h = c(bw_left*2, bw_right*2), kernel = \"triangular\", p = 1)\n",
    "\n",
    "summary(out)\n",
    "effects[1,6] <- out$Estimate[[1]] \n",
    "effects[2,6] <- out$Estimate[[3]] \n",
    "effects[3,6] <- out$pv[[1]]\n",
    "effects[4,6] <- out$bws[[1]] \n",
    "effects[5,6] <- out$bws[[2]] "
   ]
  },
  {
   "cell_type": "markdown",
   "metadata": {},
   "source": [
    "### (7) & (8) Nonparametric estimation - Higher order polynomials of $(X_i - x)$ \n",
    "\n",
    "Change the value of option `p`. "
   ]
  },
  {
   "cell_type": "code",
   "execution_count": 217,
   "metadata": {},
   "outputs": [
    {
     "name": "stdout",
     "output_type": "stream",
     "text": [
      "Call: rdrobust\n",
      "\n",
      "Number of Obs.                 2629\n",
      "BW type                       mserd\n",
      "Kernel                   Triangular\n",
      "VCE method                       NN\n",
      "\n",
      "Number of Obs.                2314         315\n",
      "Eff. Number of Obs.            440         239\n",
      "Order est. (p)                   2           2\n",
      "Order bias  (q)                  3           3\n",
      "BW est. (h)                 14.207      14.207\n",
      "BW bias (b)                 20.651      20.651\n",
      "rho (h/b)                    0.688       0.688\n",
      "Unique Obs.                   2311         315\n",
      "\n",
      "=============================================================================\n",
      "        Method     Coef. Std. Err.         z     P>|z|      [ 95% C.I. ]       \n",
      "=============================================================================\n",
      "  Conventional     3.193     1.454     2.196     0.028     [0.343 , 6.042]     \n",
      "        Robust         -         -     1.978     0.048     [0.030 , 6.386]     \n",
      "=============================================================================\n"
     ]
    }
   ],
   "source": [
    "# Column (7), quadratic\n",
    "out = rdrobust(Y, X, covs = covariates, \n",
    "               kernel = \"triangular\", p = 2, bwselect = \"mserd\")\n",
    "\n",
    "summary(out)\n",
    "effects[1,7] <- out$Estimate[[1]]\n",
    "effects[2,7] <- out$Estimate[[3]]\n",
    "effects[3,7] <- out$pv[[1]]\n",
    "effects[4,7] <- out$bws[[1]]\n",
    "effects[5,7] <- out$bws[[2]]"
   ]
  },
  {
   "cell_type": "code",
   "execution_count": 218,
   "metadata": {},
   "outputs": [
    {
     "name": "stdout",
     "output_type": "stream",
     "text": [
      "Call: rdrobust\n",
      "\n",
      "Number of Obs.                 2629\n",
      "BW type                       mserd\n",
      "Kernel                   Triangular\n",
      "VCE method                       NN\n",
      "\n",
      "Number of Obs.                2314         315\n",
      "Eff. Number of Obs.            518         262\n",
      "Order est. (p)                   3           3\n",
      "Order bias  (q)                  4           4\n",
      "BW est. (h)                 16.755      16.755\n",
      "BW bias (b)                 22.344      22.344\n",
      "rho (h/b)                    0.750       0.750\n",
      "Unique Obs.                   2311         315\n",
      "\n",
      "=============================================================================\n",
      "        Method     Coef. Std. Err.         z     P>|z|      [ 95% C.I. ]       \n",
      "=============================================================================\n",
      "  Conventional     3.608     1.757     2.054     0.040     [0.165 , 7.051]     \n",
      "        Robust         -         -     1.895     0.058    [-0.125 , 7.452]     \n",
      "=============================================================================\n"
     ]
    }
   ],
   "source": [
    "# Column (8), cubic\n",
    "out = rdrobust(Y, X, covs = covariates, \n",
    "               kernel = \"triangular\", p = 3, bwselect = \"mserd\")\n",
    "\n",
    "summary(out)\n",
    "effects[1,8] <- out$Estimate[[1]]\n",
    "effects[2,8] <- out$Estimate[[3]]\n",
    "effects[3,8] <- out$pv[[1]]\n",
    "effects[4,8] <- out$bws[[1]]\n",
    "effects[5,8] <- out$bws[[2]]"
   ]
  },
  {
   "cell_type": "markdown",
   "metadata": {},
   "source": [
    "### Compare estimates"
   ]
  },
  {
   "cell_type": "code",
   "execution_count": 219,
   "metadata": {},
   "outputs": [
    {
     "data": {
      "text/html": [
       "<!-- html table generated in R 3.6.1 by xtable 1.8-4 package --><!-- Thu Nov 05 15:45:37 2020 --><table border=1><tr> <th>  </th> <th> (1) Par.  </th> <th> (2) Par. + cov.  </th> <th> (3) Nonpar. </th> <th> (4) Nonpar. </th> <th> (5) Nonpar. 1/2*h </th> <th> (6) Nonpar. 2*h </th> <th> (7) Nonpar. p=2 </th> <th> (8) Nonpar. p=3 </th>  </tr>  <tr> <td align=\"right\"> Effect </td> <td align=\"right\"> -2.577 </td> <td align=\"right\"> 1.278 </td> <td align=\"right\"> 3.020 </td> <td align=\"right\"> 3.006 </td> <td align=\"right\"> 2.171 </td> <td align=\"right\"> 2.999 </td> <td align=\"right\"> 3.193 </td> <td align=\"right\"> 3.608 </td> </tr>  <tr> <td align=\"right\"> SE </td> <td align=\"right\"> 0.573 </td> <td align=\"right\"> 0.581 </td> <td align=\"right\"> 1.427 </td> <td align=\"right\"> 1.043 </td> <td align=\"right\"> 1.923 </td> <td align=\"right\"> 1.116 </td> <td align=\"right\"> 1.454 </td> <td align=\"right\"> 1.757 </td> </tr>  <tr> <td align=\"right\"> P-value </td> <td align=\"right\"> 0.000 </td> <td align=\"right\"> 0.028 </td> <td align=\"right\"> 0.034 </td> <td align=\"right\"> 0.004 </td> <td align=\"right\"> 0.259 </td> <td align=\"right\"> 0.007 </td> <td align=\"right\"> 0.028 </td> <td align=\"right\"> 0.040 </td> </tr>  <tr> <td align=\"right\"> Bw left </td> <td align=\"right\"> 100.000 </td> <td align=\"right\"> 100.000 </td> <td align=\"right\"> 17.240 </td> <td align=\"right\"> 13.776 </td> <td align=\"right\"> 6.888 </td> <td align=\"right\"> 27.553 </td> <td align=\"right\"> 14.207 </td> <td align=\"right\"> 16.755 </td> </tr>  <tr> <td align=\"right\"> Bw right </td> <td align=\"right\"> 100.000 </td> <td align=\"right\"> 100.000 </td> <td align=\"right\"> 28.576 </td> <td align=\"right\"> 24.193 </td> <td align=\"right\"> 6.888 </td> <td align=\"right\"> 27.553 </td> <td align=\"right\"> 20.651 </td> <td align=\"right\"> 22.344 </td> </tr>   </table>"
      ],
      "text/latex": [
       "A xtable: 5 × 8\n",
       "\\begin{tabular}{r|llllllll}\n",
       "  & (1) Par.  & (2) Par. + cov.  & (3) Nonpar. & (4) Nonpar. & (5) Nonpar. 1/2*h & (6) Nonpar. 2*h & (7) Nonpar. p=2 & (8) Nonpar. p=3\\\\\n",
       "  & <dbl> & <dbl> & <dbl> & <dbl> & <dbl> & <dbl> & <dbl> & <dbl>\\\\\n",
       "\\hline\n",
       "\tEffect & -2.577430e+00 &   1.2784648 &  3.01952631 &  3.005951018 & 2.1711773 &  2.998959655 &  3.19262356 &  3.60828355\\\\\n",
       "\tSE &  5.734703e-01 &   0.5811792 &  1.42705318 &  1.042737004 & 1.9234084 &  1.115532683 &  1.45382709 &  1.75656363\\\\\n",
       "\tP-value &  6.975227e-06 &   0.0278227 &  0.03435185 &  0.003942191 & 0.2589748 &  0.007180274 &  0.02809099 &  0.03995906\\\\\n",
       "\tBw left &  1.000000e+02 & 100.0000000 & 17.23993721 & 13.776378204 & 6.8881891 & 27.552756409 & 14.20715712 & 16.75514642\\\\\n",
       "\tBw right &  1.000000e+02 & 100.0000000 & 28.57615489 & 24.192980678 & 6.8881891 & 27.552756409 & 20.65071726 & 22.34442939\\\\\n",
       "\\end{tabular}\n"
      ],
      "text/markdown": [
       "\n",
       "A xtable: 5 × 8\n",
       "\n",
       "| <!--/--> | (1) Par.  &lt;dbl&gt; | (2) Par. + cov.  &lt;dbl&gt; | (3) Nonpar. &lt;dbl&gt; | (4) Nonpar. &lt;dbl&gt; | (5) Nonpar. 1/2*h &lt;dbl&gt; | (6) Nonpar. 2*h &lt;dbl&gt; | (7) Nonpar. p=2 &lt;dbl&gt; | (8) Nonpar. p=3 &lt;dbl&gt; |\n",
       "|---|---|---|---|---|---|---|---|---|\n",
       "| Effect | -2.577430e+00 |   1.2784648 |  3.01952631 |  3.005951018 | 2.1711773 |  2.998959655 |  3.19262356 |  3.60828355 |\n",
       "| SE |  5.734703e-01 |   0.5811792 |  1.42705318 |  1.042737004 | 1.9234084 |  1.115532683 |  1.45382709 |  1.75656363 |\n",
       "| P-value |  6.975227e-06 |   0.0278227 |  0.03435185 |  0.003942191 | 0.2589748 |  0.007180274 |  0.02809099 |  0.03995906 |\n",
       "| Bw left |  1.000000e+02 | 100.0000000 | 17.23993721 | 13.776378204 | 6.8881891 | 27.552756409 | 14.20715712 | 16.75514642 |\n",
       "| Bw right |  1.000000e+02 | 100.0000000 | 28.57615489 | 24.192980678 | 6.8881891 | 27.552756409 | 20.65071726 | 22.34442939 |\n",
       "\n"
      ],
      "text/plain": [
       "         (1) Par.      (2) Par. + cov.  (3) Nonpar. (4) Nonpar. \n",
       "Effect   -2.577430e+00   1.2784648       3.01952631  3.005951018\n",
       "SE        5.734703e-01   0.5811792       1.42705318  1.042737004\n",
       "P-value   6.975227e-06   0.0278227       0.03435185  0.003942191\n",
       "Bw left   1.000000e+02 100.0000000      17.23993721 13.776378204\n",
       "Bw right  1.000000e+02 100.0000000      28.57615489 24.192980678\n",
       "         (5) Nonpar. 1/2*h (6) Nonpar. 2*h (7) Nonpar. p=2 (8) Nonpar. p=3\n",
       "Effect   2.1711773          2.998959655     3.19262356      3.60828355    \n",
       "SE       1.9234084          1.115532683     1.45382709      1.75656363    \n",
       "P-value  0.2589748          0.007180274     0.02809099      0.03995906    \n",
       "Bw left  6.8881891         27.552756409    14.20715712     16.75514642    \n",
       "Bw right 6.8881891         27.552756409    20.65071726     22.34442939    "
      ]
     },
     "metadata": {},
     "output_type": "display_data"
    }
   ],
   "source": [
    "rownames(effects) <- c(\"Effect\", \"SE\", \"P-value\", \"Bw left\", \"Bw right\")\n",
    "colnames(effects) <- c(\"(1) Par. \", \"(2) Par. + cov. \", \"(3) Nonpar.\",\n",
    "                             \"(4) Nonpar.\", \"(5) Nonpar. 1/2*h\", \"(6) Nonpar. 2*h\",\n",
    "                             \"(7) Nonpar. p=2\",\"(8) Nonpar. p=3\")\n",
    "xtable(effects, digits=3)"
   ]
  },
  {
   "cell_type": "markdown",
   "metadata": {},
   "source": [
    "### No sorting in covariates: covariates as outcome\n",
    "\n",
    "Run same RDD analysis but with covariates as outcomes. \n",
    "\n",
    "This part serves for formal inference regarding sorting on covariates. "
   ]
  },
  {
   "cell_type": "code",
   "execution_count": 220,
   "metadata": {
    "scrolled": false
   },
   "outputs": [
    {
     "name": "stdout",
     "output_type": "stream",
     "text": [
      "Call: rdrobust\n",
      "\n",
      "Number of Obs.                 2629\n",
      "BW type                       mserd\n",
      "Kernel                   Triangular\n",
      "VCE method                       NN\n",
      "\n",
      "Number of Obs.                2314         315\n",
      "Eff. Number of Obs.            400         233\n",
      "Order est. (p)                   1           1\n",
      "Order bias  (q)                  2           2\n",
      "BW est. (h)                 13.320      13.320\n",
      "BW bias (b)                 21.368      21.368\n",
      "rho (h/b)                    0.623       0.623\n",
      "Unique Obs.                   2311         315\n",
      "\n",
      "=============================================================================\n",
      "        Method     Coef. Std. Err.         z     P>|z|      [ 95% C.I. ]       \n",
      "=============================================================================\n",
      "  Conventional     0.012     0.278     0.045     0.964    [-0.532 , 0.557]     \n",
      "        Robust         -         -     0.001     0.999    [-0.644 , 0.645]     \n",
      "=============================================================================\n",
      "Call: rdrobust\n",
      "\n",
      "Number of Obs.                 2629\n",
      "BW type                       mserd\n",
      "Kernel                   Triangular\n",
      "VCE method                       NN\n",
      "\n",
      "Number of Obs.                2314         315\n",
      "Eff. Number of Obs.            430         238\n",
      "Order est. (p)                   1           1\n",
      "Order bias  (q)                  2           2\n",
      "BW est. (h)                 13.940      13.940\n",
      "BW bias (b)                 22.475      22.475\n",
      "rho (h/b)                    0.620       0.620\n",
      "Unique Obs.                   2311         315\n",
      "\n",
      "=============================================================================\n",
      "        Method     Coef. Std. Err.         z     P>|z|      [ 95% C.I. ]       \n",
      "=============================================================================\n",
      "  Conventional     0.603     1.479     0.408     0.683    [-2.296 , 3.503]     \n",
      "        Robust         -         -     0.370     0.711    [-2.794 , 4.095]     \n",
      "=============================================================================\n",
      "Call: rdrobust\n",
      "\n",
      "Number of Obs.                 2629\n",
      "BW type                       mserd\n",
      "Kernel                   Triangular\n",
      "VCE method                       NN\n",
      "\n",
      "Number of Obs.                2314         315\n",
      "Eff. Number of Obs.            373         223\n",
      "Order est. (p)                   1           1\n",
      "Order bias  (q)                  2           2\n",
      "BW est. (h)                 12.166      12.166\n",
      "BW bias (b)                 20.064      20.064\n",
      "rho (h/b)                    0.606       0.606\n",
      "Unique Obs.                   2311         315\n",
      "\n",
      "=============================================================================\n",
      "        Method     Coef. Std. Err.         z     P>|z|      [ 95% C.I. ]       \n",
      "=============================================================================\n",
      "  Conventional    -0.168     0.478    -0.351     0.726    [-1.105 , 0.769]     \n",
      "        Robust         -         -    -0.429     0.668    [-1.357 , 0.869]     \n",
      "=============================================================================\n",
      "Call: rdrobust\n",
      "\n",
      "Number of Obs.                 2629\n",
      "BW type                       mserd\n",
      "Kernel                   Triangular\n",
      "VCE method                       NN\n",
      "\n",
      "Number of Obs.                2314         315\n",
      "Eff. Number of Obs.            445         240\n",
      "Order est. (p)                   1           1\n",
      "Order bias  (q)                  2           2\n",
      "BW est. (h)                 14.314      14.314\n",
      "BW bias (b)                 25.859      25.859\n",
      "rho (h/b)                    0.554       0.554\n",
      "Unique Obs.                   2311         315\n",
      "\n",
      "=============================================================================\n",
      "        Method     Coef. Std. Err.         z     P>|z|      [ 95% C.I. ]       \n",
      "=============================================================================\n",
      "  Conventional    -0.217     0.473    -0.458     0.647    [-1.144 , 0.710]     \n",
      "        Robust         -         -    -0.624     0.533    [-1.397 , 0.723]     \n",
      "=============================================================================\n",
      "Call: rdrobust\n",
      "\n",
      "Number of Obs.                 2629\n",
      "BW type                       mserd\n",
      "Kernel                   Triangular\n",
      "VCE method                       NN\n",
      "\n",
      "Number of Obs.                2314         315\n",
      "Eff. Number of Obs.            463         248\n",
      "Order est. (p)                   1           1\n",
      "Order bias  (q)                  2           2\n",
      "BW est. (h)                 15.106      15.106\n",
      "BW bias (b)                 27.751      27.751\n",
      "rho (h/b)                    0.544       0.544\n",
      "Unique Obs.                   2311         315\n",
      "\n",
      "=============================================================================\n",
      "        Method     Coef. Std. Err.         z     P>|z|      [ 95% C.I. ]       \n",
      "=============================================================================\n",
      "  Conventional     0.041     1.172     0.035     0.972    [-2.255 , 2.338]     \n",
      "        Robust         -         -     0.276     0.783    [-2.260 , 3.000]     \n",
      "=============================================================================\n",
      "Call: rdrobust\n",
      "\n",
      "Number of Obs.                 2629\n",
      "BW type                       mserd\n",
      "Kernel                   Triangular\n",
      "VCE method                       NN\n",
      "\n",
      "Number of Obs.                2314         315\n",
      "Eff. Number of Obs.            322         200\n",
      "Order est. (p)                   1           1\n",
      "Order bias  (q)                  2           2\n",
      "BW est. (h)                 10.480      10.480\n",
      "BW bias (b)                 19.152      19.152\n",
      "rho (h/b)                    0.547       0.547\n",
      "Unique Obs.                   2311         315\n",
      "\n",
      "=============================================================================\n",
      "        Method     Coef. Std. Err.         z     P>|z|      [ 95% C.I. ]       \n",
      "=============================================================================\n",
      "  Conventional     1.731     1.886     0.918     0.359    [-1.964 , 5.427]     \n",
      "        Robust         -         -     1.016     0.310    [-2.064 , 6.507]     \n",
      "=============================================================================\n",
      "Call: rdrobust\n",
      "\n",
      "Number of Obs.                 2629\n",
      "BW type                       mserd\n",
      "Kernel                   Triangular\n",
      "VCE method                       NN\n",
      "\n",
      "Number of Obs.                2314         315\n",
      "Eff. Number of Obs.            547         270\n",
      "Order est. (p)                   1           1\n",
      "Order bias  (q)                  2           2\n",
      "BW est. (h)                 17.972      17.972\n",
      "BW bias (b)                 29.775      29.775\n",
      "rho (h/b)                    0.604       0.604\n",
      "Unique Obs.                   2311         315\n",
      "\n",
      "=============================================================================\n",
      "        Method     Coef. Std. Err.         z     P>|z|      [ 95% C.I. ]       \n",
      "=============================================================================\n",
      "  Conventional    -0.001     0.364    -0.003     0.998    [-0.714 , 0.712]     \n",
      "        Robust         -         -     0.155     0.877    [-0.775 , 0.908]     \n",
      "=============================================================================\n",
      "Call: rdrobust\n",
      "\n",
      "Number of Obs.                 2629\n",
      "BW type                       mserd\n",
      "Kernel                   Triangular\n",
      "VCE method                       NN\n",
      "\n",
      "Number of Obs.                2314         315\n",
      "Eff. Number of Obs.            394         230\n",
      "Order est. (p)                   1           1\n",
      "Order bias  (q)                  2           2\n",
      "BW est. (h)                 13.033      13.033\n",
      "BW bias (b)                 20.764      20.764\n",
      "rho (h/b)                    0.628       0.628\n",
      "Unique Obs.                   2311         315\n",
      "\n",
      "=============================================================================\n",
      "        Method     Coef. Std. Err.         z     P>|z|      [ 95% C.I. ]       \n",
      "=============================================================================\n",
      "  Conventional    -0.067     0.089    -0.757     0.449    [-0.241 , 0.107]     \n",
      "        Robust         -         -    -0.735     0.462    [-0.285 , 0.130]     \n",
      "=============================================================================\n",
      "Call: rdrobust\n",
      "\n",
      "Number of Obs.                 2629\n",
      "BW type                       mserd\n",
      "Kernel                   Triangular\n",
      "VCE method                       NN\n",
      "\n",
      "Number of Obs.                2314         315\n",
      "Eff. Number of Obs.            358         216\n",
      "Order est. (p)                   1           1\n",
      "Order bias  (q)                  2           2\n",
      "BW est. (h)                 11.557      11.557\n",
      "BW bias (b)                 18.908      18.908\n",
      "rho (h/b)                    0.611       0.611\n",
      "Unique Obs.                   2311         315\n",
      "\n",
      "=============================================================================\n",
      "        Method     Coef. Std. Err.         z     P>|z|      [ 95% C.I. ]       \n",
      "=============================================================================\n",
      "  Conventional     0.029     0.037     0.788     0.431    [-0.044 , 0.103]     \n",
      "        Robust         -         -     0.511     0.609    [-0.064 , 0.109]     \n",
      "=============================================================================\n",
      "Call: rdrobust\n",
      "\n",
      "Number of Obs.                 2629\n",
      "BW type                       mserd\n",
      "Kernel                   Triangular\n",
      "VCE method                       NN\n",
      "\n",
      "Number of Obs.                2314         315\n",
      "Eff. Number of Obs.            317         196\n",
      "Order est. (p)                   1           1\n",
      "Order bias  (q)                  2           2\n",
      "BW est. (h)                 10.360      10.360\n",
      "BW bias (b)                 18.636      18.636\n",
      "rho (h/b)                    0.556       0.556\n",
      "Unique Obs.                   2311         315\n",
      "\n",
      "=============================================================================\n",
      "        Method     Coef. Std. Err.         z     P>|z|      [ 95% C.I. ]       \n",
      "=============================================================================\n",
      "  Conventional    -0.016     0.039    -0.410     0.682    [-0.092 , 0.060]     \n",
      "        Robust         -         -    -0.565     0.572    [-0.114 , 0.063]     \n",
      "=============================================================================\n",
      "Call: rdrobust\n",
      "\n",
      "Number of Obs.                 2629\n",
      "BW type                       mserd\n",
      "Kernel                   Triangular\n",
      "VCE method                       NN\n",
      "\n",
      "Number of Obs.                2314         315\n",
      "Eff. Number of Obs.            407         235\n",
      "Order est. (p)                   1           1\n",
      "Order bias  (q)                  2           2\n",
      "BW est. (h)                 13.622      13.622\n",
      "BW bias (b)                 21.939      21.939\n",
      "rho (h/b)                    0.621       0.621\n",
      "Unique Obs.                   2311         315\n",
      "\n",
      "=============================================================================\n",
      "        Method     Coef. Std. Err.         z     P>|z|      [ 95% C.I. ]       \n",
      "=============================================================================\n",
      "  Conventional     0.008     0.024     0.313     0.754    [-0.040 , 0.055]     \n",
      "        Robust         -         -     0.354     0.723    [-0.047 , 0.068]     \n",
      "=============================================================================\n"
     ]
    }
   ],
   "source": [
    "covariate_rd <- function(covariate) {\n",
    "    out <- rdrobust(covariate, X)\n",
    "    summary(out)\n",
    "    list(effect=out$Estimate[[1]], \n",
    "         se=out$Estimate[[3]],\n",
    "         pv=out$pv[[1]])  \n",
    "}\n",
    "\n",
    "covariate_out <- apply(covariates, 2, covariate_rd)"
   ]
  },
  {
   "cell_type": "code",
   "execution_count": 221,
   "metadata": {},
   "outputs": [
    {
     "name": "stdout",
     "output_type": "stream",
     "text": [
      "[1] \"RD effect estimates for covariates\"\n"
     ]
    },
    {
     "data": {
      "text/html": [
       "<!-- html table generated in R 3.6.1 by xtable 1.8-4 package --><!-- Thu Nov 05 15:45:38 2020 --><table border=1><tr> <th>  </th> <th> effect </th> <th> se </th> <th> pv </th>  </tr>  <tr> <td align=\"right\"> lpop1994 </td> <td align=\"right\"> 0.012 </td> <td align=\"right\"> 0.278 </td> <td align=\"right\"> 0.964 </td> </tr>  <tr> <td align=\"right\"> vshr_islam1994 </td> <td align=\"right\"> 0.603 </td> <td align=\"right\"> 1.479 </td> <td align=\"right\"> 0.683 </td> </tr>  <tr> <td align=\"right\"> partycount </td> <td align=\"right\"> -0.168 </td> <td align=\"right\"> 0.478 </td> <td align=\"right\"> 0.726 </td> </tr>  <tr> <td align=\"right\"> ageshr60 </td> <td align=\"right\"> -0.217 </td> <td align=\"right\"> 0.473 </td> <td align=\"right\"> 0.647 </td> </tr>  <tr> <td align=\"right\"> ageshr19 </td> <td align=\"right\"> 0.041 </td> <td align=\"right\"> 1.172 </td> <td align=\"right\"> 0.972 </td> </tr>  <tr> <td align=\"right\"> sexr </td> <td align=\"right\"> 1.731 </td> <td align=\"right\"> 1.886 </td> <td align=\"right\"> 0.359 </td> </tr>  <tr> <td align=\"right\"> shhs </td> <td align=\"right\"> -0.001 </td> <td align=\"right\"> 0.364 </td> <td align=\"right\"> 0.998 </td> </tr>  <tr> <td align=\"right\"> merkezi </td> <td align=\"right\"> -0.067 </td> <td align=\"right\"> 0.089 </td> <td align=\"right\"> 0.449 </td> </tr>  <tr> <td align=\"right\"> merkezp </td> <td align=\"right\"> 0.029 </td> <td align=\"right\"> 0.037 </td> <td align=\"right\"> 0.431 </td> </tr>  <tr> <td align=\"right\"> subbuyuk </td> <td align=\"right\"> -0.016 </td> <td align=\"right\"> 0.039 </td> <td align=\"right\"> 0.682 </td> </tr>  <tr> <td align=\"right\"> buyuk </td> <td align=\"right\"> 0.008 </td> <td align=\"right\"> 0.024 </td> <td align=\"right\"> 0.754 </td> </tr>   </table>"
      ],
      "text/latex": [
       "A xtable: 11 × 3\n",
       "\\begin{tabular}{r|lll}\n",
       "  & effect & se & pv\\\\\n",
       "  & <dbl> & <dbl> & <dbl>\\\\\n",
       "\\hline\n",
       "\tlpop1994 &  0.012451531 & 0.27769928 & 0.9642363\\\\\n",
       "\tvshr\\_islam1994 &  0.603307436 & 1.47948326 & 0.6834333\\\\\n",
       "\tpartycount & -0.167746500 & 0.47802880 & 0.7256537\\\\\n",
       "\tageshr60 & -0.216727830 & 0.47303014 & 0.6468309\\\\\n",
       "\tageshr19 &  0.041458619 & 1.17151051 & 0.9717695\\\\\n",
       "\tsexr &  1.731203156 & 1.88558725 & 0.3585539\\\\\n",
       "\tshhs & -0.001117587 & 0.36378606 & 0.9975488\\\\\n",
       "\tmerkezi & -0.067259387 & 0.08881828 & 0.4488883\\\\\n",
       "\tmerkezp &  0.029469568 & 0.03738503 & 0.4305376\\\\\n",
       "\tsubbuyuk & -0.015970253 & 0.03892158 & 0.6815722\\\\\n",
       "\tbuyuk &  0.007637548 & 0.02437838 & 0.7540589\\\\\n",
       "\\end{tabular}\n"
      ],
      "text/markdown": [
       "\n",
       "A xtable: 11 × 3\n",
       "\n",
       "| <!--/--> | effect &lt;dbl&gt; | se &lt;dbl&gt; | pv &lt;dbl&gt; |\n",
       "|---|---|---|---|\n",
       "| lpop1994 |  0.012451531 | 0.27769928 | 0.9642363 |\n",
       "| vshr_islam1994 |  0.603307436 | 1.47948326 | 0.6834333 |\n",
       "| partycount | -0.167746500 | 0.47802880 | 0.7256537 |\n",
       "| ageshr60 | -0.216727830 | 0.47303014 | 0.6468309 |\n",
       "| ageshr19 |  0.041458619 | 1.17151051 | 0.9717695 |\n",
       "| sexr |  1.731203156 | 1.88558725 | 0.3585539 |\n",
       "| shhs | -0.001117587 | 0.36378606 | 0.9975488 |\n",
       "| merkezi | -0.067259387 | 0.08881828 | 0.4488883 |\n",
       "| merkezp |  0.029469568 | 0.03738503 | 0.4305376 |\n",
       "| subbuyuk | -0.015970253 | 0.03892158 | 0.6815722 |\n",
       "| buyuk |  0.007637548 | 0.02437838 | 0.7540589 |\n",
       "\n"
      ],
      "text/plain": [
       "               effect       se         pv       \n",
       "lpop1994        0.012451531 0.27769928 0.9642363\n",
       "vshr_islam1994  0.603307436 1.47948326 0.6834333\n",
       "partycount     -0.167746500 0.47802880 0.7256537\n",
       "ageshr60       -0.216727830 0.47303014 0.6468309\n",
       "ageshr19        0.041458619 1.17151051 0.9717695\n",
       "sexr            1.731203156 1.88558725 0.3585539\n",
       "shhs           -0.001117587 0.36378606 0.9975488\n",
       "merkezi        -0.067259387 0.08881828 0.4488883\n",
       "merkezp         0.029469568 0.03738503 0.4305376\n",
       "subbuyuk       -0.015970253 0.03892158 0.6815722\n",
       "buyuk           0.007637548 0.02437838 0.7540589"
      ]
     },
     "metadata": {},
     "output_type": "display_data"
    }
   ],
   "source": [
    "# convert list to table\n",
    "covariate_table <- rbindlist(covariate_out)\n",
    "rownames(covariate_table)<- colnames(covariates)\n",
    "\n",
    "print(\"RD effect estimates for covariates\")\n",
    "xtable(covariate_table, digits=3)"
   ]
  },
  {
   "cell_type": "markdown",
   "metadata": {},
   "source": [
    "***\n",
    "\n",
    "## Extensions\n",
    "\n",
    "### Mechanisms and effect heterogeneity\n",
    "\n",
    "Table V Panel C, Meyersson "
   ]
  },
  {
   "cell_type": "code",
   "execution_count": 222,
   "metadata": {},
   "outputs": [
    {
     "data": {
      "text/html": [
       "26.0218887329102"
      ],
      "text/latex": [
       "26.0218887329102"
      ],
      "text/markdown": [
       "26.0218887329102"
      ],
      "text/plain": [
       "[1] 26.02189"
      ]
     },
     "metadata": {},
     "output_type": "display_data"
    }
   ],
   "source": [
    "# Restrict sample to bandwidth of 25\n",
    "# Only after, split at median of Islam vote share\n",
    "median <- as.numeric(median(vshr_islam1994[abs(X)<=25]))\n",
    "median"
   ]
  },
  {
   "cell_type": "code",
   "execution_count": 223,
   "metadata": {},
   "outputs": [
    {
     "name": "stdout",
     "output_type": "stream",
     "text": [
      "Call: rdrobust\n",
      "\n",
      "Number of Obs.                  557\n",
      "BW type                      Manual\n",
      "Kernel                   Triangular\n",
      "VCE method                       NN\n",
      "\n",
      "Number of Obs.                 260         297\n",
      "Eff. Number of Obs.            249         276\n",
      "Order est. (p)                   1           1\n",
      "Order bias  (q)                  2           2\n",
      "BW est. (h)                 25.000      25.000\n",
      "BW bias (b)                 25.000      25.000\n",
      "rho (h/b)                    1.000       1.000\n",
      "Unique Obs.                    260         297\n",
      "\n",
      "=============================================================================\n",
      "        Method     Coef. Std. Err.         z     P>|z|      [ 95% C.I. ]       \n",
      "=============================================================================\n",
      "  Conventional     3.618     1.430     2.530     0.011     [0.815 , 6.420]     \n",
      "        Robust         -         -     1.620     0.105    [-0.695 , 7.304]     \n",
      "=============================================================================\n",
      "Call: rdrobust\n",
      "\n",
      "Number of Obs.                 2072\n",
      "BW type                      Manual\n",
      "Kernel                   Triangular\n",
      "VCE method                       NN\n",
      "\n",
      "Number of Obs.                2054          18\n",
      "Eff. Number of Obs.            506          18\n",
      "Order est. (p)                   1           1\n",
      "Order bias  (q)                  2           2\n",
      "BW est. (h)                 25.000      25.000\n",
      "BW bias (b)                 25.000      25.000\n",
      "rho (h/b)                    1.000       1.000\n",
      "Unique Obs.                   2052          18\n",
      "\n",
      "=============================================================================\n",
      "        Method     Coef. Std. Err.         z     P>|z|      [ 95% C.I. ]       \n",
      "=============================================================================\n",
      "  Conventional    -0.559     3.273    -0.171     0.864    [-6.974 , 5.856]     \n",
      "        Robust         -         -     0.155     0.877    [-8.984 , 10.526]    \n",
      "=============================================================================\n"
     ]
    }
   ],
   "source": [
    "# Column (1), above median \n",
    "out = rdrobust(Y[vshr_islam1994 >= median], X[vshr_islam1994 >= median], \n",
    "               kernel = \"triangular\", p = 1, h = 25)\n",
    "summary(out)\n",
    "\n",
    "# Column (2), below median \n",
    "out = rdrobust(Y[vshr_islam1994 < median], X[vshr_islam1994 < median], \n",
    "               kernel = \"triangular\", p = 1, h = 25)\n",
    "summary(out)"
   ]
  },
  {
   "cell_type": "markdown",
   "metadata": {},
   "source": [
    "### Donut hole approach \n",
    "\n",
    "See how the effect changes if we exclude different ranges of observations close to the cut-off.\n",
    "\n",
    "Goal: alleviate potential biases from manipulation of running variable around the cut-off. "
   ]
  },
  {
   "cell_type": "code",
   "execution_count": 224,
   "metadata": {},
   "outputs": [
    {
     "data": {
      "text/html": [
       "<table>\n",
       "<caption>A data.table: 6 × 3</caption>\n",
       "<thead>\n",
       "\t<tr><th scope=col>donut</th><th scope=col>effect</th><th scope=col>se</th></tr>\n",
       "\t<tr><th scope=col>&lt;dbl&gt;</th><th scope=col>&lt;dbl&gt;</th><th scope=col>&lt;dbl&gt;</th></tr>\n",
       "</thead>\n",
       "<tbody>\n",
       "\t<tr><td>0.0</td><td>3.019526</td><td>1.427053</td></tr>\n",
       "\t<tr><td>0.1</td><td>3.080773</td><td>1.405735</td></tr>\n",
       "\t<tr><td>0.2</td><td>3.337186</td><td>1.469769</td></tr>\n",
       "\t<tr><td>0.3</td><td>3.414149</td><td>1.516897</td></tr>\n",
       "\t<tr><td>0.4</td><td>3.285757</td><td>1.436078</td></tr>\n",
       "\t<tr><td>0.5</td><td>3.745077</td><td>1.495280</td></tr>\n",
       "</tbody>\n",
       "</table>\n"
      ],
      "text/latex": [
       "A data.table: 6 × 3\n",
       "\\begin{tabular}{lll}\n",
       " donut & effect & se\\\\\n",
       " <dbl> & <dbl> & <dbl>\\\\\n",
       "\\hline\n",
       "\t 0.0 & 3.019526 & 1.427053\\\\\n",
       "\t 0.1 & 3.080773 & 1.405735\\\\\n",
       "\t 0.2 & 3.337186 & 1.469769\\\\\n",
       "\t 0.3 & 3.414149 & 1.516897\\\\\n",
       "\t 0.4 & 3.285757 & 1.436078\\\\\n",
       "\t 0.5 & 3.745077 & 1.495280\\\\\n",
       "\\end{tabular}\n"
      ],
      "text/markdown": [
       "\n",
       "A data.table: 6 × 3\n",
       "\n",
       "| donut &lt;dbl&gt; | effect &lt;dbl&gt; | se &lt;dbl&gt; |\n",
       "|---|---|---|\n",
       "| 0.0 | 3.019526 | 1.427053 |\n",
       "| 0.1 | 3.080773 | 1.405735 |\n",
       "| 0.2 | 3.337186 | 1.469769 |\n",
       "| 0.3 | 3.414149 | 1.516897 |\n",
       "| 0.4 | 3.285757 | 1.436078 |\n",
       "| 0.5 | 3.745077 | 1.495280 |\n",
       "\n"
      ],
      "text/plain": [
       "  donut effect   se      \n",
       "1 0.0   3.019526 1.427053\n",
       "2 0.1   3.080773 1.405735\n",
       "3 0.2   3.337186 1.469769\n",
       "4 0.3   3.414149 1.516897\n",
       "5 0.4   3.285757 1.436078\n",
       "6 0.5   3.745077 1.495280"
      ]
     },
     "metadata": {},
     "output_type": "display_data"
    }
   ],
   "source": [
    "donut_range <- as.matrix(c(0, 0.1, 0.2, 0.3, 0.4, 0.5))\n",
    "\n",
    "donut_tests <- function(donut) {          \n",
    "\n",
    "        if (is.numeric(donut)) {\n",
    "            out = rdrobust(Y[abs(X) >= donut], X[abs(X) >= donut], \n",
    "                       kernel = \"triangular\", p = 1)\n",
    "            list(donut=donut, effect=out$Estimate[[1]], se=out$Estimate[[3]])  \n",
    "        } else {\n",
    "            print(\"ERROR - Donut range must be numeric\")\n",
    "        }\n",
    "\n",
    "}\n",
    "\n",
    "donut_out <- apply(donut_range, 1, donut_tests)\n",
    "\n",
    "\n",
    "# convert list to table\n",
    "donut_table <- rbindlist(donut_out)\n",
    "donut_table"
   ]
  }
 ],
 "metadata": {
  "kernelspec": {
   "display_name": "R",
   "language": "R",
   "name": "ir"
  },
  "language_info": {
   "codemirror_mode": "r",
   "file_extension": ".r",
   "mimetype": "text/x-r-source",
   "name": "R",
   "pygments_lexer": "r",
   "version": "3.6.1"
  }
 },
 "nbformat": 4,
 "nbformat_minor": 2
}
