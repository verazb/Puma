{
 "cells": [
  {
   "cell_type": "markdown",
   "metadata": {},
   "source": [
    "**Applied Empirical Analysis (HS 2020)**\n",
    "\n",
    "**Conny Wunsch, Ulrike Unterhofer and Véra Zabrodina** -- University of Basel\n",
    "\n",
    "***\n",
    "\n",
    "# Lab Session 2 - Selection on Observables\n",
    "\n",
    "***\n",
    "\n",
    "### Why do we apply semiparametric methods for selection on observables types of analyses?\n",
    "\n",
    "* Which assumptions can we relax compared to parametric methods?\n",
    "* Which additional/different assumptions do we impose?\n",
    "* What types of (potentially different) effects do we identify?\n",
    "* Which issue do semiparametric methods solve compared to non-parametric methods?"
   ]
  },
  {
   "cell_type": "markdown",
   "metadata": {},
   "source": [
    "## Application: The Curse and Blessing of Training the Unemployed in a Changing Economy: The Case of East Germany After Unification\n",
    "**Lechner, M., R. Miquel, and C. Wunsch, German Economic Review 2007**\n"
   ]
  },
  {
   "cell_type": "markdown",
   "metadata": {},
   "source": [
    "## 1. Procedure\n",
    "\n",
    "1. Understand based on which information treatment assignment and self-selection into treatment works (covariate choice should be guided by large observed differences in covariates, institutional knowledge and theoretical considerations)\n",
    "2. Estimate the treatment probability $Pr(D = 1|X = x)$ parametrically using a probit or logit model:\n",
    "    * specify a parsimonious model first, then \n",
    "    * use omitted variable tests or machine learning methods (e.g. Lasso) to specify full model.\n",
    "3. Predict the treatment probability, i.e. compute the propensity score $p(X_i)$ (p-score)\n",
    "4. Check for overlap in p-score across treated and control groups, and possiblydrop non-overlapping ones\n",
    "5. Choose a semiparametric estimator (IPW, nearest-neighbour matching, radiusmatching, etc.)\n",
    "6. For inference, bootstrap the whole thing (often implemented in packages)\n",
    "7. Check for changes in considered population and balancedness in covariates"
   ]
  },
  {
   "cell_type": "markdown",
   "metadata": {},
   "source": [
    "## 2. Empirical Analysis"
   ]
  },
  {
   "cell_type": "markdown",
   "metadata": {},
   "source": [
    "### Load Packages and set directory"
   ]
  },
  {
   "cell_type": "code",
   "execution_count": 1,
   "metadata": {},
   "outputs": [
    {
     "name": "stderr",
     "output_type": "stream",
     "text": [
      "Loading required package: tidyverse\n",
      "\n",
      "-- \u001b[1mAttaching packages\u001b[22m --------------------------------------- tidyverse 1.3.0 --\n",
      "\n",
      "\u001b[32mv\u001b[39m \u001b[34mggplot2\u001b[39m 3.3.2     \u001b[32mv\u001b[39m \u001b[34mpurrr  \u001b[39m 0.3.4\n",
      "\u001b[32mv\u001b[39m \u001b[34mtibble \u001b[39m 3.0.1     \u001b[32mv\u001b[39m \u001b[34mdplyr  \u001b[39m 1.0.0\n",
      "\u001b[32mv\u001b[39m \u001b[34mtidyr  \u001b[39m 1.1.0     \u001b[32mv\u001b[39m \u001b[34mstringr\u001b[39m 1.4.0\n",
      "\u001b[32mv\u001b[39m \u001b[34mreadr  \u001b[39m 1.3.1     \u001b[32mv\u001b[39m \u001b[34mforcats\u001b[39m 0.5.0\n",
      "\n",
      "-- \u001b[1mConflicts\u001b[22m ------------------------------------------ tidyverse_conflicts() --\n",
      "\u001b[31mx\u001b[39m \u001b[34mdplyr\u001b[39m::\u001b[32mfilter()\u001b[39m masks \u001b[34mstats\u001b[39m::filter()\n",
      "\u001b[31mx\u001b[39m \u001b[34mdplyr\u001b[39m::\u001b[32mlag()\u001b[39m    masks \u001b[34mstats\u001b[39m::lag()\n",
      "\n",
      "Loading required package: haven\n",
      "\n",
      "Loading required package: Hmisc\n",
      "\n",
      "Loading required package: lattice\n",
      "\n",
      "Loading required package: survival\n",
      "\n",
      "Loading required package: Formula\n",
      "\n",
      "\n",
      "Attaching package: 'Hmisc'\n",
      "\n",
      "\n",
      "The following objects are masked from 'package:dplyr':\n",
      "\n",
      "    src, summarize\n",
      "\n",
      "\n",
      "The following objects are masked from 'package:base':\n",
      "\n",
      "    format.pval, units\n",
      "\n",
      "\n",
      "Loading required package: sandwich\n",
      "\n",
      "Loading required package: lmtest\n",
      "\n",
      "Loading required package: zoo\n",
      "\n",
      "\n",
      "Attaching package: 'zoo'\n",
      "\n",
      "\n",
      "The following objects are masked from 'package:base':\n",
      "\n",
      "    as.Date, as.Date.numeric\n",
      "\n",
      "\n",
      "Loading required package: jtools\n",
      "\n",
      "\n",
      "Attaching package: 'jtools'\n",
      "\n",
      "\n",
      "The following object is masked from 'package:Hmisc':\n",
      "\n",
      "    %nin%\n",
      "\n",
      "\n",
      "Loading required package: fBasics\n",
      "\n",
      "Loading required package: timeDate\n",
      "\n",
      "Loading required package: timeSeries\n",
      "\n",
      "\n",
      "Attaching package: 'timeSeries'\n",
      "\n",
      "\n",
      "The following object is masked from 'package:zoo':\n",
      "\n",
      "    time<-\n",
      "\n",
      "\n",
      "Loading required package: knitr\n",
      "\n",
      "Loading required package: xtable\n",
      "\n",
      "\n",
      "Attaching package: 'xtable'\n",
      "\n",
      "\n",
      "The following object is masked from 'package:timeSeries':\n",
      "\n",
      "    align\n",
      "\n",
      "\n",
      "The following object is masked from 'package:timeDate':\n",
      "\n",
      "    align\n",
      "\n",
      "\n",
      "The following objects are masked from 'package:Hmisc':\n",
      "\n",
      "    label, label<-\n",
      "\n",
      "\n",
      "Loading required package: data.table\n",
      "\n",
      "\n",
      "Attaching package: 'data.table'\n",
      "\n",
      "\n",
      "The following objects are masked from 'package:dplyr':\n",
      "\n",
      "    between, first, last\n",
      "\n",
      "\n",
      "The following object is masked from 'package:purrr':\n",
      "\n",
      "    transpose\n",
      "\n",
      "\n",
      "Loading required package: stargazer\n",
      "\n",
      "\n",
      "Please cite as: \n",
      "\n",
      "\n",
      " Hlavac, Marek (2018). stargazer: Well-Formatted Regression and Summary Statistics Tables.\n",
      "\n",
      " R package version 5.2.2. https://CRAN.R-project.org/package=stargazer \n",
      "\n",
      "\n",
      "Loading required package: AER\n",
      "\n",
      "Loading required package: car\n",
      "\n",
      "Loading required package: carData\n",
      "\n",
      "\n",
      "Attaching package: 'car'\n",
      "\n",
      "\n",
      "The following object is masked from 'package:fBasics':\n",
      "\n",
      "    densityPlot\n",
      "\n",
      "\n",
      "The following object is masked from 'package:dplyr':\n",
      "\n",
      "    recode\n",
      "\n",
      "\n",
      "The following object is masked from 'package:purrr':\n",
      "\n",
      "    some\n",
      "\n",
      "\n",
      "Loading required package: causalweight\n",
      "\n",
      "Loading required package: np\n",
      "\n",
      "Nonparametric Kernel Methods for Mixed Datatypes (version 0.60-10)\n",
      "[vignette(\"np_faq\",package=\"np\") provides answers to frequently asked questions]\n",
      "[vignette(\"np\",package=\"np\") an overview]\n",
      "[vignette(\"entropy_np\",package=\"np\") an overview of entropy-based methods]\n",
      "\n",
      "Loading required package: fastDummies\n",
      "\n"
     ]
    },
    {
     "data": {
      "text/html": [
       "<ol>\n",
       "\t<li>TRUE</li>\n",
       "\t<li>TRUE</li>\n",
       "\t<li>TRUE</li>\n",
       "\t<li>TRUE</li>\n",
       "\t<li>TRUE</li>\n",
       "\t<li>TRUE</li>\n",
       "\t<li>TRUE</li>\n",
       "\t<li>TRUE</li>\n",
       "\t<li>TRUE</li>\n",
       "\t<li>TRUE</li>\n",
       "\t<li>TRUE</li>\n",
       "\t<li>TRUE</li>\n",
       "\t<li>TRUE</li>\n",
       "\t<li>TRUE</li>\n",
       "\t<li>TRUE</li>\n",
       "\t<li>TRUE</li>\n",
       "\t<li>TRUE</li>\n",
       "\t<li>TRUE</li>\n",
       "</ol>\n"
      ],
      "text/latex": [
       "\\begin{enumerate}\n",
       "\\item TRUE\n",
       "\\item TRUE\n",
       "\\item TRUE\n",
       "\\item TRUE\n",
       "\\item TRUE\n",
       "\\item TRUE\n",
       "\\item TRUE\n",
       "\\item TRUE\n",
       "\\item TRUE\n",
       "\\item TRUE\n",
       "\\item TRUE\n",
       "\\item TRUE\n",
       "\\item TRUE\n",
       "\\item TRUE\n",
       "\\item TRUE\n",
       "\\item TRUE\n",
       "\\item TRUE\n",
       "\\item TRUE\n",
       "\\end{enumerate}\n"
      ],
      "text/markdown": [
       "1. TRUE\n",
       "2. TRUE\n",
       "3. TRUE\n",
       "4. TRUE\n",
       "5. TRUE\n",
       "6. TRUE\n",
       "7. TRUE\n",
       "8. TRUE\n",
       "9. TRUE\n",
       "10. TRUE\n",
       "11. TRUE\n",
       "12. TRUE\n",
       "13. TRUE\n",
       "14. TRUE\n",
       "15. TRUE\n",
       "16. TRUE\n",
       "17. TRUE\n",
       "18. TRUE\n",
       "\n",
       "\n"
      ],
      "text/plain": [
       "[[1]]\n",
       "[1] TRUE\n",
       "\n",
       "[[2]]\n",
       "[1] TRUE\n",
       "\n",
       "[[3]]\n",
       "[1] TRUE\n",
       "\n",
       "[[4]]\n",
       "[1] TRUE\n",
       "\n",
       "[[5]]\n",
       "[1] TRUE\n",
       "\n",
       "[[6]]\n",
       "[1] TRUE\n",
       "\n",
       "[[7]]\n",
       "[1] TRUE\n",
       "\n",
       "[[8]]\n",
       "[1] TRUE\n",
       "\n",
       "[[9]]\n",
       "[1] TRUE\n",
       "\n",
       "[[10]]\n",
       "[1] TRUE\n",
       "\n",
       "[[11]]\n",
       "[1] TRUE\n",
       "\n",
       "[[12]]\n",
       "[1] TRUE\n",
       "\n",
       "[[13]]\n",
       "[1] TRUE\n",
       "\n",
       "[[14]]\n",
       "[1] TRUE\n",
       "\n",
       "[[15]]\n",
       "[1] TRUE\n",
       "\n",
       "[[16]]\n",
       "[1] TRUE\n",
       "\n",
       "[[17]]\n",
       "[1] TRUE\n",
       "\n",
       "[[18]]\n",
       "[1] TRUE\n"
      ]
     },
     "metadata": {},
     "output_type": "display_data"
    }
   ],
   "source": [
    "# remove old objects from R working space\n",
    "rm(list=ls())\n",
    "\n",
    "#Load Packages\n",
    "packages_vector <- c(\"tidyverse\", \"haven\", \"Hmisc\", \"dplyr\", \n",
    "                     \"tidyr\", \"stringr\", \"sandwich\", \"lmtest\", \n",
    "                     \"jtools\", \"fBasics\", \"knitr\", \"xtable\", \n",
    "                     \"data.table\", \"stargazer\", \"AER\", \n",
    "                     \"causalweight\", \"np\")\n",
    "\n",
    "lapply(packages_vector, require, character.only = TRUE) \n",
    "\n",
    "\n",
    "# Function for table display\n",
    "repr_html.xtable <- function(obj, ...){\n",
    "    paste(capture.output(print(obj, type = 'html')), collapse=\"\", sep=\"\")\n",
    "}\n",
    "\n",
    "# LOAD FUNCTIONS for radiusmatching\n",
    "  source(\"radiusmatch.R\")\n",
    "  source(\"radiusatet.R\")\n",
    "  source(\"inferenceweights.R\")\n",
    "  source(\"inferenceweights2.R\")\n"
   ]
  },
  {
   "cell_type": "markdown",
   "metadata": {},
   "source": [
    "### Load Data"
   ]
  },
  {
   "cell_type": "code",
   "execution_count": 55,
   "metadata": {},
   "outputs": [
    {
     "name": "stderr",
     "output_type": "stream",
     "text": [
      "The following objects are masked from data_reg (pos = 3):\n",
      "\n",
      "    agegr_2, agegr_3, agegr_4, contr_5y, date_end, date_start,\n",
      "    duration, educ_0, educ_2, educ_3, educ_99, employed1y, full_time_0,\n",
      "    id, idobs, insured_earn, lastj_fct_0, lastj_fct_1, lastj_fct_3,\n",
      "    lastj_fct_99, lastj_occpt_1, lastj_occpt_10, lastj_occpt_11,\n",
      "    lastj_occpt_12, lastj_occpt_14, lastj_occpt_15, lastj_occpt_16,\n",
      "    lastj_occpt_17, lastj_occpt_18, lastj_occpt_19, lastj_occpt_2,\n",
      "    lastj_occpt_20, lastj_occpt_21, lastj_occpt_22, lastj_occpt_23,\n",
      "    lastj_occpt_3, lastj_occpt_4, lastj_occpt_5, lastj_occpt_6,\n",
      "    lastj_occpt_7, lastj_occpt_8, lastj_occpt_9, marits_1, num_spells,\n",
      "    quarter, quarter_1, quarter_2, quarter_3, region_1, region_2,\n",
      "    region_3, region_4, region_5, region_7, sex_1, spell, swiss_0,\n",
      "    treat, unempl_r\n",
      "\n",
      "\n",
      "The following objects are masked from data_reg (pos = 4):\n",
      "\n",
      "    agegr_2, agegr_3, agegr_4, contr_5y, date_end, date_start,\n",
      "    duration, educ_0, educ_2, educ_3, educ_99, employed1y, full_time_0,\n",
      "    id, idobs, insured_earn, lastj_fct_0, lastj_fct_1, lastj_fct_3,\n",
      "    lastj_fct_99, lastj_occpt_1, lastj_occpt_10, lastj_occpt_11,\n",
      "    lastj_occpt_12, lastj_occpt_14, lastj_occpt_15, lastj_occpt_16,\n",
      "    lastj_occpt_17, lastj_occpt_18, lastj_occpt_19, lastj_occpt_2,\n",
      "    lastj_occpt_20, lastj_occpt_21, lastj_occpt_22, lastj_occpt_23,\n",
      "    lastj_occpt_3, lastj_occpt_4, lastj_occpt_5, lastj_occpt_6,\n",
      "    lastj_occpt_7, lastj_occpt_8, lastj_occpt_9, marits_1, num_spells,\n",
      "    quarter, quarter_1, quarter_2, quarter_3, region_1, region_2,\n",
      "    region_3, region_4, region_5, region_7, sex_1, spell, swiss_0,\n",
      "    treat, unempl_r\n",
      "\n",
      "\n",
      "The following objects are masked from data_reg (pos = 5):\n",
      "\n",
      "    agegr_2, agegr_3, agegr_4, contr_5y, date_end, date_start,\n",
      "    duration, educ_0, educ_2, educ_3, educ_99, employed1y, full_time_0,\n",
      "    id, idobs, insured_earn, lastj_fct_0, lastj_fct_1, lastj_fct_3,\n",
      "    lastj_fct_99, lastj_occpt_1, lastj_occpt_10, lastj_occpt_11,\n",
      "    lastj_occpt_12, lastj_occpt_14, lastj_occpt_15, lastj_occpt_16,\n",
      "    lastj_occpt_17, lastj_occpt_18, lastj_occpt_19, lastj_occpt_2,\n",
      "    lastj_occpt_20, lastj_occpt_21, lastj_occpt_22, lastj_occpt_23,\n",
      "    lastj_occpt_3, lastj_occpt_4, lastj_occpt_5, lastj_occpt_6,\n",
      "    lastj_occpt_7, lastj_occpt_8, lastj_occpt_9, marits_1, num_spells,\n",
      "    quarter, quarter_1, quarter_2, quarter_3, region_1, region_2,\n",
      "    region_3, region_4, region_5, region_7, sex_1, spell, swiss_0,\n",
      "    treat, unempl_r\n",
      "\n",
      "\n",
      "The following objects are masked from data_reg (pos = 6):\n",
      "\n",
      "    agegr_2, agegr_3, agegr_4, contr_5y, date_end, date_start,\n",
      "    duration, educ_0, educ_2, educ_3, educ_99, employed1y, full_time_0,\n",
      "    id, idobs, insured_earn, lastj_fct_0, lastj_fct_1, lastj_fct_3,\n",
      "    lastj_fct_99, lastj_occpt_1, lastj_occpt_10, lastj_occpt_11,\n",
      "    lastj_occpt_12, lastj_occpt_14, lastj_occpt_15, lastj_occpt_16,\n",
      "    lastj_occpt_17, lastj_occpt_18, lastj_occpt_19, lastj_occpt_2,\n",
      "    lastj_occpt_20, lastj_occpt_21, lastj_occpt_22, lastj_occpt_23,\n",
      "    lastj_occpt_3, lastj_occpt_4, lastj_occpt_5, lastj_occpt_6,\n",
      "    lastj_occpt_7, lastj_occpt_8, lastj_occpt_9, marits_1, num_spells,\n",
      "    quarter, quarter_1, quarter_2, quarter_3, region_1, region_2,\n",
      "    region_3, region_4, region_5, region_7, sex_1, spell, swiss_0,\n",
      "    treat, unempl_r\n",
      "\n",
      "\n",
      "The following objects are masked from data_reg (pos = 7):\n",
      "\n",
      "    agegr_2, agegr_3, agegr_4, contr_5y, date_end, date_start,\n",
      "    duration, educ_0, educ_2, educ_3, educ_99, employed1y, full_time_0,\n",
      "    id, idobs, insured_earn, lastj_fct_0, lastj_fct_1, lastj_fct_3,\n",
      "    lastj_fct_99, lastj_occpt_1, lastj_occpt_10, lastj_occpt_11,\n",
      "    lastj_occpt_12, lastj_occpt_14, lastj_occpt_15, lastj_occpt_16,\n",
      "    lastj_occpt_17, lastj_occpt_18, lastj_occpt_19, lastj_occpt_2,\n",
      "    lastj_occpt_20, lastj_occpt_21, lastj_occpt_22, lastj_occpt_23,\n",
      "    lastj_occpt_3, lastj_occpt_4, lastj_occpt_5, lastj_occpt_6,\n",
      "    lastj_occpt_7, lastj_occpt_8, lastj_occpt_9, marits_1, num_spells,\n",
      "    quarter, quarter_1, quarter_2, quarter_3, region_1, region_2,\n",
      "    region_3, region_4, region_5, region_7, sex_1, spell, swiss_0,\n",
      "    treat, unempl_r\n",
      "\n",
      "\n"
     ]
    },
    {
     "data": {
      "text/html": [
       "<table>\n",
       "<caption>A data.frame: 6 × 59</caption>\n",
       "<thead>\n",
       "\t<tr><th></th><th scope=col>id</th><th scope=col>idobs</th><th scope=col>date_end</th><th scope=col>date_start</th><th scope=col>spell</th><th scope=col>num_spells</th><th scope=col>treat</th><th scope=col>duration</th><th scope=col>employed1y</th><th scope=col>insured_earn</th><th scope=col>...</th><th scope=col>lastj_fct_1</th><th scope=col>lastj_fct_3</th><th scope=col>lastj_fct_99</th><th scope=col>agegr_2</th><th scope=col>agegr_3</th><th scope=col>agegr_4</th><th scope=col>quarter</th><th scope=col>quarter_1</th><th scope=col>quarter_2</th><th scope=col>quarter_3</th></tr>\n",
       "\t<tr><th></th><th scope=col>&lt;dbl&gt;</th><th scope=col>&lt;int&gt;</th><th scope=col>&lt;date&gt;</th><th scope=col>&lt;date&gt;</th><th scope=col>&lt;int&gt;</th><th scope=col>&lt;int&gt;</th><th scope=col>&lt;dbl+lbl&gt;</th><th scope=col>&lt;dbl&gt;</th><th scope=col>&lt;dbl&gt;</th><th scope=col>&lt;dbl&gt;</th><th scope=col>...</th><th scope=col>&lt;int&gt;</th><th scope=col>&lt;int&gt;</th><th scope=col>&lt;int&gt;</th><th scope=col>&lt;int&gt;</th><th scope=col>&lt;int&gt;</th><th scope=col>&lt;int&gt;</th><th scope=col>&lt;dbl&gt;</th><th scope=col>&lt;int&gt;</th><th scope=col>&lt;int&gt;</th><th scope=col>&lt;int&gt;</th></tr>\n",
       "</thead>\n",
       "<tbody>\n",
       "\t<tr><th scope=row>1</th><td>1</td><td>1</td><td>2013-10-22</td><td>2013-03-04</td><td>1</td><td>1</td><td>0</td><td>233</td><td>1</td><td>4368</td><td>...</td><td>0</td><td>0</td><td>1</td><td>1</td><td>0</td><td>0</td><td>1</td><td>1</td><td>0</td><td>0</td></tr>\n",
       "\t<tr><th scope=row>2</th><td>2</td><td>2</td><td>2013-12-31</td><td>2013-04-17</td><td>1</td><td>1</td><td>0</td><td>259</td><td>1</td><td>5579</td><td>...</td><td>0</td><td>0</td><td>0</td><td>0</td><td>1</td><td>0</td><td>2</td><td>0</td><td>1</td><td>0</td></tr>\n",
       "\t<tr><th scope=row>3</th><td>3</td><td>3</td><td>2012-02-14</td><td>2011-12-20</td><td>1</td><td>1</td><td>1</td><td> 57</td><td>1</td><td>2710</td><td>...</td><td>0</td><td>0</td><td>0</td><td>1</td><td>0</td><td>0</td><td>4</td><td>0</td><td>0</td><td>0</td></tr>\n",
       "\t<tr><th scope=row>4</th><td>5</td><td>4</td><td>2013-04-01</td><td>2013-01-01</td><td>1</td><td>2</td><td>1</td><td> 91</td><td>1</td><td>4896</td><td>...</td><td>0</td><td>0</td><td>0</td><td>0</td><td>1</td><td>0</td><td>1</td><td>1</td><td>0</td><td>0</td></tr>\n",
       "\t<tr><th scope=row>5</th><td>5</td><td>5</td><td>2013-09-17</td><td>2013-07-01</td><td>2</td><td>2</td><td>1</td><td> 79</td><td>1</td><td>4896</td><td>...</td><td>0</td><td>0</td><td>0</td><td>0</td><td>1</td><td>0</td><td>3</td><td>0</td><td>0</td><td>1</td></tr>\n",
       "\t<tr><th scope=row>6</th><td>7</td><td>6</td><td>2013-03-17</td><td>2013-01-07</td><td>1</td><td>2</td><td>1</td><td> 70</td><td>1</td><td>5370</td><td>...</td><td>0</td><td>0</td><td>1</td><td>1</td><td>0</td><td>0</td><td>1</td><td>1</td><td>0</td><td>0</td></tr>\n",
       "</tbody>\n",
       "</table>\n"
      ],
      "text/latex": [
       "A data.frame: 6 × 59\n",
       "\\begin{tabular}{r|lllllllllllllllllllll}\n",
       "  & id & idobs & date\\_end & date\\_start & spell & num\\_spells & treat & duration & employed1y & insured\\_earn & ... & lastj\\_fct\\_1 & lastj\\_fct\\_3 & lastj\\_fct\\_99 & agegr\\_2 & agegr\\_3 & agegr\\_4 & quarter & quarter\\_1 & quarter\\_2 & quarter\\_3\\\\\n",
       "  & <dbl> & <int> & <date> & <date> & <int> & <int> & <dbl+lbl> & <dbl> & <dbl> & <dbl> & ... & <int> & <int> & <int> & <int> & <int> & <int> & <dbl> & <int> & <int> & <int>\\\\\n",
       "\\hline\n",
       "\t1 & 1 & 1 & 2013-10-22 & 2013-03-04 & 1 & 1 & 0 & 233 & 1 & 4368 & ... & 0 & 0 & 1 & 1 & 0 & 0 & 1 & 1 & 0 & 0\\\\\n",
       "\t2 & 2 & 2 & 2013-12-31 & 2013-04-17 & 1 & 1 & 0 & 259 & 1 & 5579 & ... & 0 & 0 & 0 & 0 & 1 & 0 & 2 & 0 & 1 & 0\\\\\n",
       "\t3 & 3 & 3 & 2012-02-14 & 2011-12-20 & 1 & 1 & 1 &  57 & 1 & 2710 & ... & 0 & 0 & 0 & 1 & 0 & 0 & 4 & 0 & 0 & 0\\\\\n",
       "\t4 & 5 & 4 & 2013-04-01 & 2013-01-01 & 1 & 2 & 1 &  91 & 1 & 4896 & ... & 0 & 0 & 0 & 0 & 1 & 0 & 1 & 1 & 0 & 0\\\\\n",
       "\t5 & 5 & 5 & 2013-09-17 & 2013-07-01 & 2 & 2 & 1 &  79 & 1 & 4896 & ... & 0 & 0 & 0 & 0 & 1 & 0 & 3 & 0 & 0 & 1\\\\\n",
       "\t6 & 7 & 6 & 2013-03-17 & 2013-01-07 & 1 & 2 & 1 &  70 & 1 & 5370 & ... & 0 & 0 & 1 & 1 & 0 & 0 & 1 & 1 & 0 & 0\\\\\n",
       "\\end{tabular}\n"
      ],
      "text/markdown": [
       "\n",
       "A data.frame: 6 × 59\n",
       "\n",
       "| <!--/--> | id &lt;dbl&gt; | idobs &lt;int&gt; | date_end &lt;date&gt; | date_start &lt;date&gt; | spell &lt;int&gt; | num_spells &lt;int&gt; | treat &lt;dbl+lbl&gt; | duration &lt;dbl&gt; | employed1y &lt;dbl&gt; | insured_earn &lt;dbl&gt; | ... ... | lastj_fct_1 &lt;int&gt; | lastj_fct_3 &lt;int&gt; | lastj_fct_99 &lt;int&gt; | agegr_2 &lt;int&gt; | agegr_3 &lt;int&gt; | agegr_4 &lt;int&gt; | quarter &lt;dbl&gt; | quarter_1 &lt;int&gt; | quarter_2 &lt;int&gt; | quarter_3 &lt;int&gt; |\n",
       "|---|---|---|---|---|---|---|---|---|---|---|---|---|---|---|---|---|---|---|---|---|---|\n",
       "| 1 | 1 | 1 | 2013-10-22 | 2013-03-04 | 1 | 1 | 0 | 233 | 1 | 4368 | ... | 0 | 0 | 1 | 1 | 0 | 0 | 1 | 1 | 0 | 0 |\n",
       "| 2 | 2 | 2 | 2013-12-31 | 2013-04-17 | 1 | 1 | 0 | 259 | 1 | 5579 | ... | 0 | 0 | 0 | 0 | 1 | 0 | 2 | 0 | 1 | 0 |\n",
       "| 3 | 3 | 3 | 2012-02-14 | 2011-12-20 | 1 | 1 | 1 |  57 | 1 | 2710 | ... | 0 | 0 | 0 | 1 | 0 | 0 | 4 | 0 | 0 | 0 |\n",
       "| 4 | 5 | 4 | 2013-04-01 | 2013-01-01 | 1 | 2 | 1 |  91 | 1 | 4896 | ... | 0 | 0 | 0 | 0 | 1 | 0 | 1 | 1 | 0 | 0 |\n",
       "| 5 | 5 | 5 | 2013-09-17 | 2013-07-01 | 2 | 2 | 1 |  79 | 1 | 4896 | ... | 0 | 0 | 0 | 0 | 1 | 0 | 3 | 0 | 0 | 1 |\n",
       "| 6 | 7 | 6 | 2013-03-17 | 2013-01-07 | 1 | 2 | 1 |  70 | 1 | 5370 | ... | 0 | 0 | 1 | 1 | 0 | 0 | 1 | 1 | 0 | 0 |\n",
       "\n"
      ],
      "text/plain": [
       "  id idobs date_end   date_start spell num_spells treat duration employed1y\n",
       "1 1  1     2013-10-22 2013-03-04 1     1          0     233      1         \n",
       "2 2  2     2013-12-31 2013-04-17 1     1          0     259      1         \n",
       "3 3  3     2012-02-14 2011-12-20 1     1          1      57      1         \n",
       "4 5  4     2013-04-01 2013-01-01 1     2          1      91      1         \n",
       "5 5  5     2013-09-17 2013-07-01 2     2          1      79      1         \n",
       "6 7  6     2013-03-17 2013-01-07 1     2          1      70      1         \n",
       "  insured_earn ... lastj_fct_1 lastj_fct_3 lastj_fct_99 agegr_2 agegr_3 agegr_4\n",
       "1 4368         ... 0           0           1            1       0       0      \n",
       "2 5579         ... 0           0           0            0       1       0      \n",
       "3 2710         ... 0           0           0            1       0       0      \n",
       "4 4896         ... 0           0           0            0       1       0      \n",
       "5 4896         ... 0           0           0            0       1       0      \n",
       "6 5370         ... 0           0           1            1       0       0      \n",
       "  quarter quarter_1 quarter_2 quarter_3\n",
       "1 1       1         0         0        \n",
       "2 2       0         1         0        \n",
       "3 4       0         0         0        \n",
       "4 1       1         0         0        \n",
       "5 3       0         0         1        \n",
       "6 1       1         0         0        "
      ]
     },
     "metadata": {},
     "output_type": "display_data"
    }
   ],
   "source": [
    "# Read in Data\n",
    "load(\"data_reg_final.RData\")\n",
    "attach(data_reg)\n",
    "\n",
    "# Define variables (see last session)\n",
    "y1 <- as.matrix(duration)\n",
    "y2 <- as.matrix(employed1y)\n",
    "treat <- as.matrix(treat)\n",
    "x1 <- as.matrix(dplyr::select(data_reg, xcat_names_reg, \n",
    "                              xcont_names, starts_with(\"quarter_\")))\n",
    "x_names<-colnames(x1)\n",
    "\n",
    "# Inspect data\n",
    "head(data_reg)"
   ]
  },
  {
   "cell_type": "markdown",
   "metadata": {},
   "source": [
    "### The propensity score\n",
    "\n",
    "We start by estimating the p-score manually:"
   ]
  },
  {
   "cell_type": "code",
   "execution_count": 56,
   "metadata": {},
   "outputs": [
    {
     "data": {
      "text/plain": [
       "\u001b[4mMODEL INFO:\u001b[24m\n",
       "\u001b[3mObservations:\u001b[23m 19084\n",
       "\u001b[3mDependent Variable:\u001b[23m treat\n",
       "\u001b[3mType:\u001b[23m Generalized linear model\n",
       "  \u001b[3mFamily:\u001b[23m binomial \n",
       "  \u001b[3mLink function:\u001b[23m probit \n",
       "\n",
       "\u001b[4mMODEL FIT:\u001b[24m\n",
       "<U+03C7>²(49) = 1474.53, \u001b[3mp\u001b[23m = 0.00\n",
       "\u001b[3mPseudo-R² (Cragg-Uhler)\u001b[23m = 0.10\n",
       "\u001b[3mPseudo-R² (McFadden)\u001b[23m = 0.06\n",
       "\u001b[3mAIC\u001b[23m = 24949.22, \u001b[3mBIC\u001b[23m = 25342.05 \n",
       "\n",
       "\u001b[3mStandard errors:\u001b[23m Robust, \u001b[3mtype = \u001b[23mHC1\n",
       "-----------------------------------------------------\n",
       "                          Est.   S.E.   z val.      p\n",
       "---------------------- ------- ------ -------- ------\n",
       "(Intercept)               0.27   0.05     4.94   0.00\n",
       "x1sex_1                   0.15   0.02     6.33   0.00\n",
       "x1marits_1               -0.31   0.02   -14.75   0.00\n",
       "x1region_1                0.08   0.05     1.48   0.14\n",
       "x1region_2               -0.04   0.03    -1.10   0.27\n",
       "x1region_3               -0.00   0.04    -0.13   0.89\n",
       "x1region_4                0.02   0.04     0.51   0.61\n",
       "x1region_5               -0.05   0.03    -1.41   0.16\n",
       "x1region_7               -0.14   0.08    -1.78   0.08\n",
       "x1swiss_0                -0.02   0.02    -0.90   0.37\n",
       "x1educ_0                  0.11   0.03     3.87   0.00\n",
       "x1educ_2                  0.26   0.05     5.36   0.00\n",
       "x1educ_3                  0.22   0.03     6.73   0.00\n",
       "x1educ_99                 0.27   0.30     0.90   0.37\n",
       "x1full_time_0             0.27   0.02    11.65   0.00\n",
       "x1lastj_occpt_1           0.10   0.06     1.63   0.10\n",
       "x1lastj_occpt_10         -0.03   0.04    -0.69   0.49\n",
       "x1lastj_occpt_11          0.00   0.06     0.03   0.97\n",
       "x1lastj_occpt_12         -0.05   0.06    -0.86   0.39\n",
       "x1lastj_occpt_14          0.02   0.06     0.36   0.72\n",
       "x1lastj_occpt_15         -0.02   0.05    -0.36   0.72\n",
       "x1lastj_occpt_16         -0.05   0.04    -1.20   0.23\n",
       "x1lastj_occpt_17         -0.04   0.09    -0.46   0.64\n",
       "x1lastj_occpt_18          0.07   0.08     0.88   0.38\n",
       "x1lastj_occpt_19          0.03   0.07     0.45   0.65\n",
       "x1lastj_occpt_2           0.10   0.10     1.00   0.32\n",
       "x1lastj_occpt_20         -0.08   0.08    -1.03   0.30\n",
       "x1lastj_occpt_21          0.04   0.09     0.44   0.66\n",
       "x1lastj_occpt_22          0.02   0.05     0.43   0.67\n",
       "x1lastj_occpt_23         -0.02   0.05    -0.42   0.68\n",
       "x1lastj_occpt_3          -0.09   0.04    -2.23   0.03\n",
       "x1lastj_occpt_4           0.03   0.11     0.23   0.82\n",
       "x1lastj_occpt_5           0.03   0.16     0.22   0.83\n",
       "x1lastj_occpt_6           0.16   0.14     1.11   0.27\n",
       "x1lastj_occpt_7          -0.03   0.15    -0.20   0.84\n",
       "x1lastj_occpt_8           0.01   0.06     0.10   0.92\n",
       "x1lastj_occpt_9          -0.04   0.04    -0.96   0.34\n",
       "x1lastj_fct_0             0.23   0.25     0.92   0.36\n",
       "x1lastj_fct_1            -0.04   0.05    -0.76   0.45\n",
       "x1lastj_fct_3            -0.03   0.06    -0.48   0.63\n",
       "x1lastj_fct_99            0.01   0.03     0.60   0.55\n",
       "x1agegr_2                 0.05   0.03     1.83   0.07\n",
       "x1agegr_3                 0.06   0.03     2.04   0.04\n",
       "x1agegr_4                 0.13   0.03     4.15   0.00\n",
       "x1insured_earn            0.00   0.00     0.75   0.46\n",
       "x1contr_5y               -0.01   0.00   -29.30   0.00\n",
       "x1unempl_r                0.00   0.02     0.24   0.81\n",
       "x1quarter_1              -0.02   0.03    -0.62   0.53\n",
       "x1quarter_2              -0.03   0.03    -1.00   0.32\n",
       "x1quarter_3              -0.03   0.03    -1.15   0.25\n",
       "-----------------------------------------------------"
      ]
     },
     "metadata": {},
     "output_type": "display_data"
    }
   ],
   "source": [
    "# Estimate the pscore-model\n",
    "pscore.model <- glm(treat ~ x1, family = binomial(link = \"probit\"))\n",
    "summ(pscore.model, , robust = \"HC1\")"
   ]
  },
  {
   "cell_type": "code",
   "execution_count": 57,
   "metadata": {},
   "outputs": [
    {
     "data": {
      "image/png": "[encoded data removed]",
      "text/plain": [
       "plot without title"
      ]
     },
     "metadata": {
      "image/png": {
       "height": 420,
       "width": 420
      }
     },
     "output_type": "display_data"
    }
   ],
   "source": [
    "# Predict the pscore and attach it to the data frame\n",
    "data_reg$pscore <- pscore.model$fitted.values \n",
    "# Generate a factor variable for displaying the pscore\n",
    "data_reg$treat_f <- factor(data_reg$treat, \n",
    "                           levels = c(0,1), label = c(\"D=0\", \"D=1\")) \n",
    "\n",
    "# Check for common support in propensity score \n",
    "ggplot(data_reg, aes(x = pscore, fill = treat_f)) + \n",
    "        geom_density(alpha=0.4) + scale_fill_grey() + \n",
    "        theme_bw(base_size = 20) + xlim(0, 1)"
   ]
  },
  {
   "cell_type": "markdown",
   "metadata": {},
   "source": [
    "### Trimming\n",
    "\n",
    "We delete treated observations with a p-score larger as the maximum p-score in the control population"
   ]
  },
  {
   "cell_type": "code",
   "execution_count": 58,
   "metadata": {},
   "outputs": [
    {
     "name": "stdout",
     "output_type": "stream",
     "text": [
      "[1] \"Sample size before imposing CS\"\n"
     ]
    },
    {
     "data": {
      "text/html": [
       "19084"
      ],
      "text/latex": [
       "19084"
      ],
      "text/markdown": [
       "19084"
      ],
      "text/plain": [
       "[1] 19084"
      ]
     },
     "metadata": {},
     "output_type": "display_data"
    },
    {
     "name": "stdout",
     "output_type": "stream",
     "text": [
      "[1] \"Sample size after imposing CS\"\n"
     ]
    },
    {
     "data": {
      "text/html": [
       "19076"
      ],
      "text/latex": [
       "19076"
      ],
      "text/markdown": [
       "19076"
      ],
      "text/plain": [
       "[1] 19076"
      ]
     },
     "metadata": {},
     "output_type": "display_data"
    }
   ],
   "source": [
    "print(\"Sample size before imposing CS\")\n",
    "nrow(data_reg)\n",
    "\n",
    "# generate an indicator for observations in the CS sample\n",
    "pscore_max0 <-max(data_reg$pscore[treat==0])\n",
    "insample<- ifelse(data_reg$pscore <= pscore_max0, 1, 0)\n",
    "# restrict data to sample with CS\n",
    "data_reg <- dplyr::filter(data_reg, insample ==1)\n",
    "\n",
    "print(\"Sample size after imposing CS\")\n",
    "nrow(data_reg)\n",
    "\n",
    "# redefine variables that are in the sample of support\n",
    "y1 <- y1[insample==1]\n",
    "y2 <- y2[insample==1]\n",
    "treat <- treat[insample==1]\n",
    "x1 <- x1[insample==1,]"
   ]
  },
  {
   "cell_type": "markdown",
   "metadata": {},
   "source": [
    "### We want to estimate the average treatment effect on the treated:\n",
    "\n",
    "$$ \\text{ATET} = \\sum_{i=1}^N\\frac{D_iY_i}{\\sum_{i=1}^N D_i} - \\sum_{i=1}^N\\frac{(1-D_i)w(X_i)Y_i}{\\sum_{i=1}^N(1-D_i)w(X_i)}$$"
   ]
  },
  {
   "cell_type": "markdown",
   "metadata": {},
   "source": [
    "### (i) Inverse Probability Weighting"
   ]
  },
  {
   "cell_type": "markdown",
   "metadata": {},
   "source": [
    "here the weights correspond to $w(X_i)=\\frac{p(X_i)}{1-p(X_i)}$\n",
    "\n",
    "First, we compute the IPW estimator manually (no inference here):"
   ]
  },
  {
   "cell_type": "code",
   "execution_count": 59,
   "metadata": {},
   "outputs": [
    {
     "name": "stdout",
     "output_type": "stream",
     "text": [
      "[1] \"Effect on unemployment duration based on IPW (ATET)\"\n"
     ]
    },
    {
     "data": {
      "text/html": [
       "-97.6351779267115"
      ],
      "text/latex": [
       "-97.6351779267115"
      ],
      "text/markdown": [
       "-97.6351779267115"
      ],
      "text/plain": [
       "[1] -97.63518"
      ]
     },
     "metadata": {},
     "output_type": "display_data"
    }
   ],
   "source": [
    "# generate weights based on estimated pscores\n",
    "data_reg$weight[treat==1] <- 1\n",
    "data_reg$weight[treat==0] <- data_reg$pscore[treat==0]/\n",
    "                            (1-data_reg$pscore)[treat==0]\n",
    "weight <- data_reg$weight\n",
    "\n",
    "Y1<-sum(y1*treat)/sum(treat)\n",
    "Y0<-sum(y1*(1-treat)*weight)/sum((1-treat)*weight)\n",
    "ipw_atet_manual <- Y1-Y0\n",
    "\n",
    "print(\"Effect on unemployment duration based on IPW (ATET)\")\n",
    "ipw_atet_manual\n",
    "\n",
    "# You could impose some additional trimming large values of the pscore \n",
    "# by conditioning on some indicator:\n",
    "# ind=as.numeric((data_reg$pscore<0.05) | (data_reg$pscore>(0.95))) \n",
    "# Y1<-sum(y1[ind==0]*treat[ind==0])/sum(treat[ind==0])\n",
    "# Y0<-sum(y1[ind==0]*(1-treat[ind==0])*weight[ind==0])\n",
    "# /sum((1-treat[ind==0])*weight[ind==0])"
   ]
  },
  {
   "cell_type": "markdown",
   "metadata": {},
   "source": [
    "Next, we apply the `causalweight` package. Inference and trimming can be applied directly.\n",
    "For more details, see https://cran.r-project.org/web/packages/causalweight/index.html"
   ]
  },
  {
   "cell_type": "code",
   "execution_count": 60,
   "metadata": {},
   "outputs": [
    {
     "data": {
      "text/html": [
       "<dl>\n",
       "\t<dt>$effect</dt>\n",
       "\t\t<dd>-97.6506011098146</dd>\n",
       "\t<dt>$se</dt>\n",
       "\t\t<dd>2.00222621647391</dd>\n",
       "\t<dt>$pval</dt>\n",
       "\t\t<dd>0</dd>\n",
       "\t<dt>$y1</dt>\n",
       "\t\t<dd>103.103775743707</dd>\n",
       "\t<dt>$y0</dt>\n",
       "\t\t<dd>200.754376853522</dd>\n",
       "\t<dt>$ntrimmed</dt>\n",
       "\t\t<dd>0</dd>\n",
       "</dl>\n"
      ],
      "text/latex": [
       "\\begin{description}\n",
       "\\item[\\$effect] -97.6506011098146\n",
       "\\item[\\$se] 2.00222621647391\n",
       "\\item[\\$pval] 0\n",
       "\\item[\\$y1] 103.103775743707\n",
       "\\item[\\$y0] 200.754376853522\n",
       "\\item[\\$ntrimmed] 0\n",
       "\\end{description}\n"
      ],
      "text/markdown": [
       "$effect\n",
       ":   -97.6506011098146\n",
       "$se\n",
       ":   2.00222621647391\n",
       "$pval\n",
       ":   0\n",
       "$y1\n",
       ":   103.103775743707\n",
       "$y0\n",
       ":   200.754376853522\n",
       "$ntrimmed\n",
       ":   0\n",
       "\n",
       "\n"
      ],
      "text/plain": [
       "$effect\n",
       "[1] -97.6506\n",
       "\n",
       "$se\n",
       "[1] 2.002226\n",
       "\n",
       "$pval\n",
       "[1] 0\n",
       "\n",
       "$y1\n",
       "[1] 103.1038\n",
       "\n",
       "$y0\n",
       "[1] 200.7544\n",
       "\n",
       "$ntrimmed\n",
       "[1] 0\n"
      ]
     },
     "metadata": {},
     "output_type": "display_data"
    }
   ],
   "source": [
    "# Estimating the ATET based on the causalweight package\n",
    "ipw_atet <- treatweight(y=y1, d=treat, x=x1, ATET =TRUE, \n",
    "                        trim=0.05, boot = 99)\n",
    "ipw_atet"
   ]
  },
  {
   "cell_type": "markdown",
   "metadata": {},
   "source": [
    "Does the program have a desirable impact?"
   ]
  },
  {
   "cell_type": "markdown",
   "metadata": {},
   "source": [
    "###  Check the balancedness of covariates\n",
    "\n",
    "We compare the differences between the treatment and control group based a selected vector of covariates after reweighting:"
   ]
  },
  {
   "cell_type": "code",
   "execution_count": 61,
   "metadata": {},
   "outputs": [
    {
     "name": "stdout",
     "output_type": "stream",
     "text": [
      "[1] \"Differences in X between control and treatment group after reweighting\"\n"
     ]
    },
    {
     "data": {
      "text/html": [
       "<!-- html table generated in R 4.0.2 by xtable 1.8-4 package --><!-- Tue Aug 11 14:51:59 2020 --><table border=1><tr> <th>  </th> <th> coeff </th> <th> robust.se </th> <th> pval </th>  </tr>  <tr> <td align=\"right\"> sex_1 </td> <td align=\"right\"> 0.012 </td> <td align=\"right\"> 0.008 </td> <td align=\"right\"> 0.116 </td> </tr>  <tr> <td align=\"right\"> marits_1 </td> <td align=\"right\"> -0.011 </td> <td align=\"right\"> 0.008 </td> <td align=\"right\"> 0.156 </td> </tr>  <tr> <td align=\"right\"> educ_0 </td> <td align=\"right\"> -0.004 </td> <td align=\"right\"> 0.007 </td> <td align=\"right\"> 0.516 </td> </tr>  <tr> <td align=\"right\"> educ_2 </td> <td align=\"right\"> 0.002 </td> <td align=\"right\"> 0.003 </td> <td align=\"right\"> 0.538 </td> </tr>  <tr> <td align=\"right\"> educ_3 </td> <td align=\"right\"> 0.001 </td> <td align=\"right\"> 0.006 </td> <td align=\"right\"> 0.899 </td> </tr>  <tr> <td align=\"right\"> agegr_2 </td> <td align=\"right\"> -0.002 </td> <td align=\"right\"> 0.007 </td> <td align=\"right\"> 0.750 </td> </tr>  <tr> <td align=\"right\"> agegr_3 </td> <td align=\"right\"> -0.004 </td> <td align=\"right\"> 0.007 </td> <td align=\"right\"> 0.541 </td> </tr>  <tr> <td align=\"right\"> agegr_4 </td> <td align=\"right\"> -0.009 </td> <td align=\"right\"> 0.006 </td> <td align=\"right\"> 0.107 </td> </tr>  <tr> <td align=\"right\"> swiss_0 </td> <td align=\"right\"> -0.001 </td> <td align=\"right\"> 0.008 </td> <td align=\"right\"> 0.936 </td> </tr>   </table>"
      ],
      "text/latex": [
       "A xtable: 9 × 3\n",
       "\\begin{tabular}{r|lll}\n",
       "  & coeff & robust.se & pval\\\\\n",
       "  & <dbl> & <dbl> & <dbl>\\\\\n",
       "\\hline\n",
       "\tsex\\_1 &  0.0122938928 & 0.007812908 & 0.1155947\\\\\n",
       "\tmarits\\_1 & -0.0109031782 & 0.007691661 & 0.1563273\\\\\n",
       "\teduc\\_0 & -0.0042591242 & 0.006560757 & 0.5162208\\\\\n",
       "\teduc\\_2 &  0.0019640478 & 0.003192816 & 0.5384584\\\\\n",
       "\teduc\\_3 &  0.0007335693 & 0.005785511 & 0.8991033\\\\\n",
       "\tagegr\\_2 & -0.0022774449 & 0.007145069 & 0.7499210\\\\\n",
       "\tagegr\\_3 & -0.0040755602 & 0.006663982 & 0.5408155\\\\\n",
       "\tagegr\\_4 & -0.0091372967 & 0.005670390 & 0.1070914\\\\\n",
       "\tswiss\\_0 & -0.0006250428 & 0.007795406 & 0.9360934\\\\\n",
       "\\end{tabular}\n"
      ],
      "text/markdown": [
       "\n",
       "A xtable: 9 × 3\n",
       "\n",
       "| <!--/--> | coeff &lt;dbl&gt; | robust.se &lt;dbl&gt; | pval &lt;dbl&gt; |\n",
       "|---|---|---|---|\n",
       "| sex_1 |  0.0122938928 | 0.007812908 | 0.1155947 |\n",
       "| marits_1 | -0.0109031782 | 0.007691661 | 0.1563273 |\n",
       "| educ_0 | -0.0042591242 | 0.006560757 | 0.5162208 |\n",
       "| educ_2 |  0.0019640478 | 0.003192816 | 0.5384584 |\n",
       "| educ_3 |  0.0007335693 | 0.005785511 | 0.8991033 |\n",
       "| agegr_2 | -0.0022774449 | 0.007145069 | 0.7499210 |\n",
       "| agegr_3 | -0.0040755602 | 0.006663982 | 0.5408155 |\n",
       "| agegr_4 | -0.0091372967 | 0.005670390 | 0.1070914 |\n",
       "| swiss_0 | -0.0006250428 | 0.007795406 | 0.9360934 |\n",
       "\n"
      ],
      "text/plain": [
       "         coeff         robust.se   pval     \n",
       "sex_1     0.0122938928 0.007812908 0.1155947\n",
       "marits_1 -0.0109031782 0.007691661 0.1563273\n",
       "educ_0   -0.0042591242 0.006560757 0.5162208\n",
       "educ_2    0.0019640478 0.003192816 0.5384584\n",
       "educ_3    0.0007335693 0.005785511 0.8991033\n",
       "agegr_2  -0.0022774449 0.007145069 0.7499210\n",
       "agegr_3  -0.0040755602 0.006663982 0.5408155\n",
       "agegr_4  -0.0091372967 0.005670390 0.1070914\n",
       "swiss_0  -0.0006250428 0.007795406 0.9360934"
      ]
     },
     "metadata": {},
     "output_type": "display_data"
    }
   ],
   "source": [
    "# Define a vector of covariates\n",
    "x_sel <- as.matrix(dplyr::select(data_reg, sex_1, marits_1, \n",
    "                                 educ_0, educ_2, educ_3, \n",
    "                                 agegr_2, agegr_3, agegr_4, \n",
    "                                 swiss_0))\n",
    "x_sel_names <- colnames(x_sel)\n",
    "\n",
    "# Define a function estimating the differences \n",
    "balanced.model <- function(x){\n",
    "    \n",
    "    weighted_diff <- lm(x[insample==1] ~ treat,  weight=data_reg$weight)\n",
    "    cov <- vcovHC(weighted_diff, type = \"HC\")\n",
    "    robust.se <- sqrt(diag(cov))\n",
    "    \n",
    "    list( coeff = weighted_diff$coefficients[2], \n",
    "        robust.se = robust.se[2], \n",
    "        pval = 2*pnorm(-abs(weighted_diff$coefficients[2]/robust.se[2])) )\n",
    "                    }\n",
    "\n",
    "diff_output <- apply(x_sel, 2, balanced.model)\n",
    "\n",
    "# convert list to table\n",
    "diff_output<-rbindlist(diff_output)\n",
    "rownames(diff_output)<- x_sel_names\n",
    "\n",
    "# plot table\n",
    "print(\"Differences in X between control and treatment group after reweighting\")\n",
    "xtable(diff_output, digits=3)\n"
   ]
  },
  {
   "cell_type": "markdown",
   "metadata": {},
   "source": [
    "### (ii) Radiusmatching\n",
    "\n",
    "here the weights are defined  as $w(X_i)=\\sum_{j:D_j=1}\\frac{\\underline{1}(|p(X_j)-p(X_i)|<r)}{|p(X_j)-p(X_i)|}\\Big/\\sum_{k:D_k=0}\\frac{\\underline{1}(|p(X_j)-p(X_k)|<r)}{|p(X_j)-p(X_k)|}$\n",
    "\n",
    "it uses all controls withing a chosen radius $r$.\n",
    "\n",
    "The `radiusmatching` package by Huber et al (2015) additionally applies some bias correction and is doubly robust (see lecture slides). To download the package, go to https://www.alexandria.unisg.ch/218871/\n",
    "\n",
    "*Note:  The radius is defined by the multiplier of the maximum distance in pair matching. E.g., setting radius=3 implies a radius of 3 times the maximum distance (or a particular quantile).*"
   ]
  },
  {
   "cell_type": "code",
   "execution_count": 62,
   "metadata": {},
   "outputs": [
    {
     "name": "stderr",
     "output_type": "stream",
     "text": [
      "Warning message in if (class(check) == \"try-error\") errB = 1 else errB = 0:\n",
      "\"Bedingung hat Länge > 1 und nur das erste Element wird benutzt\"\n",
      "Warning message in if (class(check) == \"try-error\") errB = 1 else errB = 0:\n",
      "\"Bedingung hat Länge > 1 und nur das erste Element wird benutzt\"\n",
      "Warning message in if (class(check) == \"try-error\") errB = 1 else errB = 0:\n",
      "\"Bedingung hat Länge > 1 und nur das erste Element wird benutzt\"\n",
      "Warning message in if (class(check) == \"try-error\") errB = 1 else errB = 0:\n",
      "\"Bedingung hat Länge > 1 und nur das erste Element wird benutzt\"\n",
      "Warning message in if (class(check) == \"try-error\") errB = 1 else errB = 0:\n",
      "\"Bedingung hat Länge > 1 und nur das erste Element wird benutzt\"\n",
      "Warning message in if (class(check) == \"try-error\") errB = 1 else errB = 0:\n",
      "\"Bedingung hat Länge > 1 und nur das erste Element wird benutzt\"\n",
      "Warning message in if (class(check) == \"try-error\") errB = 1 else errB = 0:\n",
      "\"Bedingung hat Länge > 1 und nur das erste Element wird benutzt\"\n",
      "Warning message in if (class(check) == \"try-error\") errB = 1 else errB = 0:\n",
      "\"Bedingung hat Länge > 1 und nur das erste Element wird benutzt\"\n",
      "Warning message in if (class(check) == \"try-error\") errB = 1 else errB = 0:\n",
      "\"Bedingung hat Länge > 1 und nur das erste Element wird benutzt\"\n",
      "Warning message in if (class(check) == \"try-error\") errB = 1 else errB = 0:\n",
      "\"Bedingung hat Länge > 1 und nur das erste Element wird benutzt\"\n",
      "Warning message in if (class(check) == \"try-error\") errB = 1 else errB = 0:\n",
      "\"Bedingung hat Länge > 1 und nur das erste Element wird benutzt\"\n",
      "Warning message in if (class(check) == \"try-error\") errB = 1 else errB = 0:\n",
      "\"Bedingung hat Länge > 1 und nur das erste Element wird benutzt\"\n",
      "Warning message in if (class(check) == \"try-error\") errB = 1 else errB = 0:\n",
      "\"Bedingung hat Länge > 1 und nur das erste Element wird benutzt\"\n",
      "Warning message in if (class(check) == \"try-error\") errB = 1 else errB = 0:\n",
      "\"Bedingung hat Länge > 1 und nur das erste Element wird benutzt\"\n",
      "Warning message in if (class(check) == \"try-error\") errB = 1 else errB = 0:\n",
      "\"Bedingung hat Länge > 1 und nur das erste Element wird benutzt\"\n",
      "Warning message in if (class(check) == \"try-error\") errB = 1 else errB = 0:\n",
      "\"Bedingung hat Länge > 1 und nur das erste Element wird benutzt\"\n",
      "Warning message in if (class(check) == \"try-error\") errB = 1 else errB = 0:\n",
      "\"Bedingung hat Länge > 1 und nur das erste Element wird benutzt\"\n",
      "Warning message in if (class(check) == \"try-error\") errB = 1 else errB = 0:\n",
      "\"Bedingung hat Länge > 1 und nur das erste Element wird benutzt\"\n",
      "Warning message in if (class(check) == \"try-error\") errB = 1 else errB = 0:\n",
      "\"Bedingung hat Länge > 1 und nur das erste Element wird benutzt\"\n",
      "Warning message in if (class(check) == \"try-error\") errB = 1 else errB = 0:\n",
      "\"Bedingung hat Länge > 1 und nur das erste Element wird benutzt\"\n"
     ]
    },
    {
     "name": "stdout",
     "output_type": "stream",
     "text": [
      "[1] \"Effect on unemployment duration based on radiusmatching (ATET)\"\n"
     ]
    },
    {
     "data": {
      "text/html": [
       "-94.9733083586153"
      ],
      "text/latex": [
       "-94.9733083586153"
      ],
      "text/markdown": [
       "-94.9733083586153"
      ],
      "text/plain": [
       "[1] -94.97331"
      ]
     },
     "metadata": {},
     "output_type": "display_data"
    },
    {
     "name": "stdout",
     "output_type": "stream",
     "text": [
      "[1] \"bootstrapped S.E.\"\n"
     ]
    },
    {
     "data": {
      "text/html": [
       "3.57203828467182"
      ],
      "text/latex": [
       "3.57203828467182"
      ],
      "text/markdown": [
       "3.57203828467182"
      ],
      "text/plain": [
       "[1] 3.572038"
      ]
     },
     "metadata": {},
     "output_type": "display_data"
    }
   ],
   "source": [
    "# Applying the radiusmatching package\n",
    "\n",
    "rmatch_atet <- radiusmatch(y=data_reg$duration, \n",
    "                           d=data_reg$treat, \n",
    "                           x=x1, \n",
    "                           biascorr=1, \n",
    "                           commonsup = 1, \n",
    "                           radius = 3, \n",
    "                           estimand =\"ATET\", \n",
    "                           boot=19 )\n",
    "\n",
    "print(\"Effect on unemployment duration based on radiusmatching (ATET)\")\n",
    "rmatch_atet$effect\n",
    "print(\"bootstrapped S.E.\")\n",
    "rmatch_atet$se.boot"
   ]
  },
  {
   "cell_type": "markdown",
   "metadata": {},
   "source": [
    "### Let's look at some monthly effects\n",
    "*... going back to the parametric world, we estimate the effects on the individual employment probability up to 2 years after program start.*\n",
    "\n",
    "**(1) Define monthly employment outcomes**\n"
   ]
  },
  {
   "cell_type": "code",
   "execution_count": 63,
   "metadata": {},
   "outputs": [],
   "source": [
    "# Set maximum horizon after start of unemployment\n",
    "maxdur <- 24\n",
    "\n",
    "# Monthly employment status\n",
    "empl <- matrix(0, nrow=nrow(data_reg), ncol=(maxdur))\n",
    "empl_list <- paste(\"empl\", 1:maxdur, sep=\"_\")\n",
    "colnames(empl) <- empl_list\n",
    "\n",
    "for (i in 1:maxdur) {\n",
    "  empl[,i] = \n",
    "  ifelse(data_reg$date_end < data_reg$date_start + 30*i, 1, 0)\n",
    "}\n",
    "\n",
    "empl <- as.data.frame(empl, data_reg$treat)\n",
    "data_reg <- cbind(data_reg, empl)\n",
    "\n",
    "empl_monthly_treat <- apply(t(empl[treat==1,]),1,mean)\n",
    "empl_monthly_contr <- apply(t(empl[treat==0,]),1,mean)\n",
    "month <- rep(1:maxdur)\n",
    "empl_monthly <- cbind(empl_monthly_treat, empl_monthly_contr, month)\n",
    "colnames(empl_monthly) <- c(\"rate_treat\", \"rate_contr\", \"month\")\n",
    "empl_monthly <- as.data.frame(empl_monthly)\n"
   ]
  },
  {
   "cell_type": "markdown",
   "metadata": {},
   "source": [
    "**(2) Plot monthly employment**"
   ]
  },
  {
   "cell_type": "code",
   "execution_count": 64,
   "metadata": {},
   "outputs": [
    {
     "data": {
      "image/png": "[encoded data removed]",
      "text/plain": [
       "plot without title"
      ]
     },
     "metadata": {
      "image/png": {
       "height": 420,
       "width": 420
      }
     },
     "output_type": "display_data"
    }
   ],
   "source": [
    "ggplot() +\n",
    "  geom_line(data = empl_monthly,  aes(x = month, y = rate_treat), \n",
    "            color = \"blue\") +\n",
    "  geom_line(data = empl_monthly, \n",
    "            aes(x = month, y = rate_contr), \n",
    "            color = \"red\") +\n",
    "  theme_bw(base_size = 20) +\n",
    "  theme(axis.title = element_text(face = \"bold\"),\n",
    "        axis.title.x = element_blank()) +\n",
    "  ylab(\"Employment rate\") +\n",
    "  xlab(\"Months\") +\n",
    "  geom_hline(yintercept = 0, linetype=\"dotted\") \n",
    "# legend"
   ]
  },
  {
   "cell_type": "markdown",
   "metadata": {},
   "source": [
    "**(3) Estimate monthly effects**"
   ]
  },
  {
   "cell_type": "code",
   "execution_count": 65,
   "metadata": {},
   "outputs": [
    {
     "name": "stderr",
     "output_type": "stream",
     "text": [
      "Warning message:\n",
      "\"Removed 1 rows containing missing values (geom_point).\"\n"
     ]
    },
    {
     "data": {
      "image/png": "[encoded data removed]",
      "text/plain": [
       "plot without title"
      ]
     },
     "metadata": {
      "image/png": {
       "height": 420,
       "width": 420
      }
     },
     "output_type": "display_data"
    }
   ],
   "source": [
    "# Define a function\n",
    "reg_monthly <- function(y) {\n",
    "    out <- lm(y ~ treat + x1)\n",
    "    out2 <- coeftest(out, vcov = vcovHC(out))\n",
    "    list(effect=out2[2,1], se=out2[2,2])\n",
    "  }\n",
    "\n",
    "# Graphs with CI and dots for significance\n",
    "    reg_monthly_out <- apply(empl, 2, reg_monthly)\n",
    "      reg_monthly_out2 <- rbindlist(reg_monthly_out)\n",
    "      reg_monthly_out2$month <- rep(1:maxdur)\n",
    "      reg_monthly_out2$cil <- reg_monthly_out2$effect - 1.96*reg_monthly_out2$se\n",
    "      reg_monthly_out2$cih <- reg_monthly_out2$effect + 1.96*reg_monthly_out2$se\n",
    "      reg_monthly_out2$sig <- ifelse(abs(reg_monthly_out2$effect)\n",
    "                                /reg_monthly_out2$se>1.64, \n",
    "                                reg_monthly_out2$effect, NA)\n",
    "\n",
    "# Plot\n",
    "ggplot(reg_monthly_out2,                \n",
    "         aes(x = month, y = effect)) +\n",
    "    geom_line() +\n",
    "    geom_point(aes(x = month, y = sig), shape = 18,\n",
    "               size  = 3) +\n",
    "    geom_errorbar(aes(ymin  = cil,\n",
    "                      ymax  = cih),\n",
    "                  width = 0.2,\n",
    "                  size  = 0.7) +\n",
    "  theme_bw(base_size = 20) +\n",
    "    theme(axis.title = element_text(face = \"bold\"),\n",
    "          axis.title.x = element_blank()) +\n",
    "    ylab(\"Effect on employment rate (OLS)\") +\n",
    "    geom_hline(yintercept = 0, linetype=\"dotted\") "
   ]
  },
  {
   "cell_type": "markdown",
   "metadata": {},
   "source": [
    "What does this pattern suggest?"
   ]
  },
  {
   "cell_type": "code",
   "execution_count": null,
   "metadata": {},
   "outputs": [],
   "source": []
  }
 ],
 "metadata": {
  "kernelspec": {
   "display_name": "R",
   "language": "R",
   "name": "ir"
  },
  "language_info": {
   "codemirror_mode": "r",
   "file_extension": ".r",
   "mimetype": "text/x-r-source",
   "name": "R",
   "pygments_lexer": "r",
   "version": "3.6.1"
  }
 },
 "nbformat": 4,
 "nbformat_minor": 2
}
