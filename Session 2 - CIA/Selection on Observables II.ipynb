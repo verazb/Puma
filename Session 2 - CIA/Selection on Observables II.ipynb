{
 "cells": [
  {
   "cell_type": "markdown",
   "metadata": {},
   "source": [
    "**Applied Empirical Analysis (HS 2020)**\n",
    "\n",
    "**Conny Wunsch, Ulrike Unterhofer and Véra Zabrodina** -- University of Basel\n",
    "\n",
    "***\n",
    "\n",
    "# Lab Session 2 - Selection on Observables\n"
   ]
  },
  {
   "cell_type": "markdown",
   "metadata": {},
   "source": [
    "***\n",
    "\n",
    "## Application: What Did All the Money Do? On the General Ineffectiveness of Recent West German Labour Market Programmes\n",
    "**Conny Wunsch and Michael Lechner, Kyklos 2008**\n",
    "\n",
    "\n",
    "## 1. Setup and Data\n",
    "\n",
    "* Evaluate the effect of an **online application coaching program for unemployed workers** on their employment outcomes\n",
    "* This full-time course can only be started within the first month of unemployment, and lasts for **1 month**.\n",
    "* Any worker can voluntarily participate, in agreement with their randomly-assigned caseworker. \n",
    "* Participation is however mandatory for all workers older than 60.\n",
    "* Caseworkers are instructed to encourage older workers, as well as women with lower education to participate. \n",
    "* The program's capacity is limited each month.\n",
    "\n",
    "* We have representative data on unemployment spells that started in 20XX, with a rich set of observable individual characteristics.\n",
    "\n",
    "\n",
    "\n",
    "List of variables: \n",
    "\n",
    "\n",
    "|Variable name| Description|\n",
    "|:----|:----|\n",
    "|*id*|Individual identifier|\n",
    "|*idobs*|Spell ID|\n",
    "|*date_start*|Start of unemployment spell|\n",
    "|*date_end*|Spell end|\n",
    "|*spell*|Unemployment spell|\n",
    "|*num_spells*|Number of unemployment spells|\n",
    "|*treat*|Treated|\n",
    "|*duration*|Spell duration|\n",
    "|*employed1y*|Employed within 1 year|\n",
    "|*sex*|Gender (Female=1)|\n",
    "|*marits*|Marital status (Married=1)|\n",
    "|*region*|Region|\n",
    "|*educ*|Education|\n",
    "|*insured_earn*|Insured earnings|\n",
    "|*lastj_occpt*|Occupation last job|\n",
    "|*lastj_fct*|Function last job|\n",
    "|*contr_5y*|Months contribution in last 5 years|\n",
    "|*unempl_r*|Unemployment rate|\n",
    "|*full_time*|Full time employed last job|\n",
    "|*swiss*|Swiss citizen|\n",
    "|*age*|Age|\n",
    "|*agegr*|Age group|\n",
    "|*quarter*|Quarter|\n",
    "\n"
   ]
  },
  {
   "cell_type": "markdown",
   "metadata": {},
   "source": [
    "## 2. Identification strategy and assumptions\n",
    "\n",
    "Last time, we used parametric estimation methods (i.e. simple OLS) for a selection on observables identification strategy. \n",
    "\n",
    "### Today, we move to semiparametric estimation.  \n",
    "\n",
    "\n",
    "### Notation\n",
    "\n",
    "* $D_i \\in \\{0,1\\}$ ... treatment (program participation)\n",
    "* $Y^*_{0i}$ ... potential outcome under no participation (unemployment duration)\n",
    "* $Y^*_{1i}$ ... potential outcome under participation\n",
    "* $Y_{0i}$, $Y_{1i}$  ... observed outcomes\n",
    "\n",
    "### Effects of interest\n",
    "\n",
    "Average Treatement Effect: $ATE = {\\rm E} [Y^*_{1i} - Y^*_{0i}]$\n",
    "\n",
    "\n",
    "Average Treatment Effect on the Treated: $ATET = {\\rm E} [Y^*_{1i} - Y^*_{0i}|D_i =1]$\n",
    "\n",
    "Average Treatment Effect on the Non-Treated: $ATENT ={\\rm E} [Y^*_{1i} - Y^*_{0i}|D_i =0]$\n",
    " \n",
    " \n",
    "### Discussion of identifying assumptions\n",
    "\n",
    "* What do these assumptions mean in words?\n",
    "\n",
    "* What could invalidate them? Think of concrete examples or mechanisms.\n",
    "\n",
    "* Which arguments or evidence can you provide to support that they hold?\n",
    "\n",
    "\n",
    "**A1 -- Stable unit treatment value assumption (SUTVA)**\n",
    "\n",
    "$Y_i=D_iY^*_{1,i}+(1-D_i)Y^*_{0,i}$\n",
    "\n",
    "**A2 -- Conditional independence assumption (CIA)**\n",
    "\n",
    "$ Y^*_{1} ,Y^*_{0}\\perp D|X $\n",
    "\n",
    "Treatment is random, i.e. independent of outcomes, conditional on $X$.\n",
    "\n",
    "**A3 -- Common support (CS)**\n",
    "\n",
    "$0<Pr(D=1|X=x)<1$\n",
    "\n",
    "There are always both treated ($D=1$) and nontreated ($D=0$) with the same $X$.\n",
    "\n",
    "\n",
    "### Compared to parametric estimation\n",
    "\n",
    "* Which assumptions does semiparametric estimation relax?\n",
    "* Which additional/different assumptions does it impose?\n",
    "* Which effects do we identify?\n",
    "* Which issue do semiparametric methods solve compared to non-parametric methods?\n"
   ]
  },
  {
   "cell_type": "markdown",
   "metadata": {},
   "source": [
    "## 3. Empirical analysis"
   ]
  },
  {
   "cell_type": "markdown",
   "metadata": {},
   "source": [
    "### Load Packages and set directory"
   ]
  },
  {
   "cell_type": "code",
   "execution_count": null,
   "metadata": {},
   "outputs": [],
   "source": [
    "# remove old objects from R working space\n",
    "rm(list=ls())\n",
    "\n",
    "# Define packages that you need\n",
    "packages_vector <- c(\"tidyverse\", \"haven\", \"Hmisc\", \"dplyr\", \n",
    "                     \"tidyr\", \"stringr\", \"sandwich\", \"lmtest\", \n",
    "                     \"jtools\", \"fBasics\", \"knitr\", \"xtable\", \n",
    "                     \"data.table\", \"stargazer\", \"AER\", \n",
    "                     \"causalweight\", \"np\")\n",
    "\n",
    "lapply(packages_vector, require, character.only = TRUE) \n",
    "(.packages())\n",
    "\n",
    "# !!! Uncomment the line below to install packages (first time only) if you run this on your computer !!!\n",
    "#install.packages(packages_vector) \n",
    "\n",
    "# Working Directory\n",
    "# work_dir <- \"...\"\n",
    "# setwd(work_dir)\n",
    "\n",
    "\n",
    "# LOAD FUNCTIONS for radiusmatching (should be stored in the working directory)\n",
    "source(\"radiusmatch.R\")\n",
    "source(\"radiusatet.R\")\n",
    "source(\"inferenceweights.R\")\n",
    "source(\"inferenceweights2.R\")\n",
    "\n",
    "# Function for table display\n",
    "repr_html.xtable <- function(obj, ...){\n",
    "    paste(capture.output(print(obj, type = 'html')), collapse=\"\", sep=\"\")\n",
    "}\n"
   ]
  },
  {
   "cell_type": "markdown",
   "metadata": {},
   "source": [
    "### Load data"
   ]
  },
  {
   "cell_type": "code",
   "execution_count": 2,
   "metadata": {},
   "outputs": [
    {
     "name": "stderr",
     "output_type": "stream",
     "text": [
      "Note: Using an external vector in selections is ambiguous.\n",
      "\u001b[34mi\u001b[39m Use `all_of(xcat_names_reg)` instead of `xcat_names_reg` to silence this message.\n",
      "\u001b[34mi\u001b[39m See <https://tidyselect.r-lib.org/reference/faq-external-vector.html>.\n",
      "\u001b[90mThis message is displayed once per session.\u001b[39m\n",
      "\n",
      "Note: Using an external vector in selections is ambiguous.\n",
      "\u001b[34mi\u001b[39m Use `all_of(xcont_names)` instead of `xcont_names` to silence this message.\n",
      "\u001b[34mi\u001b[39m See <https://tidyselect.r-lib.org/reference/faq-external-vector.html>.\n",
      "\u001b[90mThis message is displayed once per session.\u001b[39m\n",
      "\n"
     ]
    },
    {
     "data": {
      "text/html": [
       "<table>\n",
       "<caption>A data.frame: 6 × 59</caption>\n",
       "<thead>\n",
       "\t<tr><th></th><th scope=col>id</th><th scope=col>idobs</th><th scope=col>date_end</th><th scope=col>date_start</th><th scope=col>spell</th><th scope=col>num_spells</th><th scope=col>treat</th><th scope=col>duration</th><th scope=col>employed1y</th><th scope=col>insured_earn</th><th scope=col>...</th><th scope=col>lastj_fct_1</th><th scope=col>lastj_fct_3</th><th scope=col>lastj_fct_99</th><th scope=col>agegr_2</th><th scope=col>agegr_3</th><th scope=col>agegr_4</th><th scope=col>quarter</th><th scope=col>quarter_1</th><th scope=col>quarter_2</th><th scope=col>quarter_3</th></tr>\n",
       "\t<tr><th></th><th scope=col>&lt;dbl&gt;</th><th scope=col>&lt;int&gt;</th><th scope=col>&lt;date&gt;</th><th scope=col>&lt;date&gt;</th><th scope=col>&lt;int&gt;</th><th scope=col>&lt;int&gt;</th><th scope=col>&lt;dbl+lbl&gt;</th><th scope=col>&lt;dbl&gt;</th><th scope=col>&lt;dbl&gt;</th><th scope=col>&lt;dbl&gt;</th><th scope=col>...</th><th scope=col>&lt;int&gt;</th><th scope=col>&lt;int&gt;</th><th scope=col>&lt;int&gt;</th><th scope=col>&lt;int&gt;</th><th scope=col>&lt;int&gt;</th><th scope=col>&lt;int&gt;</th><th scope=col>&lt;dbl&gt;</th><th scope=col>&lt;int&gt;</th><th scope=col>&lt;int&gt;</th><th scope=col>&lt;int&gt;</th></tr>\n",
       "</thead>\n",
       "<tbody>\n",
       "\t<tr><th scope=row>1</th><td>1</td><td>1</td><td>2013-10-22</td><td>2013-03-04</td><td>1</td><td>1</td><td>0</td><td>233</td><td>1</td><td>4368</td><td>...</td><td>0</td><td>0</td><td>1</td><td>1</td><td>0</td><td>0</td><td>1</td><td>1</td><td>0</td><td>0</td></tr>\n",
       "\t<tr><th scope=row>2</th><td>2</td><td>2</td><td>2013-12-31</td><td>2013-04-17</td><td>1</td><td>1</td><td>0</td><td>259</td><td>1</td><td>5579</td><td>...</td><td>0</td><td>0</td><td>0</td><td>0</td><td>1</td><td>0</td><td>2</td><td>0</td><td>1</td><td>0</td></tr>\n",
       "\t<tr><th scope=row>3</th><td>3</td><td>3</td><td>2012-02-14</td><td>2011-12-20</td><td>1</td><td>1</td><td>1</td><td> 57</td><td>1</td><td>2710</td><td>...</td><td>0</td><td>0</td><td>0</td><td>1</td><td>0</td><td>0</td><td>4</td><td>0</td><td>0</td><td>0</td></tr>\n",
       "\t<tr><th scope=row>4</th><td>5</td><td>4</td><td>2013-04-01</td><td>2013-01-01</td><td>1</td><td>2</td><td>1</td><td> 91</td><td>1</td><td>4896</td><td>...</td><td>0</td><td>0</td><td>0</td><td>0</td><td>1</td><td>0</td><td>1</td><td>1</td><td>0</td><td>0</td></tr>\n",
       "\t<tr><th scope=row>5</th><td>5</td><td>5</td><td>2013-09-17</td><td>2013-07-01</td><td>2</td><td>2</td><td>1</td><td> 79</td><td>1</td><td>4896</td><td>...</td><td>0</td><td>0</td><td>0</td><td>0</td><td>1</td><td>0</td><td>3</td><td>0</td><td>0</td><td>1</td></tr>\n",
       "\t<tr><th scope=row>6</th><td>7</td><td>6</td><td>2013-03-17</td><td>2013-01-07</td><td>1</td><td>2</td><td>1</td><td> 70</td><td>1</td><td>5370</td><td>...</td><td>0</td><td>0</td><td>1</td><td>1</td><td>0</td><td>0</td><td>1</td><td>1</td><td>0</td><td>0</td></tr>\n",
       "</tbody>\n",
       "</table>\n"
      ],
      "text/latex": [
       "A data.frame: 6 × 59\n",
       "\\begin{tabular}{r|lllllllllllllllllllll}\n",
       "  & id & idobs & date\\_end & date\\_start & spell & num\\_spells & treat & duration & employed1y & insured\\_earn & ... & lastj\\_fct\\_1 & lastj\\_fct\\_3 & lastj\\_fct\\_99 & agegr\\_2 & agegr\\_3 & agegr\\_4 & quarter & quarter\\_1 & quarter\\_2 & quarter\\_3\\\\\n",
       "  & <dbl> & <int> & <date> & <date> & <int> & <int> & <dbl+lbl> & <dbl> & <dbl> & <dbl> & ... & <int> & <int> & <int> & <int> & <int> & <int> & <dbl> & <int> & <int> & <int>\\\\\n",
       "\\hline\n",
       "\t1 & 1 & 1 & 2013-10-22 & 2013-03-04 & 1 & 1 & 0 & 233 & 1 & 4368 & ... & 0 & 0 & 1 & 1 & 0 & 0 & 1 & 1 & 0 & 0\\\\\n",
       "\t2 & 2 & 2 & 2013-12-31 & 2013-04-17 & 1 & 1 & 0 & 259 & 1 & 5579 & ... & 0 & 0 & 0 & 0 & 1 & 0 & 2 & 0 & 1 & 0\\\\\n",
       "\t3 & 3 & 3 & 2012-02-14 & 2011-12-20 & 1 & 1 & 1 &  57 & 1 & 2710 & ... & 0 & 0 & 0 & 1 & 0 & 0 & 4 & 0 & 0 & 0\\\\\n",
       "\t4 & 5 & 4 & 2013-04-01 & 2013-01-01 & 1 & 2 & 1 &  91 & 1 & 4896 & ... & 0 & 0 & 0 & 0 & 1 & 0 & 1 & 1 & 0 & 0\\\\\n",
       "\t5 & 5 & 5 & 2013-09-17 & 2013-07-01 & 2 & 2 & 1 &  79 & 1 & 4896 & ... & 0 & 0 & 0 & 0 & 1 & 0 & 3 & 0 & 0 & 1\\\\\n",
       "\t6 & 7 & 6 & 2013-03-17 & 2013-01-07 & 1 & 2 & 1 &  70 & 1 & 5370 & ... & 0 & 0 & 1 & 1 & 0 & 0 & 1 & 1 & 0 & 0\\\\\n",
       "\\end{tabular}\n"
      ],
      "text/markdown": [
       "\n",
       "A data.frame: 6 × 59\n",
       "\n",
       "| <!--/--> | id &lt;dbl&gt; | idobs &lt;int&gt; | date_end &lt;date&gt; | date_start &lt;date&gt; | spell &lt;int&gt; | num_spells &lt;int&gt; | treat &lt;dbl+lbl&gt; | duration &lt;dbl&gt; | employed1y &lt;dbl&gt; | insured_earn &lt;dbl&gt; | ... ... | lastj_fct_1 &lt;int&gt; | lastj_fct_3 &lt;int&gt; | lastj_fct_99 &lt;int&gt; | agegr_2 &lt;int&gt; | agegr_3 &lt;int&gt; | agegr_4 &lt;int&gt; | quarter &lt;dbl&gt; | quarter_1 &lt;int&gt; | quarter_2 &lt;int&gt; | quarter_3 &lt;int&gt; |\n",
       "|---|---|---|---|---|---|---|---|---|---|---|---|---|---|---|---|---|---|---|---|---|---|\n",
       "| 1 | 1 | 1 | 2013-10-22 | 2013-03-04 | 1 | 1 | 0 | 233 | 1 | 4368 | ... | 0 | 0 | 1 | 1 | 0 | 0 | 1 | 1 | 0 | 0 |\n",
       "| 2 | 2 | 2 | 2013-12-31 | 2013-04-17 | 1 | 1 | 0 | 259 | 1 | 5579 | ... | 0 | 0 | 0 | 0 | 1 | 0 | 2 | 0 | 1 | 0 |\n",
       "| 3 | 3 | 3 | 2012-02-14 | 2011-12-20 | 1 | 1 | 1 |  57 | 1 | 2710 | ... | 0 | 0 | 0 | 1 | 0 | 0 | 4 | 0 | 0 | 0 |\n",
       "| 4 | 5 | 4 | 2013-04-01 | 2013-01-01 | 1 | 2 | 1 |  91 | 1 | 4896 | ... | 0 | 0 | 0 | 0 | 1 | 0 | 1 | 1 | 0 | 0 |\n",
       "| 5 | 5 | 5 | 2013-09-17 | 2013-07-01 | 2 | 2 | 1 |  79 | 1 | 4896 | ... | 0 | 0 | 0 | 0 | 1 | 0 | 3 | 0 | 0 | 1 |\n",
       "| 6 | 7 | 6 | 2013-03-17 | 2013-01-07 | 1 | 2 | 1 |  70 | 1 | 5370 | ... | 0 | 0 | 1 | 1 | 0 | 0 | 1 | 1 | 0 | 0 |\n",
       "\n"
      ],
      "text/plain": [
       "  id idobs date_end   date_start spell num_spells treat duration employed1y\n",
       "1 1  1     2013-10-22 2013-03-04 1     1          0     233      1         \n",
       "2 2  2     2013-12-31 2013-04-17 1     1          0     259      1         \n",
       "3 3  3     2012-02-14 2011-12-20 1     1          1      57      1         \n",
       "4 5  4     2013-04-01 2013-01-01 1     2          1      91      1         \n",
       "5 5  5     2013-09-17 2013-07-01 2     2          1      79      1         \n",
       "6 7  6     2013-03-17 2013-01-07 1     2          1      70      1         \n",
       "  insured_earn ... lastj_fct_1 lastj_fct_3 lastj_fct_99 agegr_2 agegr_3 agegr_4\n",
       "1 4368         ... 0           0           1            1       0       0      \n",
       "2 5579         ... 0           0           0            0       1       0      \n",
       "3 2710         ... 0           0           0            1       0       0      \n",
       "4 4896         ... 0           0           0            0       1       0      \n",
       "5 4896         ... 0           0           0            0       1       0      \n",
       "6 5370         ... 0           0           1            1       0       0      \n",
       "  quarter quarter_1 quarter_2 quarter_3\n",
       "1 1       1         0         0        \n",
       "2 2       0         1         0        \n",
       "3 4       0         0         0        \n",
       "4 1       1         0         0        \n",
       "5 3       0         0         1        \n",
       "6 1       1         0         0        "
      ]
     },
     "metadata": {},
     "output_type": "display_data"
    }
   ],
   "source": [
    "load(\"data_reg_final.RData\")\n",
    "\n",
    "# Define variables (see last session) - need matrices!\n",
    "y1 <- as.matrix(data_reg$duration)\n",
    "treat <- as.matrix(data_reg$treat)\n",
    "x1 <- as.matrix(dplyr::select(data_reg, xcat_names_reg, xcont_names, starts_with(\"quarter_\")))\n",
    "x_names<- colnames(x1)\n",
    "\n",
    "# Inspect data\n",
    "head(data_reg)"
   ]
  },
  {
   "cell_type": "markdown",
   "metadata": {},
   "source": [
    "## 3. Semiparametric estimation: General procedure\n",
    "\n",
    "1. Understand the mechanisms that determine treatment assignment and self-selection into treatment. The choice of covariates should be guided by large observed differences in covariates, institutional knowledge and theoretical considerations. \n",
    "2. Estimate the treatment probability $Pr(D = 1|X = x)$ parametrically using a probit or logit model.\n",
    "3. Predict the treatment probability, i.e. compute the propensity score (p-score), $p(X_i)$.\n",
    "4. Check for overlap (common support) in p-score across treated and control groups, and possibly trim observations with no overlap.\n",
    "5. Choose an effect of interest (e.g. ATET) and a semiparametric estimator (e.g. IPW, nearest-neighbour matching, radius matching, etc.), and compute the corresponding weights using the p-score.\n",
    "6. For inference, bootstrap everything (often directly available as an option in packages).\n",
    "7. Check for changes in considered population and balancedness in covariates.\n",
    "\n",
    "\n",
    "Having chosen our $X$'s, we go straight to step 2.\n",
    "\n",
    "### 2. Estimate the treatment probability parametrically using a probit model\n",
    "\n",
    "$$Pr(D=1|X=x)=\\Phi(\\alpha+\\sum_{k=1} ^K\\beta_kX_{k,i})$$ "
   ]
  },
  {
   "cell_type": "code",
   "execution_count": 3,
   "metadata": {},
   "outputs": [
    {
     "data": {
      "text/plain": [
       "\u001b[4mMODEL INFO:\u001b[24m\n",
       "\u001b[3mObservations:\u001b[23m 19084\n",
       "\u001b[3mDependent Variable:\u001b[23m treat\n",
       "\u001b[3mType:\u001b[23m Generalized linear model\n",
       "  \u001b[3mFamily:\u001b[23m binomial \n",
       "  \u001b[3mLink function:\u001b[23m probit \n",
       "\n",
       "\u001b[4mMODEL FIT:\u001b[24m\n",
       "<U+03C7>²(49) = 1474.53, \u001b[3mp\u001b[23m = 0.00\n",
       "\u001b[3mPseudo-R² (Cragg-Uhler)\u001b[23m = 0.10\n",
       "\u001b[3mPseudo-R² (McFadden)\u001b[23m = 0.06\n",
       "\u001b[3mAIC\u001b[23m = 24949.22, \u001b[3mBIC\u001b[23m = 25342.05 \n",
       "\n",
       "\u001b[3mStandard errors:\u001b[23m Robust, \u001b[3mtype = \u001b[23mHC1\n",
       "-----------------------------------------------------\n",
       "                          Est.   S.E.   z val.      p\n",
       "---------------------- ------- ------ -------- ------\n",
       "(Intercept)               0.27   0.05     4.94   0.00\n",
       "x1sex_1                   0.15   0.02     6.33   0.00\n",
       "x1marits_1               -0.31   0.02   -14.75   0.00\n",
       "x1region_1                0.08   0.05     1.48   0.14\n",
       "x1region_2               -0.04   0.03    -1.10   0.27\n",
       "x1region_3               -0.00   0.04    -0.13   0.89\n",
       "x1region_4                0.02   0.04     0.51   0.61\n",
       "x1region_5               -0.05   0.03    -1.41   0.16\n",
       "x1region_7               -0.14   0.08    -1.78   0.08\n",
       "x1swiss_0                -0.02   0.02    -0.90   0.37\n",
       "x1educ_0                  0.11   0.03     3.87   0.00\n",
       "x1educ_2                  0.26   0.05     5.36   0.00\n",
       "x1educ_3                  0.22   0.03     6.73   0.00\n",
       "x1educ_99                 0.27   0.30     0.90   0.37\n",
       "x1full_time_0             0.27   0.02    11.65   0.00\n",
       "x1lastj_occpt_1           0.10   0.06     1.63   0.10\n",
       "x1lastj_occpt_10         -0.03   0.04    -0.69   0.49\n",
       "x1lastj_occpt_11          0.00   0.06     0.03   0.97\n",
       "x1lastj_occpt_12         -0.05   0.06    -0.86   0.39\n",
       "x1lastj_occpt_14          0.02   0.06     0.36   0.72\n",
       "x1lastj_occpt_15         -0.02   0.05    -0.36   0.72\n",
       "x1lastj_occpt_16         -0.05   0.04    -1.20   0.23\n",
       "x1lastj_occpt_17         -0.04   0.09    -0.46   0.64\n",
       "x1lastj_occpt_18          0.07   0.08     0.88   0.38\n",
       "x1lastj_occpt_19          0.03   0.07     0.45   0.65\n",
       "x1lastj_occpt_2           0.10   0.10     1.00   0.32\n",
       "x1lastj_occpt_20         -0.08   0.08    -1.03   0.30\n",
       "x1lastj_occpt_21          0.04   0.09     0.44   0.66\n",
       "x1lastj_occpt_22          0.02   0.05     0.43   0.67\n",
       "x1lastj_occpt_23         -0.02   0.05    -0.42   0.68\n",
       "x1lastj_occpt_3          -0.09   0.04    -2.23   0.03\n",
       "x1lastj_occpt_4           0.03   0.11     0.23   0.82\n",
       "x1lastj_occpt_5           0.03   0.16     0.22   0.83\n",
       "x1lastj_occpt_6           0.16   0.14     1.11   0.27\n",
       "x1lastj_occpt_7          -0.03   0.15    -0.20   0.84\n",
       "x1lastj_occpt_8           0.01   0.06     0.10   0.92\n",
       "x1lastj_occpt_9          -0.04   0.04    -0.96   0.34\n",
       "x1lastj_fct_0             0.23   0.25     0.92   0.36\n",
       "x1lastj_fct_1            -0.04   0.05    -0.76   0.45\n",
       "x1lastj_fct_3            -0.03   0.06    -0.48   0.63\n",
       "x1lastj_fct_99            0.01   0.03     0.60   0.55\n",
       "x1agegr_2                 0.05   0.03     1.83   0.07\n",
       "x1agegr_3                 0.06   0.03     2.04   0.04\n",
       "x1agegr_4                 0.13   0.03     4.15   0.00\n",
       "x1insured_earn            0.00   0.00     0.75   0.46\n",
       "x1contr_5y               -0.01   0.00   -29.30   0.00\n",
       "x1unempl_r                0.00   0.02     0.24   0.81\n",
       "x1quarter_1              -0.02   0.03    -0.62   0.53\n",
       "x1quarter_2              -0.03   0.03    -1.00   0.32\n",
       "x1quarter_3              -0.03   0.03    -1.15   0.25\n",
       "-----------------------------------------------------"
      ]
     },
     "metadata": {},
     "output_type": "display_data"
    }
   ],
   "source": [
    "# Estimate the p-score model\n",
    "pscore.model <- glm(treat ~ x1, family = binomial(link = \"probit\"))\n",
    "summ(pscore.model, , robust = \"HC1\")"
   ]
  },
  {
   "cell_type": "markdown",
   "metadata": {},
   "source": [
    "### 3. Predict the treatment probability, i.e. compute the p-score, $p(X_i)$ "
   ]
  },
  {
   "cell_type": "code",
   "execution_count": 4,
   "metadata": {},
   "outputs": [],
   "source": [
    "data_reg$pscore <- pscore.model$fitted.values "
   ]
  },
  {
   "cell_type": "markdown",
   "metadata": {},
   "source": [
    "### 4. Check for overlap (common support) in p-score across treated and control groups"
   ]
  },
  {
   "cell_type": "code",
   "execution_count": 5,
   "metadata": {},
   "outputs": [
    {
     "data": {
      "image/png": "[encoded data removed]",
      "text/plain": [
       "plot without title"
      ]
     },
     "metadata": {
      "image/png": {
       "height": 420,
       "width": 420
      }
     },
     "output_type": "display_data"
    }
   ],
   "source": [
    "data_reg$treat_f <- factor(treat, \n",
    "                           levels = c(0,1), \n",
    "                           label = c(\"D=0\", \"D=1\")) \n",
    "\n",
    "ggplot(data_reg, aes(x = pscore, fill = treat_f)) + \n",
    "    geom_density(alpha=0.4) + \n",
    "    scale_fill_grey()+ \n",
    "    theme_bw(base_size = 20) +\n",
    "    xlim(0, 1)"
   ]
  },
  {
   "cell_type": "markdown",
   "metadata": {},
   "source": [
    "### Trim observations with no overlap\n",
    "\n",
    "We delete treated observations with a p-score larger than the maximum p-score in the control population"
   ]
  },
  {
   "cell_type": "code",
   "execution_count": 6,
   "metadata": {},
   "outputs": [
    {
     "name": "stdout",
     "output_type": "stream",
     "text": [
      "[1] \"Sample size before imposing common support \"\n"
     ]
    },
    {
     "data": {
      "text/html": [
       "19084"
      ],
      "text/latex": [
       "19084"
      ],
      "text/markdown": [
       "19084"
      ],
      "text/plain": [
       "[1] 19084"
      ]
     },
     "metadata": {},
     "output_type": "display_data"
    }
   ],
   "source": [
    "print(\"Sample size before imposing common support \")\n",
    "nrow(data_reg)\n",
    "\n",
    "pscore_max0 <-max(data_reg$pscore[treat==0])\n",
    "insample<- ifelse(data_reg$pscore <= pscore_max0 \n",
    "                  & data_reg$pscore != 0\n",
    "                  & data_reg$pscore != 1\n",
    "                  & !is.na(data_reg$pscore)\n",
    "                  , 1, 0)\n",
    "\n",
    "# You could impose some additional trimming, e.g. add a condition \n",
    "# & ((data_reg$pscore>0.05) | (data_reg$pscore<0.95)) "
   ]
  },
  {
   "cell_type": "code",
   "execution_count": 7,
   "metadata": {},
   "outputs": [
    {
     "name": "stdout",
     "output_type": "stream",
     "text": [
      "[1] \"Sample size after imposing common support \"\n"
     ]
    },
    {
     "data": {
      "text/html": [
       "19076"
      ],
      "text/latex": [
       "19076"
      ],
      "text/markdown": [
       "19076"
      ],
      "text/plain": [
       "[1] 19076"
      ]
     },
     "metadata": {},
     "output_type": "display_data"
    }
   ],
   "source": [
    "# Store a new data frame with the relevant sample \n",
    "data_ipw <- dplyr::filter(data_reg, insample ==1)\n",
    "print(\"Sample size after imposing common support \")\n",
    "nrow(data_ipw)\n",
    "\n",
    "# redefine variables\n",
    "y1_ipw <- y1[insample==1]\n",
    "treat_ipw <- treat[insample==1]\n",
    "x1_ipw <- x1[insample==1,] \n",
    "# need comma here, since it's a matrix and not a column vector"
   ]
  },
  {
   "cell_type": "markdown",
   "metadata": {},
   "source": [
    "### 5. Choose the effect of interest and a semiparametric estimator, and compute the corresponding weights using the p-score\n",
    "\n",
    "#### Say we want to estimate the average treatment effect on the treated (ATET)\n",
    "\n",
    "$$ \\text{ATET} = \\sum_{i=1}^N\\frac{D_iY_i}{\\sum_{i=1}^N D_i} - \\sum_{i=1}^N\\frac{(1-D_i)w(X_i)Y_i}{\\sum_{i=1}^N(1-D_i)w(X_i)}$$\n",
    "\n",
    "The first term is directly observed, we want to estimate the second one (counterfactual). \n",
    "\n",
    "#### .... using inverse probability weighting (IPW)\n",
    "\n",
    "Since we have the p-score, we can compute the weights. \n",
    "\n",
    "Here, the weights are\n",
    "\n",
    "$$w(X_i)=\\frac{p(X_i)}{1-p(X_i)}$$\n",
    "\n",
    "First, we compute the IPW estimator manually for illustration.\n"
   ]
  },
  {
   "cell_type": "code",
   "execution_count": 8,
   "metadata": {},
   "outputs": [],
   "source": [
    "data_ipw$weight[treat_ipw==1] <- 1\n",
    "data_ipw$weight[treat_ipw==0] <- data_ipw$pscore[treat_ipw==0]/\n",
    "                                (1-data_ipw$pscore)[treat_ipw==0]\n",
    "weight <- data_ipw$weight"
   ]
  },
  {
   "cell_type": "markdown",
   "metadata": {},
   "source": [
    "(No inference here. We will show you how to set up a bootstrap manually in lab session 5 on causal mediation analysis).\n",
    "\n",
    "Then, the ATET is computed as"
   ]
  },
  {
   "cell_type": "code",
   "execution_count": 9,
   "metadata": {},
   "outputs": [
    {
     "name": "stdout",
     "output_type": "stream",
     "text": [
      "[1] \"Effect on unemployment duration based on IPW (ATET)\"\n"
     ]
    },
    {
     "data": {
      "text/html": [
       "-97.6351779267115"
      ],
      "text/latex": [
       "-97.6351779267115"
      ],
      "text/markdown": [
       "-97.6351779267115"
      ],
      "text/plain": [
       "[1] -97.63518"
      ]
     },
     "metadata": {},
     "output_type": "display_data"
    }
   ],
   "source": [
    "Y1<-sum(y1_ipw*treat_ipw)/sum(treat_ipw)\n",
    "Y0<-sum(y1_ipw*(1-treat_ipw)*weight)/sum((1-treat_ipw)*weight)\n",
    "ipw_atet_manual <- Y1-Y0\n",
    "\n",
    "print(\"Effect on unemployment duration based on IPW (ATET)\")\n",
    "ipw_atet_manual"
   ]
  },
  {
   "cell_type": "markdown",
   "metadata": {},
   "source": [
    "Keep in mind:\n",
    "\n",
    "* Weights can become very large if $1 - p(X_i)$ is very small, which implies that these controls have a strong impact on the estimate\n",
    "* Trimming large weights (define maximum acceptable weight) improves stability of the estimate\n",
    "\n",
    "\n",
    "Next, we apply the `causalweight` package, which does everything automatically (but a bit of a black box, e.g. does not show you common support plots!). \n",
    "\n",
    "Inference by bootstrap and trimming can be implemented directly. For more details, see https://cran.r-project.org/web/packages/causalweight/index.html"
   ]
  },
  {
   "cell_type": "code",
   "execution_count": 10,
   "metadata": {},
   "outputs": [
    {
     "data": {
      "text/html": [
       "<dl>\n",
       "\t<dt>$effect</dt>\n",
       "\t\t<dd>-97.6506011098146</dd>\n",
       "\t<dt>$se</dt>\n",
       "\t\t<dd>4.69052494863318</dd>\n",
       "\t<dt>$pval</dt>\n",
       "\t\t<dd>2.93067662644327e-96</dd>\n",
       "\t<dt>$y1</dt>\n",
       "\t\t<dd>103.103775743707</dd>\n",
       "\t<dt>$y0</dt>\n",
       "\t\t<dd>200.754376853522</dd>\n",
       "\t<dt>$ntrimmed</dt>\n",
       "\t\t<dd>0</dd>\n",
       "</dl>\n"
      ],
      "text/latex": [
       "\\begin{description}\n",
       "\\item[\\$effect] -97.6506011098146\n",
       "\\item[\\$se] 4.69052494863318\n",
       "\\item[\\$pval] 2.93067662644327e-96\n",
       "\\item[\\$y1] 103.103775743707\n",
       "\\item[\\$y0] 200.754376853522\n",
       "\\item[\\$ntrimmed] 0\n",
       "\\end{description}\n"
      ],
      "text/markdown": [
       "$effect\n",
       ":   -97.6506011098146\n",
       "$se\n",
       ":   4.69052494863318\n",
       "$pval\n",
       ":   2.93067662644327e-96\n",
       "$y1\n",
       ":   103.103775743707\n",
       "$y0\n",
       ":   200.754376853522\n",
       "$ntrimmed\n",
       ":   0\n",
       "\n",
       "\n"
      ],
      "text/plain": [
       "$effect\n",
       "[1] -97.6506\n",
       "\n",
       "$se\n",
       "[1] 4.690525\n",
       "\n",
       "$pval\n",
       "[1] 2.930677e-96\n",
       "\n",
       "$y1\n",
       "[1] 103.1038\n",
       "\n",
       "$y0\n",
       "[1] 200.7544\n",
       "\n",
       "$ntrimmed\n",
       "[1] 0\n"
      ]
     },
     "metadata": {},
     "output_type": "display_data"
    }
   ],
   "source": [
    "# IPW - Estimating the ATET based on the causalweight package\n",
    "ipw_atet <- treatweight(y=y1_ipw, \n",
    "                        d=treat_ipw, \n",
    "                        x=x1_ipw, \n",
    "                        ATET =TRUE, \n",
    "                        trim=0.05, \n",
    "                        boot = 2)\n",
    "ipw_atet"
   ]
  },
  {
   "cell_type": "markdown",
   "metadata": {},
   "source": [
    "### 6. For inference, bootstrap everything\n",
    "\n",
    "Just ran it with 2 replication as an example (minimum for the package to work), because it takes a while. \n",
    "\n",
    "Rerun the code above, specifying a higher number of bootstrap replications (e.g. 199) and see for yourself. "
   ]
  },
  {
   "cell_type": "markdown",
   "metadata": {},
   "source": [
    "### 7. Check for changes in considered population and balancedness in covariates\n",
    "\n",
    "We compare the differences in selected characteristics between the treatment and control group after reweighting \n",
    "\n",
    "Add the `weight` option in the computation of the difference."
   ]
  },
  {
   "cell_type": "code",
   "execution_count": 11,
   "metadata": {},
   "outputs": [
    {
     "name": "stdout",
     "output_type": "stream",
     "text": [
      "[1] \"Differences in X between control and treatment group after reweighting\"\n"
     ]
    },
    {
     "data": {
      "text/html": [
       "<!-- html table generated in R 3.6.1 by xtable 1.8-4 package --><!-- Fri Oct 09 13:08:58 2020 --><table border=1><tr> <th>  </th> <th> diff </th> <th> robust.se </th> <th> pval </th>  </tr>  <tr> <td align=\"right\"> sex_1 </td> <td align=\"right\"> 0.012 </td> <td align=\"right\"> 0.008 </td> <td align=\"right\"> 0.116 </td> </tr>  <tr> <td align=\"right\"> marits_1 </td> <td align=\"right\"> -0.011 </td> <td align=\"right\"> 0.008 </td> <td align=\"right\"> 0.156 </td> </tr>  <tr> <td align=\"right\"> educ_0 </td> <td align=\"right\"> -0.004 </td> <td align=\"right\"> 0.007 </td> <td align=\"right\"> 0.516 </td> </tr>  <tr> <td align=\"right\"> educ_2 </td> <td align=\"right\"> 0.002 </td> <td align=\"right\"> 0.003 </td> <td align=\"right\"> 0.538 </td> </tr>  <tr> <td align=\"right\"> educ_3 </td> <td align=\"right\"> 0.001 </td> <td align=\"right\"> 0.006 </td> <td align=\"right\"> 0.899 </td> </tr>  <tr> <td align=\"right\"> agegr_2 </td> <td align=\"right\"> -0.002 </td> <td align=\"right\"> 0.007 </td> <td align=\"right\"> 0.750 </td> </tr>  <tr> <td align=\"right\"> agegr_3 </td> <td align=\"right\"> -0.004 </td> <td align=\"right\"> 0.007 </td> <td align=\"right\"> 0.541 </td> </tr>  <tr> <td align=\"right\"> agegr_4 </td> <td align=\"right\"> -0.009 </td> <td align=\"right\"> 0.006 </td> <td align=\"right\"> 0.107 </td> </tr>  <tr> <td align=\"right\"> swiss_0 </td> <td align=\"right\"> -0.001 </td> <td align=\"right\"> 0.008 </td> <td align=\"right\"> 0.936 </td> </tr>   </table>"
      ],
      "text/latex": [
       "A xtable: 9 × 3\n",
       "\\begin{tabular}{r|lll}\n",
       "  & diff & robust.se & pval\\\\\n",
       "  & <dbl> & <dbl> & <dbl>\\\\\n",
       "\\hline\n",
       "\tsex\\_1 &  0.0122938928 & 0.007812908 & 0.1155947\\\\\n",
       "\tmarits\\_1 & -0.0109031782 & 0.007691661 & 0.1563273\\\\\n",
       "\teduc\\_0 & -0.0042591242 & 0.006560757 & 0.5162208\\\\\n",
       "\teduc\\_2 &  0.0019640478 & 0.003192816 & 0.5384584\\\\\n",
       "\teduc\\_3 &  0.0007335693 & 0.005785511 & 0.8991033\\\\\n",
       "\tagegr\\_2 & -0.0022774449 & 0.007145069 & 0.7499210\\\\\n",
       "\tagegr\\_3 & -0.0040755602 & 0.006663982 & 0.5408155\\\\\n",
       "\tagegr\\_4 & -0.0091372967 & 0.005670390 & 0.1070914\\\\\n",
       "\tswiss\\_0 & -0.0006250428 & 0.007795406 & 0.9360934\\\\\n",
       "\\end{tabular}\n"
      ],
      "text/markdown": [
       "\n",
       "A xtable: 9 × 3\n",
       "\n",
       "| <!--/--> | diff &lt;dbl&gt; | robust.se &lt;dbl&gt; | pval &lt;dbl&gt; |\n",
       "|---|---|---|---|\n",
       "| sex_1 |  0.0122938928 | 0.007812908 | 0.1155947 |\n",
       "| marits_1 | -0.0109031782 | 0.007691661 | 0.1563273 |\n",
       "| educ_0 | -0.0042591242 | 0.006560757 | 0.5162208 |\n",
       "| educ_2 |  0.0019640478 | 0.003192816 | 0.5384584 |\n",
       "| educ_3 |  0.0007335693 | 0.005785511 | 0.8991033 |\n",
       "| agegr_2 | -0.0022774449 | 0.007145069 | 0.7499210 |\n",
       "| agegr_3 | -0.0040755602 | 0.006663982 | 0.5408155 |\n",
       "| agegr_4 | -0.0091372967 | 0.005670390 | 0.1070914 |\n",
       "| swiss_0 | -0.0006250428 | 0.007795406 | 0.9360934 |\n",
       "\n"
      ],
      "text/plain": [
       "         diff          robust.se   pval     \n",
       "sex_1     0.0122938928 0.007812908 0.1155947\n",
       "marits_1 -0.0109031782 0.007691661 0.1563273\n",
       "educ_0   -0.0042591242 0.006560757 0.5162208\n",
       "educ_2    0.0019640478 0.003192816 0.5384584\n",
       "educ_3    0.0007335693 0.005785511 0.8991033\n",
       "agegr_2  -0.0022774449 0.007145069 0.7499210\n",
       "agegr_3  -0.0040755602 0.006663982 0.5408155\n",
       "agegr_4  -0.0091372967 0.005670390 0.1070914\n",
       "swiss_0  -0.0006250428 0.007795406 0.9360934"
      ]
     },
     "metadata": {},
     "output_type": "display_data"
    }
   ],
   "source": [
    "# Define a vector of covariates (manual IPW sample)\n",
    "x_sel <- as.matrix(dplyr::select(data_ipw, sex_1, marits_1, \n",
    "                                 educ_0, educ_2, educ_3, \n",
    "                                 agegr_2, agegr_3, agegr_4, \n",
    "                                 swiss_0))\n",
    "x_sel_names <- colnames(x_sel)\n",
    "\n",
    "# Define a function estimating the differences \n",
    "balanced.model <- function(x){\n",
    "    \n",
    "    weighted_diff <- lm(x[insample==1] ~ treat_ipw, # specify correct sample!\n",
    "                        weight=data_ipw$weight) # specify weights!\n",
    "    cov <- vcovHC(weighted_diff, type = \"HC\")\n",
    "    robust.se <- sqrt(diag(cov))\n",
    "    \n",
    "    list(diff = weighted_diff$coefficients[2], \n",
    "        robust.se = robust.se[2], \n",
    "        pval = 2*pnorm(-abs(weighted_diff$coefficients[2]/robust.se[2])) )\n",
    "                    }\n",
    "\n",
    "diff_output <- apply(x_sel, 2, balanced.model)\n",
    "diff_output<-rbindlist(diff_output)\n",
    "rownames(diff_output)<- x_sel_names\n",
    "\n",
    "# Table\n",
    "print(\"Differences in X between control and treatment group after reweighting\")\n",
    "xtable(diff_output, digits=3)"
   ]
  },
  {
   "cell_type": "markdown",
   "metadata": {},
   "source": [
    "### Another estimator: Radius matching \n",
    "\n",
    "In this case, the weights for the ATET are defined as \n",
    "\n",
    "$$w(X_i)=\\sum_{j:D_j=1}\\frac{\\underline{1}(|p(X_j)-p(X_i)|<r)}{|p(X_j)-p(X_i)|}\\Big/\\sum_{k:D_k=0}\\frac{\\underline{1}(|p(X_j)-p(X_k)|<r)}{|p(X_j)-p(X_k)|}$$\n",
    "\n",
    "The estimator uses all control observations with a p-score within a chosen radius $r$.\n",
    "\n",
    "The `radiusmatching` package by Huber et al. (2015) additionally applies some bias correction and is doubly robust (see lecture slides). To download the package, go to https://www.alexandria.unisg.ch/218871/\n",
    "\n",
    "Package options:\n",
    "* Specify the number of bootstrap replications (again, takes a while). \n",
    "* The radius is defined by the multiplier of the maximum distance in pair matching. E.g., setting `radius=3` implies a radius of 3 times the maximum distance (or a particular quantile)."
   ]
  },
  {
   "cell_type": "code",
   "execution_count": 12,
   "metadata": {},
   "outputs": [
    {
     "name": "stdout",
     "output_type": "stream",
     "text": [
      "[1] \"Effect on unemployment duration based on radiusmatching (ATET)\"\n"
     ]
    },
    {
     "data": {
      "text/html": [
       "-98.1467736472252"
      ],
      "text/latex": [
       "-98.1467736472252"
      ],
      "text/markdown": [
       "-98.1467736472252"
      ],
      "text/plain": [
       "[1] -98.14677"
      ]
     },
     "metadata": {},
     "output_type": "display_data"
    },
    {
     "name": "stdout",
     "output_type": "stream",
     "text": [
      "[1] \"bootstrapped S.E.\"\n"
     ]
    },
    {
     "data": {
      "text/html": [
       "&lt;NA&gt;"
      ],
      "text/latex": [
       "<NA>"
      ],
      "text/markdown": [
       "&lt;NA&gt;"
      ],
      "text/plain": [
       "[1] NA"
      ]
     },
     "metadata": {},
     "output_type": "display_data"
    }
   ],
   "source": [
    "# Applying the radiusmatching package to the initial sample (data_reg)\n",
    "\n",
    "rmatch_atet <- radiusmatch(y=y1, d=treat, x=x1, \n",
    "                           biascorr=1, \n",
    "                           commonsup = 1, \n",
    "                           radius = 3, \n",
    "                           estimand =\"ATET\", \n",
    "                           boot=1)\n",
    "\n",
    "print(\"Effect on unemployment duration based on radiusmatching (ATET)\")\n",
    "rmatch_atet$effect\n",
    "print(\"bootstrapped S.E.\")\n",
    "rmatch_atet$se.boot\n",
    "# NA if only 1 replication"
   ]
  },
  {
   "cell_type": "markdown",
   "metadata": {},
   "source": [
    "***\n",
    "\n",
    "## Extension : monthly effects\n",
    "\n",
    "Going back to parametric estimation, we estimate the effects on the individual's monthly employment probability up to 2 years after program start.\n",
    "\n",
    "### (1) Define monthly employment outcomes\n"
   ]
  },
  {
   "cell_type": "code",
   "execution_count": 13,
   "metadata": {},
   "outputs": [
    {
     "data": {
      "text/html": [
       "<table>\n",
       "<caption>A data.frame: 6 × 24</caption>\n",
       "<thead>\n",
       "\t<tr><th></th><th scope=col>empl_1</th><th scope=col>empl_2</th><th scope=col>empl_3</th><th scope=col>empl_4</th><th scope=col>empl_5</th><th scope=col>empl_6</th><th scope=col>empl_7</th><th scope=col>empl_8</th><th scope=col>empl_9</th><th scope=col>empl_10</th><th scope=col>...</th><th scope=col>empl_15</th><th scope=col>empl_16</th><th scope=col>empl_17</th><th scope=col>empl_18</th><th scope=col>empl_19</th><th scope=col>empl_20</th><th scope=col>empl_21</th><th scope=col>empl_22</th><th scope=col>empl_23</th><th scope=col>empl_24</th></tr>\n",
       "\t<tr><th></th><th scope=col>&lt;dbl&gt;</th><th scope=col>&lt;dbl&gt;</th><th scope=col>&lt;dbl&gt;</th><th scope=col>&lt;dbl&gt;</th><th scope=col>&lt;dbl&gt;</th><th scope=col>&lt;dbl&gt;</th><th scope=col>&lt;dbl&gt;</th><th scope=col>&lt;dbl&gt;</th><th scope=col>&lt;dbl&gt;</th><th scope=col>&lt;dbl&gt;</th><th scope=col>...</th><th scope=col>&lt;dbl&gt;</th><th scope=col>&lt;dbl&gt;</th><th scope=col>&lt;dbl&gt;</th><th scope=col>&lt;dbl&gt;</th><th scope=col>&lt;dbl&gt;</th><th scope=col>&lt;dbl&gt;</th><th scope=col>&lt;dbl&gt;</th><th scope=col>&lt;dbl&gt;</th><th scope=col>&lt;dbl&gt;</th><th scope=col>&lt;dbl&gt;</th></tr>\n",
       "</thead>\n",
       "<tbody>\n",
       "\t<tr><th scope=row>X0</th><td>0</td><td>0</td><td>0</td><td>0</td><td>0</td><td>0</td><td>0</td><td>1</td><td>1</td><td>1</td><td>...</td><td>1</td><td>1</td><td>1</td><td>1</td><td>1</td><td>1</td><td>1</td><td>1</td><td>1</td><td>1</td></tr>\n",
       "\t<tr><th scope=row>X0.1</th><td>0</td><td>0</td><td>0</td><td>0</td><td>0</td><td>0</td><td>0</td><td>0</td><td>1</td><td>1</td><td>...</td><td>1</td><td>1</td><td>1</td><td>1</td><td>1</td><td>1</td><td>1</td><td>1</td><td>1</td><td>1</td></tr>\n",
       "\t<tr><th scope=row>X1</th><td>0</td><td>1</td><td>1</td><td>1</td><td>1</td><td>1</td><td>1</td><td>1</td><td>1</td><td>1</td><td>...</td><td>1</td><td>1</td><td>1</td><td>1</td><td>1</td><td>1</td><td>1</td><td>1</td><td>1</td><td>1</td></tr>\n",
       "\t<tr><th scope=row>X1.1</th><td>0</td><td>0</td><td>0</td><td>1</td><td>1</td><td>1</td><td>1</td><td>1</td><td>1</td><td>1</td><td>...</td><td>1</td><td>1</td><td>1</td><td>1</td><td>1</td><td>1</td><td>1</td><td>1</td><td>1</td><td>1</td></tr>\n",
       "\t<tr><th scope=row>X1.2</th><td>0</td><td>0</td><td>1</td><td>1</td><td>1</td><td>1</td><td>1</td><td>1</td><td>1</td><td>1</td><td>...</td><td>1</td><td>1</td><td>1</td><td>1</td><td>1</td><td>1</td><td>1</td><td>1</td><td>1</td><td>1</td></tr>\n",
       "\t<tr><th scope=row>X1.3</th><td>0</td><td>0</td><td>1</td><td>1</td><td>1</td><td>1</td><td>1</td><td>1</td><td>1</td><td>1</td><td>...</td><td>1</td><td>1</td><td>1</td><td>1</td><td>1</td><td>1</td><td>1</td><td>1</td><td>1</td><td>1</td></tr>\n",
       "</tbody>\n",
       "</table>\n"
      ],
      "text/latex": [
       "A data.frame: 6 × 24\n",
       "\\begin{tabular}{r|lllllllllllllllllllll}\n",
       "  & empl\\_1 & empl\\_2 & empl\\_3 & empl\\_4 & empl\\_5 & empl\\_6 & empl\\_7 & empl\\_8 & empl\\_9 & empl\\_10 & ... & empl\\_15 & empl\\_16 & empl\\_17 & empl\\_18 & empl\\_19 & empl\\_20 & empl\\_21 & empl\\_22 & empl\\_23 & empl\\_24\\\\\n",
       "  & <dbl> & <dbl> & <dbl> & <dbl> & <dbl> & <dbl> & <dbl> & <dbl> & <dbl> & <dbl> & ... & <dbl> & <dbl> & <dbl> & <dbl> & <dbl> & <dbl> & <dbl> & <dbl> & <dbl> & <dbl>\\\\\n",
       "\\hline\n",
       "\tX0 & 0 & 0 & 0 & 0 & 0 & 0 & 0 & 1 & 1 & 1 & ... & 1 & 1 & 1 & 1 & 1 & 1 & 1 & 1 & 1 & 1\\\\\n",
       "\tX0.1 & 0 & 0 & 0 & 0 & 0 & 0 & 0 & 0 & 1 & 1 & ... & 1 & 1 & 1 & 1 & 1 & 1 & 1 & 1 & 1 & 1\\\\\n",
       "\tX1 & 0 & 1 & 1 & 1 & 1 & 1 & 1 & 1 & 1 & 1 & ... & 1 & 1 & 1 & 1 & 1 & 1 & 1 & 1 & 1 & 1\\\\\n",
       "\tX1.1 & 0 & 0 & 0 & 1 & 1 & 1 & 1 & 1 & 1 & 1 & ... & 1 & 1 & 1 & 1 & 1 & 1 & 1 & 1 & 1 & 1\\\\\n",
       "\tX1.2 & 0 & 0 & 1 & 1 & 1 & 1 & 1 & 1 & 1 & 1 & ... & 1 & 1 & 1 & 1 & 1 & 1 & 1 & 1 & 1 & 1\\\\\n",
       "\tX1.3 & 0 & 0 & 1 & 1 & 1 & 1 & 1 & 1 & 1 & 1 & ... & 1 & 1 & 1 & 1 & 1 & 1 & 1 & 1 & 1 & 1\\\\\n",
       "\\end{tabular}\n"
      ],
      "text/markdown": [
       "\n",
       "A data.frame: 6 × 24\n",
       "\n",
       "| <!--/--> | empl_1 &lt;dbl&gt; | empl_2 &lt;dbl&gt; | empl_3 &lt;dbl&gt; | empl_4 &lt;dbl&gt; | empl_5 &lt;dbl&gt; | empl_6 &lt;dbl&gt; | empl_7 &lt;dbl&gt; | empl_8 &lt;dbl&gt; | empl_9 &lt;dbl&gt; | empl_10 &lt;dbl&gt; | ... ... | empl_15 &lt;dbl&gt; | empl_16 &lt;dbl&gt; | empl_17 &lt;dbl&gt; | empl_18 &lt;dbl&gt; | empl_19 &lt;dbl&gt; | empl_20 &lt;dbl&gt; | empl_21 &lt;dbl&gt; | empl_22 &lt;dbl&gt; | empl_23 &lt;dbl&gt; | empl_24 &lt;dbl&gt; |\n",
       "|---|---|---|---|---|---|---|---|---|---|---|---|---|---|---|---|---|---|---|---|---|---|\n",
       "| X0 | 0 | 0 | 0 | 0 | 0 | 0 | 0 | 1 | 1 | 1 | ... | 1 | 1 | 1 | 1 | 1 | 1 | 1 | 1 | 1 | 1 |\n",
       "| X0.1 | 0 | 0 | 0 | 0 | 0 | 0 | 0 | 0 | 1 | 1 | ... | 1 | 1 | 1 | 1 | 1 | 1 | 1 | 1 | 1 | 1 |\n",
       "| X1 | 0 | 1 | 1 | 1 | 1 | 1 | 1 | 1 | 1 | 1 | ... | 1 | 1 | 1 | 1 | 1 | 1 | 1 | 1 | 1 | 1 |\n",
       "| X1.1 | 0 | 0 | 0 | 1 | 1 | 1 | 1 | 1 | 1 | 1 | ... | 1 | 1 | 1 | 1 | 1 | 1 | 1 | 1 | 1 | 1 |\n",
       "| X1.2 | 0 | 0 | 1 | 1 | 1 | 1 | 1 | 1 | 1 | 1 | ... | 1 | 1 | 1 | 1 | 1 | 1 | 1 | 1 | 1 | 1 |\n",
       "| X1.3 | 0 | 0 | 1 | 1 | 1 | 1 | 1 | 1 | 1 | 1 | ... | 1 | 1 | 1 | 1 | 1 | 1 | 1 | 1 | 1 | 1 |\n",
       "\n"
      ],
      "text/plain": [
       "     empl_1 empl_2 empl_3 empl_4 empl_5 empl_6 empl_7 empl_8 empl_9 empl_10 ...\n",
       "X0   0      0      0      0      0      0      0      1      1      1       ...\n",
       "X0.1 0      0      0      0      0      0      0      0      1      1       ...\n",
       "X1   0      1      1      1      1      1      1      1      1      1       ...\n",
       "X1.1 0      0      0      1      1      1      1      1      1      1       ...\n",
       "X1.2 0      0      1      1      1      1      1      1      1      1       ...\n",
       "X1.3 0      0      1      1      1      1      1      1      1      1       ...\n",
       "     empl_15 empl_16 empl_17 empl_18 empl_19 empl_20 empl_21 empl_22 empl_23\n",
       "X0   1       1       1       1       1       1       1       1       1      \n",
       "X0.1 1       1       1       1       1       1       1       1       1      \n",
       "X1   1       1       1       1       1       1       1       1       1      \n",
       "X1.1 1       1       1       1       1       1       1       1       1      \n",
       "X1.2 1       1       1       1       1       1       1       1       1      \n",
       "X1.3 1       1       1       1       1       1       1       1       1      \n",
       "     empl_24\n",
       "X0   1      \n",
       "X0.1 1      \n",
       "X1   1      \n",
       "X1.1 1      \n",
       "X1.2 1      \n",
       "X1.3 1      "
      ]
     },
     "metadata": {},
     "output_type": "display_data"
    }
   ],
   "source": [
    "# Set maximum horizon to look at after start of unemployment, 24 months\n",
    "maxdur <- 24\n",
    "\n",
    "# Dummies =1 if individual employed in month i after start \n",
    "empl <- matrix(0, nrow=nrow(data_reg), ncol=(maxdur))\n",
    "empl_list <- paste(\"empl\", 1:maxdur, sep=\"_\")\n",
    "colnames(empl) <- empl_list\n",
    "\n",
    "for (i in 1:maxdur) {\n",
    "  empl[,i] = ifelse(data_reg$date_end < data_reg$date_start + 30*i, 1, 0)\n",
    "}\n",
    "\n",
    "empl <- as.data.frame(empl, treat)\n",
    "data_reg <- cbind(data_reg, empl)\n",
    "\n",
    "head(empl)"
   ]
  },
  {
   "cell_type": "markdown",
   "metadata": {},
   "source": [
    "### (2) Plot monthly employment"
   ]
  },
  {
   "cell_type": "code",
   "execution_count": 14,
   "metadata": {},
   "outputs": [
    {
     "data": {
      "text/html": [
       "<style>\n",
       ".dl-inline {width: auto; margin:0; padding: 0}\n",
       ".dl-inline>dt, .dl-inline>dd {float: none; width: auto; display: inline-block}\n",
       ".dl-inline>dt::after {content: \":\\0020\"; padding-right: .5ex}\n",
       ".dl-inline>dt:not(:first-of-type) {padding-left: .5ex}\n",
       "</style><dl class=dl-inline><dt>empl_1</dt><dd>0.0218335619570187</dd><dt>empl_2</dt><dd>0.185528120713306</dd><dt>empl_3</dt><dd>0.395404663923182</dd><dt>empl_4</dt><dd>0.798582533150434</dd><dt>empl_5</dt><dd>0.901120256058528</dd><dt>empl_6</dt><dd>0.940672153635117</dd><dt>empl_7</dt><dd>0.970164609053498</dd><dt>empl_8</dt><dd>0.983310470964792</dd><dt>empl_9</dt><dd>0.985368084133516</dd><dt>empl_10</dt><dd>0.98708276177412</dd><dt>empl_11</dt><dd>0.988340192043896</dd><dt>empl_12</dt><dd>0.989026063100137</dd><dt>empl_13</dt><dd>0.990169181527206</dd><dt>empl_14</dt><dd>0.990512117055327</dd><dt>empl_15</dt><dd>0.991083676268861</dd><dt>empl_16</dt><dd>0.991426611796982</dd><dt>empl_17</dt><dd>0.991655235482396</dd><dt>empl_18</dt><dd>0.992455418381344</dd><dt>empl_19</dt><dd>0.992569730224051</dd><dt>empl_20</dt><dd>0.992798353909465</dd><dt>empl_21</dt><dd>0.993484224965706</dd><dt>empl_22</dt><dd>0.99371284865112</dd><dt>empl_23</dt><dd>0.994055784179241</dd><dt>empl_24</dt><dd>0.994284407864655</dd></dl>\n"
      ],
      "text/latex": [
       "\\begin{description*}\n",
       "\\item[empl\\textbackslash{}\\_1] 0.0218335619570187\n",
       "\\item[empl\\textbackslash{}\\_2] 0.185528120713306\n",
       "\\item[empl\\textbackslash{}\\_3] 0.395404663923182\n",
       "\\item[empl\\textbackslash{}\\_4] 0.798582533150434\n",
       "\\item[empl\\textbackslash{}\\_5] 0.901120256058528\n",
       "\\item[empl\\textbackslash{}\\_6] 0.940672153635117\n",
       "\\item[empl\\textbackslash{}\\_7] 0.970164609053498\n",
       "\\item[empl\\textbackslash{}\\_8] 0.983310470964792\n",
       "\\item[empl\\textbackslash{}\\_9] 0.985368084133516\n",
       "\\item[empl\\textbackslash{}\\_10] 0.98708276177412\n",
       "\\item[empl\\textbackslash{}\\_11] 0.988340192043896\n",
       "\\item[empl\\textbackslash{}\\_12] 0.989026063100137\n",
       "\\item[empl\\textbackslash{}\\_13] 0.990169181527206\n",
       "\\item[empl\\textbackslash{}\\_14] 0.990512117055327\n",
       "\\item[empl\\textbackslash{}\\_15] 0.991083676268861\n",
       "\\item[empl\\textbackslash{}\\_16] 0.991426611796982\n",
       "\\item[empl\\textbackslash{}\\_17] 0.991655235482396\n",
       "\\item[empl\\textbackslash{}\\_18] 0.992455418381344\n",
       "\\item[empl\\textbackslash{}\\_19] 0.992569730224051\n",
       "\\item[empl\\textbackslash{}\\_20] 0.992798353909465\n",
       "\\item[empl\\textbackslash{}\\_21] 0.993484224965706\n",
       "\\item[empl\\textbackslash{}\\_22] 0.99371284865112\n",
       "\\item[empl\\textbackslash{}\\_23] 0.994055784179241\n",
       "\\item[empl\\textbackslash{}\\_24] 0.994284407864655\n",
       "\\end{description*}\n"
      ],
      "text/markdown": [
       "empl_1\n",
       ":   0.0218335619570187empl_2\n",
       ":   0.185528120713306empl_3\n",
       ":   0.395404663923182empl_4\n",
       ":   0.798582533150434empl_5\n",
       ":   0.901120256058528empl_6\n",
       ":   0.940672153635117empl_7\n",
       ":   0.970164609053498empl_8\n",
       ":   0.983310470964792empl_9\n",
       ":   0.985368084133516empl_10\n",
       ":   0.98708276177412empl_11\n",
       ":   0.988340192043896empl_12\n",
       ":   0.989026063100137empl_13\n",
       ":   0.990169181527206empl_14\n",
       ":   0.990512117055327empl_15\n",
       ":   0.991083676268861empl_16\n",
       ":   0.991426611796982empl_17\n",
       ":   0.991655235482396empl_18\n",
       ":   0.992455418381344empl_19\n",
       ":   0.992569730224051empl_20\n",
       ":   0.992798353909465empl_21\n",
       ":   0.993484224965706empl_22\n",
       ":   0.99371284865112empl_23\n",
       ":   0.994055784179241empl_24\n",
       ":   0.994284407864655\n",
       "\n"
      ],
      "text/plain": [
       "    empl_1     empl_2     empl_3     empl_4     empl_5     empl_6     empl_7 \n",
       "0.02183356 0.18552812 0.39540466 0.79858253 0.90112026 0.94067215 0.97016461 \n",
       "    empl_8     empl_9    empl_10    empl_11    empl_12    empl_13    empl_14 \n",
       "0.98331047 0.98536808 0.98708276 0.98834019 0.98902606 0.99016918 0.99051212 \n",
       "   empl_15    empl_16    empl_17    empl_18    empl_19    empl_20    empl_21 \n",
       "0.99108368 0.99142661 0.99165524 0.99245542 0.99256973 0.99279835 0.99348422 \n",
       "   empl_22    empl_23    empl_24 \n",
       "0.99371285 0.99405578 0.99428441 "
      ]
     },
     "metadata": {},
     "output_type": "display_data"
    }
   ],
   "source": [
    "empl_monthly_treat <- apply(t(empl[treat==1,]),1,mean)\n",
    "empl_monthly_contr <- apply(t(empl[treat==0,]),1,mean)\n",
    "\n",
    "month <- rep(1:maxdur)\n",
    "empl_monthly <- cbind(empl_monthly_treat, empl_monthly_contr, month)\n",
    "colnames(empl_monthly) <- c(\"rate_treat\", \"rate_contr\", \"month\")\n",
    "empl_monthly <- as.data.frame(empl_monthly)\n",
    "\n",
    "empl_monthly_treat"
   ]
  },
  {
   "cell_type": "code",
   "execution_count": 15,
   "metadata": {},
   "outputs": [
    {
     "data": {
      "image/png": "[encoded data removed]",
      "text/plain": [
       "plot without title"
      ]
     },
     "metadata": {
      "image/png": {
       "height": 420,
       "width": 420
      }
     },
     "output_type": "display_data"
    }
   ],
   "source": [
    "ggplot() +\n",
    "  geom_line(data = empl_monthly, aes(x = month, y = rate_treat), color = \"blue\") +\n",
    "  geom_line(data = empl_monthly, aes(x = month, y = rate_contr), color = \"red\") +\n",
    "  theme_bw(base_size = 20) +\n",
    "  ylab(\"Employment rate\") +\n",
    "  xlab(\"Months after program start\") +\n",
    "  geom_hline(yintercept = 0, linetype=\"dashed\") "
   ]
  },
  {
   "cell_type": "markdown",
   "metadata": {},
   "source": [
    "### (3) Estimate monthly effects (OLS)"
   ]
  },
  {
   "cell_type": "code",
   "execution_count": 16,
   "metadata": {},
   "outputs": [],
   "source": [
    "reg_monthly <- function(y) {\n",
    "  out <- lm(y ~ treat + x1)\n",
    "  out2 <- coeftest(out, vcov = vcovHC(out))\n",
    "  list(effect=out2[2,1], se=out2[2,2])\n",
    "}"
   ]
  },
  {
   "cell_type": "code",
   "execution_count": 17,
   "metadata": {},
   "outputs": [],
   "source": [
    "# Compute confidence intervals and dots marking significant effects\n",
    "    reg_monthly_out <- apply(empl, 2, reg_monthly)\n",
    "      reg_monthly_out2 <- rbindlist(reg_monthly_out)\n",
    "      reg_monthly_out2$month <- rep(1:maxdur)\n",
    "      reg_monthly_out2$cil <- reg_monthly_out2$effect - 1.96*reg_monthly_out2$se\n",
    "      reg_monthly_out2$cih <- reg_monthly_out2$effect + 1.96*reg_monthly_out2$se\n",
    "      reg_monthly_out2$sig <- ifelse(abs(reg_monthly_out2$effect)\n",
    "                                /reg_monthly_out2$se>1.64, \n",
    "                                reg_monthly_out2$effect, NA)"
   ]
  },
  {
   "cell_type": "code",
   "execution_count": 18,
   "metadata": {},
   "outputs": [
    {
     "name": "stderr",
     "output_type": "stream",
     "text": [
      "Warning message:\n",
      "\"Removed 1 rows containing missing values (geom_point).\"\n"
     ]
    },
    {
     "data": {
      "image/png": "[encoded data removed]",
      "text/plain": [
       "plot without title"
      ]
     },
     "metadata": {
      "image/png": {
       "height": 420,
       "width": 420
      }
     },
     "output_type": "display_data"
    }
   ],
   "source": [
    "ggplot(reg_monthly_out2, aes(x = month, y = effect)) +\n",
    "  geom_point(aes(x = month, y = sig), shape = 18, size  = 3) +\n",
    "  geom_ribbon(aes(ymin  = cil, ymax  = cih), alpha=0.3) +\n",
    "  geom_line() +\n",
    "  theme_bw(base_size = 20) +\n",
    "  xlab(\"Months after program start\") +\n",
    "  ylab(\"Effect on employment rate (OLS)\") +\n",
    "  geom_hline(yintercept = 0, linetype=\"dashed\") "
   ]
  },
  {
   "cell_type": "markdown",
   "metadata": {},
   "source": [
    "What does this pattern suggest?"
   ]
  },
  {
   "cell_type": "code",
   "execution_count": null,
   "metadata": {},
   "outputs": [],
   "source": []
  }
 ],
 "metadata": {
  "kernelspec": {
   "display_name": "R",
   "language": "R",
   "name": "ir"
  },
  "language_info": {
   "codemirror_mode": "r",
   "file_extension": ".r",
   "mimetype": "text/x-r-source",
   "name": "R",
   "pygments_lexer": "r",
   "version": "3.6.1"
  }
 },
 "nbformat": 4,
 "nbformat_minor": 2
}
