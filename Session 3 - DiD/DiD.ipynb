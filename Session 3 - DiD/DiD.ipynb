{
 "cells": [
  {
   "cell_type": "markdown",
   "metadata": {},
   "source": [
    "**Applied Empirical Analysis (HS 2020)**\n",
    "\n",
    "**Conny Wunsch, Ulrike Unterhofer and Véra Zabrodina** -- University of Basel\n",
    "\n",
    "***\n",
    "\n",
    "# Lab Session 4 - Difference-in-Differences (DiD)\n",
    "\n",
    "***\n",
    "\n",
    "Key ingredients for a DiD design\n",
    "* Reform or treatment introduced at time $t$ for eligible units (treated), not for others (control).\n",
    "* Data on outcomes for at least one period before, and one after treatment.\n",
    "* DiD is based on the idea that the difference in outcomes between treated ($D = 1$) and control ($D = 0$) units in the pre-treatment period ($T = 0$) can be used to estimate selection bias\n",
    "* This difference can then be subtracted from the difference in outcomes between treated and control units in the post-treatment period ($T = 1$).\n",
    "\n",
    "![](./DID_HP.JPG)"
   ]
  },
  {
   "cell_type": "markdown",
   "metadata": {},
   "source": [
    "## Application: The Arrival of Fast Internet and Employment in Africa\n",
    "**Jonas Hjort and Jonas Poulsen, American Economic Review 2019**\n"
   ]
  },
  {
   "cell_type": "markdown",
   "metadata": {},
   "source": [
    "## 1. Introduction\n",
    "\n",
    "* What is the research question?\n",
    "* Why is it interesting?\n",
    "* What is the treatment? The outcome(s) of interest? \n",
    "* Why can you not just regress the outcome on the treatment, i.e. what is the endogeneity problem? \n",
    "\n",
    "\n",
    "In this replication, we focus on South African Quarterly Labour Force Survey data. Simplest setup, based on individuals' location rather than grid cell. \n",
    "\n"
   ]
  },
  {
   "cell_type": "markdown",
   "metadata": {},
   "source": [
    "***\n",
    "\n",
    "## 2. Identification strategy and assumptions\n",
    "\n",
    "\n",
    "\n",
    "### Setup and notation\n",
    "\n",
    "Exploit connection to fast Internet via submarine cables over time. \n",
    "\n",
    "**Treatment** is not connection to Internet, rather *faster* Internet connection. The authors provide suggestive evidence that submarine cables did increase Internet speed in some countries.\n",
    "\n",
    "\n",
    "Compare individuals who are close vs. far from the backbone network (existing, within-country Internet network). \n",
    "\n",
    "* **Treated group ($D_{i} = 1$):** individuals situated in a location (enumeration area) that lies within 500m of backbone network. \n",
    "* **Control group ($D_{i} = 0$):** individuals who are further than 500m away (but no more than 10km).\n",
    "* **Treatment period ($T = 1$):** South Africa connected to submarine cables in 2009Q3.\n",
    "\n",
    "\n",
    "\n",
    "Treatment defined at location, and not on individual level (no information on \"last-mile\" infrastructure, i.e. do not know exact individual connection status -- intention to treat?).  \n",
    "\n",
    "* Location 1: Treated, centroid within 500m of backbone network\n",
    "* Location 2: Control, further than 500m \n",
    "* Location 3: Excluded, more than 10km away \n",
    "\n",
    "\n",
    "![](./Figure1.JPG)\n",
    "\n",
    "\n",
    "\n",
    "| Observed outcomes | Unobserved (counterfactual) outcomes |\n",
    "|----:|----:|\n",
    "| $Y^*_{0,0}$ for $T=0$ and $D_{i}=0$ | $Y^*_{1,0}$ for $T=0$ and $D_{i}=0$ |\n",
    "| $Y^*_{1,0}$ for $T=0$ and $D_{i}=1$ | $Y^*_{0,0}$ for $T=0$ and $D_{i}=1$ |\n",
    "| $Y^*_{0,1}$ for $T=1$ and $D_{i}=0$ | $Y^*_{1,1}$ for $T=1$ and $D_{i}=0$ | \n",
    "| $Y^*_{1,1}$ for $T=1$ and $D_{i}=1$ | $Y^*_{0,1}$ for $T=1$ and $D_{i}=1$ |\n",
    "\n",
    "\n",
    "\n",
    "\n",
    "### Discussion of identifying assumptions\n",
    "\n",
    "* What do these assumptions mean in words?\n",
    "* What could invalidate them? Think of concrete examples or mechanisms.\n",
    "* Which arguments or empirical evidence can you provide to support that they hold?\n",
    "\n",
    "\n",
    "**A1: Stable unit treatment value assumption (SUTVA)**\n",
    "\n",
    "$Y_{i,t}=D_{i}Y^*_{1,t}+(1-D_{i})Y^*_{0,t}$\n",
    "\n",
    "\n",
    "**A2: No anticipation assumption**\n",
    "\n",
    "No effect of the treatment in the pre-treatment period, conditional on $D$.\n",
    "\n",
    "${\\rm E}[Y^*_{1,0}-Y^*_{0,0}|D=0]={\\rm E}[Y^*_{1,0}-Y^*_{0,0}|D=1]=0$\n",
    "\n",
    "\n",
    "**A3: Common trend assumption**\n",
    "\n",
    "The potential outcomes of the treated and controls follow the same time trend in the absence of the reform.\n",
    "\n",
    "${\\rm E}[Y^*_{0,1}-Y^*_{0,0}|D=0]={\\rm E}[Y^*_{0,1}-Y^*_{0,0}|D=1]$\n",
    "\n",
    "\n",
    "**What about covariates?**\n",
    "\n",
    "Here, essentially do not use covariates for identification, only for robustness checks. \n",
    "\n",
    "Use location fixed effects to control for any time-invariant differences in employment outcomes that may be correlated with access to fast Internet.\n",
    "\n",
    "\n",
    "### South Africa vs. other countries in the study\n",
    "\n",
    "* Location vs. grid-cell fixed effects.\n",
    "* Only one period where treatment was introduced (same for all treated individuals, no straggered introduction).\n",
    "* No need for country fixed effects.\n",
    "\n",
    "\n"
   ]
  },
  {
   "cell_type": "markdown",
   "metadata": {},
   "source": [
    "***\n",
    "\n",
    "## 3. Empirical Analysis\n",
    "\n",
    "### Load packages"
   ]
  },
  {
   "cell_type": "code",
   "execution_count": null,
   "metadata": {},
   "outputs": [],
   "source": [
    "rm(list=ls())\n",
    "options(repr.plot.width=8, repr.plot.height=5)\n",
    "\n",
    "packages_vector <- c(\"tidyverse\", \"foreign\", \"haven\", \"Hmisc\", \n",
    "                     \"dplyr\", \"tidyr\", \"stringr\", \"dummies\", \n",
    "                     \"sandwich\", \"lmtest\", \"expss\", \"fastDummies\", \n",
    "                     \"psych\", \"fBasics\", \"knitr\", \"xtable\", \n",
    "                     \"sjlabelled\", \"data.table\", \"lubridate\", \n",
    "                     \"arsenal\", \"stargazer\", \"mfx\", \"jtools\")\n",
    "lapply(packages_vector, require, character.only = TRUE) \n",
    "\n",
    "# DiD-specific packages \n",
    "packaged_vector_did <- c(\"fixest\")\n",
    "lapply(packaged_vector_did, require, character.only = TRUE) \n",
    "\n",
    "# List loaded packages \n",
    "(.packages())\n",
    "\n",
    "print('All packages successfully installed and loaded.')"
   ]
  },
  {
   "cell_type": "markdown",
   "metadata": {},
   "source": [
    "### Data\n",
    "\n",
    "\n",
    "South African Quarterly Labour Force Survey. \n",
    "\n",
    "|variable name |   description |\n",
    "|----:|----:|\n",
    "| location       |  Location ID (enumeration area)   |\n",
    "| quarter        |  Quarter (YYYYQ)   |\n",
    "| time           |  Time (normalized to period before treatment, 2009Q2)   |\n",
    "| distance       |  Distance in meters (111.32m = 0.001 decimal degree)   |\n",
    "| employed       |  Employment (0/1)   |\n",
    "| skilled        |  Skilled   |\n",
    "| hoursworked    |  Hours worked   |\n",
    "| loghours       |  Hours worked (asinh)   |\n",
    "| workmore       |  Wants to work more (0/1)   |\n",
    "| formal         |  Formal employment (0/1)   |\n",
    "| informal       |  Informal employment (0/1)   |\n",
    "| distance_road  |  Distance to road   |\n",
    "| distance_elec  |  Distance to electricity |\n",
    "\n",
    "* What is the unit of observation? \n",
    "\n",
    "* What is the time unit? \n",
    "\n",
    "* Are there more than two periods? \n",
    "\n",
    "* Are the data panel or cross-sectional? \n",
    "\n"
   ]
  },
  {
   "cell_type": "code",
   "execution_count": 30,
   "metadata": {
    "scrolled": true
   },
   "outputs": [
    {
     "data": {
      "text/html": [
       "<table>\n",
       "<caption>A data.frame: 6 × 13</caption>\n",
       "<thead>\n",
       "\t<tr><th></th><th scope=col>location</th><th scope=col>quarter</th><th scope=col>time</th><th scope=col>distance</th><th scope=col>employed</th><th scope=col>skilled</th><th scope=col>hoursworked</th><th scope=col>loghours</th><th scope=col>workmore</th><th scope=col>formal</th><th scope=col>informal</th><th scope=col>distance_road</th><th scope=col>distance_elec</th></tr>\n",
       "\t<tr><th></th><th scope=col>&lt;dbl&gt;</th><th scope=col>&lt;dbl&gt;</th><th scope=col>&lt;dbl&gt;</th><th scope=col>&lt;dbl&gt;</th><th scope=col>&lt;dbl&gt;</th><th scope=col>&lt;dbl&gt;</th><th scope=col>&lt;dbl&gt;</th><th scope=col>&lt;dbl&gt;</th><th scope=col>&lt;dbl&gt;</th><th scope=col>&lt;dbl&gt;</th><th scope=col>&lt;dbl&gt;</th><th scope=col>&lt;dbl&gt;</th><th scope=col>&lt;dbl&gt;</th></tr>\n",
       "</thead>\n",
       "<tbody>\n",
       "\t<tr><th scope=row>1</th><td>10100017</td><td>20094</td><td>2</td><td>8810.14</td><td>1</td><td>0</td><td>45</td><td>4.499933</td><td>1</td><td>0</td><td>0</td><td>377.4297</td><td>14581.37</td></tr>\n",
       "\t<tr><th scope=row>2</th><td>10100017</td><td>20094</td><td>2</td><td>8810.14</td><td>1</td><td>0</td><td>27</td><td>3.989327</td><td>1</td><td>0</td><td>0</td><td>377.4297</td><td>14581.37</td></tr>\n",
       "\t<tr><th scope=row>3</th><td>10100017</td><td>20094</td><td>2</td><td>8810.14</td><td>1</td><td>0</td><td>36</td><td>4.276859</td><td>1</td><td>0</td><td>0</td><td>377.4297</td><td>14581.37</td></tr>\n",
       "\t<tr><th scope=row>4</th><td>10100017</td><td>20094</td><td>2</td><td>8810.14</td><td>1</td><td>0</td><td>45</td><td>4.499933</td><td>1</td><td>0</td><td>0</td><td>377.4297</td><td>14581.37</td></tr>\n",
       "\t<tr><th scope=row>5</th><td>10100017</td><td>20094</td><td>2</td><td>8810.14</td><td>1</td><td>0</td><td>45</td><td>4.499933</td><td>1</td><td>0</td><td>0</td><td>377.4297</td><td>14581.37</td></tr>\n",
       "\t<tr><th scope=row>6</th><td>10100017</td><td>20094</td><td>2</td><td>8810.14</td><td>1</td><td>1</td><td>60</td><td>4.787561</td><td>0</td><td>0</td><td>0</td><td>377.4297</td><td>14581.37</td></tr>\n",
       "</tbody>\n",
       "</table>\n"
      ],
      "text/latex": [
       "A data.frame: 6 × 13\n",
       "\\begin{tabular}{r|lllllllllllll}\n",
       "  & location & quarter & time & distance & employed & skilled & hoursworked & loghours & workmore & formal & informal & distance\\_road & distance\\_elec\\\\\n",
       "  & <dbl> & <dbl> & <dbl> & <dbl> & <dbl> & <dbl> & <dbl> & <dbl> & <dbl> & <dbl> & <dbl> & <dbl> & <dbl>\\\\\n",
       "\\hline\n",
       "\t1 & 10100017 & 20094 & 2 & 8810.14 & 1 & 0 & 45 & 4.499933 & 1 & 0 & 0 & 377.4297 & 14581.37\\\\\n",
       "\t2 & 10100017 & 20094 & 2 & 8810.14 & 1 & 0 & 27 & 3.989327 & 1 & 0 & 0 & 377.4297 & 14581.37\\\\\n",
       "\t3 & 10100017 & 20094 & 2 & 8810.14 & 1 & 0 & 36 & 4.276859 & 1 & 0 & 0 & 377.4297 & 14581.37\\\\\n",
       "\t4 & 10100017 & 20094 & 2 & 8810.14 & 1 & 0 & 45 & 4.499933 & 1 & 0 & 0 & 377.4297 & 14581.37\\\\\n",
       "\t5 & 10100017 & 20094 & 2 & 8810.14 & 1 & 0 & 45 & 4.499933 & 1 & 0 & 0 & 377.4297 & 14581.37\\\\\n",
       "\t6 & 10100017 & 20094 & 2 & 8810.14 & 1 & 1 & 60 & 4.787561 & 0 & 0 & 0 & 377.4297 & 14581.37\\\\\n",
       "\\end{tabular}\n"
      ],
      "text/markdown": [
       "\n",
       "A data.frame: 6 × 13\n",
       "\n",
       "| <!--/--> | location &lt;dbl&gt; | quarter &lt;dbl&gt; | time &lt;dbl&gt; | distance &lt;dbl&gt; | employed &lt;dbl&gt; | skilled &lt;dbl&gt; | hoursworked &lt;dbl&gt; | loghours &lt;dbl&gt; | workmore &lt;dbl&gt; | formal &lt;dbl&gt; | informal &lt;dbl&gt; | distance_road &lt;dbl&gt; | distance_elec &lt;dbl&gt; |\n",
       "|---|---|---|---|---|---|---|---|---|---|---|---|---|---|\n",
       "| 1 | 10100017 | 20094 | 2 | 8810.14 | 1 | 0 | 45 | 4.499933 | 1 | 0 | 0 | 377.4297 | 14581.37 |\n",
       "| 2 | 10100017 | 20094 | 2 | 8810.14 | 1 | 0 | 27 | 3.989327 | 1 | 0 | 0 | 377.4297 | 14581.37 |\n",
       "| 3 | 10100017 | 20094 | 2 | 8810.14 | 1 | 0 | 36 | 4.276859 | 1 | 0 | 0 | 377.4297 | 14581.37 |\n",
       "| 4 | 10100017 | 20094 | 2 | 8810.14 | 1 | 0 | 45 | 4.499933 | 1 | 0 | 0 | 377.4297 | 14581.37 |\n",
       "| 5 | 10100017 | 20094 | 2 | 8810.14 | 1 | 0 | 45 | 4.499933 | 1 | 0 | 0 | 377.4297 | 14581.37 |\n",
       "| 6 | 10100017 | 20094 | 2 | 8810.14 | 1 | 1 | 60 | 4.787561 | 0 | 0 | 0 | 377.4297 | 14581.37 |\n",
       "\n"
      ],
      "text/plain": [
       "  location quarter time distance employed skilled hoursworked loghours workmore\n",
       "1 10100017 20094   2    8810.14  1        0       45          4.499933 1       \n",
       "2 10100017 20094   2    8810.14  1        0       27          3.989327 1       \n",
       "3 10100017 20094   2    8810.14  1        0       36          4.276859 1       \n",
       "4 10100017 20094   2    8810.14  1        0       45          4.499933 1       \n",
       "5 10100017 20094   2    8810.14  1        0       45          4.499933 1       \n",
       "6 10100017 20094   2    8810.14  1        1       60          4.787561 0       \n",
       "  formal informal distance_road distance_elec\n",
       "1 0      0        377.4297      14581.37     \n",
       "2 0      0        377.4297      14581.37     \n",
       "3 0      0        377.4297      14581.37     \n",
       "4 0      0        377.4297      14581.37     \n",
       "5 0      0        377.4297      14581.37     \n",
       "6 0      0        377.4297      14581.37     "
      ]
     },
     "metadata": {},
     "output_type": "display_data"
    }
   ],
   "source": [
    "data <- as.data.frame(read_dta(\"data.dta\")) \n",
    "\n",
    "head(data)"
   ]
  },
  {
   "cell_type": "markdown",
   "metadata": {},
   "source": [
    "***\n",
    "\n",
    "## Descriptive statistics and validity checks\n",
    "\n",
    "### Create and summarize DiD variables\n",
    "\n",
    "Preferred connection radius is of 556.6m, i.e. 0.005 decimal degrees. "
   ]
  },
  {
   "cell_type": "code",
   "execution_count": 31,
   "metadata": {},
   "outputs": [
    {
     "name": "stderr",
     "output_type": "stream",
     "text": [
      "The following objects are masked from data (pos = 3):\n",
      "\n",
      "    connected, distance, distance_elec, distance_road, employed,\n",
      "    formal, hoursworked, informal, location, loghours, quarter,\n",
      "    skilled, submarines, time, treatment, workmore\n",
      "\n",
      "\n"
     ]
    }
   ],
   "source": [
    "# Treated group variable\n",
    "radius <- 556.6 \n",
    "data$connected <- ifelse(data$distance <= radius, 1, 0)\n",
    "\n",
    "# Treatment period variable (after 2009Q3)\n",
    "data$submarines <- ifelse(data$quarter >= 20093, 1, 0)\n",
    "\n",
    "# Treatment variable (treated x post)\n",
    "data$treatment <- data$connected * data$submarines\n",
    "\n",
    "did_vars <- c(\"connected\", \"submarines\", \"treatment\")\n",
    "\n",
    "# Attach data \n",
    "attach(data)"
   ]
  },
  {
   "cell_type": "markdown",
   "metadata": {},
   "source": [
    "Share of treated and control, before and after treatment"
   ]
  },
  {
   "cell_type": "code",
   "execution_count": 32,
   "metadata": {},
   "outputs": [
    {
     "data": {
      "text/html": [
       "<table>\n",
       "<caption>A data.frame: 3 × 5</caption>\n",
       "<thead>\n",
       "\t<tr><th></th><th scope=col>Mean</th><th scope=col>Stdev</th><th scope=col>Minimum</th><th scope=col>Maximum</th><th scope=col>nobs</th></tr>\n",
       "\t<tr><th></th><th scope=col>&lt;dbl&gt;</th><th scope=col>&lt;dbl&gt;</th><th scope=col>&lt;dbl&gt;</th><th scope=col>&lt;dbl&gt;</th><th scope=col>&lt;dbl&gt;</th></tr>\n",
       "</thead>\n",
       "<tbody>\n",
       "\t<tr><th scope=row>connected</th><td>0.138878</td><td>0.34582</td><td>0</td><td>1</td><td>173519</td></tr>\n",
       "\t<tr><th scope=row>submarines</th><td>0.000000</td><td>0.00000</td><td>0</td><td>0</td><td>173519</td></tr>\n",
       "\t<tr><th scope=row>treatment</th><td>0.000000</td><td>0.00000</td><td>0</td><td>0</td><td>173519</td></tr>\n",
       "</tbody>\n",
       "</table>\n"
      ],
      "text/latex": [
       "A data.frame: 3 × 5\n",
       "\\begin{tabular}{r|lllll}\n",
       "  & Mean & Stdev & Minimum & Maximum & nobs\\\\\n",
       "  & <dbl> & <dbl> & <dbl> & <dbl> & <dbl>\\\\\n",
       "\\hline\n",
       "\tconnected & 0.138878 & 0.34582 & 0 & 1 & 173519\\\\\n",
       "\tsubmarines & 0.000000 & 0.00000 & 0 & 0 & 173519\\\\\n",
       "\ttreatment & 0.000000 & 0.00000 & 0 & 0 & 173519\\\\\n",
       "\\end{tabular}\n"
      ],
      "text/markdown": [
       "\n",
       "A data.frame: 3 × 5\n",
       "\n",
       "| <!--/--> | Mean &lt;dbl&gt; | Stdev &lt;dbl&gt; | Minimum &lt;dbl&gt; | Maximum &lt;dbl&gt; | nobs &lt;dbl&gt; |\n",
       "|---|---|---|---|---|---|\n",
       "| connected | 0.138878 | 0.34582 | 0 | 1 | 173519 |\n",
       "| submarines | 0.000000 | 0.00000 | 0 | 0 | 173519 |\n",
       "| treatment | 0.000000 | 0.00000 | 0 | 0 | 173519 |\n",
       "\n"
      ],
      "text/plain": [
       "           Mean     Stdev   Minimum Maximum nobs  \n",
       "connected  0.138878 0.34582 0       1       173519\n",
       "submarines 0.000000 0.00000 0       0       173519\n",
       "treatment  0.000000 0.00000 0       0       173519"
      ]
     },
     "metadata": {},
     "output_type": "display_data"
    }
   ],
   "source": [
    "# DiD variables, before treatment is introduced\n",
    "desc_before <- dplyr::filter(data, data$submarines==0) \n",
    "fBasics::basicStats(desc_before[did_vars]) %>% \n",
    "            t() %>% \n",
    "            as.data.frame() %>% \n",
    "            dplyr::select(Mean, Stdev, Minimum, Maximum, nobs)"
   ]
  },
  {
   "cell_type": "code",
   "execution_count": 33,
   "metadata": {},
   "outputs": [
    {
     "data": {
      "text/html": [
       "<table>\n",
       "<caption>A data.frame: 3 × 5</caption>\n",
       "<thead>\n",
       "\t<tr><th></th><th scope=col>Mean</th><th scope=col>Stdev</th><th scope=col>Minimum</th><th scope=col>Maximum</th><th scope=col>nobs</th></tr>\n",
       "\t<tr><th></th><th scope=col>&lt;dbl&gt;</th><th scope=col>&lt;dbl&gt;</th><th scope=col>&lt;dbl&gt;</th><th scope=col>&lt;dbl&gt;</th><th scope=col>&lt;dbl&gt;</th></tr>\n",
       "</thead>\n",
       "<tbody>\n",
       "\t<tr><th scope=row>connected</th><td>0.138972</td><td>0.345919</td><td>0</td><td>1</td><td>107122</td></tr>\n",
       "\t<tr><th scope=row>submarines</th><td>1.000000</td><td>0.000000</td><td>1</td><td>1</td><td>107122</td></tr>\n",
       "\t<tr><th scope=row>treatment</th><td>0.138972</td><td>0.345919</td><td>0</td><td>1</td><td>107122</td></tr>\n",
       "</tbody>\n",
       "</table>\n"
      ],
      "text/latex": [
       "A data.frame: 3 × 5\n",
       "\\begin{tabular}{r|lllll}\n",
       "  & Mean & Stdev & Minimum & Maximum & nobs\\\\\n",
       "  & <dbl> & <dbl> & <dbl> & <dbl> & <dbl>\\\\\n",
       "\\hline\n",
       "\tconnected & 0.138972 & 0.345919 & 0 & 1 & 107122\\\\\n",
       "\tsubmarines & 1.000000 & 0.000000 & 1 & 1 & 107122\\\\\n",
       "\ttreatment & 0.138972 & 0.345919 & 0 & 1 & 107122\\\\\n",
       "\\end{tabular}\n"
      ],
      "text/markdown": [
       "\n",
       "A data.frame: 3 × 5\n",
       "\n",
       "| <!--/--> | Mean &lt;dbl&gt; | Stdev &lt;dbl&gt; | Minimum &lt;dbl&gt; | Maximum &lt;dbl&gt; | nobs &lt;dbl&gt; |\n",
       "|---|---|---|---|---|---|\n",
       "| connected | 0.138972 | 0.345919 | 0 | 1 | 107122 |\n",
       "| submarines | 1.000000 | 0.000000 | 1 | 1 | 107122 |\n",
       "| treatment | 0.138972 | 0.345919 | 0 | 1 | 107122 |\n",
       "\n"
      ],
      "text/plain": [
       "           Mean     Stdev    Minimum Maximum nobs  \n",
       "connected  0.138972 0.345919 0       1       107122\n",
       "submarines 1.000000 0.000000 1       1       107122\n",
       "treatment  0.138972 0.345919 0       1       107122"
      ]
     },
     "metadata": {},
     "output_type": "display_data"
    }
   ],
   "source": [
    "# DiD variables, after treatment is introduced\n",
    "desc_after <- dplyr::filter(data, data$submarines==1) \n",
    "fBasics::basicStats(desc_after[did_vars]) %>% \n",
    "            t() %>% \n",
    "            as.data.frame() %>% \n",
    "            dplyr::select(Mean, Stdev, Minimum, Maximum, nobs)"
   ]
  },
  {
   "cell_type": "code",
   "execution_count": 34,
   "metadata": {},
   "outputs": [
    {
     "data": {
      "text/html": [
       "<table class='gmisc_table' style='border-collapse: collapse; margin-top: 1em; margin-bottom: 1em;' >\n",
       "<thead>\n",
       "<tr>\n",
       "<th style='font-weight: 900; border-bottom: 1px solid grey; border-top: 2px solid grey; text-align: center;'></th>\n",
       "<th style='border-bottom: 1px solid grey; border-top: 2px solid grey; text-align: center;'></th>\n",
       "<th style='border-bottom: 1px solid grey; border-top: 2px solid grey; text-align: center;'>&nbsp;#Total&nbsp;</th>\n",
       "</tr>\n",
       "</thead>\n",
       "<tbody>\n",
       "<tr>\n",
       "<td style='text-align: left;'>&nbsp;Quarter (YYYYQ)&nbsp;</td>\n",
       "<td style='text-align: left;'>&nbsp;20081&nbsp;</td>\n",
       "<td style='text-align: right;'>29786</td>\n",
       "</tr>\n",
       "<tr>\n",
       "<td style='text-align: left;'></td>\n",
       "<td style='text-align: left;'>&nbsp;20082&nbsp;</td>\n",
       "<td style='text-align: right;'>29170</td>\n",
       "</tr>\n",
       "<tr>\n",
       "<td style='text-align: left;'></td>\n",
       "<td style='text-align: left;'>&nbsp;20083&nbsp;</td>\n",
       "<td style='text-align: right;'>28945</td>\n",
       "</tr>\n",
       "<tr>\n",
       "<td style='text-align: left;'></td>\n",
       "<td style='text-align: left;'>&nbsp;20084&nbsp;</td>\n",
       "<td style='text-align: right;'>28805</td>\n",
       "</tr>\n",
       "<tr>\n",
       "<td style='text-align: left;'></td>\n",
       "<td style='text-align: left;'>&nbsp;20091&nbsp;</td>\n",
       "<td style='text-align: right;'>28891</td>\n",
       "</tr>\n",
       "<tr>\n",
       "<td style='text-align: left;'></td>\n",
       "<td style='text-align: left;'>&nbsp;20092&nbsp;</td>\n",
       "<td style='text-align: right;'>27922</td>\n",
       "</tr>\n",
       "<tr>\n",
       "<td style='text-align: left;'></td>\n",
       "<td style='text-align: left;'>&nbsp;20093&nbsp;</td>\n",
       "<td style='text-align: right;'>26622</td>\n",
       "</tr>\n",
       "<tr>\n",
       "<td style='text-align: left;'></td>\n",
       "<td style='text-align: left;'>&nbsp;20094&nbsp;</td>\n",
       "<td style='text-align: right;'>26635</td>\n",
       "</tr>\n",
       "<tr>\n",
       "<td style='text-align: left;'></td>\n",
       "<td style='text-align: left;'>&nbsp;20101&nbsp;</td>\n",
       "<td style='text-align: right;'>26923</td>\n",
       "</tr>\n",
       "<tr>\n",
       "<td style='text-align: left;'></td>\n",
       "<td style='text-align: left;'>&nbsp;20102&nbsp;</td>\n",
       "<td style='text-align: right;'>26942</td>\n",
       "</tr>\n",
       "<tr>\n",
       "<td style='border-bottom: 2px solid grey; text-align: left;'></td>\n",
       "<td style='border-bottom: 2px solid grey; text-align: left;'>&nbsp;#Total cases&nbsp;</td>\n",
       "<td style='border-bottom: 2px solid grey; text-align: right;'>280641</td>\n",
       "</tr>\n",
       "</tbody>\n",
       "</table>"
      ],
      "text/latex": [
       "A etable: 11 × 2\n",
       "\\begin{tabular}{ll}\n",
       " row\\_labels & \\#Total\\\\\n",
       " <chr> & <dbl>\\\\\n",
       "\\hline\n",
       "\t Quarter (YYYYQ)\\textbar{}20081        &  29786\\\\\n",
       "\t Quarter (YYYYQ)\\textbar{}20082        &  29170\\\\\n",
       "\t Quarter (YYYYQ)\\textbar{}20083        &  28945\\\\\n",
       "\t Quarter (YYYYQ)\\textbar{}20084        &  28805\\\\\n",
       "\t Quarter (YYYYQ)\\textbar{}20091        &  28891\\\\\n",
       "\t Quarter (YYYYQ)\\textbar{}20092        &  27922\\\\\n",
       "\t Quarter (YYYYQ)\\textbar{}20093        &  26622\\\\\n",
       "\t Quarter (YYYYQ)\\textbar{}20094        &  26635\\\\\n",
       "\t Quarter (YYYYQ)\\textbar{}20101        &  26923\\\\\n",
       "\t Quarter (YYYYQ)\\textbar{}20102        &  26942\\\\\n",
       "\t Quarter (YYYYQ)\\textbar{}\\#Total cases & 280641\\\\\n",
       "\\end{tabular}\n"
      ],
      "text/markdown": [
       "\n",
       "A etable: 11 × 2\n",
       "\n",
       "| row_labels &lt;chr&gt; | #Total &lt;dbl&gt; |\n",
       "|---|---|\n",
       "| Quarter (YYYYQ)|20081        |  29786 |\n",
       "| Quarter (YYYYQ)|20082        |  29170 |\n",
       "| Quarter (YYYYQ)|20083        |  28945 |\n",
       "| Quarter (YYYYQ)|20084        |  28805 |\n",
       "| Quarter (YYYYQ)|20091        |  28891 |\n",
       "| Quarter (YYYYQ)|20092        |  27922 |\n",
       "| Quarter (YYYYQ)|20093        |  26622 |\n",
       "| Quarter (YYYYQ)|20094        |  26635 |\n",
       "| Quarter (YYYYQ)|20101        |  26923 |\n",
       "| Quarter (YYYYQ)|20102        |  26942 |\n",
       "| Quarter (YYYYQ)|#Total cases | 280641 |\n",
       "\n"
      ],
      "text/plain": [
       "                                            \n",
       " |                 |              | #Total |\n",
       " | --------------- | ------------ | ------ |\n",
       " | Quarter (YYYYQ) |        20081 |  29786 |\n",
       " |                 |        20082 |  29170 |\n",
       " |                 |        20083 |  28945 |\n",
       " |                 |        20084 |  28805 |\n",
       " |                 |        20091 |  28891 |\n",
       " |                 |        20092 |  27922 |\n",
       " |                 |        20093 |  26622 |\n",
       " |                 |        20094 |  26635 |\n",
       " |                 |        20101 |  26923 |\n",
       " |                 |        20102 |  26942 |\n",
       " |                 | #Total cases | 280641 |"
      ]
     },
     "metadata": {},
     "output_type": "display_data"
    }
   ],
   "source": [
    "# What periods we have - calendar\n",
    "cro(quarter)"
   ]
  },
  {
   "cell_type": "code",
   "execution_count": 35,
   "metadata": {},
   "outputs": [
    {
     "data": {
      "text/html": [
       "<table class='gmisc_table' style='border-collapse: collapse; margin-top: 1em; margin-bottom: 1em;' >\n",
       "<thead>\n",
       "<tr>\n",
       "<th style='font-weight: 900; border-bottom: 1px solid grey; border-top: 2px solid grey; text-align: center;'></th>\n",
       "<th style='border-bottom: 1px solid grey; border-top: 2px solid grey; text-align: center;'></th>\n",
       "<th style='border-bottom: 1px solid grey; border-top: 2px solid grey; text-align: center;'>&nbsp;#Total&nbsp;</th>\n",
       "</tr>\n",
       "</thead>\n",
       "<tbody>\n",
       "<tr>\n",
       "<td style='text-align: left;'>&nbsp;Time (normalized to period before treatment, 2009Q2)&nbsp;</td>\n",
       "<td style='text-align: left;'>&nbsp;-5&nbsp;</td>\n",
       "<td style='text-align: right;'>29786</td>\n",
       "</tr>\n",
       "<tr>\n",
       "<td style='text-align: left;'></td>\n",
       "<td style='text-align: left;'>&nbsp;-4&nbsp;</td>\n",
       "<td style='text-align: right;'>29170</td>\n",
       "</tr>\n",
       "<tr>\n",
       "<td style='text-align: left;'></td>\n",
       "<td style='text-align: left;'>&nbsp;-3&nbsp;</td>\n",
       "<td style='text-align: right;'>28945</td>\n",
       "</tr>\n",
       "<tr>\n",
       "<td style='text-align: left;'></td>\n",
       "<td style='text-align: left;'>&nbsp;-2&nbsp;</td>\n",
       "<td style='text-align: right;'>28805</td>\n",
       "</tr>\n",
       "<tr>\n",
       "<td style='text-align: left;'></td>\n",
       "<td style='text-align: left;'>&nbsp;-1&nbsp;</td>\n",
       "<td style='text-align: right;'>28891</td>\n",
       "</tr>\n",
       "<tr>\n",
       "<td style='text-align: left;'></td>\n",
       "<td style='text-align: left;'>&nbsp;0&nbsp;</td>\n",
       "<td style='text-align: right;'>27922</td>\n",
       "</tr>\n",
       "<tr>\n",
       "<td style='text-align: left;'></td>\n",
       "<td style='text-align: left;'>&nbsp;1&nbsp;</td>\n",
       "<td style='text-align: right;'>26622</td>\n",
       "</tr>\n",
       "<tr>\n",
       "<td style='text-align: left;'></td>\n",
       "<td style='text-align: left;'>&nbsp;2&nbsp;</td>\n",
       "<td style='text-align: right;'>26635</td>\n",
       "</tr>\n",
       "<tr>\n",
       "<td style='text-align: left;'></td>\n",
       "<td style='text-align: left;'>&nbsp;3&nbsp;</td>\n",
       "<td style='text-align: right;'>26923</td>\n",
       "</tr>\n",
       "<tr>\n",
       "<td style='text-align: left;'></td>\n",
       "<td style='text-align: left;'>&nbsp;4&nbsp;</td>\n",
       "<td style='text-align: right;'>26942</td>\n",
       "</tr>\n",
       "<tr>\n",
       "<td style='border-bottom: 2px solid grey; text-align: left;'></td>\n",
       "<td style='border-bottom: 2px solid grey; text-align: left;'>&nbsp;#Total cases&nbsp;</td>\n",
       "<td style='border-bottom: 2px solid grey; text-align: right;'>280641</td>\n",
       "</tr>\n",
       "</tbody>\n",
       "</table>"
      ],
      "text/latex": [
       "A etable: 11 × 2\n",
       "\\begin{tabular}{ll}\n",
       " row\\_labels & \\#Total\\\\\n",
       " <chr> & <dbl>\\\\\n",
       "\\hline\n",
       "\t Time (normalized to period before treatment, 2009Q2)\\textbar{}-5           &  29786\\\\\n",
       "\t Time (normalized to period before treatment, 2009Q2)\\textbar{}-4           &  29170\\\\\n",
       "\t Time (normalized to period before treatment, 2009Q2)\\textbar{}-3           &  28945\\\\\n",
       "\t Time (normalized to period before treatment, 2009Q2)\\textbar{}-2           &  28805\\\\\n",
       "\t Time (normalized to period before treatment, 2009Q2)\\textbar{}-1           &  28891\\\\\n",
       "\t Time (normalized to period before treatment, 2009Q2)\\textbar{}0            &  27922\\\\\n",
       "\t Time (normalized to period before treatment, 2009Q2)\\textbar{}1            &  26622\\\\\n",
       "\t Time (normalized to period before treatment, 2009Q2)\\textbar{}2            &  26635\\\\\n",
       "\t Time (normalized to period before treatment, 2009Q2)\\textbar{}3            &  26923\\\\\n",
       "\t Time (normalized to period before treatment, 2009Q2)\\textbar{}4            &  26942\\\\\n",
       "\t Time (normalized to period before treatment, 2009Q2)\\textbar{}\\#Total cases & 280641\\\\\n",
       "\\end{tabular}\n"
      ],
      "text/markdown": [
       "\n",
       "A etable: 11 × 2\n",
       "\n",
       "| row_labels &lt;chr&gt; | #Total &lt;dbl&gt; |\n",
       "|---|---|\n",
       "| Time (normalized to period before treatment, 2009Q2)|-5           |  29786 |\n",
       "| Time (normalized to period before treatment, 2009Q2)|-4           |  29170 |\n",
       "| Time (normalized to period before treatment, 2009Q2)|-3           |  28945 |\n",
       "| Time (normalized to period before treatment, 2009Q2)|-2           |  28805 |\n",
       "| Time (normalized to period before treatment, 2009Q2)|-1           |  28891 |\n",
       "| Time (normalized to period before treatment, 2009Q2)|0            |  27922 |\n",
       "| Time (normalized to period before treatment, 2009Q2)|1            |  26622 |\n",
       "| Time (normalized to period before treatment, 2009Q2)|2            |  26635 |\n",
       "| Time (normalized to period before treatment, 2009Q2)|3            |  26923 |\n",
       "| Time (normalized to period before treatment, 2009Q2)|4            |  26942 |\n",
       "| Time (normalized to period before treatment, 2009Q2)|#Total cases | 280641 |\n",
       "\n"
      ],
      "text/plain": [
       "                                                                                 \n",
       " |                                                      |              | #Total |\n",
       " | ---------------------------------------------------- | ------------ | ------ |\n",
       " | Time (normalized to period before treatment, 2009Q2) |           -5 |  29786 |\n",
       " |                                                      |           -4 |  29170 |\n",
       " |                                                      |           -3 |  28945 |\n",
       " |                                                      |           -2 |  28805 |\n",
       " |                                                      |           -1 |  28891 |\n",
       " |                                                      |            0 |  27922 |\n",
       " |                                                      |            1 |  26622 |\n",
       " |                                                      |            2 |  26635 |\n",
       " |                                                      |            3 |  26923 |\n",
       " |                                                      |            4 |  26942 |\n",
       " |                                                      | #Total cases | 280641 |"
      ]
     },
     "metadata": {},
     "output_type": "display_data"
    }
   ],
   "source": [
    "# Normalized time periods (to use in regressions)\n",
    "cro(time)"
   ]
  },
  {
   "cell_type": "markdown",
   "metadata": {},
   "source": [
    "### Summary statistics for employment outcomes by treatment group, before and after treatment\n",
    "\n"
   ]
  },
  {
   "cell_type": "code",
   "execution_count": 36,
   "metadata": {},
   "outputs": [],
   "source": [
    "outcomes<- dplyr::select(data, employed, skilled, hoursworked) \n",
    "outcomes_names <- colnames(outcomes) "
   ]
  },
  {
   "cell_type": "code",
   "execution_count": 37,
   "metadata": {},
   "outputs": [
    {
     "name": "stdout",
     "output_type": "stream",
     "text": [
      "[1] \"Average employment outcomes for treated and control, before and after treatment\"\n"
     ]
    },
    {
     "data": {
      "text/html": [
       "<!-- html table generated in R 3.6.1 by xtable 1.8-4 package --><!-- Mon Oct 26 11:11:42 2020 --><table border=1><tr> <th>  </th> <th> E(Y|D=0, T=0) </th> <th> E(Y|D=1, T=0) </th> <th> Difference </th> <th> s.e. </th> <th> p-value </th> <th> E(Y|D=0, T=1) </th> <th> E(Y|D=1, T=1) </th> <th> Difference </th> <th> s.e. </th> <th> p-value </th>  </tr>  <tr> <td align=\"right\"> employed </td> <td align=\"right\"> 0.72 </td> <td align=\"right\"> 0.77 </td> <td align=\"right\"> 0.05 </td> <td align=\"right\"> 0.00 </td> <td align=\"right\"> 0.00 </td> <td align=\"right\"> 0.68 </td> <td align=\"right\"> 0.74 </td> <td align=\"right\"> 0.06 </td> <td align=\"right\"> 0.00 </td> <td align=\"right\"> 0.00 </td> </tr>  <tr> <td align=\"right\"> skilled </td> <td align=\"right\"> 0.50 </td> <td align=\"right\"> 0.56 </td> <td align=\"right\"> 0.07 </td> <td align=\"right\"> 0.00 </td> <td align=\"right\"> 0.00 </td> <td align=\"right\"> 0.47 </td> <td align=\"right\"> 0.54 </td> <td align=\"right\"> 0.07 </td> <td align=\"right\"> 0.00 </td> <td align=\"right\"> 0.00 </td> </tr>  <tr> <td align=\"right\"> hoursworked </td> <td align=\"right\"> 44.68 </td> <td align=\"right\"> 44.35 </td> <td align=\"right\"> -0.33 </td> <td align=\"right\"> 0.11 </td> <td align=\"right\"> 0.00 </td> <td align=\"right\"> 44.26 </td> <td align=\"right\"> 44.17 </td> <td align=\"right\"> -0.08 </td> <td align=\"right\"> 0.13 </td> <td align=\"right\"> 0.53 </td> </tr>  <tr> <td align=\"right\"> Observations </td> <td align=\"right\"> 149421.00 </td> <td align=\"right\"> 24098.00 </td> <td align=\"right\">  </td> <td align=\"right\">  </td> <td align=\"right\">  </td> <td align=\"right\"> 92235.00 </td> <td align=\"right\"> 14887.00 </td> <td align=\"right\">  </td> <td align=\"right\">  </td> <td align=\"right\">  </td> </tr>   </table>"
      ],
      "text/latex": [
       "A xtable: 4 × 10\n",
       "\\begin{tabular}{r|llllllllll}\n",
       "  & E(Y\\textbar{}D=0, T=0) & E(Y\\textbar{}D=1, T=0) & Difference & s.e. & p-value & E(Y\\textbar{}D=0, T=1) & E(Y\\textbar{}D=1, T=1) & Difference & s.e. & p-value\\\\\n",
       "  & <dbl> & <dbl> & <dbl> & <dbl> & <dbl> & <dbl> & <dbl> & <dbl> & <dbl> & <dbl>\\\\\n",
       "\\hline\n",
       "\temployed & 7.192496e-01 & 7.670761e-01 &  0.04782647 & 0.002960699 & 1.068145e-58 & 6.792432e-01 & 7.353396e-01 &  0.05609632 & 0.003928737 & 2.981078e-46\\\\\n",
       "\tskilled & 4.956666e-01 & 5.607104e-01 &  0.06504383 & 0.003448819 & 2.444349e-79 & 4.704505e-01 & 5.374488e-01 &  0.06699830 & 0.004404540 & 2.980684e-52\\\\\n",
       "\thoursworked & 4.467553e+01 & 4.434924e+01 & -0.32629239 & 0.109030198 & 2.765404e-03 & 4.425850e+01 & 4.417471e+01 & -0.08379021 & 0.133735307 & 5.309623e-01\\\\\n",
       "\tObservations & 1.494210e+05 & 2.409800e+04 &          NA &          NA &           NA & 9.223500e+04 & 1.488700e+04 &          NA &          NA &           NA\\\\\n",
       "\\end{tabular}\n"
      ],
      "text/markdown": [
       "\n",
       "A xtable: 4 × 10\n",
       "\n",
       "| <!--/--> | E(Y|D=0, T=0) &lt;dbl&gt; | E(Y|D=1, T=0) &lt;dbl&gt; | Difference &lt;dbl&gt; | s.e. &lt;dbl&gt; | p-value &lt;dbl&gt; | E(Y|D=0, T=1) &lt;dbl&gt; | E(Y|D=1, T=1) &lt;dbl&gt; | Difference &lt;dbl&gt; | s.e. &lt;dbl&gt; | p-value &lt;dbl&gt; |\n",
       "|---|---|---|---|---|---|---|---|---|---|---|\n",
       "| employed | 7.192496e-01 | 7.670761e-01 |  0.04782647 | 0.002960699 | 1.068145e-58 | 6.792432e-01 | 7.353396e-01 |  0.05609632 | 0.003928737 | 2.981078e-46 |\n",
       "| skilled | 4.956666e-01 | 5.607104e-01 |  0.06504383 | 0.003448819 | 2.444349e-79 | 4.704505e-01 | 5.374488e-01 |  0.06699830 | 0.004404540 | 2.980684e-52 |\n",
       "| hoursworked | 4.467553e+01 | 4.434924e+01 | -0.32629239 | 0.109030198 | 2.765404e-03 | 4.425850e+01 | 4.417471e+01 | -0.08379021 | 0.133735307 | 5.309623e-01 |\n",
       "| Observations | 1.494210e+05 | 2.409800e+04 |          NA |          NA |           NA | 9.223500e+04 | 1.488700e+04 |          NA |          NA |           NA |\n",
       "\n"
      ],
      "text/plain": [
       "             E(Y|D=0, T=0) E(Y|D=1, T=0) Difference  s.e.        p-value     \n",
       "employed     7.192496e-01  7.670761e-01   0.04782647 0.002960699 1.068145e-58\n",
       "skilled      4.956666e-01  5.607104e-01   0.06504383 0.003448819 2.444349e-79\n",
       "hoursworked  4.467553e+01  4.434924e+01  -0.32629239 0.109030198 2.765404e-03\n",
       "Observations 1.494210e+05  2.409800e+04           NA          NA           NA\n",
       "             E(Y|D=0, T=1) E(Y|D=1, T=1) Difference  s.e.        p-value     \n",
       "employed     6.792432e-01  7.353396e-01   0.05609632 0.003928737 2.981078e-46\n",
       "skilled      4.704505e-01  5.374488e-01   0.06699830 0.004404540 2.980684e-52\n",
       "hoursworked  4.425850e+01  4.417471e+01  -0.08379021 0.133735307 5.309623e-01\n",
       "Observations 9.223500e+04  1.488700e+04           NA          NA           NA"
      ]
     },
     "metadata": {},
     "output_type": "display_data"
    }
   ],
   "source": [
    "# Function for table display\n",
    "repr_html.xtable <- function(obj, ...){\n",
    "    paste(capture.output(print(obj, type = 'html')), collapse=\"\", sep=\"\")\n",
    "}\n",
    "\n",
    "# Define a function estimating the differences in variables across D and T\n",
    "balance_check.model <- function(x){\n",
    "\n",
    "    # Conditional means\n",
    "    mean_d0_before <- mean(x[data$connected==0 & data$submarines==0], na.rm=TRUE) # filters out missings \n",
    "    mean_d1_before <- mean(x[data$connected==1 & data$submarines==0], na.rm=TRUE)\n",
    "    mean_d0_after <- mean(x[data$connected==0 & data$submarines==1], na.rm=TRUE) \n",
    "    mean_d1_after <- mean(x[data$connected==1 & data$submarines==1], na.rm=TRUE)\n",
    "    \n",
    "    # Difference in means before treatment\n",
    "    diff_before <- lm(x[submarines==0] ~ data$connected[submarines==0])\n",
    "    cov <- vcovHC(diff_before, type = \"HC\")\n",
    "    robust.se_before <- sqrt(diag(cov))\n",
    "    \n",
    "    # Difference in means after treatment\n",
    "    diff_after <- lm(x[submarines==1] ~ data$connected[submarines==1])\n",
    "    cov <- vcovHC(diff_after, type = \"HC\")\n",
    "    robust.se_after <- sqrt(diag(cov))\n",
    "    \n",
    "    list(mean_d0_before = mean_d0_before, \n",
    "         mean_d1_before = mean_d1_before,\n",
    "         diff_before = diff_before$coefficients[2], \n",
    "         robust.se_before = robust.se_before[2], \n",
    "         pval_before = 2*pnorm(-abs(diff_before$coefficients[2]/robust.se_before[2])), \n",
    "         mean_d0_after = mean_d0_after, \n",
    "         mean_d1_after = mean_d1_after,\n",
    "         diff_after = diff_after$coefficients[2], \n",
    "         robust.se_after = robust.se_after[2], \n",
    "         pval_after = 2*pnorm(-abs(diff_after$coefficients[2]/robust.se_after[2]))\n",
    "        )             \n",
    "}\n",
    "\n",
    "diff_output <- apply(outcomes, 2, balance_check.model)\n",
    "\n",
    "# convert list to table\n",
    "diff_output<-rbindlist(diff_output)\n",
    "\n",
    "\n",
    "# add a row with number of observations\n",
    "n_d0_before <- nrow(data[data$connected==0 & data$submarines==0,])\n",
    "n_d1_before <- nrow(data[data$connected==1 & data$submarines==0,])\n",
    "n_d0_after <- nrow(data[data$connected==0 & data$submarines==1,])\n",
    "n_d1_after <- nrow(data[data$connected==1 & data$submarines==1,])\n",
    "obs <-c(n_d0_before, n_d1_before, NA, NA, NA, n_d0_after, n_d1_after, NA, NA, NA)\n",
    "\n",
    "\n",
    "diff_output <- rbind(as.matrix(diff_output), obs)\n",
    "\n",
    "rownames(diff_output)<- c(outcomes_names, \"Observations\")\n",
    "colnames(diff_output)<- c(\"E(Y|D=0, T=0)\", \"E(Y|D=1, T=0)\", \n",
    "                          \"Difference\", \"s.e.\", \"p-value\", \n",
    "                          \"E(Y|D=0, T=1)\", \"E(Y|D=1, T=1)\", \n",
    "                          \"Difference\", \"s.e.\", \"p-value\")\n",
    "\n",
    "print(\"Average employment outcomes for treated and control, before and after treatment\")\n",
    "xtable(diff_output, digits=2)"
   ]
  },
  {
   "cell_type": "markdown",
   "metadata": {},
   "source": [
    "In HP, Table 1 shows summary statistics for the first quarter of observation only (before treatment, in 2008Q1)."
   ]
  },
  {
   "cell_type": "markdown",
   "metadata": {},
   "source": [
    "### Common trends graph\n",
    "\n",
    "Unadjusted means of the outcome variable by treatment group and quarter.\n",
    "\n",
    "Time normalized to pre-treatment period.\n",
    "\n",
    "Figure 6 of HP (with 2 additional periods before compared to paper!)"
   ]
  },
  {
   "cell_type": "code",
   "execution_count": 38,
   "metadata": {},
   "outputs": [
    {
     "name": "stderr",
     "output_type": "stream",
     "text": [
      "`summarise()` regrouping output by 'time' (override with `.groups` argument)\n",
      "\n"
     ]
    },
    {
     "data": {
      "image/png": "[encoded data removed]",
      "text/plain": [
       "plot without title"
      ]
     },
     "metadata": {
      "image/png": {
       "height": 300,
       "width": 480
      }
     },
     "output_type": "display_data"
    }
   ],
   "source": [
    "# Create a group-means data set\n",
    "common_trends <- data %>% \n",
    "                 group_by(time, connected) %>% \n",
    "                 summarise(empl_mean = mean(employed))\n",
    "\n",
    "common_trends$connected <- factor(common_trends$connected, \n",
    "                                  levels = c(0,1), \n",
    "                                  label = c(\"Connected = 0\", \n",
    "                                            \"Connected = 1\")) \n",
    "\n",
    "ggplot(data = common_trends, \n",
    "       aes(x = time, y = empl_mean, \n",
    "           group = connected, \n",
    "           color = connected)) + \n",
    "  geom_line() +\n",
    "  geom_vline(xintercept = 0.5, linetype=\"dashed\") +\n",
    "  scale_x_continuous(breaks = seq(-5, 4, by = 1)) +\n",
    "  theme_bw(base_size = 20)"
   ]
  },
  {
   "cell_type": "code",
   "execution_count": 39,
   "metadata": {},
   "outputs": [
    {
     "name": "stderr",
     "output_type": "stream",
     "text": [
      "`summarise()` regrouping output by 'time' (override with `.groups` argument)\n",
      "\n"
     ]
    },
    {
     "data": {
      "image/png": "[encoded data removed]",
      "text/plain": [
       "plot without title"
      ]
     },
     "metadata": {
      "image/png": {
       "height": 300,
       "width": 480
      }
     },
     "output_type": "display_data"
    }
   ],
   "source": [
    "# Alternative outcome -  log hours worked\n",
    "common_trends <- data %>% \n",
    "                 group_by(time, connected) %>% \n",
    "                 summarise(loghours_mean = mean(loghours))\n",
    "\n",
    "common_trends$connected <- factor(common_trends$connected, \n",
    "                                  levels = c(0,1), \n",
    "                                  label = c(\"Connected = 0\", \n",
    "                                            \"Connected = 1\")) \n",
    "\n",
    "ggplot(data = common_trends, \n",
    "       aes(x = time, y = loghours_mean, \n",
    "           group = connected, \n",
    "           color = connected)) + \n",
    "  geom_line() +\n",
    "  geom_vline(xintercept = 0.5, linetype=\"dashed\") +\n",
    "  scale_x_continuous(breaks = seq(-5, 4, by = 1)) +\n",
    "  theme_bw(base_size = 20) "
   ]
  },
  {
   "cell_type": "markdown",
   "metadata": {},
   "source": [
    "***\n",
    "\n",
    "## DiD effect estimation \n",
    "\n",
    "Using the `fixest` package. \n",
    "For more details, see https://cran.r-project.org/web/packages/fixest/vignettes/fixest_walkthrough.html\n",
    "\n",
    "\n",
    "![](./DID_HP.JPG)\n",
    "\n"
   ]
  },
  {
   "cell_type": "markdown",
   "metadata": {},
   "source": [
    "\n",
    "### (1) Simple DiD, without fixed effects\n",
    "\n",
    "\n",
    "$Y_{it} = \\alpha + \\delta Connected_i + \\gamma SubmarineCables_t + \\beta SubmarineCables_{t} \\times Connected_i + \\varepsilon_{it}$\n",
    "\n",
    "where $Y_{it}$ is the outcome for individual $i$ in a specific location at time $t$. \n",
    "\n",
    "* $E[Y_{it}| Connected_i = 0, SubmarineCables_t = 0] = \\alpha$\n",
    "* $E[Y_{it}| Connected_i = 1, SubmarineCables_t = 0] = \\alpha + \\delta $\n",
    "* $E[Y_{it}| Connected_i = 0, SubmarineCables_t = 1] = \\alpha + \\gamma $\n",
    "* $E[Y_{it}| Connected_i = 1, SubmarineCables_t = 1] = \\alpha + \\delta + \\gamma + \\beta $\n",
    "\n",
    "The effect of interest is: \n",
    "\n",
    "$$ \\beta = E[Y_{it}| Connected_i = 1, SubmarineCables_t = 1] - E[Y_{it}| Connected_i = 1, SubmarineCables_t = 0] - \\{ E[Y_{it}| Connected_i = 0, SubmarineCables_t = 1] - E[Y_{it}| Connected_i = 0, SubmarineCables_t = 0] \\}$$\n",
    "\n",
    "$$ = \\alpha + \\delta + \\gamma + \\beta - (\\alpha + \\delta) - \\{(\\alpha + \\gamma) - \\alpha\\} $$\n",
    "\n",
    "$$ = \\beta $$\n",
    "\n",
    "\n",
    "* No control variables in this application. Estimation by OLS corresponds to estimating non-parametric differences in means.\n",
    "\n",
    "\n",
    "* We cluster standard errors by location. \n",
    "\n",
    "This specification is not in HP. "
   ]
  },
  {
   "cell_type": "code",
   "execution_count": 40,
   "metadata": {
    "scrolled": true
   },
   "outputs": [
    {
     "data": {
      "text/plain": [
       "OLS estimation, Dep. Var.: employed\n",
       "Observations: 280,641 \n",
       "Standard-errors: Clustered (location) \n",
       "             Estimate Std. Error    t value  Pr(>|t|)    \n",
       "(Intercept)  0.719250   0.003752 191.690000 < 2.2e-16 ***\n",
       "connected    0.047826   0.009961   4.801500  1.58e-06 ***\n",
       "submarines  -0.040006   0.003892 -10.279000 < 2.2e-16 ***\n",
       "treatment    0.008270   0.010102   0.818624  0.413001    \n",
       "---\n",
       "Signif. codes:  0 '***' 0.001 '**' 0.01 '*' 0.05 '.' 0.1 ' ' 1\n",
       "Log-likelihood: -175,692.10   Adj. R2: 0.00325 "
      ]
     },
     "metadata": {},
     "output_type": "display_data"
    }
   ],
   "source": [
    "did1 <- feols(employed ~ connected + submarines + treatment, data)\n",
    "did1 <- summary(did1, cluster = \"location\")\n",
    "did1"
   ]
  },
  {
   "cell_type": "markdown",
   "metadata": {},
   "source": [
    "### (2) Simple DiD with quarter fixed effects only\n",
    "\n",
    "$Y_{it} =  \\delta Connected_i + \\gamma_t + \\beta SubmarineCables_{t} \\times Connected_i + \\varepsilon_{it}$\n",
    "\n",
    "\n",
    "* Quarter fixed effects $\\gamma_t$ absorb the $SubmarineCables_t$ variable, and the intercept. \n",
    "\n",
    "\n",
    "* We allow for differences in employment outcomes that vary across quarters but are common to connected and non-connected regions. \n",
    "\n",
    "\n",
    "* $\\beta$ still averages over the all post-treatment periods. We assume a homogeneous treatment effect across quarters.\n",
    "\n",
    "This specification is not in HP."
   ]
  },
  {
   "cell_type": "code",
   "execution_count": 41,
   "metadata": {
    "scrolled": true
   },
   "outputs": [
    {
     "data": {
      "text/plain": [
       "OLS estimation, Dep. Var.: employed\n",
       "Observations: 280,641 \n",
       "Fixed-effects: time: 10\n",
       "Standard-errors: Clustered (location) \n",
       "          Estimate Std. Error  t value   Pr(>|t|)    \n",
       "connected 0.047800   0.009959 4.799600 0.00000159 ***\n",
       "treatment 0.008235   0.010097 0.815655 0.41469800    \n",
       "---\n",
       "Signif. codes:  0 '***' 0.001 '**' 0.01 '*' 0.05 '.' 0.1 ' ' 1\n",
       "Log-likelihood: -175,640.83   Adj. R2: 0.00358 \n",
       "                            R2-Within: 0.00152 "
      ]
     },
     "metadata": {},
     "output_type": "display_data"
    }
   ],
   "source": [
    "did2 <- feols(employed ~ connected + treatment | time, data)\n",
    "did2 <- summary(did2, cluster = \"location\")\n",
    "did2"
   ]
  },
  {
   "cell_type": "markdown",
   "metadata": {},
   "source": [
    "### (3) Fixed effects with panel data, with quarter and location fixed effects \n",
    "\n",
    "Main specification in HP: Table 3, Panel A, column (3)\n",
    "\n",
    "$Y_{it} = \\delta_i + \\gamma_t + \\beta SubmarineCables_{t} \\times Connected_i + \\varepsilon_{it}$\n",
    "\n",
    "\n",
    "* Location fixed effects absorb the $Connected_i$ variable. \n",
    "\n",
    "\n",
    "* We allow for:\n",
    "    * differences across regions in the connected and non-connected areas that are constant across quarters and \n",
    "    * differences across quarters that are constant across regions.\n",
    "\n",
    "\n",
    "* We still assume treatement effect homogeneity:  $\\beta$ is constant for the post-treatment period and does not vary across regions.\n"
   ]
  },
  {
   "cell_type": "code",
   "execution_count": 42,
   "metadata": {
    "scrolled": false
   },
   "outputs": [
    {
     "data": {
      "text/plain": [
       "OLS estimation, Dep. Var.: employed\n",
       "Observations: 280,641 \n",
       "Fixed-effects: time: 10,  location: 3169\n",
       "Standard-errors: Clustered (location) \n",
       "          Estimate Std. Error t value Pr(>|t|)    \n",
       "treatment 0.021732   0.007919  2.7442 0.006066 ** \n",
       "---\n",
       "Signif. codes:  0 '***' 0.001 '**' 0.01 '*' 0.05 '.' 0.1 ' ' 1\n",
       "Log-likelihood: -155,278.62   Adj. R2: 0.12834 \n",
       "                            R2-Within: 6e-05 "
      ]
     },
     "metadata": {},
     "output_type": "display_data"
    }
   ],
   "source": [
    "did3 <- feols(employed ~ treatment | time + location, data)\n",
    "did3 <- summary(did3, cluster = \"location\")\n",
    "did3"
   ]
  },
  {
   "cell_type": "markdown",
   "metadata": {},
   "source": [
    "How high is the effect?\n",
    "\n",
    "* in percentage points\n",
    "\n",
    "* in percent\n",
    "\n",
    "Hint: the sample mean of the outcome is 0.72 (across all periods and treatment groups)."
   ]
  },
  {
   "cell_type": "markdown",
   "metadata": {},
   "source": [
    "### (4) Event study \n",
    "\n",
    "\n",
    "$Y_{i,t} = \\delta_i + \\gamma_t + \\sum_{j=-5}^{4}\\beta_j Time_j \\times Connected_{i} +\\varepsilon_{it}$\n",
    "\n",
    "* where the sum contains time x treated interaction terms over the observation period (`quarter = 2008Q1,..., 2010Q2`, `time =  -5,..., 4`), with the pre-treatment quarter 2009Q2 normalized the omitted reference 'category' (`time = 0`). The quarter-specific treatment effect is then $\\beta_j$.\n",
    "\n",
    "\n",
    "* Allows for changes in the treatment effect over time.\n",
    "\n",
    "\n",
    "* Serves to check plausibility of common trends and no anticipation assumptions. All coefficients on the leads of the treatment (pre-treatment) should not differ significantly from zero if CT holds. \n",
    "\n",
    "\n",
    "* Shows potential gradual bite of treatment effect after implementation. \n",
    "\n",
    "This specification is not shown in HP.\n",
    "\n",
    "The next 3 cells do not run on Binder!\n",
    "\n"
   ]
  },
  {
   "cell_type": "code",
   "execution_count": 43,
   "metadata": {},
   "outputs": [
    {
     "data": {
      "text/plain": [
       "OLS estimation, Dep. Var.: employed\n",
       "Observations: 280,641 \n",
       "Fixed-effects: time: 10,  location: 3169\n",
       "Standard-errors: Clustered (location) \n",
       "                    Estimate Std. Error   t value Pr(>|t|)    \n",
       "connected:time::-5  0.010123   0.010842  0.933768 0.350425    \n",
       "connected:time::-4  0.006469   0.011183  0.578427 0.562976    \n",
       "connected:time::-3 -0.012766   0.011028 -1.157600 0.247034    \n",
       "connected:time::-2 -0.002988   0.009781 -0.305522 0.759969    \n",
       "connected:time::-1 -0.001483   0.008600 -0.172410 0.863115    \n",
       "connected:time::1   0.008713   0.009372  0.929755 0.352499    \n",
       "connected:time::2   0.018491   0.010252  1.803700 0.071286 .  \n",
       "connected:time::3   0.032733   0.011132  2.940600 0.003276 ** \n",
       "connected:time::4   0.030942   0.011314  2.734800 0.006242 ** \n",
       "---\n",
       "Signif. codes:  0 '***' 0.001 '**' 0.01 '*' 0.05 '.' 0.1 ' ' 1\n",
       "Log-likelihood: -155,272.22   Adj. R2: 0.12835 \n",
       "                            R2-Within: 1e-04 "
      ]
     },
     "metadata": {},
     "output_type": "display_data"
    }
   ],
   "source": [
    "did4 <- feols(employed ~ connected::time(0) | time + location, data)\n",
    "did4 <- summary(did4, cluster = \"location\")\n",
    "did4"
   ]
  },
  {
   "cell_type": "code",
   "execution_count": 44,
   "metadata": {},
   "outputs": [
    {
     "data": {
      "image/png": "[encoded data removed]",
      "text/plain": [
       "Plot with title \"Effect on employed\""
      ]
     },
     "metadata": {
      "image/png": {
       "height": 300,
       "width": 480
      }
     },
     "output_type": "display_data"
    }
   ],
   "source": [
    "coefplot(did4) "
   ]
  },
  {
   "cell_type": "markdown",
   "metadata": {},
   "source": [
    "### Compare estimates"
   ]
  },
  {
   "cell_type": "code",
   "execution_count": 45,
   "metadata": {},
   "outputs": [
    {
     "data": {
      "text/html": [
       "<table>\n",
       "<caption>A data.frame: 21 × 4</caption>\n",
       "<thead>\n",
       "\t<tr><th></th><th scope=col>Standard DiD</th><th scope=col>Quarter FE</th><th scope=col>Location + quarter..</th><th scope=col>Event study</th></tr>\n",
       "\t<tr><th></th><th scope=col>&lt;fct&gt;</th><th scope=col>&lt;fct&gt;</th><th scope=col>&lt;fct&gt;</th><th scope=col>&lt;fct&gt;</th></tr>\n",
       "</thead>\n",
       "<tbody>\n",
       "\t<tr><th scope=row>(Intercept)</th><td>0.7192*** (0.003752)  </td><td>                    </td><td>                    </td><td>                    </td></tr>\n",
       "\t<tr><th scope=row>connected</th><td>0.04783*** (0.009961) </td><td>0.0478*** (0.009959)</td><td>                    </td><td>                    </td></tr>\n",
       "\t<tr><th scope=row>submarines</th><td>-0.04001*** (0.003892)</td><td>                    </td><td>                    </td><td>                    </td></tr>\n",
       "\t<tr><th scope=row>treatment</th><td>0.00827 (0.0101)      </td><td>0.008235 (0.0101)   </td><td>0.02173** (0.007919)</td><td>                    </td></tr>\n",
       "\t<tr><th scope=row>connected:time::-5</th><td>                      </td><td>                    </td><td>                    </td><td>0.01012 (0.01084)   </td></tr>\n",
       "\t<tr><th scope=row>connected:time::-4</th><td>                      </td><td>                    </td><td>                    </td><td>0.006469 (0.01118)  </td></tr>\n",
       "\t<tr><th scope=row>connected:time::-3</th><td>                      </td><td>                    </td><td>                    </td><td>-0.01277 (0.01103)  </td></tr>\n",
       "\t<tr><th scope=row>connected:time::-2</th><td>                      </td><td>                    </td><td>                    </td><td>-0.002988 (0.009781)</td></tr>\n",
       "\t<tr><th scope=row>connected:time::-1</th><td>                      </td><td>                    </td><td>                    </td><td>-0.001483 (0.0086)  </td></tr>\n",
       "\t<tr><th scope=row>connected:time::1</th><td>                      </td><td>                    </td><td>                    </td><td>0.008713 (0.009372) </td></tr>\n",
       "\t<tr><th scope=row>connected:time::2</th><td>                      </td><td>                    </td><td>                    </td><td>0.01849. (0.01025)  </td></tr>\n",
       "\t<tr><th scope=row>connected:time::3</th><td>                      </td><td>                    </td><td>                    </td><td>0.03273** (0.01113) </td></tr>\n",
       "\t<tr><th scope=row>connected:time::4</th><td>                      </td><td>                    </td><td>                    </td><td>0.03094** (0.01131) </td></tr>\n",
       "\t<tr><th scope=row>Fixed-Effects:</th><td>----------------------</td><td>--------------------</td><td>--------------------</td><td>--------------------</td></tr>\n",
       "\t<tr><th scope=row>time</th><td>No                    </td><td>Yes                 </td><td>Yes                 </td><td>Yes                 </td></tr>\n",
       "\t<tr><th scope=row>location</th><td>No                    </td><td>No                  </td><td>Yes                 </td><td>Yes                 </td></tr>\n",
       "\t<tr><th scope=row>___________________</th><td>______________________</td><td>____________________</td><td>____________________</td><td>____________________</td></tr>\n",
       "\t<tr><th scope=row>Observations</th><td>280,641               </td><td>280,641             </td><td>280,641             </td><td>280,641             </td></tr>\n",
       "\t<tr><th scope=row>S.E. type: Clustered</th><td>by: location          </td><td>by: location        </td><td>by: location        </td><td>by: location        </td></tr>\n",
       "\t<tr><th scope=row>R2</th><td>0.00326               </td><td>0.00362             </td><td>0.13821             </td><td>0.13825             </td></tr>\n",
       "\t<tr><th scope=row>Within R2</th><td>--                    </td><td>0.00152             </td><td>6e-05               </td><td>1e-04               </td></tr>\n",
       "</tbody>\n",
       "</table>\n"
      ],
      "text/latex": [
       "A data.frame: 21 × 4\n",
       "\\begin{tabular}{r|llll}\n",
       "  & Standard DiD & Quarter FE & Location + quarter.. & Event study\\\\\n",
       "  & <fct> & <fct> & <fct> & <fct>\\\\\n",
       "\\hline\n",
       "\t(Intercept) & 0.7192*** (0.003752)   &                      &                      &                     \\\\\n",
       "\tconnected & 0.04783*** (0.009961)  & 0.0478*** (0.009959) &                      &                     \\\\\n",
       "\tsubmarines & -0.04001*** (0.003892) &                      &                      &                     \\\\\n",
       "\ttreatment & 0.00827 (0.0101)       & 0.008235 (0.0101)    & 0.02173** (0.007919) &                     \\\\\n",
       "\tconnected:time::-5 &                        &                      &                      & 0.01012 (0.01084)   \\\\\n",
       "\tconnected:time::-4 &                        &                      &                      & 0.006469 (0.01118)  \\\\\n",
       "\tconnected:time::-3 &                        &                      &                      & -0.01277 (0.01103)  \\\\\n",
       "\tconnected:time::-2 &                        &                      &                      & -0.002988 (0.009781)\\\\\n",
       "\tconnected:time::-1 &                        &                      &                      & -0.001483 (0.0086)  \\\\\n",
       "\tconnected:time::1 &                        &                      &                      & 0.008713 (0.009372) \\\\\n",
       "\tconnected:time::2 &                        &                      &                      & 0.01849. (0.01025)  \\\\\n",
       "\tconnected:time::3 &                        &                      &                      & 0.03273** (0.01113) \\\\\n",
       "\tconnected:time::4 &                        &                      &                      & 0.03094** (0.01131) \\\\\n",
       "\tFixed-Effects: & ---------------------- & -------------------- & -------------------- & --------------------\\\\\n",
       "\ttime & No                     & Yes                  & Yes                  & Yes                 \\\\\n",
       "\tlocation & No                     & No                   & Yes                  & Yes                 \\\\\n",
       "\t\\_\\_\\_\\_\\_\\_\\_\\_\\_\\_\\_\\_\\_\\_\\_\\_\\_\\_\\_ & \\_\\_\\_\\_\\_\\_\\_\\_\\_\\_\\_\\_\\_\\_\\_\\_\\_\\_\\_\\_\\_\\_ & \\_\\_\\_\\_\\_\\_\\_\\_\\_\\_\\_\\_\\_\\_\\_\\_\\_\\_\\_\\_ & \\_\\_\\_\\_\\_\\_\\_\\_\\_\\_\\_\\_\\_\\_\\_\\_\\_\\_\\_\\_ & \\_\\_\\_\\_\\_\\_\\_\\_\\_\\_\\_\\_\\_\\_\\_\\_\\_\\_\\_\\_\\\\\n",
       "\tObservations & 280,641                & 280,641              & 280,641              & 280,641             \\\\\n",
       "\tS.E. type: Clustered & by: location           & by: location         & by: location         & by: location        \\\\\n",
       "\tR2 & 0.00326                & 0.00362              & 0.13821              & 0.13825             \\\\\n",
       "\tWithin R2 & --                     & 0.00152              & 6e-05                & 1e-04               \\\\\n",
       "\\end{tabular}\n"
      ],
      "text/markdown": [
       "\n",
       "A data.frame: 21 × 4\n",
       "\n",
       "| <!--/--> | Standard DiD &lt;fct&gt; | Quarter FE &lt;fct&gt; | Location + quarter.. &lt;fct&gt; | Event study &lt;fct&gt; |\n",
       "|---|---|---|---|---|\n",
       "| (Intercept) | 0.7192*** (0.003752)   | <!----> | <!----> | <!----> |\n",
       "| connected | 0.04783*** (0.009961)  | 0.0478*** (0.009959) | <!----> | <!----> |\n",
       "| submarines | -0.04001*** (0.003892) | <!----> | <!----> | <!----> |\n",
       "| treatment | 0.00827 (0.0101)       | 0.008235 (0.0101)    | 0.02173** (0.007919) | <!----> |\n",
       "| connected:time::-5 | <!----> | <!----> | <!----> | 0.01012 (0.01084)    |\n",
       "| connected:time::-4 | <!----> | <!----> | <!----> | 0.006469 (0.01118)   |\n",
       "| connected:time::-3 | <!----> | <!----> | <!----> | -0.01277 (0.01103)   |\n",
       "| connected:time::-2 | <!----> | <!----> | <!----> | -0.002988 (0.009781) |\n",
       "| connected:time::-1 | <!----> | <!----> | <!----> | -0.001483 (0.0086)   |\n",
       "| connected:time::1 | <!----> | <!----> | <!----> | 0.008713 (0.009372)  |\n",
       "| connected:time::2 | <!----> | <!----> | <!----> | 0.01849. (0.01025)   |\n",
       "| connected:time::3 | <!----> | <!----> | <!----> | 0.03273** (0.01113)  |\n",
       "| connected:time::4 | <!----> | <!----> | <!----> | 0.03094** (0.01131)  |\n",
       "| Fixed-Effects: | ---------------------- | -------------------- | -------------------- | -------------------- |\n",
       "| time | No                     | Yes                  | Yes                  | Yes                  |\n",
       "| location | No                     | No                   | Yes                  | Yes                  |\n",
       "| ___________________ | ______________________ | ____________________ | ____________________ | ____________________ |\n",
       "| Observations | 280,641                | 280,641              | 280,641              | 280,641              |\n",
       "| S.E. type: Clustered | by: location           | by: location         | by: location         | by: location         |\n",
       "| R2 | 0.00326                | 0.00362              | 0.13821              | 0.13825              |\n",
       "| Within R2 | --                     | 0.00152              | 6e-05                | 1e-04                |\n",
       "\n"
      ],
      "text/plain": [
       "                     Standard DiD           Quarter FE          \n",
       "(Intercept)          0.7192*** (0.003752)                       \n",
       "connected            0.04783*** (0.009961)  0.0478*** (0.009959)\n",
       "submarines           -0.04001*** (0.003892)                     \n",
       "treatment            0.00827 (0.0101)       0.008235 (0.0101)   \n",
       "connected:time::-5                                              \n",
       "connected:time::-4                                              \n",
       "connected:time::-3                                              \n",
       "connected:time::-2                                              \n",
       "connected:time::-1                                              \n",
       "connected:time::1                                               \n",
       "connected:time::2                                               \n",
       "connected:time::3                                               \n",
       "connected:time::4                                               \n",
       "Fixed-Effects:       ---------------------- --------------------\n",
       "time                 No                     Yes                 \n",
       "location             No                     No                  \n",
       "___________________  ______________________ ____________________\n",
       "Observations         280,641                280,641             \n",
       "S.E. type: Clustered by: location           by: location        \n",
       "R2                   0.00326                0.00362             \n",
       "Within R2            --                     0.00152             \n",
       "                     Location + quarter.. Event study         \n",
       "(Intercept)                                                   \n",
       "connected                                                     \n",
       "submarines                                                    \n",
       "treatment            0.02173** (0.007919)                     \n",
       "connected:time::-5                        0.01012 (0.01084)   \n",
       "connected:time::-4                        0.006469 (0.01118)  \n",
       "connected:time::-3                        -0.01277 (0.01103)  \n",
       "connected:time::-2                        -0.002988 (0.009781)\n",
       "connected:time::-1                        -0.001483 (0.0086)  \n",
       "connected:time::1                         0.008713 (0.009372) \n",
       "connected:time::2                         0.01849. (0.01025)  \n",
       "connected:time::3                         0.03273** (0.01113) \n",
       "connected:time::4                         0.03094** (0.01131) \n",
       "Fixed-Effects:       -------------------- --------------------\n",
       "time                 Yes                  Yes                 \n",
       "location             Yes                  Yes                 \n",
       "___________________  ____________________ ____________________\n",
       "Observations         280,641              280,641             \n",
       "S.E. type: Clustered by: location         by: location        \n",
       "R2                   0.13821              0.13825             \n",
       "Within R2            6e-05                1e-04               "
      ]
     },
     "metadata": {},
     "output_type": "display_data"
    }
   ],
   "source": [
    "etable(did1, did2, did3, did4, \n",
    "       cluster=\"location\", \n",
    "       subtitles = c(\"Standard DiD\", \"Quarter FE\", \n",
    "                     \"Location + quarter FE\", \"Event study\"))"
   ]
  },
  {
   "cell_type": "markdown",
   "metadata": {},
   "source": [
    "***\n",
    "\n",
    "## Extensions"
   ]
  },
  {
   "cell_type": "markdown",
   "metadata": {},
   "source": [
    "### Varying the assumed connection radius \n",
    "\n",
    "Figure 4 in HP\n",
    "\n",
    "The choice of 500m distance to define treated and control groups is arbitrary. Need to show that this choice makes sense, and varying this cutoff affects estimates in a sensible way (i.e. the effect decreases with distance). \n",
    "\n",
    "How do you expect the treatment effect estimate to change, if you increase the radius?\n",
    "\n",
    "Rerun specification (3) with alternative definitions of the treated/control groups. "
   ]
  },
  {
   "cell_type": "code",
   "execution_count": 46,
   "metadata": {},
   "outputs": [
    {
     "data": {
      "text/html": [
       "<table>\n",
       "<caption>A matrix: 17 × 1 of type dbl</caption>\n",
       "<tbody>\n",
       "\t<tr><td> 400</td></tr>\n",
       "\t<tr><td> 500</td></tr>\n",
       "\t<tr><td> 600</td></tr>\n",
       "\t<tr><td> 700</td></tr>\n",
       "\t<tr><td> 800</td></tr>\n",
       "\t<tr><td> 900</td></tr>\n",
       "\t<tr><td>1000</td></tr>\n",
       "\t<tr><td>1100</td></tr>\n",
       "\t<tr><td>1200</td></tr>\n",
       "\t<tr><td>1300</td></tr>\n",
       "\t<tr><td>1400</td></tr>\n",
       "\t<tr><td>1500</td></tr>\n",
       "\t<tr><td>1600</td></tr>\n",
       "\t<tr><td>1700</td></tr>\n",
       "\t<tr><td>1800</td></tr>\n",
       "\t<tr><td>1900</td></tr>\n",
       "\t<tr><td>2000</td></tr>\n",
       "</tbody>\n",
       "</table>\n"
      ],
      "text/latex": [
       "A matrix: 17 × 1 of type dbl\n",
       "\\begin{tabular}{l}\n",
       "\t  400\\\\\n",
       "\t  500\\\\\n",
       "\t  600\\\\\n",
       "\t  700\\\\\n",
       "\t  800\\\\\n",
       "\t  900\\\\\n",
       "\t 1000\\\\\n",
       "\t 1100\\\\\n",
       "\t 1200\\\\\n",
       "\t 1300\\\\\n",
       "\t 1400\\\\\n",
       "\t 1500\\\\\n",
       "\t 1600\\\\\n",
       "\t 1700\\\\\n",
       "\t 1800\\\\\n",
       "\t 1900\\\\\n",
       "\t 2000\\\\\n",
       "\\end{tabular}\n"
      ],
      "text/markdown": [
       "\n",
       "A matrix: 17 × 1 of type dbl\n",
       "\n",
       "|  400 |\n",
       "|  500 |\n",
       "|  600 |\n",
       "|  700 |\n",
       "|  800 |\n",
       "|  900 |\n",
       "| 1000 |\n",
       "| 1100 |\n",
       "| 1200 |\n",
       "| 1300 |\n",
       "| 1400 |\n",
       "| 1500 |\n",
       "| 1600 |\n",
       "| 1700 |\n",
       "| 1800 |\n",
       "| 1900 |\n",
       "| 2000 |\n",
       "\n"
      ],
      "text/plain": [
       "      [,1]\n",
       " [1,]  400\n",
       " [2,]  500\n",
       " [3,]  600\n",
       " [4,]  700\n",
       " [5,]  800\n",
       " [6,]  900\n",
       " [7,] 1000\n",
       " [8,] 1100\n",
       " [9,] 1200\n",
       "[10,] 1300\n",
       "[11,] 1400\n",
       "[12,] 1500\n",
       "[13,] 1600\n",
       "[14,] 1700\n",
       "[15,] 1800\n",
       "[16,] 1900\n",
       "[17,] 2000"
      ]
     },
     "metadata": {},
     "output_type": "display_data"
    }
   ],
   "source": [
    "# Define vector of radii\n",
    "radius_range <- as.matrix(seq(400, 2000, by=100))\n",
    "radius_range "
   ]
  },
  {
   "cell_type": "code",
   "execution_count": 47,
   "metadata": {},
   "outputs": [],
   "source": [
    "# Define function to estimate effect for each radius\n",
    "radius_vary <- function(r) {          \n",
    "  \n",
    "  if (is.numeric(r)) {\n",
    "\n",
    "    data$newconnected <- ifelse(distance <= r, 1, 0)\n",
    "    data$newtreatment <- data$newconnected * submarines\n",
    "\n",
    "    out <- feols(employed ~ newtreatment | time + location, data)\n",
    "    list(radius=r, effect=out$coeftable[[1,1]], se=out$coeftable[[1,2]])\n",
    "\n",
    "  } else {\n",
    "    print(\"ERROR - Radius must be numeric\")\n",
    "  }\n",
    "\n",
    "}\n",
    "\n",
    "# Run function over rows (1) of possible radii vector\n",
    "radius_out <- apply(radius_range, 1, radius_vary)"
   ]
  },
  {
   "cell_type": "code",
   "execution_count": 48,
   "metadata": {},
   "outputs": [
    {
     "name": "stderr",
     "output_type": "stream",
     "text": [
      "Warning message:\n",
      "\"Removed 6 rows containing missing values (geom_point).\"\n"
     ]
    },
    {
     "data": {
      "image/png": "[encoded data removed]",
      "text/plain": [
       "plot without title"
      ]
     },
     "metadata": {
      "image/png": {
       "height": 300,
       "width": 480
      }
     },
     "output_type": "display_data"
    }
   ],
   "source": [
    "# Plot estimates\n",
    "\n",
    "# convert list to table and create confidence intervals\n",
    "radius_table <- rbindlist(radius_out)\n",
    "radius_table$cil <- radius_table$effect - 1.96*radius_table$se\n",
    "radius_table$cih <- radius_table$effect + 1.96*radius_table$se\n",
    "radius_table$sig <- ifelse(abs(radius_table$effect)/radius_table$se>1.64, \n",
    "                           radius_table$effect, NA)\n",
    "\n",
    "ggplot(radius_table, aes(x = radius, y = effect)) +\n",
    "  geom_line() +\n",
    "  geom_point(aes(x = radius, y = sig), shape = 18, size  = 3) +\n",
    "  geom_errorbar(aes(ymin  = cil, ymax  = cih), width = 0.2, size  = 0.7) +\n",
    "  geom_hline(yintercept = 0, linetype=\"dashed\") + \n",
    "  theme_bw(base_size = 20) "
   ]
  },
  {
   "cell_type": "markdown",
   "metadata": {},
   "source": [
    "### Placebo effect of road and electricity infrastructure \n",
    "\n",
    "Table 4, column (5) in HP (here, no data on 3G connectivity)\n",
    "\n",
    "So far, no use of covariates that vary across time and locations.\n",
    "\n",
    "Connected locations are typically closer to other infrastructure (e.g. roads, electricity). If such infrastructure leads to systematically faster growth in employment, might misattribute effect of this infrastructure to fast Internet. \n",
    "\n",
    "Include 'placebo treatment' variables in specification (3), i.e. interaction terms between being connected to roads/electricity, and the arrival of submarine cables. "
   ]
  },
  {
   "cell_type": "code",
   "execution_count": 49,
   "metadata": {},
   "outputs": [
    {
     "data": {
      "text/plain": [
       "OLS estimation, Dep. Var.: employed\n",
       "Observations: 280,641 \n",
       "Fixed-effects: time: 10,  location: 3169\n",
       "Standard-errors: Clustered (location) \n",
       "                Estimate Std. Error   t value Pr(>|t|)    \n",
       "treatment       0.021410   0.007972  2.685800 0.007236 ** \n",
       "treatment_elec -0.012186   0.017042 -0.715064 0.474570    \n",
       "treatment_road  0.000471   0.005968  0.078978 0.937050    \n",
       "---\n",
       "Signif. codes:  0 '***' 0.001 '**' 0.01 '*' 0.05 '.' 0.1 ' ' 1\n",
       "Log-likelihood: -155,277.94   Adj. R2: 0.12833 \n",
       "                            R2-Within: 6e-05 "
      ]
     },
     "metadata": {},
     "output_type": "display_data"
    }
   ],
   "source": [
    "# Create road and electricity connected variables\n",
    "data$connected_elec <- ifelse(distance_elec <= radius, 1, 0)\n",
    "data$connected_road <- ifelse(distance_road <= radius, 1, 0)\n",
    "\n",
    "# Create placebo treatment variable (treated x post)\n",
    "data$treatment_elec <- data$connected_elec * submarines\n",
    "data$treatment_road <- data$connected_road * submarines\n",
    "\n",
    "# Fixed effects DiD estimation (with location fixed effects)\n",
    "out <- feols(employed ~ treatment \n",
    "                      + treatment_elec \n",
    "                      + treatment_road \n",
    "             | time + location, data)\n",
    "out <- summary(out, cluster = \"location\")\n",
    "out"
   ]
  },
  {
   "cell_type": "markdown",
   "metadata": {},
   "source": [
    "### Binary vs. continuous treatment "
   ]
  },
  {
   "cell_type": "markdown",
   "metadata": {},
   "source": [
    "What if the treatment was continuous instead of binary? "
   ]
  },
  {
   "cell_type": "code",
   "execution_count": 50,
   "metadata": {},
   "outputs": [],
   "source": [
    "options(jupyter.plot_mimetypes = c(\"text/plain\", \"image/png\" ))"
   ]
  }
 ],
 "metadata": {
  "kernelspec": {
   "display_name": "R",
   "language": "R",
   "name": "ir"
  },
  "language_info": {
   "codemirror_mode": "r",
   "file_extension": ".r",
   "mimetype": "text/x-r-source",
   "name": "R",
   "pygments_lexer": "r",
   "version": "3.6.1"
  }
 },
 "nbformat": 4,
 "nbformat_minor": 2
}
